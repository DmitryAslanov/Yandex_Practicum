{
 "cells": [
  {
   "cell_type": "markdown",
   "id": "5fb291b2",
   "metadata": {},
   "source": [
    "# Исследование надёжности заёмщиков"
   ]
  },
  {
   "cell_type": "markdown",
   "id": "7a28131f",
   "metadata": {},
   "source": [
    "В ходе исследования определим факторы влияющие на факт погашения кредита в срок. Ответим на следующие вопросы:\n",
    "\n",
    "- Есть ли зависимость между количеством детей и возвратом кредита в срок?\n",
    "\n",
    "- Есть ли зависимость между семейным положением и возвратом кредита в срок?\n",
    "\n",
    "- Есть ли зависимость между уровнем дохода и возвратом кредита в срок?\n",
    "\n",
    "- Как разные цели кредита влияют на его возврат в срок?\n",
    "\n",
    "Входные данные от банка — статистика о платёжеспособности клиентов. Результаты исследования необходимы для построения модели кредитного скоринга."
   ]
  },
  {
   "cell_type": "markdown",
   "id": "8682a73c",
   "metadata": {},
   "source": [
    "## Открытие файла с данными и изучение общей информации"
   ]
  },
  {
   "cell_type": "code",
   "execution_count": 1,
   "id": "09e3a1cb",
   "metadata": {},
   "outputs": [],
   "source": [
    "#импорт библиотек\n",
    "import pandas as pd "
   ]
  },
  {
   "cell_type": "code",
   "execution_count": 2,
   "id": "49967f00",
   "metadata": {},
   "outputs": [],
   "source": [
    "data=pd.read_csv('C:\\\\Users\\\\web\\\\Desktop\\\\Progect\\\\data (1).csv') "
   ]
  },
  {
   "cell_type": "code",
   "execution_count": 10,
   "id": "2f5d38f0",
   "metadata": {},
   "outputs": [
    {
     "data": {
      "text/html": [
       "<div>\n",
       "<style scoped>\n",
       "    .dataframe tbody tr th:only-of-type {\n",
       "        vertical-align: middle;\n",
       "    }\n",
       "\n",
       "    .dataframe tbody tr th {\n",
       "        vertical-align: top;\n",
       "    }\n",
       "\n",
       "    .dataframe thead th {\n",
       "        text-align: right;\n",
       "    }\n",
       "</style>\n",
       "<table border=\"1\" class=\"dataframe\">\n",
       "  <thead>\n",
       "    <tr style=\"text-align: right;\">\n",
       "      <th></th>\n",
       "      <th>children</th>\n",
       "      <th>days_employed</th>\n",
       "      <th>dob_years</th>\n",
       "      <th>education</th>\n",
       "      <th>education_id</th>\n",
       "      <th>family_status</th>\n",
       "      <th>family_status_id</th>\n",
       "      <th>gender</th>\n",
       "      <th>income_type</th>\n",
       "      <th>debt</th>\n",
       "      <th>total_income</th>\n",
       "      <th>purpose</th>\n",
       "    </tr>\n",
       "  </thead>\n",
       "  <tbody>\n",
       "    <tr>\n",
       "      <th>0</th>\n",
       "      <td>1</td>\n",
       "      <td>-8437.673028</td>\n",
       "      <td>42</td>\n",
       "      <td>высшее</td>\n",
       "      <td>0</td>\n",
       "      <td>женат / замужем</td>\n",
       "      <td>0</td>\n",
       "      <td>F</td>\n",
       "      <td>сотрудник</td>\n",
       "      <td>0</td>\n",
       "      <td>253875.639453</td>\n",
       "      <td>покупка жилья</td>\n",
       "    </tr>\n",
       "    <tr>\n",
       "      <th>1</th>\n",
       "      <td>1</td>\n",
       "      <td>-4024.803754</td>\n",
       "      <td>36</td>\n",
       "      <td>среднее</td>\n",
       "      <td>1</td>\n",
       "      <td>женат / замужем</td>\n",
       "      <td>0</td>\n",
       "      <td>F</td>\n",
       "      <td>сотрудник</td>\n",
       "      <td>0</td>\n",
       "      <td>112080.014102</td>\n",
       "      <td>приобретение автомобиля</td>\n",
       "    </tr>\n",
       "    <tr>\n",
       "      <th>2</th>\n",
       "      <td>0</td>\n",
       "      <td>-5623.422610</td>\n",
       "      <td>33</td>\n",
       "      <td>Среднее</td>\n",
       "      <td>1</td>\n",
       "      <td>женат / замужем</td>\n",
       "      <td>0</td>\n",
       "      <td>M</td>\n",
       "      <td>сотрудник</td>\n",
       "      <td>0</td>\n",
       "      <td>145885.952297</td>\n",
       "      <td>покупка жилья</td>\n",
       "    </tr>\n",
       "    <tr>\n",
       "      <th>3</th>\n",
       "      <td>3</td>\n",
       "      <td>-4124.747207</td>\n",
       "      <td>32</td>\n",
       "      <td>среднее</td>\n",
       "      <td>1</td>\n",
       "      <td>женат / замужем</td>\n",
       "      <td>0</td>\n",
       "      <td>M</td>\n",
       "      <td>сотрудник</td>\n",
       "      <td>0</td>\n",
       "      <td>267628.550329</td>\n",
       "      <td>дополнительное образование</td>\n",
       "    </tr>\n",
       "    <tr>\n",
       "      <th>4</th>\n",
       "      <td>0</td>\n",
       "      <td>340266.072047</td>\n",
       "      <td>53</td>\n",
       "      <td>среднее</td>\n",
       "      <td>1</td>\n",
       "      <td>гражданский брак</td>\n",
       "      <td>1</td>\n",
       "      <td>F</td>\n",
       "      <td>пенсионер</td>\n",
       "      <td>0</td>\n",
       "      <td>158616.077870</td>\n",
       "      <td>сыграть свадьбу</td>\n",
       "    </tr>\n",
       "    <tr>\n",
       "      <th>5</th>\n",
       "      <td>0</td>\n",
       "      <td>-926.185831</td>\n",
       "      <td>27</td>\n",
       "      <td>высшее</td>\n",
       "      <td>0</td>\n",
       "      <td>гражданский брак</td>\n",
       "      <td>1</td>\n",
       "      <td>M</td>\n",
       "      <td>компаньон</td>\n",
       "      <td>0</td>\n",
       "      <td>255763.565419</td>\n",
       "      <td>покупка жилья</td>\n",
       "    </tr>\n",
       "    <tr>\n",
       "      <th>6</th>\n",
       "      <td>0</td>\n",
       "      <td>-2879.202052</td>\n",
       "      <td>43</td>\n",
       "      <td>высшее</td>\n",
       "      <td>0</td>\n",
       "      <td>женат / замужем</td>\n",
       "      <td>0</td>\n",
       "      <td>F</td>\n",
       "      <td>компаньон</td>\n",
       "      <td>0</td>\n",
       "      <td>240525.971920</td>\n",
       "      <td>операции с жильем</td>\n",
       "    </tr>\n",
       "    <tr>\n",
       "      <th>7</th>\n",
       "      <td>0</td>\n",
       "      <td>-152.779569</td>\n",
       "      <td>50</td>\n",
       "      <td>СРЕДНЕЕ</td>\n",
       "      <td>1</td>\n",
       "      <td>женат / замужем</td>\n",
       "      <td>0</td>\n",
       "      <td>M</td>\n",
       "      <td>сотрудник</td>\n",
       "      <td>0</td>\n",
       "      <td>135823.934197</td>\n",
       "      <td>образование</td>\n",
       "    </tr>\n",
       "    <tr>\n",
       "      <th>8</th>\n",
       "      <td>2</td>\n",
       "      <td>-6929.865299</td>\n",
       "      <td>35</td>\n",
       "      <td>ВЫСШЕЕ</td>\n",
       "      <td>0</td>\n",
       "      <td>гражданский брак</td>\n",
       "      <td>1</td>\n",
       "      <td>F</td>\n",
       "      <td>сотрудник</td>\n",
       "      <td>0</td>\n",
       "      <td>95856.832424</td>\n",
       "      <td>на проведение свадьбы</td>\n",
       "    </tr>\n",
       "    <tr>\n",
       "      <th>9</th>\n",
       "      <td>0</td>\n",
       "      <td>-2188.756445</td>\n",
       "      <td>41</td>\n",
       "      <td>среднее</td>\n",
       "      <td>1</td>\n",
       "      <td>женат / замужем</td>\n",
       "      <td>0</td>\n",
       "      <td>M</td>\n",
       "      <td>сотрудник</td>\n",
       "      <td>0</td>\n",
       "      <td>144425.938277</td>\n",
       "      <td>покупка жилья для семьи</td>\n",
       "    </tr>\n",
       "  </tbody>\n",
       "</table>\n",
       "</div>"
      ],
      "text/plain": [
       "   children  days_employed  dob_years education  education_id  \\\n",
       "0         1   -8437.673028         42    высшее             0   \n",
       "1         1   -4024.803754         36   среднее             1   \n",
       "2         0   -5623.422610         33   Среднее             1   \n",
       "3         3   -4124.747207         32   среднее             1   \n",
       "4         0  340266.072047         53   среднее             1   \n",
       "5         0    -926.185831         27    высшее             0   \n",
       "6         0   -2879.202052         43    высшее             0   \n",
       "7         0    -152.779569         50   СРЕДНЕЕ             1   \n",
       "8         2   -6929.865299         35    ВЫСШЕЕ             0   \n",
       "9         0   -2188.756445         41   среднее             1   \n",
       "\n",
       "      family_status  family_status_id gender income_type  debt   total_income  \\\n",
       "0   женат / замужем                 0      F   сотрудник     0  253875.639453   \n",
       "1   женат / замужем                 0      F   сотрудник     0  112080.014102   \n",
       "2   женат / замужем                 0      M   сотрудник     0  145885.952297   \n",
       "3   женат / замужем                 0      M   сотрудник     0  267628.550329   \n",
       "4  гражданский брак                 1      F   пенсионер     0  158616.077870   \n",
       "5  гражданский брак                 1      M   компаньон     0  255763.565419   \n",
       "6   женат / замужем                 0      F   компаньон     0  240525.971920   \n",
       "7   женат / замужем                 0      M   сотрудник     0  135823.934197   \n",
       "8  гражданский брак                 1      F   сотрудник     0   95856.832424   \n",
       "9   женат / замужем                 0      M   сотрудник     0  144425.938277   \n",
       "\n",
       "                      purpose  \n",
       "0               покупка жилья  \n",
       "1     приобретение автомобиля  \n",
       "2               покупка жилья  \n",
       "3  дополнительное образование  \n",
       "4             сыграть свадьбу  \n",
       "5               покупка жилья  \n",
       "6           операции с жильем  \n",
       "7                 образование  \n",
       "8       на проведение свадьбы  \n",
       "9     покупка жилья для семьи  "
      ]
     },
     "metadata": {},
     "output_type": "display_data"
    },
    {
     "name": "stdout",
     "output_type": "stream",
     "text": [
      "<class 'pandas.core.frame.DataFrame'>\n",
      "RangeIndex: 21525 entries, 0 to 21524\n",
      "Data columns (total 12 columns):\n",
      " #   Column            Non-Null Count  Dtype  \n",
      "---  ------            --------------  -----  \n",
      " 0   children          21525 non-null  int64  \n",
      " 1   days_employed     19351 non-null  float64\n",
      " 2   dob_years         21525 non-null  int64  \n",
      " 3   education         21525 non-null  object \n",
      " 4   education_id      21525 non-null  int64  \n",
      " 5   family_status     21525 non-null  object \n",
      " 6   family_status_id  21525 non-null  int64  \n",
      " 7   gender            21525 non-null  object \n",
      " 8   income_type       21525 non-null  object \n",
      " 9   debt              21525 non-null  int64  \n",
      " 10  total_income      19351 non-null  float64\n",
      " 11  purpose           21525 non-null  object \n",
      "dtypes: float64(2), int64(5), object(5)\n",
      "memory usage: 2.0+ MB\n"
     ]
    },
    {
     "data": {
      "text/plain": [
       "None"
      ]
     },
     "metadata": {},
     "output_type": "display_data"
    },
    {
     "data": {
      "text/html": [
       "<div>\n",
       "<style scoped>\n",
       "    .dataframe tbody tr th:only-of-type {\n",
       "        vertical-align: middle;\n",
       "    }\n",
       "\n",
       "    .dataframe tbody tr th {\n",
       "        vertical-align: top;\n",
       "    }\n",
       "\n",
       "    .dataframe thead th {\n",
       "        text-align: right;\n",
       "    }\n",
       "</style>\n",
       "<table border=\"1\" class=\"dataframe\">\n",
       "  <thead>\n",
       "    <tr style=\"text-align: right;\">\n",
       "      <th></th>\n",
       "      <th>children</th>\n",
       "      <th>days_employed</th>\n",
       "      <th>dob_years</th>\n",
       "      <th>education_id</th>\n",
       "      <th>family_status_id</th>\n",
       "      <th>debt</th>\n",
       "      <th>total_income</th>\n",
       "    </tr>\n",
       "  </thead>\n",
       "  <tbody>\n",
       "    <tr>\n",
       "      <th>count</th>\n",
       "      <td>21525.000000</td>\n",
       "      <td>19351.000000</td>\n",
       "      <td>21525.000000</td>\n",
       "      <td>21525.000000</td>\n",
       "      <td>21525.000000</td>\n",
       "      <td>21525.000000</td>\n",
       "      <td>1.935100e+04</td>\n",
       "    </tr>\n",
       "    <tr>\n",
       "      <th>mean</th>\n",
       "      <td>0.538908</td>\n",
       "      <td>63046.497661</td>\n",
       "      <td>43.293380</td>\n",
       "      <td>0.817236</td>\n",
       "      <td>0.972544</td>\n",
       "      <td>0.080883</td>\n",
       "      <td>1.674223e+05</td>\n",
       "    </tr>\n",
       "    <tr>\n",
       "      <th>std</th>\n",
       "      <td>1.381587</td>\n",
       "      <td>140827.311974</td>\n",
       "      <td>12.574584</td>\n",
       "      <td>0.548138</td>\n",
       "      <td>1.420324</td>\n",
       "      <td>0.272661</td>\n",
       "      <td>1.029716e+05</td>\n",
       "    </tr>\n",
       "    <tr>\n",
       "      <th>min</th>\n",
       "      <td>-1.000000</td>\n",
       "      <td>-18388.949901</td>\n",
       "      <td>0.000000</td>\n",
       "      <td>0.000000</td>\n",
       "      <td>0.000000</td>\n",
       "      <td>0.000000</td>\n",
       "      <td>2.066726e+04</td>\n",
       "    </tr>\n",
       "    <tr>\n",
       "      <th>25%</th>\n",
       "      <td>0.000000</td>\n",
       "      <td>-2747.423625</td>\n",
       "      <td>33.000000</td>\n",
       "      <td>1.000000</td>\n",
       "      <td>0.000000</td>\n",
       "      <td>0.000000</td>\n",
       "      <td>1.030532e+05</td>\n",
       "    </tr>\n",
       "    <tr>\n",
       "      <th>50%</th>\n",
       "      <td>0.000000</td>\n",
       "      <td>-1203.369529</td>\n",
       "      <td>42.000000</td>\n",
       "      <td>1.000000</td>\n",
       "      <td>0.000000</td>\n",
       "      <td>0.000000</td>\n",
       "      <td>1.450179e+05</td>\n",
       "    </tr>\n",
       "    <tr>\n",
       "      <th>75%</th>\n",
       "      <td>1.000000</td>\n",
       "      <td>-291.095954</td>\n",
       "      <td>53.000000</td>\n",
       "      <td>1.000000</td>\n",
       "      <td>1.000000</td>\n",
       "      <td>0.000000</td>\n",
       "      <td>2.034351e+05</td>\n",
       "    </tr>\n",
       "    <tr>\n",
       "      <th>max</th>\n",
       "      <td>20.000000</td>\n",
       "      <td>401755.400475</td>\n",
       "      <td>75.000000</td>\n",
       "      <td>4.000000</td>\n",
       "      <td>4.000000</td>\n",
       "      <td>1.000000</td>\n",
       "      <td>2.265604e+06</td>\n",
       "    </tr>\n",
       "  </tbody>\n",
       "</table>\n",
       "</div>"
      ],
      "text/plain": [
       "           children  days_employed     dob_years  education_id  \\\n",
       "count  21525.000000   19351.000000  21525.000000  21525.000000   \n",
       "mean       0.538908   63046.497661     43.293380      0.817236   \n",
       "std        1.381587  140827.311974     12.574584      0.548138   \n",
       "min       -1.000000  -18388.949901      0.000000      0.000000   \n",
       "25%        0.000000   -2747.423625     33.000000      1.000000   \n",
       "50%        0.000000   -1203.369529     42.000000      1.000000   \n",
       "75%        1.000000    -291.095954     53.000000      1.000000   \n",
       "max       20.000000  401755.400475     75.000000      4.000000   \n",
       "\n",
       "       family_status_id          debt  total_income  \n",
       "count      21525.000000  21525.000000  1.935100e+04  \n",
       "mean           0.972544      0.080883  1.674223e+05  \n",
       "std            1.420324      0.272661  1.029716e+05  \n",
       "min            0.000000      0.000000  2.066726e+04  \n",
       "25%            0.000000      0.000000  1.030532e+05  \n",
       "50%            0.000000      0.000000  1.450179e+05  \n",
       "75%            1.000000      0.000000  2.034351e+05  \n",
       "max            4.000000      1.000000  2.265604e+06  "
      ]
     },
     "metadata": {},
     "output_type": "display_data"
    }
   ],
   "source": [
    "#выод первых 10 строк\n",
    "display(data.head(10))\n",
    "#вывод общ инф\n",
    "display(data.info())\n",
    "#describe\n",
    "display(data.describe())"
   ]
  },
  {
   "cell_type": "code",
   "execution_count": 9,
   "id": "ed827733",
   "metadata": {},
   "outputs": [
    {
     "data": {
      "text/html": [
       "<style  type=\"text/css\" >\n",
       "#T_00659_row0_col0,#T_00659_row2_col0,#T_00659_row3_col0,#T_00659_row4_col0,#T_00659_row5_col0,#T_00659_row6_col0,#T_00659_row7_col0,#T_00659_row8_col0,#T_00659_row9_col0,#T_00659_row11_col0{\n",
       "            background-color:  #3b4cc0;\n",
       "            color:  #f1f1f1;\n",
       "        }#T_00659_row1_col0,#T_00659_row10_col0{\n",
       "            background-color:  #b40426;\n",
       "            color:  #f1f1f1;\n",
       "        }</style><table id=\"T_00659_\" ><thead>    <tr>        <th class=\"blank level0\" ></th>        <th class=\"col_heading level0 col0\" >0</th>    </tr></thead><tbody>\n",
       "                <tr>\n",
       "                        <th id=\"T_00659_level0_row0\" class=\"row_heading level0 row0\" >children</th>\n",
       "                        <td id=\"T_00659_row0_col0\" class=\"data row0 col0\" >0.0</td>\n",
       "            </tr>\n",
       "            <tr>\n",
       "                        <th id=\"T_00659_level0_row1\" class=\"row_heading level0 row1\" >days_employed</th>\n",
       "                        <td id=\"T_00659_row1_col0\" class=\"data row1 col0\" >10.1</td>\n",
       "            </tr>\n",
       "            <tr>\n",
       "                        <th id=\"T_00659_level0_row2\" class=\"row_heading level0 row2\" >dob_years</th>\n",
       "                        <td id=\"T_00659_row2_col0\" class=\"data row2 col0\" >0.0</td>\n",
       "            </tr>\n",
       "            <tr>\n",
       "                        <th id=\"T_00659_level0_row3\" class=\"row_heading level0 row3\" >education</th>\n",
       "                        <td id=\"T_00659_row3_col0\" class=\"data row3 col0\" >0.0</td>\n",
       "            </tr>\n",
       "            <tr>\n",
       "                        <th id=\"T_00659_level0_row4\" class=\"row_heading level0 row4\" >education_id</th>\n",
       "                        <td id=\"T_00659_row4_col0\" class=\"data row4 col0\" >0.0</td>\n",
       "            </tr>\n",
       "            <tr>\n",
       "                        <th id=\"T_00659_level0_row5\" class=\"row_heading level0 row5\" >family_status</th>\n",
       "                        <td id=\"T_00659_row5_col0\" class=\"data row5 col0\" >0.0</td>\n",
       "            </tr>\n",
       "            <tr>\n",
       "                        <th id=\"T_00659_level0_row6\" class=\"row_heading level0 row6\" >family_status_id</th>\n",
       "                        <td id=\"T_00659_row6_col0\" class=\"data row6 col0\" >0.0</td>\n",
       "            </tr>\n",
       "            <tr>\n",
       "                        <th id=\"T_00659_level0_row7\" class=\"row_heading level0 row7\" >gender</th>\n",
       "                        <td id=\"T_00659_row7_col0\" class=\"data row7 col0\" >0.0</td>\n",
       "            </tr>\n",
       "            <tr>\n",
       "                        <th id=\"T_00659_level0_row8\" class=\"row_heading level0 row8\" >income_type</th>\n",
       "                        <td id=\"T_00659_row8_col0\" class=\"data row8 col0\" >0.0</td>\n",
       "            </tr>\n",
       "            <tr>\n",
       "                        <th id=\"T_00659_level0_row9\" class=\"row_heading level0 row9\" >debt</th>\n",
       "                        <td id=\"T_00659_row9_col0\" class=\"data row9 col0\" >0.0</td>\n",
       "            </tr>\n",
       "            <tr>\n",
       "                        <th id=\"T_00659_level0_row10\" class=\"row_heading level0 row10\" >total_income</th>\n",
       "                        <td id=\"T_00659_row10_col0\" class=\"data row10 col0\" >10.1</td>\n",
       "            </tr>\n",
       "            <tr>\n",
       "                        <th id=\"T_00659_level0_row11\" class=\"row_heading level0 row11\" >purpose</th>\n",
       "                        <td id=\"T_00659_row11_col0\" class=\"data row11 col0\" >0.0</td>\n",
       "            </tr>\n",
       "    </tbody></table>"
      ],
      "text/plain": [
       "<pandas.io.formats.style.Styler at 0x20d4b392460>"
      ]
     },
     "execution_count": 9,
     "metadata": {},
     "output_type": "execute_result"
    }
   ],
   "source": [
    "# просмотр пропусков\n",
    "pd.DataFrame(data.isna().mean()*100).style.set_precision(1).background_gradient('coolwarm')"
   ]
  },
  {
   "cell_type": "markdown",
   "id": "67aff240",
   "metadata": {},
   "source": [
    "**Вывод**\n",
    "\n",
    "- Пропуски в колонках 'days_employed', 'total_income'\n",
    "\n",
    "- days_employed отрицательные значения"
   ]
  },
  {
   "cell_type": "markdown",
   "id": "d2540744",
   "metadata": {},
   "source": [
    "## Предобработка данных"
   ]
  },
  {
   "cell_type": "code",
   "execution_count": 11,
   "id": "b1cb7df3",
   "metadata": {},
   "outputs": [],
   "source": [
    "#используя метод трансформ-эта функция в которой передаваемой функции возвращается то же выражение\n",
    "avg_income=data.groupby('income_type')['total_income'].transform('median')\n",
    "data['total_income'].fillna(avg_income,inplace=True)\n"
   ]
  },
  {
   "cell_type": "code",
   "execution_count": 12,
   "id": "a521352c",
   "metadata": {},
   "outputs": [],
   "source": [
    "#в столбце days_employed есть значения со знаком '-',обработаем их методом абс\n",
    "data['days_employed']=abs(data['days_employed'])"
   ]
  },
  {
   "cell_type": "code",
   "execution_count": 13,
   "id": "941d2ca5",
   "metadata": {},
   "outputs": [
    {
     "data": {
      "text/plain": [
       "income_type\n",
       "безработный        366413.652744\n",
       "в декрете            3296.759962\n",
       "госслужащий          2689.368353\n",
       "компаньон            1547.382223\n",
       "пенсионер          365213.306266\n",
       "предприниматель       520.848083\n",
       "сотрудник            1574.202821\n",
       "студент               578.751554\n",
       "Name: days_employed, dtype: float64"
      ]
     },
     "execution_count": 13,
     "metadata": {},
     "output_type": "execute_result"
    }
   ],
   "source": [
    "# групируем данные income_type и days_employed и присваевыем медиану\n",
    "data.groupby('income_type')['days_employed'].agg('median')"
   ]
  },
  {
   "cell_type": "markdown",
   "id": "9c4d9a09",
   "metadata": {},
   "source": [
    "У двух типов (безработные и пенсионеры) получатся аномально большие значения. Исправить такие значения сложно, поэтому оставьте их как есть."
   ]
  },
  {
   "cell_type": "code",
   "execution_count": 14,
   "id": "32d1d84c",
   "metadata": {},
   "outputs": [
    {
     "data": {
      "text/plain": [
       "array([ 1,  0,  3,  2, -1,  4, 20,  5], dtype=int64)"
      ]
     },
     "execution_count": 14,
     "metadata": {},
     "output_type": "execute_result"
    }
   ],
   "source": [
    "#выводим уникальные значения детей\n",
    "data['children'].unique()"
   ]
  },
  {
   "cell_type": "markdown",
   "id": "3f303fdc",
   "metadata": {},
   "source": [
    "Нужно удалить 2 аномалии \n",
    "\n",
    "возраст 20\n",
    "\n",
    "возраст -1"
   ]
  },
  {
   "cell_type": "code",
   "execution_count": 15,
   "id": "b1921235",
   "metadata": {},
   "outputs": [
    {
     "data": {
      "text/plain": [
       " 0     14149\n",
       " 1      4818\n",
       " 2      2055\n",
       " 3       330\n",
       " 20       76\n",
       "-1        47\n",
       " 4        41\n",
       " 5         9\n",
       "Name: children, dtype: int64"
      ]
     },
     "execution_count": 15,
     "metadata": {},
     "output_type": "execute_result"
    }
   ],
   "source": [
    "#проверяем эти значения\n",
    "data['children'].value_counts()"
   ]
  },
  {
   "cell_type": "code",
   "execution_count": 17,
   "id": "6b84526c",
   "metadata": {},
   "outputs": [
    {
     "data": {
      "text/plain": [
       "array([1, 0, 3, 2, 4, 5], dtype=int64)"
      ]
     },
     "execution_count": 17,
     "metadata": {},
     "output_type": "execute_result"
    }
   ],
   "source": [
    "#передаем в датафрейм условие в котором нет аномальных значений\n",
    "data=data.loc[(data['children']>=0)&(data['children']<10)]\n",
    "# проверка\n",
    "data['children'].unique()"
   ]
  },
  {
   "cell_type": "markdown",
   "id": "8fd90b21",
   "metadata": {},
   "source": [
    "Удаление пропусков в days_employed"
   ]
  },
  {
   "cell_type": "code",
   "execution_count": 18,
   "id": "3eb221e6",
   "metadata": {},
   "outputs": [],
   "source": [
    "# воспользуемся тем же методом transform('median')\n",
    "avg_days=data.groupby('income_type')['days_employed'].transform('median')\n",
    "data['days_employed'].fillna(avg_days,inplace=True)# ваш код здесь"
   ]
  },
  {
   "cell_type": "code",
   "execution_count": 19,
   "id": "d05ed0a2",
   "metadata": {},
   "outputs": [
    {
     "data": {
      "text/plain": [
       "children            0\n",
       "days_employed       0\n",
       "dob_years           0\n",
       "education           0\n",
       "education_id        0\n",
       "family_status       0\n",
       "family_status_id    0\n",
       "gender              0\n",
       "income_type         0\n",
       "debt                0\n",
       "total_income        0\n",
       "purpose             0\n",
       "dtype: int64"
      ]
     },
     "execution_count": 19,
     "metadata": {},
     "output_type": "execute_result"
    }
   ],
   "source": [
    "# проверяем тем же методом что и в задании №4\n",
    "data.isna().sum()\n",
    "#от пропусков избавились"
   ]
  },
  {
   "cell_type": "markdown",
   "id": "a9324b74",
   "metadata": {},
   "source": [
    "**Изменения типов данных**"
   ]
  },
  {
   "cell_type": "code",
   "execution_count": 20,
   "id": "b78857ed",
   "metadata": {},
   "outputs": [],
   "source": [
    "# заменяем тип данных в столбце total_income на целочисленные\n",
    "data['total_income']=data['total_income'].astype('int')"
   ]
  },
  {
   "cell_type": "markdown",
   "id": "f91300ed",
   "metadata": {},
   "source": [
    "**Обработка дубликатов**"
   ]
  },
  {
   "cell_type": "code",
   "execution_count": 21,
   "id": "d9b25726",
   "metadata": {},
   "outputs": [],
   "source": [
    "# применяем метод к str.lower()к столбцу education\n",
    "data['education']=data['education'].str.lower()"
   ]
  },
  {
   "cell_type": "code",
   "execution_count": 22,
   "id": "a31e4145",
   "metadata": {},
   "outputs": [
    {
     "data": {
      "text/plain": [
       "71"
      ]
     },
     "execution_count": 22,
     "metadata": {},
     "output_type": "execute_result"
    }
   ],
   "source": [
    "# считаем дубликаты и их кол-во методом duplicated().sum()\n",
    "data.duplicated().sum()"
   ]
  },
  {
   "cell_type": "code",
   "execution_count": 23,
   "id": "3a6b8265",
   "metadata": {},
   "outputs": [],
   "source": [
    "data=data.drop_duplicates()"
   ]
  },
  {
   "cell_type": "markdown",
   "id": "237c0b5c",
   "metadata": {},
   "source": [
    "**Вывод**\n",
    "\n",
    "- Избавились от пропусков в 'days_employed', 'total_income'\n",
    "\n",
    "- Обработали дубликаты\n",
    "\n",
    "- Обработали аномалии"
   ]
  },
  {
   "cell_type": "markdown",
   "id": "7c7a89ac",
   "metadata": {},
   "source": [
    "### Категоризация данных"
   ]
  },
  {
   "cell_type": "markdown",
   "id": "22d5ada6",
   "metadata": {},
   "source": [
    "**На основании диапазонов, указанных ниже, создадим в датафрейме `data` столбец `total_income_category` с категориями:**\n",
    "\n",
    "- 0–30000 — `'E'`;\n",
    "- 30001–50000 — `'D'`;\n",
    "- 50001–200000 — `'C'`;\n",
    "- 200001–1000000 — `'B'`;\n",
    "- 1000001 и выше — `'A'`."
   ]
  },
  {
   "cell_type": "code",
   "execution_count": 24,
   "id": "28599da2",
   "metadata": {},
   "outputs": [],
   "source": [
    "# функция\n",
    "def categorize_income(income):\n",
    "    try:\n",
    "        if 0<=income<=30000:\n",
    "            return 'E'\n",
    "        elif 30001<=income<=50000:\n",
    "            return 'D'\n",
    "        elif 50001<=income<=200000:\n",
    "            return 'C'\n",
    "        elif 200001<=income<=1000000:\n",
    "            return 'B'\n",
    "        elif income >= 1000001:\n",
    "            return 'A'\n",
    "    except:\n",
    "        'ошибка'"
   ]
  },
  {
   "cell_type": "code",
   "execution_count": 25,
   "id": "e5c75727",
   "metadata": {},
   "outputs": [],
   "source": [
    "data['total_income_category'] = data['total_income'].apply(categorize_income)"
   ]
  },
  {
   "cell_type": "code",
   "execution_count": 29,
   "id": "23d3f3c8",
   "metadata": {},
   "outputs": [
    {
     "data": {
      "text/plain": [
       "C    15921\n",
       "B     5014\n",
       "D      349\n",
       "A       25\n",
       "E       22\n",
       "Name: total_income_category, dtype: int64"
      ]
     },
     "execution_count": 29,
     "metadata": {},
     "output_type": "execute_result"
    }
   ],
   "source": [
    "data['total_income_category'].value_counts()"
   ]
  },
  {
   "cell_type": "markdown",
   "id": "4669c94e",
   "metadata": {},
   "source": [
    "Посмотрим уникальные значения целей для взятии кредита\n"
   ]
  },
  {
   "cell_type": "code",
   "execution_count": 30,
   "id": "f4ef8070",
   "metadata": {},
   "outputs": [
    {
     "data": {
      "text/plain": [
       "array(['покупка жилья', 'приобретение автомобиля',\n",
       "       'дополнительное образование', 'сыграть свадьбу',\n",
       "       'операции с жильем', 'образование', 'на проведение свадьбы',\n",
       "       'покупка жилья для семьи', 'покупка недвижимости',\n",
       "       'покупка коммерческой недвижимости', 'покупка жилой недвижимости',\n",
       "       'строительство собственной недвижимости', 'недвижимость',\n",
       "       'строительство недвижимости', 'на покупку подержанного автомобиля',\n",
       "       'на покупку своего автомобиля',\n",
       "       'операции с коммерческой недвижимостью',\n",
       "       'строительство жилой недвижимости', 'жилье',\n",
       "       'операции со своей недвижимостью', 'автомобили',\n",
       "       'заняться образованием', 'сделка с подержанным автомобилем',\n",
       "       'получение образования', 'автомобиль', 'свадьба',\n",
       "       'получение дополнительного образования', 'покупка своего жилья',\n",
       "       'операции с недвижимостью', 'получение высшего образования',\n",
       "       'свой автомобиль', 'сделка с автомобилем',\n",
       "       'профильное образование', 'высшее образование',\n",
       "       'покупка жилья для сдачи', 'на покупку автомобиля', 'ремонт жилью',\n",
       "       'заняться высшим образованием'], dtype=object)"
      ]
     },
     "execution_count": 30,
     "metadata": {},
     "output_type": "execute_result"
    }
   ],
   "source": [
    "data['purpose'].unique()"
   ]
  },
  {
   "cell_type": "markdown",
   "id": "deb08f05",
   "metadata": {},
   "source": [
    "**Создадим функцию, которая на основании данных из столбца `purpose` сформирует новый столбец `purpose_category`, в который войдут следующие категории:**\n",
    "\n",
    "- `'операции с автомобилем'`,\n",
    "- `'операции с недвижимостью'`,\n",
    "- `'проведение свадьбы'`,\n",
    "- `'получение образования'`."
   ]
  },
  {
   "cell_type": "code",
   "execution_count": 31,
   "id": "68271797",
   "metadata": {},
   "outputs": [],
   "source": [
    "def categorize_purpose(row):\n",
    "    try:\n",
    "        if 'авто' in row:\n",
    "            return 'операции с автомобилем'\n",
    "        elif 'жил' in row or 'недвиж' in row:\n",
    "            return 'операции с недвижимостью'\n",
    "        elif 'свад' in row:\n",
    "            return 'проведение свадьбы'\n",
    "        elif 'образ' in row:\n",
    "            return 'получение образования'\n",
    "    except:\n",
    "        'безкатегории'# создайте функцию categorize_purpose()"
   ]
  },
  {
   "cell_type": "code",
   "execution_count": 33,
   "id": "b3a57fbb",
   "metadata": {},
   "outputs": [
    {
     "data": {
      "text/plain": [
       "операции с недвижимостью    10751\n",
       "операции с автомобилем       4279\n",
       "получение образования        3988\n",
       "проведение свадьбы           2313\n",
       "Name: purpose_category, dtype: int64"
      ]
     },
     "execution_count": 33,
     "metadata": {},
     "output_type": "execute_result"
    }
   ],
   "source": [
    "data['purpose_category']=data['purpose'].apply(categorize_purpose)\n",
    "data['purpose_category'].value_counts()"
   ]
  },
  {
   "cell_type": "markdown",
   "id": "504c28e1",
   "metadata": {},
   "source": [
    "**Посмотрим,имеем ли зависимость между количеством детей и возвратом кредита в срок**"
   ]
  },
  {
   "cell_type": "code",
   "execution_count": 34,
   "id": "9a1d121d",
   "metadata": {},
   "outputs": [
    {
     "name": "stdout",
     "output_type": "stream",
     "text": [
      "          count   sum      mean\n",
      "           debt  debt      debt\n",
      "children                       \n",
      "0         14091  1063  0.075438\n",
      "1          4808   444  0.092346\n",
      "2          2052   194  0.094542\n",
      "3           330    27  0.081818\n",
      "4            41     4  0.097561\n",
      "5             9     0  0.000000\n"
     ]
    }
   ],
   "source": [
    "#формируем содную таблицу\n",
    "children_pivot=data.pivot_table(index='children',values='debt',aggfunc=['count','sum','mean'])\n",
    "print(children_pivot)"
   ]
  },
  {
   "cell_type": "markdown",
   "id": "3e13c912",
   "metadata": {},
   "source": [
    "**Вывод**\n",
    "\n",
    "Исходя из представленных данных видно,что самые недобросовестные заемщики это люди с 2или1 ребенком(9.4% и 9.2% соответсвенно),можно было сказать что люди с 4 детьми самые злостные(9.7%),но количество таких случаев составляет 41шт(мене 1% от общ числа). опираться на такие данные не стоит,требуется больше информации.В целом по 'многодетным' трудно судить,так как котострафически мало случаев."
   ]
  },
  {
   "cell_type": "markdown",
   "id": "2bed62dc",
   "metadata": {},
   "source": [
    "**Есть ли зависимость между семейным положением и возвратом кредита в срок?**"
   ]
  },
  {
   "cell_type": "code",
   "execution_count": 35,
   "id": "11acff7e",
   "metadata": {},
   "outputs": [
    {
     "name": "stdout",
     "output_type": "stream",
     "text": [
      "                       count  sum      mean\n",
      "                        debt debt      debt\n",
      "family_status                              \n",
      "Не женат / не замужем   2796  273  0.097639\n",
      "в разводе               1189   84  0.070648\n",
      "вдовец / вдова           951   63  0.066246\n",
      "гражданский брак        4134  385  0.093130\n",
      "женат / замужем        12261  927  0.075606\n"
     ]
    }
   ],
   "source": [
    "#cоздадим такую же сводную таблицу\n",
    "family_pivot=data.pivot_table(index='family_status',values='debt',aggfunc=['count','sum','mean'])\n",
    "print(family_pivot)"
   ]
  },
  {
   "cell_type": "markdown",
   "id": "bcbe155a",
   "metadata": {},
   "source": [
    "**Вывод**\n",
    "\n",
    "Да,есть!Исходя из представленных данных видно,что самые ответственные заемщики -это вдовцы/вдовы(6.6%),люди котоыре имели брак(7%) или находятся в нем(7.5%) меенее склонны к невозврату нежели оставшиеся группы."
   ]
  },
  {
   "cell_type": "markdown",
   "id": "b14657da",
   "metadata": {},
   "source": [
    "**Как разные цели кредита влияют на его возврат в срок?**"
   ]
  },
  {
   "cell_type": "code",
   "execution_count": 36,
   "id": "990ff087",
   "metadata": {},
   "outputs": [
    {
     "name": "stdout",
     "output_type": "stream",
     "text": [
      "                          count  sum      mean\n",
      "                           debt debt      debt\n",
      "purpose_category                              \n",
      "операции с автомобилем     4279  400  0.093480\n",
      "операции с недвижимостью  10751  780  0.072551\n",
      "получение образования      3988  369  0.092528\n",
      "проведение свадьбы         2313  183  0.079118\n"
     ]
    }
   ],
   "source": [
    "purpose_pivot=data.pivot_table(index='purpose_category',values='debt',aggfunc=['count','sum','mean'])\n",
    "print(purpose_pivot)"
   ]
  },
  {
   "cell_type": "markdown",
   "id": "e2ff0cc6",
   "metadata": {},
   "source": [
    "Проведение свадеб и операции с недвижимостью имеют самый низкий процент не возврата(7,9% и 7,2%) в отношении с другими группами операции с автомобилем,получения образования(9,3% и 9,2% соответсвено)"
   ]
  },
  {
   "cell_type": "markdown",
   "id": "f9f4a0ed",
   "metadata": {},
   "source": [
    "## Вывод"
   ]
  },
  {
   "cell_type": "markdown",
   "id": "5cd2f2b9",
   "metadata": {},
   "source": [
    "Для изучение представлленого датафрейма был использован язык програмирования Python и библиотека Pandas.При использовании данных интсрументов в данном датафрейме были обнаружены пропуски,вбросы и аномальные значения,которые в последствии были успешно устранены.Исходя из полученных результатов рекомендую заказчику принять к сведению следущющий вывод:**В целом можно сказать,что люди имеющие 2-1 ребенка,состоящие в гражданском браке,имея доход от 50.000-200.000 и цель кредита на автомобиль или обрзование-Больше всего склоны не возвращать долги!Напротив же люди не имеющиее детей,имеющие статус семейного положения(вдовец/вдова) c зарплатой от 200.000 - 1.000.000 скорее всего вернуть кредит.НО!Не обязательно что бы все факторы совпали.В расчетах видно,что люди имееющие 5 детей - не имееют задолжностей(возможно они и не брали кредит,что думаю маловероятно)**"
   ]
  },
  {
   "cell_type": "code",
   "execution_count": null,
   "id": "80867b92",
   "metadata": {},
   "outputs": [],
   "source": []
  }
 ],
 "metadata": {
  "kernelspec": {
   "display_name": "Python 3 (ipykernel)",
   "language": "python",
   "name": "python3"
  },
  "language_info": {
   "codemirror_mode": {
    "name": "ipython",
    "version": 3
   },
   "file_extension": ".py",
   "mimetype": "text/x-python",
   "name": "python",
   "nbconvert_exporter": "python",
   "pygments_lexer": "ipython3",
   "version": "3.9.16"
  }
 },
 "nbformat": 4,
 "nbformat_minor": 5
}
