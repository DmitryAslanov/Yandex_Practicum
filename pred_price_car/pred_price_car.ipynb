{
 "cells": [
  {
   "cell_type": "markdown",
   "metadata": {},
   "source": [
    "# Определение стоимости автомобилей"
   ]
  },
  {
   "cell_type": "markdown",
   "metadata": {},
   "source": [
    "Сервис по продаже автомобилей с пробегом «Не бит, не крашен» разрабатывает приложение для привлечения новых клиентов. В нём можно быстро узнать рыночную стоимость своего автомобиля. В вашем распоряжении исторические данные: технические характеристики, комплектации и цены автомобилей. Вам нужно построить модель для определения стоимости. \n",
    "\n",
    "Заказчику важны:\n",
    "\n",
    "- качество предсказания;\n",
    "- скорость предсказания;\n",
    "- время обучения."
   ]
  },
  {
   "cell_type": "code",
   "execution_count": 1,
   "metadata": {},
   "outputs": [
    {
     "name": "stdout",
     "output_type": "stream",
     "text": [
      "Requirement already satisfied: scikit-learn==1.2.2 in /opt/conda/lib/python3.9/site-packages (1.2.2)\r\n",
      "Requirement already satisfied: numpy>=1.17.3 in /opt/conda/lib/python3.9/site-packages (from scikit-learn==1.2.2) (1.21.1)\r\n",
      "Requirement already satisfied: threadpoolctl>=2.0.0 in /opt/conda/lib/python3.9/site-packages (from scikit-learn==1.2.2) (3.1.0)\r\n",
      "Requirement already satisfied: scipy>=1.3.2 in /opt/conda/lib/python3.9/site-packages (from scikit-learn==1.2.2) (1.9.1)\r\n",
      "Requirement already satisfied: joblib>=1.1.1 in /opt/conda/lib/python3.9/site-packages (from scikit-learn==1.2.2) (1.2.0)\r\n"
     ]
    }
   ],
   "source": [
    "!pip install scikit-learn==1.2.2"
   ]
  },
  {
   "cell_type": "code",
   "execution_count": 2,
   "metadata": {},
   "outputs": [],
   "source": [
    "import pandas as pd\n",
    "import seaborn as sns\n",
    "import matplotlib.pyplot as plt\n",
    "from catboost import CatBoostRegressor\n",
    "from lightgbm import LGBMRegressor\n",
    "from scipy.stats import randint\n",
    "from scipy.sparse import vstack\n",
    "from sklearn.compose import ColumnTransformer\n",
    "from sklearn.dummy import DummyRegressor\n",
    "from sklearn.ensemble import RandomForestRegressor\n",
    "from sklearn.linear_model import LinearRegression\n",
    "from sklearn.metrics import mean_squared_error\n",
    "from sklearn.model_selection import GridSearchCV, RandomizedSearchCV, train_test_split\n",
    "from sklearn.preprocessing import OneHotEncoder, StandardScaler, OrdinalEncoder\n",
    "from sklearn.tree import DecisionTreeRegressor\n",
    "from sklearn import preprocessing\n",
    "from lightgbm import LGBMRegressor\n",
    "import time"
   ]
  },
  {
   "cell_type": "markdown",
   "metadata": {},
   "source": [
    "## Подготовка данных"
   ]
  },
  {
   "cell_type": "code",
   "execution_count": 3,
   "metadata": {},
   "outputs": [],
   "source": [
    "def info(df):\n",
    "    display(df.head())\n",
    "    display(df.info())\n",
    "    display(df.describe().T)\n",
    "    display(df.isna().sum())\n",
    "    print('Количество дубликатов: ',df.duplicated().sum())\n",
    "    plt.figure(figsize=(10,5))\n",
    "    corr_matrix = sns.heatmap(df.corr(),annot=True)\n",
    "    corr_matrix.axes.set_title(\"Корреляционная матрица\", fontsize=16)\n",
    "    # Построение парных графиков\n",
    "#     sns.pairplot(df);\n",
    "    plt.show()"
   ]
  },
  {
   "cell_type": "code",
   "execution_count": 4,
   "metadata": {},
   "outputs": [],
   "source": [
    "df=pd.read_csv('/datasets/autos.csv')"
   ]
  },
  {
   "cell_type": "code",
   "execution_count": 5,
   "metadata": {
    "scrolled": false
   },
   "outputs": [
    {
     "data": {
      "text/html": [
       "<div>\n",
       "<style scoped>\n",
       "    .dataframe tbody tr th:only-of-type {\n",
       "        vertical-align: middle;\n",
       "    }\n",
       "\n",
       "    .dataframe tbody tr th {\n",
       "        vertical-align: top;\n",
       "    }\n",
       "\n",
       "    .dataframe thead th {\n",
       "        text-align: right;\n",
       "    }\n",
       "</style>\n",
       "<table border=\"1\" class=\"dataframe\">\n",
       "  <thead>\n",
       "    <tr style=\"text-align: right;\">\n",
       "      <th></th>\n",
       "      <th>DateCrawled</th>\n",
       "      <th>Price</th>\n",
       "      <th>VehicleType</th>\n",
       "      <th>RegistrationYear</th>\n",
       "      <th>Gearbox</th>\n",
       "      <th>Power</th>\n",
       "      <th>Model</th>\n",
       "      <th>Kilometer</th>\n",
       "      <th>RegistrationMonth</th>\n",
       "      <th>FuelType</th>\n",
       "      <th>Brand</th>\n",
       "      <th>Repaired</th>\n",
       "      <th>DateCreated</th>\n",
       "      <th>NumberOfPictures</th>\n",
       "      <th>PostalCode</th>\n",
       "      <th>LastSeen</th>\n",
       "    </tr>\n",
       "  </thead>\n",
       "  <tbody>\n",
       "    <tr>\n",
       "      <th>0</th>\n",
       "      <td>2016-03-24 11:52:17</td>\n",
       "      <td>480</td>\n",
       "      <td>NaN</td>\n",
       "      <td>1993</td>\n",
       "      <td>manual</td>\n",
       "      <td>0</td>\n",
       "      <td>golf</td>\n",
       "      <td>150000</td>\n",
       "      <td>0</td>\n",
       "      <td>petrol</td>\n",
       "      <td>volkswagen</td>\n",
       "      <td>NaN</td>\n",
       "      <td>2016-03-24 00:00:00</td>\n",
       "      <td>0</td>\n",
       "      <td>70435</td>\n",
       "      <td>2016-04-07 03:16:57</td>\n",
       "    </tr>\n",
       "    <tr>\n",
       "      <th>1</th>\n",
       "      <td>2016-03-24 10:58:45</td>\n",
       "      <td>18300</td>\n",
       "      <td>coupe</td>\n",
       "      <td>2011</td>\n",
       "      <td>manual</td>\n",
       "      <td>190</td>\n",
       "      <td>NaN</td>\n",
       "      <td>125000</td>\n",
       "      <td>5</td>\n",
       "      <td>gasoline</td>\n",
       "      <td>audi</td>\n",
       "      <td>yes</td>\n",
       "      <td>2016-03-24 00:00:00</td>\n",
       "      <td>0</td>\n",
       "      <td>66954</td>\n",
       "      <td>2016-04-07 01:46:50</td>\n",
       "    </tr>\n",
       "    <tr>\n",
       "      <th>2</th>\n",
       "      <td>2016-03-14 12:52:21</td>\n",
       "      <td>9800</td>\n",
       "      <td>suv</td>\n",
       "      <td>2004</td>\n",
       "      <td>auto</td>\n",
       "      <td>163</td>\n",
       "      <td>grand</td>\n",
       "      <td>125000</td>\n",
       "      <td>8</td>\n",
       "      <td>gasoline</td>\n",
       "      <td>jeep</td>\n",
       "      <td>NaN</td>\n",
       "      <td>2016-03-14 00:00:00</td>\n",
       "      <td>0</td>\n",
       "      <td>90480</td>\n",
       "      <td>2016-04-05 12:47:46</td>\n",
       "    </tr>\n",
       "    <tr>\n",
       "      <th>3</th>\n",
       "      <td>2016-03-17 16:54:04</td>\n",
       "      <td>1500</td>\n",
       "      <td>small</td>\n",
       "      <td>2001</td>\n",
       "      <td>manual</td>\n",
       "      <td>75</td>\n",
       "      <td>golf</td>\n",
       "      <td>150000</td>\n",
       "      <td>6</td>\n",
       "      <td>petrol</td>\n",
       "      <td>volkswagen</td>\n",
       "      <td>no</td>\n",
       "      <td>2016-03-17 00:00:00</td>\n",
       "      <td>0</td>\n",
       "      <td>91074</td>\n",
       "      <td>2016-03-17 17:40:17</td>\n",
       "    </tr>\n",
       "    <tr>\n",
       "      <th>4</th>\n",
       "      <td>2016-03-31 17:25:20</td>\n",
       "      <td>3600</td>\n",
       "      <td>small</td>\n",
       "      <td>2008</td>\n",
       "      <td>manual</td>\n",
       "      <td>69</td>\n",
       "      <td>fabia</td>\n",
       "      <td>90000</td>\n",
       "      <td>7</td>\n",
       "      <td>gasoline</td>\n",
       "      <td>skoda</td>\n",
       "      <td>no</td>\n",
       "      <td>2016-03-31 00:00:00</td>\n",
       "      <td>0</td>\n",
       "      <td>60437</td>\n",
       "      <td>2016-04-06 10:17:21</td>\n",
       "    </tr>\n",
       "  </tbody>\n",
       "</table>\n",
       "</div>"
      ],
      "text/plain": [
       "           DateCrawled  Price VehicleType  RegistrationYear Gearbox  Power  \\\n",
       "0  2016-03-24 11:52:17    480         NaN              1993  manual      0   \n",
       "1  2016-03-24 10:58:45  18300       coupe              2011  manual    190   \n",
       "2  2016-03-14 12:52:21   9800         suv              2004    auto    163   \n",
       "3  2016-03-17 16:54:04   1500       small              2001  manual     75   \n",
       "4  2016-03-31 17:25:20   3600       small              2008  manual     69   \n",
       "\n",
       "   Model  Kilometer  RegistrationMonth  FuelType       Brand Repaired  \\\n",
       "0   golf     150000                  0    petrol  volkswagen      NaN   \n",
       "1    NaN     125000                  5  gasoline        audi      yes   \n",
       "2  grand     125000                  8  gasoline        jeep      NaN   \n",
       "3   golf     150000                  6    petrol  volkswagen       no   \n",
       "4  fabia      90000                  7  gasoline       skoda       no   \n",
       "\n",
       "           DateCreated  NumberOfPictures  PostalCode             LastSeen  \n",
       "0  2016-03-24 00:00:00                 0       70435  2016-04-07 03:16:57  \n",
       "1  2016-03-24 00:00:00                 0       66954  2016-04-07 01:46:50  \n",
       "2  2016-03-14 00:00:00                 0       90480  2016-04-05 12:47:46  \n",
       "3  2016-03-17 00:00:00                 0       91074  2016-03-17 17:40:17  \n",
       "4  2016-03-31 00:00:00                 0       60437  2016-04-06 10:17:21  "
      ]
     },
     "metadata": {},
     "output_type": "display_data"
    },
    {
     "name": "stdout",
     "output_type": "stream",
     "text": [
      "<class 'pandas.core.frame.DataFrame'>\n",
      "RangeIndex: 354369 entries, 0 to 354368\n",
      "Data columns (total 16 columns):\n",
      " #   Column             Non-Null Count   Dtype \n",
      "---  ------             --------------   ----- \n",
      " 0   DateCrawled        354369 non-null  object\n",
      " 1   Price              354369 non-null  int64 \n",
      " 2   VehicleType        316879 non-null  object\n",
      " 3   RegistrationYear   354369 non-null  int64 \n",
      " 4   Gearbox            334536 non-null  object\n",
      " 5   Power              354369 non-null  int64 \n",
      " 6   Model              334664 non-null  object\n",
      " 7   Kilometer          354369 non-null  int64 \n",
      " 8   RegistrationMonth  354369 non-null  int64 \n",
      " 9   FuelType           321474 non-null  object\n",
      " 10  Brand              354369 non-null  object\n",
      " 11  Repaired           283215 non-null  object\n",
      " 12  DateCreated        354369 non-null  object\n",
      " 13  NumberOfPictures   354369 non-null  int64 \n",
      " 14  PostalCode         354369 non-null  int64 \n",
      " 15  LastSeen           354369 non-null  object\n",
      "dtypes: int64(7), object(9)\n",
      "memory usage: 43.3+ MB\n"
     ]
    },
    {
     "data": {
      "text/plain": [
       "None"
      ]
     },
     "metadata": {},
     "output_type": "display_data"
    },
    {
     "data": {
      "text/html": [
       "<div>\n",
       "<style scoped>\n",
       "    .dataframe tbody tr th:only-of-type {\n",
       "        vertical-align: middle;\n",
       "    }\n",
       "\n",
       "    .dataframe tbody tr th {\n",
       "        vertical-align: top;\n",
       "    }\n",
       "\n",
       "    .dataframe thead th {\n",
       "        text-align: right;\n",
       "    }\n",
       "</style>\n",
       "<table border=\"1\" class=\"dataframe\">\n",
       "  <thead>\n",
       "    <tr style=\"text-align: right;\">\n",
       "      <th></th>\n",
       "      <th>count</th>\n",
       "      <th>mean</th>\n",
       "      <th>std</th>\n",
       "      <th>min</th>\n",
       "      <th>25%</th>\n",
       "      <th>50%</th>\n",
       "      <th>75%</th>\n",
       "      <th>max</th>\n",
       "    </tr>\n",
       "  </thead>\n",
       "  <tbody>\n",
       "    <tr>\n",
       "      <th>Price</th>\n",
       "      <td>354369.0</td>\n",
       "      <td>4416.656776</td>\n",
       "      <td>4514.158514</td>\n",
       "      <td>0.0</td>\n",
       "      <td>1050.0</td>\n",
       "      <td>2700.0</td>\n",
       "      <td>6400.0</td>\n",
       "      <td>20000.0</td>\n",
       "    </tr>\n",
       "    <tr>\n",
       "      <th>RegistrationYear</th>\n",
       "      <td>354369.0</td>\n",
       "      <td>2004.234448</td>\n",
       "      <td>90.227958</td>\n",
       "      <td>1000.0</td>\n",
       "      <td>1999.0</td>\n",
       "      <td>2003.0</td>\n",
       "      <td>2008.0</td>\n",
       "      <td>9999.0</td>\n",
       "    </tr>\n",
       "    <tr>\n",
       "      <th>Power</th>\n",
       "      <td>354369.0</td>\n",
       "      <td>110.094337</td>\n",
       "      <td>189.850405</td>\n",
       "      <td>0.0</td>\n",
       "      <td>69.0</td>\n",
       "      <td>105.0</td>\n",
       "      <td>143.0</td>\n",
       "      <td>20000.0</td>\n",
       "    </tr>\n",
       "    <tr>\n",
       "      <th>Kilometer</th>\n",
       "      <td>354369.0</td>\n",
       "      <td>128211.172535</td>\n",
       "      <td>37905.341530</td>\n",
       "      <td>5000.0</td>\n",
       "      <td>125000.0</td>\n",
       "      <td>150000.0</td>\n",
       "      <td>150000.0</td>\n",
       "      <td>150000.0</td>\n",
       "    </tr>\n",
       "    <tr>\n",
       "      <th>RegistrationMonth</th>\n",
       "      <td>354369.0</td>\n",
       "      <td>5.714645</td>\n",
       "      <td>3.726421</td>\n",
       "      <td>0.0</td>\n",
       "      <td>3.0</td>\n",
       "      <td>6.0</td>\n",
       "      <td>9.0</td>\n",
       "      <td>12.0</td>\n",
       "    </tr>\n",
       "    <tr>\n",
       "      <th>NumberOfPictures</th>\n",
       "      <td>354369.0</td>\n",
       "      <td>0.000000</td>\n",
       "      <td>0.000000</td>\n",
       "      <td>0.0</td>\n",
       "      <td>0.0</td>\n",
       "      <td>0.0</td>\n",
       "      <td>0.0</td>\n",
       "      <td>0.0</td>\n",
       "    </tr>\n",
       "    <tr>\n",
       "      <th>PostalCode</th>\n",
       "      <td>354369.0</td>\n",
       "      <td>50508.689087</td>\n",
       "      <td>25783.096248</td>\n",
       "      <td>1067.0</td>\n",
       "      <td>30165.0</td>\n",
       "      <td>49413.0</td>\n",
       "      <td>71083.0</td>\n",
       "      <td>99998.0</td>\n",
       "    </tr>\n",
       "  </tbody>\n",
       "</table>\n",
       "</div>"
      ],
      "text/plain": [
       "                      count           mean           std     min       25%  \\\n",
       "Price              354369.0    4416.656776   4514.158514     0.0    1050.0   \n",
       "RegistrationYear   354369.0    2004.234448     90.227958  1000.0    1999.0   \n",
       "Power              354369.0     110.094337    189.850405     0.0      69.0   \n",
       "Kilometer          354369.0  128211.172535  37905.341530  5000.0  125000.0   \n",
       "RegistrationMonth  354369.0       5.714645      3.726421     0.0       3.0   \n",
       "NumberOfPictures   354369.0       0.000000      0.000000     0.0       0.0   \n",
       "PostalCode         354369.0   50508.689087  25783.096248  1067.0   30165.0   \n",
       "\n",
       "                        50%       75%       max  \n",
       "Price                2700.0    6400.0   20000.0  \n",
       "RegistrationYear     2003.0    2008.0    9999.0  \n",
       "Power                 105.0     143.0   20000.0  \n",
       "Kilometer          150000.0  150000.0  150000.0  \n",
       "RegistrationMonth       6.0       9.0      12.0  \n",
       "NumberOfPictures        0.0       0.0       0.0  \n",
       "PostalCode          49413.0   71083.0   99998.0  "
      ]
     },
     "metadata": {},
     "output_type": "display_data"
    },
    {
     "data": {
      "text/plain": [
       "DateCrawled              0\n",
       "Price                    0\n",
       "VehicleType          37490\n",
       "RegistrationYear         0\n",
       "Gearbox              19833\n",
       "Power                    0\n",
       "Model                19705\n",
       "Kilometer                0\n",
       "RegistrationMonth        0\n",
       "FuelType             32895\n",
       "Brand                    0\n",
       "Repaired             71154\n",
       "DateCreated              0\n",
       "NumberOfPictures         0\n",
       "PostalCode               0\n",
       "LastSeen                 0\n",
       "dtype: int64"
      ]
     },
     "metadata": {},
     "output_type": "display_data"
    },
    {
     "name": "stdout",
     "output_type": "stream",
     "text": [
      "Количество дубликатов:  4\n"
     ]
    },
    {
     "data": {
      "image/png": "[encoded data removed]",
      "text/plain": [
       "<Figure size 720x360 with 2 Axes>"
      ]
     },
     "metadata": {
      "needs_background": "light"
     },
     "output_type": "display_data"
    }
   ],
   "source": [
    "info(df)"
   ]
  },
  {
   "cell_type": "markdown",
   "metadata": {},
   "source": [
    "### Вывод\n",
    "Бибилотеки имортированы данные загружены\n",
    "\n",
    "\n",
    "\n",
    "При изучении ДФ были выявленны следующие проблемы\n",
    "\n",
    "- **Пропущены значения в колнках**\n",
    "\n",
    "    VehicleType\n",
    "    \n",
    "    Gearbox\n",
    "    \n",
    "    Model\n",
    "    \n",
    "    FuelType\n",
    "    \n",
    "    Repaired\n",
    "    \n",
    "    \n",
    "- Колонка **NumberOfPictures** сплошные 0\n",
    "\n",
    "- А так же не понятные данные\n",
    "\n",
    "    - в столбце **Price** присутвуют 0(маловероятные события,так как бесплтано машины не раздают)\n",
    "    \n",
    "    - в столбце **RegistrationYear** пристувуют машины старше 1000 лет\n",
    "    \n",
    "    - **Power** мощность автмобиля не может быть 0\n",
    "    \n",
    "Ну и 4 явных дубликата\n"
   ]
  },
  {
   "cell_type": "markdown",
   "metadata": {},
   "source": [
    "## Второй этап подготовки данных"
   ]
  },
  {
   "cell_type": "markdown",
   "metadata": {},
   "source": [
    "Иследование данных\n",
    "\n",
    "- Временные данные\n",
    "\n",
    "- Категориальные \n",
    "\n",
    "- Численные\n"
   ]
  },
  {
   "cell_type": "code",
   "execution_count": 6,
   "metadata": {},
   "outputs": [],
   "source": [
    "#функция возврата усов\n",
    "def moustache(col):\n",
    "    irq = (col.quantile(0.75) - col.quantile(0.25))*3\n",
    "    return max(col.quantile(0.25) - irq , col.min()), min(col.quantile(0.75) + irq,col.max())"
   ]
  },
  {
   "cell_type": "markdown",
   "metadata": {},
   "source": [
    "**Год регистрации автомобиля**"
   ]
  },
  {
   "cell_type": "code",
   "execution_count": 7,
   "metadata": {},
   "outputs": [
    {
     "data": {
      "image/png": "[encoded data removed]",
      "text/plain": [
       "<Figure size 1080x360 with 2 Axes>"
      ]
     },
     "metadata": {
      "needs_background": "light"
     },
     "output_type": "display_data"
    },
    {
     "data": {
      "text/plain": [
       "(1972.0, 2035.0)"
      ]
     },
     "execution_count": 7,
     "metadata": {},
     "output_type": "execute_result"
    }
   ],
   "source": [
    "fig = plt.figure(figsize=(15,5))\n",
    "\n",
    "ax_1 = fig.add_subplot(1, 2, 1)\n",
    "ax_1 = df[(df['RegistrationYear'] > 1970) & (df['RegistrationYear'] < 2023)]['RegistrationYear'].hist(bins=115)\n",
    "ax_1.set_title('Год регистрации автомобиля', fontsize=16)\n",
    "ax_1.set_xlabel('Год регистрации', fontsize=14)\n",
    "\n",
    "ax_2 = fig.add_subplot(1, 2, 2)\n",
    "ax_2 = sns.boxplot(data=df[(df['RegistrationYear'] > 1970) & (df['RegistrationYear'] < 2023)]['RegistrationYear'], orient='h')\n",
    "ax_2.axes.set_title('Год регистрации автомобиля', fontsize=16)\n",
    "ax_2.set_xlabel('Год регистрации', fontsize=14)\n",
    "\n",
    "plt.show();\n",
    "moustache(df['RegistrationYear'])"
   ]
  },
  {
   "cell_type": "markdown",
   "metadata": {},
   "source": [
    "Проанализировав данные,можно сделать вывод\n",
    "\n",
    "В целом данные распределены нормально за исключение 2015-2017 годов\n",
    "\n",
    "Ящик с усами показывает нам,что данные ниже 1972 можно удалить а атк же все что выше 2016 соответтвенно\n"
   ]
  },
  {
   "cell_type": "code",
   "execution_count": 8,
   "metadata": {},
   "outputs": [
    {
     "name": "stdout",
     "output_type": "stream",
     "text": [
      "Записей с месяцем 0: 37352\n"
     ]
    },
    {
     "data": {
      "image/png": "[encoded data removed]",
      "text/plain": [
       "<Figure size 432x288 with 1 Axes>"
      ]
     },
     "metadata": {
      "needs_background": "light"
     },
     "output_type": "display_data"
    }
   ],
   "source": [
    "print('Записей с месяцем 0:',df[df['RegistrationMonth']==0].shape[0])\n",
    "ax = df['RegistrationMonth'].hist(bins=13)\n",
    "ax.set_title('месяц регистрации', fontsize=16)\n",
    "ax.set(ylabel='количество', xlabel= 'месяц')\n",
    "plt.show;"
   ]
  },
  {
   "cell_type": "markdown",
   "metadata": {},
   "source": [
    "В целом данные распределены нормально,вопрос только месяц 0?\n",
    "\n",
    "Возможно в месяце 0 храняться данные,месяц которых просто  не известен\n",
    "\n",
    "Оставим его так как данных много"
   ]
  },
  {
   "cell_type": "markdown",
   "metadata": {},
   "source": [
    "**Изучим категориальные данные**"
   ]
  },
  {
   "cell_type": "markdown",
   "metadata": {},
   "source": [
    "**Тип кузова ТС**"
   ]
  },
  {
   "cell_type": "code",
   "execution_count": 9,
   "metadata": {},
   "outputs": [
    {
     "data": {
      "image/png": "[encoded data removed]",
      "text/plain": [
       "<Figure size 1440x1080 with 1 Axes>"
      ]
     },
     "metadata": {
      "needs_background": "light"
     },
     "output_type": "display_data"
    }
   ],
   "source": [
    "df['VehicleType'].value_counts().plot(kind='bar', \n",
    "                                      figsize=(20,15), \n",
    "                                      title='Тип автомобильного кузова ', \n",
    "                                      xlabel='марка',\n",
    "                                      ylabel='количество');"
   ]
  },
  {
   "cell_type": "markdown",
   "metadata": {},
   "source": [
    "**Марка ТС**"
   ]
  },
  {
   "cell_type": "code",
   "execution_count": 10,
   "metadata": {},
   "outputs": [
    {
     "data": {
      "image/png": "[encoded data removed]",
      "text/plain": [
       "<Figure size 1440x720 with 1 Axes>"
      ]
     },
     "metadata": {
      "needs_background": "light"
     },
     "output_type": "display_data"
    }
   ],
   "source": [
    "# Построение распределения марки автомобиля\n",
    "df['Brand'].value_counts().plot(kind='bar', \n",
    "                                figsize=(20,10), \n",
    "                                title='Марка автомобиля',\n",
    "                                xlabel='марка',\n",
    "                                ylabel='количество',);"
   ]
  },
  {
   "cell_type": "code",
   "execution_count": 11,
   "metadata": {},
   "outputs": [
    {
     "data": {
      "text/plain": [
       "volkswagen        77013\n",
       "opel              39931\n",
       "bmw               36914\n",
       "mercedes_benz     32046\n",
       "audi              29456\n",
       "ford              25179\n",
       "renault           17927\n",
       "peugeot           10998\n",
       "fiat               9643\n",
       "seat               6907\n",
       "mazda              5615\n",
       "skoda              5500\n",
       "smart              5246\n",
       "citroen            5148\n",
       "nissan             4941\n",
       "toyota             4606\n",
       "hyundai            3587\n",
       "sonstige_autos     3374\n",
       "volvo              3210\n",
       "mini               3202\n",
       "mitsubishi         3022\n",
       "honda              2817\n",
       "kia                2465\n",
       "suzuki             2323\n",
       "alfa_romeo         2314\n",
       "chevrolet          1754\n",
       "chrysler           1439\n",
       "dacia               900\n",
       "daihatsu            806\n",
       "subaru              762\n",
       "porsche             758\n",
       "jeep                677\n",
       "trabant             589\n",
       "land_rover          545\n",
       "daewoo              542\n",
       "saab                526\n",
       "jaguar              505\n",
       "rover               486\n",
       "lancia              471\n",
       "lada                225\n",
       "Name: Brand, dtype: int64"
      ]
     },
     "execution_count": 11,
     "metadata": {},
     "output_type": "execute_result"
    }
   ],
   "source": [
    "df['Brand'].value_counts()"
   ]
  },
  {
   "cell_type": "markdown",
   "metadata": {},
   "source": [
    "**Модель**"
   ]
  },
  {
   "cell_type": "code",
   "execution_count": 12,
   "metadata": {},
   "outputs": [
    {
     "data": {
      "image/png": "[encoded data removed]",
      "text/plain": [
       "<Figure size 1296x432 with 1 Axes>"
      ]
     },
     "metadata": {
      "needs_background": "light"
     },
     "output_type": "display_data"
    }
   ],
   "source": [
    "df['Model'].value_counts().head(20).plot(kind='bar', \n",
    "                                         figsize=(18,6), \n",
    "                                         title='Модель автомобиля',\n",
    "                                         xlabel='модель',\n",
    "                                         ylabel='количество',);"
   ]
  },
  {
   "cell_type": "markdown",
   "metadata": {},
   "source": [
    "**Топливо**"
   ]
  },
  {
   "cell_type": "code",
   "execution_count": 13,
   "metadata": {},
   "outputs": [
    {
     "data": {
      "image/png": "[encoded data removed]",
      "text/plain": [
       "<Figure size 720x432 with 1 Axes>"
      ]
     },
     "metadata": {
      "needs_background": "light"
     },
     "output_type": "display_data"
    }
   ],
   "source": [
    "df['FuelType'].value_counts().plot(kind='bar', \n",
    "                                   figsize=(10,6), \n",
    "                                   title='тип топлива',\n",
    "                                   xlabel='тип топлива',\n",
    "                                   ylabel='количество',);\n"
   ]
  },
  {
   "cell_type": "markdown",
   "metadata": {},
   "source": [
    "**Коробка**"
   ]
  },
  {
   "cell_type": "code",
   "execution_count": 14,
   "metadata": {},
   "outputs": [
    {
     "data": {
      "image/png": "[encoded data removed]",
      "text/plain": [
       "<Figure size 432x432 with 1 Axes>"
      ]
     },
     "metadata": {
      "needs_background": "light"
     },
     "output_type": "display_data"
    }
   ],
   "source": [
    "df['Gearbox'].value_counts().plot(kind='bar', \n",
    "                                  figsize=(6,6), \n",
    "                                  title='Тип коробки передач',\n",
    "                                  xlabel='тип коробки',\n",
    "                                  ylabel='количество',);"
   ]
  },
  {
   "cell_type": "markdown",
   "metadata": {},
   "source": [
    "Проанализировав все графики видно,самый популярный тип ТС имеет\n",
    "\n",
    "- Тип кузова седан\n",
    "\n",
    "- Марка  **volkswagen**\n",
    "\n",
    "- модель Golf\n",
    "\n",
    "- Топливо Petrol\n",
    "\n",
    "- Коробка механическая"
   ]
  },
  {
   "cell_type": "markdown",
   "metadata": {},
   "source": [
    "**Численные данные**"
   ]
  },
  {
   "cell_type": "code",
   "execution_count": 15,
   "metadata": {},
   "outputs": [],
   "source": [
    "def analiz(data, title, x_label):\n",
    "    fig = plt.figure(figsize=(15,5))\n",
    "    # Вывод гистограмы\n",
    "    ax_1 = fig.add_subplot(1, 2, 1)\n",
    "    ax_1 = sns.histplot(data=data)\n",
    "    ax_1.axes.set_title(title, fontsize=16)\n",
    "    ax_1.set_xlabel(x_label, fontsize=14)\n",
    "    \n",
    "    # Вывод диаграмы размаха\n",
    "    ax_2 = fig.add_subplot(1, 2, 2)\n",
    "    ax_2 = sns.boxplot(data=data, orient='h')\n",
    "    ax_2.axes.set_title(title, fontsize=16)\n",
    "    ax_2.set_xlabel(x_label, fontsize=20)\n",
    "\n",
    "    plt.show();"
   ]
  },
  {
   "cell_type": "code",
   "execution_count": 16,
   "metadata": {},
   "outputs": [
    {
     "data": {
      "image/png": "[encoded data removed]",
      "text/plain": [
       "<Figure size 1080x360 with 2 Axes>"
      ]
     },
     "metadata": {
      "needs_background": "light"
     },
     "output_type": "display_data"
    },
    {
     "data": {
      "text/plain": [
       "count    354369.000000\n",
       "mean       4416.656776\n",
       "std        4514.158514\n",
       "min           0.000000\n",
       "25%        1050.000000\n",
       "50%        2700.000000\n",
       "75%        6400.000000\n",
       "max       20000.000000\n",
       "Name: Price, dtype: float64"
      ]
     },
     "execution_count": 16,
     "metadata": {},
     "output_type": "execute_result"
    }
   ],
   "source": [
    "analiz(df['Price'], 'Цена автомобиля', 'Цена')\n",
    "df['Price'].describe()"
   ]
  },
  {
   "cell_type": "markdown",
   "metadata": {},
   "source": [
    "Исходя из графиков видно\n",
    "\n",
    "- Много нулевых значений их придется удалить.\n",
    "\n",
    "- А вот цена выше 20 тысяч евро вполне нормальная(так как владелец мог переделать авто под себя) их трогать небудем"
   ]
  },
  {
   "cell_type": "code",
   "execution_count": 17,
   "metadata": {
    "scrolled": false
   },
   "outputs": [
    {
     "data": {
      "image/png": "[encoded data removed]",
      "text/plain": [
       "<Figure size 1080x360 with 2 Axes>"
      ]
     },
     "metadata": {
      "needs_background": "light"
     },
     "output_type": "display_data"
    },
    {
     "data": {
      "text/plain": [
       "count    354369.000000\n",
       "mean        110.094337\n",
       "std         189.850405\n",
       "min           0.000000\n",
       "25%          69.000000\n",
       "50%         105.000000\n",
       "75%         143.000000\n",
       "max       20000.000000\n",
       "Name: Power, dtype: float64"
      ]
     },
     "execution_count": 17,
     "metadata": {},
     "output_type": "execute_result"
    }
   ],
   "source": [
    "analiz(df[df['Power'] < 300]['Power'], 'Мощность двигателя', 'Мощность')\n",
    "df['Power'].describe()"
   ]
  },
  {
   "cell_type": "markdown",
   "metadata": {},
   "source": [
    "Из графиков делаю вывод что\n",
    "\n",
    "- Минималльная мощность авто определяю 60 л.с\n",
    "\n",
    "- Максимальная не более 250,значение выше тысячи поделим на 10,значение выше 1000 поделим на 100(возможно ошибка в данных)\n",
    "\n",
    "Так как авто с мощностью меньше 60 л.с 17% от общего числа,данные удалять не будем-это много\n"
   ]
  },
  {
   "cell_type": "code",
   "execution_count": 18,
   "metadata": {},
   "outputs": [
    {
     "data": {
      "image/png": "[encoded data removed]",
      "text/plain": [
       "<Figure size 1080x360 with 2 Axes>"
      ]
     },
     "metadata": {
      "needs_background": "light"
     },
     "output_type": "display_data"
    },
    {
     "data": {
      "text/plain": [
       "count    354369.000000\n",
       "mean     128211.172535\n",
       "std       37905.341530\n",
       "min        5000.000000\n",
       "25%      125000.000000\n",
       "50%      150000.000000\n",
       "75%      150000.000000\n",
       "max      150000.000000\n",
       "Name: Kilometer, dtype: float64"
      ]
     },
     "execution_count": 18,
     "metadata": {},
     "output_type": "execute_result"
    }
   ],
   "source": [
    "analiz(df['Kilometer'], 'Пробег автомобиля', 'пробег')\n",
    "df['Kilometer'].describe()"
   ]
  },
  {
   "cell_type": "markdown",
   "metadata": {},
   "source": [
    "Видно,что в среднем продают авто от 125 до 150 тысяч(пробег в км)"
   ]
  },
  {
   "cell_type": "markdown",
   "metadata": {},
   "source": [
    "### Вывод"
   ]
  },
  {
   "cell_type": "markdown",
   "metadata": {},
   "source": [
    "Исходя из анализа сделаем следующие\n",
    "\n",
    "- Удалим около нулевые значение в цене и мощности\n",
    "\n",
    "- Мощность 250,значение выше тысячи поделим на 10,значение выше 1000 поделим на 100\n",
    "\n",
    "- Пробег оставим"
   ]
  },
  {
   "cell_type": "markdown",
   "metadata": {},
   "source": [
    "## Предобработка данных"
   ]
  },
  {
   "cell_type": "markdown",
   "metadata": {},
   "source": [
    "**Обработка** \n",
    "\n",
    "- Пропусков\n",
    "\n",
    "- Дубликатов\n",
    "\n",
    "- Аномалий"
   ]
  },
  {
   "cell_type": "code",
   "execution_count": 19,
   "metadata": {},
   "outputs": [],
   "source": [
    "# Удалим колонку стостоящию только с 0 и дубликаты\n",
    "df = df.drop('NumberOfPictures', axis=1)\n",
    "df = df.drop_duplicates()"
   ]
  },
  {
   "cell_type": "code",
   "execution_count": 20,
   "metadata": {},
   "outputs": [],
   "source": [
    "#Model  заменим на other\n",
    "df['Model'] = df['Model'].fillna('other')\n",
    "#Gearbox  заменим на manual\n",
    "df['Gearbox'] = df['Gearbox'].fillna('manual')\n",
    "#FuelType  заменим petrol\n",
    "df['FuelType'] = df['FuelType'].fillna('petrol')\n",
    "#Repaired - заменим на unknown\n",
    "df['Repaired'] = df['Repaired'].fillna('unknown')"
   ]
  },
  {
   "cell_type": "code",
   "execution_count": 21,
   "metadata": {},
   "outputs": [],
   "source": [
    "#Пропуски в VehicleType восстановим по модели\n",
    "type_dict = df[df['Model'].notna()].pivot_table(index='Model', columns='VehicleType', values='Brand', aggfunc='count')\n",
    "model=type_dict.columns.values\n",
    "# Добавляем колонку с наиболее часто встречающимся типом кузова для данной модели\n",
    "type_dict['most_friqued'] = type_dict[model].apply(lambda x: model[x.argmax()], axis=1)\n",
    "# Заполняем пропуски\n",
    "df.loc[df['VehicleType'].isna(), 'VehicleType'] = df[df['VehicleType'].isna()]['Model'].apply(\n",
    "    lambda x: type_dict.loc[x,'most_friqued'])                                                                      "
   ]
  },
  {
   "cell_type": "code",
   "execution_count": 22,
   "metadata": {},
   "outputs": [
    {
     "name": "stdout",
     "output_type": "stream",
     "text": [
      "<class 'pandas.core.frame.DataFrame'>\n",
      "Int64Index: 354365 entries, 0 to 354368\n",
      "Data columns (total 15 columns):\n",
      " #   Column             Non-Null Count   Dtype \n",
      "---  ------             --------------   ----- \n",
      " 0   DateCrawled        354365 non-null  object\n",
      " 1   Price              354365 non-null  int64 \n",
      " 2   VehicleType        354365 non-null  object\n",
      " 3   RegistrationYear   354365 non-null  int64 \n",
      " 4   Gearbox            354365 non-null  object\n",
      " 5   Power              354365 non-null  int64 \n",
      " 6   Model              354365 non-null  object\n",
      " 7   Kilometer          354365 non-null  int64 \n",
      " 8   RegistrationMonth  354365 non-null  int64 \n",
      " 9   FuelType           354365 non-null  object\n",
      " 10  Brand              354365 non-null  object\n",
      " 11  Repaired           354365 non-null  object\n",
      " 12  DateCreated        354365 non-null  object\n",
      " 13  PostalCode         354365 non-null  int64 \n",
      " 14  LastSeen           354365 non-null  object\n",
      "dtypes: int64(6), object(9)\n",
      "memory usage: 43.3+ MB\n"
     ]
    }
   ],
   "source": [
    "# Проверка\n",
    "df.info()\n",
    "#Отлично! Данные восстановлены"
   ]
  },
  {
   "cell_type": "markdown",
   "metadata": {},
   "source": [
    "**Аномальные значения**"
   ]
  },
  {
   "cell_type": "code",
   "execution_count": 23,
   "metadata": {},
   "outputs": [],
   "source": [
    "#RegistrationYear - обрежим по усам\n",
    "min_mus, max_mus = moustache(df['RegistrationYear'])\n",
    "df = df[df['RegistrationYear'] >= min_mus]\n",
    "df = df[df['RegistrationYear'] <= 2017]"
   ]
  },
  {
   "cell_type": "markdown",
   "metadata": {},
   "source": [
    "### Для ревьюера\n",
    "\n",
    "Итак...что касается Цены\n",
    "\n",
    "Очень сложно было объективно обрезать данные.так как хочу обрезать Я,это более 20%-у нас не приветсвуется такое.\n",
    "\n",
    "Но раз уж мы делаем проноз,то мне просто интересно стало погуглить цены автомобилей(еле еле нашел)... потом еще эта конвертация  из дойтч марки к евро...да еще и данные за 1974 год)\n",
    "\n",
    "В общем мои Аргументы\n",
    "\n",
    "- Так как самый популярный автомобиль голф,а самый потребаляемый производитель это немецкий Das Auto(их слоган) отталкиваемся от него\n",
    "\n",
    "История авто на википидии https://ru.wikipedia.org/wiki/Volkswagen_Golf_I (В 1982 году объём и производительность мотора были увеличены до 1,8 л и 112 л. с. **Цена базового GTI** в 1976 году составляла **13850 ДМ**, а модель с 1,8 л в 1983 году уже стоила 20465 ДМ (для примера, в то время самая доступная от Mercedes-Benz модель 190 с 90 л. с. стоила 26026 ДМ).\n",
    "\n",
    "Но это верси GTI -так скажем более мощная и дорогая но примерно цену мы уже знаем 13850 марок,следвоательно нам нужен вариант для всех\n",
    "\n",
    "Переходим сюда и видим\n",
    "\n",
    "https://1gai.ru/publ/512399-volkswagen-golf-40-let-istorii.html#:~:text=%D0%92%201974%20%D0%B3%D0%BE%D0%B4%D1%83%20%D0%B0%D0%B2%D1%82%D0%BE%D0%BC%D0%BE%D0%B1%D0%B8%D0%BB%D1%8C%20%D1%81%D1%82%D0%BE%D0%B8%D0%BB%208%2C000%20%D0%94%D0%BE%D0%B9%D1%87%20%D0%BC%D0%B0%D1%80%D0%BE%D0%BA.\n",
    "\n",
    "\n",
    "В 1974 году автомобиль стоил 8,000 Дойч марок. -НАШ ВАРИАНТ\n",
    "\n",
    "Так как в нашем датасете Евро а не немецкие марки нужно найти сколько это?8тысяч марок в евро\n",
    "\n",
    "https://fxtop.com/ru/cnvhisto.php?A=1&C1=DEM&C2=EUR&DD=01&MM=01&YYYY=1974&B=1&P=&I=1&btnOK=%D0%98%D1%81%D0%BA%D0%B0%D1%82%D1%8C\n",
    "\n",
    "\n",
    "1 DEM=**0.330355** EUR8\n"
   ]
  },
  {
   "cell_type": "code",
   "execution_count": 24,
   "metadata": {},
   "outputs": [
    {
     "name": "stdout",
     "output_type": "stream",
     "text": [
      "Цена голфа в 1974 году в евро: 2642.84\n",
      "Цены ниже 2000: 0.4153134847519501\n"
     ]
    }
   ],
   "source": [
    "print('Цена голфа в 1974 году в евро:',8000*0.330355)\n",
    "print('Цены ниже 2000:',df[df['Price'] < 2000]['Price'].shape[0]/df.shape[0])"
   ]
  },
  {
   "cell_type": "markdown",
   "metadata": {},
   "source": [
    "Что имеем? на выходе...\n",
    "\n",
    "- Мои рассчеты явны не идеальны\n",
    "\n",
    "- Но и датасет тожене фонатан\n",
    "\n",
    "Если резать по усам это будет 24% -предполагаю вам не понравиться тоже,Ды и машины же не все голфы были,были и дешевле)\n",
    "\n",
    "Предлагаю обрезать по цене 750.-Да много!Но объективно(16%)\n",
    "\n",
    "\n",
    "P/s\n",
    "\n",
    "Если в чем то не прав(в этом моменте) - то прошу,покажите,объясните,аргументируйте.\n",
    "\n",
    "Я понимаю что  у по правилам DS 20%, кто -то 10%.Но самое важное,это ведь то как обучится модель?Если в ней будет ложных данных то  и предсказания ложные будут- а нам это не к чему"
   ]
  },
  {
   "cell_type": "code",
   "execution_count": 25,
   "metadata": {},
   "outputs": [],
   "source": [
    "#Price \n",
    "df = df[df['Price'] > 750]"
   ]
  },
  {
   "cell_type": "code",
   "execution_count": 26,
   "metadata": {},
   "outputs": [
    {
     "name": "stdout",
     "output_type": "stream",
     "text": [
      "<class 'pandas.core.frame.DataFrame'>\n",
      "Int64Index: 286715 entries, 1 to 354368\n",
      "Data columns (total 15 columns):\n",
      " #   Column             Non-Null Count   Dtype \n",
      "---  ------             --------------   ----- \n",
      " 0   DateCrawled        286715 non-null  object\n",
      " 1   Price              286715 non-null  int64 \n",
      " 2   VehicleType        286715 non-null  object\n",
      " 3   RegistrationYear   286715 non-null  int64 \n",
      " 4   Gearbox            286715 non-null  object\n",
      " 5   Power              286715 non-null  int64 \n",
      " 6   Model              286715 non-null  object\n",
      " 7   Kilometer          286715 non-null  int64 \n",
      " 8   RegistrationMonth  286715 non-null  int64 \n",
      " 9   FuelType           286715 non-null  object\n",
      " 10  Brand              286715 non-null  object\n",
      " 11  Repaired           286715 non-null  object\n",
      " 12  DateCreated        286715 non-null  object\n",
      " 13  PostalCode         286715 non-null  int64 \n",
      " 14  LastSeen           286715 non-null  object\n",
      "dtypes: int64(6), object(9)\n",
      "memory usage: 35.0+ MB\n"
     ]
    }
   ],
   "source": [
    "# Исключим из набора данных автомобили со значением мощьности двигателя менее верхнего уса\n",
    "min_mus, max_mus = moustache(df['Power'])\n",
    "df = df[df['Power'] <= max_mus]\n",
    "df.info()"
   ]
  },
  {
   "cell_type": "markdown",
   "metadata": {},
   "source": [
    "### Вывод\n",
    "\n",
    "В ходе предобработки,узбавились от пропусков дубликатов и аномалий"
   ]
  },
  {
   "cell_type": "markdown",
   "metadata": {},
   "source": [
    "## Обучение моделей"
   ]
  },
  {
   "cell_type": "markdown",
   "metadata": {},
   "source": [
    "### Подготовка выборок"
   ]
  },
  {
   "cell_type": "markdown",
   "metadata": {},
   "source": [
    "- Числовыми признаками будут **RegistrationYear**, **Power**, **Kilometer**, **Kilometer**\n",
    "\n",
    "- Категориальными признаками будут **VehicleType**, **Gearbox**, **Model**, **FuelType**, **Brand**, **Repaired**\n",
    "\n",
    "- Целевой признак **Price**\n",
    "\n",
    "- Маштабируем призаки и закродируем признаки с помощью OHE"
   ]
  },
  {
   "cell_type": "code",
   "execution_count": 27,
   "metadata": {},
   "outputs": [
    {
     "data": {
      "text/html": [
       "<div>\n",
       "<style scoped>\n",
       "    .dataframe tbody tr th:only-of-type {\n",
       "        vertical-align: middle;\n",
       "    }\n",
       "\n",
       "    .dataframe tbody tr th {\n",
       "        vertical-align: top;\n",
       "    }\n",
       "\n",
       "    .dataframe thead th {\n",
       "        text-align: right;\n",
       "    }\n",
       "</style>\n",
       "<table border=\"1\" class=\"dataframe\">\n",
       "  <thead>\n",
       "    <tr style=\"text-align: right;\">\n",
       "      <th></th>\n",
       "      <th>Размер выборки</th>\n",
       "    </tr>\n",
       "  </thead>\n",
       "  <tbody>\n",
       "    <tr>\n",
       "      <th>features_train</th>\n",
       "      <td>172029</td>\n",
       "    </tr>\n",
       "    <tr>\n",
       "      <th>target_train</th>\n",
       "      <td>172029</td>\n",
       "    </tr>\n",
       "    <tr>\n",
       "      <th>features_valid</th>\n",
       "      <td>57343</td>\n",
       "    </tr>\n",
       "    <tr>\n",
       "      <th>target_valid</th>\n",
       "      <td>57343</td>\n",
       "    </tr>\n",
       "    <tr>\n",
       "      <th>features_test</th>\n",
       "      <td>57343</td>\n",
       "    </tr>\n",
       "    <tr>\n",
       "      <th>target_test</th>\n",
       "      <td>57343</td>\n",
       "    </tr>\n",
       "  </tbody>\n",
       "</table>\n",
       "</div>"
      ],
      "text/plain": [
       "                Размер выборки\n",
       "features_train          172029\n",
       "target_train            172029\n",
       "features_valid           57343\n",
       "target_valid             57343\n",
       "features_test            57343\n",
       "target_test              57343"
      ]
     },
     "execution_count": 27,
     "metadata": {},
     "output_type": "execute_result"
    }
   ],
   "source": [
    "numerical_cols = ['RegistrationYear', 'Power', 'Kilometer', 'RegistrationMonth'] # числовые\n",
    "categorical_cols = ['VehicleType', 'Gearbox', 'Model', 'FuelType', 'Brand', 'Repaired'] # категориальные\n",
    "all_cols = numerical_cols + categorical_cols\n",
    "df[categorical_cols] = df[categorical_cols].astype('category') # перобразование для lgbm\n",
    "\n",
    "target = df['Price']\n",
    "features = df[all_cols]\n",
    "# Разделение на тернировачную валидационную и тестовую выборку\n",
    "features_train, features_vt, target_train, target_vt = train_test_split(features, \n",
    "                                                                        target, \n",
    "                                                                        test_size=0.4, \n",
    "                                                                        random_state=12345)\n",
    "features_valid, features_test, target_valid, target_test = train_test_split(features_vt, \n",
    "                                                                            target_vt, \n",
    "                                                                            test_size=0.5, \n",
    "                                                                            random_state=12345)\n",
    "# Стандартизация и кодирование\n",
    "preprocessor_OHE = ColumnTransformer(transformers=[('num', StandardScaler(), numerical_cols),\n",
    "                                                   ('cat', OneHotEncoder(drop='first',handle_unknown='ignore'),categorical_cols,)\n",
    "                                                  ])\n",
    "preprocessor_null = ColumnTransformer(transformers=[('null')])\n",
    "\n",
    "\n",
    "# проверим размеры выборок\n",
    "pd.DataFrame(data=[features_train.shape[0], target_train.shape[0],\n",
    "                   features_valid.shape[0], target_valid.shape[0],\n",
    "                   features_test.shape[0],  target_test.shape[0]],\n",
    "             index=['features_train', 'target_train', \n",
    "                    'features_valid', 'target_valid', \n",
    "                    'features_test',  'target_test'],\n",
    "             columns=['Размер выборки']\n",
    "            )"
   ]
  },
  {
   "cell_type": "markdown",
   "metadata": {},
   "source": [
    "### Модели обучения"
   ]
  },
  {
   "cell_type": "markdown",
   "metadata": {},
   "source": [
    "Рассмотрим варианты\n",
    "\n",
    "- Линейная регрессия\n",
    "\n",
    "- Деревья\n",
    "\n",
    "- Catboost\n",
    "\n",
    "- LGBM\n",
    "\n",
    "\n",
    "Применим разные методы кодирования\n",
    "\n",
    "- OHE \n",
    "\n",
    "\n",
    "- Для бустинга можно передавать и не закодированные категориальные данные\n",
    "\n",
    "Напишем функцию ,которая принимает модель,возвращает время обучения RMSE  и предсказания\n",
    "\n",
    "Все результаты запишем в отдлеьный датафрейм"
   ]
  },
  {
   "cell_type": "code",
   "execution_count": 28,
   "metadata": {},
   "outputs": [],
   "source": [
    "# функия\n",
    "def get_rmse_valid(model, preprocessor=preprocessor_null, X=features_train, y=target_train, X_test=features_valid, y_test=target_valid):\n",
    "    # предобработка принятым трансформером\n",
    "    if preprocessor != preprocessor_null:\n",
    "        X = preprocessor.fit_transform(X)\n",
    "        X_test = preprocessor.transform(X_test)\n",
    "     \n",
    "    if preprocessor == preprocessor_null and type(model) == type(CatBoostRegressor()):\n",
    "        # Если CatBoost без кодирования, то fit надо вызывать с cat_features\n",
    "        start_time = time.time()\n",
    "        model.fit(X, y, cat_features=categorical_cols)\n",
    "    else:\n",
    "        # Если всё остальное - просто вызываем fit\n",
    "        start_time = time.time()\n",
    "        model.fit(X, y)\n",
    "    \n",
    "    fit_time = time.time()\n",
    "    predictions = model.predict(X_test)\n",
    "    prediction_time = time.time()\n",
    "    return (round(mean_squared_error(y_test, predictions, squared=False), 1), \n",
    "            round(fit_time - start_time, 1), \n",
    "            round(prediction_time - fit_time, 5)\n",
    "           )\n",
    "\n",
    "results_df = pd.DataFrame(columns=['RMSE', 'fit_time', 'predict_time'])"
   ]
  },
  {
   "cell_type": "markdown",
   "metadata": {},
   "source": [
    "### Линейная регрессия"
   ]
  },
  {
   "cell_type": "code",
   "execution_count": 29,
   "metadata": {},
   "outputs": [
    {
     "name": "stdout",
     "output_type": "stream",
     "text": [
      "CPU times: user 14.3 s, sys: 18.7 s, total: 32.9 s\n",
      "Wall time: 34.6 s\n"
     ]
    },
    {
     "data": {
      "text/html": [
       "<div>\n",
       "<style scoped>\n",
       "    .dataframe tbody tr th:only-of-type {\n",
       "        vertical-align: middle;\n",
       "    }\n",
       "\n",
       "    .dataframe tbody tr th {\n",
       "        vertical-align: top;\n",
       "    }\n",
       "\n",
       "    .dataframe thead th {\n",
       "        text-align: right;\n",
       "    }\n",
       "</style>\n",
       "<table border=\"1\" class=\"dataframe\">\n",
       "  <thead>\n",
       "    <tr style=\"text-align: right;\">\n",
       "      <th></th>\n",
       "      <th>RMSE</th>\n",
       "      <th>fit_time</th>\n",
       "      <th>predict_time</th>\n",
       "    </tr>\n",
       "  </thead>\n",
       "  <tbody>\n",
       "    <tr>\n",
       "      <th>LinearRegression(OHE)</th>\n",
       "      <td>2696.7</td>\n",
       "      <td>34.1</td>\n",
       "      <td>0.00284</td>\n",
       "    </tr>\n",
       "  </tbody>\n",
       "</table>\n",
       "</div>"
      ],
      "text/plain": [
       "                         RMSE  fit_time  predict_time\n",
       "LinearRegression(OHE)  2696.7      34.1       0.00284"
      ]
     },
     "execution_count": 29,
     "metadata": {},
     "output_type": "execute_result"
    }
   ],
   "source": [
    "%%time\n",
    "results_df.loc['LinearRegression(OHE)'] = get_rmse_valid(LinearRegression(), preprocessor_OHE)\n",
    "results_df['LinearRegression(OHE)':]"
   ]
  },
  {
   "cell_type": "markdown",
   "metadata": {},
   "source": [
    "Вывод\n",
    "\n",
    "При использовании модели линейной регрессии,кодирование признаков влияет на скорость работы модели при OHE скорость маленькая на результат точнее"
   ]
  },
  {
   "cell_type": "markdown",
   "metadata": {},
   "source": [
    "### Деревья решений"
   ]
  },
  {
   "cell_type": "code",
   "execution_count": 30,
   "metadata": {},
   "outputs": [
    {
     "name": "stdout",
     "output_type": "stream",
     "text": [
      "CPU times: user 7.32 s, sys: 160 ms, total: 7.48 s\n",
      "Wall time: 7.51 s\n"
     ]
    },
    {
     "data": {
      "text/html": [
       "<div>\n",
       "<style scoped>\n",
       "    .dataframe tbody tr th:only-of-type {\n",
       "        vertical-align: middle;\n",
       "    }\n",
       "\n",
       "    .dataframe tbody tr th {\n",
       "        vertical-align: top;\n",
       "    }\n",
       "\n",
       "    .dataframe thead th {\n",
       "        text-align: right;\n",
       "    }\n",
       "</style>\n",
       "<table border=\"1\" class=\"dataframe\">\n",
       "  <thead>\n",
       "    <tr style=\"text-align: right;\">\n",
       "      <th></th>\n",
       "      <th>RMSE</th>\n",
       "      <th>fit_time</th>\n",
       "      <th>predict_time</th>\n",
       "    </tr>\n",
       "  </thead>\n",
       "  <tbody>\n",
       "    <tr>\n",
       "      <th>DecisionTreeRegressor(OHE)</th>\n",
       "      <td>1936.5</td>\n",
       "      <td>7.0</td>\n",
       "      <td>0.00912</td>\n",
       "    </tr>\n",
       "  </tbody>\n",
       "</table>\n",
       "</div>"
      ],
      "text/plain": [
       "                              RMSE  fit_time  predict_time\n",
       "DecisionTreeRegressor(OHE)  1936.5       7.0       0.00912"
      ]
     },
     "execution_count": 30,
     "metadata": {},
     "output_type": "execute_result"
    }
   ],
   "source": [
    "%%time\n",
    "results_df.loc['DecisionTreeRegressor(OHE)'] = get_rmse_valid(DecisionTreeRegressor(max_depth=15, random_state=123),\n",
    "                                                                      preprocessor_OHE)\n",
    "results_df['DecisionTreeRegressor(OHE)':]"
   ]
  },
  {
   "cell_type": "markdown",
   "metadata": {},
   "source": [
    "Подбор гиппер параметров для деревьев"
   ]
  },
  {
   "cell_type": "code",
   "execution_count": 31,
   "metadata": {},
   "outputs": [
    {
     "name": "stdout",
     "output_type": "stream",
     "text": [
      "Параметры модели: {'max_depth': 16}\n",
      "Лучший RMSE модели: -2002.1635387354604\n",
      "CPU times: user 4min 51s, sys: 856 ms, total: 4min 52s\n",
      "Wall time: 4min 56s\n"
     ]
    }
   ],
   "source": [
    "%%time\n",
    "\n",
    "parametrs = { 'max_depth':range(5,20)}\n",
    "\n",
    "tree_model = DecisionTreeRegressor()\n",
    "treeCV = GridSearchCV(tree_model, parametrs, scoring='neg_root_mean_squared_error', cv=5)\n",
    "treeCV.fit(preprocessor_OHE.fit_transform(features_train), target_train)\n",
    "print('Параметры модели:', treeCV.best_params_)\n",
    "print('Лучший RMSE модели:', treeCV.best_score_)"
   ]
  },
  {
   "cell_type": "code",
   "execution_count": 32,
   "metadata": {},
   "outputs": [
    {
     "data": {
      "text/html": [
       "<div>\n",
       "<style scoped>\n",
       "    .dataframe tbody tr th:only-of-type {\n",
       "        vertical-align: middle;\n",
       "    }\n",
       "\n",
       "    .dataframe tbody tr th {\n",
       "        vertical-align: top;\n",
       "    }\n",
       "\n",
       "    .dataframe thead th {\n",
       "        text-align: right;\n",
       "    }\n",
       "</style>\n",
       "<table border=\"1\" class=\"dataframe\">\n",
       "  <thead>\n",
       "    <tr style=\"text-align: right;\">\n",
       "      <th></th>\n",
       "      <th>RMSE</th>\n",
       "      <th>fit_time</th>\n",
       "      <th>predict_time</th>\n",
       "    </tr>\n",
       "  </thead>\n",
       "  <tbody>\n",
       "    <tr>\n",
       "      <th>DecisionTreeRegressor(OHE, best)</th>\n",
       "      <td>1936.5</td>\n",
       "      <td>8.1</td>\n",
       "      <td>0.00977</td>\n",
       "    </tr>\n",
       "  </tbody>\n",
       "</table>\n",
       "</div>"
      ],
      "text/plain": [
       "                                    RMSE  fit_time  predict_time\n",
       "DecisionTreeRegressor(OHE, best)  1936.5       8.1       0.00977"
      ]
     },
     "execution_count": 32,
     "metadata": {},
     "output_type": "execute_result"
    }
   ],
   "source": [
    "results_df.loc['DecisionTreeRegressor(OHE, best)'] = get_rmse_valid(DecisionTreeRegressor(max_depth=15, random_state=123),\n",
    "                                                                     preprocessor_OHE)\n",
    "results_df['DecisionTreeRegressor(OHE, best)':]"
   ]
  },
  {
   "cell_type": "markdown",
   "metadata": {},
   "source": [
    "Вывод\n",
    "\n",
    "Результаты лучше чем у линейной регрессии"
   ]
  },
  {
   "cell_type": "markdown",
   "metadata": {},
   "source": [
    "###  LGBM"
   ]
  },
  {
   "cell_type": "markdown",
   "metadata": {},
   "source": [
    "Рассмотрим варианты с кодированием (OHE,стандартный)"
   ]
  },
  {
   "cell_type": "code",
   "execution_count": 33,
   "metadata": {},
   "outputs": [
    {
     "name": "stdout",
     "output_type": "stream",
     "text": [
      "CPU times: user 6min 29s, sys: 2.18 s, total: 6min 31s\n",
      "Wall time: 6min 36s\n"
     ]
    },
    {
     "data": {
      "text/html": [
       "<div>\n",
       "<style scoped>\n",
       "    .dataframe tbody tr th:only-of-type {\n",
       "        vertical-align: middle;\n",
       "    }\n",
       "\n",
       "    .dataframe tbody tr th {\n",
       "        vertical-align: top;\n",
       "    }\n",
       "\n",
       "    .dataframe thead th {\n",
       "        text-align: right;\n",
       "    }\n",
       "</style>\n",
       "<table border=\"1\" class=\"dataframe\">\n",
       "  <thead>\n",
       "    <tr style=\"text-align: right;\">\n",
       "      <th></th>\n",
       "      <th>RMSE</th>\n",
       "      <th>fit_time</th>\n",
       "      <th>predict_time</th>\n",
       "    </tr>\n",
       "  </thead>\n",
       "  <tbody>\n",
       "    <tr>\n",
       "      <th>LGBMRegressor(OHE)</th>\n",
       "      <td>1724.7</td>\n",
       "      <td>395.4</td>\n",
       "      <td>0.69956</td>\n",
       "    </tr>\n",
       "  </tbody>\n",
       "</table>\n",
       "</div>"
      ],
      "text/plain": [
       "                      RMSE  fit_time  predict_time\n",
       "LGBMRegressor(OHE)  1724.7     395.4       0.69956"
      ]
     },
     "execution_count": 33,
     "metadata": {},
     "output_type": "execute_result"
    }
   ],
   "source": [
    "%%time\n",
    "results_df.loc['LGBMRegressor(OHE)'] = get_rmse_valid(LGBMRegressor(n_estimators=100, learning_rate=0.1, random_state=123),\n",
    "                                                      preprocessor_OHE)\n",
    "results_df['LGBMRegressor(OHE)':]"
   ]
  },
  {
   "cell_type": "code",
   "execution_count": 34,
   "metadata": {},
   "outputs": [
    {
     "name": "stdout",
     "output_type": "stream",
     "text": [
      "CPU times: user 6min 22s, sys: 2.61 s, total: 6min 25s\n",
      "Wall time: 6min 32s\n"
     ]
    },
    {
     "data": {
      "text/html": [
       "<div>\n",
       "<style scoped>\n",
       "    .dataframe tbody tr th:only-of-type {\n",
       "        vertical-align: middle;\n",
       "    }\n",
       "\n",
       "    .dataframe tbody tr th {\n",
       "        vertical-align: top;\n",
       "    }\n",
       "\n",
       "    .dataframe thead th {\n",
       "        text-align: right;\n",
       "    }\n",
       "</style>\n",
       "<table border=\"1\" class=\"dataframe\">\n",
       "  <thead>\n",
       "    <tr style=\"text-align: right;\">\n",
       "      <th></th>\n",
       "      <th>RMSE</th>\n",
       "      <th>fit_time</th>\n",
       "      <th>predict_time</th>\n",
       "    </tr>\n",
       "  </thead>\n",
       "  <tbody>\n",
       "    <tr>\n",
       "      <th>LGBMRegressor(def)</th>\n",
       "      <td>1658.7</td>\n",
       "      <td>391.3</td>\n",
       "      <td>0.70114</td>\n",
       "    </tr>\n",
       "  </tbody>\n",
       "</table>\n",
       "</div>"
      ],
      "text/plain": [
       "                      RMSE  fit_time  predict_time\n",
       "LGBMRegressor(def)  1658.7     391.3       0.70114"
      ]
     },
     "execution_count": 34,
     "metadata": {},
     "output_type": "execute_result"
    }
   ],
   "source": [
    "%%time\n",
    "results_df.loc['LGBMRegressor(def)'] = get_rmse_valid(LGBMRegressor(n_estimators=100, learning_rate=0.1, random_state=123))\n",
    "results_df['LGBMRegressor(def)':]"
   ]
  },
  {
   "cell_type": "markdown",
   "metadata": {},
   "source": [
    "Вывод\n",
    "\n",
    "LGB лучше не кодировать,прогноз хороший"
   ]
  },
  {
   "cell_type": "markdown",
   "metadata": {},
   "source": [
    "### СatBoost"
   ]
  },
  {
   "cell_type": "markdown",
   "metadata": {},
   "source": [
    "Рассмотрим варианты с  кодированием (OHE,стандартный)"
   ]
  },
  {
   "cell_type": "code",
   "execution_count": 35,
   "metadata": {},
   "outputs": [
    {
     "name": "stdout",
     "output_type": "stream",
     "text": [
      "CPU times: user 25 s, sys: 209 ms, total: 25.2 s\n",
      "Wall time: 27.7 s\n"
     ]
    },
    {
     "data": {
      "text/html": [
       "<div>\n",
       "<style scoped>\n",
       "    .dataframe tbody tr th:only-of-type {\n",
       "        vertical-align: middle;\n",
       "    }\n",
       "\n",
       "    .dataframe tbody tr th {\n",
       "        vertical-align: top;\n",
       "    }\n",
       "\n",
       "    .dataframe thead th {\n",
       "        text-align: right;\n",
       "    }\n",
       "</style>\n",
       "<table border=\"1\" class=\"dataframe\">\n",
       "  <thead>\n",
       "    <tr style=\"text-align: right;\">\n",
       "      <th></th>\n",
       "      <th>RMSE</th>\n",
       "      <th>fit_time</th>\n",
       "      <th>predict_time</th>\n",
       "    </tr>\n",
       "  </thead>\n",
       "  <tbody>\n",
       "    <tr>\n",
       "      <th>CatBoostRegressor(OHE)</th>\n",
       "      <td>1632.1</td>\n",
       "      <td>27.1</td>\n",
       "      <td>0.12718</td>\n",
       "    </tr>\n",
       "  </tbody>\n",
       "</table>\n",
       "</div>"
      ],
      "text/plain": [
       "                          RMSE  fit_time  predict_time\n",
       "CatBoostRegressor(OHE)  1632.1      27.1       0.12718"
      ]
     },
     "execution_count": 35,
     "metadata": {},
     "output_type": "execute_result"
    }
   ],
   "source": [
    "%%time\n",
    "results_df.loc['CatBoostRegressor(OHE)'] = get_rmse_valid(CatBoostRegressor(silent = True, random_state=123),\n",
    "                                                               preprocessor_OHE)\n",
    "results_df['CatBoostRegressor(OHE)':]"
   ]
  },
  {
   "cell_type": "code",
   "execution_count": 36,
   "metadata": {},
   "outputs": [
    {
     "name": "stdout",
     "output_type": "stream",
     "text": [
      "CPU times: user 2min 47s, sys: 889 ms, total: 2min 48s\n",
      "Wall time: 2min 53s\n"
     ]
    },
    {
     "data": {
      "text/html": [
       "<div>\n",
       "<style scoped>\n",
       "    .dataframe tbody tr th:only-of-type {\n",
       "        vertical-align: middle;\n",
       "    }\n",
       "\n",
       "    .dataframe tbody tr th {\n",
       "        vertical-align: top;\n",
       "    }\n",
       "\n",
       "    .dataframe thead th {\n",
       "        text-align: right;\n",
       "    }\n",
       "</style>\n",
       "<table border=\"1\" class=\"dataframe\">\n",
       "  <thead>\n",
       "    <tr style=\"text-align: right;\">\n",
       "      <th></th>\n",
       "      <th>RMSE</th>\n",
       "      <th>fit_time</th>\n",
       "      <th>predict_time</th>\n",
       "    </tr>\n",
       "  </thead>\n",
       "  <tbody>\n",
       "    <tr>\n",
       "      <th>CatBoostRegressor(def)</th>\n",
       "      <td>1636.0</td>\n",
       "      <td>173.3</td>\n",
       "      <td>0.42853</td>\n",
       "    </tr>\n",
       "  </tbody>\n",
       "</table>\n",
       "</div>"
      ],
      "text/plain": [
       "                          RMSE  fit_time  predict_time\n",
       "CatBoostRegressor(def)  1636.0     173.3       0.42853"
      ]
     },
     "execution_count": 36,
     "metadata": {},
     "output_type": "execute_result"
    }
   ],
   "source": [
    "%%time\n",
    "results_df.loc['CatBoostRegressor(def)'] = get_rmse_valid(CatBoostRegressor(silent = True, random_state=123))\n",
    "results_df['CatBoostRegressor(def)':]"
   ]
  },
  {
   "cell_type": "markdown",
   "metadata": {},
   "source": [
    "Так как скорость работы,дольше чем с преобразованными признакми а результат незначительно хуже ,попробуем подбор гипперпараметров с кодированными признаками"
   ]
  },
  {
   "cell_type": "code",
   "execution_count": 37,
   "metadata": {},
   "outputs": [
    {
     "name": "stdout",
     "output_type": "stream",
     "text": [
      "Параметры модели: {'depth': 5, 'l2_leaf_reg': 2, 'learning_rate': 0.8}\n",
      "Лучший RMSE модели: -1702.4121766703686\n",
      "CPU times: user 1min 59s, sys: 933 ms, total: 2min\n",
      "Wall time: 2min 33s\n"
     ]
    }
   ],
   "source": [
    "%%time\n",
    "# CatBoost с автоподбором параметров\n",
    "parametrs = { 'l2_leaf_reg': randint(1,10),\n",
    "              'learning_rate': [0.01, 0.02, 0.05, 0.08, 0.1, 0.2, 0.5, 0.8, 1],\n",
    "               'depth' : randint(1,10)}\n",
    "\n",
    "cat_r_model = CatBoostRegressor(iterations=200, silent=True)\n",
    "randCV_cat = RandomizedSearchCV(cat_r_model, \n",
    "                                parametrs, \n",
    "                                scoring='neg_root_mean_squared_error', \n",
    "                                cv=4, \n",
    "                                n_iter=8, \n",
    "                                random_state=123)\n",
    "randCV_cat.fit(preprocessor_OHE.fit_transform(features_train), target_train)\n",
    "print('Параметры модели:', randCV_cat.best_params_)\n",
    "print('Лучший RMSE модели:', randCV_cat.best_score_)"
   ]
  },
  {
   "cell_type": "code",
   "execution_count": 38,
   "metadata": {},
   "outputs": [
    {
     "name": "stdout",
     "output_type": "stream",
     "text": [
      "CPU times: user 23.5 s, sys: 145 ms, total: 23.6 s\n",
      "Wall time: 24.8 s\n"
     ]
    },
    {
     "data": {
      "text/html": [
       "<div>\n",
       "<style scoped>\n",
       "    .dataframe tbody tr th:only-of-type {\n",
       "        vertical-align: middle;\n",
       "    }\n",
       "\n",
       "    .dataframe tbody tr th {\n",
       "        vertical-align: top;\n",
       "    }\n",
       "\n",
       "    .dataframe thead th {\n",
       "        text-align: right;\n",
       "    }\n",
       "</style>\n",
       "<table border=\"1\" class=\"dataframe\">\n",
       "  <thead>\n",
       "    <tr style=\"text-align: right;\">\n",
       "      <th></th>\n",
       "      <th>RMSE</th>\n",
       "      <th>fit_time</th>\n",
       "      <th>predict_time</th>\n",
       "    </tr>\n",
       "  </thead>\n",
       "  <tbody>\n",
       "    <tr>\n",
       "      <th>CatBoostRegressor(OHE, best)</th>\n",
       "      <td>1619.1</td>\n",
       "      <td>24.2</td>\n",
       "      <td>0.13756</td>\n",
       "    </tr>\n",
       "  </tbody>\n",
       "</table>\n",
       "</div>"
      ],
      "text/plain": [
       "                                RMSE  fit_time  predict_time\n",
       "CatBoostRegressor(OHE, best)  1619.1      24.2       0.13756"
      ]
     },
     "execution_count": 38,
     "metadata": {},
     "output_type": "execute_result"
    }
   ],
   "source": [
    "%%time\n",
    "results_df.loc['CatBoostRegressor(OHE, best)'] = get_rmse_valid(CatBoostRegressor(depth=5, \n",
    "                                                                       l2_leaf_reg=2, \n",
    "                                                                       learning_rate=0.8, \n",
    "                                                                       iterations=1000, \n",
    "                                                                       silent = True, \n",
    "                                                                       random_state=123),\n",
    "                                                    preprocessor_OHE)\n",
    "results_df['CatBoostRegressor(OHE, best)':]"
   ]
  },
  {
   "cell_type": "markdown",
   "metadata": {},
   "source": [
    "**Вывод**\n",
    "\n",
    "Данная модель хорошая работает с гипперпарметрами по умолчанию,но если закодировать признаки,модель будет работать еще быстрее\n"
   ]
  },
  {
   "cell_type": "markdown",
   "metadata": {},
   "source": [
    "### Вывод\n",
    "\n",
    "Были обучены разные модели\n",
    "\n",
    "- Линейная регрессия\n",
    "\n",
    "- Деревья решений\n",
    "\n",
    "- LGBM \n",
    "\n",
    "- CatBoost(Кодирование сокращает время  работы модели)"
   ]
  },
  {
   "cell_type": "markdown",
   "metadata": {},
   "source": [
    "## Анализ моделей"
   ]
  },
  {
   "cell_type": "markdown",
   "metadata": {},
   "source": [
    "Выведем результат работы модели\n",
    "\n",
    "Построим графики\n",
    "\n",
    "Протестируем лучшую модель на тестовой выборке"
   ]
  },
  {
   "cell_type": "code",
   "execution_count": 39,
   "metadata": {},
   "outputs": [
    {
     "data": {
      "text/html": [
       "<div>\n",
       "<style scoped>\n",
       "    .dataframe tbody tr th:only-of-type {\n",
       "        vertical-align: middle;\n",
       "    }\n",
       "\n",
       "    .dataframe tbody tr th {\n",
       "        vertical-align: top;\n",
       "    }\n",
       "\n",
       "    .dataframe thead th {\n",
       "        text-align: right;\n",
       "    }\n",
       "</style>\n",
       "<table border=\"1\" class=\"dataframe\">\n",
       "  <thead>\n",
       "    <tr style=\"text-align: right;\">\n",
       "      <th></th>\n",
       "      <th>RMSE</th>\n",
       "      <th>fit_time</th>\n",
       "      <th>predict_time</th>\n",
       "    </tr>\n",
       "  </thead>\n",
       "  <tbody>\n",
       "    <tr>\n",
       "      <th>LinearRegression(OHE)</th>\n",
       "      <td>2696.7</td>\n",
       "      <td>34.1</td>\n",
       "      <td>0.00284</td>\n",
       "    </tr>\n",
       "    <tr>\n",
       "      <th>DecisionTreeRegressor(OHE)</th>\n",
       "      <td>1936.5</td>\n",
       "      <td>7.0</td>\n",
       "      <td>0.00912</td>\n",
       "    </tr>\n",
       "    <tr>\n",
       "      <th>DecisionTreeRegressor(OHE, best)</th>\n",
       "      <td>1936.5</td>\n",
       "      <td>8.1</td>\n",
       "      <td>0.00977</td>\n",
       "    </tr>\n",
       "    <tr>\n",
       "      <th>LGBMRegressor(OHE)</th>\n",
       "      <td>1724.7</td>\n",
       "      <td>395.4</td>\n",
       "      <td>0.69956</td>\n",
       "    </tr>\n",
       "    <tr>\n",
       "      <th>LGBMRegressor(def)</th>\n",
       "      <td>1658.7</td>\n",
       "      <td>391.3</td>\n",
       "      <td>0.70114</td>\n",
       "    </tr>\n",
       "    <tr>\n",
       "      <th>CatBoostRegressor(OHE)</th>\n",
       "      <td>1632.1</td>\n",
       "      <td>27.1</td>\n",
       "      <td>0.12718</td>\n",
       "    </tr>\n",
       "    <tr>\n",
       "      <th>CatBoostRegressor(def)</th>\n",
       "      <td>1636.0</td>\n",
       "      <td>173.3</td>\n",
       "      <td>0.42853</td>\n",
       "    </tr>\n",
       "    <tr>\n",
       "      <th>CatBoostRegressor(OHE, best)</th>\n",
       "      <td>1619.1</td>\n",
       "      <td>24.2</td>\n",
       "      <td>0.13756</td>\n",
       "    </tr>\n",
       "  </tbody>\n",
       "</table>\n",
       "</div>"
      ],
      "text/plain": [
       "                                    RMSE  fit_time  predict_time\n",
       "LinearRegression(OHE)             2696.7      34.1       0.00284\n",
       "DecisionTreeRegressor(OHE)        1936.5       7.0       0.00912\n",
       "DecisionTreeRegressor(OHE, best)  1936.5       8.1       0.00977\n",
       "LGBMRegressor(OHE)                1724.7     395.4       0.69956\n",
       "LGBMRegressor(def)                1658.7     391.3       0.70114\n",
       "CatBoostRegressor(OHE)            1632.1      27.1       0.12718\n",
       "CatBoostRegressor(def)            1636.0     173.3       0.42853\n",
       "CatBoostRegressor(OHE, best)      1619.1      24.2       0.13756"
      ]
     },
     "execution_count": 39,
     "metadata": {},
     "output_type": "execute_result"
    }
   ],
   "source": [
    "results_df"
   ]
  },
  {
   "cell_type": "code",
   "execution_count": 40,
   "metadata": {},
   "outputs": [
    {
     "data": {
      "image/png": "[encoded data removed]",
      "text/plain": [
       "<Figure size 1152x432 with 1 Axes>"
      ]
     },
     "metadata": {
      "needs_background": "light"
     },
     "output_type": "display_data"
    }
   ],
   "source": [
    "ax = results_df['RMSE'].sort_values().plot(kind='bar', figsize=(16,6))\n",
    "ax.set_title('Качество моделей', fontsize=16)\n",
    "ax.set(ylabel='RMSE', xlabel= 'модель')\n",
    "plt.show;"
   ]
  },
  {
   "cell_type": "markdown",
   "metadata": {},
   "source": [
    "По качеству модели все имееют примерно одинаковый RMSE в диапозоне от  1500 до  2000\n",
    "\n",
    "Исключения составили модели линейной регрессии"
   ]
  },
  {
   "cell_type": "code",
   "execution_count": 41,
   "metadata": {},
   "outputs": [
    {
     "data": {
      "image/png": "[encoded data removed]",
      "text/plain": [
       "<Figure size 1152x432 with 1 Axes>"
      ]
     },
     "metadata": {
      "needs_background": "light"
     },
     "output_type": "display_data"
    }
   ],
   "source": [
    "ax = results_df['fit_time'].sort_values().plot(kind='bar', \n",
    "                                               figsize=(16,6),\n",
    "                                               color='r')\n",
    "ax.set_title('Время обучения', fontsize=16)\n",
    "ax.set(ylabel='время', xlabel= 'модель')\n",
    "plt.show;"
   ]
  },
  {
   "cell_type": "markdown",
   "metadata": {},
   "source": [
    "По скорости обучения,модели линейной регресси занимамют меньше всего времени в то время как бустиговые занимают гораздо бьольшую часть\n"
   ]
  },
  {
   "cell_type": "code",
   "execution_count": 42,
   "metadata": {
    "scrolled": false
   },
   "outputs": [
    {
     "data": {
      "image/png": "[encoded data removed]",
      "text/plain": [
       "<Figure size 1152x432 with 1 Axes>"
      ]
     },
     "metadata": {
      "needs_background": "light"
     },
     "output_type": "display_data"
    }
   ],
   "source": [
    "ax = results_df['predict_time'].sort_values().plot(kind='bar', \n",
    "                                                   figsize=(16,6),\n",
    "                                                   color='g')\n",
    "ax.set_title('Время прогнозирования', fontsize=16)\n",
    "ax.set(ylabel='время', xlabel= 'модель')\n",
    "plt.show;"
   ]
  },
  {
   "cell_type": "markdown",
   "metadata": {},
   "source": [
    "Модели линейной регрессии занимают меньше всего времени на прогноз,дольше всего модель случайного леса"
   ]
  },
  {
   "cell_type": "markdown",
   "metadata": {},
   "source": [
    "### Тест моделей"
   ]
  },
  {
   "cell_type": "code",
   "execution_count": 43,
   "metadata": {},
   "outputs": [],
   "source": [
    "test_results = pd.DataFrame(columns=['RMSE', 'fit_time', 'predict_time'])\n",
    "\n",
    "features_tv = features_train.append(features_valid) # объеденим тренировачную и тестовую выборки\n",
    "target_tv = target_train.append(target_valid)"
   ]
  },
  {
   "cell_type": "code",
   "execution_count": 44,
   "metadata": {},
   "outputs": [
    {
     "name": "stderr",
     "output_type": "stream",
     "text": [
      "/opt/conda/lib/python3.9/site-packages/sklearn/preprocessing/_encoders.py:202: UserWarning: Found unknown categories in columns [2] during transform. These unknown categories will be encoded as all zeros\n",
      "  warnings.warn(\n",
      "/opt/conda/lib/python3.9/site-packages/sklearn/preprocessing/_encoders.py:202: UserWarning: Found unknown categories in columns [2] during transform. These unknown categories will be encoded as all zeros\n",
      "  warnings.warn(\n"
     ]
    },
    {
     "data": {
      "text/html": [
       "<div>\n",
       "<style scoped>\n",
       "    .dataframe tbody tr th:only-of-type {\n",
       "        vertical-align: middle;\n",
       "    }\n",
       "\n",
       "    .dataframe tbody tr th {\n",
       "        vertical-align: top;\n",
       "    }\n",
       "\n",
       "    .dataframe thead th {\n",
       "        text-align: right;\n",
       "    }\n",
       "</style>\n",
       "<table border=\"1\" class=\"dataframe\">\n",
       "  <thead>\n",
       "    <tr style=\"text-align: right;\">\n",
       "      <th></th>\n",
       "      <th>RMSE</th>\n",
       "      <th>fit_time</th>\n",
       "      <th>predict_time</th>\n",
       "    </tr>\n",
       "  </thead>\n",
       "  <tbody>\n",
       "    <tr>\n",
       "      <th>DecisionTreeRegressor</th>\n",
       "      <td>1974.0</td>\n",
       "      <td>7.0</td>\n",
       "      <td>0.00828</td>\n",
       "    </tr>\n",
       "    <tr>\n",
       "      <th>CatBoostRegressor</th>\n",
       "      <td>1660.0</td>\n",
       "      <td>34.8</td>\n",
       "      <td>0.12491</td>\n",
       "    </tr>\n",
       "    <tr>\n",
       "      <th>LGBMRegressor</th>\n",
       "      <td>1670.3</td>\n",
       "      <td>595.0</td>\n",
       "      <td>0.72818</td>\n",
       "    </tr>\n",
       "    <tr>\n",
       "      <th>DummyRegressor</th>\n",
       "      <td>4509.0</td>\n",
       "      <td>0.0</td>\n",
       "      <td>0.00016</td>\n",
       "    </tr>\n",
       "  </tbody>\n",
       "</table>\n",
       "</div>"
      ],
      "text/plain": [
       "                         RMSE  fit_time  predict_time\n",
       "DecisionTreeRegressor  1974.0       7.0       0.00828\n",
       "CatBoostRegressor      1660.0      34.8       0.12491\n",
       "LGBMRegressor          1670.3     595.0       0.72818\n",
       "DummyRegressor         4509.0       0.0       0.00016"
      ]
     },
     "execution_count": 44,
     "metadata": {},
     "output_type": "execute_result"
    }
   ],
   "source": [
    "test_results.loc['DecisionTreeRegressor'] = get_rmse_valid(DecisionTreeRegressor(max_depth=13, random_state=123),\n",
    "                                                           preprocessor_OHE,\n",
    "                                                           features_tv, target_tv, features_test, target_test)\n",
    "\n",
    "test_results.loc['CatBoostRegressor'] = get_rmse_valid(CatBoostRegressor(silent = True, random_state=123),\n",
    "                                                       preprocessor_OHE,\n",
    "                                                       features_tv, target_tv, features_test, target_test)\n",
    "\n",
    "test_results.loc['LGBMRegressor'] = get_rmse_valid(LGBMRegressor(n_estimators=120, learning_rate=0.1, random_state=123),\n",
    "                                                   preprocessor_null,\n",
    "                                                   features_tv, target_tv, features_test, target_test)\n",
    "\n",
    "test_results.loc['DummyRegressor'] = get_rmse_valid(DummyRegressor(strategy='mean'),\n",
    "                                                    preprocessor_null,\n",
    "                                                    features_tv, target_tv, features_test, target_test)\n",
    "test_results"
   ]
  },
  {
   "cell_type": "code",
   "execution_count": 45,
   "metadata": {},
   "outputs": [
    {
     "data": {
      "image/png": "[encoded data removed]",
      "text/plain": [
       "<Figure size 1152x432 with 1 Axes>"
      ]
     },
     "metadata": {
      "needs_background": "light"
     },
     "output_type": "display_data"
    }
   ],
   "source": [
    "ax = test_results['RMSE'].sort_values().plot(kind='bar', figsize=(16,6))\n",
    "ax.set_title('Качество моделей', fontsize=16)\n",
    "ax.set(ylabel='RMSE', xlabel= 'модель')\n",
    "plt.show;"
   ]
  },
  {
   "cell_type": "markdown",
   "metadata": {},
   "source": [
    "Качество работы моделей на тестовой выборке соответствует качеству работы на валидационной выборке. Все тестируемые модели выдерживают проверкуу на адекватность в сравнении с константной моделью."
   ]
  },
  {
   "cell_type": "code",
   "execution_count": 46,
   "metadata": {},
   "outputs": [
    {
     "data": {
      "image/png": "[encoded data removed]",
      "text/plain": [
       "<Figure size 1152x432 with 1 Axes>"
      ]
     },
     "metadata": {
      "needs_background": "light"
     },
     "output_type": "display_data"
    }
   ],
   "source": [
    "ax = test_results['fit_time'].sort_values().plot(kind='bar', \n",
    "                                               figsize=(16,6),\n",
    "                                               color='g')\n",
    "ax.set_title('Время обучения', fontsize=16)\n",
    "ax.set(ylabel='время', xlabel= 'модель')\n",
    "plt.show;"
   ]
  },
  {
   "cell_type": "markdown",
   "metadata": {},
   "source": [
    " Время обучения моделей на тестовой выборке соответствует качеству работы на валидационной выборке"
   ]
  },
  {
   "cell_type": "code",
   "execution_count": 47,
   "metadata": {},
   "outputs": [
    {
     "data": {
      "image/png": "[encoded data removed]",
      "text/plain": [
       "<Figure size 1152x432 with 1 Axes>"
      ]
     },
     "metadata": {
      "needs_background": "light"
     },
     "output_type": "display_data"
    }
   ],
   "source": [
    "ax = test_results['predict_time'].sort_values().plot(kind='bar', \n",
    "                                                   figsize=(16,6),\n",
    "                                                   color='r')\n",
    "ax.set_title('Время прогнозирования', fontsize=16)\n",
    "ax.set(ylabel='время', xlabel= 'модель')\n",
    "plt.show;"
   ]
  },
  {
   "cell_type": "markdown",
   "metadata": {},
   "source": [
    "## Общий вывод"
   ]
  },
  {
   "cell_type": "markdown",
   "metadata": {},
   "source": [
    "На этапе подготовки данных произвели анализ данных. \n",
    "\n",
    "- Ценовой диапазон большинства продаваемых на сервисе автомобилей лежит в пределах от 1000 до 6500.\n",
    "\n",
    "- Основные пользователи сервиса - люди с низкими и средними доходами. \n",
    "\n",
    "- В объявлениях присутсвуют практически все брэнды основных автопроизводителей, однако наиболее популярны на сервисе автомобиле европейских производителей. \n",
    "\n",
    "- По результатам анализа данных произвели предобработку данных и подготовку выборок к построению моделей.\n",
    "\n",
    "На этапе обучения моделей было произведено обучение различных моделей, предсказывающих цену автомобиля. \n",
    "\n",
    "Обученные модели: \n",
    "\n",
    "- линейная регрессия, \n",
    "- дерево решений \n",
    "- бустинги LightGBM и CatBoost. \n",
    "\n",
    "Также, оценили влияние способа кодирования категориальных признаков на качество и время работы моделей. Проанализирована важность признаков.\n",
    "\n",
    "По результату анализа качества обученных моделей и времени их обучения и прогнозирования можно сделать вывод, что выбор модели для запуска в производство необходимо делать из двух моделей: \n",
    "\n",
    "- CatBoostRegressor - если в приоритете точность\n",
    "\n",
    "- DecisionTreeRegressor если важнее время обучения и прогнозирования."
   ]
  },
  {
   "cell_type": "markdown",
   "metadata": {},
   "source": [
    "\n",
    "## Чек-лист проверки"
   ]
  },
  {
   "cell_type": "markdown",
   "metadata": {},
   "source": [
    "Поставьте 'x' в выполненных пунктах. Далее нажмите Shift+Enter."
   ]
  },
  {
   "cell_type": "markdown",
   "metadata": {},
   "source": [
    "- [x]  Jupyter Notebook открыт\n",
    "- [x]  Весь код выполняется без ошибок\n",
    "- [x]  Ячейки с кодом расположены в порядке исполнения\n",
    "- [x]  Выполнена загрузка и подготовка данных\n",
    "- [x]  Выполнено обучение моделей\n",
    "- [x]  Есть анализ скорости работы и качества моделей"
   ]
  }
 ],
 "metadata": {
  "ExecuteTimeLog": [
   {
    "duration": 68,
    "start_time": "2023-06-21T14:50:48.953Z"
   },
   {
    "duration": 471,
    "start_time": "2023-06-21T14:51:04.697Z"
   },
   {
    "duration": 1595,
    "start_time": "2023-06-21T14:51:05.832Z"
   },
   {
    "duration": 7,
    "start_time": "2023-06-21T14:53:05.012Z"
   },
   {
    "duration": 1019,
    "start_time": "2023-06-21T14:53:06.609Z"
   },
   {
    "duration": 28,
    "start_time": "2023-06-21T14:53:23.433Z"
   },
   {
    "duration": 63,
    "start_time": "2023-06-21T14:53:27.594Z"
   },
   {
    "duration": 3,
    "start_time": "2023-06-21T14:53:49.633Z"
   },
   {
    "duration": 1012,
    "start_time": "2023-06-21T14:53:51.429Z"
   },
   {
    "duration": 41,
    "start_time": "2023-06-21T14:53:52.444Z"
   },
   {
    "duration": 3,
    "start_time": "2023-06-21T14:54:47.019Z"
   },
   {
    "duration": 1081,
    "start_time": "2023-06-21T14:54:47.217Z"
   },
   {
    "duration": 136,
    "start_time": "2023-06-21T14:54:48.300Z"
   },
   {
    "duration": 4,
    "start_time": "2023-06-21T14:54:56.630Z"
   },
   {
    "duration": 991,
    "start_time": "2023-06-21T14:54:57.451Z"
   },
   {
    "duration": 171,
    "start_time": "2023-06-21T14:54:58.445Z"
   },
   {
    "duration": 4,
    "start_time": "2023-06-21T14:56:03.208Z"
   },
   {
    "duration": 910,
    "start_time": "2023-06-21T14:56:04.001Z"
   },
   {
    "duration": 703,
    "start_time": "2023-06-21T14:56:04.914Z"
   },
   {
    "duration": 1016,
    "start_time": "2023-06-21T14:56:55.031Z"
   },
   {
    "duration": 4,
    "start_time": "2023-06-21T14:56:56.049Z"
   },
   {
    "duration": 11,
    "start_time": "2023-06-21T14:58:32.669Z"
   },
   {
    "duration": 894,
    "start_time": "2023-06-21T14:58:33.006Z"
   },
   {
    "duration": 627,
    "start_time": "2023-06-21T14:58:33.901Z"
   },
   {
    "duration": 3,
    "start_time": "2023-06-21T14:58:59.760Z"
   },
   {
    "duration": 4,
    "start_time": "2023-06-21T14:59:00.226Z"
   },
   {
    "duration": 862,
    "start_time": "2023-06-21T14:59:00.407Z"
   },
   {
    "duration": 1342,
    "start_time": "2023-06-21T14:59:01.274Z"
   },
   {
    "duration": 129,
    "start_time": "2023-06-21T15:05:53.763Z"
   },
   {
    "duration": 4,
    "start_time": "2023-06-21T15:06:26.737Z"
   },
   {
    "duration": 808,
    "start_time": "2023-06-21T15:06:27.794Z"
   },
   {
    "duration": 1253,
    "start_time": "2023-06-21T15:06:28.604Z"
   },
   {
    "duration": 4,
    "start_time": "2023-06-21T15:24:31.718Z"
   },
   {
    "duration": 647,
    "start_time": "2023-06-21T15:26:26.731Z"
   },
   {
    "duration": 485,
    "start_time": "2023-06-21T15:26:37.363Z"
   },
   {
    "duration": 515,
    "start_time": "2023-06-21T15:26:50.856Z"
   },
   {
    "duration": 508,
    "start_time": "2023-06-21T15:27:49.296Z"
   },
   {
    "duration": 663,
    "start_time": "2023-06-21T15:30:39.639Z"
   },
   {
    "duration": 588,
    "start_time": "2023-06-21T15:30:53.063Z"
   },
   {
    "duration": 49,
    "start_time": "2023-06-21T15:38:27.115Z"
   },
   {
    "duration": 23,
    "start_time": "2023-06-21T15:38:38.307Z"
   },
   {
    "duration": 18,
    "start_time": "2023-06-21T15:39:00.146Z"
   },
   {
    "duration": 18,
    "start_time": "2023-06-21T15:39:06.531Z"
   },
   {
    "duration": 17,
    "start_time": "2023-06-21T15:39:13.811Z"
   },
   {
    "duration": 22,
    "start_time": "2023-06-21T15:39:46.537Z"
   },
   {
    "duration": 212,
    "start_time": "2023-06-21T15:40:05.563Z"
   },
   {
    "duration": 172,
    "start_time": "2023-06-21T15:40:11.607Z"
   },
   {
    "duration": 174,
    "start_time": "2023-06-21T15:40:49.722Z"
   },
   {
    "duration": 274,
    "start_time": "2023-06-21T15:45:39.300Z"
   },
   {
    "duration": 93,
    "start_time": "2023-06-21T15:46:53.972Z"
   },
   {
    "duration": 221,
    "start_time": "2023-06-21T15:46:59.195Z"
   },
   {
    "duration": 262,
    "start_time": "2023-06-21T15:47:18.956Z"
   },
   {
    "duration": 333,
    "start_time": "2023-06-21T15:47:31.562Z"
   },
   {
    "duration": 726,
    "start_time": "2023-06-21T15:48:45.544Z"
   },
   {
    "duration": 577,
    "start_time": "2023-06-21T15:48:51.434Z"
   },
   {
    "duration": 588,
    "start_time": "2023-06-21T15:49:03.013Z"
   },
   {
    "duration": 639,
    "start_time": "2023-06-21T15:49:18.305Z"
   },
   {
    "duration": 217,
    "start_time": "2023-06-21T15:50:31.011Z"
   },
   {
    "duration": 302,
    "start_time": "2023-06-21T15:52:00.705Z"
   },
   {
    "duration": 345,
    "start_time": "2023-06-21T15:52:41.417Z"
   },
   {
    "duration": 111,
    "start_time": "2023-06-21T15:52:58.954Z"
   },
   {
    "duration": 105,
    "start_time": "2023-06-21T15:53:04.864Z"
   },
   {
    "duration": 162,
    "start_time": "2023-06-21T15:53:14.320Z"
   },
   {
    "duration": 87,
    "start_time": "2023-06-21T15:54:44.030Z"
   },
   {
    "duration": 5,
    "start_time": "2023-06-21T16:01:13.993Z"
   },
   {
    "duration": 5,
    "start_time": "2023-06-21T16:02:09.456Z"
   },
   {
    "duration": 782,
    "start_time": "2023-06-21T16:02:19.893Z"
   },
   {
    "duration": 6,
    "start_time": "2023-06-21T16:02:35.740Z"
   },
   {
    "duration": 5,
    "start_time": "2023-06-21T16:02:46.342Z"
   },
   {
    "duration": 736,
    "start_time": "2023-06-21T16:02:47.014Z"
   },
   {
    "duration": 5,
    "start_time": "2023-06-21T16:04:47.610Z"
   },
   {
    "duration": 1012,
    "start_time": "2023-06-21T16:04:48.065Z"
   },
   {
    "duration": 1001,
    "start_time": "2023-06-21T16:05:00.053Z"
   },
   {
    "duration": 1180,
    "start_time": "2023-06-21T16:05:20.510Z"
   },
   {
    "duration": 24,
    "start_time": "2023-06-21T16:05:51.942Z"
   },
   {
    "duration": 991,
    "start_time": "2023-06-21T16:06:15.300Z"
   },
   {
    "duration": 0,
    "start_time": "2023-06-21T16:06:16.293Z"
   },
   {
    "duration": 4,
    "start_time": "2023-06-21T16:06:33.014Z"
   },
   {
    "duration": 939,
    "start_time": "2023-06-21T16:06:35.861Z"
   },
   {
    "duration": 21,
    "start_time": "2023-06-21T16:08:47.927Z"
   },
   {
    "duration": 857,
    "start_time": "2023-06-21T16:09:13.868Z"
   },
   {
    "duration": 662,
    "start_time": "2023-06-21T16:09:25.349Z"
   },
   {
    "duration": 15848,
    "start_time": "2023-06-21T16:12:04.791Z"
   },
   {
    "duration": 853,
    "start_time": "2023-06-21T16:12:58.924Z"
   },
   {
    "duration": 2452,
    "start_time": "2023-06-21T16:13:16.404Z"
   },
   {
    "duration": 744,
    "start_time": "2023-06-21T16:13:25.900Z"
   },
   {
    "duration": 928,
    "start_time": "2023-06-21T16:13:46.996Z"
   },
   {
    "duration": 34,
    "start_time": "2023-06-21T16:20:18.166Z"
   },
   {
    "duration": 922,
    "start_time": "2023-06-21T16:23:02.426Z"
   },
   {
    "duration": 908,
    "start_time": "2023-06-21T16:23:32.242Z"
   },
   {
    "duration": 486,
    "start_time": "2023-06-21T16:33:16.989Z"
   },
   {
    "duration": 18,
    "start_time": "2023-06-21T16:33:20.887Z"
   },
   {
    "duration": 4102,
    "start_time": "2023-06-21T16:58:35.506Z"
   },
   {
    "duration": 87,
    "start_time": "2023-06-21T16:58:43.018Z"
   },
   {
    "duration": 16,
    "start_time": "2023-06-21T16:59:04.014Z"
   },
   {
    "duration": 90,
    "start_time": "2023-06-21T16:59:04.176Z"
   },
   {
    "duration": 1277,
    "start_time": "2023-06-21T16:59:14.436Z"
   },
   {
    "duration": 8,
    "start_time": "2023-06-21T16:59:15.717Z"
   },
   {
    "duration": 1035,
    "start_time": "2023-06-21T16:59:15.727Z"
   },
   {
    "duration": 1595,
    "start_time": "2023-06-21T16:59:16.765Z"
   },
   {
    "duration": 3,
    "start_time": "2023-06-21T16:59:18.362Z"
   },
   {
    "duration": 637,
    "start_time": "2023-06-21T16:59:18.367Z"
   },
   {
    "duration": 228,
    "start_time": "2023-06-21T16:59:19.006Z"
   },
   {
    "duration": 305,
    "start_time": "2023-06-21T16:59:19.236Z"
   },
   {
    "duration": 626,
    "start_time": "2023-06-21T16:59:19.542Z"
   },
   {
    "duration": 338,
    "start_time": "2023-06-21T16:59:20.172Z"
   },
   {
    "duration": 315,
    "start_time": "2023-06-21T16:59:20.512Z"
   },
   {
    "duration": 173,
    "start_time": "2023-06-21T16:59:20.829Z"
   },
   {
    "duration": 7,
    "start_time": "2023-06-21T16:59:21.004Z"
   },
   {
    "duration": 766,
    "start_time": "2023-06-21T16:59:21.013Z"
   },
   {
    "duration": 697,
    "start_time": "2023-06-21T16:59:21.781Z"
   },
   {
    "duration": 754,
    "start_time": "2023-06-21T16:59:22.484Z"
   },
   {
    "duration": 625,
    "start_time": "2023-06-21T16:59:23.240Z"
   },
   {
    "duration": 103,
    "start_time": "2023-06-21T16:59:23.867Z"
   },
   {
    "duration": 138,
    "start_time": "2023-06-21T16:59:23.972Z"
   },
   {
    "duration": 644,
    "start_time": "2023-06-21T17:01:58.774Z"
   },
   {
    "duration": 230,
    "start_time": "2023-06-21T17:02:23.326Z"
   },
   {
    "duration": 223,
    "start_time": "2023-06-21T17:02:41.135Z"
   },
   {
    "duration": 7,
    "start_time": "2023-06-21T17:03:20.003Z"
   },
   {
    "duration": 214,
    "start_time": "2023-06-21T17:03:23.901Z"
   },
   {
    "duration": 175,
    "start_time": "2023-06-21T17:03:45.762Z"
   },
   {
    "duration": 27,
    "start_time": "2023-06-21T17:12:21.406Z"
   },
   {
    "duration": 49,
    "start_time": "2023-06-21T17:12:29.387Z"
   },
   {
    "duration": 36,
    "start_time": "2023-06-21T17:12:44.151Z"
   },
   {
    "duration": 27,
    "start_time": "2023-06-21T17:13:58.571Z"
   },
   {
    "duration": 18,
    "start_time": "2023-06-21T17:14:04.962Z"
   },
   {
    "duration": 133,
    "start_time": "2023-06-21T17:14:19.859Z"
   },
   {
    "duration": 23,
    "start_time": "2023-06-21T17:14:27.621Z"
   },
   {
    "duration": 16,
    "start_time": "2023-06-21T17:14:33.222Z"
   },
   {
    "duration": 10,
    "start_time": "2023-06-21T17:41:53.005Z"
   },
   {
    "duration": 3,
    "start_time": "2023-06-21T17:41:58.086Z"
   },
   {
    "duration": 28,
    "start_time": "2023-06-21T17:42:37.362Z"
   },
   {
    "duration": 112,
    "start_time": "2023-06-21T17:43:32.589Z"
   },
   {
    "duration": 30,
    "start_time": "2023-06-21T17:43:36.780Z"
   },
   {
    "duration": 32,
    "start_time": "2023-06-21T17:44:01.584Z"
   },
   {
    "duration": 31,
    "start_time": "2023-06-21T17:44:20.214Z"
   },
   {
    "duration": 24,
    "start_time": "2023-06-21T17:46:33.311Z"
   },
   {
    "duration": 28,
    "start_time": "2023-06-21T17:51:56.472Z"
   },
   {
    "duration": 20,
    "start_time": "2023-06-21T17:53:28.224Z"
   },
   {
    "duration": 20,
    "start_time": "2023-06-21T17:53:41.772Z"
   },
   {
    "duration": 30,
    "start_time": "2023-06-21T17:56:20.893Z"
   },
   {
    "duration": 45,
    "start_time": "2023-06-21T17:57:07.409Z"
   },
   {
    "duration": 54,
    "start_time": "2023-06-21T17:58:27.763Z"
   },
   {
    "duration": 187,
    "start_time": "2023-06-21T17:58:45.788Z"
   },
   {
    "duration": 3,
    "start_time": "2023-06-21T17:59:45.320Z"
   },
   {
    "duration": 5,
    "start_time": "2023-06-21T18:00:35.933Z"
   },
   {
    "duration": 4,
    "start_time": "2023-06-21T18:00:43.738Z"
   },
   {
    "duration": 1219,
    "start_time": "2023-06-21T18:03:08.314Z"
   },
   {
    "duration": 4,
    "start_time": "2023-06-21T18:03:09.538Z"
   },
   {
    "duration": 895,
    "start_time": "2023-06-21T18:03:09.543Z"
   },
   {
    "duration": 1408,
    "start_time": "2023-06-21T18:03:10.440Z"
   },
   {
    "duration": 3,
    "start_time": "2023-06-21T18:03:11.850Z"
   },
   {
    "duration": 522,
    "start_time": "2023-06-21T18:03:11.855Z"
   },
   {
    "duration": 185,
    "start_time": "2023-06-21T18:03:12.379Z"
   },
   {
    "duration": 265,
    "start_time": "2023-06-21T18:03:12.566Z"
   },
   {
    "duration": 555,
    "start_time": "2023-06-21T18:03:12.833Z"
   },
   {
    "duration": 276,
    "start_time": "2023-06-21T18:03:13.392Z"
   },
   {
    "duration": 266,
    "start_time": "2023-06-21T18:03:13.670Z"
   },
   {
    "duration": 148,
    "start_time": "2023-06-21T18:03:13.938Z"
   },
   {
    "duration": 5,
    "start_time": "2023-06-21T18:03:14.087Z"
   },
   {
    "duration": 607,
    "start_time": "2023-06-21T18:03:14.093Z"
   },
   {
    "duration": 631,
    "start_time": "2023-06-21T18:03:14.702Z"
   },
   {
    "duration": 742,
    "start_time": "2023-06-21T18:03:15.335Z"
   },
   {
    "duration": 598,
    "start_time": "2023-06-21T18:03:16.079Z"
   },
   {
    "duration": 74,
    "start_time": "2023-06-21T18:03:16.679Z"
   },
   {
    "duration": 546,
    "start_time": "2023-06-21T18:03:16.755Z"
   },
   {
    "duration": 132,
    "start_time": "2023-06-21T18:03:17.303Z"
   },
   {
    "duration": 147,
    "start_time": "2023-06-21T18:03:17.437Z"
   },
   {
    "duration": 29,
    "start_time": "2023-06-21T18:03:17.586Z"
   },
   {
    "duration": 57,
    "start_time": "2023-06-21T18:03:17.618Z"
   },
   {
    "duration": 205,
    "start_time": "2023-06-21T18:03:17.677Z"
   },
   {
    "duration": 102,
    "start_time": "2023-06-21T18:31:17.113Z"
   },
   {
    "duration": 621,
    "start_time": "2023-06-21T18:31:51.894Z"
   },
   {
    "duration": 29,
    "start_time": "2023-06-21T18:31:56.715Z"
   },
   {
    "duration": 13,
    "start_time": "2023-06-21T18:32:34.560Z"
   },
   {
    "duration": 4,
    "start_time": "2023-06-21T18:32:57.119Z"
   },
   {
    "duration": 12,
    "start_time": "2023-06-21T18:33:01.496Z"
   },
   {
    "duration": 19,
    "start_time": "2023-06-21T18:34:22.631Z"
   },
   {
    "duration": 389,
    "start_time": "2023-06-21T18:34:55.490Z"
   },
   {
    "duration": 8,
    "start_time": "2023-06-21T18:35:12.220Z"
   },
   {
    "duration": 6,
    "start_time": "2023-06-21T18:35:29.615Z"
   },
   {
    "duration": 103,
    "start_time": "2023-06-21T18:38:40.846Z"
   },
   {
    "duration": 10,
    "start_time": "2023-06-21T18:39:16.583Z"
   },
   {
    "duration": 99,
    "start_time": "2023-06-21T18:44:17.197Z"
   },
   {
    "duration": 453,
    "start_time": "2023-06-21T18:44:31.903Z"
   },
   {
    "duration": 588,
    "start_time": "2023-06-21T18:44:51.882Z"
   },
   {
    "duration": 529,
    "start_time": "2023-06-21T18:45:21.173Z"
   },
   {
    "duration": 5,
    "start_time": "2023-06-21T18:45:46.690Z"
   },
   {
    "duration": 462683,
    "start_time": "2023-06-21T18:45:53.911Z"
   },
   {
    "duration": 13590,
    "start_time": "2023-06-21T18:54:45.304Z"
   },
   {
    "duration": 330275,
    "start_time": "2023-06-21T18:55:14.000Z"
   },
   {
    "duration": 21126,
    "start_time": "2023-06-21T19:00:56.453Z"
   },
   {
    "duration": 23360,
    "start_time": "2023-06-21T19:03:13.150Z"
   },
   {
    "duration": 1478,
    "start_time": "2023-06-21T20:32:41.455Z"
   },
   {
    "duration": 4,
    "start_time": "2023-06-21T20:32:42.935Z"
   },
   {
    "duration": 869,
    "start_time": "2023-06-21T20:32:42.941Z"
   },
   {
    "duration": 1459,
    "start_time": "2023-06-21T20:32:43.813Z"
   },
   {
    "duration": 10,
    "start_time": "2023-06-21T20:32:45.278Z"
   },
   {
    "duration": 629,
    "start_time": "2023-06-21T20:32:45.290Z"
   },
   {
    "duration": 182,
    "start_time": "2023-06-21T20:32:45.922Z"
   },
   {
    "duration": 259,
    "start_time": "2023-06-21T20:32:46.105Z"
   },
   {
    "duration": 597,
    "start_time": "2023-06-21T20:32:46.367Z"
   },
   {
    "duration": 279,
    "start_time": "2023-06-21T20:32:46.982Z"
   },
   {
    "duration": 180,
    "start_time": "2023-06-21T20:32:47.263Z"
   },
   {
    "duration": 159,
    "start_time": "2023-06-21T20:32:47.444Z"
   },
   {
    "duration": 4,
    "start_time": "2023-06-21T20:32:47.604Z"
   },
   {
    "duration": 612,
    "start_time": "2023-06-21T20:32:47.610Z"
   },
   {
    "duration": 758,
    "start_time": "2023-06-21T20:32:48.223Z"
   },
   {
    "duration": 722,
    "start_time": "2023-06-21T20:32:48.983Z"
   },
   {
    "duration": 610,
    "start_time": "2023-06-21T20:32:49.707Z"
   },
   {
    "duration": 87,
    "start_time": "2023-06-21T20:32:50.319Z"
   },
   {
    "duration": 460,
    "start_time": "2023-06-21T20:32:50.408Z"
   },
   {
    "duration": 142,
    "start_time": "2023-06-21T20:32:50.874Z"
   },
   {
    "duration": 144,
    "start_time": "2023-06-21T20:32:51.017Z"
   },
   {
    "duration": 38,
    "start_time": "2023-06-21T20:32:51.163Z"
   },
   {
    "duration": 49,
    "start_time": "2023-06-21T20:32:51.202Z"
   },
   {
    "duration": 176,
    "start_time": "2023-06-21T20:32:51.253Z"
   },
   {
    "duration": 305,
    "start_time": "2023-06-21T20:32:51.431Z"
   },
   {
    "duration": 5,
    "start_time": "2023-06-21T20:32:51.737Z"
   },
   {
    "duration": 31,
    "start_time": "2023-06-21T20:32:51.744Z"
   },
   {
    "duration": 35,
    "start_time": "2023-06-21T20:32:59.855Z"
   },
   {
    "duration": 28,
    "start_time": "2023-06-21T21:03:53.241Z"
   },
   {
    "duration": 1848,
    "start_time": "2023-06-22T09:15:10.059Z"
   },
   {
    "duration": 4,
    "start_time": "2023-06-22T09:15:11.911Z"
   },
   {
    "duration": 4292,
    "start_time": "2023-06-22T09:15:11.917Z"
   },
   {
    "duration": 1611,
    "start_time": "2023-06-22T09:15:16.213Z"
   },
   {
    "duration": 3,
    "start_time": "2023-06-22T09:15:17.826Z"
   },
   {
    "duration": 725,
    "start_time": "2023-06-22T09:15:17.831Z"
   },
   {
    "duration": 223,
    "start_time": "2023-06-22T09:15:18.558Z"
   },
   {
    "duration": 317,
    "start_time": "2023-06-22T09:15:18.786Z"
   },
   {
    "duration": 651,
    "start_time": "2023-06-22T09:15:19.109Z"
   },
   {
    "duration": 332,
    "start_time": "2023-06-22T09:15:19.762Z"
   },
   {
    "duration": 192,
    "start_time": "2023-06-22T09:15:20.098Z"
   },
   {
    "duration": 169,
    "start_time": "2023-06-22T09:15:20.292Z"
   },
   {
    "duration": 5,
    "start_time": "2023-06-22T09:15:20.469Z"
   },
   {
    "duration": 763,
    "start_time": "2023-06-22T09:15:20.477Z"
   },
   {
    "duration": 889,
    "start_time": "2023-06-22T09:15:21.241Z"
   },
   {
    "duration": 932,
    "start_time": "2023-06-22T09:15:22.132Z"
   },
   {
    "duration": 651,
    "start_time": "2023-06-22T09:15:23.065Z"
   },
   {
    "duration": 88,
    "start_time": "2023-06-22T09:15:23.718Z"
   },
   {
    "duration": 603,
    "start_time": "2023-06-22T09:15:23.809Z"
   },
   {
    "duration": 142,
    "start_time": "2023-06-22T09:15:24.417Z"
   },
   {
    "duration": 152,
    "start_time": "2023-06-22T09:15:24.566Z"
   },
   {
    "duration": 34,
    "start_time": "2023-06-22T09:15:24.720Z"
   },
   {
    "duration": 63,
    "start_time": "2023-06-22T09:15:24.755Z"
   },
   {
    "duration": 207,
    "start_time": "2023-06-22T09:15:24.820Z"
   },
   {
    "duration": 319,
    "start_time": "2023-06-22T09:15:25.029Z"
   },
   {
    "duration": 6,
    "start_time": "2023-06-22T09:15:25.349Z"
   },
   {
    "duration": 27,
    "start_time": "2023-06-22T09:15:25.356Z"
   },
   {
    "duration": 31,
    "start_time": "2023-06-22T09:15:25.385Z"
   },
   {
    "duration": 13,
    "start_time": "2023-06-22T09:44:12.662Z"
   },
   {
    "duration": 22950,
    "start_time": "2023-06-22T09:44:43.033Z"
   },
   {
    "duration": 700,
    "start_time": "2023-06-22T09:45:38.119Z"
   },
   {
    "duration": 21801,
    "start_time": "2023-06-22T09:46:28.017Z"
   },
   {
    "duration": 734,
    "start_time": "2023-06-22T09:46:49.841Z"
   },
   {
    "duration": 150,
    "start_time": "2023-06-22T09:53:50.511Z"
   },
   {
    "duration": 50679,
    "start_time": "2023-06-22T09:55:37.740Z"
   },
   {
    "duration": 368,
    "start_time": "2023-06-22T09:56:28.429Z"
   },
   {
    "duration": 28396,
    "start_time": "2023-06-22T09:57:09.119Z"
   },
   {
    "duration": 720308,
    "start_time": "2023-06-22T09:58:09.734Z"
   },
   {
    "duration": 52197,
    "start_time": "2023-06-22T10:10:10.046Z"
   },
   {
    "duration": 412735,
    "start_time": "2023-06-22T10:11:02.245Z"
   },
   {
    "duration": 400802,
    "start_time": "2023-06-22T10:17:54.985Z"
   },
   {
    "duration": 1909,
    "start_time": "2023-06-22T11:15:25.655Z"
   },
   {
    "duration": 15,
    "start_time": "2023-06-22T11:15:27.568Z"
   },
   {
    "duration": 2682,
    "start_time": "2023-06-22T11:15:27.596Z"
   },
   {
    "duration": 1744,
    "start_time": "2023-06-22T11:15:30.282Z"
   },
   {
    "duration": 5,
    "start_time": "2023-06-22T11:15:32.028Z"
   },
   {
    "duration": 902,
    "start_time": "2023-06-22T11:15:32.035Z"
   },
   {
    "duration": 237,
    "start_time": "2023-06-22T11:15:32.942Z"
   },
   {
    "duration": 377,
    "start_time": "2023-06-22T11:15:33.192Z"
   },
   {
    "duration": 714,
    "start_time": "2023-06-22T11:15:33.577Z"
   },
   {
    "duration": 345,
    "start_time": "2023-06-22T11:15:34.293Z"
   },
   {
    "duration": 288,
    "start_time": "2023-06-22T11:15:34.640Z"
   },
   {
    "duration": 201,
    "start_time": "2023-06-22T11:15:34.931Z"
   },
   {
    "duration": 6,
    "start_time": "2023-06-22T11:15:35.135Z"
   },
   {
    "duration": 855,
    "start_time": "2023-06-22T11:15:35.143Z"
   },
   {
    "duration": 911,
    "start_time": "2023-06-22T11:15:36.000Z"
   },
   {
    "duration": 895,
    "start_time": "2023-06-22T11:15:36.913Z"
   },
   {
    "duration": 759,
    "start_time": "2023-06-22T11:15:37.810Z"
   },
   {
    "duration": 123,
    "start_time": "2023-06-22T11:15:38.574Z"
   },
   {
    "duration": 556,
    "start_time": "2023-06-22T11:15:38.700Z"
   },
   {
    "duration": 135,
    "start_time": "2023-06-22T11:15:39.258Z"
   },
   {
    "duration": 159,
    "start_time": "2023-06-22T11:15:39.396Z"
   },
   {
    "duration": 48,
    "start_time": "2023-06-22T11:15:39.557Z"
   },
   {
    "duration": 60,
    "start_time": "2023-06-22T11:15:39.607Z"
   },
   {
    "duration": 228,
    "start_time": "2023-06-22T11:15:39.677Z"
   },
   {
    "duration": 354,
    "start_time": "2023-06-22T11:15:39.908Z"
   },
   {
    "duration": 24,
    "start_time": "2023-06-22T11:15:40.268Z"
   },
   {
    "duration": 23510,
    "start_time": "2023-06-22T11:15:40.296Z"
   },
   {
    "duration": 707,
    "start_time": "2023-06-22T11:16:03.867Z"
   },
   {
    "duration": 46563,
    "start_time": "2023-06-22T11:16:04.585Z"
   },
   {
    "duration": 712363,
    "start_time": "2023-06-22T11:16:51.150Z"
   },
   {
    "duration": 43660,
    "start_time": "2023-06-22T11:28:43.516Z"
   },
   {
    "duration": 517790,
    "start_time": "2023-06-22T11:29:27.179Z"
   },
   {
    "duration": 420232,
    "start_time": "2023-06-22T11:38:04.973Z"
   },
   {
    "duration": 407883,
    "start_time": "2023-06-22T11:45:05.208Z"
   },
   {
    "duration": 139,
    "start_time": "2023-06-22T15:49:24.933Z"
   },
   {
    "duration": 1888,
    "start_time": "2023-06-22T15:49:30.964Z"
   },
   {
    "duration": 8,
    "start_time": "2023-06-22T15:49:32.855Z"
   },
   {
    "duration": 3491,
    "start_time": "2023-06-22T15:49:33.054Z"
   },
   {
    "duration": 1492,
    "start_time": "2023-06-22T15:49:36.546Z"
   },
   {
    "duration": 4,
    "start_time": "2023-06-22T15:49:38.040Z"
   },
   {
    "duration": 715,
    "start_time": "2023-06-22T15:49:38.592Z"
   },
   {
    "duration": 179,
    "start_time": "2023-06-22T15:49:39.488Z"
   },
   {
    "duration": 267,
    "start_time": "2023-06-22T15:49:41.044Z"
   },
   {
    "duration": 579,
    "start_time": "2023-06-22T15:49:42.034Z"
   },
   {
    "duration": 320,
    "start_time": "2023-06-22T15:49:43.219Z"
   },
   {
    "duration": 192,
    "start_time": "2023-06-22T15:49:44.352Z"
   },
   {
    "duration": 160,
    "start_time": "2023-06-22T15:49:45.527Z"
   },
   {
    "duration": 5,
    "start_time": "2023-06-22T15:49:47.316Z"
   },
   {
    "duration": 676,
    "start_time": "2023-06-22T15:49:49.599Z"
   },
   {
    "duration": 834,
    "start_time": "2023-06-22T15:49:52.615Z"
   },
   {
    "duration": 845,
    "start_time": "2023-06-22T15:49:53.553Z"
   },
   {
    "duration": 586,
    "start_time": "2023-06-22T15:49:56.013Z"
   },
   {
    "duration": 96,
    "start_time": "2023-06-22T15:49:56.602Z"
   },
   {
    "duration": 468,
    "start_time": "2023-06-22T15:49:56.701Z"
   },
   {
    "duration": 125,
    "start_time": "2023-06-22T15:49:57.295Z"
   },
   {
    "duration": 131,
    "start_time": "2023-06-22T15:49:58.368Z"
   },
   {
    "duration": 32,
    "start_time": "2023-06-22T15:49:59.795Z"
   },
   {
    "duration": 47,
    "start_time": "2023-06-22T15:50:01.399Z"
   },
   {
    "duration": 160,
    "start_time": "2023-06-22T15:50:01.907Z"
   },
   {
    "duration": 299,
    "start_time": "2023-06-22T15:50:04.544Z"
   },
   {
    "duration": 7,
    "start_time": "2023-06-22T15:50:06.798Z"
   },
   {
    "duration": 22560,
    "start_time": "2023-06-22T15:50:08.103Z"
   },
   {
    "duration": 500,
    "start_time": "2023-06-22T15:50:30.671Z"
   },
   {
    "duration": 4,
    "start_time": "2023-06-22T16:44:24.800Z"
   },
   {
    "duration": 0,
    "start_time": "2023-06-22T16:44:24.885Z"
   },
   {
    "duration": 3155668,
    "start_time": "2023-06-22T17:11:11.913Z"
   },
   {
    "duration": 93382,
    "start_time": "2023-06-22T18:03:47.583Z"
   },
   {
    "duration": 67,
    "start_time": "2023-06-22T18:05:20.968Z"
   },
   {
    "duration": 1959,
    "start_time": "2023-06-23T12:52:54.531Z"
   },
   {
    "duration": 5,
    "start_time": "2023-06-23T12:52:58.831Z"
   },
   {
    "duration": 4563,
    "start_time": "2023-06-23T12:52:59.144Z"
   },
   {
    "duration": 1679,
    "start_time": "2023-06-23T12:53:03.710Z"
   },
   {
    "duration": 5,
    "start_time": "2023-06-23T12:53:05.391Z"
   },
   {
    "duration": 820,
    "start_time": "2023-06-23T12:53:05.398Z"
   },
   {
    "duration": 224,
    "start_time": "2023-06-23T12:53:06.220Z"
   },
   {
    "duration": 294,
    "start_time": "2023-06-23T12:53:06.447Z"
   },
   {
    "duration": 645,
    "start_time": "2023-06-23T12:53:06.743Z"
   },
   {
    "duration": 358,
    "start_time": "2023-06-23T12:53:07.389Z"
   },
   {
    "duration": 212,
    "start_time": "2023-06-23T12:53:07.756Z"
   },
   {
    "duration": 167,
    "start_time": "2023-06-23T12:53:07.970Z"
   },
   {
    "duration": 9,
    "start_time": "2023-06-23T12:53:08.141Z"
   },
   {
    "duration": 778,
    "start_time": "2023-06-23T12:53:08.155Z"
   },
   {
    "duration": 894,
    "start_time": "2023-06-23T12:53:08.936Z"
   },
   {
    "duration": 937,
    "start_time": "2023-06-23T12:53:09.832Z"
   },
   {
    "duration": 605,
    "start_time": "2023-06-23T12:53:10.771Z"
   },
   {
    "duration": 92,
    "start_time": "2023-06-23T12:53:11.378Z"
   },
   {
    "duration": 524,
    "start_time": "2023-06-23T12:53:11.541Z"
   },
   {
    "duration": 153,
    "start_time": "2023-06-23T12:53:12.519Z"
   },
   {
    "duration": 140,
    "start_time": "2023-06-23T12:53:14.228Z"
   },
   {
    "duration": 33,
    "start_time": "2023-06-23T12:53:15.353Z"
   },
   {
    "duration": 55,
    "start_time": "2023-06-23T12:53:16.306Z"
   },
   {
    "duration": 213,
    "start_time": "2023-06-23T12:53:16.619Z"
   },
   {
    "duration": 336,
    "start_time": "2023-06-23T12:53:22.014Z"
   },
   {
    "duration": 21,
    "start_time": "2023-06-23T12:53:25.012Z"
   },
   {
    "duration": 20744,
    "start_time": "2023-06-23T12:53:36.977Z"
   },
   {
    "duration": 784,
    "start_time": "2023-06-23T12:53:57.732Z"
   },
   {
    "duration": 42958,
    "start_time": "2023-06-23T12:53:58.518Z"
   },
   {
    "duration": 16617,
    "start_time": "2023-06-23T13:10:02.598Z"
   },
   {
    "duration": 1717,
    "start_time": "2023-06-23T13:10:27.037Z"
   },
   {
    "duration": 4,
    "start_time": "2023-06-23T13:10:28.757Z"
   },
   {
    "duration": 974,
    "start_time": "2023-06-23T13:10:28.763Z"
   },
   {
    "duration": 1620,
    "start_time": "2023-06-23T13:10:29.739Z"
   },
   {
    "duration": 3,
    "start_time": "2023-06-23T13:10:31.362Z"
   },
   {
    "duration": 764,
    "start_time": "2023-06-23T13:10:31.366Z"
   },
   {
    "duration": 238,
    "start_time": "2023-06-23T13:10:32.135Z"
   },
   {
    "duration": 366,
    "start_time": "2023-06-23T13:10:32.375Z"
   },
   {
    "duration": 641,
    "start_time": "2023-06-23T13:10:32.754Z"
   },
   {
    "duration": 336,
    "start_time": "2023-06-23T13:10:33.397Z"
   },
   {
    "duration": 217,
    "start_time": "2023-06-23T13:10:33.734Z"
   },
   {
    "duration": 188,
    "start_time": "2023-06-23T13:10:33.952Z"
   },
   {
    "duration": 12,
    "start_time": "2023-06-23T13:10:34.144Z"
   },
   {
    "duration": 728,
    "start_time": "2023-06-23T13:10:34.161Z"
   },
   {
    "duration": 890,
    "start_time": "2023-06-23T13:10:34.891Z"
   },
   {
    "duration": 858,
    "start_time": "2023-06-23T13:10:35.783Z"
   },
   {
    "duration": 566,
    "start_time": "2023-06-23T13:10:36.642Z"
   },
   {
    "duration": 99,
    "start_time": "2023-06-23T13:10:37.210Z"
   },
   {
    "duration": 533,
    "start_time": "2023-06-23T13:10:37.311Z"
   },
   {
    "duration": 138,
    "start_time": "2023-06-23T13:10:37.846Z"
   },
   {
    "duration": 145,
    "start_time": "2023-06-23T13:10:37.986Z"
   },
   {
    "duration": 44,
    "start_time": "2023-06-23T13:10:38.137Z"
   },
   {
    "duration": 70,
    "start_time": "2023-06-23T13:10:38.183Z"
   },
   {
    "duration": 182,
    "start_time": "2023-06-23T13:10:38.255Z"
   },
   {
    "duration": 292,
    "start_time": "2023-06-23T13:10:38.443Z"
   },
   {
    "duration": 14,
    "start_time": "2023-06-23T13:10:38.736Z"
   },
   {
    "duration": 21393,
    "start_time": "2023-06-23T13:10:38.755Z"
   },
   {
    "duration": 680,
    "start_time": "2023-06-23T13:11:00.162Z"
   },
   {
    "duration": 44704,
    "start_time": "2023-06-23T13:11:00.850Z"
   },
   {
    "duration": 639041,
    "start_time": "2023-06-23T13:11:45.564Z"
   },
   {
    "duration": 38092,
    "start_time": "2023-06-23T13:22:24.607Z"
   },
   {
    "duration": 384127,
    "start_time": "2023-06-23T13:23:02.701Z"
   },
   {
    "duration": 375408,
    "start_time": "2023-06-23T13:29:26.830Z"
   },
   {
    "duration": 400084,
    "start_time": "2023-06-23T13:35:42.241Z"
   },
   {
    "duration": 70,
    "start_time": "2023-06-23T13:42:22.329Z"
   },
   {
    "duration": 644649,
    "start_time": "2023-06-23T13:56:19.677Z"
   },
   {
    "duration": 40403,
    "start_time": "2023-06-23T14:07:04.343Z"
   },
   {
    "duration": 27668,
    "start_time": "2023-06-23T14:13:41.736Z"
   },
   {
    "duration": 5968,
    "start_time": "2023-06-23T14:14:09.406Z"
   },
   {
    "duration": 29240,
    "start_time": "2023-06-23T14:14:40.574Z"
   },
   {
    "duration": 173536,
    "start_time": "2023-06-23T14:15:17.229Z"
   },
   {
    "duration": 174483,
    "start_time": "2023-06-23T14:18:34.749Z"
   },
   {
    "duration": 159548,
    "start_time": "2023-06-23T14:21:29.233Z"
   },
   {
    "duration": 29807,
    "start_time": "2023-06-23T14:24:08.784Z"
   },
   {
    "duration": 61,
    "start_time": "2023-06-23T14:32:18.858Z"
   },
   {
    "duration": 13,
    "start_time": "2023-06-23T14:32:39.344Z"
   },
   {
    "duration": 16,
    "start_time": "2023-06-23T14:32:53.731Z"
   },
   {
    "duration": 23,
    "start_time": "2023-06-23T14:33:03.307Z"
   },
   {
    "duration": 11,
    "start_time": "2023-06-23T14:33:12.968Z"
   },
   {
    "duration": 12,
    "start_time": "2023-06-23T14:33:24.539Z"
   },
   {
    "duration": 16,
    "start_time": "2023-06-23T14:33:27.904Z"
   },
   {
    "duration": 11,
    "start_time": "2023-06-23T14:33:32.554Z"
   },
   {
    "duration": 9,
    "start_time": "2023-06-23T14:33:37.551Z"
   },
   {
    "duration": 10,
    "start_time": "2023-06-23T14:34:54.100Z"
   },
   {
    "duration": 11,
    "start_time": "2023-06-23T14:36:32.904Z"
   },
   {
    "duration": 237,
    "start_time": "2023-06-23T14:36:49.249Z"
   },
   {
    "duration": 301,
    "start_time": "2023-06-23T14:39:03.639Z"
   },
   {
    "duration": 493,
    "start_time": "2023-06-23T14:40:29.870Z"
   },
   {
    "duration": 277,
    "start_time": "2023-06-23T14:42:05.909Z"
   },
   {
    "duration": 247,
    "start_time": "2023-06-23T14:42:11.941Z"
   },
   {
    "duration": 80,
    "start_time": "2023-06-23T14:43:09.100Z"
   },
   {
    "duration": 13,
    "start_time": "2023-06-23T14:44:56.669Z"
   },
   {
    "duration": 658,
    "start_time": "2023-06-23T14:46:31.070Z"
   },
   {
    "duration": 14,
    "start_time": "2023-06-23T14:47:01.140Z"
   },
   {
    "duration": 665,
    "start_time": "2023-06-23T14:47:01.800Z"
   },
   {
    "duration": 1722,
    "start_time": "2023-06-23T14:51:05.643Z"
   },
   {
    "duration": 8,
    "start_time": "2023-06-23T14:51:07.368Z"
   },
   {
    "duration": 1008,
    "start_time": "2023-06-23T14:51:07.378Z"
   },
   {
    "duration": 1449,
    "start_time": "2023-06-23T14:51:08.389Z"
   },
   {
    "duration": 4,
    "start_time": "2023-06-23T14:51:09.840Z"
   },
   {
    "duration": 755,
    "start_time": "2023-06-23T14:51:09.846Z"
   },
   {
    "duration": 219,
    "start_time": "2023-06-23T14:51:10.603Z"
   },
   {
    "duration": 259,
    "start_time": "2023-06-23T14:51:10.831Z"
   },
   {
    "duration": 593,
    "start_time": "2023-06-23T14:51:11.092Z"
   },
   {
    "duration": 310,
    "start_time": "2023-06-23T14:51:11.688Z"
   },
   {
    "duration": 193,
    "start_time": "2023-06-23T14:51:12.000Z"
   },
   {
    "duration": 156,
    "start_time": "2023-06-23T14:51:12.195Z"
   },
   {
    "duration": 5,
    "start_time": "2023-06-23T14:51:12.352Z"
   },
   {
    "duration": 712,
    "start_time": "2023-06-23T14:51:12.359Z"
   },
   {
    "duration": 850,
    "start_time": "2023-06-23T14:51:13.073Z"
   },
   {
    "duration": 800,
    "start_time": "2023-06-23T14:51:13.928Z"
   },
   {
    "duration": 614,
    "start_time": "2023-06-23T14:51:14.734Z"
   },
   {
    "duration": 91,
    "start_time": "2023-06-23T14:51:15.350Z"
   },
   {
    "duration": 490,
    "start_time": "2023-06-23T14:51:15.447Z"
   },
   {
    "duration": 128,
    "start_time": "2023-06-23T14:51:15.942Z"
   },
   {
    "duration": 139,
    "start_time": "2023-06-23T14:51:16.072Z"
   },
   {
    "duration": 38,
    "start_time": "2023-06-23T14:51:16.213Z"
   },
   {
    "duration": 46,
    "start_time": "2023-06-23T14:51:16.253Z"
   },
   {
    "duration": 190,
    "start_time": "2023-06-23T14:51:16.314Z"
   },
   {
    "duration": 317,
    "start_time": "2023-06-23T14:51:16.506Z"
   },
   {
    "duration": 17,
    "start_time": "2023-06-23T14:51:16.825Z"
   },
   {
    "duration": 22106,
    "start_time": "2023-06-23T14:51:16.844Z"
   },
   {
    "duration": 667,
    "start_time": "2023-06-23T14:51:38.958Z"
   },
   {
    "duration": 41234,
    "start_time": "2023-06-23T14:51:39.630Z"
   },
   {
    "duration": 645991,
    "start_time": "2023-06-23T14:52:20.866Z"
   },
   {
    "duration": 39522,
    "start_time": "2023-06-23T15:03:06.858Z"
   },
   {
    "duration": 388537,
    "start_time": "2023-06-23T15:03:46.382Z"
   },
   {
    "duration": 484521,
    "start_time": "2023-06-23T15:10:14.921Z"
   },
   {
    "duration": 377007,
    "start_time": "2023-06-23T15:18:19.444Z"
   },
   {
    "duration": 24770,
    "start_time": "2023-06-23T15:24:36.513Z"
   },
   {
    "duration": 27199,
    "start_time": "2023-06-23T15:25:01.284Z"
   },
   {
    "duration": 159842,
    "start_time": "2023-06-23T15:25:28.484Z"
   },
   {
    "duration": 135126,
    "start_time": "2023-06-23T15:28:08.328Z"
   },
   {
    "duration": 24408,
    "start_time": "2023-06-23T15:30:23.456Z"
   },
   {
    "duration": 9,
    "start_time": "2023-06-23T15:30:47.866Z"
   },
   {
    "duration": 241,
    "start_time": "2023-06-23T15:30:47.877Z"
   },
   {
    "duration": 234,
    "start_time": "2023-06-23T15:30:48.120Z"
   },
   {
    "duration": 233,
    "start_time": "2023-06-23T15:30:48.356Z"
   },
   {
    "duration": 23,
    "start_time": "2023-06-23T15:30:48.590Z"
   },
   {
    "duration": 676,
    "start_time": "2023-06-23T15:30:48.615Z"
   },
   {
    "duration": 606,
    "start_time": "2023-06-23T15:41:12.001Z"
   },
   {
    "duration": 86129,
    "start_time": "2023-06-23T15:42:41.315Z"
   },
   {
    "duration": 200,
    "start_time": "2023-06-23T15:44:58.529Z"
   },
   {
    "duration": 144,
    "start_time": "2023-06-23T15:45:04.750Z"
   },
   {
    "duration": 427,
    "start_time": "2023-06-23T15:46:24.338Z"
   },
   {
    "duration": 72,
    "start_time": "2023-06-23T15:47:49.559Z"
   },
   {
    "duration": 412,
    "start_time": "2023-06-23T15:49:08.110Z"
   },
   {
    "duration": 13,
    "start_time": "2023-06-23T15:49:31.311Z"
   },
   {
    "duration": 11458,
    "start_time": "2023-06-23T15:49:32.257Z"
   },
   {
    "duration": 49,
    "start_time": "2023-06-23T15:50:00.408Z"
   },
   {
    "duration": 66,
    "start_time": "2023-06-23T15:51:58.896Z"
   },
   {
    "duration": 526,
    "start_time": "2023-06-23T15:52:05.508Z"
   },
   {
    "duration": 64,
    "start_time": "2023-06-23T15:53:41.440Z"
   },
   {
    "duration": 66,
    "start_time": "2023-06-23T15:53:57.879Z"
   },
   {
    "duration": 43,
    "start_time": "2023-06-23T15:54:04.810Z"
   },
   {
    "duration": 64,
    "start_time": "2023-06-23T15:55:39.245Z"
   },
   {
    "duration": 8,
    "start_time": "2023-06-23T15:55:45.012Z"
   },
   {
    "duration": 48,
    "start_time": "2023-06-23T15:55:52.008Z"
   },
   {
    "duration": 65,
    "start_time": "2023-06-23T15:56:38.958Z"
   },
   {
    "duration": 8,
    "start_time": "2023-06-23T15:56:42.971Z"
   },
   {
    "duration": 522,
    "start_time": "2023-06-23T15:56:49.135Z"
   },
   {
    "duration": 11,
    "start_time": "2023-06-23T15:58:54.120Z"
   },
   {
    "duration": 381,
    "start_time": "2023-06-23T16:00:34.199Z"
   },
   {
    "duration": 130,
    "start_time": "2023-06-23T16:02:53.930Z"
   },
   {
    "duration": 74,
    "start_time": "2023-06-23T16:03:39.272Z"
   },
   {
    "duration": 421,
    "start_time": "2023-06-23T16:03:47.461Z"
   },
   {
    "duration": 47,
    "start_time": "2023-06-23T16:04:12.913Z"
   },
   {
    "duration": 2914,
    "start_time": "2023-06-23T17:11:04.908Z"
   },
   {
    "duration": 4,
    "start_time": "2023-06-23T17:11:07.824Z"
   },
   {
    "duration": 869,
    "start_time": "2023-06-23T17:11:07.830Z"
   },
   {
    "duration": 1337,
    "start_time": "2023-06-23T17:11:08.701Z"
   },
   {
    "duration": 3,
    "start_time": "2023-06-23T17:11:10.040Z"
   },
   {
    "duration": 580,
    "start_time": "2023-06-23T17:11:10.045Z"
   },
   {
    "duration": 194,
    "start_time": "2023-06-23T17:11:10.627Z"
   },
   {
    "duration": 275,
    "start_time": "2023-06-23T17:11:10.823Z"
   },
   {
    "duration": 575,
    "start_time": "2023-06-23T17:11:11.100Z"
   },
   {
    "duration": 268,
    "start_time": "2023-06-23T17:11:11.679Z"
   },
   {
    "duration": 178,
    "start_time": "2023-06-23T17:11:11.949Z"
   },
   {
    "duration": 139,
    "start_time": "2023-06-23T17:11:12.129Z"
   },
   {
    "duration": 5,
    "start_time": "2023-06-23T17:11:12.270Z"
   },
   {
    "duration": 663,
    "start_time": "2023-06-23T17:11:12.278Z"
   },
   {
    "duration": 774,
    "start_time": "2023-06-23T17:11:12.943Z"
   },
   {
    "duration": 805,
    "start_time": "2023-06-23T17:11:13.720Z"
   },
   {
    "duration": 628,
    "start_time": "2023-06-23T17:11:14.528Z"
   },
   {
    "duration": 94,
    "start_time": "2023-06-23T17:11:15.159Z"
   },
   {
    "duration": 461,
    "start_time": "2023-06-23T17:11:15.255Z"
   },
   {
    "duration": 144,
    "start_time": "2023-06-23T17:11:15.718Z"
   },
   {
    "duration": 125,
    "start_time": "2023-06-23T17:11:15.871Z"
   },
   {
    "duration": 31,
    "start_time": "2023-06-23T17:11:15.998Z"
   },
   {
    "duration": 58,
    "start_time": "2023-06-23T17:11:16.031Z"
   },
   {
    "duration": 169,
    "start_time": "2023-06-23T17:11:16.090Z"
   },
   {
    "duration": 336,
    "start_time": "2023-06-23T17:11:16.261Z"
   },
   {
    "duration": 8,
    "start_time": "2023-06-23T17:11:16.599Z"
   },
   {
    "duration": 362,
    "start_time": "2023-06-23T17:11:16.609Z"
   },
   {
    "duration": 421,
    "start_time": "2023-06-23T17:11:16.973Z"
   },
   {
    "duration": 35463,
    "start_time": "2023-06-23T17:11:17.396Z"
   },
   {
    "duration": 7114,
    "start_time": "2023-06-23T17:13:26.130Z"
   },
   {
    "duration": 1339,
    "start_time": "2023-06-23T17:13:33.246Z"
   },
   {
    "duration": 5,
    "start_time": "2023-06-23T17:13:34.587Z"
   },
   {
    "duration": 815,
    "start_time": "2023-06-23T17:13:34.593Z"
   },
   {
    "duration": 1486,
    "start_time": "2023-06-23T17:13:35.409Z"
   },
   {
    "duration": 4,
    "start_time": "2023-06-23T17:13:36.897Z"
   },
   {
    "duration": 560,
    "start_time": "2023-06-23T17:13:36.903Z"
   },
   {
    "duration": 286,
    "start_time": "2023-06-23T17:13:37.465Z"
   },
   {
    "duration": 275,
    "start_time": "2023-06-23T17:13:37.753Z"
   },
   {
    "duration": 618,
    "start_time": "2023-06-23T17:13:38.030Z"
   },
   {
    "duration": 289,
    "start_time": "2023-06-23T17:13:38.650Z"
   },
   {
    "duration": 230,
    "start_time": "2023-06-23T17:13:38.940Z"
   },
   {
    "duration": 169,
    "start_time": "2023-06-23T17:13:39.172Z"
   },
   {
    "duration": 4,
    "start_time": "2023-06-23T17:13:39.343Z"
   },
   {
    "duration": 595,
    "start_time": "2023-06-23T17:13:39.349Z"
   },
   {
    "duration": 713,
    "start_time": "2023-06-23T17:13:39.945Z"
   },
   {
    "duration": 693,
    "start_time": "2023-06-23T17:13:40.660Z"
   },
   {
    "duration": 571,
    "start_time": "2023-06-23T17:13:41.354Z"
   },
   {
    "duration": 85,
    "start_time": "2023-06-23T17:13:41.928Z"
   },
   {
    "duration": 451,
    "start_time": "2023-06-23T17:13:42.014Z"
   },
   {
    "duration": 138,
    "start_time": "2023-06-23T17:13:42.467Z"
   },
   {
    "duration": 119,
    "start_time": "2023-06-23T17:13:42.607Z"
   },
   {
    "duration": 27,
    "start_time": "2023-06-23T17:13:42.730Z"
   },
   {
    "duration": 55,
    "start_time": "2023-06-23T17:13:42.759Z"
   },
   {
    "duration": 174,
    "start_time": "2023-06-23T17:13:42.816Z"
   },
   {
    "duration": 266,
    "start_time": "2023-06-23T17:13:42.993Z"
   },
   {
    "duration": 6,
    "start_time": "2023-06-23T17:13:43.260Z"
   },
   {
    "duration": 29110,
    "start_time": "2023-06-23T17:13:43.268Z"
   },
   {
    "duration": 1111,
    "start_time": "2023-06-23T17:14:12.382Z"
   },
   {
    "duration": 36810,
    "start_time": "2023-06-23T17:14:13.495Z"
   },
   {
    "duration": 596722,
    "start_time": "2023-06-23T17:14:50.306Z"
   },
   {
    "duration": 37471,
    "start_time": "2023-06-23T17:24:47.030Z"
   },
   {
    "duration": 455483,
    "start_time": "2023-06-23T17:25:24.503Z"
   },
   {
    "duration": 338526,
    "start_time": "2023-06-23T17:32:59.988Z"
   },
   {
    "duration": 336230,
    "start_time": "2023-06-23T17:38:38.577Z"
   },
   {
    "duration": 25630,
    "start_time": "2023-06-23T17:44:14.809Z"
   },
   {
    "duration": 27258,
    "start_time": "2023-06-23T17:44:40.441Z"
   },
   {
    "duration": 155971,
    "start_time": "2023-06-23T17:45:07.701Z"
   },
   {
    "duration": 146488,
    "start_time": "2023-06-23T17:47:43.681Z"
   },
   {
    "duration": 23675,
    "start_time": "2023-06-23T17:50:10.171Z"
   },
   {
    "duration": 8,
    "start_time": "2023-06-23T17:50:33.847Z"
   },
   {
    "duration": 212,
    "start_time": "2023-06-23T17:50:33.857Z"
   },
   {
    "duration": 199,
    "start_time": "2023-06-23T17:50:34.074Z"
   },
   {
    "duration": 212,
    "start_time": "2023-06-23T17:50:34.275Z"
   },
   {
    "duration": 12,
    "start_time": "2023-06-23T17:50:34.489Z"
   },
   {
    "duration": 72701,
    "start_time": "2023-06-23T17:50:34.503Z"
   },
   {
    "duration": 7327,
    "start_time": "2023-06-24T08:35:22.670Z"
   },
   {
    "duration": 1674,
    "start_time": "2023-06-24T08:35:32.309Z"
   },
   {
    "duration": 9,
    "start_time": "2023-06-24T08:35:35.662Z"
   },
   {
    "duration": 1478,
    "start_time": "2023-06-24T08:35:38.146Z"
   },
   {
    "duration": 1558,
    "start_time": "2023-06-24T08:35:41.029Z"
   },
   {
    "duration": 7247,
    "start_time": "2023-06-26T13:39:10.144Z"
   },
   {
    "duration": 1579,
    "start_time": "2023-06-26T13:39:17.394Z"
   },
   {
    "duration": 5,
    "start_time": "2023-06-26T13:39:18.975Z"
   },
   {
    "duration": 1214,
    "start_time": "2023-06-26T13:39:18.982Z"
   },
   {
    "duration": 1614,
    "start_time": "2023-06-26T13:39:20.198Z"
   },
   {
    "duration": 3,
    "start_time": "2023-06-26T13:39:21.814Z"
   },
   {
    "duration": 583,
    "start_time": "2023-06-26T13:39:21.819Z"
   },
   {
    "duration": 322,
    "start_time": "2023-06-26T13:39:22.403Z"
   },
   {
    "duration": 294,
    "start_time": "2023-06-26T13:39:22.726Z"
   },
   {
    "duration": 616,
    "start_time": "2023-06-26T13:39:23.024Z"
   },
   {
    "duration": 294,
    "start_time": "2023-06-26T13:39:23.641Z"
   },
   {
    "duration": 195,
    "start_time": "2023-06-26T13:39:23.936Z"
   },
   {
    "duration": 185,
    "start_time": "2023-06-26T13:39:24.133Z"
   },
   {
    "duration": 5,
    "start_time": "2023-06-26T13:39:24.320Z"
   },
   {
    "duration": 662,
    "start_time": "2023-06-26T13:39:24.327Z"
   },
   {
    "duration": 783,
    "start_time": "2023-06-26T13:39:24.991Z"
   },
   {
    "duration": 768,
    "start_time": "2023-06-26T13:39:25.775Z"
   },
   {
    "duration": 573,
    "start_time": "2023-06-26T13:39:26.545Z"
   },
   {
    "duration": 94,
    "start_time": "2023-06-26T13:39:27.120Z"
   },
   {
    "duration": 490,
    "start_time": "2023-06-26T13:39:27.216Z"
   },
   {
    "duration": 159,
    "start_time": "2023-06-26T13:39:27.708Z"
   },
   {
    "duration": 132,
    "start_time": "2023-06-26T13:39:27.870Z"
   },
   {
    "duration": 27,
    "start_time": "2023-06-26T13:39:28.004Z"
   },
   {
    "duration": 53,
    "start_time": "2023-06-26T13:39:28.033Z"
   },
   {
    "duration": 177,
    "start_time": "2023-06-26T13:39:28.088Z"
   },
   {
    "duration": 283,
    "start_time": "2023-06-26T13:39:28.267Z"
   },
   {
    "duration": 8,
    "start_time": "2023-06-26T13:39:28.554Z"
   },
   {
    "duration": 28797,
    "start_time": "2023-06-26T13:39:28.571Z"
   },
   {
    "duration": 689,
    "start_time": "2023-06-26T13:39:57.371Z"
   },
   {
    "duration": 38449,
    "start_time": "2023-06-26T13:39:58.062Z"
   },
   {
    "duration": 624500,
    "start_time": "2023-06-26T13:40:36.513Z"
   },
   {
    "duration": 40994,
    "start_time": "2023-06-26T13:51:01.015Z"
   },
   {
    "duration": 69666,
    "start_time": "2023-06-26T13:51:42.011Z"
   },
   {
    "duration": 40583,
    "start_time": "2023-06-26T13:52:51.679Z"
   },
   {
    "duration": 41512,
    "start_time": "2023-06-26T13:53:32.264Z"
   },
   {
    "duration": 25960,
    "start_time": "2023-06-26T13:54:13.778Z"
   },
   {
    "duration": 27740,
    "start_time": "2023-06-26T13:54:39.740Z"
   },
   {
    "duration": 167359,
    "start_time": "2023-06-26T13:55:07.482Z"
   },
   {
    "duration": 163254,
    "start_time": "2023-06-26T13:57:54.843Z"
   },
   {
    "duration": 26460,
    "start_time": "2023-06-26T14:00:38.099Z"
   },
   {
    "duration": 12,
    "start_time": "2023-06-26T14:01:04.560Z"
   },
   {
    "duration": 267,
    "start_time": "2023-06-26T14:01:04.573Z"
   },
   {
    "duration": 244,
    "start_time": "2023-06-26T14:01:04.842Z"
   },
   {
    "duration": 226,
    "start_time": "2023-06-26T14:01:05.087Z"
   },
   {
    "duration": 12,
    "start_time": "2023-06-26T14:01:05.315Z"
   },
   {
    "duration": 117051,
    "start_time": "2023-06-26T14:01:05.329Z"
   },
   {
    "duration": 2833,
    "start_time": "2023-06-26T15:19:21.146Z"
   },
   {
    "duration": 2405,
    "start_time": "2023-06-26T15:19:23.982Z"
   },
   {
    "duration": 5,
    "start_time": "2023-06-26T15:19:26.389Z"
   },
   {
    "duration": 1974,
    "start_time": "2023-06-26T15:19:26.396Z"
   },
   {
    "duration": 2014,
    "start_time": "2023-06-26T15:19:28.372Z"
   },
   {
    "duration": 4,
    "start_time": "2023-06-26T15:19:30.387Z"
   },
   {
    "duration": 605,
    "start_time": "2023-06-26T15:19:30.393Z"
   },
   {
    "duration": 258,
    "start_time": "2023-06-26T15:19:31.000Z"
   },
   {
    "duration": 267,
    "start_time": "2023-06-26T15:19:31.260Z"
   },
   {
    "duration": 602,
    "start_time": "2023-06-26T15:19:31.530Z"
   },
   {
    "duration": 309,
    "start_time": "2023-06-26T15:19:32.134Z"
   },
   {
    "duration": 189,
    "start_time": "2023-06-26T15:19:32.445Z"
   },
   {
    "duration": 182,
    "start_time": "2023-06-26T15:19:32.636Z"
   },
   {
    "duration": 5,
    "start_time": "2023-06-26T15:19:32.820Z"
   },
   {
    "duration": 640,
    "start_time": "2023-06-26T15:19:32.827Z"
   },
   {
    "duration": 722,
    "start_time": "2023-06-26T15:19:33.469Z"
   },
   {
    "duration": 731,
    "start_time": "2023-06-26T15:19:34.193Z"
   },
   {
    "duration": 567,
    "start_time": "2023-06-26T15:19:34.925Z"
   },
   {
    "duration": 92,
    "start_time": "2023-06-26T15:19:35.493Z"
   },
   {
    "duration": 486,
    "start_time": "2023-06-26T15:19:35.587Z"
   },
   {
    "duration": 139,
    "start_time": "2023-06-26T15:19:36.075Z"
   },
   {
    "duration": 140,
    "start_time": "2023-06-26T15:19:36.216Z"
   },
   {
    "duration": 30,
    "start_time": "2023-06-26T15:19:36.358Z"
   },
   {
    "duration": 42,
    "start_time": "2023-06-26T15:19:36.390Z"
   },
   {
    "duration": 187,
    "start_time": "2023-06-26T15:19:36.434Z"
   },
   {
    "duration": 299,
    "start_time": "2023-06-26T15:19:36.622Z"
   },
   {
    "duration": 6,
    "start_time": "2023-06-26T15:19:36.923Z"
   },
   {
    "duration": 37522,
    "start_time": "2023-06-26T15:19:36.933Z"
   },
   {
    "duration": 509,
    "start_time": "2023-06-26T15:20:14.458Z"
   },
   {
    "duration": 38244,
    "start_time": "2023-06-26T15:20:15.054Z"
   },
   {
    "duration": 2890,
    "start_time": "2023-06-26T15:27:44.408Z"
   },
   {
    "duration": 1470,
    "start_time": "2023-06-26T15:27:47.301Z"
   },
   {
    "duration": 4,
    "start_time": "2023-06-26T15:27:48.773Z"
   },
   {
    "duration": 938,
    "start_time": "2023-06-26T15:27:48.779Z"
   },
   {
    "duration": 1520,
    "start_time": "2023-06-26T15:27:49.719Z"
   },
   {
    "duration": 3,
    "start_time": "2023-06-26T15:27:51.241Z"
   },
   {
    "duration": 579,
    "start_time": "2023-06-26T15:27:51.246Z"
   },
   {
    "duration": 273,
    "start_time": "2023-06-26T15:27:51.827Z"
   },
   {
    "duration": 270,
    "start_time": "2023-06-26T15:27:52.101Z"
   },
   {
    "duration": 625,
    "start_time": "2023-06-26T15:27:52.374Z"
   },
   {
    "duration": 301,
    "start_time": "2023-06-26T15:27:53.001Z"
   },
   {
    "duration": 188,
    "start_time": "2023-06-26T15:27:53.304Z"
   },
   {
    "duration": 172,
    "start_time": "2023-06-26T15:27:53.494Z"
   },
   {
    "duration": 5,
    "start_time": "2023-06-26T15:27:53.667Z"
   },
   {
    "duration": 659,
    "start_time": "2023-06-26T15:27:53.673Z"
   },
   {
    "duration": 732,
    "start_time": "2023-06-26T15:27:54.334Z"
   },
   {
    "duration": 769,
    "start_time": "2023-06-26T15:27:55.068Z"
   },
   {
    "duration": 588,
    "start_time": "2023-06-26T15:27:55.839Z"
   },
   {
    "duration": 90,
    "start_time": "2023-06-26T15:27:56.429Z"
   },
   {
    "duration": 451,
    "start_time": "2023-06-26T15:27:56.521Z"
   },
   {
    "duration": 131,
    "start_time": "2023-06-26T15:27:56.974Z"
   },
   {
    "duration": 137,
    "start_time": "2023-06-26T15:27:57.107Z"
   },
   {
    "duration": 36,
    "start_time": "2023-06-26T15:27:57.246Z"
   },
   {
    "duration": 43,
    "start_time": "2023-06-26T15:27:57.285Z"
   },
   {
    "duration": 185,
    "start_time": "2023-06-26T15:27:57.330Z"
   },
   {
    "duration": 322,
    "start_time": "2023-06-26T15:27:57.517Z"
   },
   {
    "duration": 128,
    "start_time": "2023-06-26T15:27:57.841Z"
   },
   {
    "duration": 0,
    "start_time": "2023-06-26T15:27:57.972Z"
   },
   {
    "duration": 0,
    "start_time": "2023-06-26T15:27:57.974Z"
   },
   {
    "duration": 0,
    "start_time": "2023-06-26T15:27:57.974Z"
   },
   {
    "duration": 0,
    "start_time": "2023-06-26T15:27:57.975Z"
   },
   {
    "duration": 0,
    "start_time": "2023-06-26T15:27:57.980Z"
   },
   {
    "duration": 0,
    "start_time": "2023-06-26T15:27:57.981Z"
   },
   {
    "duration": 0,
    "start_time": "2023-06-26T15:27:57.982Z"
   },
   {
    "duration": 0,
    "start_time": "2023-06-26T15:27:57.986Z"
   },
   {
    "duration": 0,
    "start_time": "2023-06-26T15:27:57.987Z"
   },
   {
    "duration": 0,
    "start_time": "2023-06-26T15:27:57.988Z"
   },
   {
    "duration": 0,
    "start_time": "2023-06-26T15:27:57.989Z"
   },
   {
    "duration": 0,
    "start_time": "2023-06-26T15:27:57.990Z"
   },
   {
    "duration": 0,
    "start_time": "2023-06-26T15:27:57.992Z"
   },
   {
    "duration": 0,
    "start_time": "2023-06-26T15:27:57.993Z"
   },
   {
    "duration": 0,
    "start_time": "2023-06-26T15:27:57.994Z"
   },
   {
    "duration": 0,
    "start_time": "2023-06-26T15:27:57.996Z"
   },
   {
    "duration": 0,
    "start_time": "2023-06-26T15:27:57.997Z"
   },
   {
    "duration": 0,
    "start_time": "2023-06-26T15:27:57.998Z"
   },
   {
    "duration": 0,
    "start_time": "2023-06-26T15:27:57.999Z"
   },
   {
    "duration": 0,
    "start_time": "2023-06-26T15:27:58.000Z"
   },
   {
    "duration": 13,
    "start_time": "2023-06-26T15:28:22.289Z"
   },
   {
    "duration": 11,
    "start_time": "2023-06-26T15:28:31.290Z"
   },
   {
    "duration": 8,
    "start_time": "2023-06-26T15:29:37.995Z"
   },
   {
    "duration": 2263,
    "start_time": "2023-06-26T15:36:24.823Z"
   },
   {
    "duration": 1272,
    "start_time": "2023-06-26T15:36:27.089Z"
   },
   {
    "duration": 5,
    "start_time": "2023-06-26T15:36:28.363Z"
   },
   {
    "duration": 820,
    "start_time": "2023-06-26T15:36:28.370Z"
   },
   {
    "duration": 1529,
    "start_time": "2023-06-26T15:36:29.192Z"
   },
   {
    "duration": 4,
    "start_time": "2023-06-26T15:36:30.723Z"
   },
   {
    "duration": 576,
    "start_time": "2023-06-26T15:36:30.729Z"
   },
   {
    "duration": 290,
    "start_time": "2023-06-26T15:36:31.307Z"
   },
   {
    "duration": 271,
    "start_time": "2023-06-26T15:36:31.599Z"
   },
   {
    "duration": 619,
    "start_time": "2023-06-26T15:36:31.871Z"
   },
   {
    "duration": 63,
    "start_time": "2023-06-26T15:36:32.492Z"
   },
   {
    "duration": 324,
    "start_time": "2023-06-26T15:36:32.557Z"
   },
   {
    "duration": 177,
    "start_time": "2023-06-26T15:36:32.883Z"
   },
   {
    "duration": 152,
    "start_time": "2023-06-26T15:36:33.063Z"
   },
   {
    "duration": 4,
    "start_time": "2023-06-26T15:36:33.216Z"
   },
   {
    "duration": 609,
    "start_time": "2023-06-26T15:36:33.222Z"
   },
   {
    "duration": 763,
    "start_time": "2023-06-26T15:36:33.833Z"
   },
   {
    "duration": 736,
    "start_time": "2023-06-26T15:36:34.597Z"
   },
   {
    "duration": 575,
    "start_time": "2023-06-26T15:36:35.335Z"
   },
   {
    "duration": 134,
    "start_time": "2023-06-26T15:36:35.911Z"
   },
   {
    "duration": 478,
    "start_time": "2023-06-26T15:36:36.047Z"
   },
   {
    "duration": 141,
    "start_time": "2023-06-26T15:36:36.527Z"
   },
   {
    "duration": 134,
    "start_time": "2023-06-26T15:36:36.669Z"
   },
   {
    "duration": 32,
    "start_time": "2023-06-26T15:36:36.805Z"
   },
   {
    "duration": 51,
    "start_time": "2023-06-26T15:36:36.839Z"
   },
   {
    "duration": 197,
    "start_time": "2023-06-26T15:36:36.892Z"
   },
   {
    "duration": 304,
    "start_time": "2023-06-26T15:36:37.091Z"
   },
   {
    "duration": 7,
    "start_time": "2023-06-26T15:36:37.397Z"
   },
   {
    "duration": 35946,
    "start_time": "2023-06-26T15:36:37.407Z"
   },
   {
    "duration": 501,
    "start_time": "2023-06-26T15:37:13.355Z"
   },
   {
    "duration": 39357,
    "start_time": "2023-06-26T15:37:13.859Z"
   },
   {
    "duration": 608748,
    "start_time": "2023-06-26T15:37:53.218Z"
   },
   {
    "duration": 39292,
    "start_time": "2023-06-26T15:48:01.968Z"
   },
   {
    "duration": 6893,
    "start_time": "2023-06-26T15:48:41.262Z"
   },
   {
    "duration": 5419,
    "start_time": "2023-06-26T15:48:48.157Z"
   },
   {
    "duration": 5683,
    "start_time": "2023-06-26T15:48:53.578Z"
   },
   {
    "duration": 26843,
    "start_time": "2023-06-26T15:48:59.263Z"
   },
   {
    "duration": 26747,
    "start_time": "2023-06-26T15:49:26.108Z"
   },
   {
    "duration": 158071,
    "start_time": "2023-06-26T15:49:52.856Z"
   },
   {
    "duration": 140649,
    "start_time": "2023-06-26T15:52:30.929Z"
   },
   {
    "duration": 23320,
    "start_time": "2023-06-26T15:54:51.582Z"
   },
   {
    "duration": 10,
    "start_time": "2023-06-26T15:55:14.903Z"
   },
   {
    "duration": 230,
    "start_time": "2023-06-26T15:55:14.914Z"
   },
   {
    "duration": 229,
    "start_time": "2023-06-26T15:55:15.146Z"
   },
   {
    "duration": 228,
    "start_time": "2023-06-26T15:55:15.376Z"
   },
   {
    "duration": 13,
    "start_time": "2023-06-26T15:55:15.605Z"
   },
   {
    "duration": 101959,
    "start_time": "2023-06-26T15:55:15.619Z"
   },
   {
    "duration": 157,
    "start_time": "2023-06-26T15:58:19.857Z"
   },
   {
    "duration": 146,
    "start_time": "2023-06-26T15:59:46.383Z"
   },
   {
    "duration": 142,
    "start_time": "2023-06-26T16:03:09.383Z"
   },
   {
    "duration": 94,
    "start_time": "2023-06-26T16:05:58.030Z"
   },
   {
    "duration": 61,
    "start_time": "2023-06-26T16:18:58.526Z"
   },
   {
    "duration": 110027,
    "start_time": "2023-06-26T16:19:55.737Z"
   },
   {
    "duration": 7244,
    "start_time": "2023-06-26T16:22:30.950Z"
   },
   {
    "duration": 280903,
    "start_time": "2023-06-26T16:23:14.105Z"
   },
   {
    "duration": 5146,
    "start_time": "2023-06-26T16:27:55.010Z"
   },
   {
    "duration": 7079,
    "start_time": "2023-06-26T16:28:27.211Z"
   },
   {
    "duration": 283639,
    "start_time": "2023-06-26T16:28:34.292Z"
   },
   {
    "duration": 7290,
    "start_time": "2023-06-26T16:33:17.933Z"
   },
   {
    "duration": 10,
    "start_time": "2023-06-26T16:34:43.955Z"
   },
   {
    "duration": 7086,
    "start_time": "2023-06-26T16:35:25.822Z"
   },
   {
    "duration": 7176,
    "start_time": "2023-06-26T16:35:47.010Z"
   },
   {
    "duration": 2135,
    "start_time": "2023-06-26T16:36:08.694Z"
   },
   {
    "duration": 1301,
    "start_time": "2023-06-26T16:36:10.832Z"
   },
   {
    "duration": 4,
    "start_time": "2023-06-26T16:36:12.135Z"
   },
   {
    "duration": 907,
    "start_time": "2023-06-26T16:36:12.141Z"
   },
   {
    "duration": 1459,
    "start_time": "2023-06-26T16:36:13.053Z"
   },
   {
    "duration": 4,
    "start_time": "2023-06-26T16:36:14.514Z"
   },
   {
    "duration": 510,
    "start_time": "2023-06-26T16:36:14.519Z"
   },
   {
    "duration": 255,
    "start_time": "2023-06-26T16:36:15.031Z"
   },
   {
    "duration": 264,
    "start_time": "2023-06-26T16:36:15.287Z"
   },
   {
    "duration": 514,
    "start_time": "2023-06-26T16:36:15.553Z"
   },
   {
    "duration": 34,
    "start_time": "2023-06-26T16:36:16.069Z"
   },
   {
    "duration": 281,
    "start_time": "2023-06-26T16:36:16.105Z"
   },
   {
    "duration": 175,
    "start_time": "2023-06-26T16:36:16.388Z"
   },
   {
    "duration": 146,
    "start_time": "2023-06-26T16:36:16.568Z"
   },
   {
    "duration": 4,
    "start_time": "2023-06-26T16:36:16.715Z"
   },
   {
    "duration": 614,
    "start_time": "2023-06-26T16:36:16.721Z"
   },
   {
    "duration": 752,
    "start_time": "2023-06-26T16:36:17.337Z"
   },
   {
    "duration": 764,
    "start_time": "2023-06-26T16:36:18.091Z"
   },
   {
    "duration": 582,
    "start_time": "2023-06-26T16:36:18.856Z"
   },
   {
    "duration": 94,
    "start_time": "2023-06-26T16:36:19.440Z"
   },
   {
    "duration": 470,
    "start_time": "2023-06-26T16:36:19.536Z"
   },
   {
    "duration": 147,
    "start_time": "2023-06-26T16:36:20.007Z"
   },
   {
    "duration": 130,
    "start_time": "2023-06-26T16:36:20.156Z"
   },
   {
    "duration": 31,
    "start_time": "2023-06-26T16:36:20.288Z"
   },
   {
    "duration": 58,
    "start_time": "2023-06-26T16:36:20.321Z"
   },
   {
    "duration": 181,
    "start_time": "2023-06-26T16:36:20.380Z"
   },
   {
    "duration": 305,
    "start_time": "2023-06-26T16:36:20.563Z"
   },
   {
    "duration": 7,
    "start_time": "2023-06-26T16:36:20.870Z"
   },
   {
    "duration": 34680,
    "start_time": "2023-06-26T16:36:20.878Z"
   },
   {
    "duration": 7515,
    "start_time": "2023-06-26T16:36:55.560Z"
   },
   {
    "duration": 296021,
    "start_time": "2023-06-26T16:37:03.077Z"
   },
   {
    "duration": 8640,
    "start_time": "2023-06-26T16:41:59.100Z"
   },
   {
    "duration": 396613,
    "start_time": "2023-06-26T16:42:07.742Z"
   },
   {
    "duration": 392024,
    "start_time": "2023-06-26T16:48:44.356Z"
   },
   {
    "duration": 27732,
    "start_time": "2023-06-26T16:55:16.382Z"
   },
   {
    "duration": 173750,
    "start_time": "2023-06-26T16:55:44.116Z"
   },
   {
    "duration": 153884,
    "start_time": "2023-06-26T16:58:37.867Z"
   },
   {
    "duration": 24849,
    "start_time": "2023-06-26T17:01:11.753Z"
   },
   {
    "duration": 9,
    "start_time": "2023-06-26T17:01:36.604Z"
   },
   {
    "duration": 228,
    "start_time": "2023-06-26T17:01:36.615Z"
   },
   {
    "duration": 241,
    "start_time": "2023-06-26T17:01:36.847Z"
   },
   {
    "duration": 231,
    "start_time": "2023-06-26T17:01:37.090Z"
   },
   {
    "duration": 13,
    "start_time": "2023-06-26T17:01:37.323Z"
   },
   {
    "duration": 638861,
    "start_time": "2023-06-26T17:01:37.338Z"
   },
   {
    "duration": 227,
    "start_time": "2023-06-26T17:12:16.201Z"
   },
   {
    "duration": 311,
    "start_time": "2023-06-26T17:12:16.430Z"
   },
   {
    "duration": 206,
    "start_time": "2023-06-26T17:12:16.743Z"
   },
   {
    "duration": 143,
    "start_time": "2023-06-26T17:12:16.950Z"
   },
   {
    "duration": 26395,
    "start_time": "2023-06-26T17:13:07.000Z"
   },
   {
    "duration": 26557,
    "start_time": "2023-06-26T17:13:59.468Z"
   },
   {
    "duration": 12,
    "start_time": "2023-06-26T17:17:35.132Z"
   }
  ],
  "kernelspec": {
   "display_name": "Python 3 (ipykernel)",
   "language": "python",
   "name": "python3"
  },
  "language_info": {
   "codemirror_mode": {
    "name": "ipython",
    "version": 3
   },
   "file_extension": ".py",
   "mimetype": "text/x-python",
   "name": "python",
   "nbconvert_exporter": "python",
   "pygments_lexer": "ipython3",
   "version": "3.9.16"
  },
  "toc": {
   "base_numbering": 1,
   "nav_menu": {},
   "number_sections": true,
   "sideBar": true,
   "skip_h1_title": true,
   "title_cell": "Table of Contents",
   "title_sidebar": "Contents",
   "toc_cell": false,
   "toc_position": {
    "height": "595.2px",
    "left": "42px",
    "top": "110.525px",
    "width": "294.2px"
   },
   "toc_section_display": true,
   "toc_window_display": true
  }
 },
 "nbformat": 4,
 "nbformat_minor": 2
}
