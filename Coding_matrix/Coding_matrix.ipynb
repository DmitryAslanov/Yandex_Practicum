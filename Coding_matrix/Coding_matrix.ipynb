{
 "cells": [
  {
   "cell_type": "markdown",
   "metadata": {
    "toc": true
   },
   "source": [
    "<h1>Содержание<span class=\"tocSkip\"></span></h1>\n",
    "<div class=\"toc\"><ul class=\"toc-item\"><li><span><a href=\"#Загрузка-данных\" data-toc-modified-id=\"Загрузка-данных-1\"><span class=\"toc-item-num\">1&nbsp;&nbsp;</span>Загрузка данных</a></span><ul class=\"toc-item\"><li><span><a href=\"#Вывод\" data-toc-modified-id=\"Вывод-1.1\"><span class=\"toc-item-num\">1.1&nbsp;&nbsp;</span>Вывод</a></span></li></ul></li><li><span><a href=\"#Умножение-матриц\" data-toc-modified-id=\"Умножение-матриц-2\"><span class=\"toc-item-num\">2&nbsp;&nbsp;</span>Умножение матриц</a></span></li><li><span><a href=\"#Алгоритм-преобразования\" data-toc-modified-id=\"Алгоритм-преобразования-3\"><span class=\"toc-item-num\">3&nbsp;&nbsp;</span>Алгоритм преобразования</a></span><ul class=\"toc-item\"><li><span><a href=\"#Вывод\" data-toc-modified-id=\"Вывод-3.1\"><span class=\"toc-item-num\">3.1&nbsp;&nbsp;</span>Вывод</a></span></li></ul></li><li><span><a href=\"#Проверка-алгоритма\" data-toc-modified-id=\"Проверка-алгоритма-4\"><span class=\"toc-item-num\">4&nbsp;&nbsp;</span>Проверка алгоритма</a></span><ul class=\"toc-item\"><li><span><a href=\"#Функция-кодирования\" data-toc-modified-id=\"Функция-кодирования-4.1\"><span class=\"toc-item-num\">4.1&nbsp;&nbsp;</span>Функция кодирования</a></span></li><li><span><a href=\"#Проверка-на-незакодированных-данных\" data-toc-modified-id=\"Проверка-на-незакодированных-данных-4.2\"><span class=\"toc-item-num\">4.2&nbsp;&nbsp;</span>Проверка на незакодированных данных</a></span></li><li><span><a href=\"#Проверка-на-закодированных-данных\" data-toc-modified-id=\"Проверка-на-закодированных-данных-4.3\"><span class=\"toc-item-num\">4.3&nbsp;&nbsp;</span>Проверка на закодированных данных</a></span></li><li><span><a href=\"#Вывод\" data-toc-modified-id=\"Вывод-4.4\"><span class=\"toc-item-num\">4.4&nbsp;&nbsp;</span>Вывод</a></span></li></ul></li><li><span><a href=\"#Вывод\" data-toc-modified-id=\"Вывод-5\"><span class=\"toc-item-num\">5&nbsp;&nbsp;</span>Вывод</a></span></li><li><span><a href=\"#Финальные-комментарии-ревьюера\" data-toc-modified-id=\"Финальные-комментарии-ревьюера-6\"><span class=\"toc-item-num\">6&nbsp;&nbsp;</span>Финальные комментарии ревьюера</a></span></li><li><span><a href=\"#Чек-лист-проверки\" data-toc-modified-id=\"Чек-лист-проверки-7\"><span class=\"toc-item-num\">7&nbsp;&nbsp;</span>Чек-лист проверки</a></span></li></ul></div>"
   ]
  },
  {
   "cell_type": "markdown",
   "metadata": {},
   "source": [
    "# Защита персональных данных клиентов"
   ]
  },
  {
   "cell_type": "markdown",
   "metadata": {},
   "source": [
    "Вам нужно защитить данные клиентов страховой компании «Хоть потоп». Разработайте такой метод преобразования данных, чтобы по ним было сложно восстановить персональную информацию. Обоснуйте корректность его работы.\n",
    "\n",
    "Нужно защитить данные, чтобы при преобразовании качество моделей машинного обучения не ухудшилось. Подбирать наилучшую модель не требуется."
   ]
  },
  {
   "cell_type": "code",
   "execution_count": 1,
   "metadata": {},
   "outputs": [
    {
     "name": "stdout",
     "output_type": "stream",
     "text": [
      "Requirement already satisfied: phik in /opt/conda/lib/python3.9/site-packages (0.12.3)\n",
      "Requirement already satisfied: scipy>=1.5.2 in /opt/conda/lib/python3.9/site-packages (from phik) (1.9.1)\n",
      "Requirement already satisfied: matplotlib>=2.2.3 in /opt/conda/lib/python3.9/site-packages (from phik) (3.3.4)\n",
      "Requirement already satisfied: pandas>=0.25.1 in /opt/conda/lib/python3.9/site-packages (from phik) (1.2.4)\n",
      "Requirement already satisfied: joblib>=0.14.1 in /opt/conda/lib/python3.9/site-packages (from phik) (1.1.0)\n",
      "Requirement already satisfied: numpy>=1.18.0 in /opt/conda/lib/python3.9/site-packages (from phik) (1.21.1)\n",
      "Requirement already satisfied: pyparsing!=2.0.4,!=2.1.2,!=2.1.6,>=2.0.3 in /opt/conda/lib/python3.9/site-packages (from matplotlib>=2.2.3->phik) (2.4.7)\n",
      "Requirement already satisfied: python-dateutil>=2.1 in /opt/conda/lib/python3.9/site-packages (from matplotlib>=2.2.3->phik) (2.8.1)\n",
      "Requirement already satisfied: cycler>=0.10 in /opt/conda/lib/python3.9/site-packages (from matplotlib>=2.2.3->phik) (0.11.0)\n",
      "Requirement already satisfied: kiwisolver>=1.0.1 in /opt/conda/lib/python3.9/site-packages (from matplotlib>=2.2.3->phik) (1.4.4)\n",
      "Requirement already satisfied: pillow>=6.2.0 in /opt/conda/lib/python3.9/site-packages (from matplotlib>=2.2.3->phik) (8.4.0)\n",
      "Requirement already satisfied: pytz>=2017.3 in /opt/conda/lib/python3.9/site-packages (from pandas>=0.25.1->phik) (2021.1)\n",
      "Requirement already satisfied: six>=1.5 in /opt/conda/lib/python3.9/site-packages (from python-dateutil>=2.1->matplotlib>=2.2.3->phik) (1.16.0)\n",
      "Note: you may need to restart the kernel to use updated packages.\n"
     ]
    }
   ],
   "source": [
    "pip install phik"
   ]
  },
  {
   "cell_type": "markdown",
   "metadata": {},
   "source": [
    "## Загрузка данных"
   ]
  },
  {
   "cell_type": "code",
   "execution_count": 2,
   "metadata": {},
   "outputs": [],
   "source": [
    "# импорт библиотек\n",
    "import pandas as pd\n",
    "import numpy as np\n",
    "from sklearn.linear_model import LinearRegression\n",
    "from sklearn.model_selection import train_test_split\n",
    "from sklearn.metrics import r2_score\n",
    "import seaborn as sns\n",
    "import matplotlib.pyplot as plt\n",
    "import phik\n",
    "from phik import resources, report"
   ]
  },
  {
   "cell_type": "code",
   "execution_count": 3,
   "metadata": {},
   "outputs": [],
   "source": [
    "df=pd.read_csv('/datasets/insurance.csv')"
   ]
  },
  {
   "cell_type": "code",
   "execution_count": 4,
   "metadata": {},
   "outputs": [],
   "source": [
    "#функция для чтения дф\n",
    "def info(df):\n",
    "    display(df.head())\n",
    "    display(df.info())\n",
    "    display(df.describe())\n",
    "    print('Количество дубликатов:',df.duplicated().sum())\n",
    "    #Матрица кореляции\n",
    "    plt.figure(figsize=(10,10))\n",
    "    corr_matrix = sns.heatmap(df.phik_matrix(),annot=True)\n",
    "    corr_matrix.axes.set_title(\"Корреляционная матрица\",fontsize=16)\n",
    "    plt.show()"
   ]
  },
  {
   "cell_type": "code",
   "execution_count": 5,
   "metadata": {},
   "outputs": [
    {
     "data": {
      "text/html": [
       "<div>\n",
       "<style scoped>\n",
       "    .dataframe tbody tr th:only-of-type {\n",
       "        vertical-align: middle;\n",
       "    }\n",
       "\n",
       "    .dataframe tbody tr th {\n",
       "        vertical-align: top;\n",
       "    }\n",
       "\n",
       "    .dataframe thead th {\n",
       "        text-align: right;\n",
       "    }\n",
       "</style>\n",
       "<table border=\"1\" class=\"dataframe\">\n",
       "  <thead>\n",
       "    <tr style=\"text-align: right;\">\n",
       "      <th></th>\n",
       "      <th>Пол</th>\n",
       "      <th>Возраст</th>\n",
       "      <th>Зарплата</th>\n",
       "      <th>Члены семьи</th>\n",
       "      <th>Страховые выплаты</th>\n",
       "    </tr>\n",
       "  </thead>\n",
       "  <tbody>\n",
       "    <tr>\n",
       "      <th>0</th>\n",
       "      <td>1</td>\n",
       "      <td>41.0</td>\n",
       "      <td>49600.0</td>\n",
       "      <td>1</td>\n",
       "      <td>0</td>\n",
       "    </tr>\n",
       "    <tr>\n",
       "      <th>1</th>\n",
       "      <td>0</td>\n",
       "      <td>46.0</td>\n",
       "      <td>38000.0</td>\n",
       "      <td>1</td>\n",
       "      <td>1</td>\n",
       "    </tr>\n",
       "    <tr>\n",
       "      <th>2</th>\n",
       "      <td>0</td>\n",
       "      <td>29.0</td>\n",
       "      <td>21000.0</td>\n",
       "      <td>0</td>\n",
       "      <td>0</td>\n",
       "    </tr>\n",
       "    <tr>\n",
       "      <th>3</th>\n",
       "      <td>0</td>\n",
       "      <td>21.0</td>\n",
       "      <td>41700.0</td>\n",
       "      <td>2</td>\n",
       "      <td>0</td>\n",
       "    </tr>\n",
       "    <tr>\n",
       "      <th>4</th>\n",
       "      <td>1</td>\n",
       "      <td>28.0</td>\n",
       "      <td>26100.0</td>\n",
       "      <td>0</td>\n",
       "      <td>0</td>\n",
       "    </tr>\n",
       "  </tbody>\n",
       "</table>\n",
       "</div>"
      ],
      "text/plain": [
       "   Пол  Возраст  Зарплата  Члены семьи  Страховые выплаты\n",
       "0    1     41.0   49600.0            1                  0\n",
       "1    0     46.0   38000.0            1                  1\n",
       "2    0     29.0   21000.0            0                  0\n",
       "3    0     21.0   41700.0            2                  0\n",
       "4    1     28.0   26100.0            0                  0"
      ]
     },
     "metadata": {},
     "output_type": "display_data"
    },
    {
     "name": "stdout",
     "output_type": "stream",
     "text": [
      "<class 'pandas.core.frame.DataFrame'>\n",
      "RangeIndex: 5000 entries, 0 to 4999\n",
      "Data columns (total 5 columns):\n",
      " #   Column             Non-Null Count  Dtype  \n",
      "---  ------             --------------  -----  \n",
      " 0   Пол                5000 non-null   int64  \n",
      " 1   Возраст            5000 non-null   float64\n",
      " 2   Зарплата           5000 non-null   float64\n",
      " 3   Члены семьи        5000 non-null   int64  \n",
      " 4   Страховые выплаты  5000 non-null   int64  \n",
      "dtypes: float64(2), int64(3)\n",
      "memory usage: 195.4 KB\n"
     ]
    },
    {
     "data": {
      "text/plain": [
       "None"
      ]
     },
     "metadata": {},
     "output_type": "display_data"
    },
    {
     "data": {
      "text/html": [
       "<div>\n",
       "<style scoped>\n",
       "    .dataframe tbody tr th:only-of-type {\n",
       "        vertical-align: middle;\n",
       "    }\n",
       "\n",
       "    .dataframe tbody tr th {\n",
       "        vertical-align: top;\n",
       "    }\n",
       "\n",
       "    .dataframe thead th {\n",
       "        text-align: right;\n",
       "    }\n",
       "</style>\n",
       "<table border=\"1\" class=\"dataframe\">\n",
       "  <thead>\n",
       "    <tr style=\"text-align: right;\">\n",
       "      <th></th>\n",
       "      <th>Пол</th>\n",
       "      <th>Возраст</th>\n",
       "      <th>Зарплата</th>\n",
       "      <th>Члены семьи</th>\n",
       "      <th>Страховые выплаты</th>\n",
       "    </tr>\n",
       "  </thead>\n",
       "  <tbody>\n",
       "    <tr>\n",
       "      <th>count</th>\n",
       "      <td>5000.000000</td>\n",
       "      <td>5000.000000</td>\n",
       "      <td>5000.000000</td>\n",
       "      <td>5000.000000</td>\n",
       "      <td>5000.000000</td>\n",
       "    </tr>\n",
       "    <tr>\n",
       "      <th>mean</th>\n",
       "      <td>0.499000</td>\n",
       "      <td>30.952800</td>\n",
       "      <td>39916.360000</td>\n",
       "      <td>1.194200</td>\n",
       "      <td>0.148000</td>\n",
       "    </tr>\n",
       "    <tr>\n",
       "      <th>std</th>\n",
       "      <td>0.500049</td>\n",
       "      <td>8.440807</td>\n",
       "      <td>9900.083569</td>\n",
       "      <td>1.091387</td>\n",
       "      <td>0.463183</td>\n",
       "    </tr>\n",
       "    <tr>\n",
       "      <th>min</th>\n",
       "      <td>0.000000</td>\n",
       "      <td>18.000000</td>\n",
       "      <td>5300.000000</td>\n",
       "      <td>0.000000</td>\n",
       "      <td>0.000000</td>\n",
       "    </tr>\n",
       "    <tr>\n",
       "      <th>25%</th>\n",
       "      <td>0.000000</td>\n",
       "      <td>24.000000</td>\n",
       "      <td>33300.000000</td>\n",
       "      <td>0.000000</td>\n",
       "      <td>0.000000</td>\n",
       "    </tr>\n",
       "    <tr>\n",
       "      <th>50%</th>\n",
       "      <td>0.000000</td>\n",
       "      <td>30.000000</td>\n",
       "      <td>40200.000000</td>\n",
       "      <td>1.000000</td>\n",
       "      <td>0.000000</td>\n",
       "    </tr>\n",
       "    <tr>\n",
       "      <th>75%</th>\n",
       "      <td>1.000000</td>\n",
       "      <td>37.000000</td>\n",
       "      <td>46600.000000</td>\n",
       "      <td>2.000000</td>\n",
       "      <td>0.000000</td>\n",
       "    </tr>\n",
       "    <tr>\n",
       "      <th>max</th>\n",
       "      <td>1.000000</td>\n",
       "      <td>65.000000</td>\n",
       "      <td>79000.000000</td>\n",
       "      <td>6.000000</td>\n",
       "      <td>5.000000</td>\n",
       "    </tr>\n",
       "  </tbody>\n",
       "</table>\n",
       "</div>"
      ],
      "text/plain": [
       "               Пол      Возраст      Зарплата  Члены семьи  Страховые выплаты\n",
       "count  5000.000000  5000.000000   5000.000000  5000.000000        5000.000000\n",
       "mean      0.499000    30.952800  39916.360000     1.194200           0.148000\n",
       "std       0.500049     8.440807   9900.083569     1.091387           0.463183\n",
       "min       0.000000    18.000000   5300.000000     0.000000           0.000000\n",
       "25%       0.000000    24.000000  33300.000000     0.000000           0.000000\n",
       "50%       0.000000    30.000000  40200.000000     1.000000           0.000000\n",
       "75%       1.000000    37.000000  46600.000000     2.000000           0.000000\n",
       "max       1.000000    65.000000  79000.000000     6.000000           5.000000"
      ]
     },
     "metadata": {},
     "output_type": "display_data"
    },
    {
     "name": "stdout",
     "output_type": "stream",
     "text": [
      "Количество дубликатов: 153\n",
      "interval columns not set, guessing: ['Пол', 'Возраст', 'Зарплата', 'Члены семьи', 'Страховые выплаты']\n"
     ]
    },
    {
     "data": {
      "image/png": "[encoded data removed]",
      "text/plain": [
       "<Figure size 720x720 with 2 Axes>"
      ]
     },
     "metadata": {
      "needs_background": "light"
     },
     "output_type": "display_data"
    }
   ],
   "source": [
    "info(df)"
   ]
  },
  {
   "cell_type": "markdown",
   "metadata": {},
   "source": [
    "### Вывод"
   ]
  },
  {
   "cell_type": "markdown",
   "metadata": {},
   "source": [
    "Данные загружены и изучены\n",
    "\n",
    "- Наблюдается балланс между гендарами\n",
    "\n",
    "- Минимальный возраст страхования 18 лет средний 31 максимальный 65\n",
    "\n",
    "- Средняя З/П 40т.р\n",
    "\n",
    "Все эти признаки говорят о том,что страховая специализируется на среднем классе\n",
    "\n",
    "Наблюдается несколько корелляций\n",
    "\n",
    "- Корреляция между Страховыми выплатами и Гендером практически равна 0\n",
    "\n",
    "- Корреляция между З/П и Возрастом  слабая\n",
    "\n",
    "- Наблюдается сильная взаисмосвязь между Страховыми выплатами и Возрастом\n",
    "\n",
    "Имеются дубликаты,возможно реальное совпадение данных.Так как на иследование это влияние не окажет -оставим как есть все"
   ]
  },
  {
   "cell_type": "markdown",
   "metadata": {},
   "source": [
    "## Умножение матриц"
   ]
  },
  {
   "cell_type": "markdown",
   "metadata": {},
   "source": [
    "В этом задании вы можете записывать формулы в *Jupyter Notebook.*\n",
    "\n",
    "Чтобы записать формулу внутри текста, окружите её символами доллара \\\\$; если снаружи —  двойными символами \\\\$\\\\$. Эти формулы записываются на языке вёрстки *LaTeX.* \n",
    "\n",
    "Для примера мы записали формулы линейной регрессии. Можете их скопировать и отредактировать, чтобы решить задачу.\n",
    "\n",
    "Работать в *LaTeX* необязательно."
   ]
  },
  {
   "cell_type": "markdown",
   "metadata": {},
   "source": [
    "Обозначения:\n",
    "\n",
    "- $X$ — матрица признаков (нулевой столбец состоит из единиц)\n",
    "\n",
    "- $y$ — вектор целевого признака\n",
    "\n",
    "- $P$ — матрица, на которую умножаются признаки\n",
    "\n",
    "- $w$ — вектор весов линейной регрессии (нулевой элемент равен сдвигу)"
   ]
  },
  {
   "cell_type": "markdown",
   "metadata": {},
   "source": [
    "Предсказания:\n",
    "\n",
    "$$\n",
    "a = Xw\n",
    "$$\n",
    "\n",
    "Задача обучения:\n",
    "\n",
    "$$\n",
    "w = \\arg\\min_w MSE(Xw, y)\n",
    "$$\n",
    "\n",
    "Формула обучения:\n",
    "\n",
    "$$\n",
    "w = (X^T X)^{-1} X^T y\n",
    "$$"
   ]
  },
  {
   "cell_type": "markdown",
   "metadata": {},
   "source": [
    "**Вопрос**\n",
    "\n",
    "Изменится ли качество линейной регрессии?"
   ]
  },
  {
   "cell_type": "markdown",
   "metadata": {},
   "source": [
    "**Ответ:** нет не измениться\n",
    "\n",
    "**Обоснование:** Рассмотрим как связаны параметры линниейной регрессии в исходной задаче и преобразованной"
   ]
  },
  {
   "cell_type": "markdown",
   "metadata": {},
   "source": [
    "**Первое действие**\n",
    "\n",
    "Подставим в формулу $a = Xw $ значения  $w$ из формулы выше\n",
    "$$\n",
    "a = X (X^T X)^{-1} X^T y\n",
    "$$\n",
    "Так вычисляются предсказания для не преобразованных признаков.\""
   ]
  },
  {
   "cell_type": "markdown",
   "metadata": {},
   "source": [
    "**Второе действие**\n",
    "\n",
    "Преобразованные признаки $M$ - это матрица признаков $X$ умноженная на обратимую матрицу $P$: $M = XP$\n",
    "Для преобразованных признаков формула предсказаний примет вид\n",
    "$$\n",
    "a_m = M (M^T M)^{-1} M^T y = XP ((XP)^T (XP))^{-1} (XP)^T y\n",
    "$$"
   ]
  },
  {
   "cell_type": "markdown",
   "metadata": {},
   "source": [
    "**Третье действие**\n",
    "\n",
    "воспользуемся свойствами матриц: $(AB)^T = B^TA^T$:\n",
    "$$\n",
    "a_m = XP (P^TX^TXP)^{-1} P^TX^T y\n",
    "$$\n",
    "\n",
    "$$\n",
    "XPP^{-1}(X^TX)^{-1}(P^T)^{-1} P^T X^T y\n",
    "$$"
   ]
  },
  {
   "cell_type": "markdown",
   "metadata": {},
   "source": [
    "**Четвертое действие**\n",
    "\n",
    "воспльзуемся свойствами обратных матриц: $(AB)^{-1} = B^{-1}A^{-1}$\n",
    "\n",
    "\n",
    "$$\n",
    "a_m=XPP^{-1}(X^TX)^{-1}(P^T)^{-1} P^T X^T y\n",
    "$$\n",
    "\n",
    "$$\n",
    "a_m=X(X^TX)^{-1} X^T y\n",
    "$$\n",
    "\n",
    "$$\n",
    "a_m=a\n",
    "$$\n",
    "\n",
    "$E$ - единичная матрица"
   ]
  },
  {
   "cell_type": "markdown",
   "metadata": {},
   "source": [
    "**Пятое действие**\n",
    "\n",
    "Так как $PP^{-1} = E$, а умножение любой матрица на единичную матрицу даёт ту же матрицу $AE=A$\n",
    "\n",
    "\n",
    "\n",
    "$$\n",
    "a_m = XE(X^TX)^{-1} E X^T y = X(X^T X)^{-1} X^T y\n",
    "$$\n",
    "\n",
    "$$\n",
    "a_m = a\n",
    "$$"
   ]
  },
  {
   "cell_type": "markdown",
   "metadata": {},
   "source": [
    "## Алгоритм преобразования"
   ]
  },
  {
   "cell_type": "markdown",
   "metadata": {},
   "source": [
    "**Алгоритм**\n",
    "\n",
    "- Сгенерировать сучайную матрицу размером: $X$ будет размера $2Х4$:\n",
    "\n",
    "- Создадим обратимую(кодирующую) матрицу $P$ размером $2Х2$: \n",
    "\n",
    "- Умножим матрицу признаков на кодирующую матрицу получим закодированную матрицу $M=XP$\"\n",
    "\n",
    "- Сравним метрики r2,по итогу они должны быть практически равны\n"
   ]
  },
  {
   "cell_type": "markdown",
   "metadata": {},
   "source": [
    "**Обоснование**\n",
    "\n",
    "Проверим на простом наборе данных "
   ]
  },
  {
   "cell_type": "code",
   "execution_count": 6,
   "metadata": {},
   "outputs": [
    {
     "data": {
      "text/plain": [
       "array([[1, 2],\n",
       "       [2, 3],\n",
       "       [3, 4],\n",
       "       [4, 5]])"
      ]
     },
     "execution_count": 6,
     "metadata": {},
     "output_type": "execute_result"
    }
   ],
   "source": [
    "#матрица признаков 2х4\n",
    "\n",
    "X=np.array([[1,2],\n",
    "            [2,3],\n",
    "            [3,4],\n",
    "            [4,5]\n",
    "           ]\n",
    "          )\n",
    "X"
   ]
  },
  {
   "cell_type": "code",
   "execution_count": 7,
   "metadata": {},
   "outputs": [
    {
     "data": {
      "text/plain": [
       "array([1, 2, 3, 4])"
      ]
     },
     "execution_count": 7,
     "metadata": {},
     "output_type": "execute_result"
    }
   ],
   "source": [
    "# целевой признак - вектор \n",
    "\n",
    "y=np.array([1,2,3,4])\n",
    "y"
   ]
  },
  {
   "cell_type": "code",
   "execution_count": 8,
   "metadata": {},
   "outputs": [
    {
     "data": {
      "text/plain": [
       "array([[8, 2],\n",
       "       [5, 8]])"
      ]
     },
     "execution_count": 8,
     "metadata": {},
     "output_type": "execute_result"
    }
   ],
   "source": [
    "# обратимая кодирущая матрица 2х2\n",
    "\n",
    "P=np.random.randint(1,10,(2,2))\n",
    "P"
   ]
  },
  {
   "cell_type": "code",
   "execution_count": 9,
   "metadata": {},
   "outputs": [
    {
     "data": {
      "text/plain": [
       "array([[18, 18],\n",
       "       [31, 28],\n",
       "       [44, 38],\n",
       "       [57, 48]])"
      ]
     },
     "execution_count": 9,
     "metadata": {},
     "output_type": "execute_result"
    }
   ],
   "source": [
    "# закодированая матрица\n",
    "\n",
    "M=X @ P\n",
    "M\n"
   ]
  },
  {
   "cell_type": "code",
   "execution_count": 10,
   "metadata": {},
   "outputs": [
    {
     "data": {
      "text/plain": [
       "array([1., 2., 3., 4.])"
      ]
     },
     "execution_count": 10,
     "metadata": {},
     "output_type": "execute_result"
    }
   ],
   "source": [
    "# вектор прогнозов по формуле из 2ого действия\n",
    "\n",
    "a_M=M @ np.linalg.inv(M.T @ M) @ M.T @ y\n",
    "a_M"
   ]
  },
  {
   "cell_type": "markdown",
   "metadata": {},
   "source": [
    "### Вывод\n",
    "\n",
    "Видно что результат на закодированных и не закодированных признаках -одинаковый\n",
    "\n",
    "Осталось применить алгоритм к реальным данным и проверить результат"
   ]
  },
  {
   "cell_type": "markdown",
   "metadata": {},
   "source": [
    "## Проверка алгоритма"
   ]
  },
  {
   "cell_type": "markdown",
   "metadata": {},
   "source": [
    "### Функция кодирования"
   ]
  },
  {
   "cell_type": "code",
   "execution_count": 11,
   "metadata": {},
   "outputs": [],
   "source": [
    "def coding(matrix):\n",
    "    np.random.seed(12345)\n",
    "    if type(matrix)==pd.core.frame.DataFrame or type(matrix)==pd.core.series.Series: # Принимает датафрейм признаков\n",
    "        matrix=matrix.values\n",
    "    range_matrix=matrix.shape[1]\n",
    "    determinant=0\n",
    "    while determinant==0:\n",
    "        key_matrix=np.random.randint(1,100,(range_matrix,range_matrix))\n",
    "        determinant=np.linalg.det(key_matrix)\n",
    "    return matrix @ key_matrix,key_matrix"
   ]
  },
  {
   "cell_type": "markdown",
   "metadata": {},
   "source": [
    "### Проверка на незакодированных данных"
   ]
  },
  {
   "cell_type": "code",
   "execution_count": 12,
   "metadata": {},
   "outputs": [],
   "source": [
    "# Создание выборки\n",
    "features=df.drop('Страховые выплаты',axis=1)\n",
    "target=df['Страховые выплаты']\n",
    "\n",
    "# Разделение выборки\n",
    "\n",
    "features_train,features_test,target_train,target_test=train_test_split(features,\n",
    "                                                                        target,\n",
    "                                                                        test_size=0.25,\n",
    "                                                                        random_state=333)\n"
   ]
  },
  {
   "cell_type": "code",
   "execution_count": 13,
   "metadata": {},
   "outputs": [
    {
     "name": "stdout",
     "output_type": "stream",
     "text": [
      "Коэффициент детерминации:  0.3953196811703078\n"
     ]
    },
    {
     "data": {
      "text/plain": [
       "array([ 4.22847369e-03,  3.63039370e-02, -3.00900469e-07, -1.30826169e-02])"
      ]
     },
     "execution_count": 13,
     "metadata": {},
     "output_type": "execute_result"
    }
   ],
   "source": [
    "model=LinearRegression()\n",
    "model.fit(features_train,target_train)\n",
    "predictions=model.predict(features_test)\n",
    "print('Коэффициент детерминации: ',r2_score(target_test,predictions))\n",
    "\n",
    "#посмотрим массив весов\n",
    "model.coef_"
   ]
  },
  {
   "cell_type": "markdown",
   "metadata": {},
   "source": [
    "### Проверка на закодированных данных"
   ]
  },
  {
   "cell_type": "code",
   "execution_count": 14,
   "metadata": {},
   "outputs": [
    {
     "name": "stdout",
     "output_type": "stream",
     "text": [
      "[[99 30  2 37]\n",
      " [42 35 30  2]\n",
      " [60 15 92 81]\n",
      " [74 12 78 11]]\n"
     ]
    }
   ],
   "source": [
    "features_coding, coding_matrix = coding(features)\n",
    "\n",
    "features_coding_train,features_coding_test,target_train,target_test=train_test_split(features_coding,\n",
    "                                                                        target,\n",
    "                                                                        test_size=0.25,\n",
    "                                                                        random_state=333)\n",
    "print(coding_matrix)"
   ]
  },
  {
   "cell_type": "code",
   "execution_count": 15,
   "metadata": {},
   "outputs": [
    {
     "name": "stdout",
     "output_type": "stream",
     "text": [
      "Коэффициент детерминации:  0.3953196811697769\n"
     ]
    },
    {
     "data": {
      "text/plain": [
       "array([-4.41315176e-04,  1.55928776e-03,  6.77370265e-06,  3.04458346e-05])"
      ]
     },
     "execution_count": 15,
     "metadata": {},
     "output_type": "execute_result"
    }
   ],
   "source": [
    "model=LinearRegression()\n",
    "model.fit(features_coding_train,target_train)\n",
    "predictions=model.predict(features_coding_test)\n",
    "print('Коэффициент детерминации: ',r2_score(target_test,predictions))\n",
    "\n",
    "#посмотрим массив весов\n",
    "model.coef_"
   ]
  },
  {
   "cell_type": "markdown",
   "metadata": {},
   "source": [
    "### Вывод\n",
    "\n",
    "- Была написана функция кодирования моделей: **coding**\n",
    "\n",
    "- Осуществлена проверка на незакодированных данных\n",
    "\n",
    "- Осуществлена проверка на закодированных данных\n",
    "\n",
    "Из сравнения метрик качества и моделей видно,кодированние данных никак не сказалось на работаспособности модели"
   ]
  },
  {
   "cell_type": "markdown",
   "metadata": {},
   "source": [
    "## Вывод\n",
    "\n",
    "- На этапе загрузки данных явных проблем выявлено не было\n",
    "\n",
    "- На этапе Умножения матриц был дан ответ,что кодирование никак не влияет на работату модели\n",
    "\n",
    "- На этапе Алгоритм преобразования был проверен алгоритм на собственном наборе данных\n",
    "\n",
    "- На этапе Проверка алгоритма была проведенена проверка на реальных данных,которая подтвердила что работа данного аллгоритма одинакова как на незакодированных данных так и на закодированных данных\n",
    "\n",
    "\n",
    "Цель была достигнута,был разроботан метод защиты персональных данных клиентов,который никак не влияет на работу модели\n",
    "\n"
   ]
  },
  {
   "cell_type": "markdown",
   "metadata": {},
   "source": [
    "## Чек-лист проверки"
   ]
  },
  {
   "cell_type": "markdown",
   "metadata": {},
   "source": [
    "Поставьте 'x' в выполненных пунктах. Далее нажмите Shift+Enter."
   ]
  },
  {
   "cell_type": "markdown",
   "metadata": {},
   "source": [
    "- [x]  Jupyter Notebook открыт\n",
    "- [x]  Весь код выполняется без ошибок\n",
    "- [x]  Ячейки с кодом расположены в порядке исполнения\n",
    "- [x]  Выполнен шаг 1: данные загружены\n",
    "- [x]  Выполнен шаг 2: получен ответ на вопрос об умножении матриц\n",
    "    - [x]  Указан правильный вариант ответа\n",
    "    - [x]  Вариант обоснован\n",
    "- [x]  Выполнен шаг 3: предложен алгоритм преобразования\n",
    "    - [x]  Алгоритм описан\n",
    "    - [x]  Алгоритм обоснован\n",
    "- [x]  Выполнен шаг 4: алгоритм проверен\n",
    "    - [x]  Алгоритм реализован\n",
    "    - [x]  Проведено сравнение качества моделей до и после преобразования"
   ]
  },
  {
   "cell_type": "code",
   "execution_count": null,
   "metadata": {},
   "outputs": [],
   "source": []
  }
 ],
 "metadata": {
  "ExecuteTimeLog": [
   {
    "duration": 1854,
    "start_time": "2023-06-14T16:26:09.825Z"
   },
   {
    "duration": 6,
    "start_time": "2023-06-14T16:27:29.249Z"
   },
   {
    "duration": 96,
    "start_time": "2023-06-14T16:28:06.642Z"
   },
   {
    "duration": 5,
    "start_time": "2023-06-14T16:28:07.883Z"
   },
   {
    "duration": 578,
    "start_time": "2023-06-14T16:28:25.633Z"
   },
   {
    "duration": 91,
    "start_time": "2023-06-14T16:31:46.528Z"
   },
   {
    "duration": 103,
    "start_time": "2023-06-14T16:46:02.096Z"
   },
   {
    "duration": 5,
    "start_time": "2023-06-14T17:22:07.097Z"
   },
   {
    "duration": 4,
    "start_time": "2023-06-14T17:22:41.234Z"
   },
   {
    "duration": 4,
    "start_time": "2023-06-14T17:24:04.997Z"
   },
   {
    "duration": 5,
    "start_time": "2023-06-14T17:25:02.592Z"
   },
   {
    "duration": 117,
    "start_time": "2023-06-14T17:27:00.242Z"
   },
   {
    "duration": 6,
    "start_time": "2023-06-14T17:27:12.306Z"
   },
   {
    "duration": 7,
    "start_time": "2023-06-14T17:27:12.943Z"
   },
   {
    "duration": 3,
    "start_time": "2023-06-14T17:28:51.297Z"
   },
   {
    "duration": 14,
    "start_time": "2023-06-14T17:29:00.509Z"
   },
   {
    "duration": 6,
    "start_time": "2023-06-14T17:29:07.814Z"
   },
   {
    "duration": 7,
    "start_time": "2023-06-14T17:46:39.351Z"
   },
   {
    "duration": 5,
    "start_time": "2023-06-14T17:47:15.915Z"
   },
   {
    "duration": 85,
    "start_time": "2023-06-14T17:49:46.903Z"
   },
   {
    "duration": 12,
    "start_time": "2023-06-14T17:50:12.081Z"
   },
   {
    "duration": 4,
    "start_time": "2023-06-14T17:50:27.000Z"
   },
   {
    "duration": 7,
    "start_time": "2023-06-14T17:53:02.402Z"
   },
   {
    "duration": 33,
    "start_time": "2023-06-14T17:54:53.585Z"
   },
   {
    "duration": 9,
    "start_time": "2023-06-14T17:55:16.746Z"
   },
   {
    "duration": 12,
    "start_time": "2023-06-14T17:55:18.477Z"
   },
   {
    "duration": 16,
    "start_time": "2023-06-14T17:56:43.389Z"
   },
   {
    "duration": 13,
    "start_time": "2023-06-14T17:56:52.897Z"
   },
   {
    "duration": 34,
    "start_time": "2023-06-14T17:58:04.291Z"
   },
   {
    "duration": 9,
    "start_time": "2023-06-14T17:58:21.172Z"
   },
   {
    "duration": 15,
    "start_time": "2023-06-14T17:58:26.581Z"
   },
   {
    "duration": 15,
    "start_time": "2023-06-14T17:59:39.011Z"
   },
   {
    "duration": 14,
    "start_time": "2023-06-14T17:59:51.667Z"
   },
   {
    "duration": 22,
    "start_time": "2023-06-14T18:00:06.839Z"
   },
   {
    "duration": 23,
    "start_time": "2023-06-14T18:02:11.498Z"
   },
   {
    "duration": 8,
    "start_time": "2023-06-14T18:02:34.619Z"
   },
   {
    "duration": 17,
    "start_time": "2023-06-14T18:03:17.680Z"
   },
   {
    "duration": 7,
    "start_time": "2023-06-14T18:04:25.221Z"
   },
   {
    "duration": 20,
    "start_time": "2023-06-14T18:04:25.550Z"
   },
   {
    "duration": 1872,
    "start_time": "2023-06-15T03:41:01.124Z"
   },
   {
    "duration": 62,
    "start_time": "2023-06-15T03:41:02.999Z"
   },
   {
    "duration": 5,
    "start_time": "2023-06-15T03:41:03.063Z"
   },
   {
    "duration": 565,
    "start_time": "2023-06-15T03:41:03.070Z"
   },
   {
    "duration": 7,
    "start_time": "2023-06-15T03:41:03.643Z"
   },
   {
    "duration": 26,
    "start_time": "2023-06-15T03:41:03.652Z"
   },
   {
    "duration": 13,
    "start_time": "2023-06-15T03:41:03.679Z"
   },
   {
    "duration": 62,
    "start_time": "2023-06-15T03:41:03.694Z"
   },
   {
    "duration": 22,
    "start_time": "2023-06-15T03:41:03.758Z"
   },
   {
    "duration": 58,
    "start_time": "2023-06-15T03:41:03.782Z"
   },
   {
    "duration": 49,
    "start_time": "2023-06-15T03:41:03.842Z"
   },
   {
    "duration": 73,
    "start_time": "2023-06-15T03:41:03.893Z"
   },
   {
    "duration": 17,
    "start_time": "2023-06-15T03:41:03.967Z"
   },
   {
    "duration": 46,
    "start_time": "2023-06-15T03:41:03.986Z"
   },
   {
    "duration": 1712,
    "start_time": "2023-06-15T09:17:46.331Z"
   },
   {
    "duration": 95,
    "start_time": "2023-06-15T09:17:48.045Z"
   },
   {
    "duration": 4,
    "start_time": "2023-06-15T09:17:48.141Z"
   },
   {
    "duration": 552,
    "start_time": "2023-06-15T09:17:48.147Z"
   },
   {
    "duration": 4,
    "start_time": "2023-06-15T09:17:48.701Z"
   },
   {
    "duration": 29,
    "start_time": "2023-06-15T09:17:48.707Z"
   },
   {
    "duration": 28,
    "start_time": "2023-06-15T09:17:48.738Z"
   },
   {
    "duration": 39,
    "start_time": "2023-06-15T09:17:48.767Z"
   },
   {
    "duration": 17,
    "start_time": "2023-06-15T09:17:48.807Z"
   },
   {
    "duration": 28,
    "start_time": "2023-06-15T09:17:48.825Z"
   },
   {
    "duration": 11,
    "start_time": "2023-06-15T09:17:48.855Z"
   },
   {
    "duration": 85,
    "start_time": "2023-06-15T09:17:48.868Z"
   },
   {
    "duration": 11,
    "start_time": "2023-06-15T09:17:48.956Z"
   },
   {
    "duration": 93,
    "start_time": "2023-06-15T09:17:48.973Z"
   },
   {
    "duration": 20,
    "start_time": "2023-06-15T09:29:26.460Z"
   },
   {
    "duration": 1379,
    "start_time": "2023-06-15T09:29:31.367Z"
   },
   {
    "duration": 28,
    "start_time": "2023-06-15T09:29:32.748Z"
   },
   {
    "duration": 3,
    "start_time": "2023-06-15T09:29:32.778Z"
   },
   {
    "duration": 438,
    "start_time": "2023-06-15T09:29:32.783Z"
   },
   {
    "duration": 5,
    "start_time": "2023-06-15T09:29:33.223Z"
   },
   {
    "duration": 7,
    "start_time": "2023-06-15T09:29:33.230Z"
   },
   {
    "duration": 18,
    "start_time": "2023-06-15T09:29:33.239Z"
   },
   {
    "duration": 10,
    "start_time": "2023-06-15T09:29:33.259Z"
   },
   {
    "duration": 8,
    "start_time": "2023-06-15T09:29:33.270Z"
   },
   {
    "duration": 5,
    "start_time": "2023-06-15T09:29:33.279Z"
   },
   {
    "duration": 9,
    "start_time": "2023-06-15T09:29:33.285Z"
   },
   {
    "duration": 62,
    "start_time": "2023-06-15T09:29:33.295Z"
   },
   {
    "duration": 5,
    "start_time": "2023-06-15T09:29:33.359Z"
   },
   {
    "duration": 17,
    "start_time": "2023-06-15T09:29:33.367Z"
   },
   {
    "duration": 116,
    "start_time": "2023-06-15T09:30:00.566Z"
   },
   {
    "duration": 4,
    "start_time": "2023-06-15T09:30:43.249Z"
   },
   {
    "duration": 495,
    "start_time": "2023-06-15T09:30:48.929Z"
   },
   {
    "duration": 4,
    "start_time": "2023-06-15T09:32:28.967Z"
   },
   {
    "duration": 444,
    "start_time": "2023-06-15T09:32:31.969Z"
   },
   {
    "duration": 4,
    "start_time": "2023-06-15T09:32:52.187Z"
   },
   {
    "duration": 420,
    "start_time": "2023-06-15T09:32:52.409Z"
   },
   {
    "duration": 9,
    "start_time": "2023-06-15T09:33:10.935Z"
   },
   {
    "duration": 95,
    "start_time": "2023-06-15T09:33:20.420Z"
   },
   {
    "duration": 88,
    "start_time": "2023-06-15T09:33:32.626Z"
   },
   {
    "duration": 550,
    "start_time": "2023-06-15T09:33:52.675Z"
   },
   {
    "duration": 62,
    "start_time": "2023-06-15T09:36:09.679Z"
   },
   {
    "duration": 4,
    "start_time": "2023-06-15T09:36:56.130Z"
   },
   {
    "duration": 515,
    "start_time": "2023-06-15T09:37:02.307Z"
   },
   {
    "duration": 95,
    "start_time": "2023-06-15T10:03:26.708Z"
   },
   {
    "duration": 75,
    "start_time": "2023-06-15T10:03:42.152Z"
   },
   {
    "duration": 73,
    "start_time": "2023-06-15T10:08:36.731Z"
   },
   {
    "duration": 5,
    "start_time": "2023-06-15T10:16:17.549Z"
   },
   {
    "duration": 7,
    "start_time": "2023-06-15T10:16:19.307Z"
   },
   {
    "duration": 12,
    "start_time": "2023-06-15T10:16:21.749Z"
   },
   {
    "duration": 7,
    "start_time": "2023-06-15T10:16:23.706Z"
   },
   {
    "duration": 10,
    "start_time": "2023-06-15T10:16:24.429Z"
   },
   {
    "duration": 4,
    "start_time": "2023-06-15T10:16:33.902Z"
   },
   {
    "duration": 4,
    "start_time": "2023-06-15T10:38:28.108Z"
   },
   {
    "duration": 6,
    "start_time": "2023-06-15T10:38:32.536Z"
   },
   {
    "duration": 10,
    "start_time": "2023-06-15T10:38:34.035Z"
   },
   {
    "duration": 6,
    "start_time": "2023-06-15T10:38:35.496Z"
   },
   {
    "duration": 10,
    "start_time": "2023-06-15T10:38:36.295Z"
   },
   {
    "duration": 4,
    "start_time": "2023-06-15T10:39:10.496Z"
   },
   {
    "duration": 7,
    "start_time": "2023-06-15T10:39:11.731Z"
   },
   {
    "duration": 13,
    "start_time": "2023-06-15T10:39:13.171Z"
   },
   {
    "duration": 6,
    "start_time": "2023-06-15T10:39:15.208Z"
   },
   {
    "duration": 12,
    "start_time": "2023-06-15T10:39:15.992Z"
   },
   {
    "duration": 5,
    "start_time": "2023-06-15T10:41:29.541Z"
   },
   {
    "duration": 6,
    "start_time": "2023-06-15T10:41:36.367Z"
   },
   {
    "duration": 12,
    "start_time": "2023-06-15T10:41:37.218Z"
   },
   {
    "duration": 6,
    "start_time": "2023-06-15T10:41:39.102Z"
   },
   {
    "duration": 10,
    "start_time": "2023-06-15T10:41:39.895Z"
   },
   {
    "duration": 6,
    "start_time": "2023-06-15T10:41:46.109Z"
   },
   {
    "duration": 11,
    "start_time": "2023-06-15T10:41:50.046Z"
   },
   {
    "duration": 6,
    "start_time": "2023-06-15T10:41:51.300Z"
   },
   {
    "duration": 13,
    "start_time": "2023-06-15T10:41:52.895Z"
   },
   {
    "duration": 18,
    "start_time": "2023-06-15T10:49:40.505Z"
   },
   {
    "duration": 5,
    "start_time": "2023-06-15T11:17:02.797Z"
   },
   {
    "duration": 8,
    "start_time": "2023-06-15T11:17:05.857Z"
   },
   {
    "duration": 5,
    "start_time": "2023-06-15T11:19:23.385Z"
   },
   {
    "duration": 63,
    "start_time": "2023-06-15T11:19:42.403Z"
   },
   {
    "duration": 5,
    "start_time": "2023-06-15T11:19:48.427Z"
   },
   {
    "duration": 6,
    "start_time": "2023-06-15T11:19:50.748Z"
   },
   {
    "duration": 10,
    "start_time": "2023-06-15T11:19:52.570Z"
   },
   {
    "duration": 11,
    "start_time": "2023-06-15T11:19:58.179Z"
   },
   {
    "duration": 4,
    "start_time": "2023-06-15T11:20:18.023Z"
   },
   {
    "duration": 7,
    "start_time": "2023-06-15T11:20:19.149Z"
   },
   {
    "duration": 10,
    "start_time": "2023-06-15T11:20:19.871Z"
   },
   {
    "duration": 5,
    "start_time": "2023-06-15T11:20:20.960Z"
   },
   {
    "duration": 11,
    "start_time": "2023-06-15T11:20:24.044Z"
   },
   {
    "duration": 4,
    "start_time": "2023-06-15T11:20:31.845Z"
   },
   {
    "duration": 8,
    "start_time": "2023-06-15T11:20:33.663Z"
   },
   {
    "duration": 4,
    "start_time": "2023-06-15T11:20:48.864Z"
   },
   {
    "duration": 6,
    "start_time": "2023-06-15T11:20:50.560Z"
   },
   {
    "duration": 10,
    "start_time": "2023-06-15T11:20:52.429Z"
   },
   {
    "duration": 12,
    "start_time": "2023-06-15T11:20:54.672Z"
   },
   {
    "duration": 7,
    "start_time": "2023-06-15T11:20:57.884Z"
   },
   {
    "duration": 4,
    "start_time": "2023-06-15T11:21:38.307Z"
   },
   {
    "duration": 7,
    "start_time": "2023-06-15T11:21:39.010Z"
   },
   {
    "duration": 11,
    "start_time": "2023-06-15T11:21:40.468Z"
   },
   {
    "duration": 5,
    "start_time": "2023-06-15T11:21:41.657Z"
   },
   {
    "duration": 9,
    "start_time": "2023-06-15T11:22:47.756Z"
   },
   {
    "duration": 6,
    "start_time": "2023-06-15T11:22:48.735Z"
   },
   {
    "duration": 13,
    "start_time": "2023-06-15T11:22:49.374Z"
   },
   {
    "duration": 7,
    "start_time": "2023-06-15T11:22:50.350Z"
   },
   {
    "duration": 9,
    "start_time": "2023-06-15T11:22:51.203Z"
   },
   {
    "duration": 57,
    "start_time": "2023-06-15T11:24:42.523Z"
   },
   {
    "duration": 9,
    "start_time": "2023-06-15T11:24:46.723Z"
   },
   {
    "duration": 10,
    "start_time": "2023-06-15T11:24:57.511Z"
   },
   {
    "duration": 2554,
    "start_time": "2023-06-16T03:10:09.682Z"
   },
   {
    "duration": 0,
    "start_time": "2023-06-16T03:10:12.238Z"
   },
   {
    "duration": 0,
    "start_time": "2023-06-16T03:10:12.239Z"
   },
   {
    "duration": 0,
    "start_time": "2023-06-16T03:10:12.241Z"
   },
   {
    "duration": 0,
    "start_time": "2023-06-16T03:10:12.254Z"
   },
   {
    "duration": 0,
    "start_time": "2023-06-16T03:10:12.255Z"
   },
   {
    "duration": 0,
    "start_time": "2023-06-16T03:10:12.256Z"
   },
   {
    "duration": 0,
    "start_time": "2023-06-16T03:10:12.256Z"
   },
   {
    "duration": 0,
    "start_time": "2023-06-16T03:10:12.257Z"
   },
   {
    "duration": 0,
    "start_time": "2023-06-16T03:10:12.258Z"
   },
   {
    "duration": 0,
    "start_time": "2023-06-16T03:10:12.259Z"
   },
   {
    "duration": 0,
    "start_time": "2023-06-16T03:10:12.260Z"
   },
   {
    "duration": 0,
    "start_time": "2023-06-16T03:10:12.261Z"
   },
   {
    "duration": 0,
    "start_time": "2023-06-16T03:10:12.262Z"
   },
   {
    "duration": 3862,
    "start_time": "2023-06-16T03:11:40.558Z"
   },
   {
    "duration": 2035,
    "start_time": "2023-06-16T03:11:57.646Z"
   },
   {
    "duration": 127,
    "start_time": "2023-06-16T03:12:00.617Z"
   },
   {
    "duration": 6,
    "start_time": "2023-06-16T03:12:00.779Z"
   },
   {
    "duration": 606,
    "start_time": "2023-06-16T03:12:00.970Z"
   },
   {
    "duration": 7,
    "start_time": "2023-06-16T03:12:06.192Z"
   },
   {
    "duration": 4,
    "start_time": "2023-06-16T03:12:06.388Z"
   },
   {
    "duration": 4,
    "start_time": "2023-06-16T03:12:06.592Z"
   },
   {
    "duration": 4,
    "start_time": "2023-06-16T03:12:06.781Z"
   },
   {
    "duration": 7,
    "start_time": "2023-06-16T03:12:06.994Z"
   },
   {
    "duration": 9,
    "start_time": "2023-06-16T03:12:07.775Z"
   },
   {
    "duration": 7,
    "start_time": "2023-06-16T03:12:08.587Z"
   },
   {
    "duration": 15,
    "start_time": "2023-06-16T03:12:09.180Z"
   },
   {
    "duration": 8,
    "start_time": "2023-06-16T03:12:10.899Z"
   },
   {
    "duration": 10,
    "start_time": "2023-06-16T03:12:11.706Z"
   },
   {
    "duration": 3063,
    "start_time": "2023-06-16T07:43:49.131Z"
   },
   {
    "duration": 1668,
    "start_time": "2023-06-16T07:43:52.197Z"
   },
   {
    "duration": 0,
    "start_time": "2023-06-16T07:43:53.867Z"
   },
   {
    "duration": 0,
    "start_time": "2023-06-16T07:43:53.867Z"
   },
   {
    "duration": 0,
    "start_time": "2023-06-16T07:43:53.868Z"
   },
   {
    "duration": 0,
    "start_time": "2023-06-16T07:43:53.869Z"
   },
   {
    "duration": 0,
    "start_time": "2023-06-16T07:43:53.870Z"
   },
   {
    "duration": 0,
    "start_time": "2023-06-16T07:43:53.871Z"
   },
   {
    "duration": 0,
    "start_time": "2023-06-16T07:43:53.871Z"
   },
   {
    "duration": 0,
    "start_time": "2023-06-16T07:43:53.873Z"
   },
   {
    "duration": 0,
    "start_time": "2023-06-16T07:43:53.874Z"
   },
   {
    "duration": 0,
    "start_time": "2023-06-16T07:43:53.875Z"
   },
   {
    "duration": 0,
    "start_time": "2023-06-16T07:43:53.876Z"
   },
   {
    "duration": 0,
    "start_time": "2023-06-16T07:43:53.877Z"
   },
   {
    "duration": 0,
    "start_time": "2023-06-16T07:43:53.878Z"
   },
   {
    "duration": 4,
    "start_time": "2023-06-16T07:44:29.397Z"
   },
   {
    "duration": 10,
    "start_time": "2023-06-16T07:44:50.627Z"
   },
   {
    "duration": 9,
    "start_time": "2023-06-16T07:45:31.320Z"
   },
   {
    "duration": 4,
    "start_time": "2023-06-16T07:46:02.146Z"
   },
   {
    "duration": 5,
    "start_time": "2023-06-16T07:46:14.375Z"
   },
   {
    "duration": 9,
    "start_time": "2023-06-16T07:46:16.788Z"
   },
   {
    "duration": 2268,
    "start_time": "2023-06-16T07:46:43.519Z"
   },
   {
    "duration": 1776,
    "start_time": "2023-06-16T07:46:45.789Z"
   },
   {
    "duration": 106,
    "start_time": "2023-06-16T07:46:47.566Z"
   },
   {
    "duration": 5,
    "start_time": "2023-06-16T07:46:47.674Z"
   },
   {
    "duration": 496,
    "start_time": "2023-06-16T07:46:47.681Z"
   },
   {
    "duration": 6,
    "start_time": "2023-06-16T07:46:48.179Z"
   },
   {
    "duration": 68,
    "start_time": "2023-06-16T07:46:48.186Z"
   },
   {
    "duration": 61,
    "start_time": "2023-06-16T07:46:48.255Z"
   },
   {
    "duration": 66,
    "start_time": "2023-06-16T07:46:48.318Z"
   },
   {
    "duration": 44,
    "start_time": "2023-06-16T07:46:48.385Z"
   },
   {
    "duration": 39,
    "start_time": "2023-06-16T07:46:48.431Z"
   },
   {
    "duration": 14,
    "start_time": "2023-06-16T07:46:48.472Z"
   },
   {
    "duration": 46,
    "start_time": "2023-06-16T07:46:48.487Z"
   },
   {
    "duration": 7223,
    "start_time": "2023-06-16T07:46:48.536Z"
   },
   {
    "duration": 0,
    "start_time": "2023-06-16T07:46:55.760Z"
   },
   {
    "duration": 10,
    "start_time": "2023-06-16T07:47:09.420Z"
   },
   {
    "duration": 9,
    "start_time": "2023-06-16T07:47:14.225Z"
   },
   {
    "duration": 6,
    "start_time": "2023-06-16T07:47:17.384Z"
   },
   {
    "duration": 10,
    "start_time": "2023-06-16T07:47:21.264Z"
   },
   {
    "duration": 6757,
    "start_time": "2023-06-16T07:47:23.787Z"
   },
   {
    "duration": 3,
    "start_time": "2023-06-16T07:48:03.371Z"
   },
   {
    "duration": 7,
    "start_time": "2023-06-16T07:48:05.811Z"
   },
   {
    "duration": 10,
    "start_time": "2023-06-16T07:48:07.979Z"
   },
   {
    "duration": 7057,
    "start_time": "2023-06-16T07:48:10.230Z"
   },
   {
    "duration": 8,
    "start_time": "2023-06-16T07:48:45.563Z"
   },
   {
    "duration": 6436,
    "start_time": "2023-06-16T07:48:52.481Z"
   },
   {
    "duration": 4,
    "start_time": "2023-06-16T07:50:23.716Z"
   },
   {
    "duration": 7,
    "start_time": "2023-06-16T07:50:25.600Z"
   },
   {
    "duration": 9,
    "start_time": "2023-06-16T07:50:26.443Z"
   },
   {
    "duration": 6318,
    "start_time": "2023-06-16T07:50:28.041Z"
   },
   {
    "duration": 6507,
    "start_time": "2023-06-16T07:53:38.673Z"
   },
   {
    "duration": 3,
    "start_time": "2023-06-16T07:56:19.593Z"
   },
   {
    "duration": 5,
    "start_time": "2023-06-16T07:56:23.384Z"
   },
   {
    "duration": 10,
    "start_time": "2023-06-16T07:56:25.495Z"
   },
   {
    "duration": 12,
    "start_time": "2023-06-16T07:56:38.801Z"
   },
   {
    "duration": 4,
    "start_time": "2023-06-16T07:57:13.627Z"
   },
   {
    "duration": 5,
    "start_time": "2023-06-16T07:57:18.906Z"
   },
   {
    "duration": 9,
    "start_time": "2023-06-16T07:57:20.597Z"
   },
   {
    "duration": 6189,
    "start_time": "2023-06-16T07:57:29.788Z"
   },
   {
    "duration": 3,
    "start_time": "2023-06-16T08:00:48.809Z"
   },
   {
    "duration": 5,
    "start_time": "2023-06-16T08:00:51.089Z"
   },
   {
    "duration": 10,
    "start_time": "2023-06-16T08:00:53.477Z"
   },
   {
    "duration": 14,
    "start_time": "2023-06-16T08:00:54.948Z"
   },
   {
    "duration": 2317,
    "start_time": "2023-06-16T08:01:04.555Z"
   },
   {
    "duration": 1434,
    "start_time": "2023-06-16T08:01:06.875Z"
   },
   {
    "duration": 29,
    "start_time": "2023-06-16T08:01:08.310Z"
   },
   {
    "duration": 4,
    "start_time": "2023-06-16T08:01:08.341Z"
   },
   {
    "duration": 480,
    "start_time": "2023-06-16T08:01:08.346Z"
   },
   {
    "duration": 4,
    "start_time": "2023-06-16T08:01:08.828Z"
   },
   {
    "duration": 8,
    "start_time": "2023-06-16T08:01:08.833Z"
   },
   {
    "duration": 18,
    "start_time": "2023-06-16T08:01:08.842Z"
   },
   {
    "duration": 14,
    "start_time": "2023-06-16T08:01:08.861Z"
   },
   {
    "duration": 14,
    "start_time": "2023-06-16T08:01:08.877Z"
   },
   {
    "duration": 7,
    "start_time": "2023-06-16T08:01:08.892Z"
   },
   {
    "duration": 10,
    "start_time": "2023-06-16T08:01:08.900Z"
   },
   {
    "duration": 28,
    "start_time": "2023-06-16T08:01:08.911Z"
   },
   {
    "duration": 177,
    "start_time": "2023-06-16T08:01:08.941Z"
   },
   {
    "duration": 0,
    "start_time": "2023-06-16T08:01:09.120Z"
   },
   {
    "duration": 5,
    "start_time": "2023-06-16T08:01:56.081Z"
   },
   {
    "duration": 7,
    "start_time": "2023-06-16T08:02:00.275Z"
   },
   {
    "duration": 9,
    "start_time": "2023-06-16T08:02:01.426Z"
   },
   {
    "duration": 13,
    "start_time": "2023-06-16T08:02:03.427Z"
   },
   {
    "duration": 4,
    "start_time": "2023-06-16T08:02:46.950Z"
   },
   {
    "duration": 5,
    "start_time": "2023-06-16T08:03:01.416Z"
   },
   {
    "duration": 2235,
    "start_time": "2023-06-16T08:03:23.021Z"
   },
   {
    "duration": 1301,
    "start_time": "2023-06-16T08:03:25.258Z"
   },
   {
    "duration": 28,
    "start_time": "2023-06-16T08:03:26.561Z"
   },
   {
    "duration": 3,
    "start_time": "2023-06-16T08:03:26.591Z"
   },
   {
    "duration": 453,
    "start_time": "2023-06-16T08:03:26.595Z"
   },
   {
    "duration": 4,
    "start_time": "2023-06-16T08:03:27.049Z"
   },
   {
    "duration": 25,
    "start_time": "2023-06-16T08:03:27.054Z"
   },
   {
    "duration": 23,
    "start_time": "2023-06-16T08:03:27.081Z"
   },
   {
    "duration": 27,
    "start_time": "2023-06-16T08:03:27.105Z"
   },
   {
    "duration": 26,
    "start_time": "2023-06-16T08:03:27.134Z"
   },
   {
    "duration": 34,
    "start_time": "2023-06-16T08:03:27.161Z"
   },
   {
    "duration": 15,
    "start_time": "2023-06-16T08:03:27.196Z"
   },
   {
    "duration": 37,
    "start_time": "2023-06-16T08:03:27.212Z"
   },
   {
    "duration": 50,
    "start_time": "2023-06-16T08:03:27.250Z"
   },
   {
    "duration": 19,
    "start_time": "2023-06-16T08:03:27.301Z"
   },
   {
    "duration": 2296,
    "start_time": "2023-06-16T08:05:36.684Z"
   },
   {
    "duration": 2585,
    "start_time": "2023-06-16T08:05:38.983Z"
   },
   {
    "duration": 38,
    "start_time": "2023-06-16T08:05:41.571Z"
   },
   {
    "duration": 4,
    "start_time": "2023-06-16T08:05:41.615Z"
   },
   {
    "duration": 446,
    "start_time": "2023-06-16T08:05:41.620Z"
   },
   {
    "duration": 5,
    "start_time": "2023-06-16T08:05:42.067Z"
   },
   {
    "duration": 17,
    "start_time": "2023-06-16T08:05:42.073Z"
   },
   {
    "duration": 32,
    "start_time": "2023-06-16T08:05:42.091Z"
   },
   {
    "duration": 8,
    "start_time": "2023-06-16T08:05:42.125Z"
   },
   {
    "duration": 11,
    "start_time": "2023-06-16T08:05:42.135Z"
   },
   {
    "duration": 12,
    "start_time": "2023-06-16T08:05:42.148Z"
   },
   {
    "duration": 10,
    "start_time": "2023-06-16T08:05:42.162Z"
   },
   {
    "duration": 32,
    "start_time": "2023-06-16T08:05:42.173Z"
   },
   {
    "duration": 20,
    "start_time": "2023-06-16T08:05:42.206Z"
   },
   {
    "duration": 18,
    "start_time": "2023-06-16T08:05:42.227Z"
   },
   {
    "duration": 96,
    "start_time": "2023-06-16T08:10:47.276Z"
   },
   {
    "duration": 2106,
    "start_time": "2023-06-16T08:10:57.254Z"
   },
   {
    "duration": 1393,
    "start_time": "2023-06-16T08:10:59.362Z"
   },
   {
    "duration": 29,
    "start_time": "2023-06-16T08:11:00.757Z"
   },
   {
    "duration": 57,
    "start_time": "2023-06-16T08:11:00.788Z"
   },
   {
    "duration": 617,
    "start_time": "2023-06-16T08:11:00.846Z"
   },
   {
    "duration": 5,
    "start_time": "2023-06-16T08:11:01.465Z"
   },
   {
    "duration": 85,
    "start_time": "2023-06-16T08:11:01.472Z"
   },
   {
    "duration": 56,
    "start_time": "2023-06-16T08:11:01.559Z"
   },
   {
    "duration": 94,
    "start_time": "2023-06-16T08:11:01.617Z"
   },
   {
    "duration": 115,
    "start_time": "2023-06-16T08:11:01.713Z"
   },
   {
    "duration": 115,
    "start_time": "2023-06-16T08:11:01.830Z"
   },
   {
    "duration": 87,
    "start_time": "2023-06-16T08:11:01.947Z"
   },
   {
    "duration": 115,
    "start_time": "2023-06-16T08:11:02.035Z"
   },
   {
    "duration": 123,
    "start_time": "2023-06-16T08:11:02.152Z"
   },
   {
    "duration": 177,
    "start_time": "2023-06-16T08:11:02.276Z"
   },
   {
    "duration": 1398,
    "start_time": "2023-06-16T08:11:10.897Z"
   },
   {
    "duration": 35,
    "start_time": "2023-06-16T08:11:12.296Z"
   },
   {
    "duration": 18,
    "start_time": "2023-06-16T08:11:12.332Z"
   },
   {
    "duration": 510,
    "start_time": "2023-06-16T08:11:12.352Z"
   },
   {
    "duration": 4,
    "start_time": "2023-06-16T08:11:12.864Z"
   },
   {
    "duration": 143,
    "start_time": "2023-06-16T08:11:12.870Z"
   },
   {
    "duration": 79,
    "start_time": "2023-06-16T08:11:13.014Z"
   },
   {
    "duration": 120,
    "start_time": "2023-06-16T08:11:13.094Z"
   },
   {
    "duration": 368,
    "start_time": "2023-06-16T08:11:13.216Z"
   },
   {
    "duration": 146,
    "start_time": "2023-06-16T08:11:13.586Z"
   },
   {
    "duration": 11,
    "start_time": "2023-06-16T08:11:13.734Z"
   },
   {
    "duration": 49,
    "start_time": "2023-06-16T08:11:13.747Z"
   },
   {
    "duration": 31,
    "start_time": "2023-06-16T08:11:13.797Z"
   },
   {
    "duration": 13,
    "start_time": "2023-06-16T08:11:13.830Z"
   },
   {
    "duration": 1580,
    "start_time": "2023-06-17T06:11:12.969Z"
   },
   {
    "duration": 0,
    "start_time": "2023-06-17T06:11:14.551Z"
   },
   {
    "duration": 0,
    "start_time": "2023-06-17T06:11:14.552Z"
   },
   {
    "duration": 0,
    "start_time": "2023-06-17T06:11:14.553Z"
   },
   {
    "duration": 0,
    "start_time": "2023-06-17T06:11:14.554Z"
   },
   {
    "duration": 0,
    "start_time": "2023-06-17T06:11:14.555Z"
   },
   {
    "duration": 0,
    "start_time": "2023-06-17T06:11:14.558Z"
   },
   {
    "duration": 0,
    "start_time": "2023-06-17T06:11:14.559Z"
   },
   {
    "duration": 0,
    "start_time": "2023-06-17T06:11:14.560Z"
   },
   {
    "duration": 0,
    "start_time": "2023-06-17T06:11:14.562Z"
   },
   {
    "duration": 0,
    "start_time": "2023-06-17T06:11:14.563Z"
   },
   {
    "duration": 0,
    "start_time": "2023-06-17T06:11:14.564Z"
   },
   {
    "duration": 0,
    "start_time": "2023-06-17T06:11:14.565Z"
   },
   {
    "duration": 0,
    "start_time": "2023-06-17T06:11:14.566Z"
   },
   {
    "duration": 2925,
    "start_time": "2023-06-17T06:12:59.688Z"
   },
   {
    "duration": 1612,
    "start_time": "2023-06-17T06:13:10.829Z"
   },
   {
    "duration": 29,
    "start_time": "2023-06-17T06:13:12.442Z"
   },
   {
    "duration": 3,
    "start_time": "2023-06-17T06:13:12.473Z"
   },
   {
    "duration": 510,
    "start_time": "2023-06-17T06:13:12.478Z"
   },
   {
    "duration": 5,
    "start_time": "2023-06-17T06:13:18.041Z"
   },
   {
    "duration": 4,
    "start_time": "2023-06-17T06:13:18.215Z"
   },
   {
    "duration": 4,
    "start_time": "2023-06-17T06:13:18.417Z"
   },
   {
    "duration": 4,
    "start_time": "2023-06-17T06:13:18.707Z"
   },
   {
    "duration": 5,
    "start_time": "2023-06-17T06:13:19.157Z"
   },
   {
    "duration": 4,
    "start_time": "2023-06-17T06:13:19.860Z"
   },
   {
    "duration": 6,
    "start_time": "2023-06-17T06:13:21.535Z"
   },
   {
    "duration": 10,
    "start_time": "2023-06-17T06:13:21.869Z"
   },
   {
    "duration": 5,
    "start_time": "2023-06-17T06:13:22.649Z"
   },
   {
    "duration": 8,
    "start_time": "2023-06-17T06:13:23.832Z"
   },
   {
    "duration": 1654,
    "start_time": "2023-06-19T18:05:45.536Z"
   },
   {
    "duration": 0,
    "start_time": "2023-06-19T18:05:47.192Z"
   },
   {
    "duration": 0,
    "start_time": "2023-06-19T18:05:47.193Z"
   },
   {
    "duration": 0,
    "start_time": "2023-06-19T18:05:47.194Z"
   },
   {
    "duration": 0,
    "start_time": "2023-06-19T18:05:47.195Z"
   },
   {
    "duration": 0,
    "start_time": "2023-06-19T18:05:47.196Z"
   },
   {
    "duration": 0,
    "start_time": "2023-06-19T18:05:47.197Z"
   },
   {
    "duration": 0,
    "start_time": "2023-06-19T18:05:47.198Z"
   },
   {
    "duration": 0,
    "start_time": "2023-06-19T18:05:47.199Z"
   },
   {
    "duration": 0,
    "start_time": "2023-06-19T18:05:47.200Z"
   },
   {
    "duration": 0,
    "start_time": "2023-06-19T18:05:47.200Z"
   },
   {
    "duration": 0,
    "start_time": "2023-06-19T18:05:47.201Z"
   },
   {
    "duration": 0,
    "start_time": "2023-06-19T18:05:47.202Z"
   },
   {
    "duration": 0,
    "start_time": "2023-06-19T18:05:47.226Z"
   },
   {
    "duration": 121,
    "start_time": "2023-06-19T18:06:38.681Z"
   },
   {
    "duration": 82,
    "start_time": "2023-06-19T18:06:57.127Z"
   },
   {
    "duration": 0,
    "start_time": "2023-06-19T18:06:57.211Z"
   },
   {
    "duration": 0,
    "start_time": "2023-06-19T18:06:57.212Z"
   },
   {
    "duration": 0,
    "start_time": "2023-06-19T18:06:57.214Z"
   },
   {
    "duration": 0,
    "start_time": "2023-06-19T18:06:57.215Z"
   },
   {
    "duration": 0,
    "start_time": "2023-06-19T18:06:57.216Z"
   },
   {
    "duration": 0,
    "start_time": "2023-06-19T18:06:57.218Z"
   },
   {
    "duration": 0,
    "start_time": "2023-06-19T18:06:57.219Z"
   },
   {
    "duration": 0,
    "start_time": "2023-06-19T18:06:57.220Z"
   },
   {
    "duration": 0,
    "start_time": "2023-06-19T18:06:57.221Z"
   },
   {
    "duration": 0,
    "start_time": "2023-06-19T18:06:57.222Z"
   },
   {
    "duration": 0,
    "start_time": "2023-06-19T18:06:57.223Z"
   },
   {
    "duration": 0,
    "start_time": "2023-06-19T18:06:57.223Z"
   },
   {
    "duration": 0,
    "start_time": "2023-06-19T18:06:57.224Z"
   },
   {
    "duration": 0,
    "start_time": "2023-06-19T18:06:57.225Z"
   },
   {
    "duration": 3244,
    "start_time": "2023-06-19T18:07:06.976Z"
   },
   {
    "duration": 2195,
    "start_time": "2023-06-19T18:07:13.613Z"
   },
   {
    "duration": 1408,
    "start_time": "2023-06-19T18:07:15.809Z"
   },
   {
    "duration": 106,
    "start_time": "2023-06-19T18:07:17.219Z"
   },
   {
    "duration": 4,
    "start_time": "2023-06-19T18:07:17.335Z"
   },
   {
    "duration": 496,
    "start_time": "2023-06-19T18:07:17.341Z"
   },
   {
    "duration": 5,
    "start_time": "2023-06-19T18:07:17.838Z"
   },
   {
    "duration": 16,
    "start_time": "2023-06-19T18:07:17.844Z"
   },
   {
    "duration": 26,
    "start_time": "2023-06-19T18:07:17.861Z"
   },
   {
    "duration": 19,
    "start_time": "2023-06-19T18:07:17.888Z"
   },
   {
    "duration": 8,
    "start_time": "2023-06-19T18:07:17.909Z"
   },
   {
    "duration": 18,
    "start_time": "2023-06-19T18:07:17.918Z"
   },
   {
    "duration": 23,
    "start_time": "2023-06-19T18:07:17.937Z"
   },
   {
    "duration": 64,
    "start_time": "2023-06-19T18:07:17.961Z"
   },
   {
    "duration": 9,
    "start_time": "2023-06-19T18:07:18.028Z"
   },
   {
    "duration": 12,
    "start_time": "2023-06-19T18:07:18.039Z"
   },
   {
    "duration": 95,
    "start_time": "2023-06-19T18:08:12.680Z"
   }
  ],
  "kernelspec": {
   "display_name": "Python 3 (ipykernel)",
   "language": "python",
   "name": "python3"
  },
  "language_info": {
   "codemirror_mode": {
    "name": "ipython",
    "version": 3
   },
   "file_extension": ".py",
   "mimetype": "text/x-python",
   "name": "python",
   "nbconvert_exporter": "python",
   "pygments_lexer": "ipython3",
   "version": "3.9.16"
  },
  "toc": {
   "base_numbering": 1,
   "nav_menu": {},
   "number_sections": true,
   "sideBar": true,
   "skip_h1_title": true,
   "title_cell": "Содержание",
   "title_sidebar": "Contents",
   "toc_cell": true,
   "toc_position": {
    "height": "calc(100% - 180px)",
    "left": "10px",
    "top": "150px",
    "width": "328.347px"
   },
   "toc_section_display": true,
   "toc_window_display": true
  }
 },
 "nbformat": 4,
 "nbformat_minor": 2
}
