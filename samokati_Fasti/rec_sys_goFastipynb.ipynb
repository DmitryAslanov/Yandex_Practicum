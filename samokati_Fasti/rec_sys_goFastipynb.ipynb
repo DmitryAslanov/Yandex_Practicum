{
 "cells": [
  {
   "cell_type": "markdown",
   "id": "f19af0fa",
   "metadata": {},
   "source": [
    "# Иследование для сервиса Go fast для оптимизации и увелечения выручки"
   ]
  },
  {
   "cell_type": "markdown",
   "id": "61268f7e",
   "metadata": {},
   "source": [
    "**Описание проекта**\n",
    "Вам передали данные о некоторых пользователях из нескольких городов, а также об их поездках. Проанализируйте данные и проверьте некоторые гипотезы, которые могут помочь бизнесу вырасти.\n",
    "\n",
    "Чтобы совершать поездки по городу, пользователи сервиса GoFast пользуются мобильным приложением. Сервисом можно пользоваться:\n",
    "\n",
    "без подписки\n",
    "абонентская плата отсутствует;\n",
    "\n",
    "стоимость одной минуты поездки — 8 рублей;\n",
    "\n",
    "стоимость старта (начала поездки) — 50 рублей;\n",
    "\n",
    "с подпиской Ultra\n",
    "\n",
    "абонентская плата — 199 рублей в месяц;\n",
    "\n",
    "стоимость одной минуты поездки — 6 рублей;\n",
    "\n",
    "стоимость старта — бесплатно.\n",
    "\n",
    "**Цель проекта**\n",
    "\n",
    "1-Изучить данные о пользователях\n",
    "\n",
    "2-Произвести рассчеты,построить графики\n",
    "\n",
    "3-На основе достижения цели **№** 2 предоставить рекомендации,для роста бизнеса"
   ]
  },
  {
   "cell_type": "code",
   "execution_count": 1,
   "id": "72576667",
   "metadata": {},
   "outputs": [],
   "source": [
    "import pandas as pd\n",
    "import matplotlib.pyplot as plt\n",
    "import seaborn as sns\n",
    "from scipy import stats as st\n",
    "import numpy as np\n",
    "from scipy.stats import binom\n",
    "from math import sqrt\n",
    "import numpy as np"
   ]
  },
  {
   "cell_type": "markdown",
   "id": "c42cbe00",
   "metadata": {},
   "source": [
    "#### Шаг 1. Загрузка данных"
   ]
  },
  {
   "cell_type": "markdown",
   "id": "110bb020",
   "metadata": {},
   "source": [
    "**Таблица пользователей**"
   ]
  },
  {
   "cell_type": "code",
   "execution_count": 2,
   "id": "eff9f206",
   "metadata": {},
   "outputs": [
    {
     "name": "stdout",
     "output_type": "stream",
     "text": [
      "<class 'pandas.core.frame.DataFrame'>\n",
      "RangeIndex: 1565 entries, 0 to 1564\n",
      "Data columns (total 5 columns):\n",
      " #   Column             Non-Null Count  Dtype \n",
      "---  ------             --------------  ----- \n",
      " 0   user_id            1565 non-null   int64 \n",
      " 1   name               1565 non-null   object\n",
      " 2   age                1565 non-null   int64 \n",
      " 3   city               1565 non-null   object\n",
      " 4   subscription_type  1565 non-null   object\n",
      "dtypes: int64(2), object(3)\n",
      "memory usage: 61.3+ KB\n"
     ]
    },
    {
     "data": {
      "text/html": [
       "<div>\n",
       "<style scoped>\n",
       "    .dataframe tbody tr th:only-of-type {\n",
       "        vertical-align: middle;\n",
       "    }\n",
       "\n",
       "    .dataframe tbody tr th {\n",
       "        vertical-align: top;\n",
       "    }\n",
       "\n",
       "    .dataframe thead th {\n",
       "        text-align: right;\n",
       "    }\n",
       "</style>\n",
       "<table border=\"1\" class=\"dataframe\">\n",
       "  <thead>\n",
       "    <tr style=\"text-align: right;\">\n",
       "      <th></th>\n",
       "      <th>user_id</th>\n",
       "      <th>name</th>\n",
       "      <th>age</th>\n",
       "      <th>city</th>\n",
       "      <th>subscription_type</th>\n",
       "    </tr>\n",
       "  </thead>\n",
       "  <tbody>\n",
       "    <tr>\n",
       "      <th>1538</th>\n",
       "      <td>908</td>\n",
       "      <td>Рустам</td>\n",
       "      <td>30</td>\n",
       "      <td>Тюмень</td>\n",
       "      <td>free</td>\n",
       "    </tr>\n",
       "    <tr>\n",
       "      <th>1091</th>\n",
       "      <td>1092</td>\n",
       "      <td>Ярослава</td>\n",
       "      <td>25</td>\n",
       "      <td>Ростов-на-Дону</td>\n",
       "      <td>free</td>\n",
       "    </tr>\n",
       "    <tr>\n",
       "      <th>1098</th>\n",
       "      <td>1099</td>\n",
       "      <td>Назар</td>\n",
       "      <td>23</td>\n",
       "      <td>Тюмень</td>\n",
       "      <td>free</td>\n",
       "    </tr>\n",
       "    <tr>\n",
       "      <th>566</th>\n",
       "      <td>567</td>\n",
       "      <td>Камилла</td>\n",
       "      <td>33</td>\n",
       "      <td>Ростов-на-Дону</td>\n",
       "      <td>ultra</td>\n",
       "    </tr>\n",
       "    <tr>\n",
       "      <th>1235</th>\n",
       "      <td>1236</td>\n",
       "      <td>Александр</td>\n",
       "      <td>31</td>\n",
       "      <td>Екатеринбург</td>\n",
       "      <td>free</td>\n",
       "    </tr>\n",
       "  </tbody>\n",
       "</table>\n",
       "</div>"
      ],
      "text/plain": [
       "      user_id       name  age            city subscription_type\n",
       "1538      908     Рустам   30          Тюмень              free\n",
       "1091     1092   Ярослава   25  Ростов-на-Дону              free\n",
       "1098     1099      Назар   23          Тюмень              free\n",
       "566       567    Камилла   33  Ростов-на-Дону             ultra\n",
       "1235     1236  Александр   31    Екатеринбург              free"
      ]
     },
     "execution_count": 2,
     "metadata": {},
     "output_type": "execute_result"
    }
   ],
   "source": [
    "df_user=pd.read_csv('/datasets/users_go.csv')\n",
    "df_user.info()\n",
    "df_user.sample(5)"
   ]
  },
  {
   "cell_type": "markdown",
   "id": "dd5138c6",
   "metadata": {},
   "source": [
    "**Описание данных**\n",
    "\n",
    "**user_id**-id  пользователя\n",
    "\n",
    "**name**- Имя пользователя\n",
    "\n",
    "**age**-Возраст пользователя\n",
    "\n",
    "**city**- Город\n",
    "\n",
    "**subscription_type**- Тип подписки"
   ]
  },
  {
   "cell_type": "markdown",
   "id": "b5f0085a",
   "metadata": {},
   "source": [
    "Тип данных столбцов -впордяке"
   ]
  },
  {
   "cell_type": "markdown",
   "id": "9f0a8c39",
   "metadata": {},
   "source": [
    "**Таблица поездок**"
   ]
  },
  {
   "cell_type": "code",
   "execution_count": 3,
   "id": "9103edf2",
   "metadata": {},
   "outputs": [
    {
     "name": "stdout",
     "output_type": "stream",
     "text": [
      "<class 'pandas.core.frame.DataFrame'>\n",
      "RangeIndex: 18068 entries, 0 to 18067\n",
      "Data columns (total 4 columns):\n",
      " #   Column    Non-Null Count  Dtype  \n",
      "---  ------    --------------  -----  \n",
      " 0   user_id   18068 non-null  int64  \n",
      " 1   distance  18068 non-null  float64\n",
      " 2   duration  18068 non-null  float64\n",
      " 3   date      18068 non-null  object \n",
      "dtypes: float64(2), int64(1), object(1)\n",
      "memory usage: 564.8+ KB\n"
     ]
    },
    {
     "data": {
      "text/html": [
       "<div>\n",
       "<style scoped>\n",
       "    .dataframe tbody tr th:only-of-type {\n",
       "        vertical-align: middle;\n",
       "    }\n",
       "\n",
       "    .dataframe tbody tr th {\n",
       "        vertical-align: top;\n",
       "    }\n",
       "\n",
       "    .dataframe thead th {\n",
       "        text-align: right;\n",
       "    }\n",
       "</style>\n",
       "<table border=\"1\" class=\"dataframe\">\n",
       "  <thead>\n",
       "    <tr style=\"text-align: right;\">\n",
       "      <th></th>\n",
       "      <th>user_id</th>\n",
       "      <th>distance</th>\n",
       "      <th>duration</th>\n",
       "      <th>date</th>\n",
       "    </tr>\n",
       "  </thead>\n",
       "  <tbody>\n",
       "    <tr>\n",
       "      <th>12761</th>\n",
       "      <td>1158</td>\n",
       "      <td>3191.772375</td>\n",
       "      <td>24.079281</td>\n",
       "      <td>2021-08-14</td>\n",
       "    </tr>\n",
       "    <tr>\n",
       "      <th>5342</th>\n",
       "      <td>573</td>\n",
       "      <td>4864.283166</td>\n",
       "      <td>22.241062</td>\n",
       "      <td>2021-03-10</td>\n",
       "    </tr>\n",
       "    <tr>\n",
       "      <th>10517</th>\n",
       "      <td>993</td>\n",
       "      <td>4262.941508</td>\n",
       "      <td>25.314708</td>\n",
       "      <td>2021-08-28</td>\n",
       "    </tr>\n",
       "    <tr>\n",
       "      <th>1996</th>\n",
       "      <td>216</td>\n",
       "      <td>3218.199974</td>\n",
       "      <td>20.776909</td>\n",
       "      <td>2021-03-18</td>\n",
       "    </tr>\n",
       "    <tr>\n",
       "      <th>9936</th>\n",
       "      <td>953</td>\n",
       "      <td>2795.095350</td>\n",
       "      <td>20.826617</td>\n",
       "      <td>2021-03-05</td>\n",
       "    </tr>\n",
       "  </tbody>\n",
       "</table>\n",
       "</div>"
      ],
      "text/plain": [
       "       user_id     distance   duration        date\n",
       "12761     1158  3191.772375  24.079281  2021-08-14\n",
       "5342       573  4864.283166  22.241062  2021-03-10\n",
       "10517      993  4262.941508  25.314708  2021-08-28\n",
       "1996       216  3218.199974  20.776909  2021-03-18\n",
       "9936       953  2795.095350  20.826617  2021-03-05"
      ]
     },
     "execution_count": 3,
     "metadata": {},
     "output_type": "execute_result"
    }
   ],
   "source": [
    "df_rides=pd.read_csv('/datasets/rides_go.csv')\n",
    "df_rides.info()\n",
    "df_rides.sample(5)"
   ]
  },
  {
   "cell_type": "markdown",
   "id": "16ee7318",
   "metadata": {},
   "source": [
    "**Описание данных**\n",
    "\n",
    "**user_id**-id  пользователя\n",
    "\n",
    "**distance**- Расстояние поездки\n",
    "\n",
    "**duration**-Продолжительность поездки\n",
    "\n",
    "**date**- Дата поездки\n",
    "\n"
   ]
  },
  {
   "cell_type": "markdown",
   "id": "8b0b1aeb",
   "metadata": {},
   "source": [
    "Тип файлов в столбце **date** нужно привести к типу **datetime** и **distance** к **int**"
   ]
  },
  {
   "cell_type": "code",
   "execution_count": 4,
   "id": "47db9609",
   "metadata": {},
   "outputs": [
    {
     "name": "stdout",
     "output_type": "stream",
     "text": [
      "<class 'pandas.core.frame.DataFrame'>\n",
      "RangeIndex: 2 entries, 0 to 1\n",
      "Data columns (total 4 columns):\n",
      " #   Column             Non-Null Count  Dtype \n",
      "---  ------             --------------  ----- \n",
      " 0   subscription_type  2 non-null      object\n",
      " 1   minute_price       2 non-null      int64 \n",
      " 2   start_ride_price   2 non-null      int64 \n",
      " 3   subscription_fee   2 non-null      int64 \n",
      "dtypes: int64(3), object(1)\n",
      "memory usage: 192.0+ bytes\n"
     ]
    },
    {
     "data": {
      "text/html": [
       "<div>\n",
       "<style scoped>\n",
       "    .dataframe tbody tr th:only-of-type {\n",
       "        vertical-align: middle;\n",
       "    }\n",
       "\n",
       "    .dataframe tbody tr th {\n",
       "        vertical-align: top;\n",
       "    }\n",
       "\n",
       "    .dataframe thead th {\n",
       "        text-align: right;\n",
       "    }\n",
       "</style>\n",
       "<table border=\"1\" class=\"dataframe\">\n",
       "  <thead>\n",
       "    <tr style=\"text-align: right;\">\n",
       "      <th></th>\n",
       "      <th>subscription_type</th>\n",
       "      <th>minute_price</th>\n",
       "      <th>start_ride_price</th>\n",
       "      <th>subscription_fee</th>\n",
       "    </tr>\n",
       "  </thead>\n",
       "  <tbody>\n",
       "    <tr>\n",
       "      <th>0</th>\n",
       "      <td>free</td>\n",
       "      <td>8</td>\n",
       "      <td>50</td>\n",
       "      <td>0</td>\n",
       "    </tr>\n",
       "    <tr>\n",
       "      <th>1</th>\n",
       "      <td>ultra</td>\n",
       "      <td>6</td>\n",
       "      <td>0</td>\n",
       "      <td>199</td>\n",
       "    </tr>\n",
       "  </tbody>\n",
       "</table>\n",
       "</div>"
      ],
      "text/plain": [
       "  subscription_type  minute_price  start_ride_price  subscription_fee\n",
       "0              free             8                50                 0\n",
       "1             ultra             6                 0               199"
      ]
     },
     "execution_count": 4,
     "metadata": {},
     "output_type": "execute_result"
    }
   ],
   "source": [
    "df_sub=pd.read_csv('/datasets/subscriptions_go.csv')\n",
    "df_sub.info()\n",
    "df_sub.head()"
   ]
  },
  {
   "cell_type": "markdown",
   "id": "a751cc87",
   "metadata": {},
   "source": [
    "**Описание данных**\n",
    "\n",
    "**subscription_type**-Наличие подписки\n",
    "\n",
    "**minute_price**-Стоимость минуты поездки(8 рублей -без подписки,6 рублей с подпиской)\n",
    "\n",
    "**start_ride_price** -Стоимость начала поездки(50 рублей - безд подспики,бесплатно - с подпиской)\n",
    "\n",
    "**subscription_fee**-Абонентская плата в месяц(отсутвует- без подписки,199 рублей - с подпиской)\n"
   ]
  },
  {
   "cell_type": "markdown",
   "id": "b842ae69",
   "metadata": {},
   "source": [
    "Класс типов данных впорядке"
   ]
  },
  {
   "cell_type": "markdown",
   "id": "6375e475",
   "metadata": {},
   "source": [
    "**Вывод:**\n",
    "При изучении 3 датафреймов,был выявлен неверный формат данных в стобце **date**.А так же просмотрена общая информация о них и составлено описание столбцов.\n",
    "Займемся предобраткой данных"
   ]
  },
  {
   "cell_type": "markdown",
   "id": "e95ebca7",
   "metadata": {},
   "source": [
    "#### Шаг 2. Предобработка данных"
   ]
  },
  {
   "cell_type": "markdown",
   "id": "a6fbaced",
   "metadata": {},
   "source": [
    "Изучим столбцы подробнее.Посмотрим количество пропсков в каждом их них,а так же наличие явных и не явных дубликатов,преобразуем тип данных= там где он требуется"
   ]
  },
  {
   "cell_type": "markdown",
   "id": "e70fb627",
   "metadata": {},
   "source": [
    "**2.1 Преобразование типов данных**"
   ]
  },
  {
   "cell_type": "code",
   "execution_count": 5,
   "id": "7f7f7309",
   "metadata": {},
   "outputs": [
    {
     "data": {
      "text/plain": [
       "10420   2021-10-22\n",
       "2001    2021-03-02\n",
       "15207   2021-11-28\n",
       "10261   2021-07-12\n",
       "17114   2021-03-16\n",
       "Name: date, dtype: datetime64[ns]"
      ]
     },
     "execution_count": 5,
     "metadata": {},
     "output_type": "execute_result"
    }
   ],
   "source": [
    "df_rides['date']=pd.to_datetime(df_rides['date'],format='%Y-%m-%d')\n",
    "#проверим\n",
    "df_rides['date'].sample(5)"
   ]
  },
  {
   "cell_type": "markdown",
   "id": "976db532",
   "metadata": {},
   "source": [
    "**2.2 Создание столбца с номером месяца**"
   ]
  },
  {
   "cell_type": "code",
   "execution_count": 6,
   "id": "2559f186",
   "metadata": {},
   "outputs": [
    {
     "data": {
      "text/html": [
       "<div>\n",
       "<style scoped>\n",
       "    .dataframe tbody tr th:only-of-type {\n",
       "        vertical-align: middle;\n",
       "    }\n",
       "\n",
       "    .dataframe tbody tr th {\n",
       "        vertical-align: top;\n",
       "    }\n",
       "\n",
       "    .dataframe thead th {\n",
       "        text-align: right;\n",
       "    }\n",
       "</style>\n",
       "<table border=\"1\" class=\"dataframe\">\n",
       "  <thead>\n",
       "    <tr style=\"text-align: right;\">\n",
       "      <th></th>\n",
       "      <th>user_id</th>\n",
       "      <th>distance</th>\n",
       "      <th>duration</th>\n",
       "      <th>date</th>\n",
       "      <th>month</th>\n",
       "    </tr>\n",
       "  </thead>\n",
       "  <tbody>\n",
       "    <tr>\n",
       "      <th>2764</th>\n",
       "      <td>295</td>\n",
       "      <td>3379.139775</td>\n",
       "      <td>14.109935</td>\n",
       "      <td>2021-02-20</td>\n",
       "      <td>2</td>\n",
       "    </tr>\n",
       "    <tr>\n",
       "      <th>3462</th>\n",
       "      <td>372</td>\n",
       "      <td>3313.363176</td>\n",
       "      <td>19.952072</td>\n",
       "      <td>2021-10-20</td>\n",
       "      <td>10</td>\n",
       "    </tr>\n",
       "    <tr>\n",
       "      <th>13277</th>\n",
       "      <td>1196</td>\n",
       "      <td>2923.207871</td>\n",
       "      <td>15.491729</td>\n",
       "      <td>2021-03-08</td>\n",
       "      <td>3</td>\n",
       "    </tr>\n",
       "    <tr>\n",
       "      <th>11251</th>\n",
       "      <td>1047</td>\n",
       "      <td>1378.395128</td>\n",
       "      <td>13.518519</td>\n",
       "      <td>2021-11-10</td>\n",
       "      <td>11</td>\n",
       "    </tr>\n",
       "    <tr>\n",
       "      <th>14271</th>\n",
       "      <td>1262</td>\n",
       "      <td>4348.810805</td>\n",
       "      <td>21.348744</td>\n",
       "      <td>2021-12-24</td>\n",
       "      <td>12</td>\n",
       "    </tr>\n",
       "    <tr>\n",
       "      <th>6959</th>\n",
       "      <td>731</td>\n",
       "      <td>2196.807653</td>\n",
       "      <td>9.545119</td>\n",
       "      <td>2021-04-21</td>\n",
       "      <td>4</td>\n",
       "    </tr>\n",
       "    <tr>\n",
       "      <th>4104</th>\n",
       "      <td>442</td>\n",
       "      <td>4470.269288</td>\n",
       "      <td>26.158297</td>\n",
       "      <td>2021-11-14</td>\n",
       "      <td>11</td>\n",
       "    </tr>\n",
       "    <tr>\n",
       "      <th>9023</th>\n",
       "      <td>888</td>\n",
       "      <td>2365.427589</td>\n",
       "      <td>20.461710</td>\n",
       "      <td>2021-08-08</td>\n",
       "      <td>8</td>\n",
       "    </tr>\n",
       "    <tr>\n",
       "      <th>415</th>\n",
       "      <td>45</td>\n",
       "      <td>2923.294657</td>\n",
       "      <td>18.945244</td>\n",
       "      <td>2021-01-24</td>\n",
       "      <td>1</td>\n",
       "    </tr>\n",
       "    <tr>\n",
       "      <th>13536</th>\n",
       "      <td>1213</td>\n",
       "      <td>644.612093</td>\n",
       "      <td>6.275102</td>\n",
       "      <td>2021-03-26</td>\n",
       "      <td>3</td>\n",
       "    </tr>\n",
       "  </tbody>\n",
       "</table>\n",
       "</div>"
      ],
      "text/plain": [
       "       user_id     distance   duration       date  month\n",
       "2764       295  3379.139775  14.109935 2021-02-20      2\n",
       "3462       372  3313.363176  19.952072 2021-10-20     10\n",
       "13277     1196  2923.207871  15.491729 2021-03-08      3\n",
       "11251     1047  1378.395128  13.518519 2021-11-10     11\n",
       "14271     1262  4348.810805  21.348744 2021-12-24     12\n",
       "6959       731  2196.807653   9.545119 2021-04-21      4\n",
       "4104       442  4470.269288  26.158297 2021-11-14     11\n",
       "9023       888  2365.427589  20.461710 2021-08-08      8\n",
       "415         45  2923.294657  18.945244 2021-01-24      1\n",
       "13536     1213   644.612093   6.275102 2021-03-26      3"
      ]
     },
     "execution_count": 6,
     "metadata": {},
     "output_type": "execute_result"
    }
   ],
   "source": [
    "df_rides['month']=df_rides['date'].dt.month\n",
    "#проверим\n",
    "df_rides.sample(10)"
   ]
  },
  {
   "cell_type": "markdown",
   "id": "b11f428f",
   "metadata": {},
   "source": [
    "**2.3 Пропуски**"
   ]
  },
  {
   "cell_type": "code",
   "execution_count": 7,
   "id": "af6d202c",
   "metadata": {},
   "outputs": [
    {
     "name": "stdout",
     "output_type": "stream",
     "text": [
      "Пропусков в таблице пользователей: 0\n",
      "Пропусков в таблице поездок: 0\n",
      "Пропусков в таблице подписок: 0\n"
     ]
    }
   ],
   "source": [
    "#Посмотрим количество пропусков в таблице пользвателей,подписок,поездок\n",
    "print('Пропусков в таблице пользователей:',df_user.value_counts().isna().sum())\n",
    "print('Пропусков в таблице поездок:',df_rides.value_counts().isna().sum())\n",
    "print('Пропусков в таблице подписок:',df_sub.value_counts().isna().sum())"
   ]
  },
  {
   "cell_type": "markdown",
   "id": "bfc3e68b",
   "metadata": {},
   "source": [
    "**2.4 Явные дубликаты**"
   ]
  },
  {
   "cell_type": "code",
   "execution_count": 8,
   "id": "3e6e0103",
   "metadata": {},
   "outputs": [
    {
     "name": "stdout",
     "output_type": "stream",
     "text": [
      "Явных дубликатов в таблице пользователей: 31\n",
      "Явных дубликатов в таблице поездок: 0\n",
      "Явных дубликатов в таблице подписок: 0\n"
     ]
    }
   ],
   "source": [
    "print('Явных дубликатов в таблице пользователей:',df_user.duplicated().sum())\n",
    "print('Явных дубликатов в таблице поездок:',df_rides.duplicated().sum())\n",
    "print('Явных дубликатов в таблице подписок:',df_sub.duplicated().sum())"
   ]
  },
  {
   "cell_type": "code",
   "execution_count": 9,
   "id": "d2b4df3e",
   "metadata": {},
   "outputs": [
    {
     "name": "stdout",
     "output_type": "stream",
     "text": [
      "Явных дубликатов в таблице пользователей: 0\n"
     ]
    }
   ],
   "source": [
    "#Избавимся от дубликатов\n",
    "df_user=df_user.drop_duplicates().reset_index(drop=True)\n",
    "#проверим\n",
    "print('Явных дубликатов в таблице пользователей:',df_user.duplicated().sum())"
   ]
  },
  {
   "cell_type": "markdown",
   "id": "2d3e9755",
   "metadata": {},
   "source": [
    "**Неявные дубликаты**"
   ]
  },
  {
   "cell_type": "code",
   "execution_count": 10,
   "id": "96355d79",
   "metadata": {},
   "outputs": [
    {
     "data": {
      "text/plain": [
       "array(['Агата', 'Аделина', 'Адель', 'Айдар', 'Александр', 'Александра',\n",
       "       'Алексей', 'Алина', 'Алиса', 'Алия', 'Алла', 'Альберт', 'Альбина',\n",
       "       'Алёна', 'Амалия', 'Амина', 'Амир', 'Анастасия', 'Анатолий',\n",
       "       'Ангелина', 'Андрей', 'Анжелика', 'Анна', 'Антон', 'Антонина',\n",
       "       'Ариана', 'Арина', 'Арсен', 'Арсений', 'Артемий', 'Артур', 'Артём',\n",
       "       'Богдан', 'Борис', 'Вадим', 'Валентина', 'Валерий', 'Валерия',\n",
       "       'Варвара', 'Василий', 'Василина', 'Василиса', 'Вера', 'Вероника',\n",
       "       'Виктор', 'Виктория', 'Виолетта', 'Виталий', 'Виталина', 'Влад',\n",
       "       'Влада', 'Владимир', 'Владислав', 'Владислава', 'Всеволод',\n",
       "       'Вячеслав', 'Галина', 'Георгий', 'Герман', 'Глеб', 'Гордей',\n",
       "       'Григорий', 'Давид', 'Дамир', 'Даниил', 'Данил', 'Данила',\n",
       "       'Даниэль', 'Дарина', 'Дарья', 'Демид', 'Денис', 'Диана', 'Дмитрий',\n",
       "       'Ева', 'Евгений', 'Евгения', 'Егор', 'Екатерина', 'Елена',\n",
       "       'Елизавета', 'Елисей', 'Есения', 'Жанна', 'Зарина', 'Захар',\n",
       "       'Злата', 'Иван', 'Игнат', 'Игорь', 'Ильдар', 'Илья', 'Инна',\n",
       "       'Ирина', 'Камилла', 'Карина', 'Каролина', 'Кира', 'Кирилл',\n",
       "       'Константин', 'Кристина', 'Ксения', 'Лариса', 'Лев', 'Леонид',\n",
       "       'Лиана', 'Лидия', 'Лилия', 'Любовь', 'Людмила', 'Мадина', 'Майя',\n",
       "       'Макар', 'Максим', 'Марат', 'Маргарита', 'Марина', 'Мария', 'Марк',\n",
       "       'Марсель', 'Матвей', 'Мелания', 'Милана', 'Милена', 'Мирон',\n",
       "       'Мирослав', 'Мирослава', 'Михаил', 'Назар', 'Наталия', 'Наталья',\n",
       "       'Наташа', 'Нелли', 'Ника', 'Никита', 'Николай', 'Нина', 'Одиссей',\n",
       "       'Оксана', 'Олег', 'Олеся', 'Ольга', 'Павел', 'Петр', 'Платон',\n",
       "       'Полина', 'Радмир', 'Рамиль', 'Регина', 'Роберт', 'Родион',\n",
       "       'Роман', 'Ростислав', 'Руслан', 'Рустам', 'Савелий', 'Самир',\n",
       "       'Самира', 'Светлана', 'Святогор', 'Святослав', 'Семен', 'Сергей',\n",
       "       'Снежана', 'София', 'Софья', 'Станислав', 'Степан', 'Стефания',\n",
       "       'Таисия', 'Тамара', 'Тамерлан', 'Татьяна', 'Тимофей', 'Тимур',\n",
       "       'Тихон', 'Ульяна', 'Федор', 'Эвелина', 'Эдуард', 'Элина',\n",
       "       'Эльвира', 'Эльмира', 'Эмилия', 'Эмиль', 'Юлиана', 'Юлия', 'Юрий',\n",
       "       'Ян', 'Яна', 'Яромир', 'Ярослав', 'Ярослава', 'Ясмина'],\n",
       "      dtype=object)"
      ]
     },
     "execution_count": 10,
     "metadata": {},
     "output_type": "execute_result"
    }
   ],
   "source": [
    "df_user['name'].sort_values().unique()"
   ]
  },
  {
   "cell_type": "code",
   "execution_count": 11,
   "id": "a0aa78e1",
   "metadata": {},
   "outputs": [
    {
     "data": {
      "text/plain": [
       "array(['Екатеринбург', 'Краснодар', 'Москва', 'Омск', 'Пятигорск',\n",
       "       'Ростов-на-Дону', 'Сочи', 'Тюмень'], dtype=object)"
      ]
     },
     "execution_count": 11,
     "metadata": {},
     "output_type": "execute_result"
    }
   ],
   "source": [
    "df_user['city'].sort_values().unique()"
   ]
  },
  {
   "cell_type": "markdown",
   "id": "510dc774",
   "metadata": {},
   "source": [
    "Неявных дубликатов не выявлено"
   ]
  },
  {
   "cell_type": "markdown",
   "id": "d91406fd",
   "metadata": {},
   "source": [
    "**Вывод:**\n",
    "\n",
    " На этапе предобработки данных были изменены 2 столбца **date** ---> **datetime** И **distance** ---> **int**\n",
    " \n",
    " Даже к датафрейму был добавлен столбец с Месяцами по номерам\n",
    " \n",
    " Пропусков не выявлено\n",
    " \n",
    " Явные дубликаты были выявлены в датафрейме **User** и успешно удалены\n",
    " \n",
    " Не янвных дубликатов не выявлено"
   ]
  },
  {
   "cell_type": "markdown",
   "id": "212593c7",
   "metadata": {},
   "source": [
    "#### Шаг . Исследовательский анализ данных"
   ]
  },
  {
   "cell_type": "markdown",
   "id": "e1328308",
   "metadata": {},
   "source": [
    "3.1 Частота встречаемости городов"
   ]
  },
  {
   "cell_type": "code",
   "execution_count": 12,
   "id": "eb14da25",
   "metadata": {},
   "outputs": [
    {
     "data": {
      "text/plain": [
       "Пятигорск         219\n",
       "Екатеринбург      204\n",
       "Ростов-на-Дону    198\n",
       "Краснодар         193\n",
       "Сочи              189\n",
       "Омск              183\n",
       "Тюмень            180\n",
       "Москва            168\n",
       "Name: city, dtype: int64"
      ]
     },
     "execution_count": 12,
     "metadata": {},
     "output_type": "execute_result"
    }
   ],
   "source": [
    "df_user['city'].value_counts()"
   ]
  },
  {
   "cell_type": "code",
   "execution_count": 13,
   "id": "a7d61869",
   "metadata": {},
   "outputs": [
    {
     "data": {
      "image/png": "[encoded data removed]",
      "text/plain": [
       "<Figure size 720x720 with 1 Axes>"
      ]
     },
     "metadata": {
      "needs_background": "light"
     },
     "output_type": "display_data"
    }
   ],
   "source": [
    "df_user['city'].hist(bins=15,figsize=(10,10),edgecolor=\"black\")\n",
    "plt.show()"
   ]
  },
  {
   "cell_type": "markdown",
   "id": "07a6ceb3",
   "metadata": {},
   "source": [
    "Произвели расчет частоты встречаемости городов и визуализировали это\n",
    "\n",
    "Из расчетов видно,что **Пятигорск** и  **Екатеринбург** самые популярные города их значение превышает 200 ед.\n",
    "\n",
    "Город который реже всего встречается это **Москва** его значение составляет 168 ед."
   ]
  },
  {
   "cell_type": "markdown",
   "id": "ebb697b3",
   "metadata": {},
   "source": [
    "**3.2 Cоотношение пользователей с подпиской и без подписк**"
   ]
  },
  {
   "cell_type": "code",
   "execution_count": 14,
   "id": "05b1b6a3",
   "metadata": {},
   "outputs": [
    {
     "data": {
      "image/png": "[encoded data removed]",
      "text/plain": [
       "<Figure size 720x720 with 1 Axes>"
      ]
     },
     "metadata": {
      "needs_background": "light"
     },
     "output_type": "display_data"
    }
   ],
   "source": [
    "df_user['subscription_type'].value_counts().plot(kind='bar',stacked=True,grid=True,colormap='seismic',figsize=(10,10),edgecolor=\"black\");\n"
   ]
  },
  {
   "cell_type": "markdown",
   "id": "b5f9249d",
   "metadata": {},
   "source": [
    "На графике видно,что соотношение пользователей без подписки преобладают примерно на 10%,над пользователями с \"ней\""
   ]
  },
  {
   "cell_type": "markdown",
   "id": "b962e14d",
   "metadata": {},
   "source": [
    "**3.3 Возраст пользователей**"
   ]
  },
  {
   "cell_type": "code",
   "execution_count": 15,
   "id": "7a56448c",
   "metadata": {},
   "outputs": [
    {
     "data": {
      "image/png": "[encoded data removed]",
      "text/plain": [
       "<Figure size 504x504 with 1 Axes>"
      ]
     },
     "metadata": {
      "needs_background": "light"
     },
     "output_type": "display_data"
    }
   ],
   "source": [
    "df_user['age'].hist(bins=30,figsize=(7,7),ec='black');\n"
   ]
  },
  {
   "cell_type": "markdown",
   "id": "00cb1821",
   "metadata": {},
   "source": [
    "График отображает что самые популярные пользователи это люди в возрасте от 23-26 лет\n",
    "\n",
    "Меньше всего пользователей это люди из восрастной категории 'подростки'14-17 лет и взрослые 36 40 лет"
   ]
  },
  {
   "cell_type": "markdown",
   "id": "c0208c60",
   "metadata": {},
   "source": [
    "**3.4 Pасстояние, которое пользователь преодолел за одну поездку**"
   ]
  },
  {
   "cell_type": "code",
   "execution_count": 16,
   "id": "812b9a1c",
   "metadata": {},
   "outputs": [
    {
     "data": {
      "image/png": "[encoded data removed]",
      "text/plain": [
       "<Figure size 504x504 with 1 Axes>"
      ]
     },
     "metadata": {
      "needs_background": "light"
     },
     "output_type": "display_data"
    }
   ],
   "source": [
    "df_rides['distance'].hist(bins=20,figsize=(7,7),ec='black');"
   ]
  },
  {
   "cell_type": "markdown",
   "id": "227dcba1",
   "metadata": {},
   "source": [
    "График показывает,что чаще всего пользователи совершают поездки от 2.5 до 4.5 км\n",
    "\n",
    "Очень редко,пользователи ездиют на дистанции свыше 5км"
   ]
  },
  {
   "cell_type": "code",
   "execution_count": 17,
   "id": "6bf288b5",
   "metadata": {},
   "outputs": [
    {
     "data": {
      "image/png": "[encoded data removed]",
      "text/plain": [
       "<Figure size 504x504 with 1 Axes>"
      ]
     },
     "metadata": {
      "needs_background": "light"
     },
     "output_type": "display_data"
    }
   ],
   "source": [
    "df_rides['duration'].hist(bins=20,figsize=(7,7),ec='black');"
   ]
  },
  {
   "cell_type": "markdown",
   "id": "f78ea3d9",
   "metadata": {},
   "source": [
    "На графике видно,что в среднем пользователи тратят на поездку от 12 до 22 минут"
   ]
  },
  {
   "cell_type": "markdown",
   "id": "6bafc9cf",
   "metadata": {},
   "source": [
    "**На этапе иследовательского анализа данных было построенно 5 графиков и даны к ним пояснения**\n",
    "\n",
    "На первом графике были отображены города,самые популярные Пятигорк и ЕКБ\n",
    "\n",
    "На втором графике было отображено количество пользователей с подпиской и без-Пользователи без подписки преобладают на 10%\n",
    "\n",
    "на третьем графике отображен возраст пользователей\n",
    "\n",
    "На четвертом расстояние поездки\n",
    "\n",
    "На пятом среднея продолжительность всех поездок"
   ]
  },
  {
   "cell_type": "markdown",
   "id": "4ef51331",
   "metadata": {},
   "source": [
    "#### Шаг 4. Объединение данных"
   ]
  },
  {
   "cell_type": "code",
   "execution_count": 18,
   "id": "bed7549b",
   "metadata": {},
   "outputs": [
    {
     "data": {
      "text/html": [
       "<div>\n",
       "<style scoped>\n",
       "    .dataframe tbody tr th:only-of-type {\n",
       "        vertical-align: middle;\n",
       "    }\n",
       "\n",
       "    .dataframe tbody tr th {\n",
       "        vertical-align: top;\n",
       "    }\n",
       "\n",
       "    .dataframe thead th {\n",
       "        text-align: right;\n",
       "    }\n",
       "</style>\n",
       "<table border=\"1\" class=\"dataframe\">\n",
       "  <thead>\n",
       "    <tr style=\"text-align: right;\">\n",
       "      <th></th>\n",
       "      <th>17732</th>\n",
       "      <th>12749</th>\n",
       "      <th>9458</th>\n",
       "      <th>12404</th>\n",
       "      <th>8313</th>\n",
       "      <th>9995</th>\n",
       "      <th>11292</th>\n",
       "      <th>3406</th>\n",
       "      <th>9990</th>\n",
       "      <th>1835</th>\n",
       "    </tr>\n",
       "  </thead>\n",
       "  <tbody>\n",
       "    <tr>\n",
       "      <th>user_id</th>\n",
       "      <td>1511</td>\n",
       "      <td>1157</td>\n",
       "      <td>919</td>\n",
       "      <td>1132</td>\n",
       "      <td>834</td>\n",
       "      <td>957</td>\n",
       "      <td>1050</td>\n",
       "      <td>368</td>\n",
       "      <td>957</td>\n",
       "      <td>198</td>\n",
       "    </tr>\n",
       "    <tr>\n",
       "      <th>name</th>\n",
       "      <td>Элина</td>\n",
       "      <td>Рустам</td>\n",
       "      <td>Марат</td>\n",
       "      <td>Наталия</td>\n",
       "      <td>Давид</td>\n",
       "      <td>Эльвира</td>\n",
       "      <td>Богдан</td>\n",
       "      <td>Валентина</td>\n",
       "      <td>Эльвира</td>\n",
       "      <td>Марсель</td>\n",
       "    </tr>\n",
       "    <tr>\n",
       "      <th>age</th>\n",
       "      <td>27</td>\n",
       "      <td>24</td>\n",
       "      <td>24</td>\n",
       "      <td>20</td>\n",
       "      <td>29</td>\n",
       "      <td>20</td>\n",
       "      <td>32</td>\n",
       "      <td>32</td>\n",
       "      <td>20</td>\n",
       "      <td>27</td>\n",
       "    </tr>\n",
       "    <tr>\n",
       "      <th>city</th>\n",
       "      <td>Краснодар</td>\n",
       "      <td>Екатеринбург</td>\n",
       "      <td>Краснодар</td>\n",
       "      <td>Москва</td>\n",
       "      <td>Пятигорск</td>\n",
       "      <td>Тюмень</td>\n",
       "      <td>Пятигорск</td>\n",
       "      <td>Екатеринбург</td>\n",
       "      <td>Тюмень</td>\n",
       "      <td>Сочи</td>\n",
       "    </tr>\n",
       "    <tr>\n",
       "      <th>subscription_type</th>\n",
       "      <td>free</td>\n",
       "      <td>free</td>\n",
       "      <td>free</td>\n",
       "      <td>free</td>\n",
       "      <td>free</td>\n",
       "      <td>free</td>\n",
       "      <td>free</td>\n",
       "      <td>ultra</td>\n",
       "      <td>free</td>\n",
       "      <td>ultra</td>\n",
       "    </tr>\n",
       "    <tr>\n",
       "      <th>distance</th>\n",
       "      <td>4891.577222</td>\n",
       "      <td>3325.00633</td>\n",
       "      <td>364.853748</td>\n",
       "      <td>3713.11306</td>\n",
       "      <td>4003.115171</td>\n",
       "      <td>2262.699705</td>\n",
       "      <td>2129.731326</td>\n",
       "      <td>2981.594397</td>\n",
       "      <td>5087.123324</td>\n",
       "      <td>2736.584934</td>\n",
       "    </tr>\n",
       "    <tr>\n",
       "      <th>duration</th>\n",
       "      <td>14.481951</td>\n",
       "      <td>13.735316</td>\n",
       "      <td>9.368202</td>\n",
       "      <td>22.568722</td>\n",
       "      <td>18.578104</td>\n",
       "      <td>20.145367</td>\n",
       "      <td>10.099104</td>\n",
       "      <td>17.131621</td>\n",
       "      <td>30.747945</td>\n",
       "      <td>29.41951</td>\n",
       "    </tr>\n",
       "    <tr>\n",
       "      <th>date</th>\n",
       "      <td>2021-08-18 00:00:00</td>\n",
       "      <td>2021-07-13 00:00:00</td>\n",
       "      <td>2021-07-29 00:00:00</td>\n",
       "      <td>2021-03-23 00:00:00</td>\n",
       "      <td>2021-06-28 00:00:00</td>\n",
       "      <td>2021-08-01 00:00:00</td>\n",
       "      <td>2021-04-26 00:00:00</td>\n",
       "      <td>2021-02-20 00:00:00</td>\n",
       "      <td>2021-06-06 00:00:00</td>\n",
       "      <td>2021-08-02 00:00:00</td>\n",
       "    </tr>\n",
       "    <tr>\n",
       "      <th>month</th>\n",
       "      <td>8</td>\n",
       "      <td>7</td>\n",
       "      <td>7</td>\n",
       "      <td>3</td>\n",
       "      <td>6</td>\n",
       "      <td>8</td>\n",
       "      <td>4</td>\n",
       "      <td>2</td>\n",
       "      <td>6</td>\n",
       "      <td>8</td>\n",
       "    </tr>\n",
       "    <tr>\n",
       "      <th>minute_price</th>\n",
       "      <td>8</td>\n",
       "      <td>8</td>\n",
       "      <td>8</td>\n",
       "      <td>8</td>\n",
       "      <td>8</td>\n",
       "      <td>8</td>\n",
       "      <td>8</td>\n",
       "      <td>6</td>\n",
       "      <td>8</td>\n",
       "      <td>6</td>\n",
       "    </tr>\n",
       "    <tr>\n",
       "      <th>start_ride_price</th>\n",
       "      <td>50</td>\n",
       "      <td>50</td>\n",
       "      <td>50</td>\n",
       "      <td>50</td>\n",
       "      <td>50</td>\n",
       "      <td>50</td>\n",
       "      <td>50</td>\n",
       "      <td>0</td>\n",
       "      <td>50</td>\n",
       "      <td>0</td>\n",
       "    </tr>\n",
       "    <tr>\n",
       "      <th>subscription_fee</th>\n",
       "      <td>0</td>\n",
       "      <td>0</td>\n",
       "      <td>0</td>\n",
       "      <td>0</td>\n",
       "      <td>0</td>\n",
       "      <td>0</td>\n",
       "      <td>0</td>\n",
       "      <td>199</td>\n",
       "      <td>0</td>\n",
       "      <td>199</td>\n",
       "    </tr>\n",
       "  </tbody>\n",
       "</table>\n",
       "</div>"
      ],
      "text/plain": [
       "                                 17732                12749  \\\n",
       "user_id                           1511                 1157   \n",
       "name                             Элина               Рустам   \n",
       "age                                 27                   24   \n",
       "city                         Краснодар         Екатеринбург   \n",
       "subscription_type                 free                 free   \n",
       "distance                   4891.577222           3325.00633   \n",
       "duration                     14.481951            13.735316   \n",
       "date               2021-08-18 00:00:00  2021-07-13 00:00:00   \n",
       "month                                8                    7   \n",
       "minute_price                         8                    8   \n",
       "start_ride_price                    50                   50   \n",
       "subscription_fee                     0                    0   \n",
       "\n",
       "                                 9458                 12404  \\\n",
       "user_id                            919                 1132   \n",
       "name                             Марат              Наталия   \n",
       "age                                 24                   20   \n",
       "city                         Краснодар               Москва   \n",
       "subscription_type                 free                 free   \n",
       "distance                    364.853748           3713.11306   \n",
       "duration                      9.368202            22.568722   \n",
       "date               2021-07-29 00:00:00  2021-03-23 00:00:00   \n",
       "month                                7                    3   \n",
       "minute_price                         8                    8   \n",
       "start_ride_price                    50                   50   \n",
       "subscription_fee                     0                    0   \n",
       "\n",
       "                                 8313                 9995   \\\n",
       "user_id                            834                  957   \n",
       "name                             Давид              Эльвира   \n",
       "age                                 29                   20   \n",
       "city                         Пятигорск               Тюмень   \n",
       "subscription_type                 free                 free   \n",
       "distance                   4003.115171          2262.699705   \n",
       "duration                     18.578104            20.145367   \n",
       "date               2021-06-28 00:00:00  2021-08-01 00:00:00   \n",
       "month                                6                    8   \n",
       "minute_price                         8                    8   \n",
       "start_ride_price                    50                   50   \n",
       "subscription_fee                     0                    0   \n",
       "\n",
       "                                 11292                3406   \\\n",
       "user_id                           1050                  368   \n",
       "name                            Богдан            Валентина   \n",
       "age                                 32                   32   \n",
       "city                         Пятигорск         Екатеринбург   \n",
       "subscription_type                 free                ultra   \n",
       "distance                   2129.731326          2981.594397   \n",
       "duration                     10.099104            17.131621   \n",
       "date               2021-04-26 00:00:00  2021-02-20 00:00:00   \n",
       "month                                4                    2   \n",
       "minute_price                         8                    6   \n",
       "start_ride_price                    50                    0   \n",
       "subscription_fee                     0                  199   \n",
       "\n",
       "                                 9990                 1835   \n",
       "user_id                            957                  198  \n",
       "name                           Эльвира              Марсель  \n",
       "age                                 20                   27  \n",
       "city                            Тюмень                 Сочи  \n",
       "subscription_type                 free                ultra  \n",
       "distance                   5087.123324          2736.584934  \n",
       "duration                     30.747945             29.41951  \n",
       "date               2021-06-06 00:00:00  2021-08-02 00:00:00  \n",
       "month                                6                    8  \n",
       "minute_price                         8                    6  \n",
       "start_ride_price                    50                    0  \n",
       "subscription_fee                     0                  199  "
      ]
     },
     "execution_count": 18,
     "metadata": {},
     "output_type": "execute_result"
    }
   ],
   "source": [
    "#объеденим датафрейм\n",
    "df=df_user.merge(df_rides).merge(df_sub)\n",
    "#проверим\n",
    "df.sample(10).T"
   ]
  },
  {
   "cell_type": "code",
   "execution_count": 19,
   "id": "5ff8176c",
   "metadata": {},
   "outputs": [
    {
     "data": {
      "text/html": [
       "<div>\n",
       "<style scoped>\n",
       "    .dataframe tbody tr th:only-of-type {\n",
       "        vertical-align: middle;\n",
       "    }\n",
       "\n",
       "    .dataframe tbody tr th {\n",
       "        vertical-align: top;\n",
       "    }\n",
       "\n",
       "    .dataframe thead th {\n",
       "        text-align: right;\n",
       "    }\n",
       "</style>\n",
       "<table border=\"1\" class=\"dataframe\">\n",
       "  <thead>\n",
       "    <tr style=\"text-align: right;\">\n",
       "      <th></th>\n",
       "      <th>user_id</th>\n",
       "      <th>age</th>\n",
       "      <th>distance</th>\n",
       "      <th>duration</th>\n",
       "      <th>month</th>\n",
       "      <th>minute_price</th>\n",
       "      <th>start_ride_price</th>\n",
       "      <th>subscription_fee</th>\n",
       "    </tr>\n",
       "  </thead>\n",
       "  <tbody>\n",
       "    <tr>\n",
       "      <th>count</th>\n",
       "      <td>18068.000000</td>\n",
       "      <td>18068.000000</td>\n",
       "      <td>18068.000000</td>\n",
       "      <td>18068.000000</td>\n",
       "      <td>18068.000000</td>\n",
       "      <td>18068.000000</td>\n",
       "      <td>18068.000000</td>\n",
       "      <td>18068.000000</td>\n",
       "    </tr>\n",
       "    <tr>\n",
       "      <th>mean</th>\n",
       "      <td>842.869936</td>\n",
       "      <td>24.893071</td>\n",
       "      <td>3070.659976</td>\n",
       "      <td>17.805011</td>\n",
       "      <td>6.486772</td>\n",
       "      <td>7.280496</td>\n",
       "      <td>32.012398</td>\n",
       "      <td>71.590658</td>\n",
       "    </tr>\n",
       "    <tr>\n",
       "      <th>std</th>\n",
       "      <td>434.734317</td>\n",
       "      <td>4.582216</td>\n",
       "      <td>1116.831209</td>\n",
       "      <td>6.091051</td>\n",
       "      <td>3.437410</td>\n",
       "      <td>0.959882</td>\n",
       "      <td>23.997045</td>\n",
       "      <td>95.508238</td>\n",
       "    </tr>\n",
       "    <tr>\n",
       "      <th>min</th>\n",
       "      <td>1.000000</td>\n",
       "      <td>12.000000</td>\n",
       "      <td>0.855683</td>\n",
       "      <td>0.500000</td>\n",
       "      <td>1.000000</td>\n",
       "      <td>6.000000</td>\n",
       "      <td>0.000000</td>\n",
       "      <td>0.000000</td>\n",
       "    </tr>\n",
       "    <tr>\n",
       "      <th>25%</th>\n",
       "      <td>487.000000</td>\n",
       "      <td>22.000000</td>\n",
       "      <td>2543.226360</td>\n",
       "      <td>13.597563</td>\n",
       "      <td>4.000000</td>\n",
       "      <td>6.000000</td>\n",
       "      <td>0.000000</td>\n",
       "      <td>0.000000</td>\n",
       "    </tr>\n",
       "    <tr>\n",
       "      <th>50%</th>\n",
       "      <td>889.000000</td>\n",
       "      <td>25.000000</td>\n",
       "      <td>3133.609994</td>\n",
       "      <td>17.678395</td>\n",
       "      <td>6.000000</td>\n",
       "      <td>8.000000</td>\n",
       "      <td>50.000000</td>\n",
       "      <td>0.000000</td>\n",
       "    </tr>\n",
       "    <tr>\n",
       "      <th>75%</th>\n",
       "      <td>1213.250000</td>\n",
       "      <td>28.000000</td>\n",
       "      <td>3776.222735</td>\n",
       "      <td>21.724800</td>\n",
       "      <td>9.000000</td>\n",
       "      <td>8.000000</td>\n",
       "      <td>50.000000</td>\n",
       "      <td>199.000000</td>\n",
       "    </tr>\n",
       "    <tr>\n",
       "      <th>max</th>\n",
       "      <td>1534.000000</td>\n",
       "      <td>43.000000</td>\n",
       "      <td>7211.007745</td>\n",
       "      <td>40.823963</td>\n",
       "      <td>12.000000</td>\n",
       "      <td>8.000000</td>\n",
       "      <td>50.000000</td>\n",
       "      <td>199.000000</td>\n",
       "    </tr>\n",
       "  </tbody>\n",
       "</table>\n",
       "</div>"
      ],
      "text/plain": [
       "            user_id           age      distance      duration         month  \\\n",
       "count  18068.000000  18068.000000  18068.000000  18068.000000  18068.000000   \n",
       "mean     842.869936     24.893071   3070.659976     17.805011      6.486772   \n",
       "std      434.734317      4.582216   1116.831209      6.091051      3.437410   \n",
       "min        1.000000     12.000000      0.855683      0.500000      1.000000   \n",
       "25%      487.000000     22.000000   2543.226360     13.597563      4.000000   \n",
       "50%      889.000000     25.000000   3133.609994     17.678395      6.000000   \n",
       "75%     1213.250000     28.000000   3776.222735     21.724800      9.000000   \n",
       "max     1534.000000     43.000000   7211.007745     40.823963     12.000000   \n",
       "\n",
       "       minute_price  start_ride_price  subscription_fee  \n",
       "count  18068.000000      18068.000000      18068.000000  \n",
       "mean       7.280496         32.012398         71.590658  \n",
       "std        0.959882         23.997045         95.508238  \n",
       "min        6.000000          0.000000          0.000000  \n",
       "25%        6.000000          0.000000          0.000000  \n",
       "50%        8.000000         50.000000          0.000000  \n",
       "75%        8.000000         50.000000        199.000000  \n",
       "max        8.000000         50.000000        199.000000  "
      ]
     },
     "execution_count": 19,
     "metadata": {},
     "output_type": "execute_result"
    }
   ],
   "source": [
    "df.describe()"
   ]
  },
  {
   "cell_type": "markdown",
   "id": "1b281bfa",
   "metadata": {},
   "source": [
    "**4.1 Создание 2ух датафреймов(с подпиской и без)**"
   ]
  },
  {
   "cell_type": "code",
   "execution_count": 20,
   "id": "4853c6e1",
   "metadata": {},
   "outputs": [
    {
     "data": {
      "text/html": [
       "<div>\n",
       "<style scoped>\n",
       "    .dataframe tbody tr th:only-of-type {\n",
       "        vertical-align: middle;\n",
       "    }\n",
       "\n",
       "    .dataframe tbody tr th {\n",
       "        vertical-align: top;\n",
       "    }\n",
       "\n",
       "    .dataframe thead th {\n",
       "        text-align: right;\n",
       "    }\n",
       "</style>\n",
       "<table border=\"1\" class=\"dataframe\">\n",
       "  <thead>\n",
       "    <tr style=\"text-align: right;\">\n",
       "      <th></th>\n",
       "      <th>user_id</th>\n",
       "      <th>name</th>\n",
       "      <th>age</th>\n",
       "      <th>city</th>\n",
       "      <th>subscription_type</th>\n",
       "      <th>distance</th>\n",
       "      <th>duration</th>\n",
       "      <th>date</th>\n",
       "      <th>month</th>\n",
       "      <th>minute_price</th>\n",
       "      <th>start_ride_price</th>\n",
       "      <th>subscription_fee</th>\n",
       "    </tr>\n",
       "  </thead>\n",
       "  <tbody>\n",
       "    <tr>\n",
       "      <th>3017</th>\n",
       "      <td>323</td>\n",
       "      <td>Дарья</td>\n",
       "      <td>28</td>\n",
       "      <td>Краснодар</td>\n",
       "      <td>ultra</td>\n",
       "      <td>3376.153292</td>\n",
       "      <td>32.256920</td>\n",
       "      <td>2021-10-28</td>\n",
       "      <td>10</td>\n",
       "      <td>6</td>\n",
       "      <td>0</td>\n",
       "      <td>199</td>\n",
       "    </tr>\n",
       "    <tr>\n",
       "      <th>3001</th>\n",
       "      <td>322</td>\n",
       "      <td>Руслан</td>\n",
       "      <td>17</td>\n",
       "      <td>Екатеринбург</td>\n",
       "      <td>ultra</td>\n",
       "      <td>4180.527046</td>\n",
       "      <td>18.944363</td>\n",
       "      <td>2021-01-13</td>\n",
       "      <td>1</td>\n",
       "      <td>6</td>\n",
       "      <td>0</td>\n",
       "      <td>199</td>\n",
       "    </tr>\n",
       "    <tr>\n",
       "      <th>4435</th>\n",
       "      <td>478</td>\n",
       "      <td>Стефания</td>\n",
       "      <td>28</td>\n",
       "      <td>Ростов-на-Дону</td>\n",
       "      <td>ultra</td>\n",
       "      <td>3370.292594</td>\n",
       "      <td>18.638597</td>\n",
       "      <td>2021-03-20</td>\n",
       "      <td>3</td>\n",
       "      <td>6</td>\n",
       "      <td>0</td>\n",
       "      <td>199</td>\n",
       "    </tr>\n",
       "    <tr>\n",
       "      <th>2773</th>\n",
       "      <td>295</td>\n",
       "      <td>Влада</td>\n",
       "      <td>16</td>\n",
       "      <td>Ростов-на-Дону</td>\n",
       "      <td>ultra</td>\n",
       "      <td>3590.248702</td>\n",
       "      <td>17.693390</td>\n",
       "      <td>2021-11-16</td>\n",
       "      <td>11</td>\n",
       "      <td>6</td>\n",
       "      <td>0</td>\n",
       "      <td>199</td>\n",
       "    </tr>\n",
       "    <tr>\n",
       "      <th>5089</th>\n",
       "      <td>547</td>\n",
       "      <td>Юрий</td>\n",
       "      <td>26</td>\n",
       "      <td>Тюмень</td>\n",
       "      <td>ultra</td>\n",
       "      <td>3104.713378</td>\n",
       "      <td>21.523567</td>\n",
       "      <td>2021-11-12</td>\n",
       "      <td>11</td>\n",
       "      <td>6</td>\n",
       "      <td>0</td>\n",
       "      <td>199</td>\n",
       "    </tr>\n",
       "    <tr>\n",
       "      <th>6196</th>\n",
       "      <td>665</td>\n",
       "      <td>Герман</td>\n",
       "      <td>12</td>\n",
       "      <td>Сочи</td>\n",
       "      <td>ultra</td>\n",
       "      <td>4045.141255</td>\n",
       "      <td>12.989203</td>\n",
       "      <td>2021-08-01</td>\n",
       "      <td>8</td>\n",
       "      <td>6</td>\n",
       "      <td>0</td>\n",
       "      <td>199</td>\n",
       "    </tr>\n",
       "    <tr>\n",
       "      <th>4700</th>\n",
       "      <td>505</td>\n",
       "      <td>Виктор</td>\n",
       "      <td>27</td>\n",
       "      <td>Сочи</td>\n",
       "      <td>ultra</td>\n",
       "      <td>501.199481</td>\n",
       "      <td>8.313228</td>\n",
       "      <td>2021-12-22</td>\n",
       "      <td>12</td>\n",
       "      <td>6</td>\n",
       "      <td>0</td>\n",
       "      <td>199</td>\n",
       "    </tr>\n",
       "    <tr>\n",
       "      <th>1635</th>\n",
       "      <td>176</td>\n",
       "      <td>Анна</td>\n",
       "      <td>17</td>\n",
       "      <td>Москва</td>\n",
       "      <td>ultra</td>\n",
       "      <td>4615.947874</td>\n",
       "      <td>18.386493</td>\n",
       "      <td>2021-01-29</td>\n",
       "      <td>1</td>\n",
       "      <td>6</td>\n",
       "      <td>0</td>\n",
       "      <td>199</td>\n",
       "    </tr>\n",
       "    <tr>\n",
       "      <th>164</th>\n",
       "      <td>16</td>\n",
       "      <td>Амалия</td>\n",
       "      <td>27</td>\n",
       "      <td>Краснодар</td>\n",
       "      <td>ultra</td>\n",
       "      <td>3476.061778</td>\n",
       "      <td>16.448704</td>\n",
       "      <td>2021-09-21</td>\n",
       "      <td>9</td>\n",
       "      <td>6</td>\n",
       "      <td>0</td>\n",
       "      <td>199</td>\n",
       "    </tr>\n",
       "    <tr>\n",
       "      <th>2985</th>\n",
       "      <td>320</td>\n",
       "      <td>Оксана</td>\n",
       "      <td>30</td>\n",
       "      <td>Екатеринбург</td>\n",
       "      <td>ultra</td>\n",
       "      <td>2259.390484</td>\n",
       "      <td>17.296952</td>\n",
       "      <td>2021-07-21</td>\n",
       "      <td>7</td>\n",
       "      <td>6</td>\n",
       "      <td>0</td>\n",
       "      <td>199</td>\n",
       "    </tr>\n",
       "  </tbody>\n",
       "</table>\n",
       "</div>"
      ],
      "text/plain": [
       "      user_id      name  age            city subscription_type     distance  \\\n",
       "3017      323     Дарья   28       Краснодар             ultra  3376.153292   \n",
       "3001      322    Руслан   17    Екатеринбург             ultra  4180.527046   \n",
       "4435      478  Стефания   28  Ростов-на-Дону             ultra  3370.292594   \n",
       "2773      295     Влада   16  Ростов-на-Дону             ultra  3590.248702   \n",
       "5089      547      Юрий   26          Тюмень             ultra  3104.713378   \n",
       "6196      665    Герман   12            Сочи             ultra  4045.141255   \n",
       "4700      505    Виктор   27            Сочи             ultra   501.199481   \n",
       "1635      176      Анна   17          Москва             ultra  4615.947874   \n",
       "164        16    Амалия   27       Краснодар             ultra  3476.061778   \n",
       "2985      320    Оксана   30    Екатеринбург             ultra  2259.390484   \n",
       "\n",
       "       duration       date  month  minute_price  start_ride_price  \\\n",
       "3017  32.256920 2021-10-28     10             6                 0   \n",
       "3001  18.944363 2021-01-13      1             6                 0   \n",
       "4435  18.638597 2021-03-20      3             6                 0   \n",
       "2773  17.693390 2021-11-16     11             6                 0   \n",
       "5089  21.523567 2021-11-12     11             6                 0   \n",
       "6196  12.989203 2021-08-01      8             6                 0   \n",
       "4700   8.313228 2021-12-22     12             6                 0   \n",
       "1635  18.386493 2021-01-29      1             6                 0   \n",
       "164   16.448704 2021-09-21      9             6                 0   \n",
       "2985  17.296952 2021-07-21      7             6                 0   \n",
       "\n",
       "      subscription_fee  \n",
       "3017               199  \n",
       "3001               199  \n",
       "4435               199  \n",
       "2773               199  \n",
       "5089               199  \n",
       "6196               199  \n",
       "4700               199  \n",
       "1635               199  \n",
       "164                199  \n",
       "2985               199  "
      ]
     },
     "execution_count": 20,
     "metadata": {},
     "output_type": "execute_result"
    }
   ],
   "source": [
    "#создание датафрейма с подпиской\n",
    "df_w_sub=df[df['subscription_type']=='ultra']\n",
    "#Проверка\n",
    "df_w_sub.sample(10)"
   ]
  },
  {
   "cell_type": "code",
   "execution_count": 21,
   "id": "bfea2d8a",
   "metadata": {},
   "outputs": [
    {
     "data": {
      "image/png": "[encoded data removed]",
      "text/plain": [
       "<Figure size 504x504 with 1 Axes>"
      ]
     },
     "metadata": {
      "needs_background": "light"
     },
     "output_type": "display_data"
    }
   ],
   "source": [
    "df_w_sub['distance'].hist(figsize=(7,7),ec='black');"
   ]
  },
  {
   "cell_type": "markdown",
   "id": "445a4cc0",
   "metadata": {},
   "source": [
    "По графику можно судить,что пользователи с подпиской проезжают меньше киллометров, самые популряные заказы от от 6 до 12 км\n",
    "\n",
    "Так видно что пользователи с подпиской проезжают в целом меньше км,так как максимальная дальность поездки 21км\n"
   ]
  },
  {
   "cell_type": "code",
   "execution_count": 22,
   "id": "fec8d3d5",
   "metadata": {},
   "outputs": [
    {
     "data": {
      "text/plain": [
       "count    6500.000000\n",
       "mean       18.541985\n",
       "std         5.572048\n",
       "min         3.760353\n",
       "25%        14.524654\n",
       "50%        18.178153\n",
       "75%        21.884129\n",
       "max        40.823963\n",
       "Name: duration, dtype: float64"
      ]
     },
     "execution_count": 22,
     "metadata": {},
     "output_type": "execute_result"
    }
   ],
   "source": [
    "df_w_sub['duration'].describe()"
   ]
  },
  {
   "cell_type": "code",
   "execution_count": 23,
   "id": "17ddc46a",
   "metadata": {},
   "outputs": [
    {
     "data": {
      "image/png": "[encoded data removed]",
      "text/plain": [
       "<Figure size 504x504 with 1 Axes>"
      ]
     },
     "metadata": {
      "needs_background": "light"
     },
     "output_type": "display_data"
    }
   ],
   "source": [
    "df_w_sub['duration'].hist(figsize=(7,7),ec='black');"
   ]
  },
  {
   "cell_type": "markdown",
   "id": "8c72f08f",
   "metadata": {},
   "source": [
    "По графикам видно,что обычно пользователи с подпиской тратят на поездку от 14 до 23 минут\n",
    "\n",
    "Минимально 3 максимально 40"
   ]
  },
  {
   "cell_type": "code",
   "execution_count": 24,
   "id": "2db3bf9f",
   "metadata": {},
   "outputs": [
    {
     "data": {
      "text/html": [
       "<div>\n",
       "<style scoped>\n",
       "    .dataframe tbody tr th:only-of-type {\n",
       "        vertical-align: middle;\n",
       "    }\n",
       "\n",
       "    .dataframe tbody tr th {\n",
       "        vertical-align: top;\n",
       "    }\n",
       "\n",
       "    .dataframe thead th {\n",
       "        text-align: right;\n",
       "    }\n",
       "</style>\n",
       "<table border=\"1\" class=\"dataframe\">\n",
       "  <thead>\n",
       "    <tr style=\"text-align: right;\">\n",
       "      <th></th>\n",
       "      <th>user_id</th>\n",
       "      <th>name</th>\n",
       "      <th>age</th>\n",
       "      <th>city</th>\n",
       "      <th>subscription_type</th>\n",
       "      <th>distance</th>\n",
       "      <th>duration</th>\n",
       "      <th>date</th>\n",
       "      <th>month</th>\n",
       "      <th>minute_price</th>\n",
       "      <th>start_ride_price</th>\n",
       "      <th>subscription_fee</th>\n",
       "    </tr>\n",
       "  </thead>\n",
       "  <tbody>\n",
       "    <tr>\n",
       "      <th>10152</th>\n",
       "      <td>968</td>\n",
       "      <td>Павел</td>\n",
       "      <td>35</td>\n",
       "      <td>Краснодар</td>\n",
       "      <td>free</td>\n",
       "      <td>3600.694930</td>\n",
       "      <td>21.641668</td>\n",
       "      <td>2021-04-15</td>\n",
       "      <td>4</td>\n",
       "      <td>8</td>\n",
       "      <td>50</td>\n",
       "      <td>0</td>\n",
       "    </tr>\n",
       "    <tr>\n",
       "      <th>15456</th>\n",
       "      <td>1352</td>\n",
       "      <td>Евгения</td>\n",
       "      <td>30</td>\n",
       "      <td>Москва</td>\n",
       "      <td>free</td>\n",
       "      <td>3892.708237</td>\n",
       "      <td>10.983173</td>\n",
       "      <td>2021-08-01</td>\n",
       "      <td>8</td>\n",
       "      <td>8</td>\n",
       "      <td>50</td>\n",
       "      <td>0</td>\n",
       "    </tr>\n",
       "    <tr>\n",
       "      <th>15162</th>\n",
       "      <td>1328</td>\n",
       "      <td>Нелли</td>\n",
       "      <td>30</td>\n",
       "      <td>Омск</td>\n",
       "      <td>free</td>\n",
       "      <td>2456.099583</td>\n",
       "      <td>11.912199</td>\n",
       "      <td>2021-03-06</td>\n",
       "      <td>3</td>\n",
       "      <td>8</td>\n",
       "      <td>50</td>\n",
       "      <td>0</td>\n",
       "    </tr>\n",
       "    <tr>\n",
       "      <th>17588</th>\n",
       "      <td>1502</td>\n",
       "      <td>Аделина</td>\n",
       "      <td>18</td>\n",
       "      <td>Омск</td>\n",
       "      <td>free</td>\n",
       "      <td>3445.156190</td>\n",
       "      <td>21.159375</td>\n",
       "      <td>2021-01-31</td>\n",
       "      <td>1</td>\n",
       "      <td>8</td>\n",
       "      <td>50</td>\n",
       "      <td>0</td>\n",
       "    </tr>\n",
       "    <tr>\n",
       "      <th>15178</th>\n",
       "      <td>1328</td>\n",
       "      <td>Нелли</td>\n",
       "      <td>30</td>\n",
       "      <td>Омск</td>\n",
       "      <td>free</td>\n",
       "      <td>4985.793793</td>\n",
       "      <td>28.957381</td>\n",
       "      <td>2021-11-27</td>\n",
       "      <td>11</td>\n",
       "      <td>8</td>\n",
       "      <td>50</td>\n",
       "      <td>0</td>\n",
       "    </tr>\n",
       "    <tr>\n",
       "      <th>10462</th>\n",
       "      <td>990</td>\n",
       "      <td>Елена</td>\n",
       "      <td>23</td>\n",
       "      <td>Сочи</td>\n",
       "      <td>free</td>\n",
       "      <td>3884.185109</td>\n",
       "      <td>31.420926</td>\n",
       "      <td>2021-02-14</td>\n",
       "      <td>2</td>\n",
       "      <td>8</td>\n",
       "      <td>50</td>\n",
       "      <td>0</td>\n",
       "    </tr>\n",
       "    <tr>\n",
       "      <th>7307</th>\n",
       "      <td>756</td>\n",
       "      <td>Руслан</td>\n",
       "      <td>28</td>\n",
       "      <td>Екатеринбург</td>\n",
       "      <td>free</td>\n",
       "      <td>2691.593365</td>\n",
       "      <td>18.093475</td>\n",
       "      <td>2021-11-28</td>\n",
       "      <td>11</td>\n",
       "      <td>8</td>\n",
       "      <td>50</td>\n",
       "      <td>0</td>\n",
       "    </tr>\n",
       "    <tr>\n",
       "      <th>17233</th>\n",
       "      <td>1476</td>\n",
       "      <td>Стефания</td>\n",
       "      <td>13</td>\n",
       "      <td>Москва</td>\n",
       "      <td>free</td>\n",
       "      <td>4011.565565</td>\n",
       "      <td>15.914590</td>\n",
       "      <td>2021-02-27</td>\n",
       "      <td>2</td>\n",
       "      <td>8</td>\n",
       "      <td>50</td>\n",
       "      <td>0</td>\n",
       "    </tr>\n",
       "    <tr>\n",
       "      <th>7550</th>\n",
       "      <td>775</td>\n",
       "      <td>Вероника</td>\n",
       "      <td>24</td>\n",
       "      <td>Екатеринбург</td>\n",
       "      <td>free</td>\n",
       "      <td>2712.392029</td>\n",
       "      <td>16.794866</td>\n",
       "      <td>2021-04-25</td>\n",
       "      <td>4</td>\n",
       "      <td>8</td>\n",
       "      <td>50</td>\n",
       "      <td>0</td>\n",
       "    </tr>\n",
       "    <tr>\n",
       "      <th>12102</th>\n",
       "      <td>1109</td>\n",
       "      <td>Демид</td>\n",
       "      <td>25</td>\n",
       "      <td>Ростов-на-Дону</td>\n",
       "      <td>free</td>\n",
       "      <td>302.267316</td>\n",
       "      <td>3.863621</td>\n",
       "      <td>2021-10-23</td>\n",
       "      <td>10</td>\n",
       "      <td>8</td>\n",
       "      <td>50</td>\n",
       "      <td>0</td>\n",
       "    </tr>\n",
       "  </tbody>\n",
       "</table>\n",
       "</div>"
      ],
      "text/plain": [
       "       user_id      name  age            city subscription_type     distance  \\\n",
       "10152      968     Павел   35       Краснодар              free  3600.694930   \n",
       "15456     1352   Евгения   30          Москва              free  3892.708237   \n",
       "15162     1328     Нелли   30            Омск              free  2456.099583   \n",
       "17588     1502   Аделина   18            Омск              free  3445.156190   \n",
       "15178     1328     Нелли   30            Омск              free  4985.793793   \n",
       "10462      990     Елена   23            Сочи              free  3884.185109   \n",
       "7307       756    Руслан   28    Екатеринбург              free  2691.593365   \n",
       "17233     1476  Стефания   13          Москва              free  4011.565565   \n",
       "7550       775  Вероника   24    Екатеринбург              free  2712.392029   \n",
       "12102     1109     Демид   25  Ростов-на-Дону              free   302.267316   \n",
       "\n",
       "        duration       date  month  minute_price  start_ride_price  \\\n",
       "10152  21.641668 2021-04-15      4             8                50   \n",
       "15456  10.983173 2021-08-01      8             8                50   \n",
       "15162  11.912199 2021-03-06      3             8                50   \n",
       "17588  21.159375 2021-01-31      1             8                50   \n",
       "15178  28.957381 2021-11-27     11             8                50   \n",
       "10462  31.420926 2021-02-14      2             8                50   \n",
       "7307   18.093475 2021-11-28     11             8                50   \n",
       "17233  15.914590 2021-02-27      2             8                50   \n",
       "7550   16.794866 2021-04-25      4             8                50   \n",
       "12102   3.863621 2021-10-23     10             8                50   \n",
       "\n",
       "       subscription_fee  \n",
       "10152                 0  \n",
       "15456                 0  \n",
       "15162                 0  \n",
       "17588                 0  \n",
       "15178                 0  \n",
       "10462                 0  \n",
       "7307                  0  \n",
       "17233                 0  \n",
       "7550                  0  \n",
       "12102                 0  "
      ]
     },
     "execution_count": 24,
     "metadata": {},
     "output_type": "execute_result"
    }
   ],
   "source": [
    "#Создание датафрейма без подписки\n",
    "df_free=df[df['subscription_type']=='free']\n",
    "df_free.sample(10)"
   ]
  },
  {
   "cell_type": "code",
   "execution_count": 25,
   "id": "44a11b59",
   "metadata": {},
   "outputs": [
    {
     "data": {
      "image/png": "[encoded data removed]",
      "text/plain": [
       "<Figure size 504x504 with 1 Axes>"
      ]
     },
     "metadata": {
      "needs_background": "light"
     },
     "output_type": "display_data"
    }
   ],
   "source": [
    "df_free['distance'].hist(bins=7,figsize=(7,7),ec='black');"
   ]
  },
  {
   "cell_type": "markdown",
   "id": "22abab23",
   "metadata": {},
   "source": [
    "По графику видно,что обычно пользователи без подписки ездиют от 2 до 4 километров"
   ]
  },
  {
   "cell_type": "code",
   "execution_count": 26,
   "id": "890f0fe6",
   "metadata": {},
   "outputs": [
    {
     "data": {
      "image/png": "[encoded data removed]",
      "text/plain": [
       "<Figure size 504x504 with 1 Axes>"
      ]
     },
     "metadata": {
      "needs_background": "light"
     },
     "output_type": "display_data"
    }
   ],
   "source": [
    "df_free['duration'].hist(bins=7,figsize=(7,7),ec='black');"
   ]
  },
  {
   "cell_type": "markdown",
   "id": "3ae651e9",
   "metadata": {},
   "source": [
    "На графикам видно,что пользователи без подписки тратят врея на поездко от 12 до 20 минут!\n",
    "\n",
    "Минимально пол минуты- скорее всего пользователь взял по ошибке либо ему не понравилось и он отказался\n",
    "Максимально 35"
   ]
  },
  {
   "cell_type": "code",
   "execution_count": 27,
   "id": "e3422ee4",
   "metadata": {},
   "outputs": [
    {
     "data": {
      "text/html": [
       "<div>\n",
       "<style scoped>\n",
       "    .dataframe tbody tr th:only-of-type {\n",
       "        vertical-align: middle;\n",
       "    }\n",
       "\n",
       "    .dataframe tbody tr th {\n",
       "        vertical-align: top;\n",
       "    }\n",
       "\n",
       "    .dataframe thead th {\n",
       "        text-align: right;\n",
       "    }\n",
       "</style>\n",
       "<table border=\"1\" class=\"dataframe\">\n",
       "  <thead>\n",
       "    <tr style=\"text-align: right;\">\n",
       "      <th></th>\n",
       "      <th>count</th>\n",
       "      <th>mean</th>\n",
       "      <th>std</th>\n",
       "      <th>min</th>\n",
       "      <th>25%</th>\n",
       "      <th>50%</th>\n",
       "      <th>75%</th>\n",
       "      <th>max</th>\n",
       "    </tr>\n",
       "  </thead>\n",
       "  <tbody>\n",
       "    <tr>\n",
       "      <th>user_id</th>\n",
       "      <td>11568.0</td>\n",
       "      <td>1120.527230</td>\n",
       "      <td>241.165628</td>\n",
       "      <td>700.000000</td>\n",
       "      <td>915.000000</td>\n",
       "      <td>1123.000000</td>\n",
       "      <td>1328.000000</td>\n",
       "      <td>1534.000000</td>\n",
       "    </tr>\n",
       "    <tr>\n",
       "      <th>age</th>\n",
       "      <td>11568.0</td>\n",
       "      <td>24.893326</td>\n",
       "      <td>4.481100</td>\n",
       "      <td>12.000000</td>\n",
       "      <td>22.000000</td>\n",
       "      <td>25.000000</td>\n",
       "      <td>28.000000</td>\n",
       "      <td>43.000000</td>\n",
       "    </tr>\n",
       "    <tr>\n",
       "      <th>distance</th>\n",
       "      <td>11568.0</td>\n",
       "      <td>3045.495282</td>\n",
       "      <td>1246.173806</td>\n",
       "      <td>0.855683</td>\n",
       "      <td>2366.562689</td>\n",
       "      <td>3114.648465</td>\n",
       "      <td>3905.697894</td>\n",
       "      <td>7211.007745</td>\n",
       "    </tr>\n",
       "    <tr>\n",
       "      <th>duration</th>\n",
       "      <td>11568.0</td>\n",
       "      <td>17.390909</td>\n",
       "      <td>6.326803</td>\n",
       "      <td>0.500000</td>\n",
       "      <td>12.958437</td>\n",
       "      <td>17.326890</td>\n",
       "      <td>21.594071</td>\n",
       "      <td>34.948498</td>\n",
       "    </tr>\n",
       "    <tr>\n",
       "      <th>month</th>\n",
       "      <td>11568.0</td>\n",
       "      <td>6.522994</td>\n",
       "      <td>3.449770</td>\n",
       "      <td>1.000000</td>\n",
       "      <td>4.000000</td>\n",
       "      <td>7.000000</td>\n",
       "      <td>9.000000</td>\n",
       "      <td>12.000000</td>\n",
       "    </tr>\n",
       "    <tr>\n",
       "      <th>minute_price</th>\n",
       "      <td>11568.0</td>\n",
       "      <td>8.000000</td>\n",
       "      <td>0.000000</td>\n",
       "      <td>8.000000</td>\n",
       "      <td>8.000000</td>\n",
       "      <td>8.000000</td>\n",
       "      <td>8.000000</td>\n",
       "      <td>8.000000</td>\n",
       "    </tr>\n",
       "    <tr>\n",
       "      <th>start_ride_price</th>\n",
       "      <td>11568.0</td>\n",
       "      <td>50.000000</td>\n",
       "      <td>0.000000</td>\n",
       "      <td>50.000000</td>\n",
       "      <td>50.000000</td>\n",
       "      <td>50.000000</td>\n",
       "      <td>50.000000</td>\n",
       "      <td>50.000000</td>\n",
       "    </tr>\n",
       "    <tr>\n",
       "      <th>subscription_fee</th>\n",
       "      <td>11568.0</td>\n",
       "      <td>0.000000</td>\n",
       "      <td>0.000000</td>\n",
       "      <td>0.000000</td>\n",
       "      <td>0.000000</td>\n",
       "      <td>0.000000</td>\n",
       "      <td>0.000000</td>\n",
       "      <td>0.000000</td>\n",
       "    </tr>\n",
       "  </tbody>\n",
       "</table>\n",
       "</div>"
      ],
      "text/plain": [
       "                    count         mean          std         min          25%  \\\n",
       "user_id           11568.0  1120.527230   241.165628  700.000000   915.000000   \n",
       "age               11568.0    24.893326     4.481100   12.000000    22.000000   \n",
       "distance          11568.0  3045.495282  1246.173806    0.855683  2366.562689   \n",
       "duration          11568.0    17.390909     6.326803    0.500000    12.958437   \n",
       "month             11568.0     6.522994     3.449770    1.000000     4.000000   \n",
       "minute_price      11568.0     8.000000     0.000000    8.000000     8.000000   \n",
       "start_ride_price  11568.0    50.000000     0.000000   50.000000    50.000000   \n",
       "subscription_fee  11568.0     0.000000     0.000000    0.000000     0.000000   \n",
       "\n",
       "                          50%          75%          max  \n",
       "user_id           1123.000000  1328.000000  1534.000000  \n",
       "age                 25.000000    28.000000    43.000000  \n",
       "distance          3114.648465  3905.697894  7211.007745  \n",
       "duration            17.326890    21.594071    34.948498  \n",
       "month                7.000000     9.000000    12.000000  \n",
       "minute_price         8.000000     8.000000     8.000000  \n",
       "start_ride_price    50.000000    50.000000    50.000000  \n",
       "subscription_fee     0.000000     0.000000     0.000000  "
      ]
     },
     "execution_count": 27,
     "metadata": {},
     "output_type": "execute_result"
    }
   ],
   "source": [
    "df_free.describe().T"
   ]
  },
  {
   "cell_type": "markdown",
   "id": "786f70be",
   "metadata": {},
   "source": [
    "Вывод:\n",
    "\n",
    "Все 3 датарфейма были слиты в один\n",
    "\n",
    "Из единого датафрейма были созданы еще 2 Один отображает ползователей с подпиской другой без нее\n",
    "\n",
    "Так же с успехом были построены 2 графика для 2 ух таблиц(для пользователей с подпиской и без)-отображающие дтсьанцию поездки\n",
    "\n",
    "По графикам и расчетам с продолжительснотью поездки можно сделать вывод,что пользователи с подпиской проводят время за самокатом дольше,чем пользователи без нее.\n",
    "\n",
    "В среднем пользователь с подпиской проезжает 6-12 км за 14-23 минут\n",
    "\n",
    "Пользователь без подписки проезжает 2-4 км за 12-20 минут\n",
    "\n",
    "Из этого следует,что пользователи с подпиской пользуются самокатом скорее всего для поездок на работу или куда -то еще,в общем для определенных целей.\n",
    "\n",
    "В то время как пользователи без подписки проезжаютт расстояние в 3 раза меньше.Это говорит о том,что скорее всего они берут самокаты в целях развлечения,могут просто покататься с друзьями,оставиться поесть мороженого и поболтать\n"
   ]
  },
  {
   "cell_type": "markdown",
   "id": "402d620f",
   "metadata": {},
   "source": [
    "#### Шаг 5. Подсчёт выручки"
   ]
  },
  {
   "cell_type": "markdown",
   "id": "b894e55b",
   "metadata": {},
   "source": [
    "**5.1**\n",
    "Cоздадим датафрейм с агрегированными данными и найдем суммарное расстояние, количество поездок и суммарное время для каждого пользователя за каждый месяц."
   ]
  },
  {
   "cell_type": "code",
   "execution_count": 28,
   "id": "aeaef5b3",
   "metadata": {},
   "outputs": [
    {
     "data": {
      "text/html": [
       "<div>\n",
       "<style scoped>\n",
       "    .dataframe tbody tr th:only-of-type {\n",
       "        vertical-align: middle;\n",
       "    }\n",
       "\n",
       "    .dataframe tbody tr th {\n",
       "        vertical-align: top;\n",
       "    }\n",
       "\n",
       "    .dataframe thead th {\n",
       "        text-align: right;\n",
       "    }\n",
       "</style>\n",
       "<table border=\"1\" class=\"dataframe\">\n",
       "  <thead>\n",
       "    <tr style=\"text-align: right;\">\n",
       "      <th></th>\n",
       "      <th></th>\n",
       "      <th>distance</th>\n",
       "      <th>duration</th>\n",
       "      <th>subscription_type</th>\n",
       "      <th>minute_price</th>\n",
       "      <th>start_ride_price</th>\n",
       "      <th>subscription_fee</th>\n",
       "      <th>count</th>\n",
       "    </tr>\n",
       "    <tr>\n",
       "      <th>user_id</th>\n",
       "      <th>month</th>\n",
       "      <th></th>\n",
       "      <th></th>\n",
       "      <th></th>\n",
       "      <th></th>\n",
       "      <th></th>\n",
       "      <th></th>\n",
       "      <th></th>\n",
       "    </tr>\n",
       "  </thead>\n",
       "  <tbody>\n",
       "    <tr>\n",
       "      <th rowspan=\"5\" valign=\"top\">1</th>\n",
       "      <th>1</th>\n",
       "      <td>7028.0</td>\n",
       "      <td>41.0</td>\n",
       "      <td>[ultra]</td>\n",
       "      <td>12</td>\n",
       "      <td>0</td>\n",
       "      <td>398</td>\n",
       "      <td>2</td>\n",
       "    </tr>\n",
       "    <tr>\n",
       "      <th>4</th>\n",
       "      <td>754.0</td>\n",
       "      <td>6.0</td>\n",
       "      <td>[ultra]</td>\n",
       "      <td>6</td>\n",
       "      <td>0</td>\n",
       "      <td>199</td>\n",
       "      <td>1</td>\n",
       "    </tr>\n",
       "    <tr>\n",
       "      <th>8</th>\n",
       "      <td>6723.0</td>\n",
       "      <td>45.0</td>\n",
       "      <td>[ultra]</td>\n",
       "      <td>12</td>\n",
       "      <td>0</td>\n",
       "      <td>398</td>\n",
       "      <td>2</td>\n",
       "    </tr>\n",
       "    <tr>\n",
       "      <th>10</th>\n",
       "      <td>5810.0</td>\n",
       "      <td>32.0</td>\n",
       "      <td>[ultra]</td>\n",
       "      <td>12</td>\n",
       "      <td>0</td>\n",
       "      <td>398</td>\n",
       "      <td>2</td>\n",
       "    </tr>\n",
       "    <tr>\n",
       "      <th>11</th>\n",
       "      <td>7003.0</td>\n",
       "      <td>53.0</td>\n",
       "      <td>[ultra]</td>\n",
       "      <td>18</td>\n",
       "      <td>0</td>\n",
       "      <td>597</td>\n",
       "      <td>3</td>\n",
       "    </tr>\n",
       "    <tr>\n",
       "      <th>...</th>\n",
       "      <th>...</th>\n",
       "      <td>...</td>\n",
       "      <td>...</td>\n",
       "      <td>...</td>\n",
       "      <td>...</td>\n",
       "      <td>...</td>\n",
       "      <td>...</td>\n",
       "      <td>...</td>\n",
       "    </tr>\n",
       "    <tr>\n",
       "      <th rowspan=\"5\" valign=\"top\">1534</th>\n",
       "      <th>6</th>\n",
       "      <td>3409.0</td>\n",
       "      <td>25.0</td>\n",
       "      <td>[free]</td>\n",
       "      <td>16</td>\n",
       "      <td>100</td>\n",
       "      <td>0</td>\n",
       "      <td>2</td>\n",
       "    </tr>\n",
       "    <tr>\n",
       "      <th>8</th>\n",
       "      <td>7622.0</td>\n",
       "      <td>47.0</td>\n",
       "      <td>[free]</td>\n",
       "      <td>16</td>\n",
       "      <td>100</td>\n",
       "      <td>0</td>\n",
       "      <td>2</td>\n",
       "    </tr>\n",
       "    <tr>\n",
       "      <th>9</th>\n",
       "      <td>4928.0</td>\n",
       "      <td>23.0</td>\n",
       "      <td>[free]</td>\n",
       "      <td>8</td>\n",
       "      <td>50</td>\n",
       "      <td>0</td>\n",
       "      <td>1</td>\n",
       "    </tr>\n",
       "    <tr>\n",
       "      <th>11</th>\n",
       "      <td>13350.0</td>\n",
       "      <td>76.0</td>\n",
       "      <td>[free]</td>\n",
       "      <td>32</td>\n",
       "      <td>200</td>\n",
       "      <td>0</td>\n",
       "      <td>4</td>\n",
       "    </tr>\n",
       "    <tr>\n",
       "      <th>12</th>\n",
       "      <td>2372.0</td>\n",
       "      <td>16.0</td>\n",
       "      <td>[free]</td>\n",
       "      <td>8</td>\n",
       "      <td>50</td>\n",
       "      <td>0</td>\n",
       "      <td>1</td>\n",
       "    </tr>\n",
       "  </tbody>\n",
       "</table>\n",
       "<p>11331 rows × 7 columns</p>\n",
       "</div>"
      ],
      "text/plain": [
       "               distance  duration subscription_type  minute_price  \\\n",
       "user_id month                                                       \n",
       "1       1        7028.0      41.0           [ultra]            12   \n",
       "        4         754.0       6.0           [ultra]             6   \n",
       "        8        6723.0      45.0           [ultra]            12   \n",
       "        10       5810.0      32.0           [ultra]            12   \n",
       "        11       7003.0      53.0           [ultra]            18   \n",
       "...                 ...       ...               ...           ...   \n",
       "1534    6        3409.0      25.0            [free]            16   \n",
       "        8        7622.0      47.0            [free]            16   \n",
       "        9        4928.0      23.0            [free]             8   \n",
       "        11      13350.0      76.0            [free]            32   \n",
       "        12       2372.0      16.0            [free]             8   \n",
       "\n",
       "               start_ride_price  subscription_fee  count  \n",
       "user_id month                                             \n",
       "1       1                     0               398      2  \n",
       "        4                     0               199      1  \n",
       "        8                     0               398      2  \n",
       "        10                    0               398      2  \n",
       "        11                    0               597      3  \n",
       "...                         ...               ...    ...  \n",
       "1534    6                   100                 0      2  \n",
       "        8                   100                 0      2  \n",
       "        9                    50                 0      1  \n",
       "        11                  200                 0      4  \n",
       "        12                   50                 0      1  \n",
       "\n",
       "[11331 rows x 7 columns]"
      ]
     },
     "execution_count": 28,
     "metadata": {},
     "output_type": "execute_result"
    }
   ],
   "source": [
    "agg=df.groupby(['user_id', 'month']).agg({'distance': 'sum',\n",
    "                                              'user_id': 'count','duration': 'sum',\n",
    "                                               'subscription_type': 'unique',\n",
    "                                              'minute_price': 'sum',\n",
    "                                              'start_ride_price': 'sum',\n",
    "                                              'subscription_fee': 'sum'})\n",
    "agg['count'] = agg['user_id']\n",
    "agg=agg.drop(columns = ('user_id'))\n",
    "agg=np.round(agg)\n",
    "agg"
   ]
  },
  {
   "cell_type": "markdown",
   "id": "2271749d",
   "metadata": {},
   "source": [
    "**5.3**\n",
    "\n",
    "Создадим датафрейм и добавим к нему столбец помесячной выручкой, которую принёс каждый пользователь "
   ]
  },
  {
   "cell_type": "code",
   "execution_count": 29,
   "id": "cf40e045",
   "metadata": {},
   "outputs": [
    {
     "data": {
      "text/html": [
       "<div>\n",
       "<style scoped>\n",
       "    .dataframe tbody tr th:only-of-type {\n",
       "        vertical-align: middle;\n",
       "    }\n",
       "\n",
       "    .dataframe tbody tr th {\n",
       "        vertical-align: top;\n",
       "    }\n",
       "\n",
       "    .dataframe thead th {\n",
       "        text-align: right;\n",
       "    }\n",
       "</style>\n",
       "<table border=\"1\" class=\"dataframe\">\n",
       "  <thead>\n",
       "    <tr style=\"text-align: right;\">\n",
       "      <th></th>\n",
       "      <th></th>\n",
       "      <th>distance</th>\n",
       "      <th>duration</th>\n",
       "      <th>subscription_type</th>\n",
       "      <th>minute_price</th>\n",
       "      <th>start_ride_price</th>\n",
       "      <th>subscription_fee</th>\n",
       "      <th>count</th>\n",
       "      <th>month_cash</th>\n",
       "    </tr>\n",
       "    <tr>\n",
       "      <th>user_id</th>\n",
       "      <th>month</th>\n",
       "      <th></th>\n",
       "      <th></th>\n",
       "      <th></th>\n",
       "      <th></th>\n",
       "      <th></th>\n",
       "      <th></th>\n",
       "      <th></th>\n",
       "      <th></th>\n",
       "    </tr>\n",
       "  </thead>\n",
       "  <tbody>\n",
       "    <tr>\n",
       "      <th rowspan=\"5\" valign=\"top\">1</th>\n",
       "      <th>1</th>\n",
       "      <td>7028.0</td>\n",
       "      <td>41.0</td>\n",
       "      <td>[ultra]</td>\n",
       "      <td>12</td>\n",
       "      <td>0</td>\n",
       "      <td>398</td>\n",
       "      <td>2</td>\n",
       "      <td>890.0</td>\n",
       "    </tr>\n",
       "    <tr>\n",
       "      <th>4</th>\n",
       "      <td>754.0</td>\n",
       "      <td>6.0</td>\n",
       "      <td>[ultra]</td>\n",
       "      <td>6</td>\n",
       "      <td>0</td>\n",
       "      <td>199</td>\n",
       "      <td>1</td>\n",
       "      <td>235.0</td>\n",
       "    </tr>\n",
       "    <tr>\n",
       "      <th>8</th>\n",
       "      <td>6723.0</td>\n",
       "      <td>45.0</td>\n",
       "      <td>[ultra]</td>\n",
       "      <td>12</td>\n",
       "      <td>0</td>\n",
       "      <td>398</td>\n",
       "      <td>2</td>\n",
       "      <td>938.0</td>\n",
       "    </tr>\n",
       "    <tr>\n",
       "      <th>10</th>\n",
       "      <td>5810.0</td>\n",
       "      <td>32.0</td>\n",
       "      <td>[ultra]</td>\n",
       "      <td>12</td>\n",
       "      <td>0</td>\n",
       "      <td>398</td>\n",
       "      <td>2</td>\n",
       "      <td>782.0</td>\n",
       "    </tr>\n",
       "    <tr>\n",
       "      <th>11</th>\n",
       "      <td>7003.0</td>\n",
       "      <td>53.0</td>\n",
       "      <td>[ultra]</td>\n",
       "      <td>18</td>\n",
       "      <td>0</td>\n",
       "      <td>597</td>\n",
       "      <td>3</td>\n",
       "      <td>1551.0</td>\n",
       "    </tr>\n",
       "    <tr>\n",
       "      <th>...</th>\n",
       "      <th>...</th>\n",
       "      <td>...</td>\n",
       "      <td>...</td>\n",
       "      <td>...</td>\n",
       "      <td>...</td>\n",
       "      <td>...</td>\n",
       "      <td>...</td>\n",
       "      <td>...</td>\n",
       "      <td>...</td>\n",
       "    </tr>\n",
       "    <tr>\n",
       "      <th rowspan=\"5\" valign=\"top\">1534</th>\n",
       "      <th>6</th>\n",
       "      <td>3409.0</td>\n",
       "      <td>25.0</td>\n",
       "      <td>[free]</td>\n",
       "      <td>16</td>\n",
       "      <td>100</td>\n",
       "      <td>0</td>\n",
       "      <td>2</td>\n",
       "      <td>600.0</td>\n",
       "    </tr>\n",
       "    <tr>\n",
       "      <th>8</th>\n",
       "      <td>7622.0</td>\n",
       "      <td>47.0</td>\n",
       "      <td>[free]</td>\n",
       "      <td>16</td>\n",
       "      <td>100</td>\n",
       "      <td>0</td>\n",
       "      <td>2</td>\n",
       "      <td>952.0</td>\n",
       "    </tr>\n",
       "    <tr>\n",
       "      <th>9</th>\n",
       "      <td>4928.0</td>\n",
       "      <td>23.0</td>\n",
       "      <td>[free]</td>\n",
       "      <td>8</td>\n",
       "      <td>50</td>\n",
       "      <td>0</td>\n",
       "      <td>1</td>\n",
       "      <td>234.0</td>\n",
       "    </tr>\n",
       "    <tr>\n",
       "      <th>11</th>\n",
       "      <td>13350.0</td>\n",
       "      <td>76.0</td>\n",
       "      <td>[free]</td>\n",
       "      <td>32</td>\n",
       "      <td>200</td>\n",
       "      <td>0</td>\n",
       "      <td>4</td>\n",
       "      <td>3232.0</td>\n",
       "    </tr>\n",
       "    <tr>\n",
       "      <th>12</th>\n",
       "      <td>2372.0</td>\n",
       "      <td>16.0</td>\n",
       "      <td>[free]</td>\n",
       "      <td>8</td>\n",
       "      <td>50</td>\n",
       "      <td>0</td>\n",
       "      <td>1</td>\n",
       "      <td>178.0</td>\n",
       "    </tr>\n",
       "  </tbody>\n",
       "</table>\n",
       "<p>11331 rows × 8 columns</p>\n",
       "</div>"
      ],
      "text/plain": [
       "               distance  duration subscription_type  minute_price  \\\n",
       "user_id month                                                       \n",
       "1       1        7028.0      41.0           [ultra]            12   \n",
       "        4         754.0       6.0           [ultra]             6   \n",
       "        8        6723.0      45.0           [ultra]            12   \n",
       "        10       5810.0      32.0           [ultra]            12   \n",
       "        11       7003.0      53.0           [ultra]            18   \n",
       "...                 ...       ...               ...           ...   \n",
       "1534    6        3409.0      25.0            [free]            16   \n",
       "        8        7622.0      47.0            [free]            16   \n",
       "        9        4928.0      23.0            [free]             8   \n",
       "        11      13350.0      76.0            [free]            32   \n",
       "        12       2372.0      16.0            [free]             8   \n",
       "\n",
       "               start_ride_price  subscription_fee  count  month_cash  \n",
       "user_id month                                                         \n",
       "1       1                     0               398      2       890.0  \n",
       "        4                     0               199      1       235.0  \n",
       "        8                     0               398      2       938.0  \n",
       "        10                    0               398      2       782.0  \n",
       "        11                    0               597      3      1551.0  \n",
       "...                         ...               ...    ...         ...  \n",
       "1534    6                   100                 0      2       600.0  \n",
       "        8                   100                 0      2       952.0  \n",
       "        9                    50                 0      1       234.0  \n",
       "        11                  200                 0      4      3232.0  \n",
       "        12                   50                 0      1       178.0  \n",
       "\n",
       "[11331 rows x 8 columns]"
      ]
     },
     "execution_count": 29,
     "metadata": {},
     "output_type": "execute_result"
    }
   ],
   "source": [
    "agg['month_cash']=agg['start_ride_price']*agg['count']+agg['minute_price']*agg['duration']+agg['subscription_fee']\n",
    "agg"
   ]
  },
  {
   "cell_type": "markdown",
   "id": "2650df60",
   "metadata": {},
   "source": [
    "**Вывод**\n",
    "\n",
    "Был создан датафрейм с агрегированными данными\n",
    "\n",
    "В нем были найдены суммарное расстояние, количество поездок и суммарное время для каждого пользователя за каждый месяц.\n",
    "\n",
    "А так же благодаря расчетам за в предыидущем пункте были произведены расчеты помесячной выручкой, которую принёс каждый пользователь и добавлены в дадатфрейм"
   ]
  },
  {
   "cell_type": "markdown",
   "id": "09225777",
   "metadata": {},
   "source": [
    "#### Шаг 6. Проверка гипотез"
   ]
  },
  {
   "cell_type": "markdown",
   "id": "a37baca3",
   "metadata": {},
   "source": [
    "**6.1  Важно понять, тратят ли пользователи с подпиской больше времени на поездки? Если да, то действительно ли пользователи с подпиской «выгоднее» для компании.**"
   ]
  },
  {
   "cell_type": "markdown",
   "id": "2bfb009f",
   "metadata": {},
   "source": [
    "Для проверки возьмём двухсторонюю гипотезу, так как значения могут варьироваться в обе стороны от среднего в стандартном распределении и значения с обеих сторон будут иметь значение.\n",
    "\n",
    "Для этого за основу возьмем Н0 время продолжительности поездки на тарфиах free и ultra равны\n",
    "\n",
    "В таком случае альтернативная Н1 будет звучать так время продолжительности поездок на free и ultra неравны,различаются\n",
    "\n",
    "Уровень значимости возьмём стандартный: 5%.\n",
    "\n",
    "Параметр equal_var укажем как False, так как выборки различаются и это может негативно повлиять на результат исследования.\n",
    "\n",
    "Проведём исследование:"
   ]
  },
  {
   "cell_type": "code",
   "execution_count": 30,
   "id": "8acd5cc1",
   "metadata": {},
   "outputs": [
    {
     "name": "stdout",
     "output_type": "stream",
     "text": [
      "p-value: 1.0\n",
      "Отвергаем гипотезу\n"
     ]
    }
   ],
   "source": [
    "alpha=0.05\n",
    "results = st.ttest_1samp(df_w_sub['duration'],popmean=17.805011,alternative='greater')\n",
    "print('p-value:',1-results.pvalue)\n",
    "if results.pvalue < alpha:\n",
    "    print('Отвергаем гипотезу')\n",
    "else:\n",
    "    print('Не отвергаем гипотезу')"
   ]
  },
  {
   "cell_type": "markdown",
   "id": "1267b077",
   "metadata": {},
   "source": [
    "**6.2 Расстояние одной поездки в 3130 метров — оптимальное с точки зрения износа самоката. Можно ли сказать, что расстояние, которое проезжают пользователи с подпиской за одну поездку, меньше 3130 метров?**\n",
    "\n",
    "Для проверки возьмем односторннию гипотезу\n",
    "\n",
    "Н0 - Отвергаем,что расстояние которые проезжают пользователи с подпиской **равны** 3130метров\n",
    "\n",
    "H1-  Не отвергаем,что расстояние которые проезжают пользователи с подпиской **не равны** 3130метров\n",
    "\n",
    "Матиматическое ожидание 3130м\n",
    "\n",
    "Уровень значимости 5%\n",
    "\n",
    "Проведем иследование:\n"
   ]
  },
  {
   "cell_type": "code",
   "execution_count": 43,
   "id": "a9baa624",
   "metadata": {},
   "outputs": [
    {
     "name": "stdout",
     "output_type": "stream",
     "text": [
      "p-value: 0.9195368847849785\n",
      "Не получилось отвергнуть нулевую гипотезу\n"
     ]
    }
   ],
   "source": [
    "distance=df_w_sub['distance']\n",
    "\n",
    "mu=3130\n",
    "\n",
    "alpha=0.05\n",
    "\n",
    "results=st.ttest_1samp(distance,mu,alternative='greater')\n",
    "print('p-value:',results.pvalue)\n",
    "if results.pvalue<alpha:\n",
    "    print('Отвергаем нулевую гипотезу')\n",
    "else:\n",
    "    print('Не получилось отвергнуть нулевую гипотезу')"
   ]
  },
  {
   "cell_type": "markdown",
   "id": "9f1f6310",
   "metadata": {},
   "source": [
    "**6.3. Проверьте гипотезу о том, будет ли выручка от пользователей с подпиской выше, чем выручка от пользователей без подписки**"
   ]
  },
  {
   "cell_type": "markdown",
   "id": "b106ce90",
   "metadata": {},
   "source": [
    "Для проверки возьмём двухсторонюю гипотезу\n",
    "\n",
    "Для этого за основу возьмем Н0  выручка на тарфиах ultra **равны** free\n",
    "\n",
    "В таком случае альтернативная Н1 будет звучать выручка на free и ultra **различаются**\n",
    "\n",
    "Уровень значимости возьмём стандартный: 5%.\n",
    "\n",
    "Параметр equal_var укажем как False, так как выборки различаются и это может негативно повлиять на результат исследования.\n",
    "\n",
    "Проведём исследование:"
   ]
  },
  {
   "cell_type": "code",
   "execution_count": 42,
   "id": "1903d9ce",
   "metadata": {},
   "outputs": [
    {
     "name": "stdout",
     "output_type": "stream",
     "text": [
      "p-value: 0.0\n",
      "Не отвергаем гипотезу H1\n"
     ]
    }
   ],
   "source": [
    "sub_ttest=agg[agg['subscription_type']=='ultra']['month_cash']\n",
    "free_ttest=agg[agg['subscription_type']=='free']['month_cash']\n",
    "alpha=0.05\n",
    "results = st.ttest_ind(sub_ttest,free_ttest, equal_var=False,alternative='greater')\n",
    "print('p-value:',1-results.pvalue)\n",
    "if results.pvalue < alpha:\n",
    "    print('Отвергаем гипотезу H0')\n",
    "else:\n",
    "    print('Не отвергаем гипотезу H1')"
   ]
  },
  {
   "cell_type": "markdown",
   "id": "e768cb59",
   "metadata": {},
   "source": [
    "6.4. Представьте такую ситуацию: техническая команда сервиса обновила сервера, с которыми взаимодействует мобильное приложение. Она надеется, что из-за этого количество обращений в техподдержку значимо снизилось. Некоторый файл содержит для каждого пользователя данные о количестве обращений до обновления и после него. Какой тест вам понадобился бы для проверки этой гипотезы?"
   ]
  },
  {
   "cell_type": "markdown",
   "id": "3041d038",
   "metadata": {},
   "source": [
    "Ответ:\n",
    "\n",
    "Для решениея данной задачи нужно использовать тест на равенство выборок для зависимых средних,до и после их изменения"
   ]
  },
  {
   "cell_type": "markdown",
   "id": "61213c5e",
   "metadata": {},
   "source": [
    "#### Шаг 7. Распределения"
   ]
  },
  {
   "cell_type": "code",
   "execution_count": null,
   "id": "b0bd7675",
   "metadata": {},
   "outputs": [],
   "source": [
    "from matplotlib import pyplot as plt\n",
    "from math import factorial\n",
    "from scipy.stats import binom\n",
    "\n",
    "n=100\n",
    "p=0.1\n",
    "res=1\n",
    "while res>0.05:\n",
    "    res=binom.cdf(100,n,p)\n",
    "    print(f'{n}{res}')"
   ]
  },
  {
   "cell_type": "code",
   "execution_count": 33,
   "id": "95cd1d51",
   "metadata": {},
   "outputs": [
    {
     "data": {
      "text/plain": [
       "<BarContainer object of 101 artists>"
      ]
     },
     "execution_count": 33,
     "metadata": {},
     "output_type": "execute_result"
    },
    {
     "data": {
      "image/png": "[encoded data removed]",
      "text/plain": [
       "<Figure size 432x288 with 1 Axes>"
      ]
     },
     "metadata": {
      "needs_background": "light"
     },
     "output_type": "display_data"
    }
   ],
   "source": [
    "n = 100 # количество попыток\n",
    "p = 0.1 # вероятность успеха\n",
    "\n",
    "distr = []\n",
    "\n",
    "for k in range(0, n + 1):\n",
    "    current_value = binom.pmf(k, n, p)\n",
    "    distr.append(current_value)\n",
    "    \n",
    "plt.bar(range(0, n + 1), distr)"
   ]
  },
  {
   "cell_type": "code",
   "execution_count": 34,
   "id": "bef75fb9",
   "metadata": {},
   "outputs": [
    {
     "name": "stderr",
     "output_type": "stream",
     "text": [
      "/opt/conda/lib/python3.9/site-packages/scipy/stats/_discrete_distns.py:78: RuntimeWarning: divide by zero encountered in _binom_pdf\n",
      "  return _boost._binom_pdf(x, n, p)\n"
     ]
    },
    {
     "data": {
      "text/plain": [
       "<BarContainer object of 851 artists>"
      ]
     },
     "execution_count": 34,
     "metadata": {},
     "output_type": "execute_result"
    },
    {
     "data": {
      "image/png": "[encoded data removed]",
      "text/plain": [
       "<Figure size 432x288 with 1 Axes>"
      ]
     },
     "metadata": {
      "needs_background": "light"
     },
     "output_type": "display_data"
    }
   ],
   "source": [
    "n = 850 # кол-во поп\n",
    "p = 0.1 \n",
    "\n",
    "distr = []\n",
    "\n",
    "for k in range(0, n + 1):\n",
    "    current_value = binom.pmf(k, n, p)\n",
    "    distr.append(current_value)\n",
    "    \n",
    "plt.bar(range(0, n + 1), distr)"
   ]
  },
  {
   "cell_type": "markdown",
   "id": "beac813f",
   "metadata": {},
   "source": [
    "по рассчетам,можно сказать,что для достижения цели необходимо разослать минимум 850 промокодов при условии того что,огда высылают 100 промокодов результат приносят только 10%"
   ]
  },
  {
   "cell_type": "markdown",
   "id": "1f03135f",
   "metadata": {},
   "source": [
    "7.2 Отдел маркетинга рассылает клиентам push-уведомления в мобильном приложении. Клиенты могут открыть его или не открывать. Известно, что уведомления открывают около 40% получивших клиентов. Отдел планирует разослать 1 млн уведомлений. С помощью аппроксимации постройте примерный график распределения и оцените вероятность того, что уведомление откроют не более 399,5 тыс. пользователей."
   ]
  },
  {
   "cell_type": "code",
   "execution_count": 35,
   "id": "ab04ecf1",
   "metadata": {},
   "outputs": [
    {
     "name": "stdout",
     "output_type": "stream",
     "text": [
      "0.15371708296369768\n"
     ]
    }
   ],
   "source": [
    "n = 1000000# задайте параметры \n",
    "p = 0.4# биномиального распределения\n",
    "\n",
    "mu = n*p# рассчитайте параметры \n",
    "sigma = sqrt(n*p*(1-p))# нормального распределения\n",
    "\n",
    "distr = st.norm(mu,sigma)# задайте нормальное распределение\n",
    "\n",
    "result = distr.cdf(399500)# найдите вероятность\n",
    "print(result)"
   ]
  },
  {
   "cell_type": "markdown",
   "id": "f1b6edf5",
   "metadata": {},
   "source": [
    "Шанс того,что уведомления откроют не более 399,5 тысяч пользователе составляет 15%"
   ]
  },
  {
   "cell_type": "markdown",
   "id": "db191332",
   "metadata": {},
   "source": [
    "<div class=\"alert alert-success\">\n",
    "\n",
    "**Артём:** 👍 Все правильно - 15%. \n",
    "  \n",
    "</div> "
   ]
  },
  {
   "cell_type": "markdown",
   "id": "d751e778",
   "metadata": {},
   "source": [
    "#### Вывод\n",
    "\n",
    "Для изучение датафреймов были импортированы 7 библиотек\n",
    "\n",
    "В ходе иследования были обнаружены был выявлен неверный формат данных в стобце date.А так же просмотрена общая информация о них и составлено описание столбцов.Данные были успешно переформатирвоаны,были выявлены дубликаты в количестве 31 штук -так же успешно удалены,пропусков не выявлено\n",
    "\n",
    "Так же были установлены самые популярные города это Пятигорск и ЕКБ,выявлено что количество пользователей без подписки преобладает над пользователями с ней лишь на 10 процентов.\n",
    "\n",
    "Был составлен портрет среднего пользователя,от молодые люди приблизительно 25 лет,проезжают от 2-4.5км ,и тратят на поездку от 15 жо 20 минут\n",
    "\n",
    "Для более детальног оанализа 3 баззы данных были объеденены в 1 и разбиты по группам\n",
    "\n",
    "Пользователи с подпиской в среднем проезжают отот 6 до 12 км и тратят на поездку до 20 минут,В то время как пользователи без подписки проезжаютт расстояние в 3 раза меньше.Это говорит о том,что скорее всего они берут самокаты в целях развлечения,могут просто покататься с друзьями,оставиться поесть мороженого и поболтать\n",
    "\n",
    "Из данного датафрема был составлен еще 1 но данным в нем были агрегирующие это позовлило найти суммарное расстояние, количество поездок и суммарное время для каждого пользователя за каждый месяц.А так же благодаря ему были произведены расчеты помесячной выручкой, которую принёс каждый пользователь и добавлены в дадатфрейм\n",
    "\n",
    "Были првоерены 3 гипотезы которые гласят:\n",
    "\n",
    "1-Время продолжительности поездок на free и ultra неравны,различаются\n",
    "\n",
    "2-Не получилось отвергунть,что расстоение которые проезжают пользователи равно 3130м\n",
    "\n",
    "3-H1 не отвергаем,что выручка на free и ultra отличаются"
   ]
  },
  {
   "cell_type": "code",
   "execution_count": null,
   "id": "ed9e17c3",
   "metadata": {},
   "outputs": [],
   "source": []
  }
 ],
 "metadata": {
  "ExecuteTimeLog": [
   {
    "duration": 463,
    "start_time": "2023-04-21T13:30:23.276Z"
   },
   {
    "duration": 100,
    "start_time": "2023-04-21T13:30:30.876Z"
   },
   {
    "duration": 979,
    "start_time": "2023-04-21T13:30:58.821Z"
   },
   {
    "duration": 82,
    "start_time": "2023-04-21T13:31:02.805Z"
   },
   {
    "duration": 85,
    "start_time": "2023-04-21T13:34:06.687Z"
   },
   {
    "duration": 59,
    "start_time": "2023-04-21T13:35:11.549Z"
   },
   {
    "duration": 56,
    "start_time": "2023-04-21T13:35:23.425Z"
   },
   {
    "duration": 53,
    "start_time": "2023-04-21T13:35:59.530Z"
   },
   {
    "duration": 94,
    "start_time": "2023-04-21T13:36:17.507Z"
   },
   {
    "duration": 55,
    "start_time": "2023-04-21T13:37:14.799Z"
   },
   {
    "duration": 48,
    "start_time": "2023-04-21T13:37:31.525Z"
   },
   {
    "duration": 16,
    "start_time": "2023-04-21T13:37:36.307Z"
   },
   {
    "duration": 23,
    "start_time": "2023-04-21T13:37:57.294Z"
   },
   {
    "duration": 102,
    "start_time": "2023-04-21T13:41:50.430Z"
   },
   {
    "duration": 28,
    "start_time": "2023-04-21T13:42:32.785Z"
   },
   {
    "duration": 76,
    "start_time": "2023-04-21T13:51:46.563Z"
   },
   {
    "duration": 384,
    "start_time": "2023-04-21T13:51:59.164Z"
   },
   {
    "duration": 38,
    "start_time": "2023-04-21T13:52:16.544Z"
   },
   {
    "duration": 43,
    "start_time": "2023-04-21T13:54:00.189Z"
   },
   {
    "duration": 24,
    "start_time": "2023-04-21T13:54:40.983Z"
   },
   {
    "duration": 42,
    "start_time": "2023-04-21T13:54:59.399Z"
   },
   {
    "duration": 43,
    "start_time": "2023-04-21T14:02:12.604Z"
   },
   {
    "duration": 106,
    "start_time": "2023-04-21T14:03:05.939Z"
   },
   {
    "duration": 45,
    "start_time": "2023-04-21T14:03:13.383Z"
   },
   {
    "duration": 42,
    "start_time": "2023-04-21T14:03:55.070Z"
   },
   {
    "duration": 69,
    "start_time": "2023-04-21T14:04:54.426Z"
   },
   {
    "duration": 53,
    "start_time": "2023-04-21T14:05:37.965Z"
   },
   {
    "duration": 7,
    "start_time": "2023-04-21T14:11:53.565Z"
   },
   {
    "duration": 10,
    "start_time": "2023-04-21T14:12:36.378Z"
   },
   {
    "duration": 10,
    "start_time": "2023-04-21T14:12:46.068Z"
   },
   {
    "duration": 7,
    "start_time": "2023-04-21T14:12:57.572Z"
   },
   {
    "duration": 153,
    "start_time": "2023-04-21T14:16:04.723Z"
   },
   {
    "duration": 11,
    "start_time": "2023-04-21T14:16:09.024Z"
   },
   {
    "duration": 7,
    "start_time": "2023-04-21T14:16:16.063Z"
   },
   {
    "duration": 7,
    "start_time": "2023-04-21T14:16:58.901Z"
   },
   {
    "duration": 9,
    "start_time": "2023-04-21T14:17:17.067Z"
   },
   {
    "duration": 7,
    "start_time": "2023-04-21T14:17:22.636Z"
   },
   {
    "duration": 7,
    "start_time": "2023-04-21T14:17:26.518Z"
   },
   {
    "duration": 8,
    "start_time": "2023-04-21T14:18:08.958Z"
   },
   {
    "duration": 6,
    "start_time": "2023-04-21T14:18:54.604Z"
   },
   {
    "duration": 14,
    "start_time": "2023-04-21T14:21:52.425Z"
   },
   {
    "duration": 763,
    "start_time": "2023-04-21T14:25:51.084Z"
   },
   {
    "duration": 8,
    "start_time": "2023-04-21T14:26:52.766Z"
   },
   {
    "duration": 21,
    "start_time": "2023-04-21T14:27:29.219Z"
   },
   {
    "duration": 17,
    "start_time": "2023-04-21T14:27:34.220Z"
   },
   {
    "duration": 7,
    "start_time": "2023-04-21T14:42:19.754Z"
   },
   {
    "duration": 24,
    "start_time": "2023-04-21T14:43:08.609Z"
   },
   {
    "duration": 13,
    "start_time": "2023-04-21T14:44:28.542Z"
   },
   {
    "duration": 12,
    "start_time": "2023-04-21T14:45:48.479Z"
   },
   {
    "duration": 15,
    "start_time": "2023-04-21T14:46:01.756Z"
   },
   {
    "duration": 15,
    "start_time": "2023-04-21T14:46:24.206Z"
   },
   {
    "duration": 8,
    "start_time": "2023-04-21T14:47:25.334Z"
   },
   {
    "duration": 26,
    "start_time": "2023-04-21T14:47:52.845Z"
   },
   {
    "duration": 91,
    "start_time": "2023-04-21T14:48:52.081Z"
   },
   {
    "duration": 86,
    "start_time": "2023-04-21T14:49:03.949Z"
   },
   {
    "duration": 26,
    "start_time": "2023-04-21T14:49:19.145Z"
   },
   {
    "duration": 38,
    "start_time": "2023-04-21T14:50:25.970Z"
   },
   {
    "duration": 12,
    "start_time": "2023-04-21T14:53:55.484Z"
   },
   {
    "duration": 6,
    "start_time": "2023-04-21T14:54:36.032Z"
   },
   {
    "duration": 13,
    "start_time": "2023-04-21T14:54:55.967Z"
   },
   {
    "duration": 13,
    "start_time": "2023-04-21T14:55:14.033Z"
   },
   {
    "duration": 13,
    "start_time": "2023-04-21T14:55:14.415Z"
   },
   {
    "duration": 15,
    "start_time": "2023-04-21T14:59:01.217Z"
   },
   {
    "duration": 6,
    "start_time": "2023-04-21T15:01:35.841Z"
   },
   {
    "duration": 11,
    "start_time": "2023-04-21T15:17:19.268Z"
   },
   {
    "duration": 3,
    "start_time": "2023-04-21T15:17:38.841Z"
   },
   {
    "duration": 10,
    "start_time": "2023-04-21T15:17:52.569Z"
   },
   {
    "duration": 12,
    "start_time": "2023-04-21T15:18:11.998Z"
   },
   {
    "duration": 10,
    "start_time": "2023-04-21T15:18:17.381Z"
   },
   {
    "duration": 11,
    "start_time": "2023-04-21T15:19:44.811Z"
   },
   {
    "duration": 314,
    "start_time": "2023-04-21T15:21:52.563Z"
   },
   {
    "duration": 136,
    "start_time": "2023-04-21T15:22:16.834Z"
   },
   {
    "duration": 169,
    "start_time": "2023-04-21T15:22:25.503Z"
   },
   {
    "duration": 153,
    "start_time": "2023-04-21T15:22:33.650Z"
   },
   {
    "duration": 146,
    "start_time": "2023-04-21T15:22:38.218Z"
   },
   {
    "duration": 218,
    "start_time": "2023-04-21T15:24:21.223Z"
   },
   {
    "duration": 10,
    "start_time": "2023-04-21T15:25:19.937Z"
   },
   {
    "duration": 13,
    "start_time": "2023-04-21T15:25:50.347Z"
   },
   {
    "duration": 6,
    "start_time": "2023-04-21T15:25:55.597Z"
   },
   {
    "duration": 8,
    "start_time": "2023-04-21T15:26:00.995Z"
   },
   {
    "duration": 301,
    "start_time": "2023-04-21T15:26:15.080Z"
   },
   {
    "duration": 218,
    "start_time": "2023-04-21T15:26:37.276Z"
   },
   {
    "duration": 218,
    "start_time": "2023-04-21T15:27:36.636Z"
   },
   {
    "duration": 193,
    "start_time": "2023-04-21T15:27:45.152Z"
   },
   {
    "duration": 170,
    "start_time": "2023-04-21T15:27:54.508Z"
   },
   {
    "duration": 175,
    "start_time": "2023-04-21T15:28:03.466Z"
   },
   {
    "duration": 11,
    "start_time": "2023-04-21T15:51:56.756Z"
   },
   {
    "duration": 197,
    "start_time": "2023-04-21T15:52:03.698Z"
   },
   {
    "duration": 173,
    "start_time": "2023-04-21T15:52:57.614Z"
   },
   {
    "duration": 169,
    "start_time": "2023-04-21T15:54:27.851Z"
   },
   {
    "duration": 199,
    "start_time": "2023-04-21T15:55:00.546Z"
   },
   {
    "duration": 224,
    "start_time": "2023-04-21T15:55:21.076Z"
   },
   {
    "duration": 280,
    "start_time": "2023-04-21T15:58:12.424Z"
   },
   {
    "duration": 187,
    "start_time": "2023-04-21T15:58:26.303Z"
   },
   {
    "duration": 178,
    "start_time": "2023-04-21T15:58:55.379Z"
   },
   {
    "duration": 161,
    "start_time": "2023-04-21T16:00:20.423Z"
   },
   {
    "duration": 176,
    "start_time": "2023-04-21T16:02:09.169Z"
   },
   {
    "duration": 172,
    "start_time": "2023-04-21T16:02:28.948Z"
   },
   {
    "duration": 18,
    "start_time": "2023-04-21T16:14:49.219Z"
   },
   {
    "duration": 123,
    "start_time": "2023-04-21T16:15:48.488Z"
   },
   {
    "duration": 121,
    "start_time": "2023-04-21T16:16:05.774Z"
   },
   {
    "duration": 141,
    "start_time": "2023-04-21T16:16:22.334Z"
   },
   {
    "duration": 12,
    "start_time": "2023-04-21T16:21:28.354Z"
   },
   {
    "duration": 77,
    "start_time": "2023-04-21T16:23:33.692Z"
   },
   {
    "duration": 88,
    "start_time": "2023-04-21T16:23:48.984Z"
   },
   {
    "duration": 131,
    "start_time": "2023-04-21T16:24:53.782Z"
   },
   {
    "duration": 135,
    "start_time": "2023-04-21T16:25:18.288Z"
   },
   {
    "duration": 128,
    "start_time": "2023-04-21T16:25:32.681Z"
   },
   {
    "duration": 134,
    "start_time": "2023-04-21T16:25:39.294Z"
   },
   {
    "duration": 236,
    "start_time": "2023-04-21T16:25:46.330Z"
   },
   {
    "duration": 154,
    "start_time": "2023-04-21T16:27:07.670Z"
   },
   {
    "duration": 132,
    "start_time": "2023-04-21T16:27:35.727Z"
   },
   {
    "duration": 136,
    "start_time": "2023-04-21T16:27:57.014Z"
   },
   {
    "duration": 151,
    "start_time": "2023-04-21T16:28:19.042Z"
   },
   {
    "duration": 144,
    "start_time": "2023-04-21T16:28:24.861Z"
   },
   {
    "duration": 157,
    "start_time": "2023-04-21T16:28:28.901Z"
   },
   {
    "duration": 161,
    "start_time": "2023-04-21T16:28:31.843Z"
   },
   {
    "duration": 168,
    "start_time": "2023-04-21T16:29:00.982Z"
   },
   {
    "duration": 152,
    "start_time": "2023-04-21T16:51:16.874Z"
   },
   {
    "duration": 317,
    "start_time": "2023-04-21T16:51:21.486Z"
   },
   {
    "duration": 336,
    "start_time": "2023-04-21T16:52:42.393Z"
   },
   {
    "duration": 414,
    "start_time": "2023-04-21T16:53:04.666Z"
   },
   {
    "duration": 156,
    "start_time": "2023-04-21T16:53:14.908Z"
   },
   {
    "duration": 304,
    "start_time": "2023-04-21T16:53:18.451Z"
   },
   {
    "duration": 155,
    "start_time": "2023-04-21T16:53:34.011Z"
   },
   {
    "duration": 313,
    "start_time": "2023-04-21T16:53:39.363Z"
   },
   {
    "duration": 81,
    "start_time": "2023-04-21T16:56:04.950Z"
   },
   {
    "duration": 1324,
    "start_time": "2023-04-21T16:59:42.386Z"
   },
   {
    "duration": 52,
    "start_time": "2023-04-21T16:59:43.712Z"
   },
   {
    "duration": 44,
    "start_time": "2023-04-21T16:59:43.766Z"
   },
   {
    "duration": 30,
    "start_time": "2023-04-21T16:59:43.812Z"
   },
   {
    "duration": 12,
    "start_time": "2023-04-21T16:59:43.845Z"
   },
   {
    "duration": 18,
    "start_time": "2023-04-21T16:59:43.859Z"
   },
   {
    "duration": 29,
    "start_time": "2023-04-21T16:59:43.878Z"
   },
   {
    "duration": 41,
    "start_time": "2023-04-21T16:59:43.909Z"
   },
   {
    "duration": 8,
    "start_time": "2023-04-21T16:59:43.952Z"
   },
   {
    "duration": 7,
    "start_time": "2023-04-21T16:59:43.962Z"
   },
   {
    "duration": 6,
    "start_time": "2023-04-21T16:59:43.971Z"
   },
   {
    "duration": 8,
    "start_time": "2023-04-21T16:59:43.979Z"
   },
   {
    "duration": 229,
    "start_time": "2023-04-21T16:59:43.989Z"
   },
   {
    "duration": 166,
    "start_time": "2023-04-21T16:59:44.221Z"
   },
   {
    "duration": 327,
    "start_time": "2023-04-21T16:59:44.389Z"
   },
   {
    "duration": 1316,
    "start_time": "2023-04-21T17:00:44.206Z"
   },
   {
    "duration": 52,
    "start_time": "2023-04-21T17:00:45.524Z"
   },
   {
    "duration": 46,
    "start_time": "2023-04-21T17:00:45.578Z"
   },
   {
    "duration": 30,
    "start_time": "2023-04-21T17:00:45.626Z"
   },
   {
    "duration": 13,
    "start_time": "2023-04-21T17:00:45.659Z"
   },
   {
    "duration": 35,
    "start_time": "2023-04-21T17:00:45.674Z"
   },
   {
    "duration": 37,
    "start_time": "2023-04-21T17:00:45.712Z"
   },
   {
    "duration": 13,
    "start_time": "2023-04-21T17:00:45.751Z"
   },
   {
    "duration": 10,
    "start_time": "2023-04-21T17:00:45.765Z"
   },
   {
    "duration": 7,
    "start_time": "2023-04-21T17:00:45.777Z"
   },
   {
    "duration": 13,
    "start_time": "2023-04-21T17:00:45.786Z"
   },
   {
    "duration": 42,
    "start_time": "2023-04-21T17:00:45.801Z"
   },
   {
    "duration": 253,
    "start_time": "2023-04-21T17:00:45.845Z"
   },
   {
    "duration": 190,
    "start_time": "2023-04-21T17:00:46.103Z"
   },
   {
    "duration": 319,
    "start_time": "2023-04-21T17:00:46.295Z"
   },
   {
    "duration": 1309,
    "start_time": "2023-04-21T17:05:12.584Z"
   },
   {
    "duration": 51,
    "start_time": "2023-04-21T17:05:13.895Z"
   },
   {
    "duration": 46,
    "start_time": "2023-04-21T17:05:13.948Z"
   },
   {
    "duration": 30,
    "start_time": "2023-04-21T17:05:13.995Z"
   },
   {
    "duration": 18,
    "start_time": "2023-04-21T17:05:14.027Z"
   },
   {
    "duration": 15,
    "start_time": "2023-04-21T17:05:14.046Z"
   },
   {
    "duration": 42,
    "start_time": "2023-04-21T17:05:14.063Z"
   },
   {
    "duration": 13,
    "start_time": "2023-04-21T17:05:14.107Z"
   },
   {
    "duration": 11,
    "start_time": "2023-04-21T17:05:14.142Z"
   },
   {
    "duration": 13,
    "start_time": "2023-04-21T17:05:14.155Z"
   },
   {
    "duration": 17,
    "start_time": "2023-04-21T17:05:14.170Z"
   },
   {
    "duration": 28,
    "start_time": "2023-04-21T17:05:14.189Z"
   },
   {
    "duration": 189,
    "start_time": "2023-04-21T17:05:14.219Z"
   },
   {
    "duration": 166,
    "start_time": "2023-04-21T17:05:14.411Z"
   },
   {
    "duration": 318,
    "start_time": "2023-04-21T17:05:14.578Z"
   },
   {
    "duration": 6,
    "start_time": "2023-04-21T17:05:14.898Z"
   },
   {
    "duration": 8,
    "start_time": "2023-04-21T17:05:34.525Z"
   },
   {
    "duration": 7,
    "start_time": "2023-04-21T17:07:27.817Z"
   },
   {
    "duration": 8,
    "start_time": "2023-04-21T17:07:46.862Z"
   },
   {
    "duration": 4,
    "start_time": "2023-04-21T17:08:02.587Z"
   },
   {
    "duration": 116,
    "start_time": "2023-04-21T17:08:15.214Z"
   },
   {
    "duration": 15,
    "start_time": "2023-04-21T17:08:26.754Z"
   },
   {
    "duration": 12,
    "start_time": "2023-04-21T17:08:31.029Z"
   },
   {
    "duration": 7,
    "start_time": "2023-04-21T17:08:48.342Z"
   },
   {
    "duration": 6,
    "start_time": "2023-04-21T17:09:03.967Z"
   },
   {
    "duration": 8,
    "start_time": "2023-04-21T17:09:15.139Z"
   },
   {
    "duration": 1370,
    "start_time": "2023-04-21T17:10:12.822Z"
   },
   {
    "duration": 50,
    "start_time": "2023-04-21T17:10:14.195Z"
   },
   {
    "duration": 45,
    "start_time": "2023-04-21T17:10:14.247Z"
   },
   {
    "duration": 30,
    "start_time": "2023-04-21T17:10:14.294Z"
   },
   {
    "duration": 16,
    "start_time": "2023-04-21T17:10:14.326Z"
   },
   {
    "duration": 47,
    "start_time": "2023-04-21T17:10:14.344Z"
   },
   {
    "duration": 38,
    "start_time": "2023-04-21T17:10:14.393Z"
   },
   {
    "duration": 25,
    "start_time": "2023-04-21T17:10:14.433Z"
   },
   {
    "duration": 13,
    "start_time": "2023-04-21T17:10:14.460Z"
   },
   {
    "duration": 9,
    "start_time": "2023-04-21T17:10:14.476Z"
   },
   {
    "duration": 7,
    "start_time": "2023-04-21T17:10:14.488Z"
   },
   {
    "duration": 16,
    "start_time": "2023-04-21T17:10:14.497Z"
   },
   {
    "duration": 38,
    "start_time": "2023-04-21T17:10:14.514Z"
   },
   {
    "duration": 229,
    "start_time": "2023-04-21T17:10:14.554Z"
   },
   {
    "duration": 182,
    "start_time": "2023-04-21T17:10:14.785Z"
   },
   {
    "duration": 355,
    "start_time": "2023-04-21T17:10:14.969Z"
   },
   {
    "duration": 15,
    "start_time": "2023-04-21T17:10:15.327Z"
   },
   {
    "duration": 13,
    "start_time": "2023-04-21T17:13:32.300Z"
   },
   {
    "duration": 20,
    "start_time": "2023-04-21T17:13:42.659Z"
   },
   {
    "duration": 18,
    "start_time": "2023-04-21T17:13:55.159Z"
   },
   {
    "duration": 13,
    "start_time": "2023-04-21T17:15:03.836Z"
   },
   {
    "duration": 315,
    "start_time": "2023-04-21T17:15:31.152Z"
   },
   {
    "duration": 351,
    "start_time": "2023-04-21T17:20:55.873Z"
   },
   {
    "duration": 303,
    "start_time": "2023-04-21T17:21:01.716Z"
   },
   {
    "duration": 250,
    "start_time": "2023-04-21T17:21:29.197Z"
   },
   {
    "duration": 304,
    "start_time": "2023-04-21T17:21:35.459Z"
   },
   {
    "duration": 74,
    "start_time": "2023-04-21T17:21:43.946Z"
   },
   {
    "duration": 296,
    "start_time": "2023-04-21T17:21:48.787Z"
   },
   {
    "duration": 370,
    "start_time": "2023-04-21T17:22:01.865Z"
   },
   {
    "duration": 299,
    "start_time": "2023-04-21T17:22:12.112Z"
   },
   {
    "duration": 290,
    "start_time": "2023-04-21T17:22:21.507Z"
   },
   {
    "duration": 280,
    "start_time": "2023-04-21T17:28:20.111Z"
   },
   {
    "duration": 378,
    "start_time": "2023-04-21T17:29:31.952Z"
   },
   {
    "duration": 15,
    "start_time": "2023-04-21T17:29:49.819Z"
   },
   {
    "duration": 110,
    "start_time": "2023-04-21T17:30:55.724Z"
   },
   {
    "duration": 238,
    "start_time": "2023-04-21T17:30:59.911Z"
   },
   {
    "duration": 277,
    "start_time": "2023-04-21T17:31:25.630Z"
   },
   {
    "duration": 20,
    "start_time": "2023-04-21T17:32:19.017Z"
   },
   {
    "duration": 14,
    "start_time": "2023-04-21T17:32:42.102Z"
   },
   {
    "duration": 1298,
    "start_time": "2023-04-21T17:35:56.253Z"
   },
   {
    "duration": 50,
    "start_time": "2023-04-21T17:35:57.554Z"
   },
   {
    "duration": 47,
    "start_time": "2023-04-21T17:35:57.606Z"
   },
   {
    "duration": 30,
    "start_time": "2023-04-21T17:35:57.656Z"
   },
   {
    "duration": 13,
    "start_time": "2023-04-21T17:35:57.688Z"
   },
   {
    "duration": 20,
    "start_time": "2023-04-21T17:35:57.704Z"
   },
   {
    "duration": 27,
    "start_time": "2023-04-21T17:35:57.726Z"
   },
   {
    "duration": 32,
    "start_time": "2023-04-21T17:35:57.756Z"
   },
   {
    "duration": 13,
    "start_time": "2023-04-21T17:35:57.790Z"
   },
   {
    "duration": 35,
    "start_time": "2023-04-21T17:35:57.807Z"
   },
   {
    "duration": 9,
    "start_time": "2023-04-21T17:35:57.844Z"
   },
   {
    "duration": 8,
    "start_time": "2023-04-21T17:35:57.855Z"
   },
   {
    "duration": 17,
    "start_time": "2023-04-21T17:35:57.865Z"
   },
   {
    "duration": 206,
    "start_time": "2023-04-21T17:35:57.883Z"
   },
   {
    "duration": 163,
    "start_time": "2023-04-21T17:35:58.091Z"
   },
   {
    "duration": 310,
    "start_time": "2023-04-21T17:35:58.256Z"
   },
   {
    "duration": 298,
    "start_time": "2023-04-21T17:35:58.568Z"
   },
   {
    "duration": 128,
    "start_time": "2023-04-21T17:35:58.868Z"
   },
   {
    "duration": 16,
    "start_time": "2023-04-21T17:36:03.722Z"
   },
   {
    "duration": 16,
    "start_time": "2023-04-21T17:36:25.829Z"
   },
   {
    "duration": 18,
    "start_time": "2023-04-21T17:36:36.525Z"
   },
   {
    "duration": 16,
    "start_time": "2023-04-21T17:36:58.146Z"
   },
   {
    "duration": 14,
    "start_time": "2023-04-21T17:37:08.133Z"
   },
   {
    "duration": 21,
    "start_time": "2023-04-21T17:38:08.301Z"
   },
   {
    "duration": 24,
    "start_time": "2023-04-21T17:38:23.405Z"
   },
   {
    "duration": 10,
    "start_time": "2023-04-21T17:44:44.935Z"
   },
   {
    "duration": 16,
    "start_time": "2023-04-21T17:44:54.897Z"
   },
   {
    "duration": 17,
    "start_time": "2023-04-21T17:47:10.294Z"
   },
   {
    "duration": 24,
    "start_time": "2023-04-21T17:47:26.412Z"
   },
   {
    "duration": 19,
    "start_time": "2023-04-21T17:48:12.543Z"
   },
   {
    "duration": 27,
    "start_time": "2023-04-21T17:48:30.422Z"
   },
   {
    "duration": 1342,
    "start_time": "2023-04-21T17:48:40.157Z"
   },
   {
    "duration": 53,
    "start_time": "2023-04-21T17:48:41.501Z"
   },
   {
    "duration": 46,
    "start_time": "2023-04-21T17:48:41.555Z"
   },
   {
    "duration": 31,
    "start_time": "2023-04-21T17:48:41.603Z"
   },
   {
    "duration": 14,
    "start_time": "2023-04-21T17:48:41.637Z"
   },
   {
    "duration": 32,
    "start_time": "2023-04-21T17:48:41.653Z"
   },
   {
    "duration": 51,
    "start_time": "2023-04-21T17:48:41.691Z"
   },
   {
    "duration": 45,
    "start_time": "2023-04-21T17:48:41.744Z"
   },
   {
    "duration": 28,
    "start_time": "2023-04-21T17:48:41.792Z"
   },
   {
    "duration": 22,
    "start_time": "2023-04-21T17:48:41.823Z"
   },
   {
    "duration": 47,
    "start_time": "2023-04-21T17:48:41.848Z"
   },
   {
    "duration": 15,
    "start_time": "2023-04-21T17:48:41.898Z"
   },
   {
    "duration": 17,
    "start_time": "2023-04-21T17:48:41.915Z"
   },
   {
    "duration": 207,
    "start_time": "2023-04-21T17:48:41.936Z"
   },
   {
    "duration": 172,
    "start_time": "2023-04-21T17:48:42.145Z"
   },
   {
    "duration": 309,
    "start_time": "2023-04-21T17:48:42.319Z"
   },
   {
    "duration": 299,
    "start_time": "2023-04-21T17:48:42.630Z"
   },
   {
    "duration": 128,
    "start_time": "2023-04-21T17:48:42.931Z"
   },
   {
    "duration": 23,
    "start_time": "2023-04-21T18:06:43.685Z"
   },
   {
    "duration": 1350,
    "start_time": "2023-04-21T18:07:02.320Z"
   },
   {
    "duration": 53,
    "start_time": "2023-04-21T18:07:03.672Z"
   },
   {
    "duration": 55,
    "start_time": "2023-04-21T18:07:03.727Z"
   },
   {
    "duration": 31,
    "start_time": "2023-04-21T18:07:03.784Z"
   },
   {
    "duration": 12,
    "start_time": "2023-04-21T18:07:03.817Z"
   },
   {
    "duration": 68,
    "start_time": "2023-04-21T18:07:03.831Z"
   },
   {
    "duration": 54,
    "start_time": "2023-04-21T18:07:03.901Z"
   },
   {
    "duration": 43,
    "start_time": "2023-04-21T18:07:03.957Z"
   },
   {
    "duration": 19,
    "start_time": "2023-04-21T18:07:04.002Z"
   },
   {
    "duration": 17,
    "start_time": "2023-04-21T18:07:04.023Z"
   },
   {
    "duration": 45,
    "start_time": "2023-04-21T18:07:04.042Z"
   },
   {
    "duration": 25,
    "start_time": "2023-04-21T18:07:04.088Z"
   },
   {
    "duration": 16,
    "start_time": "2023-04-21T18:07:04.115Z"
   },
   {
    "duration": 215,
    "start_time": "2023-04-21T18:07:04.133Z"
   },
   {
    "duration": 170,
    "start_time": "2023-04-21T18:07:04.350Z"
   },
   {
    "duration": 311,
    "start_time": "2023-04-21T18:07:04.522Z"
   },
   {
    "duration": 307,
    "start_time": "2023-04-21T18:07:04.835Z"
   },
   {
    "duration": 41,
    "start_time": "2023-04-21T18:07:05.144Z"
   },
   {
    "duration": 217,
    "start_time": "2023-04-21T18:08:15.532Z"
   },
   {
    "duration": 205,
    "start_time": "2023-04-21T18:08:56.015Z"
   },
   {
    "duration": 201,
    "start_time": "2023-04-21T18:09:25.633Z"
   },
   {
    "duration": 2101,
    "start_time": "2023-04-21T18:10:24.084Z"
   },
   {
    "duration": 4,
    "start_time": "2023-04-21T18:11:09.572Z"
   },
   {
    "duration": 1311,
    "start_time": "2023-04-21T18:11:42.152Z"
   },
   {
    "duration": 52,
    "start_time": "2023-04-21T18:11:43.466Z"
   },
   {
    "duration": 46,
    "start_time": "2023-04-21T18:11:43.520Z"
   },
   {
    "duration": 30,
    "start_time": "2023-04-21T18:11:43.568Z"
   },
   {
    "duration": 12,
    "start_time": "2023-04-21T18:11:43.600Z"
   },
   {
    "duration": 18,
    "start_time": "2023-04-21T18:11:43.613Z"
   },
   {
    "duration": 19,
    "start_time": "2023-04-21T18:11:43.632Z"
   },
   {
    "duration": 25,
    "start_time": "2023-04-21T18:11:43.653Z"
   },
   {
    "duration": 11,
    "start_time": "2023-04-21T18:11:43.680Z"
   },
   {
    "duration": 8,
    "start_time": "2023-04-21T18:11:43.692Z"
   },
   {
    "duration": 41,
    "start_time": "2023-04-21T18:11:43.701Z"
   },
   {
    "duration": 6,
    "start_time": "2023-04-21T18:11:43.745Z"
   },
   {
    "duration": 24,
    "start_time": "2023-04-21T18:11:43.753Z"
   },
   {
    "duration": 199,
    "start_time": "2023-04-21T18:11:43.781Z"
   },
   {
    "duration": 172,
    "start_time": "2023-04-21T18:11:43.982Z"
   },
   {
    "duration": 301,
    "start_time": "2023-04-21T18:11:44.156Z"
   },
   {
    "duration": 199,
    "start_time": "2023-04-21T18:11:44.459Z"
   },
   {
    "duration": 204,
    "start_time": "2023-04-21T18:11:44.660Z"
   },
   {
    "duration": 211,
    "start_time": "2023-04-21T18:11:56.577Z"
   },
   {
    "duration": 1319,
    "start_time": "2023-04-21T18:12:07.994Z"
   },
   {
    "duration": 55,
    "start_time": "2023-04-21T18:12:09.315Z"
   },
   {
    "duration": 53,
    "start_time": "2023-04-21T18:12:09.372Z"
   },
   {
    "duration": 29,
    "start_time": "2023-04-21T18:12:09.427Z"
   },
   {
    "duration": 16,
    "start_time": "2023-04-21T18:12:09.458Z"
   },
   {
    "duration": 26,
    "start_time": "2023-04-21T18:12:09.476Z"
   },
   {
    "duration": 20,
    "start_time": "2023-04-21T18:12:09.504Z"
   },
   {
    "duration": 37,
    "start_time": "2023-04-21T18:12:09.526Z"
   },
   {
    "duration": 19,
    "start_time": "2023-04-21T18:12:09.566Z"
   },
   {
    "duration": 9,
    "start_time": "2023-04-21T18:12:09.588Z"
   },
   {
    "duration": 27,
    "start_time": "2023-04-21T18:12:09.600Z"
   },
   {
    "duration": 19,
    "start_time": "2023-04-21T18:12:09.629Z"
   },
   {
    "duration": 24,
    "start_time": "2023-04-21T18:12:09.650Z"
   },
   {
    "duration": 214,
    "start_time": "2023-04-21T18:12:09.677Z"
   },
   {
    "duration": 175,
    "start_time": "2023-04-21T18:12:09.893Z"
   },
   {
    "duration": 305,
    "start_time": "2023-04-21T18:12:10.070Z"
   },
   {
    "duration": 199,
    "start_time": "2023-04-21T18:12:10.377Z"
   },
   {
    "duration": 201,
    "start_time": "2023-04-21T18:12:10.578Z"
   },
   {
    "duration": 183,
    "start_time": "2023-04-21T18:13:34.652Z"
   },
   {
    "duration": 215,
    "start_time": "2023-04-21T18:13:42.289Z"
   },
   {
    "duration": 284,
    "start_time": "2023-04-21T18:13:53.673Z"
   },
   {
    "duration": 303,
    "start_time": "2023-04-21T18:14:41.085Z"
   },
   {
    "duration": 203,
    "start_time": "2023-04-21T18:15:17.975Z"
   },
   {
    "duration": 224,
    "start_time": "2023-04-21T18:15:25.758Z"
   },
   {
    "duration": 287,
    "start_time": "2023-04-21T18:16:06.440Z"
   },
   {
    "duration": 188,
    "start_time": "2023-04-21T18:16:16.755Z"
   },
   {
    "duration": 15,
    "start_time": "2023-04-21T18:18:12.249Z"
   },
   {
    "duration": 9,
    "start_time": "2023-04-21T18:18:18.402Z"
   },
   {
    "duration": 22,
    "start_time": "2023-04-21T18:19:46.775Z"
   },
   {
    "duration": 25,
    "start_time": "2023-04-21T18:20:13.483Z"
   },
   {
    "duration": 217,
    "start_time": "2023-04-21T18:20:30.038Z"
   },
   {
    "duration": 199,
    "start_time": "2023-04-21T18:20:36.852Z"
   },
   {
    "duration": 269,
    "start_time": "2023-04-21T18:21:01.069Z"
   },
   {
    "duration": 12,
    "start_time": "2023-04-21T19:06:35.104Z"
   },
   {
    "duration": 16,
    "start_time": "2023-04-21T19:06:39.575Z"
   },
   {
    "duration": 28,
    "start_time": "2023-04-21T19:06:49.084Z"
   },
   {
    "duration": 13,
    "start_time": "2023-04-21T19:07:30.652Z"
   },
   {
    "duration": 39,
    "start_time": "2023-04-21T19:08:22.786Z"
   },
   {
    "duration": 11,
    "start_time": "2023-04-21T19:09:03.417Z"
   },
   {
    "duration": 48,
    "start_time": "2023-04-21T19:10:02.263Z"
   },
   {
    "duration": 47,
    "start_time": "2023-04-21T19:10:20.268Z"
   },
   {
    "duration": 47,
    "start_time": "2023-04-21T19:16:59.022Z"
   },
   {
    "duration": 12,
    "start_time": "2023-04-21T19:17:32.702Z"
   },
   {
    "duration": 11,
    "start_time": "2023-04-21T19:17:40.966Z"
   },
   {
    "duration": 11,
    "start_time": "2023-04-21T19:18:03.488Z"
   },
   {
    "duration": 14,
    "start_time": "2023-04-21T19:18:34.252Z"
   },
   {
    "duration": 13,
    "start_time": "2023-04-21T19:18:43.262Z"
   },
   {
    "duration": 10,
    "start_time": "2023-04-21T19:18:55.414Z"
   },
   {
    "duration": 1261,
    "start_time": "2023-04-21T19:19:52.524Z"
   },
   {
    "duration": 85,
    "start_time": "2023-04-21T19:20:05.309Z"
   },
   {
    "duration": 75,
    "start_time": "2023-04-21T19:20:09.618Z"
   },
   {
    "duration": 1228,
    "start_time": "2023-04-21T19:20:15.552Z"
   },
   {
    "duration": 10,
    "start_time": "2023-04-21T19:20:55.921Z"
   },
   {
    "duration": 11,
    "start_time": "2023-04-21T19:23:47.364Z"
   },
   {
    "duration": 6,
    "start_time": "2023-04-21T19:23:53.477Z"
   },
   {
    "duration": 24,
    "start_time": "2023-04-21T19:24:05.413Z"
   },
   {
    "duration": 23,
    "start_time": "2023-04-21T19:24:26.557Z"
   },
   {
    "duration": 21,
    "start_time": "2023-04-21T19:24:31.838Z"
   },
   {
    "duration": 19,
    "start_time": "2023-04-21T19:25:59.007Z"
   },
   {
    "duration": 18,
    "start_time": "2023-04-21T19:26:04.857Z"
   },
   {
    "duration": 11,
    "start_time": "2023-04-21T19:27:21.890Z"
   },
   {
    "duration": 26,
    "start_time": "2023-04-21T19:27:31.246Z"
   },
   {
    "duration": 10,
    "start_time": "2023-04-21T19:27:49.930Z"
   },
   {
    "duration": 8,
    "start_time": "2023-04-21T19:28:12.246Z"
   },
   {
    "duration": 8,
    "start_time": "2023-04-21T19:28:57.192Z"
   },
   {
    "duration": 8,
    "start_time": "2023-04-21T19:29:02.119Z"
   },
   {
    "duration": 23,
    "start_time": "2023-04-21T19:29:10.020Z"
   },
   {
    "duration": 20,
    "start_time": "2023-04-21T19:29:17.189Z"
   },
   {
    "duration": 22,
    "start_time": "2023-04-21T19:30:45.173Z"
   },
   {
    "duration": 404,
    "start_time": "2023-04-21T19:47:38.369Z"
   },
   {
    "duration": 58343,
    "start_time": "2023-04-21T19:47:55.652Z"
   },
   {
    "duration": 57550,
    "start_time": "2023-04-21T19:49:42.602Z"
   },
   {
    "duration": 1275,
    "start_time": "2023-04-21T19:50:55.044Z"
   },
   {
    "duration": 24,
    "start_time": "2023-04-21T19:51:08.945Z"
   },
   {
    "duration": 11,
    "start_time": "2023-04-21T19:51:30.990Z"
   },
   {
    "duration": 20,
    "start_time": "2023-04-21T19:52:01.718Z"
   },
   {
    "duration": 21,
    "start_time": "2023-04-21T19:52:38.011Z"
   },
   {
    "duration": 1216,
    "start_time": "2023-04-21T19:52:54.581Z"
   },
   {
    "duration": 57,
    "start_time": "2023-04-21T19:52:55.799Z"
   },
   {
    "duration": 53,
    "start_time": "2023-04-21T19:52:55.858Z"
   },
   {
    "duration": 33,
    "start_time": "2023-04-21T19:52:55.914Z"
   },
   {
    "duration": 16,
    "start_time": "2023-04-21T19:52:55.949Z"
   },
   {
    "duration": 27,
    "start_time": "2023-04-21T19:52:55.968Z"
   },
   {
    "duration": 43,
    "start_time": "2023-04-21T19:52:55.998Z"
   },
   {
    "duration": 33,
    "start_time": "2023-04-21T19:52:56.043Z"
   },
   {
    "duration": 16,
    "start_time": "2023-04-21T19:52:56.079Z"
   },
   {
    "duration": 37,
    "start_time": "2023-04-21T19:52:56.098Z"
   },
   {
    "duration": 13,
    "start_time": "2023-04-21T19:52:56.138Z"
   },
   {
    "duration": 13,
    "start_time": "2023-04-21T19:52:56.152Z"
   },
   {
    "duration": 19,
    "start_time": "2023-04-21T19:52:56.166Z"
   },
   {
    "duration": 195,
    "start_time": "2023-04-21T19:52:56.187Z"
   },
   {
    "duration": 179,
    "start_time": "2023-04-21T19:52:56.385Z"
   },
   {
    "duration": 333,
    "start_time": "2023-04-21T19:52:56.567Z"
   },
   {
    "duration": 304,
    "start_time": "2023-04-21T19:52:56.902Z"
   },
   {
    "duration": 265,
    "start_time": "2023-04-21T19:52:57.207Z"
   },
   {
    "duration": 37,
    "start_time": "2023-04-21T19:52:57.474Z"
   },
   {
    "duration": 34,
    "start_time": "2023-04-21T19:52:57.513Z"
   },
   {
    "duration": 57962,
    "start_time": "2023-04-21T19:52:57.549Z"
   },
   {
    "duration": 30,
    "start_time": "2023-04-21T19:53:55.513Z"
   },
   {
    "duration": 80,
    "start_time": "2023-04-21T19:54:53.996Z"
   },
   {
    "duration": 114,
    "start_time": "2023-04-21T19:54:58.153Z"
   },
   {
    "duration": 7,
    "start_time": "2023-04-21T19:55:03.263Z"
   },
   {
    "duration": 6,
    "start_time": "2023-04-21T19:56:07.699Z"
   },
   {
    "duration": 275,
    "start_time": "2023-04-21T20:04:59.746Z"
   },
   {
    "duration": 253,
    "start_time": "2023-04-21T20:07:26.311Z"
   },
   {
    "duration": 120,
    "start_time": "2023-04-21T20:11:35.960Z"
   },
   {
    "duration": 15,
    "start_time": "2023-04-21T20:13:40.199Z"
   },
   {
    "duration": 14,
    "start_time": "2023-04-21T20:14:01.340Z"
   },
   {
    "duration": 14,
    "start_time": "2023-04-21T20:15:22.181Z"
   },
   {
    "duration": 17,
    "start_time": "2023-04-21T20:15:27.583Z"
   },
   {
    "duration": 15,
    "start_time": "2023-04-21T20:15:31.626Z"
   },
   {
    "duration": 1279,
    "start_time": "2023-04-21T20:15:39.728Z"
   },
   {
    "duration": 50,
    "start_time": "2023-04-21T20:15:41.009Z"
   },
   {
    "duration": 45,
    "start_time": "2023-04-21T20:15:41.065Z"
   },
   {
    "duration": 30,
    "start_time": "2023-04-21T20:15:41.112Z"
   },
   {
    "duration": 11,
    "start_time": "2023-04-21T20:15:41.143Z"
   },
   {
    "duration": 9,
    "start_time": "2023-04-21T20:15:41.156Z"
   },
   {
    "duration": 14,
    "start_time": "2023-04-21T20:15:41.167Z"
   },
   {
    "duration": 58,
    "start_time": "2023-04-21T20:15:41.183Z"
   },
   {
    "duration": 14,
    "start_time": "2023-04-21T20:15:41.244Z"
   },
   {
    "duration": 8,
    "start_time": "2023-04-21T20:15:41.260Z"
   },
   {
    "duration": 7,
    "start_time": "2023-04-21T20:15:41.270Z"
   },
   {
    "duration": 7,
    "start_time": "2023-04-21T20:15:41.279Z"
   },
   {
    "duration": 7,
    "start_time": "2023-04-21T20:15:41.287Z"
   },
   {
    "duration": 226,
    "start_time": "2023-04-21T20:15:41.296Z"
   },
   {
    "duration": 175,
    "start_time": "2023-04-21T20:15:41.524Z"
   },
   {
    "duration": 292,
    "start_time": "2023-04-21T20:15:41.701Z"
   },
   {
    "duration": 295,
    "start_time": "2023-04-21T20:15:41.995Z"
   },
   {
    "duration": 254,
    "start_time": "2023-04-21T20:15:42.292Z"
   },
   {
    "duration": 36,
    "start_time": "2023-04-21T20:15:42.548Z"
   },
   {
    "duration": 16,
    "start_time": "2023-04-21T20:15:42.586Z"
   },
   {
    "duration": 265,
    "start_time": "2023-04-21T20:15:42.604Z"
   },
   {
    "duration": 118,
    "start_time": "2023-04-21T20:15:42.871Z"
   },
   {
    "duration": 0,
    "start_time": "2023-04-21T20:15:42.991Z"
   },
   {
    "duration": 0,
    "start_time": "2023-04-21T20:15:42.992Z"
   },
   {
    "duration": 13,
    "start_time": "2023-04-21T20:16:42.547Z"
   },
   {
    "duration": 11,
    "start_time": "2023-04-21T20:17:13.402Z"
   },
   {
    "duration": 16,
    "start_time": "2023-04-21T20:17:17.273Z"
   },
   {
    "duration": 8,
    "start_time": "2023-04-21T20:17:52.008Z"
   },
   {
    "duration": 259,
    "start_time": "2023-04-21T20:17:58.484Z"
   },
   {
    "duration": 15,
    "start_time": "2023-04-21T20:19:13.101Z"
   },
   {
    "duration": 13,
    "start_time": "2023-04-21T20:31:26.613Z"
   },
   {
    "duration": 11,
    "start_time": "2023-04-21T20:31:35.073Z"
   },
   {
    "duration": 12,
    "start_time": "2023-04-21T20:31:52.338Z"
   },
   {
    "duration": 89,
    "start_time": "2023-04-21T20:32:22.234Z"
   },
   {
    "duration": 10,
    "start_time": "2023-04-21T20:32:34.028Z"
   },
   {
    "duration": 80,
    "start_time": "2023-04-21T20:32:42.777Z"
   },
   {
    "duration": 11,
    "start_time": "2023-04-21T20:32:56.035Z"
   },
   {
    "duration": 72,
    "start_time": "2023-04-21T20:33:01.141Z"
   },
   {
    "duration": 13,
    "start_time": "2023-04-21T20:33:05.577Z"
   },
   {
    "duration": 17,
    "start_time": "2023-04-21T20:33:23.875Z"
   },
   {
    "duration": 315,
    "start_time": "2023-04-21T20:33:27.112Z"
   },
   {
    "duration": 13,
    "start_time": "2023-04-21T20:33:31.019Z"
   },
   {
    "duration": 233,
    "start_time": "2023-04-21T20:44:47.882Z"
   },
   {
    "duration": 13,
    "start_time": "2023-04-21T20:45:44.517Z"
   },
   {
    "duration": 14,
    "start_time": "2023-04-21T20:46:02.741Z"
   },
   {
    "duration": 15,
    "start_time": "2023-04-21T20:46:19.544Z"
   },
   {
    "duration": 129,
    "start_time": "2023-04-21T20:47:50.898Z"
   },
   {
    "duration": 235,
    "start_time": "2023-04-21T20:47:56.424Z"
   },
   {
    "duration": 1387,
    "start_time": "2023-04-21T20:48:25.512Z"
   },
   {
    "duration": 49,
    "start_time": "2023-04-21T20:48:26.902Z"
   },
   {
    "duration": 45,
    "start_time": "2023-04-21T20:48:26.954Z"
   },
   {
    "duration": 29,
    "start_time": "2023-04-21T20:48:27.001Z"
   },
   {
    "duration": 11,
    "start_time": "2023-04-21T20:48:27.033Z"
   },
   {
    "duration": 12,
    "start_time": "2023-04-21T20:48:27.046Z"
   },
   {
    "duration": 15,
    "start_time": "2023-04-21T20:48:27.060Z"
   },
   {
    "duration": 25,
    "start_time": "2023-04-21T20:48:27.076Z"
   },
   {
    "duration": 39,
    "start_time": "2023-04-21T20:48:27.103Z"
   },
   {
    "duration": 10,
    "start_time": "2023-04-21T20:48:27.144Z"
   },
   {
    "duration": 8,
    "start_time": "2023-04-21T20:48:27.156Z"
   },
   {
    "duration": 6,
    "start_time": "2023-04-21T20:48:27.166Z"
   },
   {
    "duration": 45,
    "start_time": "2023-04-21T20:48:27.175Z"
   },
   {
    "duration": 193,
    "start_time": "2023-04-21T20:48:27.223Z"
   },
   {
    "duration": 160,
    "start_time": "2023-04-21T20:48:27.418Z"
   },
   {
    "duration": 289,
    "start_time": "2023-04-21T20:48:27.580Z"
   },
   {
    "duration": 289,
    "start_time": "2023-04-21T20:48:27.870Z"
   },
   {
    "duration": 233,
    "start_time": "2023-04-21T20:48:28.161Z"
   },
   {
    "duration": 46,
    "start_time": "2023-04-21T20:48:28.396Z"
   },
   {
    "duration": 17,
    "start_time": "2023-04-21T20:48:28.444Z"
   },
   {
    "duration": 1232,
    "start_time": "2023-04-21T20:49:06.478Z"
   },
   {
    "duration": 51,
    "start_time": "2023-04-21T20:49:07.713Z"
   },
   {
    "duration": 48,
    "start_time": "2023-04-21T20:49:07.766Z"
   },
   {
    "duration": 32,
    "start_time": "2023-04-21T20:49:07.815Z"
   },
   {
    "duration": 12,
    "start_time": "2023-04-21T20:49:07.849Z"
   },
   {
    "duration": 11,
    "start_time": "2023-04-21T20:49:07.863Z"
   },
   {
    "duration": 19,
    "start_time": "2023-04-21T20:49:07.876Z"
   },
   {
    "duration": 51,
    "start_time": "2023-04-21T20:49:07.896Z"
   },
   {
    "duration": 11,
    "start_time": "2023-04-21T20:49:07.949Z"
   },
   {
    "duration": 10,
    "start_time": "2023-04-21T20:49:07.962Z"
   },
   {
    "duration": 12,
    "start_time": "2023-04-21T20:49:07.974Z"
   },
   {
    "duration": 9,
    "start_time": "2023-04-21T20:49:07.988Z"
   },
   {
    "duration": 22,
    "start_time": "2023-04-21T20:49:07.999Z"
   },
   {
    "duration": 207,
    "start_time": "2023-04-21T20:49:08.043Z"
   },
   {
    "duration": 167,
    "start_time": "2023-04-21T20:49:08.252Z"
   },
   {
    "duration": 302,
    "start_time": "2023-04-21T20:49:08.421Z"
   },
   {
    "duration": 301,
    "start_time": "2023-04-21T20:49:08.726Z"
   },
   {
    "duration": 285,
    "start_time": "2023-04-21T20:49:09.030Z"
   },
   {
    "duration": 41,
    "start_time": "2023-04-21T20:49:09.318Z"
   },
   {
    "duration": 18,
    "start_time": "2023-04-21T20:49:09.362Z"
   },
   {
    "duration": 262,
    "start_time": "2023-04-21T20:49:09.382Z"
   },
   {
    "duration": 119,
    "start_time": "2023-04-21T20:49:09.645Z"
   },
   {
    "duration": 0,
    "start_time": "2023-04-21T20:49:09.766Z"
   },
   {
    "duration": 0,
    "start_time": "2023-04-21T20:49:09.767Z"
   },
   {
    "duration": 0,
    "start_time": "2023-04-21T20:49:09.768Z"
   },
   {
    "duration": 1335,
    "start_time": "2023-04-21T20:50:13.806Z"
   },
   {
    "duration": 1266,
    "start_time": "2023-04-21T20:51:20.942Z"
   },
   {
    "duration": 8,
    "start_time": "2023-04-21T20:51:50.701Z"
   },
   {
    "duration": 22,
    "start_time": "2023-04-21T20:51:58.834Z"
   },
   {
    "duration": 265,
    "start_time": "2023-04-21T20:52:04.987Z"
   },
   {
    "duration": 15,
    "start_time": "2023-04-21T20:52:08.479Z"
   },
   {
    "duration": 1321,
    "start_time": "2023-04-21T20:52:55.370Z"
   },
   {
    "duration": 52,
    "start_time": "2023-04-21T20:52:56.694Z"
   },
   {
    "duration": 45,
    "start_time": "2023-04-21T20:52:56.748Z"
   },
   {
    "duration": 29,
    "start_time": "2023-04-21T20:52:56.794Z"
   },
   {
    "duration": 11,
    "start_time": "2023-04-21T20:52:56.825Z"
   },
   {
    "duration": 7,
    "start_time": "2023-04-21T20:52:56.842Z"
   },
   {
    "duration": 28,
    "start_time": "2023-04-21T20:52:56.850Z"
   },
   {
    "duration": 26,
    "start_time": "2023-04-21T20:52:56.880Z"
   },
   {
    "duration": 12,
    "start_time": "2023-04-21T20:52:56.907Z"
   },
   {
    "duration": 10,
    "start_time": "2023-04-21T20:52:56.940Z"
   },
   {
    "duration": 10,
    "start_time": "2023-04-21T20:52:56.951Z"
   },
   {
    "duration": 13,
    "start_time": "2023-04-21T20:52:56.963Z"
   },
   {
    "duration": 9,
    "start_time": "2023-04-21T20:52:56.978Z"
   },
   {
    "duration": 203,
    "start_time": "2023-04-21T20:52:56.990Z"
   },
   {
    "duration": 173,
    "start_time": "2023-04-21T20:52:57.195Z"
   },
   {
    "duration": 285,
    "start_time": "2023-04-21T20:52:57.370Z"
   },
   {
    "duration": 292,
    "start_time": "2023-04-21T20:52:57.657Z"
   },
   {
    "duration": 1329,
    "start_time": "2023-04-21T20:52:57.951Z"
   },
   {
    "duration": 0,
    "start_time": "2023-04-21T20:52:59.282Z"
   },
   {
    "duration": 0,
    "start_time": "2023-04-21T20:52:59.283Z"
   },
   {
    "duration": 0,
    "start_time": "2023-04-21T20:52:59.284Z"
   },
   {
    "duration": 0,
    "start_time": "2023-04-21T20:52:59.285Z"
   },
   {
    "duration": 0,
    "start_time": "2023-04-21T20:52:59.286Z"
   },
   {
    "duration": 0,
    "start_time": "2023-04-21T20:52:59.287Z"
   },
   {
    "duration": 0,
    "start_time": "2023-04-21T20:52:59.288Z"
   },
   {
    "duration": 234,
    "start_time": "2023-04-21T20:53:12.050Z"
   },
   {
    "duration": 34,
    "start_time": "2023-04-21T20:53:26.950Z"
   },
   {
    "duration": 46,
    "start_time": "2023-04-21T20:53:32.397Z"
   },
   {
    "duration": 17,
    "start_time": "2023-04-21T20:53:34.715Z"
   },
   {
    "duration": 224,
    "start_time": "2023-04-21T20:53:36.810Z"
   },
   {
    "duration": 1195,
    "start_time": "2023-04-21T20:53:39.771Z"
   },
   {
    "duration": 1425,
    "start_time": "2023-04-21T20:53:52.198Z"
   },
   {
    "duration": 1273,
    "start_time": "2023-04-21T20:54:01.339Z"
   },
   {
    "duration": 24,
    "start_time": "2023-04-21T20:54:15.431Z"
   },
   {
    "duration": 104,
    "start_time": "2023-04-22T04:54:17.260Z"
   },
   {
    "duration": 73,
    "start_time": "2023-04-22T04:54:21.435Z"
   },
   {
    "duration": 3,
    "start_time": "2023-04-22T04:54:33.809Z"
   },
   {
    "duration": 71,
    "start_time": "2023-04-22T04:54:43.668Z"
   },
   {
    "duration": 3,
    "start_time": "2023-04-22T04:55:03.332Z"
   },
   {
    "duration": 75,
    "start_time": "2023-04-22T04:55:08.755Z"
   },
   {
    "duration": 70,
    "start_time": "2023-04-22T04:55:16.886Z"
   },
   {
    "duration": 74,
    "start_time": "2023-04-22T04:55:19.926Z"
   },
   {
    "duration": 4,
    "start_time": "2023-04-22T06:43:18.796Z"
   },
   {
    "duration": 38,
    "start_time": "2023-04-22T06:43:54.516Z"
   },
   {
    "duration": 1334,
    "start_time": "2023-04-22T06:44:01.799Z"
   },
   {
    "duration": 93,
    "start_time": "2023-04-22T06:44:03.136Z"
   },
   {
    "duration": 78,
    "start_time": "2023-04-22T06:44:03.230Z"
   },
   {
    "duration": 62,
    "start_time": "2023-04-22T06:44:03.310Z"
   },
   {
    "duration": 8,
    "start_time": "2023-04-22T06:44:03.374Z"
   },
   {
    "duration": 18,
    "start_time": "2023-04-22T06:44:03.383Z"
   },
   {
    "duration": 27,
    "start_time": "2023-04-22T06:44:03.402Z"
   },
   {
    "duration": 19,
    "start_time": "2023-04-22T06:44:03.431Z"
   },
   {
    "duration": 9,
    "start_time": "2023-04-22T06:44:03.452Z"
   },
   {
    "duration": 7,
    "start_time": "2023-04-22T06:44:03.464Z"
   },
   {
    "duration": 13,
    "start_time": "2023-04-22T06:44:03.472Z"
   },
   {
    "duration": 15,
    "start_time": "2023-04-22T06:44:03.486Z"
   },
   {
    "duration": 15,
    "start_time": "2023-04-22T06:44:03.502Z"
   },
   {
    "duration": 160,
    "start_time": "2023-04-22T06:44:03.518Z"
   },
   {
    "duration": 137,
    "start_time": "2023-04-22T06:44:03.679Z"
   },
   {
    "duration": 252,
    "start_time": "2023-04-22T06:44:03.818Z"
   },
   {
    "duration": 252,
    "start_time": "2023-04-22T06:44:04.071Z"
   },
   {
    "duration": 204,
    "start_time": "2023-04-22T06:44:04.332Z"
   },
   {
    "duration": 28,
    "start_time": "2023-04-22T06:44:04.538Z"
   },
   {
    "duration": 16,
    "start_time": "2023-04-22T06:44:04.568Z"
   },
   {
    "duration": 213,
    "start_time": "2023-04-22T06:44:04.586Z"
   },
   {
    "duration": 4,
    "start_time": "2023-04-22T06:44:04.801Z"
   },
   {
    "duration": 38,
    "start_time": "2023-04-22T06:44:04.807Z"
   },
   {
    "duration": 230,
    "start_time": "2023-04-22T06:44:04.847Z"
   },
   {
    "duration": 107,
    "start_time": "2023-04-22T06:44:05.078Z"
   },
   {
    "duration": 10,
    "start_time": "2023-04-22T06:44:27.897Z"
   },
   {
    "duration": 3,
    "start_time": "2023-04-22T06:45:36.497Z"
   },
   {
    "duration": 4,
    "start_time": "2023-04-22T06:46:00.899Z"
   },
   {
    "duration": 182,
    "start_time": "2023-04-22T06:47:29.049Z"
   },
   {
    "duration": 248,
    "start_time": "2023-04-22T06:48:04.661Z"
   },
   {
    "duration": 11,
    "start_time": "2023-04-22T06:48:45.584Z"
   },
   {
    "duration": 15,
    "start_time": "2023-04-22T06:49:07.601Z"
   },
   {
    "duration": 11,
    "start_time": "2023-04-22T06:49:32.875Z"
   },
   {
    "duration": 88,
    "start_time": "2023-04-22T06:50:33.052Z"
   },
   {
    "duration": 4,
    "start_time": "2023-04-22T06:50:48.618Z"
   },
   {
    "duration": 4,
    "start_time": "2023-04-22T06:50:55.478Z"
   },
   {
    "duration": 3,
    "start_time": "2023-04-22T06:58:41.217Z"
   },
   {
    "duration": 102,
    "start_time": "2023-04-22T06:59:03.747Z"
   },
   {
    "duration": 4,
    "start_time": "2023-04-22T06:59:10.604Z"
   },
   {
    "duration": 4,
    "start_time": "2023-04-22T07:20:11.545Z"
   },
   {
    "duration": 4,
    "start_time": "2023-04-22T07:20:17.350Z"
   },
   {
    "duration": 11,
    "start_time": "2023-04-22T07:22:54.125Z"
   },
   {
    "duration": 122,
    "start_time": "2023-04-22T07:23:11.530Z"
   },
   {
    "duration": 1266,
    "start_time": "2023-04-22T07:23:30.701Z"
   },
   {
    "duration": 50,
    "start_time": "2023-04-22T07:23:31.969Z"
   },
   {
    "duration": 53,
    "start_time": "2023-04-22T07:23:32.020Z"
   },
   {
    "duration": 28,
    "start_time": "2023-04-22T07:23:32.074Z"
   },
   {
    "duration": 31,
    "start_time": "2023-04-22T07:23:32.105Z"
   },
   {
    "duration": 36,
    "start_time": "2023-04-22T07:23:32.139Z"
   },
   {
    "duration": 35,
    "start_time": "2023-04-22T07:23:32.176Z"
   },
   {
    "duration": 33,
    "start_time": "2023-04-22T07:23:32.213Z"
   },
   {
    "duration": 17,
    "start_time": "2023-04-22T07:23:32.248Z"
   },
   {
    "duration": 23,
    "start_time": "2023-04-22T07:23:32.267Z"
   },
   {
    "duration": 32,
    "start_time": "2023-04-22T07:23:32.293Z"
   },
   {
    "duration": 33,
    "start_time": "2023-04-22T07:23:32.327Z"
   },
   {
    "duration": 26,
    "start_time": "2023-04-22T07:23:32.362Z"
   },
   {
    "duration": 237,
    "start_time": "2023-04-22T07:23:32.391Z"
   },
   {
    "duration": 165,
    "start_time": "2023-04-22T07:23:32.630Z"
   },
   {
    "duration": 321,
    "start_time": "2023-04-22T07:23:32.797Z"
   },
   {
    "duration": 304,
    "start_time": "2023-04-22T07:23:33.119Z"
   },
   {
    "duration": 249,
    "start_time": "2023-04-22T07:23:33.425Z"
   },
   {
    "duration": 30,
    "start_time": "2023-04-22T07:23:33.675Z"
   },
   {
    "duration": 36,
    "start_time": "2023-04-22T07:23:33.706Z"
   },
   {
    "duration": 242,
    "start_time": "2023-04-22T07:23:33.744Z"
   },
   {
    "duration": 3,
    "start_time": "2023-04-22T07:23:33.988Z"
   },
   {
    "duration": 66,
    "start_time": "2023-04-22T07:23:33.993Z"
   },
   {
    "duration": 265,
    "start_time": "2023-04-22T07:23:34.061Z"
   },
   {
    "duration": 293,
    "start_time": "2023-04-22T07:23:34.328Z"
   },
   {
    "duration": 38,
    "start_time": "2023-04-22T07:23:34.623Z"
   },
   {
    "duration": 1155,
    "start_time": "2023-04-22T07:24:21.245Z"
   },
   {
    "duration": 52,
    "start_time": "2023-04-22T07:24:22.402Z"
   },
   {
    "duration": 40,
    "start_time": "2023-04-22T07:24:22.455Z"
   },
   {
    "duration": 26,
    "start_time": "2023-04-22T07:24:22.496Z"
   },
   {
    "duration": 11,
    "start_time": "2023-04-22T07:24:22.524Z"
   },
   {
    "duration": 29,
    "start_time": "2023-04-22T07:24:22.537Z"
   },
   {
    "duration": 13,
    "start_time": "2023-04-22T07:24:22.568Z"
   },
   {
    "duration": 19,
    "start_time": "2023-04-22T07:24:22.583Z"
   },
   {
    "duration": 9,
    "start_time": "2023-04-22T07:24:22.603Z"
   },
   {
    "duration": 7,
    "start_time": "2023-04-22T07:24:22.614Z"
   },
   {
    "duration": 11,
    "start_time": "2023-04-22T07:24:22.623Z"
   },
   {
    "duration": 17,
    "start_time": "2023-04-22T07:24:22.636Z"
   },
   {
    "duration": 15,
    "start_time": "2023-04-22T07:24:22.655Z"
   },
   {
    "duration": 165,
    "start_time": "2023-04-22T07:24:22.672Z"
   },
   {
    "duration": 147,
    "start_time": "2023-04-22T07:24:22.839Z"
   },
   {
    "duration": 279,
    "start_time": "2023-04-22T07:24:22.988Z"
   },
   {
    "duration": 254,
    "start_time": "2023-04-22T07:24:23.269Z"
   },
   {
    "duration": 216,
    "start_time": "2023-04-22T07:24:23.525Z"
   },
   {
    "duration": 30,
    "start_time": "2023-04-22T07:24:23.744Z"
   },
   {
    "duration": 15,
    "start_time": "2023-04-22T07:24:23.775Z"
   },
   {
    "duration": 237,
    "start_time": "2023-04-22T07:24:23.791Z"
   },
   {
    "duration": 10,
    "start_time": "2023-04-22T07:24:24.036Z"
   },
   {
    "duration": 45,
    "start_time": "2023-04-22T07:24:24.048Z"
   },
   {
    "duration": 246,
    "start_time": "2023-04-22T07:24:24.094Z"
   },
   {
    "duration": 272,
    "start_time": "2023-04-22T07:24:24.341Z"
   },
   {
    "duration": 39,
    "start_time": "2023-04-22T07:24:24.615Z"
   },
   {
    "duration": 4,
    "start_time": "2023-04-22T07:25:07.012Z"
   },
   {
    "duration": 9606,
    "start_time": "2023-04-22T07:25:46.041Z"
   },
   {
    "duration": 121,
    "start_time": "2023-04-22T07:26:32.889Z"
   },
   {
    "duration": 10097,
    "start_time": "2023-04-22T07:26:50.338Z"
   },
   {
    "duration": 4,
    "start_time": "2023-04-22T07:28:17.622Z"
   },
   {
    "duration": 1072,
    "start_time": "2023-04-22T07:28:24.552Z"
   },
   {
    "duration": 43,
    "start_time": "2023-04-22T07:28:25.625Z"
   },
   {
    "duration": 38,
    "start_time": "2023-04-22T07:28:25.670Z"
   },
   {
    "duration": 24,
    "start_time": "2023-04-22T07:28:25.710Z"
   },
   {
    "duration": 8,
    "start_time": "2023-04-22T07:28:25.736Z"
   },
   {
    "duration": 12,
    "start_time": "2023-04-22T07:28:25.745Z"
   },
   {
    "duration": 16,
    "start_time": "2023-04-22T07:28:25.758Z"
   },
   {
    "duration": 20,
    "start_time": "2023-04-22T07:28:25.775Z"
   },
   {
    "duration": 9,
    "start_time": "2023-04-22T07:28:25.797Z"
   },
   {
    "duration": 27,
    "start_time": "2023-04-22T07:28:25.808Z"
   },
   {
    "duration": 6,
    "start_time": "2023-04-22T07:28:25.837Z"
   },
   {
    "duration": 10,
    "start_time": "2023-04-22T07:28:25.845Z"
   },
   {
    "duration": 16,
    "start_time": "2023-04-22T07:28:25.856Z"
   },
   {
    "duration": 161,
    "start_time": "2023-04-22T07:28:25.874Z"
   },
   {
    "duration": 140,
    "start_time": "2023-04-22T07:28:26.037Z"
   },
   {
    "duration": 258,
    "start_time": "2023-04-22T07:28:26.179Z"
   },
   {
    "duration": 254,
    "start_time": "2023-04-22T07:28:26.439Z"
   },
   {
    "duration": 268,
    "start_time": "2023-04-22T07:28:26.695Z"
   },
   {
    "duration": 27,
    "start_time": "2023-04-22T07:28:26.964Z"
   },
   {
    "duration": 13,
    "start_time": "2023-04-22T07:28:26.992Z"
   },
   {
    "duration": 219,
    "start_time": "2023-04-22T07:28:27.007Z"
   },
   {
    "duration": 5,
    "start_time": "2023-04-22T07:28:27.232Z"
   },
   {
    "duration": 24,
    "start_time": "2023-04-22T07:28:27.238Z"
   },
   {
    "duration": 231,
    "start_time": "2023-04-22T07:28:27.263Z"
   },
   {
    "duration": 10145,
    "start_time": "2023-04-22T07:28:27.495Z"
   },
   {
    "duration": 40,
    "start_time": "2023-04-22T07:28:37.642Z"
   },
   {
    "duration": 10111,
    "start_time": "2023-04-22T07:29:06.681Z"
   },
   {
    "duration": 200,
    "start_time": "2023-04-22T07:29:29.941Z"
   },
   {
    "duration": 263,
    "start_time": "2023-04-22T07:29:53.235Z"
   },
   {
    "duration": 12,
    "start_time": "2023-04-22T07:34:33.073Z"
   },
   {
    "duration": 1211,
    "start_time": "2023-04-22T07:34:45.365Z"
   },
   {
    "duration": 56,
    "start_time": "2023-04-22T07:34:46.580Z"
   },
   {
    "duration": 52,
    "start_time": "2023-04-22T07:34:46.637Z"
   },
   {
    "duration": 30,
    "start_time": "2023-04-22T07:34:46.692Z"
   },
   {
    "duration": 16,
    "start_time": "2023-04-22T07:34:46.723Z"
   },
   {
    "duration": 11,
    "start_time": "2023-04-22T07:34:46.741Z"
   },
   {
    "duration": 30,
    "start_time": "2023-04-22T07:34:46.754Z"
   },
   {
    "duration": 30,
    "start_time": "2023-04-22T07:34:46.786Z"
   },
   {
    "duration": 27,
    "start_time": "2023-04-22T07:34:46.818Z"
   },
   {
    "duration": 9,
    "start_time": "2023-04-22T07:34:46.848Z"
   },
   {
    "duration": 6,
    "start_time": "2023-04-22T07:34:46.859Z"
   },
   {
    "duration": 6,
    "start_time": "2023-04-22T07:34:46.867Z"
   },
   {
    "duration": 8,
    "start_time": "2023-04-22T07:34:46.875Z"
   },
   {
    "duration": 204,
    "start_time": "2023-04-22T07:34:46.885Z"
   },
   {
    "duration": 155,
    "start_time": "2023-04-22T07:34:47.091Z"
   },
   {
    "duration": 286,
    "start_time": "2023-04-22T07:34:47.248Z"
   },
   {
    "duration": 261,
    "start_time": "2023-04-22T07:34:47.536Z"
   },
   {
    "duration": 230,
    "start_time": "2023-04-22T07:34:47.799Z"
   },
   {
    "duration": 33,
    "start_time": "2023-04-22T07:34:48.032Z"
   },
   {
    "duration": 16,
    "start_time": "2023-04-22T07:34:48.066Z"
   },
   {
    "duration": 227,
    "start_time": "2023-04-22T07:34:48.083Z"
   },
   {
    "duration": 3,
    "start_time": "2023-04-22T07:34:48.312Z"
   },
   {
    "duration": 30,
    "start_time": "2023-04-22T07:34:48.317Z"
   },
   {
    "duration": 237,
    "start_time": "2023-04-22T07:34:48.349Z"
   },
   {
    "duration": 386,
    "start_time": "2023-04-22T07:34:48.587Z"
   },
   {
    "duration": 12,
    "start_time": "2023-04-22T07:34:48.975Z"
   },
   {
    "duration": 16,
    "start_time": "2023-04-22T07:35:09.541Z"
   },
   {
    "duration": 31,
    "start_time": "2023-04-22T07:35:23.241Z"
   },
   {
    "duration": 8523,
    "start_time": "2023-04-22T07:35:46.138Z"
   },
   {
    "duration": 238,
    "start_time": "2023-04-22T07:36:09.954Z"
   },
   {
    "duration": 8,
    "start_time": "2023-04-22T08:11:27.809Z"
   },
   {
    "duration": 99,
    "start_time": "2023-04-22T08:12:37.808Z"
   },
   {
    "duration": 8,
    "start_time": "2023-04-22T08:12:46.312Z"
   },
   {
    "duration": 9,
    "start_time": "2023-04-22T08:16:28.847Z"
   },
   {
    "duration": 24,
    "start_time": "2023-04-22T08:22:06.403Z"
   },
   {
    "duration": 163,
    "start_time": "2023-04-22T08:22:13.672Z"
   },
   {
    "duration": 1337,
    "start_time": "2023-04-22T09:46:16.099Z"
   },
   {
    "duration": 171,
    "start_time": "2023-04-22T09:46:27.511Z"
   },
   {
    "duration": 230,
    "start_time": "2023-04-22T09:46:47.745Z"
   },
   {
    "duration": 384,
    "start_time": "2023-04-22T09:47:36.700Z"
   },
   {
    "duration": 302,
    "start_time": "2023-04-22T09:47:45.408Z"
   },
   {
    "duration": 250,
    "start_time": "2023-04-22T09:48:44.234Z"
   },
   {
    "duration": 268,
    "start_time": "2023-04-22T09:49:42.532Z"
   },
   {
    "duration": 17,
    "start_time": "2023-04-22T09:58:33.370Z"
   },
   {
    "duration": 16,
    "start_time": "2023-04-22T09:58:48.370Z"
   },
   {
    "duration": 258,
    "start_time": "2023-04-22T09:59:17.026Z"
   },
   {
    "duration": 15,
    "start_time": "2023-04-22T09:59:43.411Z"
   },
   {
    "duration": 25,
    "start_time": "2023-04-22T10:00:17.430Z"
   },
   {
    "duration": 12,
    "start_time": "2023-04-22T10:01:41.171Z"
   },
   {
    "duration": 4,
    "start_time": "2023-04-22T10:02:47.920Z"
   },
   {
    "duration": 30,
    "start_time": "2023-04-22T10:04:23.628Z"
   },
   {
    "duration": 16,
    "start_time": "2023-04-22T10:05:23.676Z"
   },
   {
    "duration": 6,
    "start_time": "2023-04-22T10:05:36.158Z"
   },
   {
    "duration": 14,
    "start_time": "2023-04-22T10:05:45.669Z"
   },
   {
    "duration": 17,
    "start_time": "2023-04-22T10:07:27.221Z"
   },
   {
    "duration": 15,
    "start_time": "2023-04-22T10:08:08.953Z"
   },
   {
    "duration": 10,
    "start_time": "2023-04-22T10:08:25.804Z"
   },
   {
    "duration": 12,
    "start_time": "2023-04-22T10:08:33.945Z"
   },
   {
    "duration": 13,
    "start_time": "2023-04-22T10:08:37.551Z"
   },
   {
    "duration": 267,
    "start_time": "2023-04-22T10:15:02.970Z"
   },
   {
    "duration": 280,
    "start_time": "2023-04-22T10:15:17.232Z"
   },
   {
    "duration": 299,
    "start_time": "2023-04-22T10:15:23.146Z"
   },
   {
    "duration": 269,
    "start_time": "2023-04-22T10:15:33.424Z"
   },
   {
    "duration": 218,
    "start_time": "2023-04-22T10:15:59.574Z"
   },
   {
    "duration": 40,
    "start_time": "2023-04-22T10:17:21.113Z"
   },
   {
    "duration": 19,
    "start_time": "2023-04-22T10:17:39.263Z"
   },
   {
    "duration": 12,
    "start_time": "2023-04-22T10:17:47.608Z"
   },
   {
    "duration": 15,
    "start_time": "2023-04-22T10:18:10.847Z"
   },
   {
    "duration": 258,
    "start_time": "2023-04-22T10:19:32.634Z"
   },
   {
    "duration": 280,
    "start_time": "2023-04-22T10:19:51.365Z"
   },
   {
    "duration": 417,
    "start_time": "2023-04-22T10:20:05.904Z"
   },
   {
    "duration": 299,
    "start_time": "2023-04-22T10:20:14.602Z"
   },
   {
    "duration": 331,
    "start_time": "2023-04-22T10:20:29.417Z"
   },
   {
    "duration": 316,
    "start_time": "2023-04-22T10:20:38.247Z"
   },
   {
    "duration": 14,
    "start_time": "2023-04-22T10:26:28.333Z"
   },
   {
    "duration": 16,
    "start_time": "2023-04-22T10:27:57.555Z"
   },
   {
    "duration": 17,
    "start_time": "2023-04-22T10:28:24.702Z"
   },
   {
    "duration": 89,
    "start_time": "2023-04-22T10:29:01.408Z"
   },
   {
    "duration": 1268,
    "start_time": "2023-04-22T10:29:21.298Z"
   },
   {
    "duration": 14,
    "start_time": "2023-04-22T10:29:30.346Z"
   },
   {
    "duration": 17,
    "start_time": "2023-04-22T10:30:17.926Z"
   },
   {
    "duration": 3,
    "start_time": "2023-04-22T10:33:18.822Z"
   },
   {
    "duration": 4,
    "start_time": "2023-04-22T10:33:22.008Z"
   },
   {
    "duration": 4,
    "start_time": "2023-04-22T10:33:34.903Z"
   },
   {
    "duration": 11,
    "start_time": "2023-04-22T10:33:51.446Z"
   },
   {
    "duration": 13,
    "start_time": "2023-04-22T10:36:32.538Z"
   },
   {
    "duration": 13,
    "start_time": "2023-04-22T10:37:27.744Z"
   },
   {
    "duration": 4,
    "start_time": "2023-04-22T10:38:53.399Z"
   },
   {
    "duration": 14,
    "start_time": "2023-04-22T10:39:01.213Z"
   },
   {
    "duration": 12,
    "start_time": "2023-04-22T10:39:37.535Z"
   },
   {
    "duration": 10,
    "start_time": "2023-04-22T10:39:47.326Z"
   },
   {
    "duration": 10,
    "start_time": "2023-04-22T10:39:51.795Z"
   },
   {
    "duration": 10,
    "start_time": "2023-04-22T10:39:54.682Z"
   },
   {
    "duration": 9,
    "start_time": "2023-04-22T10:40:47.198Z"
   },
   {
    "duration": 13,
    "start_time": "2023-04-22T11:23:26.718Z"
   },
   {
    "duration": 9,
    "start_time": "2023-04-22T11:35:38.500Z"
   },
   {
    "duration": 7,
    "start_time": "2023-04-22T11:35:50.438Z"
   },
   {
    "duration": 9,
    "start_time": "2023-04-22T11:37:08.832Z"
   },
   {
    "duration": 294,
    "start_time": "2023-04-22T11:39:23.932Z"
   },
   {
    "duration": 50,
    "start_time": "2023-04-22T12:20:40.841Z"
   },
   {
    "duration": 6,
    "start_time": "2023-04-22T12:21:22.116Z"
   },
   {
    "duration": 9,
    "start_time": "2023-04-22T12:21:35.377Z"
   },
   {
    "duration": 9,
    "start_time": "2023-04-22T12:22:39.416Z"
   },
   {
    "duration": 312,
    "start_time": "2023-04-22T12:22:48.493Z"
   },
   {
    "duration": 11,
    "start_time": "2023-04-22T12:22:56.036Z"
   },
   {
    "duration": 9,
    "start_time": "2023-04-22T12:51:24.200Z"
   },
   {
    "duration": 11,
    "start_time": "2023-04-22T12:52:01.374Z"
   },
   {
    "duration": 103,
    "start_time": "2023-04-22T12:53:05.938Z"
   },
   {
    "duration": 8,
    "start_time": "2023-04-22T12:53:13.354Z"
   },
   {
    "duration": 10,
    "start_time": "2023-04-22T12:53:22.962Z"
   },
   {
    "duration": 1213,
    "start_time": "2023-04-22T12:54:27.810Z"
   },
   {
    "duration": 11,
    "start_time": "2023-04-22T12:55:16.347Z"
   },
   {
    "duration": 84,
    "start_time": "2023-04-22T12:55:24.175Z"
   },
   {
    "duration": 9,
    "start_time": "2023-04-22T12:55:37.211Z"
   },
   {
    "duration": 11,
    "start_time": "2023-04-22T12:55:53.852Z"
   },
   {
    "duration": 23,
    "start_time": "2023-04-22T12:56:09.028Z"
   },
   {
    "duration": 547,
    "start_time": "2023-04-22T12:56:24.928Z"
   },
   {
    "duration": 75,
    "start_time": "2023-04-22T14:01:08.705Z"
   },
   {
    "duration": 101,
    "start_time": "2023-04-22T14:01:22.361Z"
   },
   {
    "duration": 78,
    "start_time": "2023-04-22T14:01:49.262Z"
   },
   {
    "duration": 8,
    "start_time": "2023-04-22T14:08:11.628Z"
   },
   {
    "duration": 7,
    "start_time": "2023-04-22T14:08:18.280Z"
   },
   {
    "duration": 8,
    "start_time": "2023-04-22T14:08:38.109Z"
   },
   {
    "duration": 85,
    "start_time": "2023-04-22T14:09:00.535Z"
   },
   {
    "duration": 8,
    "start_time": "2023-04-22T14:09:05.750Z"
   },
   {
    "duration": 12,
    "start_time": "2023-04-22T14:10:24.300Z"
   },
   {
    "duration": 9,
    "start_time": "2023-04-22T14:13:20.721Z"
   },
   {
    "duration": 13,
    "start_time": "2023-04-22T14:13:37.679Z"
   },
   {
    "duration": 88,
    "start_time": "2023-04-22T14:20:47.824Z"
   },
   {
    "duration": 78,
    "start_time": "2023-04-22T14:20:59.403Z"
   },
   {
    "duration": 14,
    "start_time": "2023-04-22T14:21:06.720Z"
   },
   {
    "duration": 10,
    "start_time": "2023-04-22T14:23:26.132Z"
   },
   {
    "duration": 14,
    "start_time": "2023-04-22T14:23:43.284Z"
   },
   {
    "duration": 10,
    "start_time": "2023-04-22T14:24:04.425Z"
   },
   {
    "duration": 80,
    "start_time": "2023-04-22T14:24:06.211Z"
   },
   {
    "duration": 11,
    "start_time": "2023-04-22T14:24:12.624Z"
   },
   {
    "duration": 23,
    "start_time": "2023-04-22T14:24:18.337Z"
   },
   {
    "duration": 15,
    "start_time": "2023-04-22T14:25:38.318Z"
   },
   {
    "duration": 22,
    "start_time": "2023-04-22T14:26:14.315Z"
   },
   {
    "duration": 17,
    "start_time": "2023-04-22T14:26:36.847Z"
   },
   {
    "duration": 18,
    "start_time": "2023-04-22T14:27:24.825Z"
   },
   {
    "duration": 21,
    "start_time": "2023-04-22T14:43:11.697Z"
   },
   {
    "duration": 12,
    "start_time": "2023-04-22T14:47:52.012Z"
   },
   {
    "duration": 11,
    "start_time": "2023-04-22T14:47:57.925Z"
   },
   {
    "duration": 11,
    "start_time": "2023-04-22T14:48:06.140Z"
   },
   {
    "duration": 12,
    "start_time": "2023-04-22T14:48:45.232Z"
   },
   {
    "duration": 681,
    "start_time": "2023-04-22T14:48:57.854Z"
   },
   {
    "duration": 11,
    "start_time": "2023-04-22T14:52:33.898Z"
   },
   {
    "duration": 635,
    "start_time": "2023-04-22T14:55:28.228Z"
   },
   {
    "duration": 15,
    "start_time": "2023-04-22T14:57:43.075Z"
   },
   {
    "duration": 15,
    "start_time": "2023-04-22T14:58:10.057Z"
   },
   {
    "duration": 597,
    "start_time": "2023-04-22T15:00:49.507Z"
   },
   {
    "duration": 305,
    "start_time": "2023-04-22T15:01:03.269Z"
   },
   {
    "duration": 5,
    "start_time": "2023-04-22T15:01:49.520Z"
   },
   {
    "duration": 8,
    "start_time": "2023-04-22T15:02:07.826Z"
   },
   {
    "duration": 27,
    "start_time": "2023-04-22T15:12:22.656Z"
   },
   {
    "duration": 124,
    "start_time": "2023-04-22T15:14:17.949Z"
   },
   {
    "duration": 1142,
    "start_time": "2023-04-22T15:17:02.185Z"
   },
   {
    "duration": 44,
    "start_time": "2023-04-22T15:17:03.328Z"
   },
   {
    "duration": 39,
    "start_time": "2023-04-22T15:17:03.373Z"
   },
   {
    "duration": 25,
    "start_time": "2023-04-22T15:17:03.414Z"
   },
   {
    "duration": 9,
    "start_time": "2023-04-22T15:17:03.440Z"
   },
   {
    "duration": 27,
    "start_time": "2023-04-22T15:17:03.450Z"
   },
   {
    "duration": 13,
    "start_time": "2023-04-22T15:17:03.478Z"
   },
   {
    "duration": 22,
    "start_time": "2023-04-22T15:17:03.492Z"
   },
   {
    "duration": 8,
    "start_time": "2023-04-22T15:17:03.515Z"
   },
   {
    "duration": 12,
    "start_time": "2023-04-22T15:17:03.532Z"
   },
   {
    "duration": 16,
    "start_time": "2023-04-22T15:17:03.545Z"
   },
   {
    "duration": 9,
    "start_time": "2023-04-22T15:17:03.563Z"
   },
   {
    "duration": 22,
    "start_time": "2023-04-22T15:17:03.573Z"
   },
   {
    "duration": 176,
    "start_time": "2023-04-22T15:17:03.596Z"
   },
   {
    "duration": 138,
    "start_time": "2023-04-22T15:17:03.773Z"
   },
   {
    "duration": 300,
    "start_time": "2023-04-22T15:17:03.914Z"
   },
   {
    "duration": 255,
    "start_time": "2023-04-22T15:17:04.216Z"
   },
   {
    "duration": 210,
    "start_time": "2023-04-22T15:17:04.472Z"
   },
   {
    "duration": 29,
    "start_time": "2023-04-22T15:17:04.684Z"
   },
   {
    "duration": 30,
    "start_time": "2023-04-22T15:17:04.715Z"
   },
   {
    "duration": 201,
    "start_time": "2023-04-22T15:17:04.747Z"
   },
   {
    "duration": 1244,
    "start_time": "2023-04-22T15:17:04.949Z"
   },
   {
    "duration": 0,
    "start_time": "2023-04-22T15:17:06.194Z"
   },
   {
    "duration": 0,
    "start_time": "2023-04-22T15:17:06.195Z"
   },
   {
    "duration": 0,
    "start_time": "2023-04-22T15:17:06.197Z"
   },
   {
    "duration": 0,
    "start_time": "2023-04-22T15:17:06.198Z"
   },
   {
    "duration": 0,
    "start_time": "2023-04-22T15:17:06.199Z"
   },
   {
    "duration": 0,
    "start_time": "2023-04-22T15:17:06.200Z"
   },
   {
    "duration": 0,
    "start_time": "2023-04-22T15:17:06.200Z"
   },
   {
    "duration": 0,
    "start_time": "2023-04-22T15:17:06.201Z"
   },
   {
    "duration": 0,
    "start_time": "2023-04-22T15:17:06.203Z"
   },
   {
    "duration": 0,
    "start_time": "2023-04-22T15:17:06.204Z"
   },
   {
    "duration": 1403,
    "start_time": "2023-04-22T15:17:37.109Z"
   },
   {
    "duration": 1521,
    "start_time": "2023-04-22T15:18:02.050Z"
   },
   {
    "duration": 4,
    "start_time": "2023-04-22T15:18:06.127Z"
   },
   {
    "duration": 1545,
    "start_time": "2023-04-22T15:18:07.655Z"
   },
   {
    "duration": 9,
    "start_time": "2023-04-22T15:18:51.854Z"
   },
   {
    "duration": 15,
    "start_time": "2023-04-22T15:18:59.305Z"
   },
   {
    "duration": 250,
    "start_time": "2023-04-22T15:19:01.027Z"
   },
   {
    "duration": 1182,
    "start_time": "2023-04-22T15:19:07.744Z"
   },
   {
    "duration": 1131,
    "start_time": "2023-04-22T15:19:26.107Z"
   },
   {
    "duration": 3,
    "start_time": "2023-04-22T15:19:34.168Z"
   },
   {
    "duration": 1410,
    "start_time": "2023-04-22T15:19:34.554Z"
   },
   {
    "duration": 1497,
    "start_time": "2023-04-22T15:20:07.752Z"
   },
   {
    "duration": 14,
    "start_time": "2023-04-22T15:20:42.290Z"
   },
   {
    "duration": 202,
    "start_time": "2023-04-22T15:20:43.300Z"
   },
   {
    "duration": 312,
    "start_time": "2023-04-22T15:20:46.889Z"
   },
   {
    "duration": 249,
    "start_time": "2023-04-22T15:20:52.762Z"
   },
   {
    "duration": 30,
    "start_time": "2023-04-22T15:20:59.751Z"
   },
   {
    "duration": 1075,
    "start_time": "2023-04-22T15:21:04.544Z"
   },
   {
    "duration": 44,
    "start_time": "2023-04-22T15:21:05.620Z"
   },
   {
    "duration": 39,
    "start_time": "2023-04-22T15:21:05.665Z"
   },
   {
    "duration": 24,
    "start_time": "2023-04-22T15:21:05.706Z"
   },
   {
    "duration": 8,
    "start_time": "2023-04-22T15:21:05.731Z"
   },
   {
    "duration": 7,
    "start_time": "2023-04-22T15:21:05.741Z"
   },
   {
    "duration": 18,
    "start_time": "2023-04-22T15:21:05.749Z"
   },
   {
    "duration": 21,
    "start_time": "2023-04-22T15:21:05.768Z"
   },
   {
    "duration": 7,
    "start_time": "2023-04-22T15:21:05.791Z"
   },
   {
    "duration": 15,
    "start_time": "2023-04-22T15:21:05.801Z"
   },
   {
    "duration": 8,
    "start_time": "2023-04-22T15:21:05.817Z"
   },
   {
    "duration": 5,
    "start_time": "2023-04-22T15:21:05.833Z"
   },
   {
    "duration": 16,
    "start_time": "2023-04-22T15:21:05.839Z"
   },
   {
    "duration": 166,
    "start_time": "2023-04-22T15:21:05.857Z"
   },
   {
    "duration": 142,
    "start_time": "2023-04-22T15:21:06.025Z"
   },
   {
    "duration": 231,
    "start_time": "2023-04-22T15:21:06.169Z"
   },
   {
    "duration": 263,
    "start_time": "2023-04-22T15:21:06.401Z"
   },
   {
    "duration": 218,
    "start_time": "2023-04-22T15:21:06.666Z"
   },
   {
    "duration": 25,
    "start_time": "2023-04-22T15:21:06.886Z"
   },
   {
    "duration": 26,
    "start_time": "2023-04-22T15:21:06.912Z"
   },
   {
    "duration": 195,
    "start_time": "2023-04-22T15:21:06.939Z"
   },
   {
    "duration": 1301,
    "start_time": "2023-04-22T15:21:07.136Z"
   },
   {
    "duration": 0,
    "start_time": "2023-04-22T15:21:08.439Z"
   },
   {
    "duration": 0,
    "start_time": "2023-04-22T15:21:08.440Z"
   },
   {
    "duration": 0,
    "start_time": "2023-04-22T15:21:08.442Z"
   },
   {
    "duration": 0,
    "start_time": "2023-04-22T15:21:08.443Z"
   },
   {
    "duration": 0,
    "start_time": "2023-04-22T15:21:08.444Z"
   },
   {
    "duration": 0,
    "start_time": "2023-04-22T15:21:08.445Z"
   },
   {
    "duration": 0,
    "start_time": "2023-04-22T15:21:08.446Z"
   },
   {
    "duration": 0,
    "start_time": "2023-04-22T15:21:08.447Z"
   },
   {
    "duration": 0,
    "start_time": "2023-04-22T15:21:08.448Z"
   },
   {
    "duration": 0,
    "start_time": "2023-04-22T15:21:08.449Z"
   },
   {
    "duration": 4,
    "start_time": "2023-04-22T15:21:14.263Z"
   },
   {
    "duration": 1374,
    "start_time": "2023-04-22T15:21:15.386Z"
   },
   {
    "duration": 14,
    "start_time": "2023-04-22T15:21:16.858Z"
   },
   {
    "duration": 260,
    "start_time": "2023-04-22T15:21:20.204Z"
   },
   {
    "duration": 280,
    "start_time": "2023-04-22T15:21:24.421Z"
   },
   {
    "duration": 254,
    "start_time": "2023-04-22T15:21:27.675Z"
   },
   {
    "duration": 1289,
    "start_time": "2023-04-22T15:22:21.874Z"
   },
   {
    "duration": 15,
    "start_time": "2023-04-22T15:22:44.998Z"
   },
   {
    "duration": 220,
    "start_time": "2023-04-22T15:23:04.358Z"
   },
   {
    "duration": 1111,
    "start_time": "2023-04-22T15:23:10.718Z"
   },
   {
    "duration": 1364,
    "start_time": "2023-04-22T15:23:32.623Z"
   },
   {
    "duration": 1553,
    "start_time": "2023-04-22T15:23:43.510Z"
   },
   {
    "duration": 4,
    "start_time": "2023-04-22T15:24:06.199Z"
   },
   {
    "duration": 1890,
    "start_time": "2023-04-22T15:24:07.374Z"
   },
   {
    "duration": 2175,
    "start_time": "2023-04-22T15:24:14.425Z"
   },
   {
    "duration": 30,
    "start_time": "2023-04-22T15:24:36.345Z"
   },
   {
    "duration": 12,
    "start_time": "2023-04-22T15:24:37.960Z"
   },
   {
    "duration": 616,
    "start_time": "2023-04-22T15:24:39.668Z"
   },
   {
    "duration": 20,
    "start_time": "2023-04-22T15:24:41.626Z"
   },
   {
    "duration": 312,
    "start_time": "2023-04-22T15:50:58.031Z"
   },
   {
    "duration": 12,
    "start_time": "2023-04-22T15:51:31.488Z"
   },
   {
    "duration": 5,
    "start_time": "2023-04-22T15:52:18.593Z"
   },
   {
    "duration": 77,
    "start_time": "2023-04-22T15:52:54.903Z"
   },
   {
    "duration": 1252,
    "start_time": "2023-04-22T15:58:05.763Z"
   },
   {
    "duration": 1038,
    "start_time": "2023-04-22T15:58:57.575Z"
   },
   {
    "duration": 43,
    "start_time": "2023-04-22T15:58:58.614Z"
   },
   {
    "duration": 38,
    "start_time": "2023-04-22T15:58:58.658Z"
   },
   {
    "duration": 25,
    "start_time": "2023-04-22T15:58:58.698Z"
   },
   {
    "duration": 8,
    "start_time": "2023-04-22T15:58:58.724Z"
   },
   {
    "duration": 11,
    "start_time": "2023-04-22T15:58:58.734Z"
   },
   {
    "duration": 21,
    "start_time": "2023-04-22T15:58:58.746Z"
   },
   {
    "duration": 20,
    "start_time": "2023-04-22T15:58:58.768Z"
   },
   {
    "duration": 9,
    "start_time": "2023-04-22T15:58:58.790Z"
   },
   {
    "duration": 7,
    "start_time": "2023-04-22T15:58:58.801Z"
   },
   {
    "duration": 24,
    "start_time": "2023-04-22T15:58:58.809Z"
   },
   {
    "duration": 6,
    "start_time": "2023-04-22T15:58:58.835Z"
   },
   {
    "duration": 8,
    "start_time": "2023-04-22T15:58:58.843Z"
   },
   {
    "duration": 162,
    "start_time": "2023-04-22T15:58:58.853Z"
   },
   {
    "duration": 135,
    "start_time": "2023-04-22T15:58:59.016Z"
   },
   {
    "duration": 240,
    "start_time": "2023-04-22T15:58:59.153Z"
   },
   {
    "duration": 234,
    "start_time": "2023-04-22T15:58:59.395Z"
   },
   {
    "duration": 195,
    "start_time": "2023-04-22T15:58:59.633Z"
   },
   {
    "duration": 27,
    "start_time": "2023-04-22T15:58:59.830Z"
   },
   {
    "duration": 14,
    "start_time": "2023-04-22T15:58:59.859Z"
   },
   {
    "duration": 207,
    "start_time": "2023-04-22T15:58:59.875Z"
   },
   {
    "duration": 1374,
    "start_time": "2023-04-22T15:59:00.085Z"
   },
   {
    "duration": 0,
    "start_time": "2023-04-22T15:59:01.461Z"
   },
   {
    "duration": 0,
    "start_time": "2023-04-22T15:59:01.462Z"
   },
   {
    "duration": 0,
    "start_time": "2023-04-22T15:59:01.463Z"
   },
   {
    "duration": 0,
    "start_time": "2023-04-22T15:59:01.464Z"
   },
   {
    "duration": 0,
    "start_time": "2023-04-22T15:59:01.465Z"
   },
   {
    "duration": 0,
    "start_time": "2023-04-22T15:59:01.466Z"
   },
   {
    "duration": 0,
    "start_time": "2023-04-22T15:59:01.467Z"
   },
   {
    "duration": 0,
    "start_time": "2023-04-22T15:59:01.468Z"
   },
   {
    "duration": 0,
    "start_time": "2023-04-22T15:59:01.469Z"
   },
   {
    "duration": 0,
    "start_time": "2023-04-22T15:59:01.470Z"
   },
   {
    "duration": 0,
    "start_time": "2023-04-22T15:59:01.471Z"
   },
   {
    "duration": 41,
    "start_time": "2023-04-22T16:00:40.154Z"
   },
   {
    "duration": 33,
    "start_time": "2023-04-22T16:00:46.256Z"
   },
   {
    "duration": 16,
    "start_time": "2023-04-22T16:00:52.185Z"
   },
   {
    "duration": 75,
    "start_time": "2023-04-22T16:00:53.672Z"
   },
   {
    "duration": 183,
    "start_time": "2023-04-22T16:01:00.330Z"
   },
   {
    "duration": 1687,
    "start_time": "2023-04-22T16:01:03.343Z"
   },
   {
    "duration": 38,
    "start_time": "2023-04-22T16:01:33.754Z"
   },
   {
    "duration": 34,
    "start_time": "2023-04-22T16:01:41.313Z"
   },
   {
    "duration": 15,
    "start_time": "2023-04-22T16:03:25.500Z"
   },
   {
    "duration": 47,
    "start_time": "2023-04-22T16:04:03.997Z"
   },
   {
    "duration": 38,
    "start_time": "2023-04-22T16:04:30.941Z"
   },
   {
    "duration": 15,
    "start_time": "2023-04-22T16:04:38.147Z"
   },
   {
    "duration": 79,
    "start_time": "2023-04-22T16:04:39.963Z"
   },
   {
    "duration": 263,
    "start_time": "2023-04-22T16:04:40.722Z"
   },
   {
    "duration": 38,
    "start_time": "2023-04-22T16:31:40.052Z"
   },
   {
    "duration": 37,
    "start_time": "2023-04-22T16:31:56.711Z"
   },
   {
    "duration": 30,
    "start_time": "2023-04-22T16:32:20.562Z"
   },
   {
    "duration": 1014,
    "start_time": "2023-04-22T16:32:30.791Z"
   },
   {
    "duration": 43,
    "start_time": "2023-04-22T16:32:31.806Z"
   },
   {
    "duration": 46,
    "start_time": "2023-04-22T16:32:31.852Z"
   },
   {
    "duration": 24,
    "start_time": "2023-04-22T16:32:31.900Z"
   },
   {
    "duration": 9,
    "start_time": "2023-04-22T16:32:31.925Z"
   },
   {
    "duration": 13,
    "start_time": "2023-04-22T16:32:31.935Z"
   },
   {
    "duration": 13,
    "start_time": "2023-04-22T16:32:31.950Z"
   },
   {
    "duration": 20,
    "start_time": "2023-04-22T16:32:31.965Z"
   },
   {
    "duration": 9,
    "start_time": "2023-04-22T16:32:31.987Z"
   },
   {
    "duration": 23,
    "start_time": "2023-04-22T16:32:31.997Z"
   },
   {
    "duration": 7,
    "start_time": "2023-04-22T16:32:32.022Z"
   },
   {
    "duration": 19,
    "start_time": "2023-04-22T16:32:32.033Z"
   },
   {
    "duration": 13,
    "start_time": "2023-04-22T16:32:32.054Z"
   },
   {
    "duration": 149,
    "start_time": "2023-04-22T16:32:32.068Z"
   },
   {
    "duration": 129,
    "start_time": "2023-04-22T16:32:32.218Z"
   },
   {
    "duration": 223,
    "start_time": "2023-04-22T16:32:32.349Z"
   },
   {
    "duration": 230,
    "start_time": "2023-04-22T16:32:32.574Z"
   },
   {
    "duration": 202,
    "start_time": "2023-04-22T16:32:32.805Z"
   },
   {
    "duration": 22,
    "start_time": "2023-04-22T16:32:33.009Z"
   },
   {
    "duration": 12,
    "start_time": "2023-04-22T16:32:33.032Z"
   },
   {
    "duration": 77,
    "start_time": "2023-04-22T16:32:33.045Z"
   },
   {
    "duration": 0,
    "start_time": "2023-04-22T16:32:33.123Z"
   },
   {
    "duration": 0,
    "start_time": "2023-04-22T16:32:33.124Z"
   },
   {
    "duration": 0,
    "start_time": "2023-04-22T16:32:33.126Z"
   },
   {
    "duration": 0,
    "start_time": "2023-04-22T16:32:33.127Z"
   },
   {
    "duration": 0,
    "start_time": "2023-04-22T16:32:33.128Z"
   },
   {
    "duration": 0,
    "start_time": "2023-04-22T16:32:33.129Z"
   },
   {
    "duration": 0,
    "start_time": "2023-04-22T16:32:33.131Z"
   },
   {
    "duration": 0,
    "start_time": "2023-04-22T16:32:33.132Z"
   },
   {
    "duration": 0,
    "start_time": "2023-04-22T16:32:33.132Z"
   },
   {
    "duration": 0,
    "start_time": "2023-04-22T16:32:33.133Z"
   },
   {
    "duration": 0,
    "start_time": "2023-04-22T16:32:33.134Z"
   },
   {
    "duration": 0,
    "start_time": "2023-04-22T16:32:33.136Z"
   },
   {
    "duration": 0,
    "start_time": "2023-04-22T16:32:33.137Z"
   },
   {
    "duration": 29,
    "start_time": "2023-04-22T16:32:47.951Z"
   },
   {
    "duration": 15,
    "start_time": "2023-04-22T16:33:19.346Z"
   },
   {
    "duration": 188,
    "start_time": "2023-04-22T16:33:32.694Z"
   },
   {
    "duration": 1393,
    "start_time": "2023-04-22T16:33:37.146Z"
   },
   {
    "duration": 1194,
    "start_time": "2023-04-22T16:33:59.669Z"
   },
   {
    "duration": 44,
    "start_time": "2023-04-22T16:34:00.865Z"
   },
   {
    "duration": 47,
    "start_time": "2023-04-22T16:34:00.911Z"
   },
   {
    "duration": 55,
    "start_time": "2023-04-22T16:34:00.960Z"
   },
   {
    "duration": 18,
    "start_time": "2023-04-22T16:34:01.017Z"
   },
   {
    "duration": 29,
    "start_time": "2023-04-22T16:34:01.037Z"
   },
   {
    "duration": 41,
    "start_time": "2023-04-22T16:34:01.068Z"
   },
   {
    "duration": 30,
    "start_time": "2023-04-22T16:34:01.110Z"
   },
   {
    "duration": 34,
    "start_time": "2023-04-22T16:34:01.142Z"
   },
   {
    "duration": 23,
    "start_time": "2023-04-22T16:34:01.178Z"
   },
   {
    "duration": 38,
    "start_time": "2023-04-22T16:34:01.202Z"
   },
   {
    "duration": 34,
    "start_time": "2023-04-22T16:34:01.242Z"
   },
   {
    "duration": 28,
    "start_time": "2023-04-22T16:34:01.278Z"
   },
   {
    "duration": 198,
    "start_time": "2023-04-22T16:34:01.308Z"
   },
   {
    "duration": 136,
    "start_time": "2023-04-22T16:34:01.507Z"
   },
   {
    "duration": 256,
    "start_time": "2023-04-22T16:34:01.645Z"
   },
   {
    "duration": 284,
    "start_time": "2023-04-22T16:34:01.902Z"
   },
   {
    "duration": 218,
    "start_time": "2023-04-22T16:34:02.188Z"
   },
   {
    "duration": 45,
    "start_time": "2023-04-22T16:34:02.408Z"
   },
   {
    "duration": 17,
    "start_time": "2023-04-22T16:34:02.455Z"
   },
   {
    "duration": 271,
    "start_time": "2023-04-22T16:34:02.474Z"
   },
   {
    "duration": 1386,
    "start_time": "2023-04-22T16:34:02.747Z"
   },
   {
    "duration": 0,
    "start_time": "2023-04-22T16:34:04.136Z"
   },
   {
    "duration": 0,
    "start_time": "2023-04-22T16:34:04.137Z"
   },
   {
    "duration": 0,
    "start_time": "2023-04-22T16:34:04.138Z"
   },
   {
    "duration": 0,
    "start_time": "2023-04-22T16:34:04.140Z"
   },
   {
    "duration": 0,
    "start_time": "2023-04-22T16:34:04.141Z"
   },
   {
    "duration": 0,
    "start_time": "2023-04-22T16:34:04.142Z"
   },
   {
    "duration": 0,
    "start_time": "2023-04-22T16:34:04.143Z"
   },
   {
    "duration": 0,
    "start_time": "2023-04-22T16:34:04.145Z"
   },
   {
    "duration": 0,
    "start_time": "2023-04-22T16:34:04.146Z"
   },
   {
    "duration": 0,
    "start_time": "2023-04-22T16:34:04.148Z"
   },
   {
    "duration": 0,
    "start_time": "2023-04-22T16:34:04.149Z"
   },
   {
    "duration": 4,
    "start_time": "2023-04-22T16:34:41.000Z"
   },
   {
    "duration": 1276,
    "start_time": "2023-04-22T16:34:42.794Z"
   },
   {
    "duration": 16,
    "start_time": "2023-04-22T16:34:46.142Z"
   },
   {
    "duration": 271,
    "start_time": "2023-04-22T16:34:47.013Z"
   },
   {
    "duration": 324,
    "start_time": "2023-04-22T16:34:50.637Z"
   },
   {
    "duration": 9,
    "start_time": "2023-04-22T16:35:18.538Z"
   },
   {
    "duration": 14,
    "start_time": "2023-04-22T16:35:40.536Z"
   },
   {
    "duration": 116,
    "start_time": "2023-04-22T16:35:43.874Z"
   },
   {
    "duration": 14,
    "start_time": "2023-04-22T16:37:10.551Z"
   },
   {
    "duration": 180,
    "start_time": "2023-04-22T16:37:24.746Z"
   },
   {
    "duration": 1157,
    "start_time": "2023-04-22T16:37:51.111Z"
   },
   {
    "duration": 8,
    "start_time": "2023-04-22T16:37:58.245Z"
   },
   {
    "duration": 286,
    "start_time": "2023-04-22T16:38:58.430Z"
   },
   {
    "duration": 229,
    "start_time": "2023-04-22T16:39:19.905Z"
   },
   {
    "duration": 18,
    "start_time": "2023-04-22T16:39:47.737Z"
   },
   {
    "duration": 337,
    "start_time": "2023-04-22T16:40:03.966Z"
   },
   {
    "duration": 255,
    "start_time": "2023-04-22T16:40:11.159Z"
   },
   {
    "duration": 43,
    "start_time": "2023-04-22T16:40:31.780Z"
   },
   {
    "duration": 13,
    "start_time": "2023-04-22T16:40:38.708Z"
   },
   {
    "duration": 617,
    "start_time": "2023-04-22T16:40:40.556Z"
   },
   {
    "duration": 21,
    "start_time": "2023-04-22T16:40:44.936Z"
   },
   {
    "duration": 6,
    "start_time": "2023-04-22T16:41:03.069Z"
   },
   {
    "duration": 5,
    "start_time": "2023-04-22T16:57:31.222Z"
   },
   {
    "duration": 6,
    "start_time": "2023-04-22T16:57:40.316Z"
   },
   {
    "duration": 5,
    "start_time": "2023-04-22T18:03:09.893Z"
   },
   {
    "duration": 61,
    "start_time": "2023-04-22T18:12:40.060Z"
   },
   {
    "duration": 48,
    "start_time": "2023-04-22T18:12:53.598Z"
   },
   {
    "duration": 52,
    "start_time": "2023-04-22T18:13:02.459Z"
   },
   {
    "duration": 52,
    "start_time": "2023-04-22T18:13:20.423Z"
   },
   {
    "duration": 51,
    "start_time": "2023-04-22T18:13:34.462Z"
   },
   {
    "duration": 53,
    "start_time": "2023-04-22T18:13:48.265Z"
   },
   {
    "duration": 54,
    "start_time": "2023-04-22T18:14:03.708Z"
   },
   {
    "duration": 50,
    "start_time": "2023-04-22T18:14:11.734Z"
   },
   {
    "duration": 51,
    "start_time": "2023-04-22T18:14:24.956Z"
   },
   {
    "duration": 1072,
    "start_time": "2023-04-22T18:14:31.098Z"
   },
   {
    "duration": 44,
    "start_time": "2023-04-22T18:14:32.172Z"
   },
   {
    "duration": 38,
    "start_time": "2023-04-22T18:14:32.217Z"
   },
   {
    "duration": 23,
    "start_time": "2023-04-22T18:14:32.257Z"
   },
   {
    "duration": 8,
    "start_time": "2023-04-22T18:14:32.282Z"
   },
   {
    "duration": 31,
    "start_time": "2023-04-22T18:14:32.291Z"
   },
   {
    "duration": 24,
    "start_time": "2023-04-22T18:14:32.324Z"
   },
   {
    "duration": 35,
    "start_time": "2023-04-22T18:14:32.349Z"
   },
   {
    "duration": 22,
    "start_time": "2023-04-22T18:14:32.386Z"
   },
   {
    "duration": 18,
    "start_time": "2023-04-22T18:14:32.410Z"
   },
   {
    "duration": 9,
    "start_time": "2023-04-22T18:14:32.430Z"
   },
   {
    "duration": 29,
    "start_time": "2023-04-22T18:14:32.441Z"
   },
   {
    "duration": 11,
    "start_time": "2023-04-22T18:14:32.472Z"
   },
   {
    "duration": 159,
    "start_time": "2023-04-22T18:14:32.485Z"
   },
   {
    "duration": 122,
    "start_time": "2023-04-22T18:14:32.646Z"
   },
   {
    "duration": 225,
    "start_time": "2023-04-22T18:14:32.770Z"
   },
   {
    "duration": 242,
    "start_time": "2023-04-22T18:14:32.996Z"
   },
   {
    "duration": 192,
    "start_time": "2023-04-22T18:14:33.240Z"
   },
   {
    "duration": 29,
    "start_time": "2023-04-22T18:14:33.433Z"
   },
   {
    "duration": 13,
    "start_time": "2023-04-22T18:14:33.463Z"
   },
   {
    "duration": 203,
    "start_time": "2023-04-22T18:14:33.477Z"
   },
   {
    "duration": 7,
    "start_time": "2023-04-22T18:14:33.682Z"
   },
   {
    "duration": 322,
    "start_time": "2023-04-22T18:14:33.691Z"
   },
   {
    "duration": 307,
    "start_time": "2023-04-22T18:14:34.015Z"
   },
   {
    "duration": 25,
    "start_time": "2023-04-22T18:14:34.323Z"
   },
   {
    "duration": 215,
    "start_time": "2023-04-22T18:14:34.349Z"
   },
   {
    "duration": 277,
    "start_time": "2023-04-22T18:14:34.566Z"
   },
   {
    "duration": 267,
    "start_time": "2023-04-22T18:14:34.845Z"
   },
   {
    "duration": 39,
    "start_time": "2023-04-22T18:14:35.114Z"
   },
   {
    "duration": 11,
    "start_time": "2023-04-22T18:14:35.155Z"
   },
   {
    "duration": 589,
    "start_time": "2023-04-22T18:14:35.168Z"
   },
   {
    "duration": 19,
    "start_time": "2023-04-22T18:14:35.758Z"
   },
   {
    "duration": 30,
    "start_time": "2023-04-22T18:14:35.779Z"
   },
   {
    "duration": 14,
    "start_time": "2023-04-22T18:14:35.810Z"
   },
   {
    "duration": 55,
    "start_time": "2023-04-22T18:14:35.825Z"
   },
   {
    "duration": 48,
    "start_time": "2023-04-22T18:14:56.092Z"
   },
   {
    "duration": 1099,
    "start_time": "2023-04-22T18:15:04.504Z"
   },
   {
    "duration": 43,
    "start_time": "2023-04-22T18:15:05.604Z"
   },
   {
    "duration": 38,
    "start_time": "2023-04-22T18:15:05.649Z"
   },
   {
    "duration": 23,
    "start_time": "2023-04-22T18:15:05.689Z"
   },
   {
    "duration": 8,
    "start_time": "2023-04-22T18:15:05.714Z"
   },
   {
    "duration": 8,
    "start_time": "2023-04-22T18:15:05.723Z"
   },
   {
    "duration": 11,
    "start_time": "2023-04-22T18:15:05.733Z"
   },
   {
    "duration": 19,
    "start_time": "2023-04-22T18:15:05.745Z"
   },
   {
    "duration": 8,
    "start_time": "2023-04-22T18:15:05.766Z"
   },
   {
    "duration": 11,
    "start_time": "2023-04-22T18:15:05.776Z"
   },
   {
    "duration": 11,
    "start_time": "2023-04-22T18:15:05.788Z"
   },
   {
    "duration": 6,
    "start_time": "2023-04-22T18:15:05.800Z"
   },
   {
    "duration": 26,
    "start_time": "2023-04-22T18:15:05.808Z"
   },
   {
    "duration": 190,
    "start_time": "2023-04-22T18:15:05.836Z"
   },
   {
    "duration": 142,
    "start_time": "2023-04-22T18:15:06.028Z"
   },
   {
    "duration": 240,
    "start_time": "2023-04-22T18:15:06.172Z"
   },
   {
    "duration": 278,
    "start_time": "2023-04-22T18:15:06.413Z"
   },
   {
    "duration": 225,
    "start_time": "2023-04-22T18:15:06.693Z"
   },
   {
    "duration": 39,
    "start_time": "2023-04-22T18:15:06.920Z"
   },
   {
    "duration": 14,
    "start_time": "2023-04-22T18:15:06.961Z"
   },
   {
    "duration": 208,
    "start_time": "2023-04-22T18:15:06.977Z"
   },
   {
    "duration": 9,
    "start_time": "2023-04-22T18:15:07.186Z"
   },
   {
    "duration": 320,
    "start_time": "2023-04-22T18:15:07.197Z"
   },
   {
    "duration": 306,
    "start_time": "2023-04-22T18:15:07.519Z"
   },
   {
    "duration": 17,
    "start_time": "2023-04-22T18:15:07.827Z"
   },
   {
    "duration": 234,
    "start_time": "2023-04-22T18:15:07.846Z"
   },
   {
    "duration": 314,
    "start_time": "2023-04-22T18:15:08.081Z"
   },
   {
    "duration": 278,
    "start_time": "2023-04-22T18:15:08.398Z"
   },
   {
    "duration": 28,
    "start_time": "2023-04-22T18:15:08.678Z"
   },
   {
    "duration": 32,
    "start_time": "2023-04-22T18:15:08.707Z"
   },
   {
    "duration": 569,
    "start_time": "2023-04-22T18:15:08.740Z"
   },
   {
    "duration": 23,
    "start_time": "2023-04-22T18:15:09.311Z"
   },
   {
    "duration": 5,
    "start_time": "2023-04-22T18:15:09.335Z"
   },
   {
    "duration": 7,
    "start_time": "2023-04-22T18:15:09.341Z"
   },
   {
    "duration": 56,
    "start_time": "2023-04-22T18:15:09.349Z"
   },
   {
    "duration": 55,
    "start_time": "2023-04-22T18:15:21.917Z"
   },
   {
    "duration": 80,
    "start_time": "2023-04-22T18:18:03.159Z"
   },
   {
    "duration": 140,
    "start_time": "2023-04-22T18:24:18.140Z"
   },
   {
    "duration": 59,
    "start_time": "2023-04-22T18:25:36.793Z"
   },
   {
    "duration": 75,
    "start_time": "2023-04-22T18:26:14.621Z"
   },
   {
    "duration": 58,
    "start_time": "2023-04-22T18:26:37.138Z"
   },
   {
    "duration": 74,
    "start_time": "2023-04-22T18:26:44.356Z"
   },
   {
    "duration": 76,
    "start_time": "2023-04-22T18:26:48.033Z"
   },
   {
    "duration": 6,
    "start_time": "2023-04-22T18:27:15.256Z"
   },
   {
    "duration": 59,
    "start_time": "2023-04-22T18:27:16.700Z"
   },
   {
    "duration": 117,
    "start_time": "2023-04-22T18:28:09.381Z"
   },
   {
    "duration": 50,
    "start_time": "2023-04-22T18:28:14.222Z"
   },
   {
    "duration": 51,
    "start_time": "2023-04-22T18:28:24.938Z"
   },
   {
    "duration": 71,
    "start_time": "2023-04-22T18:29:16.956Z"
   },
   {
    "duration": 53,
    "start_time": "2023-04-22T18:29:20.140Z"
   },
   {
    "duration": 56,
    "start_time": "2023-04-22T18:29:49.476Z"
   },
   {
    "duration": 50,
    "start_time": "2023-04-22T18:30:15.728Z"
   },
   {
    "duration": 47,
    "start_time": "2023-04-22T18:30:27.428Z"
   },
   {
    "duration": 101,
    "start_time": "2023-04-22T18:30:43.207Z"
   },
   {
    "duration": 118,
    "start_time": "2023-04-22T18:30:56.088Z"
   },
   {
    "duration": 119,
    "start_time": "2023-04-22T18:31:04.736Z"
   },
   {
    "duration": 83,
    "start_time": "2023-04-22T18:31:10.239Z"
   },
   {
    "duration": 49,
    "start_time": "2023-04-22T18:31:22.520Z"
   },
   {
    "duration": 47,
    "start_time": "2023-04-22T18:31:27.809Z"
   },
   {
    "duration": 48,
    "start_time": "2023-04-22T18:31:32.228Z"
   },
   {
    "duration": 70,
    "start_time": "2023-04-22T18:31:54.731Z"
   },
   {
    "duration": 90,
    "start_time": "2023-04-22T18:32:02.646Z"
   },
   {
    "duration": 50,
    "start_time": "2023-04-22T18:32:09.939Z"
   },
   {
    "duration": 48,
    "start_time": "2023-04-22T18:32:18.922Z"
   },
   {
    "duration": 72,
    "start_time": "2023-04-22T18:32:25.627Z"
   },
   {
    "duration": 48,
    "start_time": "2023-04-22T18:32:29.248Z"
   },
   {
    "duration": 65,
    "start_time": "2023-04-22T18:32:54.025Z"
   },
   {
    "duration": 49,
    "start_time": "2023-04-22T18:36:24.439Z"
   },
   {
    "duration": 49,
    "start_time": "2023-04-22T18:44:15.280Z"
   },
   {
    "duration": 113,
    "start_time": "2023-04-23T14:00:30.515Z"
   },
   {
    "duration": 5142,
    "start_time": "2023-04-23T14:00:40.397Z"
   },
   {
    "duration": 238,
    "start_time": "2023-04-23T14:00:45.549Z"
   },
   {
    "duration": 273,
    "start_time": "2023-04-23T14:00:45.793Z"
   },
   {
    "duration": 172,
    "start_time": "2023-04-23T14:00:46.068Z"
   },
   {
    "duration": 25,
    "start_time": "2023-04-23T14:00:46.245Z"
   },
   {
    "duration": 138,
    "start_time": "2023-04-23T14:00:46.273Z"
   },
   {
    "duration": 121,
    "start_time": "2023-04-23T14:00:46.418Z"
   },
   {
    "duration": 224,
    "start_time": "2023-04-23T14:00:46.542Z"
   },
   {
    "duration": 57,
    "start_time": "2023-04-23T14:00:46.768Z"
   },
   {
    "duration": 201,
    "start_time": "2023-04-23T14:00:46.828Z"
   },
   {
    "duration": 47,
    "start_time": "2023-04-23T14:00:47.034Z"
   },
   {
    "duration": 85,
    "start_time": "2023-04-23T14:00:47.084Z"
   },
   {
    "duration": 80,
    "start_time": "2023-04-23T14:00:47.173Z"
   },
   {
    "duration": 387,
    "start_time": "2023-04-23T14:00:47.268Z"
   },
   {
    "duration": 210,
    "start_time": "2023-04-23T14:00:47.669Z"
   },
   {
    "duration": 357,
    "start_time": "2023-04-23T14:00:47.881Z"
   },
   {
    "duration": 451,
    "start_time": "2023-04-23T14:00:48.242Z"
   },
   {
    "duration": 329,
    "start_time": "2023-04-23T14:00:48.696Z"
   },
   {
    "duration": 67,
    "start_time": "2023-04-23T14:00:49.028Z"
   },
   {
    "duration": 22,
    "start_time": "2023-04-23T14:00:49.099Z"
   },
   {
    "duration": 382,
    "start_time": "2023-04-23T14:00:49.123Z"
   },
   {
    "duration": 12,
    "start_time": "2023-04-23T14:00:49.508Z"
   },
   {
    "duration": 500,
    "start_time": "2023-04-23T14:00:49.523Z"
   },
   {
    "duration": 482,
    "start_time": "2023-04-23T14:00:50.027Z"
   },
   {
    "duration": 19,
    "start_time": "2023-04-23T14:00:50.518Z"
   },
   {
    "duration": 392,
    "start_time": "2023-04-23T14:00:50.539Z"
   },
   {
    "duration": 444,
    "start_time": "2023-04-23T14:00:50.933Z"
   },
   {
    "duration": 413,
    "start_time": "2023-04-23T14:00:51.379Z"
   },
   {
    "duration": 63,
    "start_time": "2023-04-23T14:00:51.795Z"
   },
   {
    "duration": 24,
    "start_time": "2023-04-23T14:00:51.860Z"
   },
   {
    "duration": 890,
    "start_time": "2023-04-23T14:00:51.886Z"
   },
   {
    "duration": 35,
    "start_time": "2023-04-23T14:00:52.782Z"
   },
   {
    "duration": 13,
    "start_time": "2023-04-23T14:00:52.824Z"
   },
   {
    "duration": 62,
    "start_time": "2023-04-23T14:00:52.839Z"
   },
   {
    "duration": 115,
    "start_time": "2023-04-23T14:00:52.907Z"
   },
   {
    "duration": 194,
    "start_time": "2023-04-23T14:00:53.024Z"
   },
   {
    "duration": 13,
    "start_time": "2023-04-23T14:01:03.524Z"
   },
   {
    "duration": 3,
    "start_time": "2023-04-23T14:01:31.936Z"
   },
   {
    "duration": 1574,
    "start_time": "2023-04-23T14:01:38.239Z"
   },
   {
    "duration": 4592,
    "start_time": "2023-04-23T14:01:52.077Z"
   },
   {
    "duration": 2968,
    "start_time": "2023-04-23T14:02:07.415Z"
   },
   {
    "duration": 472,
    "start_time": "2023-04-23T14:02:20.119Z"
   },
   {
    "duration": 746,
    "start_time": "2023-04-23T14:02:56.257Z"
   },
   {
    "duration": 261,
    "start_time": "2023-04-23T14:03:07.566Z"
   },
   {
    "duration": 469,
    "start_time": "2023-04-23T14:03:29.289Z"
   },
   {
    "duration": 319,
    "start_time": "2023-04-23T14:03:51.529Z"
   },
   {
    "duration": 224,
    "start_time": "2023-04-23T14:03:54.336Z"
   },
   {
    "duration": 472,
    "start_time": "2023-04-23T14:04:06.705Z"
   },
   {
    "duration": 84,
    "start_time": "2023-04-23T14:13:25.258Z"
   },
   {
    "duration": 47,
    "start_time": "2023-04-23T14:13:43.730Z"
   },
   {
    "duration": 56,
    "start_time": "2023-04-23T14:17:48.229Z"
   },
   {
    "duration": 368,
    "start_time": "2023-04-23T14:17:58.910Z"
   },
   {
    "duration": 2225,
    "start_time": "2023-04-23T14:27:24.057Z"
   },
   {
    "duration": 20200,
    "start_time": "2023-04-23T14:27:36.862Z"
   },
   {
    "duration": 1038,
    "start_time": "2023-04-23T14:28:10.995Z"
   },
   {
    "duration": 2832,
    "start_time": "2023-04-23T14:28:46.597Z"
   },
   {
    "duration": 1061,
    "start_time": "2023-04-23T14:28:55.663Z"
   },
   {
    "duration": 890,
    "start_time": "2023-04-23T14:29:37.362Z"
   },
   {
    "duration": 293,
    "start_time": "2023-04-23T14:29:58.832Z"
   },
   {
    "duration": 395,
    "start_time": "2023-04-23T14:31:26.094Z"
   },
   {
    "duration": 330,
    "start_time": "2023-04-23T14:31:39.688Z"
   },
   {
    "duration": 192,
    "start_time": "2023-04-23T14:33:02.294Z"
   },
   {
    "duration": 179,
    "start_time": "2023-04-23T14:33:06.734Z"
   },
   {
    "duration": 392,
    "start_time": "2023-04-23T14:33:16.828Z"
   },
   {
    "duration": 4,
    "start_time": "2023-04-23T14:35:05.804Z"
   },
   {
    "duration": 6,
    "start_time": "2023-04-23T14:35:09.331Z"
   },
   {
    "duration": 8,
    "start_time": "2023-04-23T14:35:18.925Z"
   },
   {
    "duration": 16,
    "start_time": "2023-04-23T14:35:46.074Z"
   },
   {
    "duration": 13,
    "start_time": "2023-04-23T14:36:00.536Z"
   },
   {
    "duration": 9,
    "start_time": "2023-04-23T14:36:20.012Z"
   },
   {
    "duration": 8,
    "start_time": "2023-04-23T14:36:44.878Z"
   },
   {
    "duration": 9,
    "start_time": "2023-04-23T14:36:53.827Z"
   },
   {
    "duration": 10,
    "start_time": "2023-04-23T14:37:19.666Z"
   },
   {
    "duration": 8,
    "start_time": "2023-04-23T14:37:35.086Z"
   },
   {
    "duration": 7,
    "start_time": "2023-04-23T14:37:57.403Z"
   },
   {
    "duration": 8,
    "start_time": "2023-04-23T14:38:14.188Z"
   },
   {
    "duration": 8,
    "start_time": "2023-04-23T14:38:22.101Z"
   },
   {
    "duration": 7,
    "start_time": "2023-04-23T14:38:32.301Z"
   },
   {
    "duration": 10,
    "start_time": "2023-04-23T14:38:35.384Z"
   },
   {
    "duration": 9,
    "start_time": "2023-04-23T14:38:41.409Z"
   },
   {
    "duration": 13,
    "start_time": "2023-04-23T14:38:50.490Z"
   },
   {
    "duration": 8,
    "start_time": "2023-04-23T14:38:54.309Z"
   },
   {
    "duration": 14,
    "start_time": "2023-04-23T14:39:01.911Z"
   },
   {
    "duration": 9,
    "start_time": "2023-04-23T14:39:10.622Z"
   },
   {
    "duration": 12,
    "start_time": "2023-04-23T14:39:14.688Z"
   },
   {
    "duration": 17,
    "start_time": "2023-04-23T14:39:19.118Z"
   },
   {
    "duration": 788,
    "start_time": "2023-04-23T14:49:30.084Z"
   },
   {
    "duration": 185,
    "start_time": "2023-04-23T14:49:34.687Z"
   },
   {
    "duration": 646,
    "start_time": "2023-04-23T14:49:38.735Z"
   },
   {
    "duration": 441,
    "start_time": "2023-04-23T14:49:47.484Z"
   },
   {
    "duration": 304,
    "start_time": "2023-04-23T14:49:56.225Z"
   },
   {
    "duration": 7,
    "start_time": "2023-04-23T14:50:51.198Z"
   },
   {
    "duration": 6,
    "start_time": "2023-04-23T14:50:59.390Z"
   },
   {
    "duration": 6,
    "start_time": "2023-04-23T14:51:47.195Z"
   },
   {
    "duration": 7,
    "start_time": "2023-04-23T14:51:52.799Z"
   },
   {
    "duration": 7,
    "start_time": "2023-04-23T14:51:58.195Z"
   },
   {
    "duration": 6,
    "start_time": "2023-04-23T14:52:03.413Z"
   },
   {
    "duration": 6,
    "start_time": "2023-04-23T14:52:07.095Z"
   },
   {
    "duration": 6,
    "start_time": "2023-04-23T14:52:16.464Z"
   },
   {
    "duration": 14,
    "start_time": "2023-04-23T14:52:20.541Z"
   },
   {
    "duration": 9,
    "start_time": "2023-04-23T14:52:27.948Z"
   },
   {
    "duration": 7,
    "start_time": "2023-04-23T14:52:44.301Z"
   },
   {
    "duration": 7,
    "start_time": "2023-04-23T14:53:03.096Z"
   },
   {
    "duration": 7,
    "start_time": "2023-04-23T14:53:24.222Z"
   },
   {
    "duration": 6,
    "start_time": "2023-04-23T14:53:33.104Z"
   },
   {
    "duration": 13,
    "start_time": "2023-04-23T14:53:50.635Z"
   },
   {
    "duration": 9,
    "start_time": "2023-04-23T14:53:57.615Z"
   },
   {
    "duration": 8,
    "start_time": "2023-04-23T14:54:01.837Z"
   },
   {
    "duration": 9,
    "start_time": "2023-04-23T14:54:07.959Z"
   },
   {
    "duration": 19,
    "start_time": "2023-04-23T14:54:12.949Z"
   },
   {
    "duration": 14,
    "start_time": "2023-04-23T14:55:06.137Z"
   },
   {
    "duration": 7,
    "start_time": "2023-04-23T14:55:13.005Z"
   },
   {
    "duration": 7,
    "start_time": "2023-04-23T14:55:16.830Z"
   },
   {
    "duration": 7,
    "start_time": "2023-04-23T14:55:21.367Z"
   },
   {
    "duration": 7,
    "start_time": "2023-04-23T14:55:27.633Z"
   },
   {
    "duration": 7,
    "start_time": "2023-04-23T14:55:33.370Z"
   },
   {
    "duration": 7,
    "start_time": "2023-04-23T14:55:42.304Z"
   },
   {
    "duration": 7,
    "start_time": "2023-04-23T14:55:45.475Z"
   },
   {
    "duration": 7,
    "start_time": "2023-04-23T14:55:51.368Z"
   },
   {
    "duration": 17,
    "start_time": "2023-04-23T14:55:54.735Z"
   },
   {
    "duration": 15,
    "start_time": "2023-04-23T14:55:59.138Z"
   },
   {
    "duration": 1362,
    "start_time": "2023-04-23T14:57:24.141Z"
   },
   {
    "duration": 3337,
    "start_time": "2023-04-23T14:57:55.128Z"
   },
   {
    "duration": 7,
    "start_time": "2023-04-23T15:22:11.501Z"
   },
   {
    "duration": 13,
    "start_time": "2023-04-23T15:22:21.975Z"
   },
   {
    "duration": 7,
    "start_time": "2023-04-23T15:22:40.895Z"
   },
   {
    "duration": 13,
    "start_time": "2023-04-23T15:23:00.885Z"
   },
   {
    "duration": 6,
    "start_time": "2023-04-23T15:23:11.813Z"
   },
   {
    "duration": 14,
    "start_time": "2023-04-23T15:23:20.380Z"
   },
   {
    "duration": 7,
    "start_time": "2023-04-23T15:23:37.324Z"
   },
   {
    "duration": 8,
    "start_time": "2023-04-23T15:23:43.524Z"
   },
   {
    "duration": 15,
    "start_time": "2023-04-23T15:24:00.078Z"
   },
   {
    "duration": 21,
    "start_time": "2023-04-23T15:24:10.467Z"
   },
   {
    "duration": 12,
    "start_time": "2023-04-23T15:24:14.537Z"
   },
   {
    "duration": 29,
    "start_time": "2023-04-23T15:24:21.240Z"
   },
   {
    "duration": 7,
    "start_time": "2023-04-23T15:24:28.719Z"
   },
   {
    "duration": 9,
    "start_time": "2023-04-23T15:24:51.628Z"
   },
   {
    "duration": 7,
    "start_time": "2023-04-23T15:24:55.823Z"
   },
   {
    "duration": 344,
    "start_time": "2023-04-23T15:30:12.917Z"
   },
   {
    "duration": 7,
    "start_time": "2023-04-23T15:30:36.666Z"
   },
   {
    "duration": 443,
    "start_time": "2023-04-23T15:30:43.517Z"
   },
   {
    "duration": 11,
    "start_time": "2023-04-23T15:31:03.540Z"
   },
   {
    "duration": 39,
    "start_time": "2023-04-23T15:31:16.681Z"
   },
   {
    "duration": 14,
    "start_time": "2023-04-23T15:32:51.399Z"
   },
   {
    "duration": 17,
    "start_time": "2023-04-23T15:32:59.790Z"
   },
   {
    "duration": 129,
    "start_time": "2023-04-23T15:34:32.582Z"
   },
   {
    "duration": 1743,
    "start_time": "2023-04-23T15:34:56.112Z"
   },
   {
    "duration": 331,
    "start_time": "2023-04-23T15:35:29.182Z"
   },
   {
    "duration": 378,
    "start_time": "2023-04-23T15:35:35.015Z"
   },
   {
    "duration": 1914,
    "start_time": "2023-04-23T15:35:55.688Z"
   },
   {
    "duration": 7,
    "start_time": "2023-04-23T15:40:32.019Z"
   },
   {
    "duration": 8,
    "start_time": "2023-04-23T15:40:39.885Z"
   },
   {
    "duration": 7,
    "start_time": "2023-04-23T15:40:46.533Z"
   },
   {
    "duration": 6,
    "start_time": "2023-04-23T15:41:39.613Z"
   },
   {
    "duration": 6,
    "start_time": "2023-04-23T15:41:47.205Z"
   },
   {
    "duration": 15,
    "start_time": "2023-04-23T15:42:55.849Z"
   },
   {
    "duration": 8,
    "start_time": "2023-04-23T15:43:06.410Z"
   },
   {
    "duration": 15,
    "start_time": "2023-04-23T15:43:16.772Z"
   },
   {
    "duration": 397,
    "start_time": "2023-04-23T15:43:53.470Z"
   },
   {
    "duration": 1485,
    "start_time": "2023-04-23T15:47:52.436Z"
   },
   {
    "duration": 140,
    "start_time": "2023-04-23T15:47:53.924Z"
   },
   {
    "duration": 124,
    "start_time": "2023-04-23T15:47:54.073Z"
   },
   {
    "duration": 88,
    "start_time": "2023-04-23T15:47:54.199Z"
   },
   {
    "duration": 15,
    "start_time": "2023-04-23T15:47:54.289Z"
   },
   {
    "duration": 13,
    "start_time": "2023-04-23T15:47:54.306Z"
   },
   {
    "duration": 18,
    "start_time": "2023-04-23T15:47:54.321Z"
   },
   {
    "duration": 58,
    "start_time": "2023-04-23T15:47:54.341Z"
   },
   {
    "duration": 13,
    "start_time": "2023-04-23T15:47:54.402Z"
   },
   {
    "duration": 9,
    "start_time": "2023-04-23T15:47:54.418Z"
   },
   {
    "duration": 17,
    "start_time": "2023-04-23T15:47:54.429Z"
   },
   {
    "duration": 49,
    "start_time": "2023-04-23T15:47:54.456Z"
   },
   {
    "duration": 12,
    "start_time": "2023-04-23T15:47:54.507Z"
   },
   {
    "duration": 275,
    "start_time": "2023-04-23T15:47:54.521Z"
   },
   {
    "duration": 190,
    "start_time": "2023-04-23T15:47:54.801Z"
   },
   {
    "duration": 330,
    "start_time": "2023-04-23T15:47:54.993Z"
   },
   {
    "duration": 351,
    "start_time": "2023-04-23T15:47:55.325Z"
   },
   {
    "duration": 308,
    "start_time": "2023-04-23T15:47:55.680Z"
   },
   {
    "duration": 49,
    "start_time": "2023-04-23T15:47:55.991Z"
   },
   {
    "duration": 185,
    "start_time": "2023-04-23T15:47:56.042Z"
   },
   {
    "duration": 445,
    "start_time": "2023-04-23T15:47:56.230Z"
   },
   {
    "duration": 13,
    "start_time": "2023-04-23T15:47:56.683Z"
   },
   {
    "duration": 536,
    "start_time": "2023-04-23T15:47:56.699Z"
   },
   {
    "duration": 444,
    "start_time": "2023-04-23T15:47:57.237Z"
   },
   {
    "duration": 20,
    "start_time": "2023-04-23T15:47:57.683Z"
   },
   {
    "duration": 318,
    "start_time": "2023-04-23T15:47:57.705Z"
   },
   {
    "duration": 387,
    "start_time": "2023-04-23T15:47:58.026Z"
   },
   {
    "duration": 381,
    "start_time": "2023-04-23T15:47:58.417Z"
   },
   {
    "duration": 68,
    "start_time": "2023-04-23T15:47:58.800Z"
   },
   {
    "duration": 19,
    "start_time": "2023-04-23T15:47:58.869Z"
   },
   {
    "duration": 810,
    "start_time": "2023-04-23T15:47:58.889Z"
   },
   {
    "duration": 24,
    "start_time": "2023-04-23T15:47:59.700Z"
   },
   {
    "duration": 22,
    "start_time": "2023-04-23T15:47:59.748Z"
   },
   {
    "duration": 21,
    "start_time": "2023-04-23T15:47:59.771Z"
   },
   {
    "duration": 74,
    "start_time": "2023-04-23T15:47:59.794Z"
   },
   {
    "duration": 346,
    "start_time": "2023-04-23T15:47:59.870Z"
   },
   {
    "duration": 1908,
    "start_time": "2023-04-23T15:48:00.218Z"
   },
   {
    "duration": 6,
    "start_time": "2023-04-23T15:48:02.128Z"
   },
   {
    "duration": 1237,
    "start_time": "2023-04-24T13:02:31.411Z"
   },
   {
    "duration": 93,
    "start_time": "2023-04-24T13:02:32.650Z"
   },
   {
    "duration": 82,
    "start_time": "2023-04-24T13:02:32.745Z"
   },
   {
    "duration": 67,
    "start_time": "2023-04-24T13:02:32.829Z"
   },
   {
    "duration": 10,
    "start_time": "2023-04-24T13:02:32.898Z"
   },
   {
    "duration": 15,
    "start_time": "2023-04-24T13:02:32.909Z"
   },
   {
    "duration": 55,
    "start_time": "2023-04-24T13:02:32.926Z"
   },
   {
    "duration": 28,
    "start_time": "2023-04-24T13:02:32.983Z"
   },
   {
    "duration": 11,
    "start_time": "2023-04-24T13:02:33.013Z"
   },
   {
    "duration": 44,
    "start_time": "2023-04-24T13:02:33.026Z"
   },
   {
    "duration": 29,
    "start_time": "2023-04-24T13:02:33.072Z"
   },
   {
    "duration": 45,
    "start_time": "2023-04-24T13:02:33.103Z"
   },
   {
    "duration": 31,
    "start_time": "2023-04-24T13:02:33.149Z"
   },
   {
    "duration": 187,
    "start_time": "2023-04-24T13:02:33.182Z"
   },
   {
    "duration": 135,
    "start_time": "2023-04-24T13:02:33.371Z"
   },
   {
    "duration": 254,
    "start_time": "2023-04-24T13:02:33.508Z"
   },
   {
    "duration": 253,
    "start_time": "2023-04-24T13:02:33.764Z"
   },
   {
    "duration": 250,
    "start_time": "2023-04-24T13:02:34.018Z"
   },
   {
    "duration": 30,
    "start_time": "2023-04-24T13:02:34.270Z"
   },
   {
    "duration": 22,
    "start_time": "2023-04-24T13:02:34.302Z"
   },
   {
    "duration": 214,
    "start_time": "2023-04-24T13:02:34.334Z"
   },
   {
    "duration": 8,
    "start_time": "2023-04-24T13:02:34.550Z"
   },
   {
    "duration": 329,
    "start_time": "2023-04-24T13:02:34.559Z"
   },
   {
    "duration": 327,
    "start_time": "2023-04-24T13:02:34.890Z"
   },
   {
    "duration": 23,
    "start_time": "2023-04-24T13:02:35.218Z"
   },
   {
    "duration": 237,
    "start_time": "2023-04-24T13:02:35.243Z"
   },
   {
    "duration": 302,
    "start_time": "2023-04-24T13:02:35.482Z"
   },
   {
    "duration": 280,
    "start_time": "2023-04-24T13:02:35.787Z"
   },
   {
    "duration": 30,
    "start_time": "2023-04-24T13:02:36.069Z"
   },
   {
    "duration": 10,
    "start_time": "2023-04-24T13:02:36.101Z"
   },
   {
    "duration": 629,
    "start_time": "2023-04-24T13:02:36.134Z"
   },
   {
    "duration": 19,
    "start_time": "2023-04-24T13:02:36.765Z"
   },
   {
    "duration": 23,
    "start_time": "2023-04-24T13:02:36.785Z"
   },
   {
    "duration": 57,
    "start_time": "2023-04-24T13:02:36.810Z"
   },
   {
    "duration": 99,
    "start_time": "2023-04-24T13:02:36.869Z"
   },
   {
    "duration": 341,
    "start_time": "2023-04-24T13:02:36.971Z"
   },
   {
    "duration": 1364,
    "start_time": "2023-04-24T13:02:37.314Z"
   },
   {
    "duration": 4,
    "start_time": "2023-04-24T13:02:38.680Z"
   },
   {
    "duration": 4,
    "start_time": "2023-04-24T15:15:42.918Z"
   },
   {
    "duration": 6,
    "start_time": "2023-04-24T15:17:50.893Z"
   },
   {
    "duration": 4,
    "start_time": "2023-04-24T15:20:17.059Z"
   },
   {
    "duration": 4,
    "start_time": "2023-04-24T15:20:37.767Z"
   },
   {
    "duration": 13,
    "start_time": "2023-04-24T15:25:40.143Z"
   },
   {
    "duration": 17,
    "start_time": "2023-04-24T15:25:57.808Z"
   },
   {
    "duration": 99,
    "start_time": "2023-04-24T16:07:19.886Z"
   },
   {
    "duration": 250,
    "start_time": "2023-04-24T16:07:29.411Z"
   },
   {
    "duration": 340,
    "start_time": "2023-04-24T16:07:35.418Z"
   },
   {
    "duration": 393,
    "start_time": "2023-04-24T16:07:42.156Z"
   },
   {
    "duration": 469,
    "start_time": "2023-04-24T16:07:59.217Z"
   },
   {
    "duration": 440,
    "start_time": "2023-04-24T16:08:15.219Z"
   },
   {
    "duration": 189,
    "start_time": "2023-04-24T17:45:02.743Z"
   },
   {
    "duration": 47,
    "start_time": "2023-04-24T17:47:20.299Z"
   },
   {
    "duration": 1345,
    "start_time": "2023-04-24T17:47:27.083Z"
   },
   {
    "duration": 93,
    "start_time": "2023-04-24T17:47:30.411Z"
   },
   {
    "duration": 90,
    "start_time": "2023-04-24T17:47:32.291Z"
   },
   {
    "duration": 75,
    "start_time": "2023-04-24T17:47:33.618Z"
   },
   {
    "duration": 11,
    "start_time": "2023-04-24T17:47:36.411Z"
   },
   {
    "duration": 13,
    "start_time": "2023-04-24T17:47:38.909Z"
   },
   {
    "duration": 25,
    "start_time": "2023-04-24T17:47:40.364Z"
   },
   {
    "duration": 10,
    "start_time": "2023-04-24T17:47:41.442Z"
   },
   {
    "duration": 7,
    "start_time": "2023-04-24T17:47:41.668Z"
   },
   {
    "duration": 6,
    "start_time": "2023-04-24T17:47:42.333Z"
   },
   {
    "duration": 6,
    "start_time": "2023-04-24T17:47:42.941Z"
   },
   {
    "duration": 5,
    "start_time": "2023-04-24T17:47:46.957Z"
   },
   {
    "duration": 217,
    "start_time": "2023-04-24T17:47:49.184Z"
   },
   {
    "duration": 182,
    "start_time": "2023-04-24T17:49:01.204Z"
   },
   {
    "duration": 171,
    "start_time": "2023-04-24T17:49:06.339Z"
   },
   {
    "duration": 154,
    "start_time": "2023-04-24T17:49:09.856Z"
   },
   {
    "duration": 160,
    "start_time": "2023-04-24T17:50:31.310Z"
   },
   {
    "duration": 151,
    "start_time": "2023-04-24T17:52:21.495Z"
   },
   {
    "duration": 1098,
    "start_time": "2023-04-24T17:53:01.198Z"
   },
   {
    "duration": 46,
    "start_time": "2023-04-24T17:53:02.298Z"
   },
   {
    "duration": 41,
    "start_time": "2023-04-24T17:53:02.345Z"
   },
   {
    "duration": 26,
    "start_time": "2023-04-24T17:53:02.389Z"
   },
   {
    "duration": 17,
    "start_time": "2023-04-24T17:53:02.417Z"
   },
   {
    "duration": 47,
    "start_time": "2023-04-24T17:53:02.436Z"
   },
   {
    "duration": 49,
    "start_time": "2023-04-24T17:53:02.485Z"
   },
   {
    "duration": 37,
    "start_time": "2023-04-24T17:53:02.535Z"
   },
   {
    "duration": 22,
    "start_time": "2023-04-24T17:53:02.574Z"
   },
   {
    "duration": 34,
    "start_time": "2023-04-24T17:53:02.598Z"
   },
   {
    "duration": 24,
    "start_time": "2023-04-24T17:53:02.634Z"
   },
   {
    "duration": 29,
    "start_time": "2023-04-24T17:53:02.660Z"
   },
   {
    "duration": 182,
    "start_time": "2023-04-24T17:53:02.690Z"
   },
   {
    "duration": 139,
    "start_time": "2023-04-24T17:53:02.874Z"
   },
   {
    "duration": 17446,
    "start_time": "2023-04-24T17:53:03.015Z"
   },
   {
    "duration": 250,
    "start_time": "2023-04-24T17:53:20.463Z"
   },
   {
    "duration": 332,
    "start_time": "2023-04-24T17:53:20.714Z"
   },
   {
    "duration": 36,
    "start_time": "2023-04-24T17:53:21.048Z"
   },
   {
    "duration": 42,
    "start_time": "2023-04-24T17:53:21.085Z"
   },
   {
    "duration": 186,
    "start_time": "2023-04-24T17:53:21.128Z"
   },
   {
    "duration": 8,
    "start_time": "2023-04-24T17:53:21.316Z"
   },
   {
    "duration": 326,
    "start_time": "2023-04-24T17:53:21.325Z"
   },
   {
    "duration": 244,
    "start_time": "2023-04-24T17:53:21.653Z"
   },
   {
    "duration": 18,
    "start_time": "2023-04-24T17:53:21.898Z"
   },
   {
    "duration": 257,
    "start_time": "2023-04-24T17:53:21.918Z"
   },
   {
    "duration": 289,
    "start_time": "2023-04-24T17:53:22.177Z"
   },
   {
    "duration": 284,
    "start_time": "2023-04-24T17:53:22.468Z"
   },
   {
    "duration": 48,
    "start_time": "2023-04-24T17:53:22.756Z"
   },
   {
    "duration": 11,
    "start_time": "2023-04-24T17:53:22.806Z"
   },
   {
    "duration": 596,
    "start_time": "2023-04-24T17:53:22.819Z"
   },
   {
    "duration": 19,
    "start_time": "2023-04-24T17:53:23.417Z"
   },
   {
    "duration": 9,
    "start_time": "2023-04-24T17:53:23.438Z"
   },
   {
    "duration": 14,
    "start_time": "2023-04-24T17:53:23.449Z"
   },
   {
    "duration": 75,
    "start_time": "2023-04-24T17:53:23.465Z"
   },
   {
    "duration": 230,
    "start_time": "2023-04-24T17:53:23.542Z"
   },
   {
    "duration": 1340,
    "start_time": "2023-04-24T17:53:23.774Z"
   },
   {
    "duration": 6,
    "start_time": "2023-04-24T17:53:25.116Z"
   },
   {
    "duration": 240,
    "start_time": "2023-04-24T17:55:37.751Z"
   },
   {
    "duration": 180,
    "start_time": "2023-04-24T17:57:37.522Z"
   },
   {
    "duration": 206,
    "start_time": "2023-04-24T17:58:45.733Z"
   },
   {
    "duration": 203,
    "start_time": "2023-04-24T17:58:55.175Z"
   },
   {
    "duration": 198,
    "start_time": "2023-04-24T17:59:01.373Z"
   },
   {
    "duration": 184,
    "start_time": "2023-04-24T17:59:07.691Z"
   },
   {
    "duration": 183,
    "start_time": "2023-04-24T17:59:15.458Z"
   },
   {
    "duration": 158,
    "start_time": "2023-04-24T17:59:22.688Z"
   },
   {
    "duration": 422,
    "start_time": "2023-04-24T17:59:29.687Z"
   },
   {
    "duration": 171,
    "start_time": "2023-04-24T17:59:33.482Z"
   },
   {
    "duration": 175,
    "start_time": "2023-04-24T17:59:38.734Z"
   },
   {
    "duration": 148,
    "start_time": "2023-04-24T17:59:43.109Z"
   },
   {
    "duration": 161,
    "start_time": "2023-04-24T17:59:48.979Z"
   },
   {
    "duration": 154,
    "start_time": "2023-04-24T18:00:01.134Z"
   },
   {
    "duration": 92,
    "start_time": "2023-04-24T18:00:42.149Z"
   },
   {
    "duration": 172,
    "start_time": "2023-04-24T18:00:45.388Z"
   },
   {
    "duration": 208,
    "start_time": "2023-04-24T18:00:52.342Z"
   },
   {
    "duration": 168,
    "start_time": "2023-04-24T18:01:14.261Z"
   },
   {
    "duration": 1226,
    "start_time": "2023-04-24T18:01:31.089Z"
   },
   {
    "duration": 48,
    "start_time": "2023-04-24T18:01:32.317Z"
   },
   {
    "duration": 44,
    "start_time": "2023-04-24T18:01:32.367Z"
   },
   {
    "duration": 28,
    "start_time": "2023-04-24T18:01:32.413Z"
   },
   {
    "duration": 11,
    "start_time": "2023-04-24T18:01:32.443Z"
   },
   {
    "duration": 35,
    "start_time": "2023-04-24T18:01:32.456Z"
   },
   {
    "duration": 28,
    "start_time": "2023-04-24T18:01:32.493Z"
   },
   {
    "duration": 12,
    "start_time": "2023-04-24T18:01:32.522Z"
   },
   {
    "duration": 10,
    "start_time": "2023-04-24T18:01:32.536Z"
   },
   {
    "duration": 36,
    "start_time": "2023-04-24T18:01:32.549Z"
   },
   {
    "duration": 6,
    "start_time": "2023-04-24T18:01:32.587Z"
   },
   {
    "duration": 32,
    "start_time": "2023-04-24T18:01:32.594Z"
   },
   {
    "duration": 207,
    "start_time": "2023-04-24T18:01:32.628Z"
   },
   {
    "duration": 149,
    "start_time": "2023-04-24T18:01:32.836Z"
   },
   {
    "duration": 169,
    "start_time": "2023-04-24T18:01:32.986Z"
   },
   {
    "duration": 272,
    "start_time": "2023-04-24T18:01:33.157Z"
   },
   {
    "duration": 254,
    "start_time": "2023-04-24T18:01:33.430Z"
   },
   {
    "duration": 32,
    "start_time": "2023-04-24T18:01:33.686Z"
   },
   {
    "duration": 18,
    "start_time": "2023-04-24T18:01:33.720Z"
   },
   {
    "duration": 258,
    "start_time": "2023-04-24T18:01:33.740Z"
   },
   {
    "duration": 8,
    "start_time": "2023-04-24T18:01:34.000Z"
   },
   {
    "duration": 374,
    "start_time": "2023-04-24T18:01:34.010Z"
   },
   {
    "duration": 272,
    "start_time": "2023-04-24T18:01:34.387Z"
   },
   {
    "duration": 36,
    "start_time": "2023-04-24T18:01:34.662Z"
   },
   {
    "duration": 431,
    "start_time": "2023-04-24T18:01:34.701Z"
   },
   {
    "duration": 314,
    "start_time": "2023-04-24T18:01:35.134Z"
   },
   {
    "duration": 306,
    "start_time": "2023-04-24T18:01:35.450Z"
   },
   {
    "duration": 44,
    "start_time": "2023-04-24T18:01:35.760Z"
   },
   {
    "duration": 11,
    "start_time": "2023-04-24T18:01:35.806Z"
   },
   {
    "duration": 774,
    "start_time": "2023-04-24T18:01:35.819Z"
   },
   {
    "duration": 23,
    "start_time": "2023-04-24T18:01:36.594Z"
   },
   {
    "duration": 66,
    "start_time": "2023-04-24T18:01:36.619Z"
   },
   {
    "duration": 16,
    "start_time": "2023-04-24T18:01:36.687Z"
   },
   {
    "duration": 113,
    "start_time": "2023-04-24T18:01:36.704Z"
   },
   {
    "duration": 580,
    "start_time": "2023-04-24T18:01:36.819Z"
   },
   {
    "duration": 1950,
    "start_time": "2023-04-24T18:01:37.401Z"
   },
   {
    "duration": 5,
    "start_time": "2023-04-24T18:01:39.352Z"
   },
   {
    "duration": 76,
    "start_time": "2023-04-24T18:01:56.454Z"
   },
   {
    "duration": 78,
    "start_time": "2023-04-24T18:02:09.108Z"
   },
   {
    "duration": 87,
    "start_time": "2023-04-24T18:02:12.334Z"
   },
   {
    "duration": 158,
    "start_time": "2023-04-24T18:02:19.947Z"
   },
   {
    "duration": 155,
    "start_time": "2023-04-24T18:02:29.406Z"
   },
   {
    "duration": 162,
    "start_time": "2023-04-24T18:02:48.426Z"
   },
   {
    "duration": 165,
    "start_time": "2023-04-24T18:05:31.688Z"
   },
   {
    "duration": 282,
    "start_time": "2023-04-24T18:06:27.236Z"
   },
   {
    "duration": 197,
    "start_time": "2023-04-24T18:07:25.866Z"
   },
   {
    "duration": 162,
    "start_time": "2023-04-24T18:07:36.207Z"
   },
   {
    "duration": 161,
    "start_time": "2023-04-24T18:07:52.111Z"
   },
   {
    "duration": 174,
    "start_time": "2023-04-24T18:09:50.055Z"
   },
   {
    "duration": 166,
    "start_time": "2023-04-24T18:10:02.683Z"
   },
   {
    "duration": 174,
    "start_time": "2023-04-24T18:10:50.143Z"
   },
   {
    "duration": 82,
    "start_time": "2023-04-24T18:13:13.436Z"
   },
   {
    "duration": 180,
    "start_time": "2023-04-24T18:14:07.215Z"
   },
   {
    "duration": 107,
    "start_time": "2023-04-24T18:14:56.687Z"
   },
   {
    "duration": 4,
    "start_time": "2023-04-24T18:15:38.005Z"
   },
   {
    "duration": 72,
    "start_time": "2023-04-24T18:16:17.039Z"
   },
   {
    "duration": 134,
    "start_time": "2023-04-24T18:17:09.938Z"
   },
   {
    "duration": 150,
    "start_time": "2023-04-24T18:17:30.108Z"
   },
   {
    "duration": 162,
    "start_time": "2023-04-24T18:17:35.632Z"
   },
   {
    "duration": 160,
    "start_time": "2023-04-24T18:17:39.429Z"
   },
   {
    "duration": 158,
    "start_time": "2023-04-24T18:17:53.541Z"
   },
   {
    "duration": 156,
    "start_time": "2023-04-24T18:18:38.166Z"
   },
   {
    "duration": 166,
    "start_time": "2023-04-24T18:18:47.420Z"
   },
   {
    "duration": 145,
    "start_time": "2023-04-24T18:18:52.690Z"
   },
   {
    "duration": 278,
    "start_time": "2023-04-24T18:18:56.817Z"
   },
   {
    "duration": 142,
    "start_time": "2023-04-24T18:19:04.330Z"
   },
   {
    "duration": 71,
    "start_time": "2023-04-24T18:19:32.235Z"
   },
   {
    "duration": 68,
    "start_time": "2023-04-24T18:20:56.999Z"
   },
   {
    "duration": 1337,
    "start_time": "2023-04-24T18:21:43.904Z"
   },
   {
    "duration": 148,
    "start_time": "2023-04-24T18:21:56.024Z"
   },
   {
    "duration": 140,
    "start_time": "2023-04-24T18:23:33.649Z"
   },
   {
    "duration": 133,
    "start_time": "2023-04-24T18:24:06.382Z"
   },
   {
    "duration": 132,
    "start_time": "2023-04-24T18:24:10.595Z"
   },
   {
    "duration": 143,
    "start_time": "2023-04-24T18:24:17.089Z"
   },
   {
    "duration": 85,
    "start_time": "2023-04-24T18:25:23.575Z"
   },
   {
    "duration": 157,
    "start_time": "2023-04-24T18:26:02.180Z"
   },
   {
    "duration": 91,
    "start_time": "2023-04-24T18:26:19.707Z"
   },
   {
    "duration": 657,
    "start_time": "2023-04-24T18:38:00.340Z"
   },
   {
    "duration": 10,
    "start_time": "2023-04-24T18:46:39.227Z"
   },
   {
    "duration": 9,
    "start_time": "2023-04-24T18:49:47.725Z"
   },
   {
    "duration": 19,
    "start_time": "2023-04-24T18:50:08.632Z"
   },
   {
    "duration": 10,
    "start_time": "2023-04-24T18:50:18.307Z"
   },
   {
    "duration": 18,
    "start_time": "2023-04-24T18:50:26.804Z"
   },
   {
    "duration": 11,
    "start_time": "2023-04-24T19:17:25.236Z"
   },
   {
    "duration": 3,
    "start_time": "2023-04-24T19:17:54.124Z"
   },
   {
    "duration": 11,
    "start_time": "2023-04-24T19:18:05.823Z"
   },
   {
    "duration": 1205,
    "start_time": "2023-04-24T19:18:49.523Z"
   },
   {
    "duration": 55,
    "start_time": "2023-04-24T19:18:50.730Z"
   },
   {
    "duration": 55,
    "start_time": "2023-04-24T19:18:50.788Z"
   },
   {
    "duration": 26,
    "start_time": "2023-04-24T19:18:50.846Z"
   },
   {
    "duration": 15,
    "start_time": "2023-04-24T19:18:50.874Z"
   },
   {
    "duration": 17,
    "start_time": "2023-04-24T19:18:50.891Z"
   },
   {
    "duration": 26,
    "start_time": "2023-04-24T19:18:50.910Z"
   },
   {
    "duration": 14,
    "start_time": "2023-04-24T19:18:50.938Z"
   },
   {
    "duration": 38,
    "start_time": "2023-04-24T19:18:50.954Z"
   },
   {
    "duration": 7,
    "start_time": "2023-04-24T19:18:50.996Z"
   },
   {
    "duration": 12,
    "start_time": "2023-04-24T19:18:51.004Z"
   },
   {
    "duration": 8,
    "start_time": "2023-04-24T19:18:51.018Z"
   },
   {
    "duration": 229,
    "start_time": "2023-04-24T19:18:51.028Z"
   },
   {
    "duration": 174,
    "start_time": "2023-04-24T19:18:51.259Z"
   },
   {
    "duration": 182,
    "start_time": "2023-04-24T19:18:51.435Z"
   },
   {
    "duration": 198,
    "start_time": "2023-04-24T19:18:51.619Z"
   },
   {
    "duration": 179,
    "start_time": "2023-04-24T19:18:51.819Z"
   },
   {
    "duration": 39,
    "start_time": "2023-04-24T19:18:52.001Z"
   },
   {
    "duration": 5,
    "start_time": "2023-04-24T19:18:52.041Z"
   },
   {
    "duration": 42,
    "start_time": "2023-04-24T19:18:52.048Z"
   },
   {
    "duration": 118,
    "start_time": "2023-04-24T19:18:52.092Z"
   },
   {
    "duration": 0,
    "start_time": "2023-04-24T19:18:52.212Z"
   },
   {
    "duration": 0,
    "start_time": "2023-04-24T19:18:52.214Z"
   },
   {
    "duration": 0,
    "start_time": "2023-04-24T19:18:52.215Z"
   },
   {
    "duration": 0,
    "start_time": "2023-04-24T19:18:52.216Z"
   },
   {
    "duration": 0,
    "start_time": "2023-04-24T19:18:52.217Z"
   },
   {
    "duration": 0,
    "start_time": "2023-04-24T19:18:52.218Z"
   },
   {
    "duration": 0,
    "start_time": "2023-04-24T19:18:52.220Z"
   },
   {
    "duration": 0,
    "start_time": "2023-04-24T19:18:52.221Z"
   },
   {
    "duration": 0,
    "start_time": "2023-04-24T19:18:52.223Z"
   },
   {
    "duration": 0,
    "start_time": "2023-04-24T19:18:52.224Z"
   },
   {
    "duration": 0,
    "start_time": "2023-04-24T19:18:52.225Z"
   },
   {
    "duration": 0,
    "start_time": "2023-04-24T19:18:52.226Z"
   },
   {
    "duration": 0,
    "start_time": "2023-04-24T19:18:52.227Z"
   },
   {
    "duration": 0,
    "start_time": "2023-04-24T19:18:52.228Z"
   },
   {
    "duration": 0,
    "start_time": "2023-04-24T19:18:52.229Z"
   },
   {
    "duration": 0,
    "start_time": "2023-04-24T19:18:52.230Z"
   },
   {
    "duration": 135,
    "start_time": "2023-04-24T19:19:17.021Z"
   },
   {
    "duration": 9,
    "start_time": "2023-04-24T19:19:42.150Z"
   },
   {
    "duration": 184,
    "start_time": "2023-04-24T19:19:45.503Z"
   },
   {
    "duration": 20,
    "start_time": "2023-04-24T19:19:52.500Z"
   },
   {
    "duration": 212,
    "start_time": "2023-04-24T19:19:54.854Z"
   },
   {
    "duration": 217,
    "start_time": "2023-04-24T19:19:58.948Z"
   },
   {
    "duration": 35,
    "start_time": "2023-04-24T19:20:01.466Z"
   },
   {
    "duration": 9,
    "start_time": "2023-04-24T19:20:07.317Z"
   },
   {
    "duration": 685,
    "start_time": "2023-04-24T19:20:31.927Z"
   },
   {
    "duration": 13,
    "start_time": "2023-04-24T19:20:39.522Z"
   },
   {
    "duration": 9,
    "start_time": "2023-04-24T19:22:47.358Z"
   },
   {
    "duration": 13,
    "start_time": "2023-04-24T19:26:43.372Z"
   },
   {
    "duration": 96,
    "start_time": "2023-04-24T19:27:24.374Z"
   },
   {
    "duration": 22,
    "start_time": "2023-04-24T19:28:27.283Z"
   },
   {
    "duration": 8,
    "start_time": "2023-04-24T19:28:34.891Z"
   },
   {
    "duration": 88,
    "start_time": "2023-04-24T19:28:39.196Z"
   },
   {
    "duration": 23,
    "start_time": "2023-04-24T19:28:45.288Z"
   },
   {
    "duration": 26,
    "start_time": "2023-04-24T19:28:51.379Z"
   },
   {
    "duration": 21,
    "start_time": "2023-04-24T19:29:04.179Z"
   },
   {
    "duration": 23,
    "start_time": "2023-04-24T19:29:10.104Z"
   },
   {
    "duration": 36,
    "start_time": "2023-04-24T19:34:19.161Z"
   },
   {
    "duration": 663,
    "start_time": "2023-04-24T19:35:08.615Z"
   },
   {
    "duration": 24,
    "start_time": "2023-04-24T19:35:21.813Z"
   },
   {
    "duration": 726,
    "start_time": "2023-04-24T19:35:31.910Z"
   },
   {
    "duration": 707,
    "start_time": "2023-04-24T19:35:35.787Z"
   },
   {
    "duration": 26,
    "start_time": "2023-04-24T19:35:41.390Z"
   },
   {
    "duration": 680,
    "start_time": "2023-04-24T19:39:20.092Z"
   },
   {
    "duration": 631,
    "start_time": "2023-04-24T19:39:25.835Z"
   },
   {
    "duration": 626,
    "start_time": "2023-04-24T19:39:37.553Z"
   },
   {
    "duration": 589,
    "start_time": "2023-04-24T19:39:45.401Z"
   },
   {
    "duration": 1162,
    "start_time": "2023-04-24T19:40:03.542Z"
   },
   {
    "duration": 51,
    "start_time": "2023-04-24T19:40:04.707Z"
   },
   {
    "duration": 48,
    "start_time": "2023-04-24T19:40:04.760Z"
   },
   {
    "duration": 31,
    "start_time": "2023-04-24T19:40:04.811Z"
   },
   {
    "duration": 12,
    "start_time": "2023-04-24T19:40:04.844Z"
   },
   {
    "duration": 32,
    "start_time": "2023-04-24T19:40:04.858Z"
   },
   {
    "duration": 30,
    "start_time": "2023-04-24T19:40:04.892Z"
   },
   {
    "duration": 15,
    "start_time": "2023-04-24T19:40:04.925Z"
   },
   {
    "duration": 12,
    "start_time": "2023-04-24T19:40:04.942Z"
   },
   {
    "duration": 32,
    "start_time": "2023-04-24T19:40:04.957Z"
   },
   {
    "duration": 17,
    "start_time": "2023-04-24T19:40:04.991Z"
   },
   {
    "duration": 22,
    "start_time": "2023-04-24T19:40:05.009Z"
   },
   {
    "duration": 185,
    "start_time": "2023-04-24T19:40:05.032Z"
   },
   {
    "duration": 141,
    "start_time": "2023-04-24T19:40:05.218Z"
   },
   {
    "duration": 171,
    "start_time": "2023-04-24T19:40:05.361Z"
   },
   {
    "duration": 170,
    "start_time": "2023-04-24T19:40:05.534Z"
   },
   {
    "duration": 153,
    "start_time": "2023-04-24T19:40:05.706Z"
   },
   {
    "duration": 38,
    "start_time": "2023-04-24T19:40:05.861Z"
   },
   {
    "duration": 4,
    "start_time": "2023-04-24T19:40:05.901Z"
   },
   {
    "duration": 56,
    "start_time": "2023-04-24T19:40:05.907Z"
   },
   {
    "duration": 192,
    "start_time": "2023-04-24T19:40:05.964Z"
   },
   {
    "duration": 8,
    "start_time": "2023-04-24T19:40:06.158Z"
   },
   {
    "duration": 166,
    "start_time": "2023-04-24T19:40:06.167Z"
   },
   {
    "duration": 15,
    "start_time": "2023-04-24T19:40:06.335Z"
   },
   {
    "duration": 152,
    "start_time": "2023-04-24T19:40:06.352Z"
   },
   {
    "duration": 217,
    "start_time": "2023-04-24T19:40:06.506Z"
   },
   {
    "duration": 30,
    "start_time": "2023-04-24T19:40:06.725Z"
   },
   {
    "duration": 707,
    "start_time": "2023-04-24T19:40:06.758Z"
   },
   {
    "duration": 0,
    "start_time": "2023-04-24T19:40:07.467Z"
   },
   {
    "duration": 0,
    "start_time": "2023-04-24T19:40:07.468Z"
   },
   {
    "duration": 0,
    "start_time": "2023-04-24T19:40:07.469Z"
   },
   {
    "duration": 0,
    "start_time": "2023-04-24T19:40:07.470Z"
   },
   {
    "duration": 0,
    "start_time": "2023-04-24T19:40:07.471Z"
   },
   {
    "duration": 0,
    "start_time": "2023-04-24T19:40:07.472Z"
   },
   {
    "duration": 0,
    "start_time": "2023-04-24T19:40:07.485Z"
   },
   {
    "duration": 0,
    "start_time": "2023-04-24T19:40:07.487Z"
   },
   {
    "duration": 657,
    "start_time": "2023-04-24T19:40:26.043Z"
   },
   {
    "duration": 882,
    "start_time": "2023-04-24T19:40:31.809Z"
   },
   {
    "duration": 681,
    "start_time": "2023-04-24T19:41:03.587Z"
   },
   {
    "duration": 723,
    "start_time": "2023-04-24T19:41:09.784Z"
   },
   {
    "duration": 707,
    "start_time": "2023-04-24T19:41:14.308Z"
   },
   {
    "duration": 33,
    "start_time": "2023-04-24T19:41:23.312Z"
   },
   {
    "duration": 20,
    "start_time": "2023-04-24T19:41:56.020Z"
   },
   {
    "duration": 95,
    "start_time": "2023-04-24T19:42:25.690Z"
   },
   {
    "duration": 11,
    "start_time": "2023-04-24T19:42:32.299Z"
   },
   {
    "duration": 10,
    "start_time": "2023-04-24T19:42:38.398Z"
   },
   {
    "duration": 17,
    "start_time": "2023-04-24T19:42:42.109Z"
   },
   {
    "duration": 6,
    "start_time": "2023-04-24T19:42:59.057Z"
   },
   {
    "duration": 6,
    "start_time": "2023-04-24T19:43:14.383Z"
   },
   {
    "duration": 10,
    "start_time": "2023-04-24T19:50:33.722Z"
   },
   {
    "duration": 17,
    "start_time": "2023-04-24T19:51:15.899Z"
   },
   {
    "duration": 1237,
    "start_time": "2023-04-24T19:52:06.320Z"
   },
   {
    "duration": 48,
    "start_time": "2023-04-24T19:52:07.559Z"
   },
   {
    "duration": 42,
    "start_time": "2023-04-24T19:52:07.609Z"
   },
   {
    "duration": 26,
    "start_time": "2023-04-24T19:52:07.653Z"
   },
   {
    "duration": 15,
    "start_time": "2023-04-24T19:52:07.686Z"
   },
   {
    "duration": 26,
    "start_time": "2023-04-24T19:52:07.704Z"
   },
   {
    "duration": 36,
    "start_time": "2023-04-24T19:52:07.731Z"
   },
   {
    "duration": 23,
    "start_time": "2023-04-24T19:52:07.768Z"
   },
   {
    "duration": 27,
    "start_time": "2023-04-24T19:52:07.792Z"
   },
   {
    "duration": 28,
    "start_time": "2023-04-24T19:52:07.821Z"
   },
   {
    "duration": 31,
    "start_time": "2023-04-24T19:52:07.851Z"
   },
   {
    "duration": 37,
    "start_time": "2023-04-24T19:52:07.884Z"
   },
   {
    "duration": 219,
    "start_time": "2023-04-24T19:52:07.923Z"
   },
   {
    "duration": 171,
    "start_time": "2023-04-24T19:52:08.147Z"
   },
   {
    "duration": 197,
    "start_time": "2023-04-24T19:52:08.321Z"
   },
   {
    "duration": 204,
    "start_time": "2023-04-24T19:52:08.520Z"
   },
   {
    "duration": 177,
    "start_time": "2023-04-24T19:52:08.726Z"
   },
   {
    "duration": 32,
    "start_time": "2023-04-24T19:52:08.906Z"
   },
   {
    "duration": 4,
    "start_time": "2023-04-24T19:52:08.940Z"
   },
   {
    "duration": 44,
    "start_time": "2023-04-24T19:52:08.946Z"
   },
   {
    "duration": 142,
    "start_time": "2023-04-24T19:52:08.992Z"
   },
   {
    "duration": 10,
    "start_time": "2023-04-24T19:52:09.136Z"
   },
   {
    "duration": 186,
    "start_time": "2023-04-24T19:52:09.148Z"
   },
   {
    "duration": 17,
    "start_time": "2023-04-24T19:52:09.336Z"
   },
   {
    "duration": 169,
    "start_time": "2023-04-24T19:52:09.354Z"
   },
   {
    "duration": 251,
    "start_time": "2023-04-24T19:52:09.525Z"
   },
   {
    "duration": 48,
    "start_time": "2023-04-24T19:52:09.778Z"
   },
   {
    "duration": 633,
    "start_time": "2023-04-24T19:52:09.828Z"
   },
   {
    "duration": 36,
    "start_time": "2023-04-24T19:52:10.463Z"
   },
   {
    "duration": 115,
    "start_time": "2023-04-24T19:52:10.501Z"
   },
   {
    "duration": 0,
    "start_time": "2023-04-24T19:52:10.618Z"
   },
   {
    "duration": 0,
    "start_time": "2023-04-24T19:52:10.620Z"
   },
   {
    "duration": 0,
    "start_time": "2023-04-24T19:52:10.621Z"
   },
   {
    "duration": 0,
    "start_time": "2023-04-24T19:52:10.622Z"
   },
   {
    "duration": 0,
    "start_time": "2023-04-24T19:52:10.623Z"
   },
   {
    "duration": 0,
    "start_time": "2023-04-24T19:52:10.625Z"
   },
   {
    "duration": 14,
    "start_time": "2023-04-24T19:52:39.843Z"
   },
   {
    "duration": 10,
    "start_time": "2023-04-24T19:53:25.382Z"
   },
   {
    "duration": 8,
    "start_time": "2023-04-24T19:53:36.926Z"
   },
   {
    "duration": 6,
    "start_time": "2023-04-24T19:53:58.842Z"
   },
   {
    "duration": 7,
    "start_time": "2023-04-24T19:54:21.295Z"
   },
   {
    "duration": 16,
    "start_time": "2023-04-24T19:55:05.783Z"
   },
   {
    "duration": 5,
    "start_time": "2023-04-24T19:55:15.643Z"
   },
   {
    "duration": 6,
    "start_time": "2023-04-24T19:55:53.239Z"
   },
   {
    "duration": 5,
    "start_time": "2023-04-24T19:56:13.975Z"
   },
   {
    "duration": 9,
    "start_time": "2023-04-24T19:56:23.147Z"
   },
   {
    "duration": 13,
    "start_time": "2023-04-24T19:56:53.540Z"
   },
   {
    "duration": 5,
    "start_time": "2023-04-24T19:58:00.617Z"
   },
   {
    "duration": 12,
    "start_time": "2023-04-24T19:58:01.431Z"
   },
   {
    "duration": 4166,
    "start_time": "2023-04-25T06:26:47.134Z"
   },
   {
    "duration": 978,
    "start_time": "2023-04-25T06:27:18.532Z"
   },
   {
    "duration": 45,
    "start_time": "2023-04-25T06:27:50.344Z"
   },
   {
    "duration": 1041,
    "start_time": "2023-04-25T06:27:52.946Z"
   },
   {
    "duration": 7,
    "start_time": "2023-04-25T06:27:56.863Z"
   },
   {
    "duration": 634,
    "start_time": "2023-04-25T06:28:16.786Z"
   },
   {
    "duration": 2283,
    "start_time": "2023-04-25T06:28:29.388Z"
   },
   {
    "duration": 941,
    "start_time": "2023-04-25T06:28:33.225Z"
   },
   {
    "duration": 602,
    "start_time": "2023-04-25T06:28:35.295Z"
   },
   {
    "duration": 8,
    "start_time": "2023-04-25T06:35:35.203Z"
   },
   {
    "duration": 1348,
    "start_time": "2023-04-25T06:35:47.708Z"
   },
   {
    "duration": 84,
    "start_time": "2023-04-25T06:35:49.058Z"
   },
   {
    "duration": 85,
    "start_time": "2023-04-25T06:35:49.143Z"
   },
   {
    "duration": 66,
    "start_time": "2023-04-25T06:35:49.230Z"
   },
   {
    "duration": 8,
    "start_time": "2023-04-25T06:35:49.298Z"
   },
   {
    "duration": 13,
    "start_time": "2023-04-25T06:35:49.308Z"
   },
   {
    "duration": 20,
    "start_time": "2023-04-25T06:35:49.323Z"
   },
   {
    "duration": 8,
    "start_time": "2023-04-25T06:35:49.345Z"
   },
   {
    "duration": 7,
    "start_time": "2023-04-25T06:35:49.355Z"
   },
   {
    "duration": 6,
    "start_time": "2023-04-25T06:35:49.364Z"
   },
   {
    "duration": 5,
    "start_time": "2023-04-25T06:35:49.372Z"
   },
   {
    "duration": 6,
    "start_time": "2023-04-25T06:35:49.379Z"
   },
   {
    "duration": 190,
    "start_time": "2023-04-25T06:35:49.386Z"
   },
   {
    "duration": 127,
    "start_time": "2023-04-25T06:35:49.578Z"
   },
   {
    "duration": 169,
    "start_time": "2023-04-25T06:35:49.706Z"
   },
   {
    "duration": 164,
    "start_time": "2023-04-25T06:35:49.877Z"
   },
   {
    "duration": 143,
    "start_time": "2023-04-25T06:35:50.043Z"
   },
   {
    "duration": 28,
    "start_time": "2023-04-25T06:35:50.188Z"
   },
   {
    "duration": 18,
    "start_time": "2023-04-25T06:35:50.217Z"
   },
   {
    "duration": 16,
    "start_time": "2023-04-25T06:35:50.237Z"
   },
   {
    "duration": 125,
    "start_time": "2023-04-25T06:35:50.255Z"
   },
   {
    "duration": 9,
    "start_time": "2023-04-25T06:35:50.382Z"
   },
   {
    "duration": 177,
    "start_time": "2023-04-25T06:35:50.393Z"
   },
   {
    "duration": 16,
    "start_time": "2023-04-25T06:35:50.571Z"
   },
   {
    "duration": 144,
    "start_time": "2023-04-25T06:35:50.588Z"
   },
   {
    "duration": 214,
    "start_time": "2023-04-25T06:35:50.734Z"
   },
   {
    "duration": 39,
    "start_time": "2023-04-25T06:35:50.950Z"
   },
   {
    "duration": 645,
    "start_time": "2023-04-25T06:35:50.993Z"
   },
   {
    "duration": 19,
    "start_time": "2023-04-25T06:35:51.639Z"
   },
   {
    "duration": 8,
    "start_time": "2023-04-25T06:35:51.660Z"
   },
   {
    "duration": 7,
    "start_time": "2023-04-25T06:35:51.669Z"
   },
   {
    "duration": 108,
    "start_time": "2023-04-25T06:35:51.677Z"
   },
   {
    "duration": 0,
    "start_time": "2023-04-25T06:35:51.787Z"
   },
   {
    "duration": 0,
    "start_time": "2023-04-25T06:35:51.788Z"
   },
   {
    "duration": 0,
    "start_time": "2023-04-25T06:35:51.789Z"
   },
   {
    "duration": 0,
    "start_time": "2023-04-25T06:35:51.790Z"
   },
   {
    "duration": 0,
    "start_time": "2023-04-25T06:35:51.791Z"
   },
   {
    "duration": 0,
    "start_time": "2023-04-25T06:35:51.792Z"
   },
   {
    "duration": 6,
    "start_time": "2023-04-25T06:36:12.929Z"
   },
   {
    "duration": 9,
    "start_time": "2023-04-25T06:39:36.886Z"
   },
   {
    "duration": 8,
    "start_time": "2023-04-25T06:39:45.485Z"
   },
   {
    "duration": 9,
    "start_time": "2023-04-25T06:39:54.020Z"
   },
   {
    "duration": 9,
    "start_time": "2023-04-25T06:43:29.719Z"
   },
   {
    "duration": 10,
    "start_time": "2023-04-25T06:44:22.559Z"
   },
   {
    "duration": 10,
    "start_time": "2023-04-25T06:44:53.789Z"
   },
   {
    "duration": 8,
    "start_time": "2023-04-25T06:45:08.812Z"
   },
   {
    "duration": 29,
    "start_time": "2023-04-25T06:47:13.458Z"
   },
   {
    "duration": 5,
    "start_time": "2023-04-25T06:47:37.938Z"
   },
   {
    "duration": 55,
    "start_time": "2023-04-25T06:48:40.932Z"
   },
   {
    "duration": 52,
    "start_time": "2023-04-25T06:48:57.499Z"
   },
   {
    "duration": 5,
    "start_time": "2023-04-25T06:52:12.530Z"
   },
   {
    "duration": 6,
    "start_time": "2023-04-25T06:52:17.881Z"
   },
   {
    "duration": 32,
    "start_time": "2023-04-25T06:54:24.728Z"
   },
   {
    "duration": 5,
    "start_time": "2023-04-25T06:56:41.549Z"
   },
   {
    "duration": 1199,
    "start_time": "2023-04-25T06:59:32.604Z"
   },
   {
    "duration": 42,
    "start_time": "2023-04-25T06:59:33.805Z"
   },
   {
    "duration": 39,
    "start_time": "2023-04-25T06:59:33.849Z"
   },
   {
    "duration": 23,
    "start_time": "2023-04-25T06:59:33.890Z"
   },
   {
    "duration": 9,
    "start_time": "2023-04-25T06:59:33.915Z"
   },
   {
    "duration": 30,
    "start_time": "2023-04-25T06:59:33.925Z"
   },
   {
    "duration": 48,
    "start_time": "2023-04-25T06:59:33.957Z"
   },
   {
    "duration": 11,
    "start_time": "2023-04-25T06:59:34.006Z"
   },
   {
    "duration": 45,
    "start_time": "2023-04-25T06:59:34.018Z"
   },
   {
    "duration": 26,
    "start_time": "2023-04-25T06:59:34.064Z"
   },
   {
    "duration": 28,
    "start_time": "2023-04-25T06:59:34.091Z"
   },
   {
    "duration": 18,
    "start_time": "2023-04-25T06:59:34.120Z"
   },
   {
    "duration": 172,
    "start_time": "2023-04-25T06:59:34.139Z"
   },
   {
    "duration": 133,
    "start_time": "2023-04-25T06:59:34.313Z"
   },
   {
    "duration": 160,
    "start_time": "2023-04-25T06:59:34.447Z"
   },
   {
    "duration": 174,
    "start_time": "2023-04-25T06:59:34.609Z"
   },
   {
    "duration": 145,
    "start_time": "2023-04-25T06:59:34.785Z"
   },
   {
    "duration": 27,
    "start_time": "2023-04-25T06:59:34.933Z"
   },
   {
    "duration": 28,
    "start_time": "2023-04-25T06:59:34.962Z"
   },
   {
    "duration": 14,
    "start_time": "2023-04-25T06:59:34.991Z"
   },
   {
    "duration": 140,
    "start_time": "2023-04-25T06:59:35.006Z"
   },
   {
    "duration": 8,
    "start_time": "2023-04-25T06:59:35.147Z"
   },
   {
    "duration": 168,
    "start_time": "2023-04-25T06:59:35.156Z"
   },
   {
    "duration": 21,
    "start_time": "2023-04-25T06:59:35.326Z"
   },
   {
    "duration": 151,
    "start_time": "2023-04-25T06:59:35.349Z"
   },
   {
    "duration": 200,
    "start_time": "2023-04-25T06:59:35.502Z"
   },
   {
    "duration": 36,
    "start_time": "2023-04-25T06:59:35.703Z"
   },
   {
    "duration": 562,
    "start_time": "2023-04-25T06:59:35.740Z"
   },
   {
    "duration": 20,
    "start_time": "2023-04-25T06:59:36.303Z"
   },
   {
    "duration": 5,
    "start_time": "2023-04-25T06:59:36.335Z"
   },
   {
    "duration": 13,
    "start_time": "2023-04-25T06:59:36.341Z"
   },
   {
    "duration": 49,
    "start_time": "2023-04-25T06:59:36.356Z"
   },
   {
    "duration": 238,
    "start_time": "2023-04-25T06:59:36.407Z"
   },
   {
    "duration": 1160,
    "start_time": "2023-04-25T06:59:36.646Z"
   },
   {
    "duration": 5,
    "start_time": "2023-04-25T06:59:37.807Z"
   },
   {
    "duration": 106,
    "start_time": "2023-04-26T06:16:42.063Z"
   },
   {
    "duration": 44,
    "start_time": "2023-04-26T06:23:26.687Z"
   },
   {
    "duration": 1360,
    "start_time": "2023-04-26T06:23:34.936Z"
   },
   {
    "duration": 96,
    "start_time": "2023-04-26T06:23:36.298Z"
   },
   {
    "duration": 98,
    "start_time": "2023-04-26T06:23:36.396Z"
   },
   {
    "duration": 71,
    "start_time": "2023-04-26T06:23:36.497Z"
   },
   {
    "duration": 12,
    "start_time": "2023-04-26T06:23:36.570Z"
   },
   {
    "duration": 30,
    "start_time": "2023-04-26T06:23:36.584Z"
   },
   {
    "duration": 32,
    "start_time": "2023-04-26T06:23:36.616Z"
   },
   {
    "duration": 13,
    "start_time": "2023-04-26T06:23:36.650Z"
   },
   {
    "duration": 21,
    "start_time": "2023-04-26T06:23:36.665Z"
   },
   {
    "duration": 7,
    "start_time": "2023-04-26T06:23:36.689Z"
   },
   {
    "duration": 28,
    "start_time": "2023-04-26T06:23:36.698Z"
   },
   {
    "duration": 30,
    "start_time": "2023-04-26T06:23:36.728Z"
   },
   {
    "duration": 287,
    "start_time": "2023-04-26T06:23:36.760Z"
   },
   {
    "duration": 150,
    "start_time": "2023-04-26T06:23:37.049Z"
   },
   {
    "duration": 169,
    "start_time": "2023-04-26T06:23:37.201Z"
   },
   {
    "duration": 166,
    "start_time": "2023-04-26T06:23:37.372Z"
   },
   {
    "duration": 267,
    "start_time": "2023-04-26T06:23:37.540Z"
   },
   {
    "duration": 30,
    "start_time": "2023-04-26T06:23:37.809Z"
   },
   {
    "duration": 45,
    "start_time": "2023-04-26T06:23:37.840Z"
   },
   {
    "duration": 21,
    "start_time": "2023-04-26T06:23:37.887Z"
   },
   {
    "duration": 150,
    "start_time": "2023-04-26T06:23:37.910Z"
   },
   {
    "duration": 11,
    "start_time": "2023-04-26T06:23:38.062Z"
   },
   {
    "duration": 178,
    "start_time": "2023-04-26T06:23:38.084Z"
   },
   {
    "duration": 27,
    "start_time": "2023-04-26T06:23:38.264Z"
   },
   {
    "duration": 157,
    "start_time": "2023-04-26T06:23:38.293Z"
   },
   {
    "duration": 252,
    "start_time": "2023-04-26T06:23:38.452Z"
   },
   {
    "duration": 43,
    "start_time": "2023-04-26T06:23:38.707Z"
   },
   {
    "duration": 712,
    "start_time": "2023-04-26T06:23:38.755Z"
   },
   {
    "duration": 32,
    "start_time": "2023-04-26T06:23:39.469Z"
   },
   {
    "duration": 6,
    "start_time": "2023-04-26T06:23:39.504Z"
   },
   {
    "duration": 2778,
    "start_time": "2023-04-26T06:23:39.512Z"
   },
   {
    "duration": 0,
    "start_time": "2023-04-26T06:23:42.292Z"
   },
   {
    "duration": 0,
    "start_time": "2023-04-26T06:23:42.294Z"
   },
   {
    "duration": 0,
    "start_time": "2023-04-26T06:23:42.295Z"
   },
   {
    "duration": 0,
    "start_time": "2023-04-26T06:23:42.296Z"
   },
   {
    "duration": 0,
    "start_time": "2023-04-26T06:23:42.298Z"
   },
   {
    "duration": 0,
    "start_time": "2023-04-26T06:23:42.300Z"
   },
   {
    "duration": 21,
    "start_time": "2023-04-26T06:24:01.379Z"
   },
   {
    "duration": 7,
    "start_time": "2023-04-26T06:24:51.328Z"
   },
   {
    "duration": 6,
    "start_time": "2023-04-26T06:25:03.787Z"
   },
   {
    "duration": 1303,
    "start_time": "2023-04-26T06:27:50.904Z"
   },
   {
    "duration": 48,
    "start_time": "2023-04-26T06:27:52.209Z"
   },
   {
    "duration": 44,
    "start_time": "2023-04-26T06:27:52.258Z"
   },
   {
    "duration": 34,
    "start_time": "2023-04-26T06:27:52.304Z"
   },
   {
    "duration": 22,
    "start_time": "2023-04-26T06:27:52.341Z"
   },
   {
    "duration": 53,
    "start_time": "2023-04-26T06:27:52.365Z"
   },
   {
    "duration": 45,
    "start_time": "2023-04-26T06:27:52.422Z"
   },
   {
    "duration": 28,
    "start_time": "2023-04-26T06:27:52.469Z"
   },
   {
    "duration": 24,
    "start_time": "2023-04-26T06:27:52.500Z"
   },
   {
    "duration": 44,
    "start_time": "2023-04-26T06:27:52.526Z"
   },
   {
    "duration": 17,
    "start_time": "2023-04-26T06:27:52.572Z"
   },
   {
    "duration": 30,
    "start_time": "2023-04-26T06:27:52.591Z"
   },
   {
    "duration": 211,
    "start_time": "2023-04-26T06:27:52.623Z"
   },
   {
    "duration": 164,
    "start_time": "2023-04-26T06:27:52.838Z"
   },
   {
    "duration": 186,
    "start_time": "2023-04-26T06:27:53.004Z"
   },
   {
    "duration": 178,
    "start_time": "2023-04-26T06:27:53.192Z"
   },
   {
    "duration": 238,
    "start_time": "2023-04-26T06:27:53.372Z"
   },
   {
    "duration": 33,
    "start_time": "2023-04-26T06:27:53.612Z"
   },
   {
    "duration": 53,
    "start_time": "2023-04-26T06:27:53.647Z"
   },
   {
    "duration": 16,
    "start_time": "2023-04-26T06:27:53.701Z"
   },
   {
    "duration": 186,
    "start_time": "2023-04-26T06:27:53.720Z"
   },
   {
    "duration": 8,
    "start_time": "2023-04-26T06:27:53.908Z"
   },
   {
    "duration": 170,
    "start_time": "2023-04-26T06:27:53.918Z"
   },
   {
    "duration": 20,
    "start_time": "2023-04-26T06:27:54.090Z"
   },
   {
    "duration": 181,
    "start_time": "2023-04-26T06:27:54.111Z"
   },
   {
    "duration": 238,
    "start_time": "2023-04-26T06:27:54.294Z"
   },
   {
    "duration": 34,
    "start_time": "2023-04-26T06:27:54.534Z"
   },
   {
    "duration": 755,
    "start_time": "2023-04-26T06:27:54.569Z"
   },
   {
    "duration": 33,
    "start_time": "2023-04-26T06:27:55.325Z"
   },
   {
    "duration": 5,
    "start_time": "2023-04-26T06:27:55.360Z"
   },
   {
    "duration": 6,
    "start_time": "2023-04-26T06:27:55.383Z"
   },
   {
    "duration": 66,
    "start_time": "2023-04-26T06:27:55.390Z"
   },
   {
    "duration": 273,
    "start_time": "2023-04-26T06:27:55.458Z"
   },
   {
    "duration": 1410,
    "start_time": "2023-04-26T06:27:55.732Z"
   },
   {
    "duration": 6,
    "start_time": "2023-04-26T06:27:57.144Z"
   },
   {
    "duration": 52,
    "start_time": "2023-04-26T06:33:12.979Z"
   },
   {
    "duration": 74,
    "start_time": "2023-04-26T06:33:41.108Z"
   },
   {
    "duration": 57,
    "start_time": "2023-04-26T06:35:41.335Z"
   },
   {
    "duration": 57,
    "start_time": "2023-04-26T08:53:18.968Z"
   },
   {
    "duration": 1579,
    "start_time": "2023-04-26T08:53:27.363Z"
   },
   {
    "duration": 100,
    "start_time": "2023-04-26T08:53:28.945Z"
   },
   {
    "duration": 99,
    "start_time": "2023-04-26T08:53:29.047Z"
   },
   {
    "duration": 79,
    "start_time": "2023-04-26T08:53:29.148Z"
   },
   {
    "duration": 16,
    "start_time": "2023-04-26T08:53:29.230Z"
   },
   {
    "duration": 36,
    "start_time": "2023-04-26T08:53:29.248Z"
   },
   {
    "duration": 43,
    "start_time": "2023-04-26T08:53:29.286Z"
   },
   {
    "duration": 16,
    "start_time": "2023-04-26T08:53:29.331Z"
   },
   {
    "duration": 14,
    "start_time": "2023-04-26T08:53:29.349Z"
   },
   {
    "duration": 278,
    "start_time": "2023-04-26T08:53:29.365Z"
   },
   {
    "duration": 39,
    "start_time": "2023-04-26T08:53:29.645Z"
   },
   {
    "duration": 32,
    "start_time": "2023-04-26T08:53:29.686Z"
   },
   {
    "duration": 210,
    "start_time": "2023-04-26T08:53:29.720Z"
   },
   {
    "duration": 162,
    "start_time": "2023-04-26T08:53:29.940Z"
   },
   {
    "duration": 206,
    "start_time": "2023-04-26T08:53:30.105Z"
   },
   {
    "duration": 197,
    "start_time": "2023-04-26T08:53:30.313Z"
   },
   {
    "duration": 199,
    "start_time": "2023-04-26T08:53:30.512Z"
   },
   {
    "duration": 95,
    "start_time": "2023-04-26T08:53:30.713Z"
   },
   {
    "duration": 98,
    "start_time": "2023-04-26T08:53:30.810Z"
   },
   {
    "duration": 255,
    "start_time": "2023-04-26T08:53:30.911Z"
   },
   {
    "duration": 204,
    "start_time": "2023-04-26T08:53:31.168Z"
   },
   {
    "duration": 11,
    "start_time": "2023-04-26T08:53:31.374Z"
   },
   {
    "duration": 242,
    "start_time": "2023-04-26T08:53:31.387Z"
   },
   {
    "duration": 27,
    "start_time": "2023-04-26T08:53:31.632Z"
   },
   {
    "duration": 247,
    "start_time": "2023-04-26T08:53:31.661Z"
   },
   {
    "duration": 298,
    "start_time": "2023-04-26T08:53:31.910Z"
   },
   {
    "duration": 54,
    "start_time": "2023-04-26T08:53:32.210Z"
   },
   {
    "duration": 753,
    "start_time": "2023-04-26T08:53:32.266Z"
   },
   {
    "duration": 35,
    "start_time": "2023-04-26T08:53:33.021Z"
   },
   {
    "duration": 25,
    "start_time": "2023-04-26T08:53:33.058Z"
   },
   {
    "duration": 45,
    "start_time": "2023-04-26T08:53:33.085Z"
   },
   {
    "duration": 121,
    "start_time": "2023-04-26T08:53:33.132Z"
   },
   {
    "duration": 308,
    "start_time": "2023-04-26T08:53:33.255Z"
   },
   {
    "duration": 1569,
    "start_time": "2023-04-26T08:53:33.565Z"
   },
   {
    "duration": 7,
    "start_time": "2023-04-26T08:53:35.140Z"
   },
   {
    "duration": 7,
    "start_time": "2023-04-26T08:56:43.527Z"
   },
   {
    "duration": 7,
    "start_time": "2023-04-26T08:56:51.928Z"
   },
   {
    "duration": 77,
    "start_time": "2023-04-26T08:58:07.927Z"
   },
   {
    "duration": 63,
    "start_time": "2023-04-26T08:58:45.239Z"
   },
   {
    "duration": 169,
    "start_time": "2023-04-26T09:00:33.068Z"
   },
   {
    "duration": 64,
    "start_time": "2023-04-26T09:07:19.101Z"
   },
   {
    "duration": 64,
    "start_time": "2023-04-26T09:07:35.027Z"
   },
   {
    "duration": 6,
    "start_time": "2023-04-26T09:12:55.310Z"
   },
   {
    "duration": 82,
    "start_time": "2023-04-26T09:17:07.581Z"
   },
   {
    "duration": 1339,
    "start_time": "2023-05-04T10:48:59.022Z"
   },
   {
    "duration": 287,
    "start_time": "2023-05-04T10:49:38.640Z"
   },
   {
    "duration": 1396,
    "start_time": "2023-05-04T10:49:50.034Z"
   },
   {
    "duration": 1529,
    "start_time": "2023-05-04T11:08:13.354Z"
   },
   {
    "duration": 1602,
    "start_time": "2023-05-04T11:47:03.815Z"
   },
   {
    "duration": 68,
    "start_time": "2023-05-04T11:50:41.816Z"
   },
   {
    "duration": 43,
    "start_time": "2023-05-04T11:50:53.230Z"
   },
   {
    "duration": 56,
    "start_time": "2023-05-04T11:50:57.916Z"
   },
   {
    "duration": 76,
    "start_time": "2023-05-04T11:51:10.042Z"
   }
  ],
  "kernelspec": {
   "display_name": "Python 3 (ipykernel)",
   "language": "python",
   "name": "python3"
  },
  "language_info": {
   "codemirror_mode": {
    "name": "ipython",
    "version": 3
   },
   "file_extension": ".py",
   "mimetype": "text/x-python",
   "name": "python",
   "nbconvert_exporter": "python",
   "pygments_lexer": "ipython3",
   "version": "3.9.16"
  },
  "toc": {
   "base_numbering": 1,
   "nav_menu": {},
   "number_sections": true,
   "sideBar": true,
   "skip_h1_title": true,
   "title_cell": "Table of Contents",
   "title_sidebar": "Contents",
   "toc_cell": false,
   "toc_position": {},
   "toc_section_display": true,
   "toc_window_display": true
  }
 },
 "nbformat": 4,
 "nbformat_minor": 5
}
