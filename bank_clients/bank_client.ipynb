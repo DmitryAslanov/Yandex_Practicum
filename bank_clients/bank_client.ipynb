{
 "cells": [
  {
   "cell_type": "markdown",
   "metadata": {
    "toc": true
   },
   "source": [
    "<h1>Содержание<span class=\"tocSkip\"></span></h1>\n",
    "<div class=\"toc\"><ul class=\"toc-item\"><li><span><a href=\"#Задача\" data-toc-modified-id=\"Задача-1\"><span class=\"toc-item-num\">1&nbsp;&nbsp;</span>Задача</a></span></li><li><span><a href=\"#Подготовка-данных\" data-toc-modified-id=\"Подготовка-данных-2\"><span class=\"toc-item-num\">2&nbsp;&nbsp;</span>Подготовка данных</a></span><ul class=\"toc-item\"><li><span><a href=\"#Вывод\" data-toc-modified-id=\"Вывод-2.1\"><span class=\"toc-item-num\">2.1&nbsp;&nbsp;</span>Вывод</a></span></li></ul></li><li><span><a href=\"#Исследование-задачи\" data-toc-modified-id=\"Исследование-задачи-3\"><span class=\"toc-item-num\">3&nbsp;&nbsp;</span>Исследование задачи</a></span><ul class=\"toc-item\"><li><span><a href=\"#Балланс-классов\" data-toc-modified-id=\"Балланс-классов-3.1\"><span class=\"toc-item-num\">3.1&nbsp;&nbsp;</span>Балланс классов</a></span></li><li><span><a href=\"#Выбор-лучшей-модели\" data-toc-modified-id=\"Выбор-лучшей-модели-3.2\"><span class=\"toc-item-num\">3.2&nbsp;&nbsp;</span>Выбор лучшей модели</a></span><ul class=\"toc-item\"><li><span><a href=\"#Логистическая-регрессия\" data-toc-modified-id=\"Логистическая-регрессия-3.2.1\"><span class=\"toc-item-num\">3.2.1&nbsp;&nbsp;</span><strong>Логистическая регрессия</strong></a></span></li><li><span><a href=\"#Дерево-решений\" data-toc-modified-id=\"Дерево-решений-3.2.2\"><span class=\"toc-item-num\">3.2.2&nbsp;&nbsp;</span><strong>Дерево решений</strong></a></span></li><li><span><a href=\"#Лес-деревьев\" data-toc-modified-id=\"Лес-деревьев-3.2.3\"><span class=\"toc-item-num\">3.2.3&nbsp;&nbsp;</span><strong>Лес деревьев</strong></a></span></li></ul></li><li><span><a href=\"#Вывод\" data-toc-modified-id=\"Вывод-3.3\"><span class=\"toc-item-num\">3.3&nbsp;&nbsp;</span>Вывод</a></span></li></ul></li><li><span><a href=\"#Борьба-с-дисбалансом\" data-toc-modified-id=\"Борьба-с-дисбалансом-4\"><span class=\"toc-item-num\">4&nbsp;&nbsp;</span>Борьба с дисбалансом</a></span><ul class=\"toc-item\"><li><span><a href=\"#Борьбу-построим-следующим-образом\" data-toc-modified-id=\"Борьбу-построим-следующим-образом-4.1\"><span class=\"toc-item-num\">4.1&nbsp;&nbsp;</span>Борьбу построим следующим образом</a></span><ul class=\"toc-item\"><li><span><a href=\"#Увеличение\" data-toc-modified-id=\"Увеличение-4.1.1\"><span class=\"toc-item-num\">4.1.1&nbsp;&nbsp;</span>Увеличение</a></span></li><li><span><a href=\"#Умменьшение\" data-toc-modified-id=\"Умменьшение-4.1.2\"><span class=\"toc-item-num\">4.1.2&nbsp;&nbsp;</span>Умменьшение</a></span></li><li><span><a href=\"#Классификация\" data-toc-modified-id=\"Классификация-4.1.3\"><span class=\"toc-item-num\">4.1.3&nbsp;&nbsp;</span>Классификация</a></span></li></ul></li><li><span><a href=\"#Вывод\" data-toc-modified-id=\"Вывод-4.2\"><span class=\"toc-item-num\">4.2&nbsp;&nbsp;</span>Вывод</a></span></li></ul></li><li><span><a href=\"#Тестирование-модели\" data-toc-modified-id=\"Тестирование-модели-5\"><span class=\"toc-item-num\">5&nbsp;&nbsp;</span>Тестирование модели</a></span><ul class=\"toc-item\"><li><span><a href=\"#проверка-на-адекватность\" data-toc-modified-id=\"проверка-на-адекватность-5.1\"><span class=\"toc-item-num\">5.1&nbsp;&nbsp;</span>проверка на адекватность</a></span></li><li><span><a href=\"#Изучение-метрики-AUC-ROC\" data-toc-modified-id=\"Изучение-метрики-AUC-ROC-5.2\"><span class=\"toc-item-num\">5.2&nbsp;&nbsp;</span>Изучение метрики AUC-ROC</a></span></li></ul></li><li><span><a href=\"#Вывод\" data-toc-modified-id=\"Вывод-6\"><span class=\"toc-item-num\">6&nbsp;&nbsp;</span>Вывод</a></span></li><li><span><a href=\"#Чек-лист-готовности-проекта\" data-toc-modified-id=\"Чек-лист-готовности-проекта-7\"><span class=\"toc-item-num\">7&nbsp;&nbsp;</span>Чек-лист готовности проекта</a></span></li></ul></div>"
   ]
  },
  {
   "cell_type": "markdown",
   "metadata": {},
   "source": [
    "# Отток клиентов"
   ]
  },
  {
   "cell_type": "markdown",
   "metadata": {},
   "source": [
    "Из «Бета-Банка» стали уходить клиенты. Каждый месяц. Немного, но заметно. Банковские маркетологи посчитали: сохранять текущих клиентов дешевле, чем привлекать новых.\n",
    "\n",
    "Нужно спрогнозировать, уйдёт клиент из банка в ближайшее время или нет. Вам предоставлены исторические данные о поведении клиентов и расторжении договоров с банком. \n",
    "\n",
    "Постройте модель с предельно большим значением *F1*-меры. Чтобы сдать проект успешно, нужно довести метрику до 0.59. Проверьте *F1*-меру на тестовой выборке самостоятельно.\n",
    "\n",
    "Дополнительно измеряйте *AUC-ROC*, сравнивайте её значение с *F1*-мерой.\n",
    "\n",
    "Источник данных: [https://www.kaggle.com/barelydedicated/bank-customer-churn-modeling](https://www.kaggle.com/barelydedicated/bank-customer-churn-modeling)"
   ]
  },
  {
   "cell_type": "markdown",
   "metadata": {},
   "source": [
    "## Задача\n",
    "\n",
    "Необходимо построить модель, способную спрогнозировать, уйдёт клиент из банка в ближайшее время или нет. В датасете предоставлены исторические данные о поведении клиентов и расторжении договоров с банком."
   ]
  },
  {
   "cell_type": "markdown",
   "metadata": {},
   "source": [
    "## Подготовка данных"
   ]
  },
  {
   "cell_type": "code",
   "execution_count": 1,
   "metadata": {},
   "outputs": [],
   "source": [
    "import pandas as pd\n",
    "import numpy as np\n",
    "import seaborn as sns\n",
    "import matplotlib.pyplot as plt\n",
    "from sklearn.model_selection import train_test_split\n",
    "from sklearn.linear_model import LogisticRegression\n",
    "from sklearn.tree import DecisionTreeClassifier\n",
    "from sklearn.ensemble import RandomForestClassifier\n",
    "from sklearn.metrics import f1_score, precision_score, recall_score, roc_auc_score, roc_curve, accuracy_score, confusion_matrix\n",
    "from sklearn.utils import shuffle\n",
    "from sklearn.preprocessing import StandardScaler\n",
    "from sklearn.model_selection import GridSearchCV\n",
    "from scipy.stats import randint as sp_randint\n",
    "from sklearn.dummy import DummyClassifier\n",
    "import warnings\n",
    "warnings.simplefilter(\"ignore\")"
   ]
  },
  {
   "cell_type": "code",
   "execution_count": 2,
   "metadata": {},
   "outputs": [
    {
     "name": "stdout",
     "output_type": "stream",
     "text": [
      "<class 'pandas.core.frame.DataFrame'>\n",
      "RangeIndex: 10000 entries, 0 to 9999\n",
      "Data columns (total 14 columns):\n",
      " #   Column           Non-Null Count  Dtype  \n",
      "---  ------           --------------  -----  \n",
      " 0   RowNumber        10000 non-null  int64  \n",
      " 1   CustomerId       10000 non-null  int64  \n",
      " 2   Surname          10000 non-null  object \n",
      " 3   CreditScore      10000 non-null  int64  \n",
      " 4   Geography        10000 non-null  object \n",
      " 5   Gender           10000 non-null  object \n",
      " 6   Age              10000 non-null  int64  \n",
      " 7   Tenure           9091 non-null   float64\n",
      " 8   Balance          10000 non-null  float64\n",
      " 9   NumOfProducts    10000 non-null  int64  \n",
      " 10  HasCrCard        10000 non-null  int64  \n",
      " 11  IsActiveMember   10000 non-null  int64  \n",
      " 12  EstimatedSalary  10000 non-null  float64\n",
      " 13  Exited           10000 non-null  int64  \n",
      "dtypes: float64(3), int64(8), object(3)\n",
      "memory usage: 1.1+ MB\n"
     ]
    }
   ],
   "source": [
    "df=pd.read_csv('/datasets/Churn.csv')\n",
    "df.sample(10).T\n",
    "df.info()"
   ]
  },
  {
   "cell_type": "markdown",
   "metadata": {},
   "source": [
    "**Описание**\n",
    "\n",
    "\n",
    "**RowNumber** — индекс строки в данных\n",
    "\n",
    "**CustomerId** — уникальный идентификатор клиента\n",
    "\n",
    "**Surname** — фамилия\n",
    "\n",
    "**CreditScore** — кредитный рейтинг\n",
    "\n",
    "**Geography** — страна проживания\n",
    "\n",
    "**Gender** — пол\n",
    "\n",
    "**Age** — возраст\n",
    "\n",
    "**Tenure** — сколько лет человек является клиентом банка\n",
    "\n",
    "**Balance** — баланс на счёте\n",
    "\n",
    "**NumOfProducts** — количество продуктов банка, используемых клиентом\n",
    "\n",
    "**HasCrCard** — наличие кредитной карты\n",
    "\n",
    "**IsActiveMember** — активность клиента\n",
    "\n",
    "**EstimatedSalary** — предполагаемая зарплата\n",
    "\n",
    "\n",
    "**Exited** — факт ухода клиента(**ЦЕЛЕВОЙ ПРИЗНАК**)"
   ]
  },
  {
   "cell_type": "code",
   "execution_count": 3,
   "metadata": {},
   "outputs": [
    {
     "name": "stdout",
     "output_type": "stream",
     "text": [
      "<class 'pandas.core.frame.DataFrame'>\n",
      "RangeIndex: 10000 entries, 0 to 9999\n",
      "Data columns (total 12 columns):\n",
      " #   Column           Non-Null Count  Dtype  \n",
      "---  ------           --------------  -----  \n",
      " 0   rownumber        10000 non-null  int64  \n",
      " 1   creditscore      10000 non-null  int64  \n",
      " 2   geography        10000 non-null  object \n",
      " 3   gender           10000 non-null  object \n",
      " 4   age              10000 non-null  int64  \n",
      " 5   tenure           9091 non-null   float64\n",
      " 6   balance          10000 non-null  float64\n",
      " 7   numofproducts    10000 non-null  int64  \n",
      " 8   hascrcard        10000 non-null  int64  \n",
      " 9   isactivemember   10000 non-null  int64  \n",
      " 10  estimatedsalary  10000 non-null  float64\n",
      " 11  exited           10000 non-null  int64  \n",
      "dtypes: float64(3), int64(7), object(2)\n",
      "memory usage: 937.6+ KB\n"
     ]
    }
   ],
   "source": [
    "#столбцы CustomerId и Surname.можно удалить,так как индетефикатором можно считать столбец RowNumber\n",
    "df=df.drop(columns=['CustomerId','Surname'])\n",
    "#нижний регистр\n",
    "df.columns=df.columns.str.lower()\n",
    "#проверка\n",
    "df.info()"
   ]
  },
  {
   "cell_type": "code",
   "execution_count": 4,
   "metadata": {},
   "outputs": [
    {
     "name": "stdout",
     "output_type": "stream",
     "text": [
      "<class 'pandas.core.frame.DataFrame'>\n",
      "RangeIndex: 10000 entries, 0 to 9999\n",
      "Data columns (total 12 columns):\n",
      " #   Column           Non-Null Count  Dtype  \n",
      "---  ------           --------------  -----  \n",
      " 0   rownumber        10000 non-null  int32  \n",
      " 1   creditscore      10000 non-null  int32  \n",
      " 2   geography        10000 non-null  object \n",
      " 3   gender           10000 non-null  object \n",
      " 4   age              10000 non-null  int32  \n",
      " 5   tenure           9091 non-null   float32\n",
      " 6   balance          10000 non-null  float32\n",
      " 7   numofproducts    10000 non-null  int32  \n",
      " 8   hascrcard        10000 non-null  int32  \n",
      " 9   isactivemember   10000 non-null  int32  \n",
      " 10  estimatedsalary  10000 non-null  float32\n",
      " 11  exited           10000 non-null  int32  \n",
      "dtypes: float32(3), int32(7), object(2)\n",
      "memory usage: 547.0+ KB\n",
      "количество дубликатов: 0\n"
     ]
    }
   ],
   "source": [
    "#уменьшим затраты памяти на датафрейм\n",
    "\n",
    "df['rownumber']=df['rownumber'].astype('int32')\n",
    "df['creditscore']=df['creditscore'].astype('int32')\n",
    "df['age']=df['age'].astype('int32')\n",
    "df['tenure']=df['tenure'].astype('float32')\n",
    "df['balance']=df['balance'].astype('float32')\n",
    "df['numofproducts']=df['numofproducts'].astype('int32')\n",
    "df['hascrcard']=df['hascrcard'].astype('int32')\n",
    "df['isactivemember']=df['isactivemember'].astype('int32')\n",
    "df['estimatedsalary']=df['estimatedsalary'].astype('float32')\n",
    "df['exited']=df['exited'].astype('int32')\n",
    "#проверим\n",
    "df.info()\n",
    "#количество дубликатов\n",
    "print('количество дубликатов:',df.duplicated().sum())"
   ]
  },
  {
   "cell_type": "code",
   "execution_count": 5,
   "metadata": {},
   "outputs": [
    {
     "data": {
      "text/html": [
       "<style  type=\"text/css\" >\n",
       "#T_1c8bb_row0_col0,#T_1c8bb_row1_col0,#T_1c8bb_row2_col0,#T_1c8bb_row3_col0,#T_1c8bb_row4_col0,#T_1c8bb_row6_col0,#T_1c8bb_row7_col0,#T_1c8bb_row8_col0,#T_1c8bb_row9_col0,#T_1c8bb_row10_col0,#T_1c8bb_row11_col0{\n",
       "            background-color:  #3b4cc0;\n",
       "            color:  #f1f1f1;\n",
       "        }#T_1c8bb_row5_col0{\n",
       "            background-color:  #b40426;\n",
       "            color:  #f1f1f1;\n",
       "        }</style><table id=\"T_1c8bb_\" ><thead>    <tr>        <th class=\"blank level0\" ></th>        <th class=\"col_heading level0 col0\" >0</th>    </tr></thead><tbody>\n",
       "                <tr>\n",
       "                        <th id=\"T_1c8bb_level0_row0\" class=\"row_heading level0 row0\" >rownumber</th>\n",
       "                        <td id=\"T_1c8bb_row0_col0\" class=\"data row0 col0\" >0.0</td>\n",
       "            </tr>\n",
       "            <tr>\n",
       "                        <th id=\"T_1c8bb_level0_row1\" class=\"row_heading level0 row1\" >creditscore</th>\n",
       "                        <td id=\"T_1c8bb_row1_col0\" class=\"data row1 col0\" >0.0</td>\n",
       "            </tr>\n",
       "            <tr>\n",
       "                        <th id=\"T_1c8bb_level0_row2\" class=\"row_heading level0 row2\" >geography</th>\n",
       "                        <td id=\"T_1c8bb_row2_col0\" class=\"data row2 col0\" >0.0</td>\n",
       "            </tr>\n",
       "            <tr>\n",
       "                        <th id=\"T_1c8bb_level0_row3\" class=\"row_heading level0 row3\" >gender</th>\n",
       "                        <td id=\"T_1c8bb_row3_col0\" class=\"data row3 col0\" >0.0</td>\n",
       "            </tr>\n",
       "            <tr>\n",
       "                        <th id=\"T_1c8bb_level0_row4\" class=\"row_heading level0 row4\" >age</th>\n",
       "                        <td id=\"T_1c8bb_row4_col0\" class=\"data row4 col0\" >0.0</td>\n",
       "            </tr>\n",
       "            <tr>\n",
       "                        <th id=\"T_1c8bb_level0_row5\" class=\"row_heading level0 row5\" >tenure</th>\n",
       "                        <td id=\"T_1c8bb_row5_col0\" class=\"data row5 col0\" >9.1</td>\n",
       "            </tr>\n",
       "            <tr>\n",
       "                        <th id=\"T_1c8bb_level0_row6\" class=\"row_heading level0 row6\" >balance</th>\n",
       "                        <td id=\"T_1c8bb_row6_col0\" class=\"data row6 col0\" >0.0</td>\n",
       "            </tr>\n",
       "            <tr>\n",
       "                        <th id=\"T_1c8bb_level0_row7\" class=\"row_heading level0 row7\" >numofproducts</th>\n",
       "                        <td id=\"T_1c8bb_row7_col0\" class=\"data row7 col0\" >0.0</td>\n",
       "            </tr>\n",
       "            <tr>\n",
       "                        <th id=\"T_1c8bb_level0_row8\" class=\"row_heading level0 row8\" >hascrcard</th>\n",
       "                        <td id=\"T_1c8bb_row8_col0\" class=\"data row8 col0\" >0.0</td>\n",
       "            </tr>\n",
       "            <tr>\n",
       "                        <th id=\"T_1c8bb_level0_row9\" class=\"row_heading level0 row9\" >isactivemember</th>\n",
       "                        <td id=\"T_1c8bb_row9_col0\" class=\"data row9 col0\" >0.0</td>\n",
       "            </tr>\n",
       "            <tr>\n",
       "                        <th id=\"T_1c8bb_level0_row10\" class=\"row_heading level0 row10\" >estimatedsalary</th>\n",
       "                        <td id=\"T_1c8bb_row10_col0\" class=\"data row10 col0\" >0.0</td>\n",
       "            </tr>\n",
       "            <tr>\n",
       "                        <th id=\"T_1c8bb_level0_row11\" class=\"row_heading level0 row11\" >exited</th>\n",
       "                        <td id=\"T_1c8bb_row11_col0\" class=\"data row11 col0\" >0.0</td>\n",
       "            </tr>\n",
       "    </tbody></table>"
      ],
      "text/plain": [
       "<pandas.io.formats.style.Styler at 0x7fd99a3a0b50>"
      ]
     },
     "execution_count": 5,
     "metadata": {},
     "output_type": "execute_result"
    }
   ],
   "source": [
    "#пропуски\n",
    "df.isna().sum()\n",
    "pd.DataFrame(df.isna().mean()*100).style.set_precision(1).background_gradient('coolwarm')"
   ]
  },
  {
   "cell_type": "code",
   "execution_count": 6,
   "metadata": {},
   "outputs": [
    {
     "data": {
      "text/html": [
       "<div>\n",
       "<style scoped>\n",
       "    .dataframe tbody tr th:only-of-type {\n",
       "        vertical-align: middle;\n",
       "    }\n",
       "\n",
       "    .dataframe tbody tr th {\n",
       "        vertical-align: top;\n",
       "    }\n",
       "\n",
       "    .dataframe thead th {\n",
       "        text-align: right;\n",
       "    }\n",
       "</style>\n",
       "<table border=\"1\" class=\"dataframe\">\n",
       "  <thead>\n",
       "    <tr style=\"text-align: right;\">\n",
       "      <th></th>\n",
       "      <th>rownumber</th>\n",
       "      <th>creditscore</th>\n",
       "      <th>geography</th>\n",
       "      <th>gender</th>\n",
       "      <th>age</th>\n",
       "      <th>tenure</th>\n",
       "      <th>balance</th>\n",
       "      <th>numofproducts</th>\n",
       "      <th>hascrcard</th>\n",
       "      <th>isactivemember</th>\n",
       "      <th>estimatedsalary</th>\n",
       "      <th>exited</th>\n",
       "    </tr>\n",
       "  </thead>\n",
       "  <tbody>\n",
       "    <tr>\n",
       "      <th>5924</th>\n",
       "      <td>5925</td>\n",
       "      <td>738</td>\n",
       "      <td>France</td>\n",
       "      <td>Female</td>\n",
       "      <td>39</td>\n",
       "      <td>NaN</td>\n",
       "      <td>94435.453125</td>\n",
       "      <td>2</td>\n",
       "      <td>0</td>\n",
       "      <td>1</td>\n",
       "      <td>189430.859375</td>\n",
       "      <td>0</td>\n",
       "    </tr>\n",
       "    <tr>\n",
       "      <th>8795</th>\n",
       "      <td>8796</td>\n",
       "      <td>651</td>\n",
       "      <td>Spain</td>\n",
       "      <td>Male</td>\n",
       "      <td>38</td>\n",
       "      <td>NaN</td>\n",
       "      <td>0.000000</td>\n",
       "      <td>3</td>\n",
       "      <td>1</td>\n",
       "      <td>0</td>\n",
       "      <td>67029.820312</td>\n",
       "      <td>1</td>\n",
       "    </tr>\n",
       "    <tr>\n",
       "      <th>8720</th>\n",
       "      <td>8721</td>\n",
       "      <td>711</td>\n",
       "      <td>France</td>\n",
       "      <td>Female</td>\n",
       "      <td>28</td>\n",
       "      <td>NaN</td>\n",
       "      <td>0.000000</td>\n",
       "      <td>2</td>\n",
       "      <td>0</td>\n",
       "      <td>0</td>\n",
       "      <td>105159.890625</td>\n",
       "      <td>0</td>\n",
       "    </tr>\n",
       "    <tr>\n",
       "      <th>2168</th>\n",
       "      <td>2169</td>\n",
       "      <td>705</td>\n",
       "      <td>Germany</td>\n",
       "      <td>Female</td>\n",
       "      <td>56</td>\n",
       "      <td>NaN</td>\n",
       "      <td>143249.671875</td>\n",
       "      <td>1</td>\n",
       "      <td>1</td>\n",
       "      <td>0</td>\n",
       "      <td>88428.406250</td>\n",
       "      <td>1</td>\n",
       "    </tr>\n",
       "    <tr>\n",
       "      <th>3624</th>\n",
       "      <td>3625</td>\n",
       "      <td>640</td>\n",
       "      <td>France</td>\n",
       "      <td>Female</td>\n",
       "      <td>33</td>\n",
       "      <td>NaN</td>\n",
       "      <td>167298.421875</td>\n",
       "      <td>1</td>\n",
       "      <td>0</td>\n",
       "      <td>1</td>\n",
       "      <td>145381.656250</td>\n",
       "      <td>0</td>\n",
       "    </tr>\n",
       "    <tr>\n",
       "      <th>3971</th>\n",
       "      <td>3972</td>\n",
       "      <td>685</td>\n",
       "      <td>Spain</td>\n",
       "      <td>Male</td>\n",
       "      <td>40</td>\n",
       "      <td>NaN</td>\n",
       "      <td>74896.921875</td>\n",
       "      <td>1</td>\n",
       "      <td>1</td>\n",
       "      <td>0</td>\n",
       "      <td>198694.203125</td>\n",
       "      <td>0</td>\n",
       "    </tr>\n",
       "    <tr>\n",
       "      <th>597</th>\n",
       "      <td>598</td>\n",
       "      <td>646</td>\n",
       "      <td>Germany</td>\n",
       "      <td>Male</td>\n",
       "      <td>39</td>\n",
       "      <td>NaN</td>\n",
       "      <td>111574.406250</td>\n",
       "      <td>1</td>\n",
       "      <td>1</td>\n",
       "      <td>1</td>\n",
       "      <td>30838.509766</td>\n",
       "      <td>0</td>\n",
       "    </tr>\n",
       "    <tr>\n",
       "      <th>5872</th>\n",
       "      <td>5873</td>\n",
       "      <td>658</td>\n",
       "      <td>Spain</td>\n",
       "      <td>Male</td>\n",
       "      <td>21</td>\n",
       "      <td>NaN</td>\n",
       "      <td>0.000000</td>\n",
       "      <td>2</td>\n",
       "      <td>0</td>\n",
       "      <td>1</td>\n",
       "      <td>154279.875000</td>\n",
       "      <td>0</td>\n",
       "    </tr>\n",
       "    <tr>\n",
       "      <th>6654</th>\n",
       "      <td>6655</td>\n",
       "      <td>608</td>\n",
       "      <td>France</td>\n",
       "      <td>Female</td>\n",
       "      <td>30</td>\n",
       "      <td>NaN</td>\n",
       "      <td>85859.757812</td>\n",
       "      <td>1</td>\n",
       "      <td>0</td>\n",
       "      <td>0</td>\n",
       "      <td>142730.265625</td>\n",
       "      <td>0</td>\n",
       "    </tr>\n",
       "    <tr>\n",
       "      <th>461</th>\n",
       "      <td>462</td>\n",
       "      <td>539</td>\n",
       "      <td>France</td>\n",
       "      <td>Male</td>\n",
       "      <td>39</td>\n",
       "      <td>NaN</td>\n",
       "      <td>0.000000</td>\n",
       "      <td>2</td>\n",
       "      <td>1</td>\n",
       "      <td>0</td>\n",
       "      <td>36692.171875</td>\n",
       "      <td>0</td>\n",
       "    </tr>\n",
       "  </tbody>\n",
       "</table>\n",
       "</div>"
      ],
      "text/plain": [
       "      rownumber  creditscore geography  gender  age  tenure        balance  \\\n",
       "5924       5925          738    France  Female   39     NaN   94435.453125   \n",
       "8795       8796          651     Spain    Male   38     NaN       0.000000   \n",
       "8720       8721          711    France  Female   28     NaN       0.000000   \n",
       "2168       2169          705   Germany  Female   56     NaN  143249.671875   \n",
       "3624       3625          640    France  Female   33     NaN  167298.421875   \n",
       "3971       3972          685     Spain    Male   40     NaN   74896.921875   \n",
       "597         598          646   Germany    Male   39     NaN  111574.406250   \n",
       "5872       5873          658     Spain    Male   21     NaN       0.000000   \n",
       "6654       6655          608    France  Female   30     NaN   85859.757812   \n",
       "461         462          539    France    Male   39     NaN       0.000000   \n",
       "\n",
       "      numofproducts  hascrcard  isactivemember  estimatedsalary  exited  \n",
       "5924              2          0               1    189430.859375       0  \n",
       "8795              3          1               0     67029.820312       1  \n",
       "8720              2          0               0    105159.890625       0  \n",
       "2168              1          1               0     88428.406250       1  \n",
       "3624              1          0               1    145381.656250       0  \n",
       "3971              1          1               0    198694.203125       0  \n",
       "597               1          1               1     30838.509766       0  \n",
       "5872              2          0               1    154279.875000       0  \n",
       "6654              1          0               0    142730.265625       0  \n",
       "461               2          1               0     36692.171875       0  "
      ]
     },
     "execution_count": 6,
     "metadata": {},
     "output_type": "execute_result"
    }
   ],
   "source": [
    "#посмотрим детально на прпоуски\n",
    "df[df['tenure'].isna()].sample(10)"
   ]
  },
  {
   "cell_type": "code",
   "execution_count": 7,
   "metadata": {},
   "outputs": [
    {
     "data": {
      "text/plain": [
       "rownumber          0\n",
       "creditscore        0\n",
       "geography          0\n",
       "gender             0\n",
       "age                0\n",
       "tenure             0\n",
       "balance            0\n",
       "numofproducts      0\n",
       "hascrcard          0\n",
       "isactivemember     0\n",
       "estimatedsalary    0\n",
       "exited             0\n",
       "dtype: int64"
      ]
     },
     "execution_count": 7,
     "metadata": {},
     "output_type": "execute_result"
    }
   ],
   "source": [
    "#удалим\n",
    "df=df.dropna(subset=['tenure'])\n",
    "#прверим\n",
    "df.isna().sum()"
   ]
  },
  {
   "cell_type": "code",
   "execution_count": 8,
   "metadata": {
    "scrolled": true
   },
   "outputs": [
    {
     "data": {
      "image/png": "[encoded data removed]",
      "text/plain": [
       "<Figure size 1296x576 with 2 Axes>"
      ]
     },
     "metadata": {
      "needs_background": "light"
     },
     "output_type": "display_data"
    }
   ],
   "source": [
    "plt.figure(figsize=(18,8))\n",
    "corr=sns.heatmap(df[['creditscore',\n",
    "                           'age',\n",
    "                           'balance',\n",
    "                           'numofproducts',\n",
    "                           'hascrcard',\n",
    "                           'isactivemember',\n",
    "                           'estimatedsalary',\n",
    "                           'estimatedsalary',\n",
    "                           'exited']].corr(),annot=True)\n",
    "corr.axes.set_title('Матрица корреляции',fontsize=30)\n",
    "plt.show()\n"
   ]
  },
  {
   "cell_type": "markdown",
   "metadata": {},
   "source": [
    "**Разобьём данные на выборки и преобразуем категориальные в численные**\n"
   ]
  },
  {
   "cell_type": "code",
   "execution_count": 9,
   "metadata": {},
   "outputs": [
    {
     "name": "stdout",
     "output_type": "stream",
     "text": [
      "Тренировочная: (5363, 11) (5363,)\n",
      "Валидационная: (1864, 11) (1864,)\n",
      "Тестовая: (1864, 11) (1864,)\n"
     ]
    }
   ],
   "source": [
    "# выделим целевой признак и фичи\n",
    "target=df['exited']\n",
    "features=df.drop(['exited','tenure'],axis=1)\n",
    "# Преобразоваиние категориальных данных\n",
    "features=pd.get_dummies(features,drop_first=True)\n",
    "# Масштабирование численных признаков\n",
    "pd.options.mode.chained_assignment=None\n",
    "numeric=['creditscore',\n",
    "            'age', \n",
    "            'balance',\n",
    "            'numofproducts',\n",
    "            'hascrcard',\n",
    "            'isactivemember',\n",
    "            'estimatedsalary',\n",
    "            'geography_Germany',\n",
    "            'geography_Spain',\n",
    "            'gender_Male'\n",
    "            ]\n",
    "\n",
    "# Разделим данные на выборки\n",
    "features_train,features_tv,target_train,target_tv=train_test_split(features,target,test_size=0.41,random_state=12345)\n",
    "features_valid,features_test,target_valid,target_test=train_test_split(features_tv,target_tv,test_size=0.5,random_state=12345)\n",
    "\n",
    "scaler=StandardScaler()\n",
    "scaler.fit(features_train[numeric])\n",
    "features_train[numeric] = scaler.transform(features_train[numeric])\n",
    "\n",
    "features_valid[numeric] = scaler.transform(features_valid[numeric]) \n",
    "\n",
    "features_test[numeric] = scaler.transform(features_test[numeric])\n",
    "\n",
    "# Проверка размеров выборок\n",
    "print('Тренировочная:',features_train.shape,target_train.shape)\n",
    "print('Валидационная:',features_valid.shape,target_valid.shape)\n",
    "print('Тестовая:',features_test.shape,target_test.shape)"
   ]
  },
  {
   "cell_type": "markdown",
   "metadata": {},
   "source": [
    "### Вывод\n",
    "\n",
    "для  изучения датафрейма были использованы 2 библиотеки **pandas** & **seaborn**\n",
    "\n",
    "Датафрейм был приведен к нижнему регистру\n",
    "\n",
    "Были переформартирован тип данных во 10 столбцах,для сокращения занимаемой памяти\n",
    "\n",
    "Всего датафрейм имел 14 столбцов,в столбце **tenure** имелись пропуски\n",
    "\n",
    "После обработки количество столбцов уменьшилось на 2,были удалены **CustomerId** и **Surname**,так как они являлись 2 из 3 столбцов индетификатора пользователя,принято решение оставить 1 **(rownumber)**.\n",
    "\n",
    "9% пропусков было из **tenure** было удалено\n",
    "\n",
    "Построена матрица корреляции,на которой наблюдалось слабая отрицательная корреляция между баллансом и количество продуктов используемых клинтом в банке\n",
    "\n",
    "Данные поделены:\n",
    "- тренировачную 60%\n",
    "- валидационную 20%\n",
    "- тестоваю 20%\n",
    "\n",
    "А также категориальные данные преобразованы в численные"
   ]
  },
  {
   "cell_type": "markdown",
   "metadata": {},
   "source": [
    "## Исследование задачи"
   ]
  },
  {
   "cell_type": "markdown",
   "metadata": {},
   "source": [
    "### Балланс классов"
   ]
  },
  {
   "cell_type": "code",
   "execution_count": 10,
   "metadata": {},
   "outputs": [
    {
     "name": "stdout",
     "output_type": "stream",
     "text": [
      "3.853393665158371\n"
     ]
    },
    {
     "data": {
      "image/png": "[encoded data removed]",
      "text/plain": [
       "<Figure size 432x288 with 1 Axes>"
      ]
     },
     "metadata": {
      "needs_background": "light"
     },
     "output_type": "display_data"
    }
   ],
   "source": [
    "def hist_target(target):\n",
    "    ax = target.hist(bins=2)\n",
    "    ax.set(ylabel='количество',\n",
    "           xlabel= 'целевой признак')\n",
    "    ax.set_title('Распределение целевого признака',fontsize=20)\n",
    "    plt.xticks([0,1])\n",
    "    plt.show;\n",
    "    zero, one = target.value_counts()\n",
    "    print(zero / one)\n",
    "\n",
    "hist_target(target_train)"
   ]
  },
  {
   "cell_type": "markdown",
   "metadata": {},
   "source": [
    "Отрицательных значений почти в 4 раза больше положительных"
   ]
  },
  {
   "cell_type": "markdown",
   "metadata": {},
   "source": [
    "Иследование построим следующим образом\n",
    "\n",
    "- Выберем лучшую модель\n",
    "- Подберем гиперпараметры\n",
    "- Иследуем балланс классов"
   ]
  },
  {
   "cell_type": "markdown",
   "metadata": {},
   "source": [
    "### Выбор лучшей модели"
   ]
  },
  {
   "cell_type": "markdown",
   "metadata": {},
   "source": [
    "Напишем функцию которая будем строить roc кривую,считать auc_roc и f1 метрику"
   ]
  },
  {
   "cell_type": "code",
   "execution_count": 30,
   "metadata": {},
   "outputs": [],
   "source": [
    "def plt_roc_curve(clf,features,target):\n",
    "    # Расчёт вероятности классификации\n",
    "    probabilities=clf.predict_proba(features)\n",
    "    probabilities_one_valid=probabilities[:,1]\n",
    "    # Получаем данные для построения графика\n",
    "    fpr,tpr,thresholds=roc_curve(target,probabilities_one_valid) \n",
    "    # Выводим кривую auc-roc\n",
    "    plt.figure()\n",
    "    plt.plot(fpr,tpr,label='Model')\n",
    "    # ROC-кривая случайной модели\n",
    "    plt.plot([0,1],[0, 1])\n",
    "    plt.xlim([0,1])\n",
    "    plt.ylim([0,1])\n",
    "    plt.xlabel(\"False Positive Rate\")\n",
    "    plt.ylabel(\"True Positive Rate\")\n",
    "    plt.title(\"ROC-кривая\")\n",
    "    plt.legend(fontsize=12)\n",
    "    plt.show()\n",
    "    # Расчёт метрики auc_roc\n",
    "    print('auc_roc:',roc_auc_score(target, probabilities_one_valid))"
   ]
  },
  {
   "cell_type": "markdown",
   "metadata": {},
   "source": [
    "#### **Логистическая регрессия**"
   ]
  },
  {
   "cell_type": "code",
   "execution_count": 12,
   "metadata": {},
   "outputs": [
    {
     "data": {
      "image/png": "[encoded data removed]",
      "text/plain": [
       "<Figure size 432x288 with 1 Axes>"
      ]
     },
     "metadata": {
      "needs_background": "light"
     },
     "output_type": "display_data"
    },
    {
     "name": "stdout",
     "output_type": "stream",
     "text": [
      "auc_roc: 0.7732552480164525\n",
      "f1: 0.31411530815109345\n"
     ]
    }
   ],
   "source": [
    "clf=LogisticRegression(random_state=12345)\n",
    "clf.fit(features_train,target_train)\n",
    "predictions_valid=clf.predict(features_valid)\n",
    "plt_roc_curve(clf,features_valid,target_valid)\n",
    "print('f1:',f1_score(target_valid, predictions_valid))"
   ]
  },
  {
   "cell_type": "markdown",
   "metadata": {},
   "source": [
    "#### **Дерево решений**"
   ]
  },
  {
   "cell_type": "code",
   "execution_count": 13,
   "metadata": {},
   "outputs": [
    {
     "data": {
      "image/png": "[encoded data removed]",
      "text/plain": [
       "<Figure size 432x288 with 1 Axes>"
      ]
     },
     "metadata": {
      "needs_background": "light"
     },
     "output_type": "display_data"
    },
    {
     "name": "stdout",
     "output_type": "stream",
     "text": [
      "auc_roc: 0.69574689879881\n",
      "f1: 0.5142118863049097\n"
     ]
    }
   ],
   "source": [
    "clf=DecisionTreeClassifier(random_state=12345)\n",
    "clf.fit(features_train,target_train)\n",
    "predictions_valid=clf.predict(features_valid)\n",
    "plt_roc_curve(clf,features_valid,target_valid)\n",
    "print('f1:',f1_score(target_valid, predictions_valid))"
   ]
  },
  {
   "cell_type": "markdown",
   "metadata": {},
   "source": [
    "#### **Лес деревьев**"
   ]
  },
  {
   "cell_type": "code",
   "execution_count": 14,
   "metadata": {},
   "outputs": [
    {
     "data": {
      "image/png": "[encoded data removed]",
      "text/plain": [
       "<Figure size 432x288 with 1 Axes>"
      ]
     },
     "metadata": {
      "needs_background": "light"
     },
     "output_type": "display_data"
    },
    {
     "name": "stdout",
     "output_type": "stream",
     "text": [
      "auc_roc: 0.8768572252810948\n",
      "f1: 0.5858585858585859\n"
     ]
    }
   ],
   "source": [
    "clf=RandomForestClassifier(random_state=12345)\n",
    "clf.fit(features_train,target_train)\n",
    "predictions_valid=clf.predict(features_valid)\n",
    "plt_roc_curve(clf,features_valid,target_valid)\n",
    "print('f1:',f1_score(target_valid, predictions_valid))"
   ]
  },
  {
   "cell_type": "markdown",
   "metadata": {},
   "source": [
    "**Подбор гиперпараметров**"
   ]
  },
  {
   "cell_type": "code",
   "execution_count": 15,
   "metadata": {},
   "outputs": [
    {
     "name": "stdout",
     "output_type": "stream",
     "text": [
      "Параметры модели: {'max_depth': 20, 'n_estimators': 110}\n",
      "Лучший f1 модели: 0.5685093899170913\n",
      "CPU times: user 2min 12s, sys: 693 ms, total: 2min 13s\n",
      "Wall time: 2min 13s\n"
     ]
    }
   ],
   "source": [
    "%%time\n",
    "# Случайный лес с автоподбором параметров\n",
    "parametrs={'n_estimators': range (50, 121, 10),\n",
    "           'max_depth': range (10,21,2)}\n",
    "\n",
    "clf=RandomForestClassifier(random_state=12345)\n",
    "grid_clf=GridSearchCV(clf, parametrs, scoring='f1')\n",
    "grid_clf.fit(features_train, target_train)\n",
    "predictions_valid = grid_clf.predict(features_valid)\n",
    "print('Параметры модели:', grid_clf.best_params_)\n",
    "print('Лучший f1 модели:', grid_clf.best_score_)"
   ]
  },
  {
   "cell_type": "code",
   "execution_count": 16,
   "metadata": {},
   "outputs": [],
   "source": [
    "best_clf = grid_clf.best_estimator_"
   ]
  },
  {
   "cell_type": "markdown",
   "metadata": {},
   "source": [
    "Произведен,подбор лчших параматрев для случайного леса,запомнили его"
   ]
  },
  {
   "cell_type": "markdown",
   "metadata": {},
   "source": [
    "### Вывод\n",
    "В целевом признаке Отрицательных значений почти в 4 раза больше положительных(нужно исправить)\n",
    "\n",
    "В данном разделе было выборка была обучена на 3ех моделях,лучшим(как и всегда-по моим наблюдениям) оказался случайный лес,для него был произведен побор случайных гипперпараметров,и сохранен"
   ]
  },
  {
   "cell_type": "markdown",
   "metadata": {},
   "source": [
    "## Борьба с дисбалансом"
   ]
  },
  {
   "cell_type": "markdown",
   "metadata": {},
   "source": [
    "### Борьбу построим следующим образом\n",
    "\n",
    "- увеличим выборку\n",
    "- уменьшим выборку\n",
    "- изменим порог квалификации"
   ]
  },
  {
   "cell_type": "markdown",
   "metadata": {},
   "source": [
    "#### Увеличение"
   ]
  },
  {
   "cell_type": "code",
   "execution_count": 17,
   "metadata": {},
   "outputs": [
    {
     "name": "stdout",
     "output_type": "stream",
     "text": [
      "1.0380460310004698\n"
     ]
    },
    {
     "data": {
      "image/png": "[encoded data removed]",
      "text/plain": [
       "<Figure size 432x288 with 1 Axes>"
      ]
     },
     "metadata": {
      "needs_background": "light"
     },
     "output_type": "display_data"
    }
   ],
   "source": [
    "def upsample(features, target, repeat):\n",
    "    #деление признаков\n",
    "    features_zeros = features[target == 0]\n",
    "    features_ones  = features[target == 1]\n",
    "    target_zeros   = target[target == 0]\n",
    "    target_ones    = target[target == 1]\n",
    "    features_upsampled = pd.concat([features_zeros] + [features_ones] * repeat)\n",
    "    target_upsampled   = pd.concat([target_zeros] + [target_ones] * repeat)\n",
    "    #перемегшинвание\n",
    "    features_upsampled, target_upsampled = shuffle(features_upsampled, target_upsampled, random_state=12345)\n",
    "    \n",
    "    return features_upsampled, target_upsampled\n",
    "\n",
    "features_upsampled, target_upsampled = upsample(features_train, target_train, 4)\n",
    "hist_target(target_upsampled)"
   ]
  },
  {
   "cell_type": "code",
   "execution_count": 18,
   "metadata": {},
   "outputs": [
    {
     "data": {
      "text/plain": [
       "0.6283185840707965"
      ]
     },
     "execution_count": 18,
     "metadata": {},
     "output_type": "execute_result"
    }
   ],
   "source": [
    "#обучение на увеличенной выборке\n",
    "upsampled_clf = best_clf\n",
    "upsampled_clf.fit(features_upsampled, target_upsampled)\n",
    "predictions_valid = upsampled_clf.predict(features_valid)\n",
    "f1_score(target_valid, predictions_valid)"
   ]
  },
  {
   "cell_type": "markdown",
   "metadata": {},
   "source": [
    "метрика достигла 0.62"
   ]
  },
  {
   "cell_type": "markdown",
   "metadata": {},
   "source": [
    "#### Умменьшение"
   ]
  },
  {
   "cell_type": "code",
   "execution_count": 19,
   "metadata": {},
   "outputs": [
    {
     "name": "stdout",
     "output_type": "stream",
     "text": [
      "1.038533834586466\n"
     ]
    },
    {
     "data": {
      "image/png": "[encoded data removed]",
      "text/plain": [
       "<Figure size 432x288 with 1 Axes>"
      ]
     },
     "metadata": {
      "needs_background": "light"
     },
     "output_type": "display_data"
    }
   ],
   "source": [
    "def downsample(features, target, fraction):\n",
    "    features_zeros = features[target == 0]\n",
    "    features_ones  = features[target == 1]\n",
    "    target_zeros   = target[target == 0]\n",
    "    target_ones    = target[target == 1]\n",
    "    features_downsampled = pd.concat(\n",
    "        [features_zeros.sample(frac=fraction, random_state=12345)] + [features_ones])\n",
    "    target_downsampled = pd.concat(\n",
    "        [target_zeros.sample(frac=fraction, random_state=12345)] + [target_ones])\n",
    "    #перемешивание\n",
    "    features_downsampled, target_downsampled = shuffle(\n",
    "        features_downsampled, target_downsampled, random_state=12345)\n",
    "    \n",
    "    return features_downsampled, target_downsampled\n",
    "features_downsampled, target_downsampled = downsample(features_train, target_train, 0.25)\n",
    "hist_target(target_downsampled)"
   ]
  },
  {
   "cell_type": "code",
   "execution_count": 20,
   "metadata": {},
   "outputs": [
    {
     "data": {
      "text/plain": [
       "0.5963213939980639"
      ]
     },
     "execution_count": 20,
     "metadata": {},
     "output_type": "execute_result"
    }
   ],
   "source": [
    "#обучим на уменьшеной выборке\n",
    "downsampled_clf = best_clf\n",
    "downsampled_clf.fit(features_downsampled, target_downsampled)\n",
    "predictions_valid = downsampled_clf.predict(features_valid)\n",
    "f1_score(target_valid, predictions_valid)"
   ]
  },
  {
   "cell_type": "markdown",
   "metadata": {},
   "source": [
    "метрика достигла 0.59"
   ]
  },
  {
   "cell_type": "markdown",
   "metadata": {},
   "source": [
    "#### Классификация"
   ]
  },
  {
   "cell_type": "code",
   "execution_count": 21,
   "metadata": {},
   "outputs": [
    {
     "name": "stdout",
     "output_type": "stream",
     "text": [
      "Порог = 0.20 | f1 = 0.430\n",
      "Порог = 0.21 | f1 = 0.438\n",
      "Порог = 0.22 | f1 = 0.442\n",
      "Порог = 0.23 | f1 = 0.447\n",
      "Порог = 0.24 | f1 = 0.451\n",
      "Порог = 0.25 | f1 = 0.456\n",
      "Порог = 0.26 | f1 = 0.463\n",
      "Порог = 0.27 | f1 = 0.468\n",
      "Порог = 0.28 | f1 = 0.476\n",
      "Порог = 0.29 | f1 = 0.485\n",
      "Порог = 0.30 | f1 = 0.498\n",
      "Порог = 0.31 | f1 = 0.504\n",
      "Порог = 0.32 | f1 = 0.507\n",
      "Порог = 0.33 | f1 = 0.509\n",
      "Порог = 0.34 | f1 = 0.511\n",
      "Порог = 0.35 | f1 = 0.513\n",
      "Порог = 0.36 | f1 = 0.514\n",
      "Порог = 0.37 | f1 = 0.518\n",
      "Порог = 0.38 | f1 = 0.527\n",
      "Порог = 0.39 | f1 = 0.534\n",
      "Порог = 0.40 | f1 = 0.543\n",
      "Порог = 0.41 | f1 = 0.547\n",
      "Порог = 0.42 | f1 = 0.554\n",
      "Порог = 0.43 | f1 = 0.559\n",
      "Порог = 0.44 | f1 = 0.563\n",
      "Порог = 0.45 | f1 = 0.567\n",
      "Порог = 0.46 | f1 = 0.574\n",
      "Порог = 0.47 | f1 = 0.579\n",
      "Порог = 0.48 | f1 = 0.586\n",
      "Порог = 0.49 | f1 = 0.586\n",
      "Максимальный f1=0.586 достигается при пороге = 0.48\n"
     ]
    }
   ],
   "source": [
    "# Расчёт вероятности классификации\n",
    "probabilities_valid = best_clf.predict_proba(features_valid)\n",
    "probabilities_one_valid = probabilities_valid[:, 1]\n",
    "max_f1 = 0\n",
    "threshold_max_f1 = 0\n",
    "for threshold in np.arange(0.2,0.5, 0.01):\n",
    "    predicted_valid = probabilities_one_valid > threshold\n",
    "    f1 = f1_score(target_valid, predicted_valid)\n",
    "    print(\"Порог = {:.2f} | f1 = {:.3f}\".format(threshold, f1))\n",
    "    if f1 > max_f1:\n",
    "        max_f1 = f1\n",
    "        threshold_max_f1 = threshold\n",
    "print(\"Максимальный f1={:.3f} достигается при пороге = {:.2f}\".format(max_f1,threshold_max_f1))"
   ]
  },
  {
   "cell_type": "markdown",
   "metadata": {},
   "source": [
    "### Вывод\n",
    "\n",
    "Из трех способов,спсобо увеличения выборки показал лучший результат\n",
    "- Увеличение (поднялась)\n",
    "- Уменьшение (поднялась)\n",
    "- Увеличение (поднялась)"
   ]
  },
  {
   "cell_type": "markdown",
   "metadata": {},
   "source": [
    "## Тестирование модели"
   ]
  },
  {
   "cell_type": "code",
   "execution_count": 22,
   "metadata": {},
   "outputs": [
    {
     "name": "stdout",
     "output_type": "stream",
     "text": [
      "Тренировочная выборка: (11685, 11) (11685,)\n",
      "1.0353596934332\n"
     ]
    },
    {
     "data": {
      "image/png": "[encoded data removed]",
      "text/plain": [
       "<Figure size 432x288 with 1 Axes>"
      ]
     },
     "metadata": {
      "needs_background": "light"
     },
     "output_type": "display_data"
    }
   ],
   "source": [
    "# Объединение тренировачной и валидационной выборок и тренировка модели на объединённых данных\n",
    "features_train = features_train.append(features_valid)\n",
    "target_train = target_train.append(target_valid)\n",
    "# Создание увеличенной тренировочной выборки\n",
    "features_upsampled, target_upsampled = upsample(features_train, target_train, 4)\n",
    "print('Тренировочная выборка:', features_upsampled.shape, target_upsampled.shape)\n",
    "# Проверка баланса новой тренировочной выборки\n",
    "hist_target(target_upsampled)"
   ]
  },
  {
   "cell_type": "code",
   "execution_count": 23,
   "metadata": {},
   "outputs": [
    {
     "data": {
      "text/plain": [
       "RandomForestClassifier(max_depth=20, n_estimators=110, random_state=12345)"
      ]
     },
     "execution_count": 23,
     "metadata": {},
     "output_type": "execute_result"
    }
   ],
   "source": [
    "best_clf.fit(features_upsampled, target_upsampled)"
   ]
  },
  {
   "cell_type": "code",
   "execution_count": 24,
   "metadata": {},
   "outputs": [
    {
     "name": "stdout",
     "output_type": "stream",
     "text": [
      "f1       : 0.6046511627906976\n",
      "precision: 0.65\n",
      "recall   : 0.5652173913043478\n",
      "accuracy : 0.8540772532188842\n",
      "Матрица ошибок\n",
      "[[1384  112]\n",
      " [ 160  208]]\n"
     ]
    }
   ],
   "source": [
    "predictions_test = best_clf.predict(features_test)\n",
    "\n",
    "print('f1       :', f1_score(target_test, predictions_test))\n",
    "print('precision:', precision_score(target_test, predictions_test))\n",
    "print('recall   :', recall_score(target_test, predictions_test))\n",
    "print('accuracy :', accuracy_score(target_test, predictions_test))\n",
    "print('Матрица ошибок')\n",
    "print(confusion_matrix(target_test, predictions_test))"
   ]
  },
  {
   "cell_type": "markdown",
   "metadata": {},
   "source": [
    "Результат работы модели на тестовой выборке соответствует результату на валидационной выборке."
   ]
  },
  {
   "cell_type": "markdown",
   "metadata": {},
   "source": [
    "### проверка на адекватность"
   ]
  },
  {
   "cell_type": "code",
   "execution_count": 25,
   "metadata": {},
   "outputs": [
    {
     "name": "stdout",
     "output_type": "stream",
     "text": [
      "f1        = 0.0\n",
      "precision = 0.0\n",
      "recall    = 0.0\n",
      "accuracy  = 0.8025751072961373\n",
      "Матрица ошибок:\n",
      "[[1384  112]\n",
      " [ 160  208]]\n"
     ]
    }
   ],
   "source": [
    "dummy_model = DummyClassifier(strategy='most_frequent')\n",
    "dummy_model.fit(features_train, target_train)\n",
    "dummy_predict = dummy_model.predict(features_test)\n",
    "print('f1        =', f1_score(target_test, dummy_predict))\n",
    "print('precision =', precision_score(target_test, dummy_predict))\n",
    "print('recall    =', recall_score(target_test, dummy_predict))\n",
    "print('accuracy  =', accuracy_score(target_test, dummy_predict))\n",
    "print('Матрица ошибок:')\n",
    "print(confusion_matrix(target_test, predictions_test))"
   ]
  },
  {
   "cell_type": "markdown",
   "metadata": {},
   "source": [
    "Наша модель показала гораздую больше эффиктивность"
   ]
  },
  {
   "cell_type": "markdown",
   "metadata": {},
   "source": [
    "### Изучение метрики AUC-ROC"
   ]
  },
  {
   "cell_type": "code",
   "execution_count": 26,
   "metadata": {},
   "outputs": [
    {
     "data": {
      "image/png": "[encoded data removed]",
      "text/plain": [
       "<Figure size 432x288 with 1 Axes>"
      ]
     },
     "metadata": {
      "needs_background": "light"
     },
     "output_type": "display_data"
    },
    {
     "name": "stdout",
     "output_type": "stream",
     "text": [
      "auc_roc: 0.8427173549755872\n"
     ]
    }
   ],
   "source": [
    "plt_roc_curve(best_clf, features_test, target_test)"
   ]
  },
  {
   "cell_type": "markdown",
   "metadata": {},
   "source": [
    "Анализ метрики AUC-ROC и кривой ошибок, говорит нам о том, что наша модель работает гораздо лучше, чем модель выдающая случайные значения."
   ]
  },
  {
   "cell_type": "code",
   "execution_count": 28,
   "metadata": {},
   "outputs": [
    {
     "data": {
      "image/png": "[encoded data removed]",
      "text/plain": [
       "<Figure size 432x288 with 1 Axes>"
      ]
     },
     "metadata": {
      "needs_background": "light"
     },
     "output_type": "display_data"
    }
   ],
   "source": [
    "feature_importance = best_clf.feature_importances_\n",
    "feature_imp = pd.DataFrame(sorted(zip(feature_importance, features.columns)), columns=['Value','Feature'])\n",
    "sns.barplot(x=\"Value\", y=\"Feature\", data=feature_imp.sort_values(by=\"Value\", ascending=False))\n",
    "plt.title('Feature importance')\n",
    "plt.tight_layout()\n",
    "plt.show();"
   ]
  },
  {
   "cell_type": "markdown",
   "metadata": {},
   "source": [
    "По графику видно,что наиболее значемыми признаками,которые оказали влияение на метрику оказались \n",
    "\n",
    "- Возраст\n",
    "- Баланс\n",
    "- Количество продуктов\n",
    "- Зарплата\n",
    "- Рейтинг пользователя банка"
   ]
  },
  {
   "cell_type": "markdown",
   "metadata": {},
   "source": [
    "## Вывод\n",
    "На этапе предобработки данных,данные были очищены и разделены на выборки\n",
    "\n",
    "Далее был выполнен выбор лучший модели (лес деревьев),произведен подбор гипперпараметров,а так же исследован балланс клаассов\n",
    "\n",
    "На этапе борьбы с диссбаллансом был выбран метод увеличения выборки\n",
    "\n",
    "Далее были произведены на которых удалось достичь ф1=0.60,после наша модель прошла проверку на адекватность и доказала ее\n",
    "\n",
    "Признаки оказавшие наиболее большое влиеяние на метрику\n",
    "- Возраст\n",
    "- Баланс\n",
    "- Количество продуктов\n",
    "- Зарплата\n",
    "- Рейтинг пользователя банка\n",
    "\n",
    "Из всего выше описанного можно сделать что наша модель прошла проверку!Доказала свою эффективность,для лучшего иследованния модели,нужно больше данных!\n",
    "\n",
    "Модель прогнозирования готова!"
   ]
  },
  {
   "cell_type": "markdown",
   "metadata": {},
   "source": [
    "## Чек-лист готовности проекта"
   ]
  },
  {
   "cell_type": "markdown",
   "metadata": {},
   "source": [
    "Поставьте 'x' в выполненных пунктах. Далее нажмите Shift+Enter."
   ]
  },
  {
   "cell_type": "markdown",
   "metadata": {},
   "source": [
    "- [x]  Jupyter Notebook открыт\n",
    "- [x]  Весь код выполняется без ошибок\n",
    "- [x]  Ячейки с кодом расположены в порядке исполнения\n",
    "- [x]  Выполнен шаг 1: данные подготовлены\n",
    "- [x]  Выполнен шаг 2: задача исследована\n",
    "    - [x]  Исследован баланс классов\n",
    "    - [x]  Изучены модели без учёта дисбаланса\n",
    "    - [x]  Написаны выводы по результатам исследования\n",
    "- [x]  Выполнен шаг 3: учтён дисбаланс\n",
    "    - [x]  Применено несколько способов борьбы с дисбалансом\n",
    "    - [x]  Написаны выводы по результатам исследования\n",
    "- [x]  Выполнен шаг 4: проведено тестирование\n",
    "- [x]  Удалось достичь *F1*-меры не менее 0.59\n",
    "- [x]  Исследована метрика *AUC-ROC*"
   ]
  },
  {
   "cell_type": "code",
   "execution_count": null,
   "metadata": {},
   "outputs": [],
   "source": []
  }
 ],
 "metadata": {
  "ExecuteTimeLog": [
   {
    "duration": 416,
    "start_time": "2023-05-12T20:50:46.194Z"
   },
   {
    "duration": 64,
    "start_time": "2023-05-12T20:51:00.435Z"
   },
   {
    "duration": 181,
    "start_time": "2023-05-12T20:51:06.586Z"
   },
   {
    "duration": 52,
    "start_time": "2023-05-12T20:51:12.494Z"
   },
   {
    "duration": 61,
    "start_time": "2023-05-12T20:51:25.692Z"
   },
   {
    "duration": 45,
    "start_time": "2023-05-12T20:51:31.137Z"
   },
   {
    "duration": 55,
    "start_time": "2023-05-12T20:51:36.090Z"
   },
   {
    "duration": 66,
    "start_time": "2023-05-13T10:59:29.471Z"
   },
   {
    "duration": 498,
    "start_time": "2023-05-13T10:59:32.088Z"
   },
   {
    "duration": 234,
    "start_time": "2023-05-13T10:59:32.587Z"
   },
   {
    "duration": 65,
    "start_time": "2023-05-13T10:59:55.005Z"
   },
   {
    "duration": 55,
    "start_time": "2023-05-13T10:59:59.863Z"
   },
   {
    "duration": 17,
    "start_time": "2023-05-13T11:03:24.714Z"
   },
   {
    "duration": 27,
    "start_time": "2023-05-13T11:06:38.954Z"
   },
   {
    "duration": 19,
    "start_time": "2023-05-13T11:06:44.391Z"
   },
   {
    "duration": 4,
    "start_time": "2023-05-13T11:07:56.588Z"
   },
   {
    "duration": 12,
    "start_time": "2023-05-13T11:08:13.688Z"
   },
   {
    "duration": 1670,
    "start_time": "2023-05-13T11:10:39.941Z"
   },
   {
    "duration": 1802,
    "start_time": "2023-05-13T11:11:04.666Z"
   },
   {
    "duration": 15,
    "start_time": "2023-05-13T11:15:43.655Z"
   },
   {
    "duration": 16,
    "start_time": "2023-05-13T11:15:52.920Z"
   },
   {
    "duration": 24,
    "start_time": "2023-05-13T11:17:30.010Z"
   },
   {
    "duration": 29,
    "start_time": "2023-05-13T11:17:36.539Z"
   },
   {
    "duration": 25,
    "start_time": "2023-05-13T11:17:55.927Z"
   },
   {
    "duration": 53,
    "start_time": "2023-05-13T11:19:13.060Z"
   },
   {
    "duration": 60,
    "start_time": "2023-05-13T11:19:25.461Z"
   },
   {
    "duration": 20,
    "start_time": "2023-05-13T11:19:51.588Z"
   },
   {
    "duration": 8,
    "start_time": "2023-05-13T11:20:00.949Z"
   },
   {
    "duration": 8,
    "start_time": "2023-05-13T11:23:40.010Z"
   },
   {
    "duration": 482,
    "start_time": "2023-05-13T11:23:52.364Z"
   },
   {
    "duration": 2868,
    "start_time": "2023-05-13T11:25:06.440Z"
   },
   {
    "duration": 2542,
    "start_time": "2023-05-13T11:25:22.490Z"
   },
   {
    "duration": 1379,
    "start_time": "2023-05-13T11:26:07.943Z"
   },
   {
    "duration": 3,
    "start_time": "2023-05-13T11:26:20.246Z"
   },
   {
    "duration": 57,
    "start_time": "2023-05-13T11:26:21.163Z"
   },
   {
    "duration": 13,
    "start_time": "2023-05-13T11:26:23.246Z"
   },
   {
    "duration": 12,
    "start_time": "2023-05-13T11:26:24.509Z"
   },
   {
    "duration": 41,
    "start_time": "2023-05-13T11:27:03.288Z"
   },
   {
    "duration": 26,
    "start_time": "2023-05-13T11:27:07.353Z"
   },
   {
    "duration": 7,
    "start_time": "2023-05-13T11:27:11.817Z"
   },
   {
    "duration": 18,
    "start_time": "2023-05-13T11:27:39.812Z"
   },
   {
    "duration": 13,
    "start_time": "2023-05-13T11:27:57.445Z"
   },
   {
    "duration": 14,
    "start_time": "2023-05-13T11:28:02.257Z"
   },
   {
    "duration": 14,
    "start_time": "2023-05-13T11:28:11.742Z"
   },
   {
    "duration": 15,
    "start_time": "2023-05-13T11:28:15.466Z"
   },
   {
    "duration": 7,
    "start_time": "2023-05-13T11:45:43.433Z"
   },
   {
    "duration": 22,
    "start_time": "2023-05-13T11:46:34.001Z"
   },
   {
    "duration": 14,
    "start_time": "2023-05-13T11:47:03.390Z"
   },
   {
    "duration": 23,
    "start_time": "2023-05-13T11:47:17.602Z"
   },
   {
    "duration": 8,
    "start_time": "2023-05-13T11:47:44.750Z"
   },
   {
    "duration": 7,
    "start_time": "2023-05-13T11:48:08.110Z"
   },
   {
    "duration": 9,
    "start_time": "2023-05-13T11:48:09.295Z"
   },
   {
    "duration": 11,
    "start_time": "2023-05-13T11:48:51.206Z"
   },
   {
    "duration": 30,
    "start_time": "2023-05-13T11:49:06.525Z"
   },
   {
    "duration": 7,
    "start_time": "2023-05-13T11:50:59.791Z"
   },
   {
    "duration": 815,
    "start_time": "2023-05-13T11:51:23.002Z"
   },
   {
    "duration": 7317,
    "start_time": "2023-05-13T11:51:28.123Z"
   },
   {
    "duration": 9597,
    "start_time": "2023-05-13T11:52:00.024Z"
   },
   {
    "duration": 54404,
    "start_time": "2023-05-13T11:52:13.894Z"
   },
   {
    "duration": 15,
    "start_time": "2023-05-13T11:53:08.300Z"
   },
   {
    "duration": 14,
    "start_time": "2023-05-13T12:15:41.660Z"
   },
   {
    "duration": 12,
    "start_time": "2023-05-13T12:15:50.766Z"
   },
   {
    "duration": 17,
    "start_time": "2023-05-13T12:16:00.286Z"
   },
   {
    "duration": 13,
    "start_time": "2023-05-13T12:16:42.018Z"
   },
   {
    "duration": 4,
    "start_time": "2023-05-13T12:17:00.138Z"
   },
   {
    "duration": 56,
    "start_time": "2023-05-13T12:17:01.178Z"
   },
   {
    "duration": 14,
    "start_time": "2023-05-13T12:17:05.068Z"
   },
   {
    "duration": 6,
    "start_time": "2023-05-13T12:17:15.031Z"
   },
   {
    "duration": 17,
    "start_time": "2023-05-13T12:17:38.991Z"
   },
   {
    "duration": 13,
    "start_time": "2023-05-13T12:18:26.751Z"
   },
   {
    "duration": 5,
    "start_time": "2023-05-13T12:18:34.886Z"
   },
   {
    "duration": 56,
    "start_time": "2023-05-13T12:18:35.667Z"
   },
   {
    "duration": 4,
    "start_time": "2023-05-13T12:18:37.481Z"
   },
   {
    "duration": 19,
    "start_time": "2023-05-13T12:18:39.903Z"
   },
   {
    "duration": 12,
    "start_time": "2023-05-13T12:19:04.106Z"
   },
   {
    "duration": 18,
    "start_time": "2023-05-13T12:19:49.001Z"
   },
   {
    "duration": 4,
    "start_time": "2023-05-13T12:19:55.224Z"
   },
   {
    "duration": 47,
    "start_time": "2023-05-13T12:19:55.844Z"
   },
   {
    "duration": 22,
    "start_time": "2023-05-13T12:19:57.890Z"
   },
   {
    "duration": 60,
    "start_time": "2023-05-13T12:20:29.807Z"
   },
   {
    "duration": 3112,
    "start_time": "2023-05-13T12:20:42.707Z"
   },
   {
    "duration": 6,
    "start_time": "2023-05-13T12:20:49.767Z"
   },
   {
    "duration": 49,
    "start_time": "2023-05-13T12:20:50.427Z"
   },
   {
    "duration": 12,
    "start_time": "2023-05-13T12:20:53.924Z"
   },
   {
    "duration": 28,
    "start_time": "2023-05-13T12:20:55.685Z"
   },
   {
    "duration": 17,
    "start_time": "2023-05-13T12:21:00.776Z"
   },
   {
    "duration": 14,
    "start_time": "2023-05-13T12:21:05.308Z"
   },
   {
    "duration": 10,
    "start_time": "2023-05-13T12:21:17.264Z"
   },
   {
    "duration": 46910,
    "start_time": "2023-05-13T12:21:41.895Z"
   },
   {
    "duration": 915,
    "start_time": "2023-05-13T12:28:48.727Z"
   },
   {
    "duration": 967,
    "start_time": "2023-05-13T12:29:24.315Z"
   },
   {
    "duration": 997,
    "start_time": "2023-05-13T12:29:32.888Z"
   },
   {
    "duration": 1068,
    "start_time": "2023-05-13T12:29:38.353Z"
   },
   {
    "duration": 177,
    "start_time": "2023-05-13T12:30:10.013Z"
   },
   {
    "duration": 993,
    "start_time": "2023-05-13T12:30:19.872Z"
   },
   {
    "duration": 336,
    "start_time": "2023-05-13T12:31:50.112Z"
   },
   {
    "duration": 409,
    "start_time": "2023-05-13T12:58:32.780Z"
   },
   {
    "duration": 4,
    "start_time": "2023-05-13T12:58:38.860Z"
   },
   {
    "duration": 51,
    "start_time": "2023-05-13T12:58:39.305Z"
   },
   {
    "duration": 9,
    "start_time": "2023-05-13T12:59:23.009Z"
   },
   {
    "duration": 10,
    "start_time": "2023-05-13T12:59:26.508Z"
   },
   {
    "duration": 10,
    "start_time": "2023-05-13T12:59:37.009Z"
   },
   {
    "duration": 7,
    "start_time": "2023-05-13T12:59:42.114Z"
   },
   {
    "duration": 1565,
    "start_time": "2023-05-13T13:01:20.478Z"
   },
   {
    "duration": 8,
    "start_time": "2023-05-13T13:01:36.892Z"
   },
   {
    "duration": 59,
    "start_time": "2023-05-13T13:01:37.372Z"
   },
   {
    "duration": 7,
    "start_time": "2023-05-13T13:01:38.425Z"
   },
   {
    "duration": 19,
    "start_time": "2023-05-13T13:01:45.305Z"
   },
   {
    "duration": 29,
    "start_time": "2023-05-13T13:01:46.996Z"
   },
   {
    "duration": 21,
    "start_time": "2023-05-13T13:01:52.561Z"
   },
   {
    "duration": 15,
    "start_time": "2023-05-13T13:01:53.811Z"
   },
   {
    "duration": 14,
    "start_time": "2023-05-13T13:01:54.759Z"
   },
   {
    "duration": 20,
    "start_time": "2023-05-13T13:02:00.471Z"
   },
   {
    "duration": 21,
    "start_time": "2023-05-13T13:02:17.019Z"
   },
   {
    "duration": 34,
    "start_time": "2023-05-13T13:02:39.482Z"
   },
   {
    "duration": 37,
    "start_time": "2023-05-13T13:03:03.357Z"
   },
   {
    "duration": 21,
    "start_time": "2023-05-13T13:03:40.742Z"
   },
   {
    "duration": 34,
    "start_time": "2023-05-13T13:03:54.417Z"
   },
   {
    "duration": 43,
    "start_time": "2023-05-13T13:04:37.302Z"
   },
   {
    "duration": 47,
    "start_time": "2023-05-13T13:05:45.087Z"
   },
   {
    "duration": 35,
    "start_time": "2023-05-13T13:06:24.113Z"
   },
   {
    "duration": 49,
    "start_time": "2023-05-13T13:07:29.768Z"
   },
   {
    "duration": 44,
    "start_time": "2023-05-13T13:07:38.180Z"
   },
   {
    "duration": 53,
    "start_time": "2023-05-13T13:08:07.851Z"
   },
   {
    "duration": 52,
    "start_time": "2023-05-13T13:08:19.205Z"
   },
   {
    "duration": 44,
    "start_time": "2023-05-13T13:08:28.759Z"
   },
   {
    "duration": 54,
    "start_time": "2023-05-13T13:08:34.810Z"
   },
   {
    "duration": 36,
    "start_time": "2023-05-13T13:09:50.353Z"
   },
   {
    "duration": 79,
    "start_time": "2023-05-13T13:11:06.270Z"
   },
   {
    "duration": 87,
    "start_time": "2023-05-13T13:11:10.281Z"
   },
   {
    "duration": 36,
    "start_time": "2023-05-13T13:11:22.326Z"
   },
   {
    "duration": 47,
    "start_time": "2023-05-13T13:11:42.474Z"
   },
   {
    "duration": 12,
    "start_time": "2023-05-13T13:21:21.791Z"
   },
   {
    "duration": 5,
    "start_time": "2023-05-13T13:21:42.149Z"
   },
   {
    "duration": 1947,
    "start_time": "2023-05-13T13:22:33.068Z"
   },
   {
    "duration": 902,
    "start_time": "2023-05-13T13:25:23.642Z"
   },
   {
    "duration": 174,
    "start_time": "2023-05-13T13:26:12.021Z"
   },
   {
    "duration": 116664,
    "start_time": "2023-05-13T13:37:17.123Z"
   },
   {
    "duration": 56939,
    "start_time": "2023-05-13T13:44:15.035Z"
   },
   {
    "duration": 48454,
    "start_time": "2023-05-13T13:45:57.910Z"
   },
   {
    "duration": 46857,
    "start_time": "2023-05-13T13:48:37.059Z"
   },
   {
    "duration": 58016,
    "start_time": "2023-05-13T13:50:54.750Z"
   },
   {
    "duration": 35381,
    "start_time": "2023-05-13T13:53:08.744Z"
   },
   {
    "duration": 24633,
    "start_time": "2023-05-13T13:54:36.289Z"
   },
   {
    "duration": 17056,
    "start_time": "2023-05-13T13:55:20.673Z"
   },
   {
    "duration": 28732,
    "start_time": "2023-05-13T13:55:49.838Z"
   },
   {
    "duration": 56012,
    "start_time": "2023-05-13T13:56:31.293Z"
   },
   {
    "duration": 913,
    "start_time": "2023-05-13T13:58:00.512Z"
   },
   {
    "duration": 13242,
    "start_time": "2023-05-13T13:58:49.644Z"
   },
   {
    "duration": 8387,
    "start_time": "2023-05-13T13:59:22.346Z"
   },
   {
    "duration": 13251,
    "start_time": "2023-05-13T13:59:45.883Z"
   },
   {
    "duration": 29699,
    "start_time": "2023-05-13T14:00:52.070Z"
   },
   {
    "duration": 131,
    "start_time": "2023-05-13T14:02:04.081Z"
   },
   {
    "duration": 119,
    "start_time": "2023-05-13T14:02:16.988Z"
   },
   {
    "duration": 107,
    "start_time": "2023-05-13T14:02:31.528Z"
   },
   {
    "duration": 115,
    "start_time": "2023-05-13T14:02:38.724Z"
   },
   {
    "duration": 111,
    "start_time": "2023-05-13T14:02:54.990Z"
   },
   {
    "duration": 112,
    "start_time": "2023-05-13T14:04:21.830Z"
   },
   {
    "duration": 108,
    "start_time": "2023-05-13T14:04:28.712Z"
   },
   {
    "duration": 582,
    "start_time": "2023-05-13T14:04:35.572Z"
   },
   {
    "duration": 105,
    "start_time": "2023-05-13T14:04:52.883Z"
   },
   {
    "duration": 28724,
    "start_time": "2023-05-13T14:06:59.548Z"
   },
   {
    "duration": 30328,
    "start_time": "2023-05-13T14:07:45.013Z"
   },
   {
    "duration": 119,
    "start_time": "2023-05-13T14:14:43.967Z"
   },
   {
    "duration": 781,
    "start_time": "2023-05-13T14:15:03.297Z"
   },
   {
    "duration": 1888,
    "start_time": "2023-05-13T14:15:26.481Z"
   },
   {
    "duration": 3131,
    "start_time": "2023-05-13T14:15:44.428Z"
   },
   {
    "duration": 1945,
    "start_time": "2023-05-13T14:15:56.960Z"
   },
   {
    "duration": 3881,
    "start_time": "2023-05-13T14:16:10.822Z"
   },
   {
    "duration": 3306,
    "start_time": "2023-05-13T14:16:26.042Z"
   },
   {
    "duration": 2859,
    "start_time": "2023-05-13T14:16:56.049Z"
   },
   {
    "duration": 2109,
    "start_time": "2023-05-13T14:17:03.842Z"
   },
   {
    "duration": 17407,
    "start_time": "2023-05-13T14:17:18.421Z"
   },
   {
    "duration": 14570,
    "start_time": "2023-05-13T14:18:08.943Z"
   },
   {
    "duration": 11,
    "start_time": "2023-05-13T14:18:55.356Z"
   },
   {
    "duration": 3,
    "start_time": "2023-05-13T14:19:23.377Z"
   },
   {
    "duration": 45,
    "start_time": "2023-05-13T14:22:44.932Z"
   },
   {
    "duration": 59,
    "start_time": "2023-05-13T14:23:11.445Z"
   },
   {
    "duration": 935,
    "start_time": "2023-05-13T14:23:25.426Z"
   },
   {
    "duration": 15399,
    "start_time": "2023-05-13T14:23:33.865Z"
   },
   {
    "duration": 126923,
    "start_time": "2023-05-13T14:25:51.417Z"
   },
   {
    "duration": 33529,
    "start_time": "2023-05-13T14:29:19.558Z"
   },
   {
    "duration": 53,
    "start_time": "2023-05-13T14:33:23.085Z"
   },
   {
    "duration": 1044,
    "start_time": "2023-05-13T14:34:14.567Z"
   },
   {
    "duration": 1582,
    "start_time": "2023-05-13T14:34:37.022Z"
   },
   {
    "duration": 74,
    "start_time": "2023-05-13T14:34:38.610Z"
   },
   {
    "duration": 22,
    "start_time": "2023-05-13T14:34:38.686Z"
   },
   {
    "duration": 71,
    "start_time": "2023-05-13T14:34:38.711Z"
   },
   {
    "duration": 67,
    "start_time": "2023-05-13T14:34:38.784Z"
   },
   {
    "duration": 22,
    "start_time": "2023-05-13T14:34:38.852Z"
   },
   {
    "duration": 25,
    "start_time": "2023-05-13T14:34:38.876Z"
   },
   {
    "duration": 51878,
    "start_time": "2023-05-13T14:34:38.902Z"
   },
   {
    "duration": 1047,
    "start_time": "2023-05-13T14:35:30.785Z"
   },
   {
    "duration": 58,
    "start_time": "2023-05-13T14:35:31.840Z"
   },
   {
    "duration": 141,
    "start_time": "2023-05-13T14:35:31.900Z"
   },
   {
    "duration": 5,
    "start_time": "2023-05-13T14:35:32.043Z"
   },
   {
    "duration": 3111,
    "start_time": "2023-05-13T14:35:32.050Z"
   },
   {
    "duration": 192,
    "start_time": "2023-05-13T14:35:35.163Z"
   },
   {
    "duration": 986,
    "start_time": "2023-05-13T14:35:35.357Z"
   },
   {
    "duration": 33771,
    "start_time": "2023-05-13T14:35:36.346Z"
   },
   {
    "duration": 3,
    "start_time": "2023-05-13T14:36:10.119Z"
   },
   {
    "duration": 110,
    "start_time": "2023-05-13T14:43:37.529Z"
   },
   {
    "duration": 18,
    "start_time": "2023-05-13T14:44:57.623Z"
   },
   {
    "duration": 131,
    "start_time": "2023-05-13T14:45:10.428Z"
   },
   {
    "duration": 158,
    "start_time": "2023-05-13T14:45:24.794Z"
   },
   {
    "duration": 687,
    "start_time": "2023-05-13T14:46:04.221Z"
   },
   {
    "duration": 582,
    "start_time": "2023-05-13T14:46:26.855Z"
   },
   {
    "duration": 389,
    "start_time": "2023-05-13T14:48:18.284Z"
   },
   {
    "duration": 42,
    "start_time": "2023-05-13T14:48:54.258Z"
   },
   {
    "duration": 121,
    "start_time": "2023-05-13T14:49:00.491Z"
   },
   {
    "duration": 132,
    "start_time": "2023-05-13T14:49:08.757Z"
   },
   {
    "duration": 29,
    "start_time": "2023-05-13T14:49:46.619Z"
   },
   {
    "duration": 12,
    "start_time": "2023-05-13T14:50:12.747Z"
   },
   {
    "duration": 4,
    "start_time": "2023-05-13T14:50:16.386Z"
   },
   {
    "duration": 81,
    "start_time": "2023-05-13T14:50:17.087Z"
   },
   {
    "duration": 14,
    "start_time": "2023-05-13T14:50:21.545Z"
   },
   {
    "duration": 37,
    "start_time": "2023-05-13T14:50:49.785Z"
   },
   {
    "duration": 36,
    "start_time": "2023-05-13T14:51:00.087Z"
   },
   {
    "duration": 15,
    "start_time": "2023-05-13T14:51:01.052Z"
   },
   {
    "duration": 15,
    "start_time": "2023-05-13T14:51:03.321Z"
   },
   {
    "duration": 6,
    "start_time": "2023-05-13T14:51:46.820Z"
   },
   {
    "duration": 51,
    "start_time": "2023-05-13T14:51:47.237Z"
   },
   {
    "duration": 27,
    "start_time": "2023-05-13T14:51:50.294Z"
   },
   {
    "duration": 25,
    "start_time": "2023-05-13T14:51:52.940Z"
   },
   {
    "duration": 238,
    "start_time": "2023-05-13T14:52:21.648Z"
   },
   {
    "duration": 86,
    "start_time": "2023-05-13T14:54:10.277Z"
   },
   {
    "duration": 53,
    "start_time": "2023-05-13T15:00:35.223Z"
   },
   {
    "duration": 111,
    "start_time": "2023-05-13T15:00:52.932Z"
   },
   {
    "duration": 37,
    "start_time": "2023-05-13T15:00:57.199Z"
   },
   {
    "duration": 58,
    "start_time": "2023-05-13T15:01:01.833Z"
   },
   {
    "duration": 71,
    "start_time": "2023-05-13T15:01:06.979Z"
   },
   {
    "duration": 87,
    "start_time": "2023-05-13T15:01:34.618Z"
   },
   {
    "duration": 83,
    "start_time": "2023-05-13T15:01:42.057Z"
   },
   {
    "duration": 147,
    "start_time": "2023-05-13T15:01:46.488Z"
   },
   {
    "duration": 223,
    "start_time": "2023-05-13T15:02:08.820Z"
   },
   {
    "duration": 138,
    "start_time": "2023-05-13T15:02:22.192Z"
   },
   {
    "duration": 81,
    "start_time": "2023-05-13T15:03:38.404Z"
   },
   {
    "duration": 92,
    "start_time": "2023-05-13T15:03:49.516Z"
   },
   {
    "duration": 180,
    "start_time": "2023-05-13T15:06:10.580Z"
   },
   {
    "duration": 127,
    "start_time": "2023-05-13T15:12:32.843Z"
   },
   {
    "duration": 31,
    "start_time": "2023-05-13T15:12:55.625Z"
   },
   {
    "duration": 53,
    "start_time": "2023-05-13T15:13:32.275Z"
   },
   {
    "duration": 40,
    "start_time": "2023-05-13T15:14:17.726Z"
   },
   {
    "duration": 17,
    "start_time": "2023-05-13T15:14:28.355Z"
   },
   {
    "duration": 2134,
    "start_time": "2023-05-13T15:15:09.818Z"
   },
   {
    "duration": 65,
    "start_time": "2023-05-13T15:15:11.954Z"
   },
   {
    "duration": 16,
    "start_time": "2023-05-13T15:15:12.022Z"
   },
   {
    "duration": 38,
    "start_time": "2023-05-13T15:15:12.040Z"
   },
   {
    "duration": 85,
    "start_time": "2023-05-13T15:15:12.082Z"
   },
   {
    "duration": 36,
    "start_time": "2023-05-13T15:15:12.169Z"
   },
   {
    "duration": 24,
    "start_time": "2023-05-13T15:15:12.208Z"
   },
   {
    "duration": 50987,
    "start_time": "2023-05-13T15:15:12.234Z"
   },
   {
    "duration": 1053,
    "start_time": "2023-05-13T15:16:03.226Z"
   },
   {
    "duration": 57,
    "start_time": "2023-05-13T15:16:04.281Z"
   },
   {
    "duration": 159,
    "start_time": "2023-05-13T15:16:04.340Z"
   },
   {
    "duration": 14,
    "start_time": "2023-05-13T15:16:04.501Z"
   },
   {
    "duration": 2230,
    "start_time": "2023-05-13T15:16:04.517Z"
   },
   {
    "duration": 197,
    "start_time": "2023-05-13T15:16:06.750Z"
   },
   {
    "duration": 1087,
    "start_time": "2023-05-13T15:16:06.949Z"
   },
   {
    "duration": 32730,
    "start_time": "2023-05-13T15:16:08.038Z"
   },
   {
    "duration": 2,
    "start_time": "2023-05-13T15:16:40.770Z"
   },
   {
    "duration": 127,
    "start_time": "2023-05-13T15:16:40.774Z"
   },
   {
    "duration": 588,
    "start_time": "2023-05-13T15:16:40.903Z"
   },
   {
    "duration": 383,
    "start_time": "2023-05-13T15:16:41.492Z"
   },
   {
    "duration": 260,
    "start_time": "2023-05-13T15:16:41.877Z"
   },
   {
    "duration": 105,
    "start_time": "2023-05-13T15:16:42.140Z"
   },
   {
    "duration": 119,
    "start_time": "2023-05-13T15:16:42.247Z"
   },
   {
    "duration": 174,
    "start_time": "2023-05-13T15:16:42.368Z"
   },
   {
    "duration": 16,
    "start_time": "2023-05-13T15:18:36.122Z"
   },
   {
    "duration": 90,
    "start_time": "2023-05-13T15:18:54.295Z"
   },
   {
    "duration": 25,
    "start_time": "2023-05-13T15:18:58.318Z"
   },
   {
    "duration": 362,
    "start_time": "2023-05-13T15:19:20.421Z"
   },
   {
    "duration": 78,
    "start_time": "2023-05-13T15:19:30.215Z"
   },
   {
    "duration": 389,
    "start_time": "2023-05-13T15:20:03.248Z"
   },
   {
    "duration": 66,
    "start_time": "2023-05-13T15:20:12.646Z"
   },
   {
    "duration": 10,
    "start_time": "2023-05-13T15:21:55.475Z"
   },
   {
    "duration": 25,
    "start_time": "2023-05-13T15:22:53.319Z"
   },
   {
    "duration": 6,
    "start_time": "2023-05-13T15:23:04.325Z"
   },
   {
    "duration": 56,
    "start_time": "2023-05-13T15:23:05.864Z"
   },
   {
    "duration": 14,
    "start_time": "2023-05-13T15:23:08.968Z"
   },
   {
    "duration": 27,
    "start_time": "2023-05-13T15:23:11.564Z"
   },
   {
    "duration": 28,
    "start_time": "2023-05-13T15:23:16.202Z"
   },
   {
    "duration": 26,
    "start_time": "2023-05-13T15:23:19.995Z"
   },
   {
    "duration": 9,
    "start_time": "2023-05-13T15:23:23.851Z"
   },
   {
    "duration": 23,
    "start_time": "2023-05-13T15:23:30.437Z"
   },
   {
    "duration": 45,
    "start_time": "2023-05-13T15:23:38.028Z"
   },
   {
    "duration": 22,
    "start_time": "2023-05-13T15:23:47.023Z"
   },
   {
    "duration": 56,
    "start_time": "2023-05-13T15:24:37.041Z"
   },
   {
    "duration": 159,
    "start_time": "2023-05-13T15:24:40.285Z"
   },
   {
    "duration": 8,
    "start_time": "2023-05-13T15:24:46.526Z"
   },
   {
    "duration": 4227,
    "start_time": "2023-05-13T15:24:49.734Z"
   },
   {
    "duration": 205,
    "start_time": "2023-05-13T15:24:59.423Z"
   },
   {
    "duration": 1118,
    "start_time": "2023-05-13T15:25:09.524Z"
   },
   {
    "duration": 36686,
    "start_time": "2023-05-13T15:25:23.428Z"
   },
   {
    "duration": 3,
    "start_time": "2023-05-13T15:26:23.984Z"
   },
   {
    "duration": 132,
    "start_time": "2023-05-13T15:26:26.723Z"
   },
   {
    "duration": 1372,
    "start_time": "2023-05-13T15:26:29.768Z"
   },
   {
    "duration": 126,
    "start_time": "2023-05-13T15:26:44.277Z"
   },
   {
    "duration": 553,
    "start_time": "2023-05-13T15:26:46.274Z"
   },
   {
    "duration": 145,
    "start_time": "2023-05-13T15:26:54.874Z"
   },
   {
    "duration": 127,
    "start_time": "2023-05-13T15:27:01.154Z"
   },
   {
    "duration": 68,
    "start_time": "2023-05-13T15:27:05.366Z"
   },
   {
    "duration": 1805,
    "start_time": "2023-05-13T15:28:25.671Z"
   },
   {
    "duration": 84,
    "start_time": "2023-05-13T15:28:56.692Z"
   },
   {
    "duration": 131140,
    "start_time": "2023-05-13T15:30:28.948Z"
   },
   {
    "duration": 3,
    "start_time": "2023-05-13T15:33:20.430Z"
   },
   {
    "duration": 144,
    "start_time": "2023-05-13T15:33:23.081Z"
   },
   {
    "duration": 1407,
    "start_time": "2023-05-13T15:33:24.617Z"
   },
   {
    "duration": 144,
    "start_time": "2023-05-13T15:34:03.117Z"
   },
   {
    "duration": 620,
    "start_time": "2023-05-13T15:34:04.429Z"
   },
   {
    "duration": 131,
    "start_time": "2023-05-13T15:34:33.087Z"
   },
   {
    "duration": 143,
    "start_time": "2023-05-13T15:34:56.432Z"
   },
   {
    "duration": 1660,
    "start_time": "2023-05-13T15:34:59.425Z"
   },
   {
    "duration": 89,
    "start_time": "2023-05-13T15:35:01.123Z"
   },
   {
    "duration": 69,
    "start_time": "2023-05-13T15:36:09.223Z"
   },
   {
    "duration": 79,
    "start_time": "2023-05-13T15:36:46.131Z"
   },
   {
    "duration": 108,
    "start_time": "2023-05-13T15:37:13.655Z"
   },
   {
    "duration": 26,
    "start_time": "2023-05-13T15:38:02.489Z"
   },
   {
    "duration": 125,
    "start_time": "2023-05-13T15:38:34.408Z"
   },
   {
    "duration": 193,
    "start_time": "2023-05-13T15:40:16.129Z"
   },
   {
    "duration": 27,
    "start_time": "2023-05-13T15:44:52.788Z"
   },
   {
    "duration": 14,
    "start_time": "2023-05-13T15:45:37.727Z"
   },
   {
    "duration": 1444,
    "start_time": "2023-05-13T15:45:55.524Z"
   },
   {
    "duration": 74,
    "start_time": "2023-05-13T15:45:56.971Z"
   },
   {
    "duration": 13,
    "start_time": "2023-05-13T15:45:57.047Z"
   },
   {
    "duration": 25,
    "start_time": "2023-05-13T15:45:57.062Z"
   },
   {
    "duration": 61,
    "start_time": "2023-05-13T15:45:57.096Z"
   },
   {
    "duration": 15,
    "start_time": "2023-05-13T15:45:57.159Z"
   },
   {
    "duration": 38,
    "start_time": "2023-05-13T15:45:57.175Z"
   },
   {
    "duration": 50559,
    "start_time": "2023-05-13T15:45:57.217Z"
   },
   {
    "duration": 189,
    "start_time": "2023-05-13T15:46:47.778Z"
   },
   {
    "duration": 0,
    "start_time": "2023-05-13T15:46:47.969Z"
   },
   {
    "duration": 0,
    "start_time": "2023-05-13T15:46:47.971Z"
   },
   {
    "duration": 0,
    "start_time": "2023-05-13T15:46:47.971Z"
   },
   {
    "duration": 0,
    "start_time": "2023-05-13T15:46:47.973Z"
   },
   {
    "duration": 0,
    "start_time": "2023-05-13T15:46:47.973Z"
   },
   {
    "duration": 0,
    "start_time": "2023-05-13T15:46:47.974Z"
   },
   {
    "duration": 0,
    "start_time": "2023-05-13T15:46:47.995Z"
   },
   {
    "duration": 0,
    "start_time": "2023-05-13T15:46:47.997Z"
   },
   {
    "duration": 0,
    "start_time": "2023-05-13T15:46:47.998Z"
   },
   {
    "duration": 0,
    "start_time": "2023-05-13T15:46:48.001Z"
   },
   {
    "duration": 0,
    "start_time": "2023-05-13T15:46:48.002Z"
   },
   {
    "duration": 0,
    "start_time": "2023-05-13T15:46:48.003Z"
   },
   {
    "duration": 0,
    "start_time": "2023-05-13T15:46:48.004Z"
   },
   {
    "duration": 0,
    "start_time": "2023-05-13T15:46:48.006Z"
   },
   {
    "duration": 0,
    "start_time": "2023-05-13T15:46:48.007Z"
   },
   {
    "duration": 0,
    "start_time": "2023-05-13T15:46:48.008Z"
   },
   {
    "duration": 0,
    "start_time": "2023-05-13T15:46:48.009Z"
   },
   {
    "duration": 0,
    "start_time": "2023-05-13T15:46:48.010Z"
   },
   {
    "duration": 930,
    "start_time": "2023-05-13T15:48:44.138Z"
   },
   {
    "duration": 63,
    "start_time": "2023-05-13T15:48:48.766Z"
   },
   {
    "duration": 121,
    "start_time": "2023-05-13T15:48:51.664Z"
   },
   {
    "duration": 4,
    "start_time": "2023-05-13T15:48:53.865Z"
   },
   {
    "duration": 3694,
    "start_time": "2023-05-13T15:48:54.240Z"
   },
   {
    "duration": 214,
    "start_time": "2023-05-13T15:48:57.936Z"
   },
   {
    "duration": 1021,
    "start_time": "2023-05-13T15:48:58.152Z"
   },
   {
    "duration": 102656,
    "start_time": "2023-05-13T15:48:59.175Z"
   },
   {
    "duration": 3,
    "start_time": "2023-05-13T15:50:41.833Z"
   },
   {
    "duration": 125,
    "start_time": "2023-05-13T15:50:41.838Z"
   },
   {
    "duration": 1286,
    "start_time": "2023-05-13T15:50:41.965Z"
   },
   {
    "duration": 137,
    "start_time": "2023-05-13T15:50:43.254Z"
   },
   {
    "duration": 469,
    "start_time": "2023-05-13T15:50:43.393Z"
   },
   {
    "duration": 395,
    "start_time": "2023-05-13T15:50:43.864Z"
   },
   {
    "duration": 116,
    "start_time": "2023-05-13T15:50:44.261Z"
   },
   {
    "duration": 1845,
    "start_time": "2023-05-13T15:50:44.379Z"
   },
   {
    "duration": 90,
    "start_time": "2023-05-13T15:50:46.226Z"
   },
   {
    "duration": 19,
    "start_time": "2023-05-13T15:50:46.320Z"
   },
   {
    "duration": 225,
    "start_time": "2023-05-13T15:50:46.340Z"
   },
   {
    "duration": 84,
    "start_time": "2023-05-13T15:51:57.056Z"
   },
   {
    "duration": 1508,
    "start_time": "2023-05-13T15:52:04.521Z"
   },
   {
    "duration": 50,
    "start_time": "2023-05-13T15:52:06.031Z"
   },
   {
    "duration": 12,
    "start_time": "2023-05-13T15:52:06.082Z"
   },
   {
    "duration": 50,
    "start_time": "2023-05-13T15:52:06.102Z"
   },
   {
    "duration": 57,
    "start_time": "2023-05-13T15:52:06.154Z"
   },
   {
    "duration": 22,
    "start_time": "2023-05-13T15:52:06.212Z"
   },
   {
    "duration": 9,
    "start_time": "2023-05-13T15:52:06.236Z"
   },
   {
    "duration": 51334,
    "start_time": "2023-05-13T15:52:06.246Z"
   },
   {
    "duration": 881,
    "start_time": "2023-05-13T15:52:57.582Z"
   },
   {
    "duration": 65,
    "start_time": "2023-05-13T15:52:58.465Z"
   },
   {
    "duration": 121,
    "start_time": "2023-05-13T15:52:58.532Z"
   },
   {
    "duration": 5,
    "start_time": "2023-05-13T15:52:58.655Z"
   },
   {
    "duration": 3990,
    "start_time": "2023-05-13T15:52:58.662Z"
   },
   {
    "duration": 204,
    "start_time": "2023-05-13T15:53:02.655Z"
   },
   {
    "duration": 1075,
    "start_time": "2023-05-13T15:53:02.861Z"
   },
   {
    "duration": 101274,
    "start_time": "2023-05-13T15:53:03.938Z"
   },
   {
    "duration": 8,
    "start_time": "2023-05-13T15:54:45.219Z"
   },
   {
    "duration": 144,
    "start_time": "2023-05-13T15:54:45.228Z"
   },
   {
    "duration": 1386,
    "start_time": "2023-05-13T15:54:45.374Z"
   },
   {
    "duration": 138,
    "start_time": "2023-05-13T15:54:46.762Z"
   },
   {
    "duration": 515,
    "start_time": "2023-05-13T15:54:46.907Z"
   },
   {
    "duration": 421,
    "start_time": "2023-05-13T15:54:47.425Z"
   },
   {
    "duration": 127,
    "start_time": "2023-05-13T15:54:47.847Z"
   },
   {
    "duration": 1758,
    "start_time": "2023-05-13T15:54:47.977Z"
   },
   {
    "duration": 94,
    "start_time": "2023-05-13T15:54:49.737Z"
   },
   {
    "duration": 17,
    "start_time": "2023-05-13T15:54:49.834Z"
   },
   {
    "duration": 221,
    "start_time": "2023-05-13T15:54:49.853Z"
   },
   {
    "duration": 401,
    "start_time": "2023-05-13T15:55:11.580Z"
   },
   {
    "duration": 350,
    "start_time": "2023-05-13T15:55:49.181Z"
   },
   {
    "duration": 109,
    "start_time": "2023-05-13T15:55:52.370Z"
   },
   {
    "duration": 12,
    "start_time": "2023-05-13T15:55:54.894Z"
   },
   {
    "duration": 2617,
    "start_time": "2023-05-13T15:55:56.724Z"
   },
   {
    "duration": 122,
    "start_time": "2023-05-13T15:56:39.521Z"
   },
   {
    "duration": 114,
    "start_time": "2023-05-13T15:56:41.256Z"
   },
   {
    "duration": 1430,
    "start_time": "2023-05-13T15:56:47.339Z"
   },
   {
    "duration": 20,
    "start_time": "2023-05-13T15:56:49.156Z"
   },
   {
    "duration": 7,
    "start_time": "2023-05-13T15:57:02.094Z"
   },
   {
    "duration": 69,
    "start_time": "2023-05-13T15:57:02.304Z"
   },
   {
    "duration": 15,
    "start_time": "2023-05-13T15:57:03.754Z"
   },
   {
    "duration": 41,
    "start_time": "2023-05-13T15:57:05.422Z"
   },
   {
    "duration": 16,
    "start_time": "2023-05-13T15:57:07.763Z"
   },
   {
    "duration": 13,
    "start_time": "2023-05-13T15:57:08.658Z"
   },
   {
    "duration": 8,
    "start_time": "2023-05-13T15:57:09.480Z"
   },
   {
    "duration": 907,
    "start_time": "2023-05-13T15:57:15.838Z"
   },
   {
    "duration": 16,
    "start_time": "2023-05-13T15:57:20.661Z"
   },
   {
    "duration": 42,
    "start_time": "2023-05-13T15:57:30.215Z"
   },
   {
    "duration": 112,
    "start_time": "2023-05-13T15:57:33.975Z"
   },
   {
    "duration": 4,
    "start_time": "2023-05-13T15:57:37.572Z"
   },
   {
    "duration": 2497,
    "start_time": "2023-05-13T15:57:43.413Z"
   },
   {
    "duration": 16,
    "start_time": "2023-05-13T15:58:01.351Z"
   },
   {
    "duration": 19,
    "start_time": "2023-05-13T15:58:45.811Z"
   },
   {
    "duration": 13,
    "start_time": "2023-05-13T15:58:52.877Z"
   },
   {
    "duration": 7,
    "start_time": "2023-05-13T15:58:56.818Z"
   },
   {
    "duration": 68,
    "start_time": "2023-05-13T15:58:57.485Z"
   },
   {
    "duration": 17,
    "start_time": "2023-05-13T15:58:58.925Z"
   },
   {
    "duration": 26,
    "start_time": "2023-05-13T15:59:00.459Z"
   },
   {
    "duration": 16,
    "start_time": "2023-05-13T15:59:01.525Z"
   },
   {
    "duration": 19,
    "start_time": "2023-05-13T15:59:04.751Z"
   },
   {
    "duration": 9,
    "start_time": "2023-05-13T15:59:06.784Z"
   },
   {
    "duration": 900,
    "start_time": "2023-05-13T15:59:12.170Z"
   },
   {
    "duration": 36,
    "start_time": "2023-05-13T15:59:16.951Z"
   },
   {
    "duration": 44,
    "start_time": "2023-05-13T15:59:31.823Z"
   },
   {
    "duration": 39,
    "start_time": "2023-05-13T15:59:38.238Z"
   },
   {
    "duration": 51,
    "start_time": "2023-05-13T15:59:46.570Z"
   },
   {
    "duration": 38,
    "start_time": "2023-05-13T15:59:56.633Z"
   },
   {
    "duration": 137,
    "start_time": "2023-05-13T16:00:03.995Z"
   },
   {
    "duration": 6,
    "start_time": "2023-05-13T16:00:09.373Z"
   },
   {
    "duration": 6664,
    "start_time": "2023-05-13T16:00:11.121Z"
   },
   {
    "duration": 37,
    "start_time": "2023-05-13T16:00:39.729Z"
   },
   {
    "duration": 297,
    "start_time": "2023-05-13T16:00:46.068Z"
   },
   {
    "duration": 5,
    "start_time": "2023-05-13T16:00:49.258Z"
   },
   {
    "duration": 2303,
    "start_time": "2023-05-13T16:00:53.125Z"
   },
   {
    "duration": 175,
    "start_time": "2023-05-13T16:00:59.755Z"
   },
   {
    "duration": 947,
    "start_time": "2023-05-13T16:01:04.725Z"
   },
   {
    "duration": 60539,
    "start_time": "2023-05-13T16:01:23.952Z"
   },
   {
    "duration": 91525,
    "start_time": "2023-05-13T16:03:11.807Z"
   },
   {
    "duration": 118522,
    "start_time": "2023-05-13T16:05:22.685Z"
   },
   {
    "duration": 3,
    "start_time": "2023-05-13T16:08:05.577Z"
   },
   {
    "duration": 113,
    "start_time": "2023-05-13T16:08:09.078Z"
   },
   {
    "duration": 1007,
    "start_time": "2023-05-13T16:08:11.839Z"
   },
   {
    "duration": 109,
    "start_time": "2023-05-13T16:08:18.464Z"
   },
   {
    "duration": 382,
    "start_time": "2023-05-13T16:08:20.038Z"
   },
   {
    "duration": 99,
    "start_time": "2023-05-13T16:08:23.955Z"
   },
   {
    "duration": 141,
    "start_time": "2023-05-13T16:08:30.180Z"
   },
   {
    "duration": 1344,
    "start_time": "2023-05-13T16:08:34.239Z"
   },
   {
    "duration": 69,
    "start_time": "2023-05-13T16:08:37.542Z"
   },
   {
    "duration": 16,
    "start_time": "2023-05-13T16:10:31.201Z"
   },
   {
    "duration": 205,
    "start_time": "2023-05-13T16:10:37.635Z"
   },
   {
    "duration": 1854,
    "start_time": "2023-05-14T14:52:19.366Z"
   },
   {
    "duration": 200,
    "start_time": "2023-05-14T14:52:21.222Z"
   },
   {
    "duration": 15,
    "start_time": "2023-05-14T14:52:21.424Z"
   },
   {
    "duration": 29,
    "start_time": "2023-05-14T14:52:21.441Z"
   },
   {
    "duration": 106,
    "start_time": "2023-05-14T14:52:21.472Z"
   },
   {
    "duration": 31,
    "start_time": "2023-05-14T14:52:21.580Z"
   },
   {
    "duration": 14,
    "start_time": "2023-05-14T14:52:21.613Z"
   },
   {
    "duration": 1032,
    "start_time": "2023-05-14T14:52:21.629Z"
   },
   {
    "duration": 61,
    "start_time": "2023-05-14T14:52:22.664Z"
   },
   {
    "duration": 153,
    "start_time": "2023-05-14T14:52:22.728Z"
   },
   {
    "duration": 6,
    "start_time": "2023-05-14T14:52:22.883Z"
   },
   {
    "duration": 1754,
    "start_time": "2023-05-14T14:52:22.891Z"
   },
   {
    "duration": 290,
    "start_time": "2023-05-14T14:52:24.647Z"
   },
   {
    "duration": 1093,
    "start_time": "2023-05-14T14:52:24.939Z"
   },
   {
    "duration": 134986,
    "start_time": "2023-05-14T14:52:26.033Z"
   },
   {
    "duration": 6,
    "start_time": "2023-05-14T14:54:41.021Z"
   },
   {
    "duration": 161,
    "start_time": "2023-05-14T14:54:41.029Z"
   },
   {
    "duration": 1363,
    "start_time": "2023-05-14T14:54:41.192Z"
   },
   {
    "duration": 202,
    "start_time": "2023-05-14T14:54:42.558Z"
   },
   {
    "duration": 515,
    "start_time": "2023-05-14T14:54:42.763Z"
   },
   {
    "duration": 146,
    "start_time": "2023-05-14T14:54:43.280Z"
   },
   {
    "duration": 196,
    "start_time": "2023-05-14T14:54:43.432Z"
   },
   {
    "duration": 1750,
    "start_time": "2023-05-14T14:54:43.631Z"
   },
   {
    "duration": 100,
    "start_time": "2023-05-14T14:54:45.383Z"
   },
   {
    "duration": 41,
    "start_time": "2023-05-14T14:54:45.486Z"
   },
   {
    "duration": 280,
    "start_time": "2023-05-14T14:54:45.530Z"
   },
   {
    "duration": 43,
    "start_time": "2023-05-14T14:58:47.412Z"
   },
   {
    "duration": 74,
    "start_time": "2023-05-14T15:00:52.537Z"
   },
   {
    "duration": 96,
    "start_time": "2023-05-14T15:06:04.257Z"
   },
   {
    "duration": 5,
    "start_time": "2023-05-14T15:11:28.648Z"
   },
   {
    "duration": 1595,
    "start_time": "2023-05-14T15:11:37.737Z"
   },
   {
    "duration": 6,
    "start_time": "2023-05-14T15:11:55.029Z"
   },
   {
    "duration": 2672,
    "start_time": "2023-05-14T15:12:01.178Z"
   },
   {
    "duration": 35,
    "start_time": "2023-05-14T15:12:11.954Z"
   },
   {
    "duration": 141,
    "start_time": "2023-05-14T15:12:16.248Z"
   },
   {
    "duration": 6,
    "start_time": "2023-05-14T15:12:20.917Z"
   },
   {
    "duration": 2885,
    "start_time": "2023-05-14T15:12:23.064Z"
   },
   {
    "duration": 143,
    "start_time": "2023-05-14T15:13:13.248Z"
   },
   {
    "duration": 69,
    "start_time": "2023-05-14T15:13:23.984Z"
   },
   {
    "duration": 4,
    "start_time": "2023-05-14T15:13:42.989Z"
   },
   {
    "duration": 55,
    "start_time": "2023-05-14T15:13:43.719Z"
   },
   {
    "duration": 15,
    "start_time": "2023-05-14T15:13:44.568Z"
   },
   {
    "duration": 30,
    "start_time": "2023-05-14T15:13:45.448Z"
   },
   {
    "duration": 17,
    "start_time": "2023-05-14T15:13:45.998Z"
   },
   {
    "duration": 15,
    "start_time": "2023-05-14T15:13:46.488Z"
   },
   {
    "duration": 10,
    "start_time": "2023-05-14T15:13:47.072Z"
   },
   {
    "duration": 909,
    "start_time": "2023-05-14T15:13:48.668Z"
   },
   {
    "duration": 140,
    "start_time": "2023-05-14T15:13:53.072Z"
   },
   {
    "duration": 41,
    "start_time": "2023-05-14T15:14:03.501Z"
   },
   {
    "duration": 140,
    "start_time": "2023-05-14T15:14:17.278Z"
   },
   {
    "duration": 5,
    "start_time": "2023-05-14T15:14:19.748Z"
   },
   {
    "duration": 1062,
    "start_time": "2023-05-14T15:14:22.304Z"
   },
   {
    "duration": 58,
    "start_time": "2023-05-14T15:15:41.036Z"
   },
   {
    "duration": 129,
    "start_time": "2023-05-14T15:15:47.923Z"
   },
   {
    "duration": 6,
    "start_time": "2023-05-14T15:15:53.243Z"
   },
   {
    "duration": 1651,
    "start_time": "2023-05-14T15:15:56.791Z"
   },
   {
    "duration": 177,
    "start_time": "2023-05-14T15:16:15.898Z"
   },
   {
    "duration": 955,
    "start_time": "2023-05-14T15:16:18.362Z"
   },
   {
    "duration": 4,
    "start_time": "2023-05-14T15:17:02.306Z"
   },
   {
    "duration": 1377,
    "start_time": "2023-05-14T15:17:04.161Z"
   },
   {
    "duration": 1617,
    "start_time": "2023-05-14T15:18:01.313Z"
   },
   {
    "duration": 55,
    "start_time": "2023-05-14T15:18:02.932Z"
   },
   {
    "duration": 13,
    "start_time": "2023-05-14T15:18:02.988Z"
   },
   {
    "duration": 41,
    "start_time": "2023-05-14T15:18:03.002Z"
   },
   {
    "duration": 54,
    "start_time": "2023-05-14T15:18:03.045Z"
   },
   {
    "duration": 15,
    "start_time": "2023-05-14T15:18:03.100Z"
   },
   {
    "duration": 35,
    "start_time": "2023-05-14T15:18:03.117Z"
   },
   {
    "duration": 912,
    "start_time": "2023-05-14T15:18:03.153Z"
   },
   {
    "duration": 53,
    "start_time": "2023-05-14T15:18:04.067Z"
   },
   {
    "duration": 128,
    "start_time": "2023-05-14T15:18:04.121Z"
   },
   {
    "duration": 4,
    "start_time": "2023-05-14T15:18:04.251Z"
   },
   {
    "duration": 1075,
    "start_time": "2023-05-14T15:18:04.257Z"
   },
   {
    "duration": 259,
    "start_time": "2023-05-14T15:18:05.334Z"
   },
   {
    "duration": 1004,
    "start_time": "2023-05-14T15:18:05.598Z"
   },
   {
    "duration": 127339,
    "start_time": "2023-05-14T15:18:06.604Z"
   },
   {
    "duration": 2,
    "start_time": "2023-05-14T15:20:13.945Z"
   },
   {
    "duration": 148,
    "start_time": "2023-05-14T15:20:13.949Z"
   },
   {
    "duration": 1297,
    "start_time": "2023-05-14T15:20:14.099Z"
   },
   {
    "duration": 150,
    "start_time": "2023-05-14T15:20:15.397Z"
   },
   {
    "duration": 470,
    "start_time": "2023-05-14T15:20:15.549Z"
   },
   {
    "duration": 125,
    "start_time": "2023-05-14T15:20:16.021Z"
   },
   {
    "duration": 166,
    "start_time": "2023-05-14T15:20:16.148Z"
   },
   {
    "duration": 1653,
    "start_time": "2023-05-14T15:20:16.317Z"
   },
   {
    "duration": 64,
    "start_time": "2023-05-14T15:20:17.972Z"
   },
   {
    "duration": 20,
    "start_time": "2023-05-14T15:20:18.038Z"
   },
   {
    "duration": 230,
    "start_time": "2023-05-14T15:20:18.061Z"
   },
   {
    "duration": 5,
    "start_time": "2023-05-14T15:29:29.120Z"
   },
   {
    "duration": 3311,
    "start_time": "2023-05-14T15:29:35.344Z"
   },
   {
    "duration": 20,
    "start_time": "2023-05-14T15:29:47.258Z"
   },
   {
    "duration": 1810,
    "start_time": "2023-05-15T04:03:52.822Z"
   },
   {
    "duration": 271,
    "start_time": "2023-05-15T04:03:54.634Z"
   },
   {
    "duration": 17,
    "start_time": "2023-05-15T04:03:54.907Z"
   },
   {
    "duration": 43,
    "start_time": "2023-05-15T04:03:54.926Z"
   },
   {
    "duration": 94,
    "start_time": "2023-05-15T04:03:54.973Z"
   },
   {
    "duration": 38,
    "start_time": "2023-05-15T04:03:55.069Z"
   },
   {
    "duration": 141,
    "start_time": "2023-05-15T04:03:55.110Z"
   },
   {
    "duration": 1139,
    "start_time": "2023-05-15T04:03:55.254Z"
   },
   {
    "duration": 66,
    "start_time": "2023-05-15T04:03:56.396Z"
   },
   {
    "duration": 166,
    "start_time": "2023-05-15T04:03:56.464Z"
   },
   {
    "duration": 7,
    "start_time": "2023-05-15T04:03:56.633Z"
   },
   {
    "duration": 2382,
    "start_time": "2023-05-15T04:03:56.641Z"
   },
   {
    "duration": 293,
    "start_time": "2023-05-15T04:03:59.027Z"
   },
   {
    "duration": 1033,
    "start_time": "2023-05-15T04:03:59.323Z"
   },
   {
    "duration": 133539,
    "start_time": "2023-05-15T04:04:00.359Z"
   },
   {
    "duration": 5,
    "start_time": "2023-05-15T04:06:13.900Z"
   },
   {
    "duration": 150,
    "start_time": "2023-05-15T04:06:13.907Z"
   },
   {
    "duration": 1246,
    "start_time": "2023-05-15T04:06:14.059Z"
   },
   {
    "duration": 145,
    "start_time": "2023-05-15T04:06:15.307Z"
   },
   {
    "duration": 502,
    "start_time": "2023-05-15T04:06:15.454Z"
   },
   {
    "duration": 164,
    "start_time": "2023-05-15T04:06:15.959Z"
   },
   {
    "duration": 179,
    "start_time": "2023-05-15T04:06:16.125Z"
   },
   {
    "duration": 1633,
    "start_time": "2023-05-15T04:06:16.309Z"
   },
   {
    "duration": 93,
    "start_time": "2023-05-15T04:06:17.945Z"
   },
   {
    "duration": 13,
    "start_time": "2023-05-15T04:06:18.040Z"
   },
   {
    "duration": 243,
    "start_time": "2023-05-15T04:06:18.055Z"
   },
   {
    "duration": 106,
    "start_time": "2023-05-15T04:11:19.960Z"
   },
   {
    "duration": 348,
    "start_time": "2023-05-15T04:11:46.206Z"
   },
   {
    "duration": 85,
    "start_time": "2023-05-15T04:16:41.865Z"
   },
   {
    "duration": 6,
    "start_time": "2023-05-15T04:17:24.751Z"
   }
  ],
  "kernelspec": {
   "display_name": "Python 3 (ipykernel)",
   "language": "python",
   "name": "python3"
  },
  "language_info": {
   "codemirror_mode": {
    "name": "ipython",
    "version": 3
   },
   "file_extension": ".py",
   "mimetype": "text/x-python",
   "name": "python",
   "nbconvert_exporter": "python",
   "pygments_lexer": "ipython3",
   "version": "3.9.16"
  },
  "toc": {
   "base_numbering": 1,
   "nav_menu": {},
   "number_sections": true,
   "sideBar": true,
   "skip_h1_title": true,
   "title_cell": "Содержание",
   "title_sidebar": "Contents",
   "toc_cell": true,
   "toc_position": {
    "height": "calc(100% - 180px)",
    "left": "10px",
    "top": "150px",
    "width": "294.236px"
   },
   "toc_section_display": true,
   "toc_window_display": true
  }
 },
 "nbformat": 4,
 "nbformat_minor": 2
}
