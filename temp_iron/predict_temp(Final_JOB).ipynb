{
 "cells": [
  {
   "cell_type": "markdown",
   "metadata": {},
   "source": [
    "# Описание проекта: промышленность(Прогнозирование температуры сплава)"
   ]
  },
  {
   "cell_type": "markdown",
   "metadata": {},
   "source": [
    "Чтобы оптимизировать производственные расходы, металлургический комбинат ООО «Так закаляем сталь» решил уменьшить потребление электроэнергии на этапе обработки стали. Вам предстоит построить модель, которая предскажет температуру стали."
   ]
  },
  {
   "cell_type": "markdown",
   "metadata": {},
   "source": [
    "# Описание этапа обработки"
   ]
  },
  {
   "cell_type": "markdown",
   "metadata": {},
   "source": [
    "Сталь обрабатывают в металлическом ковше вместимостью около 100 тонн. Чтобы ковш выдерживал высокие температуры, изнутри его облицовывают огнеупорным кирпичом. Расплавленную сталь заливают в ковш и подогревают до нужной температуры графитовыми электродами. Они установлены в крышке ковша.\n",
    "\n",
    "Из сплава выводится сера (десульфурация), добавлением примесей корректируется химический состав и отбираются пробы. Сталь легируют — изменяют её состав — подавая куски сплава из бункера для сыпучих материалов или проволоку через специальный трайб-аппарат (англ. tribe, «масса»).\n",
    "\n",
    "Перед тем как первый раз ввести легирующие добавки, измеряют температуру стали и производят её химический анализ. Потом температуру на несколько минут повышают, добавляют легирующие материалы и продувают сплав инертным газом. Затем его перемешивают и снова проводят измерения. Такой цикл повторяется до достижения целевого химического состава и оптимальной температуры плавки.\n",
    "Тогда расплавленная сталь отправляется на доводку металла или поступает в машину непрерывной разливки. Оттуда готовый продукт выходит в виде заготовок-слябов (англ. slab, «плита»)."
   ]
  },
  {
   "cell_type": "markdown",
   "metadata": {},
   "source": [
    "# Описание данных"
   ]
  },
  {
   "cell_type": "markdown",
   "metadata": {},
   "source": [
    "Данные состоят из файлов, полученных из разных источников:\n",
    "\n",
    "- **data_arc_new.csv** — данные об электродах;\n",
    "- **data_bulk_new.csv** — данные о подаче сыпучих материалов (объём);\n",
    "- **data_bulk_time_new.csv** — данные о подаче сыпучих материалов (время);\n",
    "- **data_gas_new.csv** — данные о продувке сплава газом;\n",
    "- **data_temp_new.csv** — результаты измерения температуры;\n",
    "- **data_wire_new.csv** — данные о проволочных материалах (объём);\n",
    "- **data_wire_time_new.csv** — данные о проволочных материалах (время).\n",
    "\n",
    "Во всех файлах столбец **key** содержит номер партии. В файлах может быть несколько строк с одинаковым значением **key**: они соответствуют разным итерациям обработки."
   ]
  },
  {
   "cell_type": "markdown",
   "metadata": {},
   "source": [
    "# План выполнения проекта"
   ]
  },
  {
   "cell_type": "markdown",
   "metadata": {},
   "source": [
    "1 **Первичный анализ данных**\n",
    "\n",
    "- Импорт библиотек\n",
    "\n",
    "- чтение файлов\n",
    "\n",
    "- изучение данных\n",
    "\n",
    "- построение граффиков\n",
    "\n",
    "- поиск дубликатов\n",
    "\n",
    "- поиск взаимосвязей\n",
    "\n",
    "- написание промежуточных выводов\n",
    "\n",
    "2 **Подготовка данных к обучению модели**\n",
    "\n",
    "- Обработка пропусков\n",
    "\n",
    "- очистка данных\n",
    "\n",
    "- формирование таблиц признаков\n",
    "\n",
    "- формирование выборок\n",
    "\n",
    "3 **Построение модели** Рассмотрим несколько вариантов моделей ML\n",
    "\n",
    "- Линейная регрессия\n",
    "\n",
    "- Дерево решений\n",
    "\n",
    "- Случайный лес\n",
    "\n",
    "- CatBoost\n",
    "\n",
    "\n",
    "4 **Тестирование модели**\n",
    "\n",
    "- Тестирование модели\n",
    "\n",
    "- Проверка модели на адекватность\n",
    "\n",
    "- Оценка важности признаков\n",
    "\n",
    "5 **Отчёт о проделанной работе**\n",
    "\n",
    "- Написание общего вывода о проделанной работе"
   ]
  },
  {
   "cell_type": "markdown",
   "metadata": {},
   "source": [
    "## Первичный анализ данных"
   ]
  },
  {
   "cell_type": "markdown",
   "metadata": {},
   "source": [
    "Импортируем бибилотеки\n",
    "\n",
    "Преобразуем данные о дате и времени к типу **Datetime**\n",
    "\n",
    "Напишем функцию для избежания дублирования кода"
   ]
  },
  {
   "cell_type": "code",
   "execution_count": 1,
   "metadata": {},
   "outputs": [],
   "source": [
    "# Импорт библиотек\n",
    "import pandas as pd\n",
    "import matplotlib.pyplot as plt\n",
    "import seaborn as sns\n",
    "import numpy as np\n",
    "\n",
    "from sklearn.model_selection import train_test_split, cross_val_score, RandomizedSearchCV, GridSearchCV\n",
    "from sklearn.preprocessing import StandardScaler\n",
    "from sklearn.metrics import mean_absolute_error\n",
    "from sklearn.linear_model import LinearRegression\n",
    "from sklearn.tree import DecisionTreeRegressor\n",
    "from sklearn.ensemble import RandomForestRegressor\n",
    "from catboost import CatBoostRegressor\n",
    "from sklearn.dummy import DummyRegressor"
   ]
  },
  {
   "cell_type": "code",
   "execution_count": 2,
   "metadata": {},
   "outputs": [],
   "source": [
    "# список колонок сыпучищ и прволочных добавок\n",
    "bulks = ['Bulk '+ str(i) for i in range(1,16)]\n",
    "wires = ['Wire '+ str(i) for i in range(1,10)]\n",
    "\n",
    "#Загрузка данных\n",
    "\n",
    "df_arc=pd.read_csv('/datasets/data_arc_new.csv',parse_dates=['Начало нагрева дугой','Конец нагрева дугой'])\n",
    "df_bulk=pd.read_csv('/datasets/data_bulk_new.csv')\n",
    "df_bulk_time=pd.read_csv('/datasets/data_bulk_time_new.csv',parse_dates=bulks)\n",
    "df_gas=pd.read_csv('/datasets/data_gas_new.csv')\n",
    "df_temp=pd.read_csv('/datasets/data_temp_new.csv',parse_dates=['Время замера'])\n",
    "df_wire=pd.read_csv('/datasets/data_wire_new.csv')\n",
    "df_wire_time=pd.read_csv('/datasets/data_wire_time_new.csv',parse_dates=wires)"
   ]
  },
  {
   "cell_type": "code",
   "execution_count": 3,
   "metadata": {},
   "outputs": [],
   "source": [
    "# функция для избежания дублирования кода о датафрейме\n",
    "\n",
    "def info(df):\n",
    "    display(df.head())\n",
    "    display(df.info())\n",
    "    display(df.describe())\n",
    "    print('Количество дубликатов: ', df.duplicated().sum())\n",
    "    print('Количество уникальных партий: ', len(df['key'].unique()))\n",
    "    # Матрица\n",
    "    size = len(df.columns)\n",
    "    plt.figure(figsize=(size,size/2))\n",
    "    df = df.drop('key', axis=1)\n",
    "    try:\n",
    "        corr_matrix = sns.heatmap(df.corr(),annot=True)\n",
    "        corr_matrix.axes.set_title('Матрица кореляции', fontsize=16)\n",
    "        plt.show()\n",
    "    except:\n",
    "        print()"
   ]
  },
  {
   "cell_type": "markdown",
   "metadata": {},
   "source": [
    "### Анализ данных сплава нагрева электродами"
   ]
  },
  {
   "cell_type": "code",
   "execution_count": 4,
   "metadata": {},
   "outputs": [
    {
     "data": {
      "text/html": [
       "<div>\n",
       "<style scoped>\n",
       "    .dataframe tbody tr th:only-of-type {\n",
       "        vertical-align: middle;\n",
       "    }\n",
       "\n",
       "    .dataframe tbody tr th {\n",
       "        vertical-align: top;\n",
       "    }\n",
       "\n",
       "    .dataframe thead th {\n",
       "        text-align: right;\n",
       "    }\n",
       "</style>\n",
       "<table border=\"1\" class=\"dataframe\">\n",
       "  <thead>\n",
       "    <tr style=\"text-align: right;\">\n",
       "      <th></th>\n",
       "      <th>key</th>\n",
       "      <th>Начало нагрева дугой</th>\n",
       "      <th>Конец нагрева дугой</th>\n",
       "      <th>Активная мощность</th>\n",
       "      <th>Реактивная мощность</th>\n",
       "    </tr>\n",
       "  </thead>\n",
       "  <tbody>\n",
       "    <tr>\n",
       "      <th>0</th>\n",
       "      <td>1</td>\n",
       "      <td>2019-05-03 11:02:14</td>\n",
       "      <td>2019-05-03 11:06:02</td>\n",
       "      <td>0.305130</td>\n",
       "      <td>0.211253</td>\n",
       "    </tr>\n",
       "    <tr>\n",
       "      <th>1</th>\n",
       "      <td>1</td>\n",
       "      <td>2019-05-03 11:07:28</td>\n",
       "      <td>2019-05-03 11:10:33</td>\n",
       "      <td>0.765658</td>\n",
       "      <td>0.477438</td>\n",
       "    </tr>\n",
       "    <tr>\n",
       "      <th>2</th>\n",
       "      <td>1</td>\n",
       "      <td>2019-05-03 11:11:44</td>\n",
       "      <td>2019-05-03 11:14:36</td>\n",
       "      <td>0.580313</td>\n",
       "      <td>0.430460</td>\n",
       "    </tr>\n",
       "    <tr>\n",
       "      <th>3</th>\n",
       "      <td>1</td>\n",
       "      <td>2019-05-03 11:18:14</td>\n",
       "      <td>2019-05-03 11:24:19</td>\n",
       "      <td>0.518496</td>\n",
       "      <td>0.379979</td>\n",
       "    </tr>\n",
       "    <tr>\n",
       "      <th>4</th>\n",
       "      <td>1</td>\n",
       "      <td>2019-05-03 11:26:09</td>\n",
       "      <td>2019-05-03 11:28:37</td>\n",
       "      <td>0.867133</td>\n",
       "      <td>0.643691</td>\n",
       "    </tr>\n",
       "  </tbody>\n",
       "</table>\n",
       "</div>"
      ],
      "text/plain": [
       "   key Начало нагрева дугой Конец нагрева дугой  Активная мощность  \\\n",
       "0    1  2019-05-03 11:02:14 2019-05-03 11:06:02           0.305130   \n",
       "1    1  2019-05-03 11:07:28 2019-05-03 11:10:33           0.765658   \n",
       "2    1  2019-05-03 11:11:44 2019-05-03 11:14:36           0.580313   \n",
       "3    1  2019-05-03 11:18:14 2019-05-03 11:24:19           0.518496   \n",
       "4    1  2019-05-03 11:26:09 2019-05-03 11:28:37           0.867133   \n",
       "\n",
       "   Реактивная мощность  \n",
       "0             0.211253  \n",
       "1             0.477438  \n",
       "2             0.430460  \n",
       "3             0.379979  \n",
       "4             0.643691  "
      ]
     },
     "metadata": {},
     "output_type": "display_data"
    },
    {
     "name": "stdout",
     "output_type": "stream",
     "text": [
      "<class 'pandas.core.frame.DataFrame'>\n",
      "RangeIndex: 14876 entries, 0 to 14875\n",
      "Data columns (total 5 columns):\n",
      " #   Column                Non-Null Count  Dtype         \n",
      "---  ------                --------------  -----         \n",
      " 0   key                   14876 non-null  int64         \n",
      " 1   Начало нагрева дугой  14876 non-null  datetime64[ns]\n",
      " 2   Конец нагрева дугой   14876 non-null  datetime64[ns]\n",
      " 3   Активная мощность     14876 non-null  float64       \n",
      " 4   Реактивная мощность   14876 non-null  float64       \n",
      "dtypes: datetime64[ns](2), float64(2), int64(1)\n",
      "memory usage: 581.2 KB\n"
     ]
    },
    {
     "data": {
      "text/plain": [
       "None"
      ]
     },
     "metadata": {},
     "output_type": "display_data"
    },
    {
     "data": {
      "text/html": [
       "<div>\n",
       "<style scoped>\n",
       "    .dataframe tbody tr th:only-of-type {\n",
       "        vertical-align: middle;\n",
       "    }\n",
       "\n",
       "    .dataframe tbody tr th {\n",
       "        vertical-align: top;\n",
       "    }\n",
       "\n",
       "    .dataframe thead th {\n",
       "        text-align: right;\n",
       "    }\n",
       "</style>\n",
       "<table border=\"1\" class=\"dataframe\">\n",
       "  <thead>\n",
       "    <tr style=\"text-align: right;\">\n",
       "      <th></th>\n",
       "      <th>key</th>\n",
       "      <th>Активная мощность</th>\n",
       "      <th>Реактивная мощность</th>\n",
       "    </tr>\n",
       "  </thead>\n",
       "  <tbody>\n",
       "    <tr>\n",
       "      <th>count</th>\n",
       "      <td>14876.000000</td>\n",
       "      <td>14876.000000</td>\n",
       "      <td>14876.000000</td>\n",
       "    </tr>\n",
       "    <tr>\n",
       "      <th>mean</th>\n",
       "      <td>1615.220422</td>\n",
       "      <td>0.662752</td>\n",
       "      <td>0.438986</td>\n",
       "    </tr>\n",
       "    <tr>\n",
       "      <th>std</th>\n",
       "      <td>934.571502</td>\n",
       "      <td>0.258885</td>\n",
       "      <td>5.873485</td>\n",
       "    </tr>\n",
       "    <tr>\n",
       "      <th>min</th>\n",
       "      <td>1.000000</td>\n",
       "      <td>0.223120</td>\n",
       "      <td>-715.479924</td>\n",
       "    </tr>\n",
       "    <tr>\n",
       "      <th>25%</th>\n",
       "      <td>806.000000</td>\n",
       "      <td>0.467115</td>\n",
       "      <td>0.337175</td>\n",
       "    </tr>\n",
       "    <tr>\n",
       "      <th>50%</th>\n",
       "      <td>1617.000000</td>\n",
       "      <td>0.599587</td>\n",
       "      <td>0.441639</td>\n",
       "    </tr>\n",
       "    <tr>\n",
       "      <th>75%</th>\n",
       "      <td>2429.000000</td>\n",
       "      <td>0.830070</td>\n",
       "      <td>0.608201</td>\n",
       "    </tr>\n",
       "    <tr>\n",
       "      <th>max</th>\n",
       "      <td>3241.000000</td>\n",
       "      <td>1.463773</td>\n",
       "      <td>1.270284</td>\n",
       "    </tr>\n",
       "  </tbody>\n",
       "</table>\n",
       "</div>"
      ],
      "text/plain": [
       "                key  Активная мощность  Реактивная мощность\n",
       "count  14876.000000       14876.000000         14876.000000\n",
       "mean    1615.220422           0.662752             0.438986\n",
       "std      934.571502           0.258885             5.873485\n",
       "min        1.000000           0.223120          -715.479924\n",
       "25%      806.000000           0.467115             0.337175\n",
       "50%     1617.000000           0.599587             0.441639\n",
       "75%     2429.000000           0.830070             0.608201\n",
       "max     3241.000000           1.463773             1.270284"
      ]
     },
     "metadata": {},
     "output_type": "display_data"
    },
    {
     "name": "stdout",
     "output_type": "stream",
     "text": [
      "Количество дубликатов:  0\n",
      "Количество уникальных партий:  3214\n"
     ]
    },
    {
     "data": {
      "image/png": "[encoded data removed]",
      "text/plain": [
       "<Figure size 360x180 with 2 Axes>"
      ]
     },
     "metadata": {
      "needs_background": "light"
     },
     "output_type": "display_data"
    }
   ],
   "source": [
    "info(df_arc)"
   ]
  },
  {
   "cell_type": "markdown",
   "metadata": {},
   "source": [
    "Какой либо сильной линейной зависимости не наблюдается\n",
    "\n",
    "Значение в **-715.479924** в столбце **реактивная мощность** явно выглядит как аномалия\n",
    "\n",
    "Для детального анализа сформируем признаки **Время нагрева**,**Полная мощнасть**,**Энергия нагрева**"
   ]
  },
  {
   "cell_type": "code",
   "execution_count": 5,
   "metadata": {},
   "outputs": [],
   "source": [
    "# Формирование признаков\n",
    "\n",
    "df_arc['Время нагрева'] = (df_arc['Конец нагрева дугой'] - df_arc['Начало нагрева дугой']).astype('int64') / 1000000000\n",
    "df_arc['Полная мощность'] = np.sqrt(df_arc['Активная мощность']**2 + df_arc['Реактивная мощность']**2)\n",
    "df_arc['Энергия нагрева'] = df_arc['Полная мощность'] * df_arc['Время нагрева']"
   ]
  },
  {
   "cell_type": "code",
   "execution_count": 6,
   "metadata": {},
   "outputs": [
    {
     "data": {
      "text/html": [
       "<div>\n",
       "<style scoped>\n",
       "    .dataframe tbody tr th:only-of-type {\n",
       "        vertical-align: middle;\n",
       "    }\n",
       "\n",
       "    .dataframe tbody tr th {\n",
       "        vertical-align: top;\n",
       "    }\n",
       "\n",
       "    .dataframe thead th {\n",
       "        text-align: right;\n",
       "    }\n",
       "</style>\n",
       "<table border=\"1\" class=\"dataframe\">\n",
       "  <thead>\n",
       "    <tr style=\"text-align: right;\">\n",
       "      <th></th>\n",
       "      <th>key</th>\n",
       "      <th>Начало нагрева дугой</th>\n",
       "      <th>Конец нагрева дугой</th>\n",
       "      <th>Активная мощность</th>\n",
       "      <th>Реактивная мощность</th>\n",
       "      <th>Время нагрева</th>\n",
       "      <th>Полная мощность</th>\n",
       "      <th>Энергия нагрева</th>\n",
       "    </tr>\n",
       "  </thead>\n",
       "  <tbody>\n",
       "    <tr>\n",
       "      <th>0</th>\n",
       "      <td>1</td>\n",
       "      <td>2019-05-03 11:02:14</td>\n",
       "      <td>2019-05-03 11:06:02</td>\n",
       "      <td>0.305130</td>\n",
       "      <td>0.211253</td>\n",
       "      <td>228.0</td>\n",
       "      <td>0.371123</td>\n",
       "      <td>84.616003</td>\n",
       "    </tr>\n",
       "    <tr>\n",
       "      <th>1</th>\n",
       "      <td>1</td>\n",
       "      <td>2019-05-03 11:07:28</td>\n",
       "      <td>2019-05-03 11:10:33</td>\n",
       "      <td>0.765658</td>\n",
       "      <td>0.477438</td>\n",
       "      <td>185.0</td>\n",
       "      <td>0.902319</td>\n",
       "      <td>166.928978</td>\n",
       "    </tr>\n",
       "    <tr>\n",
       "      <th>2</th>\n",
       "      <td>1</td>\n",
       "      <td>2019-05-03 11:11:44</td>\n",
       "      <td>2019-05-03 11:14:36</td>\n",
       "      <td>0.580313</td>\n",
       "      <td>0.430460</td>\n",
       "      <td>172.0</td>\n",
       "      <td>0.722536</td>\n",
       "      <td>124.276277</td>\n",
       "    </tr>\n",
       "    <tr>\n",
       "      <th>3</th>\n",
       "      <td>1</td>\n",
       "      <td>2019-05-03 11:18:14</td>\n",
       "      <td>2019-05-03 11:24:19</td>\n",
       "      <td>0.518496</td>\n",
       "      <td>0.379979</td>\n",
       "      <td>365.0</td>\n",
       "      <td>0.642824</td>\n",
       "      <td>234.630603</td>\n",
       "    </tr>\n",
       "    <tr>\n",
       "      <th>4</th>\n",
       "      <td>1</td>\n",
       "      <td>2019-05-03 11:26:09</td>\n",
       "      <td>2019-05-03 11:28:37</td>\n",
       "      <td>0.867133</td>\n",
       "      <td>0.643691</td>\n",
       "      <td>148.0</td>\n",
       "      <td>1.079934</td>\n",
       "      <td>159.830252</td>\n",
       "    </tr>\n",
       "  </tbody>\n",
       "</table>\n",
       "</div>"
      ],
      "text/plain": [
       "   key Начало нагрева дугой Конец нагрева дугой  Активная мощность  \\\n",
       "0    1  2019-05-03 11:02:14 2019-05-03 11:06:02           0.305130   \n",
       "1    1  2019-05-03 11:07:28 2019-05-03 11:10:33           0.765658   \n",
       "2    1  2019-05-03 11:11:44 2019-05-03 11:14:36           0.580313   \n",
       "3    1  2019-05-03 11:18:14 2019-05-03 11:24:19           0.518496   \n",
       "4    1  2019-05-03 11:26:09 2019-05-03 11:28:37           0.867133   \n",
       "\n",
       "   Реактивная мощность  Время нагрева  Полная мощность  Энергия нагрева  \n",
       "0             0.211253          228.0         0.371123        84.616003  \n",
       "1             0.477438          185.0         0.902319       166.928978  \n",
       "2             0.430460          172.0         0.722536       124.276277  \n",
       "3             0.379979          365.0         0.642824       234.630603  \n",
       "4             0.643691          148.0         1.079934       159.830252  "
      ]
     },
     "metadata": {},
     "output_type": "display_data"
    },
    {
     "name": "stdout",
     "output_type": "stream",
     "text": [
      "<class 'pandas.core.frame.DataFrame'>\n",
      "Int64Index: 14875 entries, 0 to 14875\n",
      "Data columns (total 8 columns):\n",
      " #   Column                Non-Null Count  Dtype         \n",
      "---  ------                --------------  -----         \n",
      " 0   key                   14875 non-null  int64         \n",
      " 1   Начало нагрева дугой  14875 non-null  datetime64[ns]\n",
      " 2   Конец нагрева дугой   14875 non-null  datetime64[ns]\n",
      " 3   Активная мощность     14875 non-null  float64       \n",
      " 4   Реактивная мощность   14875 non-null  float64       \n",
      " 5   Время нагрева         14875 non-null  float64       \n",
      " 6   Полная мощность       14875 non-null  float64       \n",
      " 7   Энергия нагрева       14875 non-null  float64       \n",
      "dtypes: datetime64[ns](2), float64(5), int64(1)\n",
      "memory usage: 1.0 MB\n"
     ]
    },
    {
     "data": {
      "text/plain": [
       "None"
      ]
     },
     "metadata": {},
     "output_type": "display_data"
    },
    {
     "data": {
      "text/html": [
       "<div>\n",
       "<style scoped>\n",
       "    .dataframe tbody tr th:only-of-type {\n",
       "        vertical-align: middle;\n",
       "    }\n",
       "\n",
       "    .dataframe tbody tr th {\n",
       "        vertical-align: top;\n",
       "    }\n",
       "\n",
       "    .dataframe thead th {\n",
       "        text-align: right;\n",
       "    }\n",
       "</style>\n",
       "<table border=\"1\" class=\"dataframe\">\n",
       "  <thead>\n",
       "    <tr style=\"text-align: right;\">\n",
       "      <th></th>\n",
       "      <th>key</th>\n",
       "      <th>Активная мощность</th>\n",
       "      <th>Реактивная мощность</th>\n",
       "      <th>Время нагрева</th>\n",
       "      <th>Полная мощность</th>\n",
       "      <th>Энергия нагрева</th>\n",
       "    </tr>\n",
       "  </thead>\n",
       "  <tbody>\n",
       "    <tr>\n",
       "      <th>count</th>\n",
       "      <td>14875.000000</td>\n",
       "      <td>14875.000000</td>\n",
       "      <td>14875.000000</td>\n",
       "      <td>14875.000000</td>\n",
       "      <td>14875.000000</td>\n",
       "      <td>14875.000000</td>\n",
       "    </tr>\n",
       "    <tr>\n",
       "      <th>mean</th>\n",
       "      <td>1615.186756</td>\n",
       "      <td>0.662749</td>\n",
       "      <td>0.487115</td>\n",
       "      <td>171.675160</td>\n",
       "      <td>0.823385</td>\n",
       "      <td>141.646999</td>\n",
       "    </tr>\n",
       "    <tr>\n",
       "      <th>std</th>\n",
       "      <td>934.593897</td>\n",
       "      <td>0.258894</td>\n",
       "      <td>0.197612</td>\n",
       "      <td>98.188759</td>\n",
       "      <td>0.323470</td>\n",
       "      <td>103.200377</td>\n",
       "    </tr>\n",
       "    <tr>\n",
       "      <th>min</th>\n",
       "      <td>1.000000</td>\n",
       "      <td>0.223120</td>\n",
       "      <td>0.153777</td>\n",
       "      <td>11.000000</td>\n",
       "      <td>0.275718</td>\n",
       "      <td>6.409531</td>\n",
       "    </tr>\n",
       "    <tr>\n",
       "      <th>25%</th>\n",
       "      <td>806.000000</td>\n",
       "      <td>0.467115</td>\n",
       "      <td>0.337190</td>\n",
       "      <td>107.000000</td>\n",
       "      <td>0.578839</td>\n",
       "      <td>71.153177</td>\n",
       "    </tr>\n",
       "    <tr>\n",
       "      <th>50%</th>\n",
       "      <td>1617.000000</td>\n",
       "      <td>0.599578</td>\n",
       "      <td>0.441665</td>\n",
       "      <td>147.000000</td>\n",
       "      <td>0.746554</td>\n",
       "      <td>114.480842</td>\n",
       "    </tr>\n",
       "    <tr>\n",
       "      <th>75%</th>\n",
       "      <td>2429.000000</td>\n",
       "      <td>0.830135</td>\n",
       "      <td>0.608223</td>\n",
       "      <td>214.000000</td>\n",
       "      <td>1.030402</td>\n",
       "      <td>181.350568</td>\n",
       "    </tr>\n",
       "    <tr>\n",
       "      <th>max</th>\n",
       "      <td>3241.000000</td>\n",
       "      <td>1.463773</td>\n",
       "      <td>1.270284</td>\n",
       "      <td>907.000000</td>\n",
       "      <td>1.898158</td>\n",
       "      <td>1084.729420</td>\n",
       "    </tr>\n",
       "  </tbody>\n",
       "</table>\n",
       "</div>"
      ],
      "text/plain": [
       "                key  Активная мощность  Реактивная мощность  Время нагрева  \\\n",
       "count  14875.000000       14875.000000         14875.000000   14875.000000   \n",
       "mean    1615.186756           0.662749             0.487115     171.675160   \n",
       "std      934.593897           0.258894             0.197612      98.188759   \n",
       "min        1.000000           0.223120             0.153777      11.000000   \n",
       "25%      806.000000           0.467115             0.337190     107.000000   \n",
       "50%     1617.000000           0.599578             0.441665     147.000000   \n",
       "75%     2429.000000           0.830135             0.608223     214.000000   \n",
       "max     3241.000000           1.463773             1.270284     907.000000   \n",
       "\n",
       "       Полная мощность  Энергия нагрева  \n",
       "count     14875.000000     14875.000000  \n",
       "mean          0.823385       141.646999  \n",
       "std           0.323470       103.200377  \n",
       "min           0.275718         6.409531  \n",
       "25%           0.578839        71.153177  \n",
       "50%           0.746554       114.480842  \n",
       "75%           1.030402       181.350568  \n",
       "max           1.898158      1084.729420  "
      ]
     },
     "metadata": {},
     "output_type": "display_data"
    },
    {
     "name": "stdout",
     "output_type": "stream",
     "text": [
      "Количество дубликатов:  0\n",
      "Количество уникальных партий:  3214\n"
     ]
    },
    {
     "data": {
      "image/png": "[encoded data removed]",
      "text/plain": [
       "<Figure size 576x288 with 2 Axes>"
      ]
     },
     "metadata": {
      "needs_background": "light"
     },
     "output_type": "display_data"
    }
   ],
   "source": [
    "info(df_arc[df_arc['Реактивная мощность']> - 700])"
   ]
  },
  {
   "cell_type": "code",
   "execution_count": 7,
   "metadata": {},
   "outputs": [
    {
     "data": {
      "image/png": "[encoded data removed]",
      "text/plain": [
       "<Figure size 432x288 with 1 Axes>"
      ]
     },
     "metadata": {
      "needs_background": "light"
     },
     "output_type": "display_data"
    }
   ],
   "source": [
    "# Цмклы нагрева 1 партии\n",
    "df_arc['key'].value_counts().sort_values().hist(bins=16)\n",
    "plt.title('Среднее кол-во циклы нагрева на партию')\n",
    "plt.xlabel('Количество циклов')\n",
    "plt.ylabel('Данные об элетродах по ключу')\n",
    "plt.show()"
   ]
  },
  {
   "cell_type": "markdown",
   "metadata": {},
   "source": [
    "**Вывов по Нагреву электродами'** \n",
    "\n",
    "- Были рассчитаны и созданы признаки  **Время нагрева**,**Полная мощнасть**,**Время нагрева**\n",
    "\n",
    "- Обнаруженно аномальное значение в **-715.479924**, при повторном построение матрицы данное значение не вносилу в таблицу и матрицу\n",
    "\n",
    "- Пропуски и дублиекаты отсутвуют \n",
    "\n",
    "- Между признаками наблюдается корелляция (где то слабее,где то сильнее)\n",
    "\n",
    "- Медианное кол-во циклов нагрева 4 максимальное 16\n",
    "\n",
    "- Если будем использовать для модели данные о энергии нагрева,то избавимся от мультикорелиарности"
   ]
  },
  {
   "cell_type": "markdown",
   "metadata": {},
   "source": [
    "### Анализ данных о подаче сыпучих материалов"
   ]
  },
  {
   "cell_type": "markdown",
   "metadata": {},
   "source": [
    "Так данные о сыпучих материалов деляться на на **объём** и **время**,проанализируем обе табилцы последовательно"
   ]
  },
  {
   "cell_type": "markdown",
   "metadata": {},
   "source": [
    "**Объём**"
   ]
  },
  {
   "cell_type": "code",
   "execution_count": 8,
   "metadata": {},
   "outputs": [
    {
     "data": {
      "text/html": [
       "<div>\n",
       "<style scoped>\n",
       "    .dataframe tbody tr th:only-of-type {\n",
       "        vertical-align: middle;\n",
       "    }\n",
       "\n",
       "    .dataframe tbody tr th {\n",
       "        vertical-align: top;\n",
       "    }\n",
       "\n",
       "    .dataframe thead th {\n",
       "        text-align: right;\n",
       "    }\n",
       "</style>\n",
       "<table border=\"1\" class=\"dataframe\">\n",
       "  <thead>\n",
       "    <tr style=\"text-align: right;\">\n",
       "      <th></th>\n",
       "      <th>key</th>\n",
       "      <th>Bulk 1</th>\n",
       "      <th>Bulk 2</th>\n",
       "      <th>Bulk 3</th>\n",
       "      <th>Bulk 4</th>\n",
       "      <th>Bulk 5</th>\n",
       "      <th>Bulk 6</th>\n",
       "      <th>Bulk 7</th>\n",
       "      <th>Bulk 8</th>\n",
       "      <th>Bulk 9</th>\n",
       "      <th>Bulk 10</th>\n",
       "      <th>Bulk 11</th>\n",
       "      <th>Bulk 12</th>\n",
       "      <th>Bulk 13</th>\n",
       "      <th>Bulk 14</th>\n",
       "      <th>Bulk 15</th>\n",
       "    </tr>\n",
       "  </thead>\n",
       "  <tbody>\n",
       "    <tr>\n",
       "      <th>0</th>\n",
       "      <td>1</td>\n",
       "      <td>NaN</td>\n",
       "      <td>NaN</td>\n",
       "      <td>NaN</td>\n",
       "      <td>43.0</td>\n",
       "      <td>NaN</td>\n",
       "      <td>NaN</td>\n",
       "      <td>NaN</td>\n",
       "      <td>NaN</td>\n",
       "      <td>NaN</td>\n",
       "      <td>NaN</td>\n",
       "      <td>NaN</td>\n",
       "      <td>206.0</td>\n",
       "      <td>NaN</td>\n",
       "      <td>150.0</td>\n",
       "      <td>154.0</td>\n",
       "    </tr>\n",
       "    <tr>\n",
       "      <th>1</th>\n",
       "      <td>2</td>\n",
       "      <td>NaN</td>\n",
       "      <td>NaN</td>\n",
       "      <td>NaN</td>\n",
       "      <td>73.0</td>\n",
       "      <td>NaN</td>\n",
       "      <td>NaN</td>\n",
       "      <td>NaN</td>\n",
       "      <td>NaN</td>\n",
       "      <td>NaN</td>\n",
       "      <td>NaN</td>\n",
       "      <td>NaN</td>\n",
       "      <td>206.0</td>\n",
       "      <td>NaN</td>\n",
       "      <td>149.0</td>\n",
       "      <td>154.0</td>\n",
       "    </tr>\n",
       "    <tr>\n",
       "      <th>2</th>\n",
       "      <td>3</td>\n",
       "      <td>NaN</td>\n",
       "      <td>NaN</td>\n",
       "      <td>NaN</td>\n",
       "      <td>34.0</td>\n",
       "      <td>NaN</td>\n",
       "      <td>NaN</td>\n",
       "      <td>NaN</td>\n",
       "      <td>NaN</td>\n",
       "      <td>NaN</td>\n",
       "      <td>NaN</td>\n",
       "      <td>NaN</td>\n",
       "      <td>205.0</td>\n",
       "      <td>NaN</td>\n",
       "      <td>152.0</td>\n",
       "      <td>153.0</td>\n",
       "    </tr>\n",
       "    <tr>\n",
       "      <th>3</th>\n",
       "      <td>4</td>\n",
       "      <td>NaN</td>\n",
       "      <td>NaN</td>\n",
       "      <td>NaN</td>\n",
       "      <td>81.0</td>\n",
       "      <td>NaN</td>\n",
       "      <td>NaN</td>\n",
       "      <td>NaN</td>\n",
       "      <td>NaN</td>\n",
       "      <td>NaN</td>\n",
       "      <td>NaN</td>\n",
       "      <td>NaN</td>\n",
       "      <td>207.0</td>\n",
       "      <td>NaN</td>\n",
       "      <td>153.0</td>\n",
       "      <td>154.0</td>\n",
       "    </tr>\n",
       "    <tr>\n",
       "      <th>4</th>\n",
       "      <td>5</td>\n",
       "      <td>NaN</td>\n",
       "      <td>NaN</td>\n",
       "      <td>NaN</td>\n",
       "      <td>78.0</td>\n",
       "      <td>NaN</td>\n",
       "      <td>NaN</td>\n",
       "      <td>NaN</td>\n",
       "      <td>NaN</td>\n",
       "      <td>NaN</td>\n",
       "      <td>NaN</td>\n",
       "      <td>NaN</td>\n",
       "      <td>203.0</td>\n",
       "      <td>NaN</td>\n",
       "      <td>151.0</td>\n",
       "      <td>152.0</td>\n",
       "    </tr>\n",
       "  </tbody>\n",
       "</table>\n",
       "</div>"
      ],
      "text/plain": [
       "   key  Bulk 1  Bulk 2  Bulk 3  Bulk 4  Bulk 5  Bulk 6  Bulk 7  Bulk 8  \\\n",
       "0    1     NaN     NaN     NaN    43.0     NaN     NaN     NaN     NaN   \n",
       "1    2     NaN     NaN     NaN    73.0     NaN     NaN     NaN     NaN   \n",
       "2    3     NaN     NaN     NaN    34.0     NaN     NaN     NaN     NaN   \n",
       "3    4     NaN     NaN     NaN    81.0     NaN     NaN     NaN     NaN   \n",
       "4    5     NaN     NaN     NaN    78.0     NaN     NaN     NaN     NaN   \n",
       "\n",
       "   Bulk 9  Bulk 10  Bulk 11  Bulk 12  Bulk 13  Bulk 14  Bulk 15  \n",
       "0     NaN      NaN      NaN    206.0      NaN    150.0    154.0  \n",
       "1     NaN      NaN      NaN    206.0      NaN    149.0    154.0  \n",
       "2     NaN      NaN      NaN    205.0      NaN    152.0    153.0  \n",
       "3     NaN      NaN      NaN    207.0      NaN    153.0    154.0  \n",
       "4     NaN      NaN      NaN    203.0      NaN    151.0    152.0  "
      ]
     },
     "metadata": {},
     "output_type": "display_data"
    },
    {
     "name": "stdout",
     "output_type": "stream",
     "text": [
      "<class 'pandas.core.frame.DataFrame'>\n",
      "RangeIndex: 3129 entries, 0 to 3128\n",
      "Data columns (total 16 columns):\n",
      " #   Column   Non-Null Count  Dtype  \n",
      "---  ------   --------------  -----  \n",
      " 0   key      3129 non-null   int64  \n",
      " 1   Bulk 1   252 non-null    float64\n",
      " 2   Bulk 2   22 non-null     float64\n",
      " 3   Bulk 3   1298 non-null   float64\n",
      " 4   Bulk 4   1014 non-null   float64\n",
      " 5   Bulk 5   77 non-null     float64\n",
      " 6   Bulk 6   576 non-null    float64\n",
      " 7   Bulk 7   25 non-null     float64\n",
      " 8   Bulk 8   1 non-null      float64\n",
      " 9   Bulk 9   19 non-null     float64\n",
      " 10  Bulk 10  176 non-null    float64\n",
      " 11  Bulk 11  177 non-null    float64\n",
      " 12  Bulk 12  2450 non-null   float64\n",
      " 13  Bulk 13  18 non-null     float64\n",
      " 14  Bulk 14  2806 non-null   float64\n",
      " 15  Bulk 15  2248 non-null   float64\n",
      "dtypes: float64(15), int64(1)\n",
      "memory usage: 391.2 KB\n"
     ]
    },
    {
     "data": {
      "text/plain": [
       "None"
      ]
     },
     "metadata": {},
     "output_type": "display_data"
    },
    {
     "data": {
      "text/html": [
       "<div>\n",
       "<style scoped>\n",
       "    .dataframe tbody tr th:only-of-type {\n",
       "        vertical-align: middle;\n",
       "    }\n",
       "\n",
       "    .dataframe tbody tr th {\n",
       "        vertical-align: top;\n",
       "    }\n",
       "\n",
       "    .dataframe thead th {\n",
       "        text-align: right;\n",
       "    }\n",
       "</style>\n",
       "<table border=\"1\" class=\"dataframe\">\n",
       "  <thead>\n",
       "    <tr style=\"text-align: right;\">\n",
       "      <th></th>\n",
       "      <th>key</th>\n",
       "      <th>Bulk 1</th>\n",
       "      <th>Bulk 2</th>\n",
       "      <th>Bulk 3</th>\n",
       "      <th>Bulk 4</th>\n",
       "      <th>Bulk 5</th>\n",
       "      <th>Bulk 6</th>\n",
       "      <th>Bulk 7</th>\n",
       "      <th>Bulk 8</th>\n",
       "      <th>Bulk 9</th>\n",
       "      <th>Bulk 10</th>\n",
       "      <th>Bulk 11</th>\n",
       "      <th>Bulk 12</th>\n",
       "      <th>Bulk 13</th>\n",
       "      <th>Bulk 14</th>\n",
       "      <th>Bulk 15</th>\n",
       "    </tr>\n",
       "  </thead>\n",
       "  <tbody>\n",
       "    <tr>\n",
       "      <th>count</th>\n",
       "      <td>3129.000000</td>\n",
       "      <td>252.000000</td>\n",
       "      <td>22.000000</td>\n",
       "      <td>1298.000000</td>\n",
       "      <td>1014.000000</td>\n",
       "      <td>77.000000</td>\n",
       "      <td>576.000000</td>\n",
       "      <td>25.000000</td>\n",
       "      <td>1.0</td>\n",
       "      <td>19.000000</td>\n",
       "      <td>176.000000</td>\n",
       "      <td>177.000000</td>\n",
       "      <td>2450.000000</td>\n",
       "      <td>18.000000</td>\n",
       "      <td>2806.000000</td>\n",
       "      <td>2248.000000</td>\n",
       "    </tr>\n",
       "    <tr>\n",
       "      <th>mean</th>\n",
       "      <td>1624.383509</td>\n",
       "      <td>39.242063</td>\n",
       "      <td>253.045455</td>\n",
       "      <td>113.879045</td>\n",
       "      <td>104.394477</td>\n",
       "      <td>107.025974</td>\n",
       "      <td>118.925347</td>\n",
       "      <td>305.600000</td>\n",
       "      <td>49.0</td>\n",
       "      <td>76.315789</td>\n",
       "      <td>83.284091</td>\n",
       "      <td>76.819209</td>\n",
       "      <td>260.471020</td>\n",
       "      <td>181.111111</td>\n",
       "      <td>170.284747</td>\n",
       "      <td>160.513345</td>\n",
       "    </tr>\n",
       "    <tr>\n",
       "      <th>std</th>\n",
       "      <td>933.337642</td>\n",
       "      <td>18.277654</td>\n",
       "      <td>21.180578</td>\n",
       "      <td>75.483494</td>\n",
       "      <td>48.184126</td>\n",
       "      <td>81.790646</td>\n",
       "      <td>72.057776</td>\n",
       "      <td>191.022904</td>\n",
       "      <td>NaN</td>\n",
       "      <td>21.720581</td>\n",
       "      <td>26.060347</td>\n",
       "      <td>59.655365</td>\n",
       "      <td>120.649269</td>\n",
       "      <td>46.088009</td>\n",
       "      <td>65.868652</td>\n",
       "      <td>51.765319</td>\n",
       "    </tr>\n",
       "    <tr>\n",
       "      <th>min</th>\n",
       "      <td>1.000000</td>\n",
       "      <td>10.000000</td>\n",
       "      <td>228.000000</td>\n",
       "      <td>6.000000</td>\n",
       "      <td>12.000000</td>\n",
       "      <td>11.000000</td>\n",
       "      <td>17.000000</td>\n",
       "      <td>47.000000</td>\n",
       "      <td>49.0</td>\n",
       "      <td>63.000000</td>\n",
       "      <td>24.000000</td>\n",
       "      <td>8.000000</td>\n",
       "      <td>53.000000</td>\n",
       "      <td>151.000000</td>\n",
       "      <td>16.000000</td>\n",
       "      <td>1.000000</td>\n",
       "    </tr>\n",
       "    <tr>\n",
       "      <th>25%</th>\n",
       "      <td>816.000000</td>\n",
       "      <td>27.000000</td>\n",
       "      <td>242.000000</td>\n",
       "      <td>58.000000</td>\n",
       "      <td>72.000000</td>\n",
       "      <td>70.000000</td>\n",
       "      <td>69.750000</td>\n",
       "      <td>155.000000</td>\n",
       "      <td>49.0</td>\n",
       "      <td>66.000000</td>\n",
       "      <td>64.000000</td>\n",
       "      <td>25.000000</td>\n",
       "      <td>204.000000</td>\n",
       "      <td>153.250000</td>\n",
       "      <td>119.000000</td>\n",
       "      <td>105.000000</td>\n",
       "    </tr>\n",
       "    <tr>\n",
       "      <th>50%</th>\n",
       "      <td>1622.000000</td>\n",
       "      <td>31.000000</td>\n",
       "      <td>251.500000</td>\n",
       "      <td>97.500000</td>\n",
       "      <td>102.000000</td>\n",
       "      <td>86.000000</td>\n",
       "      <td>100.000000</td>\n",
       "      <td>298.000000</td>\n",
       "      <td>49.0</td>\n",
       "      <td>68.000000</td>\n",
       "      <td>86.500000</td>\n",
       "      <td>64.000000</td>\n",
       "      <td>208.000000</td>\n",
       "      <td>155.500000</td>\n",
       "      <td>151.000000</td>\n",
       "      <td>160.000000</td>\n",
       "    </tr>\n",
       "    <tr>\n",
       "      <th>75%</th>\n",
       "      <td>2431.000000</td>\n",
       "      <td>46.000000</td>\n",
       "      <td>257.750000</td>\n",
       "      <td>152.000000</td>\n",
       "      <td>133.000000</td>\n",
       "      <td>132.000000</td>\n",
       "      <td>157.000000</td>\n",
       "      <td>406.000000</td>\n",
       "      <td>49.0</td>\n",
       "      <td>70.500000</td>\n",
       "      <td>102.000000</td>\n",
       "      <td>106.000000</td>\n",
       "      <td>316.000000</td>\n",
       "      <td>203.500000</td>\n",
       "      <td>205.750000</td>\n",
       "      <td>205.000000</td>\n",
       "    </tr>\n",
       "    <tr>\n",
       "      <th>max</th>\n",
       "      <td>3241.000000</td>\n",
       "      <td>185.000000</td>\n",
       "      <td>325.000000</td>\n",
       "      <td>454.000000</td>\n",
       "      <td>281.000000</td>\n",
       "      <td>603.000000</td>\n",
       "      <td>503.000000</td>\n",
       "      <td>772.000000</td>\n",
       "      <td>49.0</td>\n",
       "      <td>147.000000</td>\n",
       "      <td>159.000000</td>\n",
       "      <td>313.000000</td>\n",
       "      <td>1849.000000</td>\n",
       "      <td>305.000000</td>\n",
       "      <td>636.000000</td>\n",
       "      <td>405.000000</td>\n",
       "    </tr>\n",
       "  </tbody>\n",
       "</table>\n",
       "</div>"
      ],
      "text/plain": [
       "               key      Bulk 1      Bulk 2       Bulk 3       Bulk 4  \\\n",
       "count  3129.000000  252.000000   22.000000  1298.000000  1014.000000   \n",
       "mean   1624.383509   39.242063  253.045455   113.879045   104.394477   \n",
       "std     933.337642   18.277654   21.180578    75.483494    48.184126   \n",
       "min       1.000000   10.000000  228.000000     6.000000    12.000000   \n",
       "25%     816.000000   27.000000  242.000000    58.000000    72.000000   \n",
       "50%    1622.000000   31.000000  251.500000    97.500000   102.000000   \n",
       "75%    2431.000000   46.000000  257.750000   152.000000   133.000000   \n",
       "max    3241.000000  185.000000  325.000000   454.000000   281.000000   \n",
       "\n",
       "           Bulk 5      Bulk 6      Bulk 7  Bulk 8      Bulk 9     Bulk 10  \\\n",
       "count   77.000000  576.000000   25.000000     1.0   19.000000  176.000000   \n",
       "mean   107.025974  118.925347  305.600000    49.0   76.315789   83.284091   \n",
       "std     81.790646   72.057776  191.022904     NaN   21.720581   26.060347   \n",
       "min     11.000000   17.000000   47.000000    49.0   63.000000   24.000000   \n",
       "25%     70.000000   69.750000  155.000000    49.0   66.000000   64.000000   \n",
       "50%     86.000000  100.000000  298.000000    49.0   68.000000   86.500000   \n",
       "75%    132.000000  157.000000  406.000000    49.0   70.500000  102.000000   \n",
       "max    603.000000  503.000000  772.000000    49.0  147.000000  159.000000   \n",
       "\n",
       "          Bulk 11      Bulk 12     Bulk 13      Bulk 14      Bulk 15  \n",
       "count  177.000000  2450.000000   18.000000  2806.000000  2248.000000  \n",
       "mean    76.819209   260.471020  181.111111   170.284747   160.513345  \n",
       "std     59.655365   120.649269   46.088009    65.868652    51.765319  \n",
       "min      8.000000    53.000000  151.000000    16.000000     1.000000  \n",
       "25%     25.000000   204.000000  153.250000   119.000000   105.000000  \n",
       "50%     64.000000   208.000000  155.500000   151.000000   160.000000  \n",
       "75%    106.000000   316.000000  203.500000   205.750000   205.000000  \n",
       "max    313.000000  1849.000000  305.000000   636.000000   405.000000  "
      ]
     },
     "metadata": {},
     "output_type": "display_data"
    },
    {
     "name": "stdout",
     "output_type": "stream",
     "text": [
      "Количество дубликатов:  0\n",
      "Количество уникальных партий:  3129\n"
     ]
    },
    {
     "data": {
      "image/png": "[encoded data removed]",
      "text/plain": [
       "<Figure size 1152x576 with 2 Axes>"
      ]
     },
     "metadata": {
      "needs_background": "light"
     },
     "output_type": "display_data"
    }
   ],
   "source": [
    "info(df_bulk)"
   ]
  },
  {
   "cell_type": "code",
   "execution_count": 9,
   "metadata": {},
   "outputs": [
    {
     "data": {
      "text/plain": [
       "3.5663151166506872"
      ]
     },
     "execution_count": 9,
     "metadata": {},
     "output_type": "execute_result"
    }
   ],
   "source": [
    "# Cреднее добавление материалов в каждую партию \n",
    "df_bulk.drop('key', axis=1).notna().sum().sum() / df_bulk.shape[0]"
   ]
  },
  {
   "cell_type": "code",
   "execution_count": 10,
   "metadata": {},
   "outputs": [
    {
     "data": {
      "text/html": [
       "<div>\n",
       "<style scoped>\n",
       "    .dataframe tbody tr th:only-of-type {\n",
       "        vertical-align: middle;\n",
       "    }\n",
       "\n",
       "    .dataframe tbody tr th {\n",
       "        vertical-align: top;\n",
       "    }\n",
       "\n",
       "    .dataframe thead th {\n",
       "        text-align: right;\n",
       "    }\n",
       "</style>\n",
       "<table border=\"1\" class=\"dataframe\">\n",
       "  <thead>\n",
       "    <tr style=\"text-align: right;\">\n",
       "      <th></th>\n",
       "      <th>key</th>\n",
       "      <th>Bulk 1</th>\n",
       "      <th>Bulk 2</th>\n",
       "      <th>Bulk 3</th>\n",
       "      <th>Bulk 4</th>\n",
       "      <th>Bulk 5</th>\n",
       "      <th>Bulk 6</th>\n",
       "      <th>Bulk 7</th>\n",
       "      <th>Bulk 8</th>\n",
       "      <th>Bulk 9</th>\n",
       "      <th>Bulk 10</th>\n",
       "      <th>Bulk 11</th>\n",
       "      <th>Bulk 12</th>\n",
       "      <th>Bulk 13</th>\n",
       "      <th>Bulk 14</th>\n",
       "      <th>Bulk 15</th>\n",
       "    </tr>\n",
       "  </thead>\n",
       "  <tbody>\n",
       "    <tr>\n",
       "      <th>0</th>\n",
       "      <td>1</td>\n",
       "      <td>NaT</td>\n",
       "      <td>NaT</td>\n",
       "      <td>NaT</td>\n",
       "      <td>2019-05-03 11:28:48</td>\n",
       "      <td>NaT</td>\n",
       "      <td>NaT</td>\n",
       "      <td>NaT</td>\n",
       "      <td>NaT</td>\n",
       "      <td>NaT</td>\n",
       "      <td>NaT</td>\n",
       "      <td>NaT</td>\n",
       "      <td>2019-05-03 11:24:31</td>\n",
       "      <td>NaT</td>\n",
       "      <td>2019-05-03 11:14:50</td>\n",
       "      <td>2019-05-03 11:10:43</td>\n",
       "    </tr>\n",
       "    <tr>\n",
       "      <th>1</th>\n",
       "      <td>2</td>\n",
       "      <td>NaT</td>\n",
       "      <td>NaT</td>\n",
       "      <td>NaT</td>\n",
       "      <td>2019-05-03 11:36:50</td>\n",
       "      <td>NaT</td>\n",
       "      <td>NaT</td>\n",
       "      <td>NaT</td>\n",
       "      <td>NaT</td>\n",
       "      <td>NaT</td>\n",
       "      <td>NaT</td>\n",
       "      <td>NaT</td>\n",
       "      <td>2019-05-03 11:53:30</td>\n",
       "      <td>NaT</td>\n",
       "      <td>2019-05-03 11:48:37</td>\n",
       "      <td>2019-05-03 11:44:39</td>\n",
       "    </tr>\n",
       "    <tr>\n",
       "      <th>2</th>\n",
       "      <td>3</td>\n",
       "      <td>NaT</td>\n",
       "      <td>NaT</td>\n",
       "      <td>NaT</td>\n",
       "      <td>2019-05-03 12:32:39</td>\n",
       "      <td>NaT</td>\n",
       "      <td>NaT</td>\n",
       "      <td>NaT</td>\n",
       "      <td>NaT</td>\n",
       "      <td>NaT</td>\n",
       "      <td>NaT</td>\n",
       "      <td>NaT</td>\n",
       "      <td>2019-05-03 12:27:13</td>\n",
       "      <td>NaT</td>\n",
       "      <td>2019-05-03 12:21:01</td>\n",
       "      <td>2019-05-03 12:16:16</td>\n",
       "    </tr>\n",
       "    <tr>\n",
       "      <th>3</th>\n",
       "      <td>4</td>\n",
       "      <td>NaT</td>\n",
       "      <td>NaT</td>\n",
       "      <td>NaT</td>\n",
       "      <td>2019-05-03 12:43:22</td>\n",
       "      <td>NaT</td>\n",
       "      <td>NaT</td>\n",
       "      <td>NaT</td>\n",
       "      <td>NaT</td>\n",
       "      <td>NaT</td>\n",
       "      <td>NaT</td>\n",
       "      <td>NaT</td>\n",
       "      <td>2019-05-03 12:58:00</td>\n",
       "      <td>NaT</td>\n",
       "      <td>2019-05-03 12:51:11</td>\n",
       "      <td>2019-05-03 12:46:36</td>\n",
       "    </tr>\n",
       "    <tr>\n",
       "      <th>4</th>\n",
       "      <td>5</td>\n",
       "      <td>NaT</td>\n",
       "      <td>NaT</td>\n",
       "      <td>NaT</td>\n",
       "      <td>2019-05-03 13:30:47</td>\n",
       "      <td>NaT</td>\n",
       "      <td>NaT</td>\n",
       "      <td>NaT</td>\n",
       "      <td>NaT</td>\n",
       "      <td>NaT</td>\n",
       "      <td>NaT</td>\n",
       "      <td>NaT</td>\n",
       "      <td>2019-05-03 13:30:47</td>\n",
       "      <td>NaT</td>\n",
       "      <td>2019-05-03 13:34:12</td>\n",
       "      <td>2019-05-03 13:30:47</td>\n",
       "    </tr>\n",
       "  </tbody>\n",
       "</table>\n",
       "</div>"
      ],
      "text/plain": [
       "   key Bulk 1 Bulk 2 Bulk 3              Bulk 4 Bulk 5 Bulk 6 Bulk 7 Bulk 8  \\\n",
       "0    1    NaT    NaT    NaT 2019-05-03 11:28:48    NaT    NaT    NaT    NaT   \n",
       "1    2    NaT    NaT    NaT 2019-05-03 11:36:50    NaT    NaT    NaT    NaT   \n",
       "2    3    NaT    NaT    NaT 2019-05-03 12:32:39    NaT    NaT    NaT    NaT   \n",
       "3    4    NaT    NaT    NaT 2019-05-03 12:43:22    NaT    NaT    NaT    NaT   \n",
       "4    5    NaT    NaT    NaT 2019-05-03 13:30:47    NaT    NaT    NaT    NaT   \n",
       "\n",
       "  Bulk 9 Bulk 10 Bulk 11             Bulk 12 Bulk 13             Bulk 14  \\\n",
       "0    NaT     NaT     NaT 2019-05-03 11:24:31     NaT 2019-05-03 11:14:50   \n",
       "1    NaT     NaT     NaT 2019-05-03 11:53:30     NaT 2019-05-03 11:48:37   \n",
       "2    NaT     NaT     NaT 2019-05-03 12:27:13     NaT 2019-05-03 12:21:01   \n",
       "3    NaT     NaT     NaT 2019-05-03 12:58:00     NaT 2019-05-03 12:51:11   \n",
       "4    NaT     NaT     NaT 2019-05-03 13:30:47     NaT 2019-05-03 13:34:12   \n",
       "\n",
       "              Bulk 15  \n",
       "0 2019-05-03 11:10:43  \n",
       "1 2019-05-03 11:44:39  \n",
       "2 2019-05-03 12:16:16  \n",
       "3 2019-05-03 12:46:36  \n",
       "4 2019-05-03 13:30:47  "
      ]
     },
     "metadata": {},
     "output_type": "display_data"
    },
    {
     "name": "stdout",
     "output_type": "stream",
     "text": [
      "<class 'pandas.core.frame.DataFrame'>\n",
      "RangeIndex: 3129 entries, 0 to 3128\n",
      "Data columns (total 16 columns):\n",
      " #   Column   Non-Null Count  Dtype         \n",
      "---  ------   --------------  -----         \n",
      " 0   key      3129 non-null   int64         \n",
      " 1   Bulk 1   252 non-null    datetime64[ns]\n",
      " 2   Bulk 2   22 non-null     datetime64[ns]\n",
      " 3   Bulk 3   1298 non-null   datetime64[ns]\n",
      " 4   Bulk 4   1014 non-null   datetime64[ns]\n",
      " 5   Bulk 5   77 non-null     datetime64[ns]\n",
      " 6   Bulk 6   576 non-null    datetime64[ns]\n",
      " 7   Bulk 7   25 non-null     datetime64[ns]\n",
      " 8   Bulk 8   1 non-null      datetime64[ns]\n",
      " 9   Bulk 9   19 non-null     datetime64[ns]\n",
      " 10  Bulk 10  176 non-null    datetime64[ns]\n",
      " 11  Bulk 11  177 non-null    datetime64[ns]\n",
      " 12  Bulk 12  2450 non-null   datetime64[ns]\n",
      " 13  Bulk 13  18 non-null     datetime64[ns]\n",
      " 14  Bulk 14  2806 non-null   datetime64[ns]\n",
      " 15  Bulk 15  2248 non-null   datetime64[ns]\n",
      "dtypes: datetime64[ns](15), int64(1)\n",
      "memory usage: 391.2 KB\n"
     ]
    },
    {
     "data": {
      "text/plain": [
       "None"
      ]
     },
     "metadata": {},
     "output_type": "display_data"
    },
    {
     "data": {
      "text/html": [
       "<div>\n",
       "<style scoped>\n",
       "    .dataframe tbody tr th:only-of-type {\n",
       "        vertical-align: middle;\n",
       "    }\n",
       "\n",
       "    .dataframe tbody tr th {\n",
       "        vertical-align: top;\n",
       "    }\n",
       "\n",
       "    .dataframe thead th {\n",
       "        text-align: right;\n",
       "    }\n",
       "</style>\n",
       "<table border=\"1\" class=\"dataframe\">\n",
       "  <thead>\n",
       "    <tr style=\"text-align: right;\">\n",
       "      <th></th>\n",
       "      <th>key</th>\n",
       "    </tr>\n",
       "  </thead>\n",
       "  <tbody>\n",
       "    <tr>\n",
       "      <th>count</th>\n",
       "      <td>3129.000000</td>\n",
       "    </tr>\n",
       "    <tr>\n",
       "      <th>mean</th>\n",
       "      <td>1624.383509</td>\n",
       "    </tr>\n",
       "    <tr>\n",
       "      <th>std</th>\n",
       "      <td>933.337642</td>\n",
       "    </tr>\n",
       "    <tr>\n",
       "      <th>min</th>\n",
       "      <td>1.000000</td>\n",
       "    </tr>\n",
       "    <tr>\n",
       "      <th>25%</th>\n",
       "      <td>816.000000</td>\n",
       "    </tr>\n",
       "    <tr>\n",
       "      <th>50%</th>\n",
       "      <td>1622.000000</td>\n",
       "    </tr>\n",
       "    <tr>\n",
       "      <th>75%</th>\n",
       "      <td>2431.000000</td>\n",
       "    </tr>\n",
       "    <tr>\n",
       "      <th>max</th>\n",
       "      <td>3241.000000</td>\n",
       "    </tr>\n",
       "  </tbody>\n",
       "</table>\n",
       "</div>"
      ],
      "text/plain": [
       "               key\n",
       "count  3129.000000\n",
       "mean   1624.383509\n",
       "std     933.337642\n",
       "min       1.000000\n",
       "25%     816.000000\n",
       "50%    1622.000000\n",
       "75%    2431.000000\n",
       "max    3241.000000"
      ]
     },
     "metadata": {},
     "output_type": "display_data"
    },
    {
     "name": "stdout",
     "output_type": "stream",
     "text": [
      "Количество дубликатов:  0\n",
      "Количество уникальных партий:  3129\n",
      "\n"
     ]
    },
    {
     "data": {
      "text/plain": [
       "<Figure size 1152x576 with 0 Axes>"
      ]
     },
     "metadata": {},
     "output_type": "display_data"
    }
   ],
   "source": [
    "info(df_bulk_time)"
   ]
  },
  {
   "cell_type": "markdown",
   "metadata": {},
   "source": [
    "**Общий вывод по сыпучим материалам**\n",
    "\n",
    "- Дубликаты отсутвуют\n",
    "\n",
    "- Пропуски скорее всего говорят о том,что в данную партию не добавлялся сыпучий материал,следовательно пропуски можно заполнить нулями\n",
    "\n",
    "- На матрицы корелляции можно отметить что в **Bulk 1** подают вместе с **Bulk 13**, a **Bulk 7** вместе с **Bulk 14**\n",
    "\n",
    "- Cреднее добавление материалов в каждую партию 3.56"
   ]
  },
  {
   "cell_type": "markdown",
   "metadata": {},
   "source": [
    "### Анализ данных о продувке сплава газом"
   ]
  },
  {
   "cell_type": "code",
   "execution_count": 11,
   "metadata": {},
   "outputs": [
    {
     "data": {
      "text/html": [
       "<div>\n",
       "<style scoped>\n",
       "    .dataframe tbody tr th:only-of-type {\n",
       "        vertical-align: middle;\n",
       "    }\n",
       "\n",
       "    .dataframe tbody tr th {\n",
       "        vertical-align: top;\n",
       "    }\n",
       "\n",
       "    .dataframe thead th {\n",
       "        text-align: right;\n",
       "    }\n",
       "</style>\n",
       "<table border=\"1\" class=\"dataframe\">\n",
       "  <thead>\n",
       "    <tr style=\"text-align: right;\">\n",
       "      <th></th>\n",
       "      <th>key</th>\n",
       "      <th>Газ 1</th>\n",
       "    </tr>\n",
       "  </thead>\n",
       "  <tbody>\n",
       "    <tr>\n",
       "      <th>0</th>\n",
       "      <td>1</td>\n",
       "      <td>29.749986</td>\n",
       "    </tr>\n",
       "    <tr>\n",
       "      <th>1</th>\n",
       "      <td>2</td>\n",
       "      <td>12.555561</td>\n",
       "    </tr>\n",
       "    <tr>\n",
       "      <th>2</th>\n",
       "      <td>3</td>\n",
       "      <td>28.554793</td>\n",
       "    </tr>\n",
       "    <tr>\n",
       "      <th>3</th>\n",
       "      <td>4</td>\n",
       "      <td>18.841219</td>\n",
       "    </tr>\n",
       "    <tr>\n",
       "      <th>4</th>\n",
       "      <td>5</td>\n",
       "      <td>5.413692</td>\n",
       "    </tr>\n",
       "  </tbody>\n",
       "</table>\n",
       "</div>"
      ],
      "text/plain": [
       "   key      Газ 1\n",
       "0    1  29.749986\n",
       "1    2  12.555561\n",
       "2    3  28.554793\n",
       "3    4  18.841219\n",
       "4    5   5.413692"
      ]
     },
     "metadata": {},
     "output_type": "display_data"
    },
    {
     "name": "stdout",
     "output_type": "stream",
     "text": [
      "<class 'pandas.core.frame.DataFrame'>\n",
      "RangeIndex: 3239 entries, 0 to 3238\n",
      "Data columns (total 2 columns):\n",
      " #   Column  Non-Null Count  Dtype  \n",
      "---  ------  --------------  -----  \n",
      " 0   key     3239 non-null   int64  \n",
      " 1   Газ 1   3239 non-null   float64\n",
      "dtypes: float64(1), int64(1)\n",
      "memory usage: 50.7 KB\n"
     ]
    },
    {
     "data": {
      "text/plain": [
       "None"
      ]
     },
     "metadata": {},
     "output_type": "display_data"
    },
    {
     "data": {
      "text/html": [
       "<div>\n",
       "<style scoped>\n",
       "    .dataframe tbody tr th:only-of-type {\n",
       "        vertical-align: middle;\n",
       "    }\n",
       "\n",
       "    .dataframe tbody tr th {\n",
       "        vertical-align: top;\n",
       "    }\n",
       "\n",
       "    .dataframe thead th {\n",
       "        text-align: right;\n",
       "    }\n",
       "</style>\n",
       "<table border=\"1\" class=\"dataframe\">\n",
       "  <thead>\n",
       "    <tr style=\"text-align: right;\">\n",
       "      <th></th>\n",
       "      <th>key</th>\n",
       "      <th>Газ 1</th>\n",
       "    </tr>\n",
       "  </thead>\n",
       "  <tbody>\n",
       "    <tr>\n",
       "      <th>count</th>\n",
       "      <td>3239.000000</td>\n",
       "      <td>3239.000000</td>\n",
       "    </tr>\n",
       "    <tr>\n",
       "      <th>mean</th>\n",
       "      <td>1621.861377</td>\n",
       "      <td>11.002062</td>\n",
       "    </tr>\n",
       "    <tr>\n",
       "      <th>std</th>\n",
       "      <td>935.386334</td>\n",
       "      <td>6.220327</td>\n",
       "    </tr>\n",
       "    <tr>\n",
       "      <th>min</th>\n",
       "      <td>1.000000</td>\n",
       "      <td>0.008399</td>\n",
       "    </tr>\n",
       "    <tr>\n",
       "      <th>25%</th>\n",
       "      <td>812.500000</td>\n",
       "      <td>7.043089</td>\n",
       "    </tr>\n",
       "    <tr>\n",
       "      <th>50%</th>\n",
       "      <td>1622.000000</td>\n",
       "      <td>9.836267</td>\n",
       "    </tr>\n",
       "    <tr>\n",
       "      <th>75%</th>\n",
       "      <td>2431.500000</td>\n",
       "      <td>13.769915</td>\n",
       "    </tr>\n",
       "    <tr>\n",
       "      <th>max</th>\n",
       "      <td>3241.000000</td>\n",
       "      <td>77.995040</td>\n",
       "    </tr>\n",
       "  </tbody>\n",
       "</table>\n",
       "</div>"
      ],
      "text/plain": [
       "               key        Газ 1\n",
       "count  3239.000000  3239.000000\n",
       "mean   1621.861377    11.002062\n",
       "std     935.386334     6.220327\n",
       "min       1.000000     0.008399\n",
       "25%     812.500000     7.043089\n",
       "50%    1622.000000     9.836267\n",
       "75%    2431.500000    13.769915\n",
       "max    3241.000000    77.995040"
      ]
     },
     "metadata": {},
     "output_type": "display_data"
    },
    {
     "name": "stdout",
     "output_type": "stream",
     "text": [
      "Количество дубликатов:  0\n",
      "Количество уникальных партий:  3239\n"
     ]
    },
    {
     "data": {
      "image/png": "[encoded data removed]",
      "text/plain": [
       "<Figure size 144x72 with 2 Axes>"
      ]
     },
     "metadata": {
      "needs_background": "light"
     },
     "output_type": "display_data"
    }
   ],
   "source": [
    "info(df_gas)"
   ]
  },
  {
   "cell_type": "markdown",
   "metadata": {},
   "source": [
    "**Вывод по газу**\n",
    "\n",
    "- Пропусков не обнаружено\n",
    "\n",
    "- Объем газа на партию происход в диапозоне **от 0.008 до 77.99**,с медианой в **11**\n",
    "\n",
    "- Продувка каждой партии происходит 1 раз"
   ]
  },
  {
   "cell_type": "markdown",
   "metadata": {},
   "source": [
    "### Анализ данных по измерению температуры "
   ]
  },
  {
   "cell_type": "code",
   "execution_count": 12,
   "metadata": {},
   "outputs": [
    {
     "data": {
      "text/html": [
       "<div>\n",
       "<style scoped>\n",
       "    .dataframe tbody tr th:only-of-type {\n",
       "        vertical-align: middle;\n",
       "    }\n",
       "\n",
       "    .dataframe tbody tr th {\n",
       "        vertical-align: top;\n",
       "    }\n",
       "\n",
       "    .dataframe thead th {\n",
       "        text-align: right;\n",
       "    }\n",
       "</style>\n",
       "<table border=\"1\" class=\"dataframe\">\n",
       "  <thead>\n",
       "    <tr style=\"text-align: right;\">\n",
       "      <th></th>\n",
       "      <th>key</th>\n",
       "      <th>Время замера</th>\n",
       "      <th>Температура</th>\n",
       "    </tr>\n",
       "  </thead>\n",
       "  <tbody>\n",
       "    <tr>\n",
       "      <th>0</th>\n",
       "      <td>1</td>\n",
       "      <td>2019-05-03 11:02:04</td>\n",
       "      <td>1571.0</td>\n",
       "    </tr>\n",
       "    <tr>\n",
       "      <th>1</th>\n",
       "      <td>1</td>\n",
       "      <td>2019-05-03 11:07:18</td>\n",
       "      <td>1604.0</td>\n",
       "    </tr>\n",
       "    <tr>\n",
       "      <th>2</th>\n",
       "      <td>1</td>\n",
       "      <td>2019-05-03 11:11:34</td>\n",
       "      <td>1618.0</td>\n",
       "    </tr>\n",
       "    <tr>\n",
       "      <th>3</th>\n",
       "      <td>1</td>\n",
       "      <td>2019-05-03 11:18:04</td>\n",
       "      <td>1601.0</td>\n",
       "    </tr>\n",
       "    <tr>\n",
       "      <th>4</th>\n",
       "      <td>1</td>\n",
       "      <td>2019-05-03 11:25:59</td>\n",
       "      <td>1606.0</td>\n",
       "    </tr>\n",
       "  </tbody>\n",
       "</table>\n",
       "</div>"
      ],
      "text/plain": [
       "   key        Время замера  Температура\n",
       "0    1 2019-05-03 11:02:04       1571.0\n",
       "1    1 2019-05-03 11:07:18       1604.0\n",
       "2    1 2019-05-03 11:11:34       1618.0\n",
       "3    1 2019-05-03 11:18:04       1601.0\n",
       "4    1 2019-05-03 11:25:59       1606.0"
      ]
     },
     "metadata": {},
     "output_type": "display_data"
    },
    {
     "name": "stdout",
     "output_type": "stream",
     "text": [
      "<class 'pandas.core.frame.DataFrame'>\n",
      "RangeIndex: 18092 entries, 0 to 18091\n",
      "Data columns (total 3 columns):\n",
      " #   Column        Non-Null Count  Dtype         \n",
      "---  ------        --------------  -----         \n",
      " 0   key           18092 non-null  int64         \n",
      " 1   Время замера  18092 non-null  datetime64[ns]\n",
      " 2   Температура   14665 non-null  float64       \n",
      "dtypes: datetime64[ns](1), float64(1), int64(1)\n",
      "memory usage: 424.2 KB\n"
     ]
    },
    {
     "data": {
      "text/plain": [
       "None"
      ]
     },
     "metadata": {},
     "output_type": "display_data"
    },
    {
     "data": {
      "text/html": [
       "<div>\n",
       "<style scoped>\n",
       "    .dataframe tbody tr th:only-of-type {\n",
       "        vertical-align: middle;\n",
       "    }\n",
       "\n",
       "    .dataframe tbody tr th {\n",
       "        vertical-align: top;\n",
       "    }\n",
       "\n",
       "    .dataframe thead th {\n",
       "        text-align: right;\n",
       "    }\n",
       "</style>\n",
       "<table border=\"1\" class=\"dataframe\">\n",
       "  <thead>\n",
       "    <tr style=\"text-align: right;\">\n",
       "      <th></th>\n",
       "      <th>key</th>\n",
       "      <th>Температура</th>\n",
       "    </tr>\n",
       "  </thead>\n",
       "  <tbody>\n",
       "    <tr>\n",
       "      <th>count</th>\n",
       "      <td>18092.000000</td>\n",
       "      <td>14665.000000</td>\n",
       "    </tr>\n",
       "    <tr>\n",
       "      <th>mean</th>\n",
       "      <td>1616.460977</td>\n",
       "      <td>1590.722741</td>\n",
       "    </tr>\n",
       "    <tr>\n",
       "      <th>std</th>\n",
       "      <td>934.641385</td>\n",
       "      <td>20.394381</td>\n",
       "    </tr>\n",
       "    <tr>\n",
       "      <th>min</th>\n",
       "      <td>1.000000</td>\n",
       "      <td>1191.000000</td>\n",
       "    </tr>\n",
       "    <tr>\n",
       "      <th>25%</th>\n",
       "      <td>807.750000</td>\n",
       "      <td>1580.000000</td>\n",
       "    </tr>\n",
       "    <tr>\n",
       "      <th>50%</th>\n",
       "      <td>1618.000000</td>\n",
       "      <td>1590.000000</td>\n",
       "    </tr>\n",
       "    <tr>\n",
       "      <th>75%</th>\n",
       "      <td>2429.000000</td>\n",
       "      <td>1599.000000</td>\n",
       "    </tr>\n",
       "    <tr>\n",
       "      <th>max</th>\n",
       "      <td>3241.000000</td>\n",
       "      <td>1705.000000</td>\n",
       "    </tr>\n",
       "  </tbody>\n",
       "</table>\n",
       "</div>"
      ],
      "text/plain": [
       "                key   Температура\n",
       "count  18092.000000  14665.000000\n",
       "mean    1616.460977   1590.722741\n",
       "std      934.641385     20.394381\n",
       "min        1.000000   1191.000000\n",
       "25%      807.750000   1580.000000\n",
       "50%     1618.000000   1590.000000\n",
       "75%     2429.000000   1599.000000\n",
       "max     3241.000000   1705.000000"
      ]
     },
     "metadata": {},
     "output_type": "display_data"
    },
    {
     "name": "stdout",
     "output_type": "stream",
     "text": [
      "Количество дубликатов:  0\n",
      "Количество уникальных партий:  3216\n"
     ]
    },
    {
     "data": {
      "image/png": "[encoded data removed]",
      "text/plain": [
       "<Figure size 216x108 with 2 Axes>"
      ]
     },
     "metadata": {
      "needs_background": "light"
     },
     "output_type": "display_data"
    }
   ],
   "source": [
    "info(df_temp)"
   ]
  },
  {
   "cell_type": "code",
   "execution_count": 13,
   "metadata": {},
   "outputs": [
    {
     "data": {
      "image/png": "[encoded data removed]",
      "text/plain": [
       "<Figure size 432x288 with 1 Axes>"
      ]
     },
     "metadata": {
      "needs_background": "light"
     },
     "output_type": "display_data"
    }
   ],
   "source": [
    "# Среднее измерение температуры на партию\n",
    "df_temp['key'].value_counts().sort_values().hist(bins=16)\n",
    "plt.title('Среднее измерение температуры')\n",
    "plt.xlabel('Количество циклов')\n",
    "plt.ylabel('Данные о температуре по ключу')\n",
    "plt.show()"
   ]
  },
  {
   "cell_type": "markdown",
   "metadata": {},
   "source": [
    "**Вывод по температуре**\n",
    "\n",
    "- В данных пристувуют пропуски о замерах температуры,следовательно от таких нужно избиваться\n",
    "\n",
    "- Количество замеров от 1 до 16\n",
    "\n",
    "- Дубликаты отсутвуют\n",
    "\n",
    "- Так же на графике видно,что присутвую т замеры с еденичным количеством,такие данные явно помешают нашей работе,так как целевой признак это последний замер\n",
    "\n",
    "- Температура плавления колбеблиться от 1191 до 1705,медианное 1509"
   ]
  },
  {
   "cell_type": "markdown",
   "metadata": {},
   "source": [
    "### Анализ данных о проволочных маетриалах(объем и время)"
   ]
  },
  {
   "cell_type": "markdown",
   "metadata": {},
   "source": [
    "Так данные о проволочных материалов деляться также как и сыпучие,произведем такой же анализ"
   ]
  },
  {
   "cell_type": "markdown",
   "metadata": {},
   "source": [
    "**Объём**"
   ]
  },
  {
   "cell_type": "code",
   "execution_count": 14,
   "metadata": {},
   "outputs": [
    {
     "data": {
      "text/html": [
       "<div>\n",
       "<style scoped>\n",
       "    .dataframe tbody tr th:only-of-type {\n",
       "        vertical-align: middle;\n",
       "    }\n",
       "\n",
       "    .dataframe tbody tr th {\n",
       "        vertical-align: top;\n",
       "    }\n",
       "\n",
       "    .dataframe thead th {\n",
       "        text-align: right;\n",
       "    }\n",
       "</style>\n",
       "<table border=\"1\" class=\"dataframe\">\n",
       "  <thead>\n",
       "    <tr style=\"text-align: right;\">\n",
       "      <th></th>\n",
       "      <th>key</th>\n",
       "      <th>Wire 1</th>\n",
       "      <th>Wire 2</th>\n",
       "      <th>Wire 3</th>\n",
       "      <th>Wire 4</th>\n",
       "      <th>Wire 5</th>\n",
       "      <th>Wire 6</th>\n",
       "      <th>Wire 7</th>\n",
       "      <th>Wire 8</th>\n",
       "      <th>Wire 9</th>\n",
       "    </tr>\n",
       "  </thead>\n",
       "  <tbody>\n",
       "    <tr>\n",
       "      <th>0</th>\n",
       "      <td>1</td>\n",
       "      <td>60.059998</td>\n",
       "      <td>NaN</td>\n",
       "      <td>NaN</td>\n",
       "      <td>NaN</td>\n",
       "      <td>NaN</td>\n",
       "      <td>NaN</td>\n",
       "      <td>NaN</td>\n",
       "      <td>NaN</td>\n",
       "      <td>NaN</td>\n",
       "    </tr>\n",
       "    <tr>\n",
       "      <th>1</th>\n",
       "      <td>2</td>\n",
       "      <td>96.052315</td>\n",
       "      <td>NaN</td>\n",
       "      <td>NaN</td>\n",
       "      <td>NaN</td>\n",
       "      <td>NaN</td>\n",
       "      <td>NaN</td>\n",
       "      <td>NaN</td>\n",
       "      <td>NaN</td>\n",
       "      <td>NaN</td>\n",
       "    </tr>\n",
       "    <tr>\n",
       "      <th>2</th>\n",
       "      <td>3</td>\n",
       "      <td>91.160157</td>\n",
       "      <td>NaN</td>\n",
       "      <td>NaN</td>\n",
       "      <td>NaN</td>\n",
       "      <td>NaN</td>\n",
       "      <td>NaN</td>\n",
       "      <td>NaN</td>\n",
       "      <td>NaN</td>\n",
       "      <td>NaN</td>\n",
       "    </tr>\n",
       "    <tr>\n",
       "      <th>3</th>\n",
       "      <td>4</td>\n",
       "      <td>89.063515</td>\n",
       "      <td>NaN</td>\n",
       "      <td>NaN</td>\n",
       "      <td>NaN</td>\n",
       "      <td>NaN</td>\n",
       "      <td>NaN</td>\n",
       "      <td>NaN</td>\n",
       "      <td>NaN</td>\n",
       "      <td>NaN</td>\n",
       "    </tr>\n",
       "    <tr>\n",
       "      <th>4</th>\n",
       "      <td>5</td>\n",
       "      <td>89.238236</td>\n",
       "      <td>9.11456</td>\n",
       "      <td>NaN</td>\n",
       "      <td>NaN</td>\n",
       "      <td>NaN</td>\n",
       "      <td>NaN</td>\n",
       "      <td>NaN</td>\n",
       "      <td>NaN</td>\n",
       "      <td>NaN</td>\n",
       "    </tr>\n",
       "  </tbody>\n",
       "</table>\n",
       "</div>"
      ],
      "text/plain": [
       "   key     Wire 1   Wire 2  Wire 3  Wire 4  Wire 5  Wire 6  Wire 7  Wire 8  \\\n",
       "0    1  60.059998      NaN     NaN     NaN     NaN     NaN     NaN     NaN   \n",
       "1    2  96.052315      NaN     NaN     NaN     NaN     NaN     NaN     NaN   \n",
       "2    3  91.160157      NaN     NaN     NaN     NaN     NaN     NaN     NaN   \n",
       "3    4  89.063515      NaN     NaN     NaN     NaN     NaN     NaN     NaN   \n",
       "4    5  89.238236  9.11456     NaN     NaN     NaN     NaN     NaN     NaN   \n",
       "\n",
       "   Wire 9  \n",
       "0     NaN  \n",
       "1     NaN  \n",
       "2     NaN  \n",
       "3     NaN  \n",
       "4     NaN  "
      ]
     },
     "metadata": {},
     "output_type": "display_data"
    },
    {
     "name": "stdout",
     "output_type": "stream",
     "text": [
      "<class 'pandas.core.frame.DataFrame'>\n",
      "RangeIndex: 3081 entries, 0 to 3080\n",
      "Data columns (total 10 columns):\n",
      " #   Column  Non-Null Count  Dtype  \n",
      "---  ------  --------------  -----  \n",
      " 0   key     3081 non-null   int64  \n",
      " 1   Wire 1  3055 non-null   float64\n",
      " 2   Wire 2  1079 non-null   float64\n",
      " 3   Wire 3  63 non-null     float64\n",
      " 4   Wire 4  14 non-null     float64\n",
      " 5   Wire 5  1 non-null      float64\n",
      " 6   Wire 6  73 non-null     float64\n",
      " 7   Wire 7  11 non-null     float64\n",
      " 8   Wire 8  19 non-null     float64\n",
      " 9   Wire 9  29 non-null     float64\n",
      "dtypes: float64(9), int64(1)\n",
      "memory usage: 240.8 KB\n"
     ]
    },
    {
     "data": {
      "text/plain": [
       "None"
      ]
     },
     "metadata": {},
     "output_type": "display_data"
    },
    {
     "data": {
      "text/html": [
       "<div>\n",
       "<style scoped>\n",
       "    .dataframe tbody tr th:only-of-type {\n",
       "        vertical-align: middle;\n",
       "    }\n",
       "\n",
       "    .dataframe tbody tr th {\n",
       "        vertical-align: top;\n",
       "    }\n",
       "\n",
       "    .dataframe thead th {\n",
       "        text-align: right;\n",
       "    }\n",
       "</style>\n",
       "<table border=\"1\" class=\"dataframe\">\n",
       "  <thead>\n",
       "    <tr style=\"text-align: right;\">\n",
       "      <th></th>\n",
       "      <th>key</th>\n",
       "      <th>Wire 1</th>\n",
       "      <th>Wire 2</th>\n",
       "      <th>Wire 3</th>\n",
       "      <th>Wire 4</th>\n",
       "      <th>Wire 5</th>\n",
       "      <th>Wire 6</th>\n",
       "      <th>Wire 7</th>\n",
       "      <th>Wire 8</th>\n",
       "      <th>Wire 9</th>\n",
       "    </tr>\n",
       "  </thead>\n",
       "  <tbody>\n",
       "    <tr>\n",
       "      <th>count</th>\n",
       "      <td>3081.000000</td>\n",
       "      <td>3055.000000</td>\n",
       "      <td>1079.000000</td>\n",
       "      <td>63.000000</td>\n",
       "      <td>14.000000</td>\n",
       "      <td>1.000</td>\n",
       "      <td>73.000000</td>\n",
       "      <td>11.000000</td>\n",
       "      <td>19.000000</td>\n",
       "      <td>29.000000</td>\n",
       "    </tr>\n",
       "    <tr>\n",
       "      <th>mean</th>\n",
       "      <td>1623.426485</td>\n",
       "      <td>100.895853</td>\n",
       "      <td>50.577323</td>\n",
       "      <td>189.482681</td>\n",
       "      <td>57.442841</td>\n",
       "      <td>15.132</td>\n",
       "      <td>48.016974</td>\n",
       "      <td>10.039007</td>\n",
       "      <td>53.625193</td>\n",
       "      <td>34.155752</td>\n",
       "    </tr>\n",
       "    <tr>\n",
       "      <th>std</th>\n",
       "      <td>932.996726</td>\n",
       "      <td>42.012518</td>\n",
       "      <td>39.320216</td>\n",
       "      <td>99.513444</td>\n",
       "      <td>28.824667</td>\n",
       "      <td>NaN</td>\n",
       "      <td>33.919845</td>\n",
       "      <td>8.610584</td>\n",
       "      <td>16.881728</td>\n",
       "      <td>19.931616</td>\n",
       "    </tr>\n",
       "    <tr>\n",
       "      <th>min</th>\n",
       "      <td>1.000000</td>\n",
       "      <td>1.918800</td>\n",
       "      <td>0.030160</td>\n",
       "      <td>0.144144</td>\n",
       "      <td>24.148801</td>\n",
       "      <td>15.132</td>\n",
       "      <td>0.034320</td>\n",
       "      <td>0.234208</td>\n",
       "      <td>45.076721</td>\n",
       "      <td>4.622800</td>\n",
       "    </tr>\n",
       "    <tr>\n",
       "      <th>25%</th>\n",
       "      <td>823.000000</td>\n",
       "      <td>72.115684</td>\n",
       "      <td>20.193680</td>\n",
       "      <td>95.135044</td>\n",
       "      <td>40.807002</td>\n",
       "      <td>15.132</td>\n",
       "      <td>25.053600</td>\n",
       "      <td>6.762756</td>\n",
       "      <td>46.094879</td>\n",
       "      <td>22.058401</td>\n",
       "    </tr>\n",
       "    <tr>\n",
       "      <th>50%</th>\n",
       "      <td>1619.000000</td>\n",
       "      <td>100.158234</td>\n",
       "      <td>40.142956</td>\n",
       "      <td>235.194977</td>\n",
       "      <td>45.234282</td>\n",
       "      <td>15.132</td>\n",
       "      <td>42.076324</td>\n",
       "      <td>9.017009</td>\n",
       "      <td>46.279999</td>\n",
       "      <td>30.066399</td>\n",
       "    </tr>\n",
       "    <tr>\n",
       "      <th>75%</th>\n",
       "      <td>2434.000000</td>\n",
       "      <td>126.060483</td>\n",
       "      <td>70.227558</td>\n",
       "      <td>276.252014</td>\n",
       "      <td>76.124619</td>\n",
       "      <td>15.132</td>\n",
       "      <td>64.212723</td>\n",
       "      <td>11.886057</td>\n",
       "      <td>48.089603</td>\n",
       "      <td>43.862003</td>\n",
       "    </tr>\n",
       "    <tr>\n",
       "      <th>max</th>\n",
       "      <td>3241.000000</td>\n",
       "      <td>330.314424</td>\n",
       "      <td>282.780152</td>\n",
       "      <td>385.008668</td>\n",
       "      <td>113.231044</td>\n",
       "      <td>15.132</td>\n",
       "      <td>180.454575</td>\n",
       "      <td>32.847674</td>\n",
       "      <td>102.762401</td>\n",
       "      <td>90.053604</td>\n",
       "    </tr>\n",
       "  </tbody>\n",
       "</table>\n",
       "</div>"
      ],
      "text/plain": [
       "               key       Wire 1       Wire 2      Wire 3      Wire 4  Wire 5  \\\n",
       "count  3081.000000  3055.000000  1079.000000   63.000000   14.000000   1.000   \n",
       "mean   1623.426485   100.895853    50.577323  189.482681   57.442841  15.132   \n",
       "std     932.996726    42.012518    39.320216   99.513444   28.824667     NaN   \n",
       "min       1.000000     1.918800     0.030160    0.144144   24.148801  15.132   \n",
       "25%     823.000000    72.115684    20.193680   95.135044   40.807002  15.132   \n",
       "50%    1619.000000   100.158234    40.142956  235.194977   45.234282  15.132   \n",
       "75%    2434.000000   126.060483    70.227558  276.252014   76.124619  15.132   \n",
       "max    3241.000000   330.314424   282.780152  385.008668  113.231044  15.132   \n",
       "\n",
       "           Wire 6     Wire 7      Wire 8     Wire 9  \n",
       "count   73.000000  11.000000   19.000000  29.000000  \n",
       "mean    48.016974  10.039007   53.625193  34.155752  \n",
       "std     33.919845   8.610584   16.881728  19.931616  \n",
       "min      0.034320   0.234208   45.076721   4.622800  \n",
       "25%     25.053600   6.762756   46.094879  22.058401  \n",
       "50%     42.076324   9.017009   46.279999  30.066399  \n",
       "75%     64.212723  11.886057   48.089603  43.862003  \n",
       "max    180.454575  32.847674  102.762401  90.053604  "
      ]
     },
     "metadata": {},
     "output_type": "display_data"
    },
    {
     "name": "stdout",
     "output_type": "stream",
     "text": [
      "Количество дубликатов:  0\n",
      "Количество уникальных партий:  3081\n"
     ]
    },
    {
     "data": {
      "image/png": "[encoded data removed]",
      "text/plain": [
       "<Figure size 720x360 with 2 Axes>"
      ]
     },
     "metadata": {
      "needs_background": "light"
     },
     "output_type": "display_data"
    }
   ],
   "source": [
    "info(df_wire)"
   ]
  },
  {
   "cell_type": "code",
   "execution_count": 15,
   "metadata": {},
   "outputs": [
    {
     "data": {
      "text/plain": [
       "1.3883029721955897"
      ]
     },
     "execution_count": 15,
     "metadata": {},
     "output_type": "execute_result"
    }
   ],
   "source": [
    "# Cреднее добавление материалов в каждую партию \n",
    "df_wire.drop('key', axis=1).notna().sum().sum() / df_bulk.shape[0]"
   ]
  },
  {
   "cell_type": "markdown",
   "metadata": {},
   "source": [
    "**Вывод по объему проволочных материалов**\n",
    "\n",
    "- Пропуски так же как и сыпучих говорят о том,что в партию не добавлялся данный материал\n",
    "\n",
    "- Дубликатов не обнаружено\n",
    "\n",
    "- В среднем добаляется 1.3 ед материала на партию\n",
    "\n",
    "- Добавка под номером 5 явно использовалась реже чем остальные\n",
    "\n",
    "- Добавка 8 и 9 также использовалась редка"
   ]
  },
  {
   "cell_type": "markdown",
   "metadata": {},
   "source": [
    "**Время**"
   ]
  },
  {
   "cell_type": "code",
   "execution_count": 16,
   "metadata": {},
   "outputs": [
    {
     "data": {
      "text/html": [
       "<div>\n",
       "<style scoped>\n",
       "    .dataframe tbody tr th:only-of-type {\n",
       "        vertical-align: middle;\n",
       "    }\n",
       "\n",
       "    .dataframe tbody tr th {\n",
       "        vertical-align: top;\n",
       "    }\n",
       "\n",
       "    .dataframe thead th {\n",
       "        text-align: right;\n",
       "    }\n",
       "</style>\n",
       "<table border=\"1\" class=\"dataframe\">\n",
       "  <thead>\n",
       "    <tr style=\"text-align: right;\">\n",
       "      <th></th>\n",
       "      <th>key</th>\n",
       "      <th>Wire 1</th>\n",
       "      <th>Wire 2</th>\n",
       "      <th>Wire 3</th>\n",
       "      <th>Wire 4</th>\n",
       "      <th>Wire 5</th>\n",
       "      <th>Wire 6</th>\n",
       "      <th>Wire 7</th>\n",
       "      <th>Wire 8</th>\n",
       "      <th>Wire 9</th>\n",
       "    </tr>\n",
       "  </thead>\n",
       "  <tbody>\n",
       "    <tr>\n",
       "      <th>0</th>\n",
       "      <td>1</td>\n",
       "      <td>2019-05-03 11:06:19</td>\n",
       "      <td>NaT</td>\n",
       "      <td>NaT</td>\n",
       "      <td>NaT</td>\n",
       "      <td>NaT</td>\n",
       "      <td>NaT</td>\n",
       "      <td>NaT</td>\n",
       "      <td>NaT</td>\n",
       "      <td>NaT</td>\n",
       "    </tr>\n",
       "    <tr>\n",
       "      <th>1</th>\n",
       "      <td>2</td>\n",
       "      <td>2019-05-03 11:36:50</td>\n",
       "      <td>NaT</td>\n",
       "      <td>NaT</td>\n",
       "      <td>NaT</td>\n",
       "      <td>NaT</td>\n",
       "      <td>NaT</td>\n",
       "      <td>NaT</td>\n",
       "      <td>NaT</td>\n",
       "      <td>NaT</td>\n",
       "    </tr>\n",
       "    <tr>\n",
       "      <th>2</th>\n",
       "      <td>3</td>\n",
       "      <td>2019-05-03 12:11:46</td>\n",
       "      <td>NaT</td>\n",
       "      <td>NaT</td>\n",
       "      <td>NaT</td>\n",
       "      <td>NaT</td>\n",
       "      <td>NaT</td>\n",
       "      <td>NaT</td>\n",
       "      <td>NaT</td>\n",
       "      <td>NaT</td>\n",
       "    </tr>\n",
       "    <tr>\n",
       "      <th>3</th>\n",
       "      <td>4</td>\n",
       "      <td>2019-05-03 12:43:22</td>\n",
       "      <td>NaT</td>\n",
       "      <td>NaT</td>\n",
       "      <td>NaT</td>\n",
       "      <td>NaT</td>\n",
       "      <td>NaT</td>\n",
       "      <td>NaT</td>\n",
       "      <td>NaT</td>\n",
       "      <td>NaT</td>\n",
       "    </tr>\n",
       "    <tr>\n",
       "      <th>4</th>\n",
       "      <td>5</td>\n",
       "      <td>2019-05-03 13:20:44</td>\n",
       "      <td>2019-05-03 13:15:34</td>\n",
       "      <td>NaT</td>\n",
       "      <td>NaT</td>\n",
       "      <td>NaT</td>\n",
       "      <td>NaT</td>\n",
       "      <td>NaT</td>\n",
       "      <td>NaT</td>\n",
       "      <td>NaT</td>\n",
       "    </tr>\n",
       "  </tbody>\n",
       "</table>\n",
       "</div>"
      ],
      "text/plain": [
       "   key              Wire 1              Wire 2 Wire 3 Wire 4 Wire 5 Wire 6  \\\n",
       "0    1 2019-05-03 11:06:19                 NaT    NaT    NaT    NaT    NaT   \n",
       "1    2 2019-05-03 11:36:50                 NaT    NaT    NaT    NaT    NaT   \n",
       "2    3 2019-05-03 12:11:46                 NaT    NaT    NaT    NaT    NaT   \n",
       "3    4 2019-05-03 12:43:22                 NaT    NaT    NaT    NaT    NaT   \n",
       "4    5 2019-05-03 13:20:44 2019-05-03 13:15:34    NaT    NaT    NaT    NaT   \n",
       "\n",
       "  Wire 7 Wire 8 Wire 9  \n",
       "0    NaT    NaT    NaT  \n",
       "1    NaT    NaT    NaT  \n",
       "2    NaT    NaT    NaT  \n",
       "3    NaT    NaT    NaT  \n",
       "4    NaT    NaT    NaT  "
      ]
     },
     "metadata": {},
     "output_type": "display_data"
    },
    {
     "name": "stdout",
     "output_type": "stream",
     "text": [
      "<class 'pandas.core.frame.DataFrame'>\n",
      "RangeIndex: 3081 entries, 0 to 3080\n",
      "Data columns (total 10 columns):\n",
      " #   Column  Non-Null Count  Dtype         \n",
      "---  ------  --------------  -----         \n",
      " 0   key     3081 non-null   int64         \n",
      " 1   Wire 1  3055 non-null   datetime64[ns]\n",
      " 2   Wire 2  1079 non-null   datetime64[ns]\n",
      " 3   Wire 3  63 non-null     datetime64[ns]\n",
      " 4   Wire 4  14 non-null     datetime64[ns]\n",
      " 5   Wire 5  1 non-null      datetime64[ns]\n",
      " 6   Wire 6  73 non-null     datetime64[ns]\n",
      " 7   Wire 7  11 non-null     datetime64[ns]\n",
      " 8   Wire 8  19 non-null     datetime64[ns]\n",
      " 9   Wire 9  29 non-null     datetime64[ns]\n",
      "dtypes: datetime64[ns](9), int64(1)\n",
      "memory usage: 240.8 KB\n"
     ]
    },
    {
     "data": {
      "text/plain": [
       "None"
      ]
     },
     "metadata": {},
     "output_type": "display_data"
    },
    {
     "data": {
      "text/html": [
       "<div>\n",
       "<style scoped>\n",
       "    .dataframe tbody tr th:only-of-type {\n",
       "        vertical-align: middle;\n",
       "    }\n",
       "\n",
       "    .dataframe tbody tr th {\n",
       "        vertical-align: top;\n",
       "    }\n",
       "\n",
       "    .dataframe thead th {\n",
       "        text-align: right;\n",
       "    }\n",
       "</style>\n",
       "<table border=\"1\" class=\"dataframe\">\n",
       "  <thead>\n",
       "    <tr style=\"text-align: right;\">\n",
       "      <th></th>\n",
       "      <th>key</th>\n",
       "    </tr>\n",
       "  </thead>\n",
       "  <tbody>\n",
       "    <tr>\n",
       "      <th>count</th>\n",
       "      <td>3081.000000</td>\n",
       "    </tr>\n",
       "    <tr>\n",
       "      <th>mean</th>\n",
       "      <td>1623.426485</td>\n",
       "    </tr>\n",
       "    <tr>\n",
       "      <th>std</th>\n",
       "      <td>932.996726</td>\n",
       "    </tr>\n",
       "    <tr>\n",
       "      <th>min</th>\n",
       "      <td>1.000000</td>\n",
       "    </tr>\n",
       "    <tr>\n",
       "      <th>25%</th>\n",
       "      <td>823.000000</td>\n",
       "    </tr>\n",
       "    <tr>\n",
       "      <th>50%</th>\n",
       "      <td>1619.000000</td>\n",
       "    </tr>\n",
       "    <tr>\n",
       "      <th>75%</th>\n",
       "      <td>2434.000000</td>\n",
       "    </tr>\n",
       "    <tr>\n",
       "      <th>max</th>\n",
       "      <td>3241.000000</td>\n",
       "    </tr>\n",
       "  </tbody>\n",
       "</table>\n",
       "</div>"
      ],
      "text/plain": [
       "               key\n",
       "count  3081.000000\n",
       "mean   1623.426485\n",
       "std     932.996726\n",
       "min       1.000000\n",
       "25%     823.000000\n",
       "50%    1619.000000\n",
       "75%    2434.000000\n",
       "max    3241.000000"
      ]
     },
     "metadata": {},
     "output_type": "display_data"
    },
    {
     "name": "stdout",
     "output_type": "stream",
     "text": [
      "Количество дубликатов:  0\n",
      "Количество уникальных партий:  3081\n",
      "\n"
     ]
    },
    {
     "data": {
      "text/plain": [
       "<Figure size 720x360 with 0 Axes>"
      ]
     },
     "metadata": {},
     "output_type": "display_data"
    }
   ],
   "source": [
    "info(df_wire_time)"
   ]
  },
  {
   "cell_type": "markdown",
   "metadata": {},
   "source": [
    "**Общий вывод по проволочным материалам**\n",
    "\n",
    "- Пропуски так же как и сыпучих говорят о том,что в партию не добавлялся данный материал\n",
    "\n",
    "- Дубликатов не обнаружено\n",
    "\n",
    "- В среднем добаляется 1.3 ед материала на партию\n",
    "\n",
    "- Добавка под номером 5 явно использовалась реже чем остальные\n",
    "\n",
    "- Добавка 8 и 9 также использовалась редка"
   ]
  },
  {
   "cell_type": "markdown",
   "metadata": {},
   "source": [
    "### Общий вывод по анализу данных\n",
    "\n",
    "- Данные загружены и изучены,бибилиотеки импортированы\n",
    "\n",
    "- Данные о дате и вермени приведены к типу **Datetime**\n",
    "\n",
    "- Рассчитаны и созданы признаки **Время нагрева**,**Полная мощнасть**,**Энергия нагрева**\n",
    "\n",
    "- Пропуски в таблице сыпучих и проволочных материалов связаны с отсутвием добалением данных материалов в партию(следует заполнить нулями)\n",
    "\n",
    "- Пропуски в замерах температуры(их нужно будет удалить)\n",
    "\n",
    "- Между признаками наблюдается корелляция (где то слабее,где то сильнее)\n",
    "\n",
    "- Если будем использовать для модели данные о энергии нагрева,то избавимся от мультикорелиарности\n",
    "\n",
    "\n",
    "\n",
    "\n",
    "**Пока вопросов к заказчику не имею**"
   ]
  },
  {
   "cell_type": "markdown",
   "metadata": {},
   "source": [
    "## Подготовка данных"
   ]
  },
  {
   "cell_type": "markdown",
   "metadata": {},
   "source": [
    "### Очистка данных и обработка пропусков"
   ]
  },
  {
   "cell_type": "code",
   "execution_count": 17,
   "metadata": {},
   "outputs": [
    {
     "data": {
      "text/plain": [
       "0"
      ]
     },
     "execution_count": 17,
     "metadata": {},
     "output_type": "execute_result"
    }
   ],
   "source": [
    "# Пропуски в сыпучих материалах\n",
    "df_bulk = df_bulk.fillna(0)\n",
    "# Проверка\n",
    "df_bulk.isna().sum().sum()"
   ]
  },
  {
   "cell_type": "code",
   "execution_count": 18,
   "metadata": {},
   "outputs": [
    {
     "data": {
      "text/plain": [
       "0"
      ]
     },
     "execution_count": 18,
     "metadata": {},
     "output_type": "execute_result"
    }
   ],
   "source": [
    "# Пропуски в проволочных материалах\n",
    "df_wire = df_wire.fillna(0)\n",
    "# Проверка\n",
    "df_wire.isna().sum().sum()"
   ]
  },
  {
   "cell_type": "code",
   "execution_count": 19,
   "metadata": {},
   "outputs": [
    {
     "data": {
      "text/html": [
       "<div>\n",
       "<style scoped>\n",
       "    .dataframe tbody tr th:only-of-type {\n",
       "        vertical-align: middle;\n",
       "    }\n",
       "\n",
       "    .dataframe tbody tr th {\n",
       "        vertical-align: top;\n",
       "    }\n",
       "\n",
       "    .dataframe thead th {\n",
       "        text-align: right;\n",
       "    }\n",
       "</style>\n",
       "<table border=\"1\" class=\"dataframe\">\n",
       "  <thead>\n",
       "    <tr style=\"text-align: right;\">\n",
       "      <th></th>\n",
       "      <th>key</th>\n",
       "      <th>Время замера</th>\n",
       "      <th>Температура</th>\n",
       "    </tr>\n",
       "  </thead>\n",
       "  <tbody>\n",
       "    <tr>\n",
       "      <th>0</th>\n",
       "      <td>1</td>\n",
       "      <td>2019-05-03 11:02:04</td>\n",
       "      <td>1571.0</td>\n",
       "    </tr>\n",
       "    <tr>\n",
       "      <th>1</th>\n",
       "      <td>1</td>\n",
       "      <td>2019-05-03 11:07:18</td>\n",
       "      <td>1604.0</td>\n",
       "    </tr>\n",
       "    <tr>\n",
       "      <th>2</th>\n",
       "      <td>1</td>\n",
       "      <td>2019-05-03 11:11:34</td>\n",
       "      <td>1618.0</td>\n",
       "    </tr>\n",
       "    <tr>\n",
       "      <th>3</th>\n",
       "      <td>1</td>\n",
       "      <td>2019-05-03 11:18:04</td>\n",
       "      <td>1601.0</td>\n",
       "    </tr>\n",
       "    <tr>\n",
       "      <th>4</th>\n",
       "      <td>1</td>\n",
       "      <td>2019-05-03 11:25:59</td>\n",
       "      <td>1606.0</td>\n",
       "    </tr>\n",
       "    <tr>\n",
       "      <th>...</th>\n",
       "      <td>...</td>\n",
       "      <td>...</td>\n",
       "      <td>...</td>\n",
       "    </tr>\n",
       "    <tr>\n",
       "      <th>13921</th>\n",
       "      <td>2499</td>\n",
       "      <td>2019-08-10 13:33:21</td>\n",
       "      <td>1569.0</td>\n",
       "    </tr>\n",
       "    <tr>\n",
       "      <th>13922</th>\n",
       "      <td>2499</td>\n",
       "      <td>2019-08-10 13:41:34</td>\n",
       "      <td>1604.0</td>\n",
       "    </tr>\n",
       "    <tr>\n",
       "      <th>13923</th>\n",
       "      <td>2499</td>\n",
       "      <td>2019-08-10 13:46:28</td>\n",
       "      <td>1593.0</td>\n",
       "    </tr>\n",
       "    <tr>\n",
       "      <th>13924</th>\n",
       "      <td>2499</td>\n",
       "      <td>2019-08-10 13:54:56</td>\n",
       "      <td>1588.0</td>\n",
       "    </tr>\n",
       "    <tr>\n",
       "      <th>13925</th>\n",
       "      <td>2499</td>\n",
       "      <td>2019-08-10 13:58:58</td>\n",
       "      <td>1603.0</td>\n",
       "    </tr>\n",
       "  </tbody>\n",
       "</table>\n",
       "<p>13924 rows × 3 columns</p>\n",
       "</div>"
      ],
      "text/plain": [
       "        key        Время замера  Температура\n",
       "0         1 2019-05-03 11:02:04       1571.0\n",
       "1         1 2019-05-03 11:07:18       1604.0\n",
       "2         1 2019-05-03 11:11:34       1618.0\n",
       "3         1 2019-05-03 11:18:04       1601.0\n",
       "4         1 2019-05-03 11:25:59       1606.0\n",
       "...     ...                 ...          ...\n",
       "13921  2499 2019-08-10 13:33:21       1569.0\n",
       "13922  2499 2019-08-10 13:41:34       1604.0\n",
       "13923  2499 2019-08-10 13:46:28       1593.0\n",
       "13924  2499 2019-08-10 13:54:56       1588.0\n",
       "13925  2499 2019-08-10 13:58:58       1603.0\n",
       "\n",
       "[13924 rows x 3 columns]"
      ]
     },
     "execution_count": 19,
     "metadata": {},
     "output_type": "execute_result"
    }
   ],
   "source": [
    "keys_temp = df_temp.groupby(['key']).count()['Температура']\n",
    "keys_temp = keys_temp[keys_temp > 1].index\n",
    "df_temp = df_temp[df_temp.key.isin(keys_temp)]\n",
    "df_temp"
   ]
  },
  {
   "cell_type": "code",
   "execution_count": 20,
   "metadata": {},
   "outputs": [
    {
     "data": {
      "text/plain": [
       "key             0\n",
       "Время замера    0\n",
       "Температура     0\n",
       "dtype: int64"
      ]
     },
     "execution_count": 20,
     "metadata": {},
     "output_type": "execute_result"
    }
   ],
   "source": [
    "df_temp.isna().sum()"
   ]
  },
  {
   "cell_type": "code",
   "execution_count": 21,
   "metadata": {},
   "outputs": [],
   "source": [
    "# Формируем список без аномальных замеров температуры\n",
    "keys_bad_temp = df_temp[df_temp['Температура'] < 1430]['key'].values\n",
    "# Табилци без выбросов\n",
    "df_temp = df_temp.query('key not in @keys_bad_temp')"
   ]
  },
  {
   "cell_type": "code",
   "execution_count": 22,
   "metadata": {},
   "outputs": [],
   "source": [
    "# Удаление выбросов по реактивной мощности\n",
    "keys_bad_power = df_arc[df_arc['Реактивная мощность'] < -700]['key'].values[0]\n",
    "# Таблица без выбросов\n",
    "df_arc = df_arc[df_arc['key'] != keys_bad_power]"
   ]
  },
  {
   "cell_type": "markdown",
   "metadata": {},
   "source": [
    "**Вывод**\n",
    "\n",
    "Данные очищены и обработаны"
   ]
  },
  {
   "cell_type": "markdown",
   "metadata": {},
   "source": [
    "### Формирование таблицы признаков"
   ]
  },
  {
   "cell_type": "markdown",
   "metadata": {},
   "source": [
    "1 Таблица замера температуры\n",
    "\n",
    "-  В таблице замера температуры оставим только первый замер и последний,а так же сформируем новый признак путем нахождения разницы между временем последнего замера температуры и первого(**Общее время нахождения спалава в ковше**)\n",
    "\n",
    "2 Таблица о нагрева сплава\n",
    "\n",
    "- Найдем сумарную энергию нагрева для каждой партии\n",
    "\n",
    "3 Другие таблицы\n",
    "\n",
    "- Добавим данные о количестве добавленых материалов и газе\n",
    "\n",
    "4 Сгенерируем некторые признаки\n",
    "\n",
    "5 Проведем анализ "
   ]
  },
  {
   "cell_type": "markdown",
   "metadata": {},
   "source": [
    "**Таблица о замере температуры**"
   ]
  },
  {
   "cell_type": "code",
   "execution_count": 23,
   "metadata": {},
   "outputs": [
    {
     "data": {
      "text/html": [
       "<div>\n",
       "<style scoped>\n",
       "    .dataframe tbody tr th:only-of-type {\n",
       "        vertical-align: middle;\n",
       "    }\n",
       "\n",
       "    .dataframe tbody tr th {\n",
       "        vertical-align: top;\n",
       "    }\n",
       "\n",
       "    .dataframe thead th {\n",
       "        text-align: right;\n",
       "    }\n",
       "</style>\n",
       "<table border=\"1\" class=\"dataframe\">\n",
       "  <thead>\n",
       "    <tr style=\"text-align: right;\">\n",
       "      <th></th>\n",
       "      <th>start_time</th>\n",
       "      <th>fin_time</th>\n",
       "    </tr>\n",
       "    <tr>\n",
       "      <th>key</th>\n",
       "      <th></th>\n",
       "      <th></th>\n",
       "    </tr>\n",
       "  </thead>\n",
       "  <tbody>\n",
       "    <tr>\n",
       "      <th>1</th>\n",
       "      <td>2019-05-03 11:02:04</td>\n",
       "      <td>2019-05-03 11:30:38</td>\n",
       "    </tr>\n",
       "    <tr>\n",
       "      <th>2</th>\n",
       "      <td>2019-05-03 11:34:04</td>\n",
       "      <td>2019-05-03 11:55:09</td>\n",
       "    </tr>\n",
       "    <tr>\n",
       "      <th>3</th>\n",
       "      <td>2019-05-03 12:06:44</td>\n",
       "      <td>2019-05-03 12:35:57</td>\n",
       "    </tr>\n",
       "    <tr>\n",
       "      <th>4</th>\n",
       "      <td>2019-05-03 12:39:27</td>\n",
       "      <td>2019-05-03 12:59:47</td>\n",
       "    </tr>\n",
       "    <tr>\n",
       "      <th>5</th>\n",
       "      <td>2019-05-03 13:11:03</td>\n",
       "      <td>2019-05-03 13:36:39</td>\n",
       "    </tr>\n",
       "  </tbody>\n",
       "</table>\n",
       "</div>"
      ],
      "text/plain": [
       "             start_time            fin_time\n",
       "key                                        \n",
       "1   2019-05-03 11:02:04 2019-05-03 11:30:38\n",
       "2   2019-05-03 11:34:04 2019-05-03 11:55:09\n",
       "3   2019-05-03 12:06:44 2019-05-03 12:35:57\n",
       "4   2019-05-03 12:39:27 2019-05-03 12:59:47\n",
       "5   2019-05-03 13:11:03 2019-05-03 13:36:39"
      ]
     },
     "execution_count": 23,
     "metadata": {},
     "output_type": "execute_result"
    }
   ],
   "source": [
    "# Агрегация данных о началае и окончании нахождение сплава\n",
    "df = df_temp.pivot_table(index='key', values=['Время замера'], aggfunc=[min, max])\n",
    "# Ренейм колонок\n",
    "df.columns = ['start_time', 'fin_time']\n",
    "# Проверка\n",
    "df.head()"
   ]
  },
  {
   "cell_type": "code",
   "execution_count": 24,
   "metadata": {},
   "outputs": [
    {
     "data": {
      "text/html": [
       "<div>\n",
       "<style scoped>\n",
       "    .dataframe tbody tr th:only-of-type {\n",
       "        vertical-align: middle;\n",
       "    }\n",
       "\n",
       "    .dataframe tbody tr th {\n",
       "        vertical-align: top;\n",
       "    }\n",
       "\n",
       "    .dataframe thead th {\n",
       "        text-align: right;\n",
       "    }\n",
       "</style>\n",
       "<table border=\"1\" class=\"dataframe\">\n",
       "  <thead>\n",
       "    <tr style=\"text-align: right;\">\n",
       "      <th></th>\n",
       "      <th>start_time</th>\n",
       "      <th>fin_time</th>\n",
       "      <th>start_temp</th>\n",
       "    </tr>\n",
       "  </thead>\n",
       "  <tbody>\n",
       "    <tr>\n",
       "      <th>0</th>\n",
       "      <td>2019-05-03 11:02:04</td>\n",
       "      <td>2019-05-03 11:30:38</td>\n",
       "      <td>1571.0</td>\n",
       "    </tr>\n",
       "    <tr>\n",
       "      <th>1</th>\n",
       "      <td>2019-05-03 11:34:04</td>\n",
       "      <td>2019-05-03 11:55:09</td>\n",
       "      <td>1581.0</td>\n",
       "    </tr>\n",
       "    <tr>\n",
       "      <th>2</th>\n",
       "      <td>2019-05-03 12:06:44</td>\n",
       "      <td>2019-05-03 12:35:57</td>\n",
       "      <td>1596.0</td>\n",
       "    </tr>\n",
       "    <tr>\n",
       "      <th>3</th>\n",
       "      <td>2019-05-03 12:39:27</td>\n",
       "      <td>2019-05-03 12:59:47</td>\n",
       "      <td>1601.0</td>\n",
       "    </tr>\n",
       "    <tr>\n",
       "      <th>4</th>\n",
       "      <td>2019-05-03 13:11:03</td>\n",
       "      <td>2019-05-03 13:36:39</td>\n",
       "      <td>1576.0</td>\n",
       "    </tr>\n",
       "  </tbody>\n",
       "</table>\n",
       "</div>"
      ],
      "text/plain": [
       "           start_time            fin_time  start_temp\n",
       "0 2019-05-03 11:02:04 2019-05-03 11:30:38      1571.0\n",
       "1 2019-05-03 11:34:04 2019-05-03 11:55:09      1581.0\n",
       "2 2019-05-03 12:06:44 2019-05-03 12:35:57      1596.0\n",
       "3 2019-05-03 12:39:27 2019-05-03 12:59:47      1601.0\n",
       "4 2019-05-03 13:11:03 2019-05-03 13:36:39      1576.0"
      ]
     },
     "execution_count": 24,
     "metadata": {},
     "output_type": "execute_result"
    }
   ],
   "source": [
    "# Присоединеие данных о температуре\n",
    "df = df.merge(df_temp, left_on='start_time',right_on='Время замера')\n",
    "# Чистка лишних данных\n",
    "df = df.drop(['key', 'Время замера'], axis=1)\n",
    "# Ренейм колонок\n",
    "df = df.rename(columns = {'Температура': 'start_temp'})\n",
    "# Поверка\n",
    "df.head()"
   ]
  },
  {
   "cell_type": "code",
   "execution_count": 25,
   "metadata": {},
   "outputs": [
    {
     "data": {
      "text/html": [
       "<div>\n",
       "<style scoped>\n",
       "    .dataframe tbody tr th:only-of-type {\n",
       "        vertical-align: middle;\n",
       "    }\n",
       "\n",
       "    .dataframe tbody tr th {\n",
       "        vertical-align: top;\n",
       "    }\n",
       "\n",
       "    .dataframe thead th {\n",
       "        text-align: right;\n",
       "    }\n",
       "</style>\n",
       "<table border=\"1\" class=\"dataframe\">\n",
       "  <thead>\n",
       "    <tr style=\"text-align: right;\">\n",
       "      <th></th>\n",
       "      <th>start_time</th>\n",
       "      <th>fin_time</th>\n",
       "      <th>start_temp</th>\n",
       "      <th>key</th>\n",
       "      <th>fin_temp</th>\n",
       "    </tr>\n",
       "  </thead>\n",
       "  <tbody>\n",
       "    <tr>\n",
       "      <th>0</th>\n",
       "      <td>2019-05-03 11:02:04</td>\n",
       "      <td>2019-05-03 11:30:38</td>\n",
       "      <td>1571.0</td>\n",
       "      <td>1</td>\n",
       "      <td>1613.0</td>\n",
       "    </tr>\n",
       "    <tr>\n",
       "      <th>1</th>\n",
       "      <td>2019-05-03 11:34:04</td>\n",
       "      <td>2019-05-03 11:55:09</td>\n",
       "      <td>1581.0</td>\n",
       "      <td>2</td>\n",
       "      <td>1602.0</td>\n",
       "    </tr>\n",
       "    <tr>\n",
       "      <th>2</th>\n",
       "      <td>2019-05-03 12:06:44</td>\n",
       "      <td>2019-05-03 12:35:57</td>\n",
       "      <td>1596.0</td>\n",
       "      <td>3</td>\n",
       "      <td>1599.0</td>\n",
       "    </tr>\n",
       "    <tr>\n",
       "      <th>3</th>\n",
       "      <td>2019-05-03 12:39:27</td>\n",
       "      <td>2019-05-03 12:59:47</td>\n",
       "      <td>1601.0</td>\n",
       "      <td>4</td>\n",
       "      <td>1625.0</td>\n",
       "    </tr>\n",
       "    <tr>\n",
       "      <th>4</th>\n",
       "      <td>2019-05-03 13:11:03</td>\n",
       "      <td>2019-05-03 13:36:39</td>\n",
       "      <td>1576.0</td>\n",
       "      <td>5</td>\n",
       "      <td>1602.0</td>\n",
       "    </tr>\n",
       "  </tbody>\n",
       "</table>\n",
       "</div>"
      ],
      "text/plain": [
       "           start_time            fin_time  start_temp  key  fin_temp\n",
       "0 2019-05-03 11:02:04 2019-05-03 11:30:38      1571.0    1    1613.0\n",
       "1 2019-05-03 11:34:04 2019-05-03 11:55:09      1581.0    2    1602.0\n",
       "2 2019-05-03 12:06:44 2019-05-03 12:35:57      1596.0    3    1599.0\n",
       "3 2019-05-03 12:39:27 2019-05-03 12:59:47      1601.0    4    1625.0\n",
       "4 2019-05-03 13:11:03 2019-05-03 13:36:39      1576.0    5    1602.0"
      ]
     },
     "execution_count": 25,
     "metadata": {},
     "output_type": "execute_result"
    }
   ],
   "source": [
    "# Присоединеие данных о финанльной температуре\n",
    "df = df.merge(df_temp, left_on='fin_time',right_on='Время замера')\n",
    "# Чистка лишних данных\n",
    "df = df.drop('Время замера', axis=1)\n",
    "# Ренейм колонок\n",
    "df = df.rename(columns = {'Температура': 'fin_temp'})\n",
    "# Проверка\n",
    "df.head()"
   ]
  },
  {
   "cell_type": "code",
   "execution_count": 26,
   "metadata": {},
   "outputs": [
    {
     "data": {
      "text/html": [
       "<div>\n",
       "<style scoped>\n",
       "    .dataframe tbody tr th:only-of-type {\n",
       "        vertical-align: middle;\n",
       "    }\n",
       "\n",
       "    .dataframe tbody tr th {\n",
       "        vertical-align: top;\n",
       "    }\n",
       "\n",
       "    .dataframe thead th {\n",
       "        text-align: right;\n",
       "    }\n",
       "</style>\n",
       "<table border=\"1\" class=\"dataframe\">\n",
       "  <thead>\n",
       "    <tr style=\"text-align: right;\">\n",
       "      <th></th>\n",
       "      <th>start_temp</th>\n",
       "      <th>key</th>\n",
       "      <th>fin_temp</th>\n",
       "      <th>total_time</th>\n",
       "    </tr>\n",
       "  </thead>\n",
       "  <tbody>\n",
       "    <tr>\n",
       "      <th>0</th>\n",
       "      <td>1571.0</td>\n",
       "      <td>1</td>\n",
       "      <td>1613.0</td>\n",
       "      <td>1714.0</td>\n",
       "    </tr>\n",
       "    <tr>\n",
       "      <th>1</th>\n",
       "      <td>1581.0</td>\n",
       "      <td>2</td>\n",
       "      <td>1602.0</td>\n",
       "      <td>1265.0</td>\n",
       "    </tr>\n",
       "    <tr>\n",
       "      <th>2</th>\n",
       "      <td>1596.0</td>\n",
       "      <td>3</td>\n",
       "      <td>1599.0</td>\n",
       "      <td>1753.0</td>\n",
       "    </tr>\n",
       "    <tr>\n",
       "      <th>3</th>\n",
       "      <td>1601.0</td>\n",
       "      <td>4</td>\n",
       "      <td>1625.0</td>\n",
       "      <td>1220.0</td>\n",
       "    </tr>\n",
       "    <tr>\n",
       "      <th>4</th>\n",
       "      <td>1576.0</td>\n",
       "      <td>5</td>\n",
       "      <td>1602.0</td>\n",
       "      <td>1536.0</td>\n",
       "    </tr>\n",
       "  </tbody>\n",
       "</table>\n",
       "</div>"
      ],
      "text/plain": [
       "   start_temp  key  fin_temp  total_time\n",
       "0      1571.0    1    1613.0      1714.0\n",
       "1      1581.0    2    1602.0      1265.0\n",
       "2      1596.0    3    1599.0      1753.0\n",
       "3      1601.0    4    1625.0      1220.0\n",
       "4      1576.0    5    1602.0      1536.0"
      ]
     },
     "execution_count": 26,
     "metadata": {},
     "output_type": "execute_result"
    }
   ],
   "source": [
    "# Время приготовления партии\n",
    "df['total_time'] = (df['fin_time'] - df['start_time']).astype('int64') / 1000000000\n",
    "# Чистка колонок\n",
    "df = df.drop(['start_time', 'fin_time'], axis=1)\n",
    "# Проверка\n",
    "df.head()"
   ]
  },
  {
   "cell_type": "markdown",
   "metadata": {},
   "source": [
    "**Вывод**\n",
    "\n",
    "Оставили только первый и последний замер,а так же создали новый прижнак общее время в ковше"
   ]
  },
  {
   "cell_type": "markdown",
   "metadata": {},
   "source": [
    "**Таблица о нагреве сплава**"
   ]
  },
  {
   "cell_type": "code",
   "execution_count": 27,
   "metadata": {},
   "outputs": [
    {
     "data": {
      "text/html": [
       "<div>\n",
       "<style scoped>\n",
       "    .dataframe tbody tr th:only-of-type {\n",
       "        vertical-align: middle;\n",
       "    }\n",
       "\n",
       "    .dataframe tbody tr th {\n",
       "        vertical-align: top;\n",
       "    }\n",
       "\n",
       "    .dataframe thead th {\n",
       "        text-align: right;\n",
       "    }\n",
       "</style>\n",
       "<table border=\"1\" class=\"dataframe\">\n",
       "  <thead>\n",
       "    <tr style=\"text-align: right;\">\n",
       "      <th></th>\n",
       "      <th>start_temp</th>\n",
       "      <th>key</th>\n",
       "      <th>fin_temp</th>\n",
       "      <th>total_time</th>\n",
       "      <th>total_energy</th>\n",
       "      <th>heating_time</th>\n",
       "    </tr>\n",
       "  </thead>\n",
       "  <tbody>\n",
       "    <tr>\n",
       "      <th>0</th>\n",
       "      <td>1571.0</td>\n",
       "      <td>1</td>\n",
       "      <td>1613.0</td>\n",
       "      <td>1714.0</td>\n",
       "      <td>770.282114</td>\n",
       "      <td>1098.0</td>\n",
       "    </tr>\n",
       "    <tr>\n",
       "      <th>1</th>\n",
       "      <td>1581.0</td>\n",
       "      <td>2</td>\n",
       "      <td>1602.0</td>\n",
       "      <td>1265.0</td>\n",
       "      <td>481.760005</td>\n",
       "      <td>811.0</td>\n",
       "    </tr>\n",
       "    <tr>\n",
       "      <th>2</th>\n",
       "      <td>1596.0</td>\n",
       "      <td>3</td>\n",
       "      <td>1599.0</td>\n",
       "      <td>1753.0</td>\n",
       "      <td>722.837668</td>\n",
       "      <td>655.0</td>\n",
       "    </tr>\n",
       "    <tr>\n",
       "      <th>3</th>\n",
       "      <td>1601.0</td>\n",
       "      <td>4</td>\n",
       "      <td>1625.0</td>\n",
       "      <td>1220.0</td>\n",
       "      <td>683.455597</td>\n",
       "      <td>741.0</td>\n",
       "    </tr>\n",
       "    <tr>\n",
       "      <th>4</th>\n",
       "      <td>1576.0</td>\n",
       "      <td>5</td>\n",
       "      <td>1602.0</td>\n",
       "      <td>1536.0</td>\n",
       "      <td>512.169934</td>\n",
       "      <td>869.0</td>\n",
       "    </tr>\n",
       "  </tbody>\n",
       "</table>\n",
       "</div>"
      ],
      "text/plain": [
       "   start_temp  key  fin_temp  total_time  total_energy  heating_time\n",
       "0      1571.0    1    1613.0      1714.0    770.282114        1098.0\n",
       "1      1581.0    2    1602.0      1265.0    481.760005         811.0\n",
       "2      1596.0    3    1599.0      1753.0    722.837668         655.0\n",
       "3      1601.0    4    1625.0      1220.0    683.455597         741.0\n",
       "4      1576.0    5    1602.0      1536.0    512.169934         869.0"
      ]
     },
     "execution_count": 27,
     "metadata": {},
     "output_type": "execute_result"
    }
   ],
   "source": [
    "#Сумарная энергий и время для каждой партии\n",
    "energy = df_arc[['key', 'Энергия нагрева', 'Время нагрева']].groupby('key').sum()\n",
    "# Присоединение к таблицу\n",
    "df = df.merge(energy, on='key')\n",
    "# Рейнейм колонок\n",
    "df = df.rename(columns = {'Энергия нагрева': 'total_energy',\n",
    "                          'Время нагрева': 'heating_time'\n",
    "                         })\n",
    "# Проверка\n",
    "df.head()"
   ]
  },
  {
   "cell_type": "markdown",
   "metadata": {},
   "source": [
    "**Вывод**\n",
    "\n",
    "Данные добалвлены"
   ]
  },
  {
   "cell_type": "markdown",
   "metadata": {},
   "source": [
    "**Данные о количестве добавленных материалах и газе**"
   ]
  },
  {
   "cell_type": "code",
   "execution_count": 28,
   "metadata": {
    "scrolled": true
   },
   "outputs": [
    {
     "data": {
      "text/html": [
       "<div>\n",
       "<style scoped>\n",
       "    .dataframe tbody tr th:only-of-type {\n",
       "        vertical-align: middle;\n",
       "    }\n",
       "\n",
       "    .dataframe tbody tr th {\n",
       "        vertical-align: top;\n",
       "    }\n",
       "\n",
       "    .dataframe thead th {\n",
       "        text-align: right;\n",
       "    }\n",
       "</style>\n",
       "<table border=\"1\" class=\"dataframe\">\n",
       "  <thead>\n",
       "    <tr style=\"text-align: right;\">\n",
       "      <th></th>\n",
       "      <th>start_temp</th>\n",
       "      <th>key</th>\n",
       "      <th>fin_temp</th>\n",
       "      <th>total_time</th>\n",
       "      <th>total_energy</th>\n",
       "      <th>heating_time</th>\n",
       "      <th>gas</th>\n",
       "    </tr>\n",
       "  </thead>\n",
       "  <tbody>\n",
       "    <tr>\n",
       "      <th>0</th>\n",
       "      <td>1571.0</td>\n",
       "      <td>1</td>\n",
       "      <td>1613.0</td>\n",
       "      <td>1714.0</td>\n",
       "      <td>770.282114</td>\n",
       "      <td>1098.0</td>\n",
       "      <td>29.749986</td>\n",
       "    </tr>\n",
       "    <tr>\n",
       "      <th>1</th>\n",
       "      <td>1581.0</td>\n",
       "      <td>2</td>\n",
       "      <td>1602.0</td>\n",
       "      <td>1265.0</td>\n",
       "      <td>481.760005</td>\n",
       "      <td>811.0</td>\n",
       "      <td>12.555561</td>\n",
       "    </tr>\n",
       "    <tr>\n",
       "      <th>2</th>\n",
       "      <td>1596.0</td>\n",
       "      <td>3</td>\n",
       "      <td>1599.0</td>\n",
       "      <td>1753.0</td>\n",
       "      <td>722.837668</td>\n",
       "      <td>655.0</td>\n",
       "      <td>28.554793</td>\n",
       "    </tr>\n",
       "    <tr>\n",
       "      <th>3</th>\n",
       "      <td>1601.0</td>\n",
       "      <td>4</td>\n",
       "      <td>1625.0</td>\n",
       "      <td>1220.0</td>\n",
       "      <td>683.455597</td>\n",
       "      <td>741.0</td>\n",
       "      <td>18.841219</td>\n",
       "    </tr>\n",
       "    <tr>\n",
       "      <th>4</th>\n",
       "      <td>1576.0</td>\n",
       "      <td>5</td>\n",
       "      <td>1602.0</td>\n",
       "      <td>1536.0</td>\n",
       "      <td>512.169934</td>\n",
       "      <td>869.0</td>\n",
       "      <td>5.413692</td>\n",
       "    </tr>\n",
       "  </tbody>\n",
       "</table>\n",
       "</div>"
      ],
      "text/plain": [
       "   start_temp  key  fin_temp  total_time  total_energy  heating_time  \\\n",
       "0      1571.0    1    1613.0      1714.0    770.282114        1098.0   \n",
       "1      1581.0    2    1602.0      1265.0    481.760005         811.0   \n",
       "2      1596.0    3    1599.0      1753.0    722.837668         655.0   \n",
       "3      1601.0    4    1625.0      1220.0    683.455597         741.0   \n",
       "4      1576.0    5    1602.0      1536.0    512.169934         869.0   \n",
       "\n",
       "         gas  \n",
       "0  29.749986  \n",
       "1  12.555561  \n",
       "2  28.554793  \n",
       "3  18.841219  \n",
       "4   5.413692  "
      ]
     },
     "execution_count": 28,
     "metadata": {},
     "output_type": "execute_result"
    }
   ],
   "source": [
    "# Добавляем данные о газе\n",
    "df = df.merge(df_gas, on='key')\n",
    "# Ренейм колонок\n",
    "df = df.rename(columns = {'Газ 1': 'gas'})\n",
    "# Проверка\n",
    "df.head()"
   ]
  },
  {
   "cell_type": "code",
   "execution_count": 29,
   "metadata": {},
   "outputs": [
    {
     "data": {
      "text/html": [
       "<div>\n",
       "<style scoped>\n",
       "    .dataframe tbody tr th:only-of-type {\n",
       "        vertical-align: middle;\n",
       "    }\n",
       "\n",
       "    .dataframe tbody tr th {\n",
       "        vertical-align: top;\n",
       "    }\n",
       "\n",
       "    .dataframe thead th {\n",
       "        text-align: right;\n",
       "    }\n",
       "</style>\n",
       "<table border=\"1\" class=\"dataframe\">\n",
       "  <thead>\n",
       "    <tr style=\"text-align: right;\">\n",
       "      <th></th>\n",
       "      <th>start_temp</th>\n",
       "      <th>key</th>\n",
       "      <th>fin_temp</th>\n",
       "      <th>total_time</th>\n",
       "      <th>total_energy</th>\n",
       "      <th>heating_time</th>\n",
       "      <th>gas</th>\n",
       "      <th>Bulk 1</th>\n",
       "      <th>Bulk 2</th>\n",
       "      <th>Bulk 3</th>\n",
       "      <th>...</th>\n",
       "      <th>Bulk 6</th>\n",
       "      <th>Bulk 7</th>\n",
       "      <th>Bulk 8</th>\n",
       "      <th>Bulk 9</th>\n",
       "      <th>Bulk 10</th>\n",
       "      <th>Bulk 11</th>\n",
       "      <th>Bulk 12</th>\n",
       "      <th>Bulk 13</th>\n",
       "      <th>Bulk 14</th>\n",
       "      <th>Bulk 15</th>\n",
       "    </tr>\n",
       "  </thead>\n",
       "  <tbody>\n",
       "    <tr>\n",
       "      <th>0</th>\n",
       "      <td>1571.0</td>\n",
       "      <td>1</td>\n",
       "      <td>1613.0</td>\n",
       "      <td>1714.0</td>\n",
       "      <td>770.282114</td>\n",
       "      <td>1098.0</td>\n",
       "      <td>29.749986</td>\n",
       "      <td>0.0</td>\n",
       "      <td>0.0</td>\n",
       "      <td>0.0</td>\n",
       "      <td>...</td>\n",
       "      <td>0.0</td>\n",
       "      <td>0.0</td>\n",
       "      <td>0.0</td>\n",
       "      <td>0.0</td>\n",
       "      <td>0.0</td>\n",
       "      <td>0.0</td>\n",
       "      <td>206.0</td>\n",
       "      <td>0.0</td>\n",
       "      <td>150.0</td>\n",
       "      <td>154.0</td>\n",
       "    </tr>\n",
       "    <tr>\n",
       "      <th>1</th>\n",
       "      <td>1581.0</td>\n",
       "      <td>2</td>\n",
       "      <td>1602.0</td>\n",
       "      <td>1265.0</td>\n",
       "      <td>481.760005</td>\n",
       "      <td>811.0</td>\n",
       "      <td>12.555561</td>\n",
       "      <td>0.0</td>\n",
       "      <td>0.0</td>\n",
       "      <td>0.0</td>\n",
       "      <td>...</td>\n",
       "      <td>0.0</td>\n",
       "      <td>0.0</td>\n",
       "      <td>0.0</td>\n",
       "      <td>0.0</td>\n",
       "      <td>0.0</td>\n",
       "      <td>0.0</td>\n",
       "      <td>206.0</td>\n",
       "      <td>0.0</td>\n",
       "      <td>149.0</td>\n",
       "      <td>154.0</td>\n",
       "    </tr>\n",
       "    <tr>\n",
       "      <th>2</th>\n",
       "      <td>1596.0</td>\n",
       "      <td>3</td>\n",
       "      <td>1599.0</td>\n",
       "      <td>1753.0</td>\n",
       "      <td>722.837668</td>\n",
       "      <td>655.0</td>\n",
       "      <td>28.554793</td>\n",
       "      <td>0.0</td>\n",
       "      <td>0.0</td>\n",
       "      <td>0.0</td>\n",
       "      <td>...</td>\n",
       "      <td>0.0</td>\n",
       "      <td>0.0</td>\n",
       "      <td>0.0</td>\n",
       "      <td>0.0</td>\n",
       "      <td>0.0</td>\n",
       "      <td>0.0</td>\n",
       "      <td>205.0</td>\n",
       "      <td>0.0</td>\n",
       "      <td>152.0</td>\n",
       "      <td>153.0</td>\n",
       "    </tr>\n",
       "    <tr>\n",
       "      <th>3</th>\n",
       "      <td>1601.0</td>\n",
       "      <td>4</td>\n",
       "      <td>1625.0</td>\n",
       "      <td>1220.0</td>\n",
       "      <td>683.455597</td>\n",
       "      <td>741.0</td>\n",
       "      <td>18.841219</td>\n",
       "      <td>0.0</td>\n",
       "      <td>0.0</td>\n",
       "      <td>0.0</td>\n",
       "      <td>...</td>\n",
       "      <td>0.0</td>\n",
       "      <td>0.0</td>\n",
       "      <td>0.0</td>\n",
       "      <td>0.0</td>\n",
       "      <td>0.0</td>\n",
       "      <td>0.0</td>\n",
       "      <td>207.0</td>\n",
       "      <td>0.0</td>\n",
       "      <td>153.0</td>\n",
       "      <td>154.0</td>\n",
       "    </tr>\n",
       "    <tr>\n",
       "      <th>4</th>\n",
       "      <td>1576.0</td>\n",
       "      <td>5</td>\n",
       "      <td>1602.0</td>\n",
       "      <td>1536.0</td>\n",
       "      <td>512.169934</td>\n",
       "      <td>869.0</td>\n",
       "      <td>5.413692</td>\n",
       "      <td>0.0</td>\n",
       "      <td>0.0</td>\n",
       "      <td>0.0</td>\n",
       "      <td>...</td>\n",
       "      <td>0.0</td>\n",
       "      <td>0.0</td>\n",
       "      <td>0.0</td>\n",
       "      <td>0.0</td>\n",
       "      <td>0.0</td>\n",
       "      <td>0.0</td>\n",
       "      <td>203.0</td>\n",
       "      <td>0.0</td>\n",
       "      <td>151.0</td>\n",
       "      <td>152.0</td>\n",
       "    </tr>\n",
       "  </tbody>\n",
       "</table>\n",
       "<p>5 rows × 22 columns</p>\n",
       "</div>"
      ],
      "text/plain": [
       "   start_temp  key  fin_temp  total_time  total_energy  heating_time  \\\n",
       "0      1571.0    1    1613.0      1714.0    770.282114        1098.0   \n",
       "1      1581.0    2    1602.0      1265.0    481.760005         811.0   \n",
       "2      1596.0    3    1599.0      1753.0    722.837668         655.0   \n",
       "3      1601.0    4    1625.0      1220.0    683.455597         741.0   \n",
       "4      1576.0    5    1602.0      1536.0    512.169934         869.0   \n",
       "\n",
       "         gas  Bulk 1  Bulk 2  Bulk 3  ...  Bulk 6  Bulk 7  Bulk 8  Bulk 9  \\\n",
       "0  29.749986     0.0     0.0     0.0  ...     0.0     0.0     0.0     0.0   \n",
       "1  12.555561     0.0     0.0     0.0  ...     0.0     0.0     0.0     0.0   \n",
       "2  28.554793     0.0     0.0     0.0  ...     0.0     0.0     0.0     0.0   \n",
       "3  18.841219     0.0     0.0     0.0  ...     0.0     0.0     0.0     0.0   \n",
       "4   5.413692     0.0     0.0     0.0  ...     0.0     0.0     0.0     0.0   \n",
       "\n",
       "   Bulk 10  Bulk 11  Bulk 12  Bulk 13  Bulk 14  Bulk 15  \n",
       "0      0.0      0.0    206.0      0.0    150.0    154.0  \n",
       "1      0.0      0.0    206.0      0.0    149.0    154.0  \n",
       "2      0.0      0.0    205.0      0.0    152.0    153.0  \n",
       "3      0.0      0.0    207.0      0.0    153.0    154.0  \n",
       "4      0.0      0.0    203.0      0.0    151.0    152.0  \n",
       "\n",
       "[5 rows x 22 columns]"
      ]
     },
     "execution_count": 29,
     "metadata": {},
     "output_type": "execute_result"
    }
   ],
   "source": [
    "# Добавляем данные о сыпучих материалах\n",
    "df = df.merge(df_bulk, on='key',how='inner')\n",
    "# Проверка\n",
    "df.head()"
   ]
  },
  {
   "cell_type": "code",
   "execution_count": 30,
   "metadata": {},
   "outputs": [
    {
     "data": {
      "text/html": [
       "<div>\n",
       "<style scoped>\n",
       "    .dataframe tbody tr th:only-of-type {\n",
       "        vertical-align: middle;\n",
       "    }\n",
       "\n",
       "    .dataframe tbody tr th {\n",
       "        vertical-align: top;\n",
       "    }\n",
       "\n",
       "    .dataframe thead th {\n",
       "        text-align: right;\n",
       "    }\n",
       "</style>\n",
       "<table border=\"1\" class=\"dataframe\">\n",
       "  <thead>\n",
       "    <tr style=\"text-align: right;\">\n",
       "      <th></th>\n",
       "      <th>start_temp</th>\n",
       "      <th>key</th>\n",
       "      <th>fin_temp</th>\n",
       "      <th>total_time</th>\n",
       "      <th>total_energy</th>\n",
       "      <th>heating_time</th>\n",
       "      <th>gas</th>\n",
       "      <th>Bulk 1</th>\n",
       "      <th>Bulk 2</th>\n",
       "      <th>Bulk 3</th>\n",
       "      <th>...</th>\n",
       "      <th>Bulk 15</th>\n",
       "      <th>Wire 1</th>\n",
       "      <th>Wire 2</th>\n",
       "      <th>Wire 3</th>\n",
       "      <th>Wire 4</th>\n",
       "      <th>Wire 5</th>\n",
       "      <th>Wire 6</th>\n",
       "      <th>Wire 7</th>\n",
       "      <th>Wire 8</th>\n",
       "      <th>Wire 9</th>\n",
       "    </tr>\n",
       "  </thead>\n",
       "  <tbody>\n",
       "    <tr>\n",
       "      <th>0</th>\n",
       "      <td>1571.0</td>\n",
       "      <td>1</td>\n",
       "      <td>1613.0</td>\n",
       "      <td>1714.0</td>\n",
       "      <td>770.282114</td>\n",
       "      <td>1098.0</td>\n",
       "      <td>29.749986</td>\n",
       "      <td>0.0</td>\n",
       "      <td>0.0</td>\n",
       "      <td>0.0</td>\n",
       "      <td>...</td>\n",
       "      <td>154.0</td>\n",
       "      <td>60.059998</td>\n",
       "      <td>0.00000</td>\n",
       "      <td>0.0</td>\n",
       "      <td>0.0</td>\n",
       "      <td>0.0</td>\n",
       "      <td>0.0</td>\n",
       "      <td>0.0</td>\n",
       "      <td>0.0</td>\n",
       "      <td>0.0</td>\n",
       "    </tr>\n",
       "    <tr>\n",
       "      <th>1</th>\n",
       "      <td>1581.0</td>\n",
       "      <td>2</td>\n",
       "      <td>1602.0</td>\n",
       "      <td>1265.0</td>\n",
       "      <td>481.760005</td>\n",
       "      <td>811.0</td>\n",
       "      <td>12.555561</td>\n",
       "      <td>0.0</td>\n",
       "      <td>0.0</td>\n",
       "      <td>0.0</td>\n",
       "      <td>...</td>\n",
       "      <td>154.0</td>\n",
       "      <td>96.052315</td>\n",
       "      <td>0.00000</td>\n",
       "      <td>0.0</td>\n",
       "      <td>0.0</td>\n",
       "      <td>0.0</td>\n",
       "      <td>0.0</td>\n",
       "      <td>0.0</td>\n",
       "      <td>0.0</td>\n",
       "      <td>0.0</td>\n",
       "    </tr>\n",
       "    <tr>\n",
       "      <th>2</th>\n",
       "      <td>1596.0</td>\n",
       "      <td>3</td>\n",
       "      <td>1599.0</td>\n",
       "      <td>1753.0</td>\n",
       "      <td>722.837668</td>\n",
       "      <td>655.0</td>\n",
       "      <td>28.554793</td>\n",
       "      <td>0.0</td>\n",
       "      <td>0.0</td>\n",
       "      <td>0.0</td>\n",
       "      <td>...</td>\n",
       "      <td>153.0</td>\n",
       "      <td>91.160157</td>\n",
       "      <td>0.00000</td>\n",
       "      <td>0.0</td>\n",
       "      <td>0.0</td>\n",
       "      <td>0.0</td>\n",
       "      <td>0.0</td>\n",
       "      <td>0.0</td>\n",
       "      <td>0.0</td>\n",
       "      <td>0.0</td>\n",
       "    </tr>\n",
       "    <tr>\n",
       "      <th>3</th>\n",
       "      <td>1601.0</td>\n",
       "      <td>4</td>\n",
       "      <td>1625.0</td>\n",
       "      <td>1220.0</td>\n",
       "      <td>683.455597</td>\n",
       "      <td>741.0</td>\n",
       "      <td>18.841219</td>\n",
       "      <td>0.0</td>\n",
       "      <td>0.0</td>\n",
       "      <td>0.0</td>\n",
       "      <td>...</td>\n",
       "      <td>154.0</td>\n",
       "      <td>89.063515</td>\n",
       "      <td>0.00000</td>\n",
       "      <td>0.0</td>\n",
       "      <td>0.0</td>\n",
       "      <td>0.0</td>\n",
       "      <td>0.0</td>\n",
       "      <td>0.0</td>\n",
       "      <td>0.0</td>\n",
       "      <td>0.0</td>\n",
       "    </tr>\n",
       "    <tr>\n",
       "      <th>4</th>\n",
       "      <td>1576.0</td>\n",
       "      <td>5</td>\n",
       "      <td>1602.0</td>\n",
       "      <td>1536.0</td>\n",
       "      <td>512.169934</td>\n",
       "      <td>869.0</td>\n",
       "      <td>5.413692</td>\n",
       "      <td>0.0</td>\n",
       "      <td>0.0</td>\n",
       "      <td>0.0</td>\n",
       "      <td>...</td>\n",
       "      <td>152.0</td>\n",
       "      <td>89.238236</td>\n",
       "      <td>9.11456</td>\n",
       "      <td>0.0</td>\n",
       "      <td>0.0</td>\n",
       "      <td>0.0</td>\n",
       "      <td>0.0</td>\n",
       "      <td>0.0</td>\n",
       "      <td>0.0</td>\n",
       "      <td>0.0</td>\n",
       "    </tr>\n",
       "  </tbody>\n",
       "</table>\n",
       "<p>5 rows × 31 columns</p>\n",
       "</div>"
      ],
      "text/plain": [
       "   start_temp  key  fin_temp  total_time  total_energy  heating_time  \\\n",
       "0      1571.0    1    1613.0      1714.0    770.282114        1098.0   \n",
       "1      1581.0    2    1602.0      1265.0    481.760005         811.0   \n",
       "2      1596.0    3    1599.0      1753.0    722.837668         655.0   \n",
       "3      1601.0    4    1625.0      1220.0    683.455597         741.0   \n",
       "4      1576.0    5    1602.0      1536.0    512.169934         869.0   \n",
       "\n",
       "         gas  Bulk 1  Bulk 2  Bulk 3  ...  Bulk 15     Wire 1   Wire 2  \\\n",
       "0  29.749986     0.0     0.0     0.0  ...    154.0  60.059998  0.00000   \n",
       "1  12.555561     0.0     0.0     0.0  ...    154.0  96.052315  0.00000   \n",
       "2  28.554793     0.0     0.0     0.0  ...    153.0  91.160157  0.00000   \n",
       "3  18.841219     0.0     0.0     0.0  ...    154.0  89.063515  0.00000   \n",
       "4   5.413692     0.0     0.0     0.0  ...    152.0  89.238236  9.11456   \n",
       "\n",
       "   Wire 3  Wire 4  Wire 5  Wire 6  Wire 7  Wire 8  Wire 9  \n",
       "0     0.0     0.0     0.0     0.0     0.0     0.0     0.0  \n",
       "1     0.0     0.0     0.0     0.0     0.0     0.0     0.0  \n",
       "2     0.0     0.0     0.0     0.0     0.0     0.0     0.0  \n",
       "3     0.0     0.0     0.0     0.0     0.0     0.0     0.0  \n",
       "4     0.0     0.0     0.0     0.0     0.0     0.0     0.0  \n",
       "\n",
       "[5 rows x 31 columns]"
      ]
     },
     "metadata": {},
     "output_type": "display_data"
    },
    {
     "name": "stdout",
     "output_type": "stream",
     "text": [
      "Итоговое количество пропусков:  0\n"
     ]
    }
   ],
   "source": [
    "# Добавлям данные о првоолочных материалах\n",
    "df = df.merge(df_wire, on='key')\n",
    "# Проверка\n",
    "display(df.head())\n",
    "print('Итоговое количество пропусков: ',df.isna().sum().sum())"
   ]
  },
  {
   "cell_type": "markdown",
   "metadata": {},
   "source": [
    "**Вывод**\n",
    "\n",
    "Данные добавлены"
   ]
  },
  {
   "cell_type": "markdown",
   "metadata": {},
   "source": [
    "### Добавление сгненерированных признаков и их анализ"
   ]
  },
  {
   "cell_type": "code",
   "execution_count": 31,
   "metadata": {},
   "outputs": [],
   "source": [
    "# Признак сколько энергии потратили за 1 секунду\n",
    "df['energy_per_second'] = df['total_energy'] / df['total_time']\n",
    "# Признак времени охлаждения\n",
    "df['cool_time'] = df['total_time'] - df['heating_time']\n",
    "# Признак отношение времени нагрева к общему времени\n",
    "df['scaller_time'] = df['heating_time'] / df['total_time']"
   ]
  },
  {
   "cell_type": "markdown",
   "metadata": {},
   "source": [
    "**Вывод**\n",
    "\n",
    "Признаки сформированы и добалены"
   ]
  },
  {
   "cell_type": "markdown",
   "metadata": {},
   "source": [
    "**Анализ признаков**"
   ]
  },
  {
   "cell_type": "code",
   "execution_count": 32,
   "metadata": {},
   "outputs": [
    {
     "data": {
      "image/png": "[encoded data removed]",
      "text/plain": [
       "<Figure size 1440x1296 with 1 Axes>"
      ]
     },
     "metadata": {
      "needs_background": "light"
     },
     "output_type": "display_data"
    }
   ],
   "source": [
    "fig = plt.figure(figsize=(20, 18))\n",
    "\n",
    "sns.heatmap( df.corr().abs(), \n",
    "             cmap=\"YlGnBu\", fmt='.1g', \n",
    "             cbar=False,\n",
    "             center=0.4,\n",
    "             annot=True, \n",
    "             annot_kws={'fontsize': 8},             \n",
    "             mask=np.triu(df.corr()) )\n",
    "\n",
    "plt.title('Карта корреляций признаков'+ '\\n', fontsize=18)\n",
    "plt.xticks(fontsize=10, rotation=90)\n",
    "plt.yticks(fontsize=10)\n",
    "\n",
    "plt.show()"
   ]
  },
  {
   "cell_type": "code",
   "execution_count": 33,
   "metadata": {},
   "outputs": [
    {
     "data": {
      "image/png": "[encoded data removed]",
      "text/plain": [
       "<Figure size 1440x1080 with 36 Axes>"
      ]
     },
     "metadata": {
      "needs_background": "light"
     },
     "output_type": "display_data"
    }
   ],
   "source": [
    "df.hist(figsize=(20,15));"
   ]
  },
  {
   "cell_type": "code",
   "execution_count": 34,
   "metadata": {},
   "outputs": [
    {
     "name": "stdout",
     "output_type": "stream",
     "text": [
      "<class 'pandas.core.frame.DataFrame'>\n",
      "Int64Index: 2324 entries, 0 to 2323\n",
      "Data columns (total 34 columns):\n",
      " #   Column             Non-Null Count  Dtype  \n",
      "---  ------             --------------  -----  \n",
      " 0   start_temp         2324 non-null   float64\n",
      " 1   key                2324 non-null   int64  \n",
      " 2   fin_temp           2324 non-null   float64\n",
      " 3   total_time         2324 non-null   float64\n",
      " 4   total_energy       2324 non-null   float64\n",
      " 5   heating_time       2324 non-null   float64\n",
      " 6   gas                2324 non-null   float64\n",
      " 7   Bulk 1             2324 non-null   float64\n",
      " 8   Bulk 2             2324 non-null   float64\n",
      " 9   Bulk 3             2324 non-null   float64\n",
      " 10  Bulk 4             2324 non-null   float64\n",
      " 11  Bulk 5             2324 non-null   float64\n",
      " 12  Bulk 6             2324 non-null   float64\n",
      " 13  Bulk 7             2324 non-null   float64\n",
      " 14  Bulk 8             2324 non-null   float64\n",
      " 15  Bulk 9             2324 non-null   float64\n",
      " 16  Bulk 10            2324 non-null   float64\n",
      " 17  Bulk 11            2324 non-null   float64\n",
      " 18  Bulk 12            2324 non-null   float64\n",
      " 19  Bulk 13            2324 non-null   float64\n",
      " 20  Bulk 14            2324 non-null   float64\n",
      " 21  Bulk 15            2324 non-null   float64\n",
      " 22  Wire 1             2324 non-null   float64\n",
      " 23  Wire 2             2324 non-null   float64\n",
      " 24  Wire 3             2324 non-null   float64\n",
      " 25  Wire 4             2324 non-null   float64\n",
      " 26  Wire 5             2324 non-null   float64\n",
      " 27  Wire 6             2324 non-null   float64\n",
      " 28  Wire 7             2324 non-null   float64\n",
      " 29  Wire 8             2324 non-null   float64\n",
      " 30  Wire 9             2324 non-null   float64\n",
      " 31  energy_per_second  2324 non-null   float64\n",
      " 32  cool_time          2324 non-null   float64\n",
      " 33  scaller_time       2324 non-null   float64\n",
      "dtypes: float64(33), int64(1)\n",
      "memory usage: 635.5 KB\n"
     ]
    }
   ],
   "source": [
    "df.info()"
   ]
  },
  {
   "cell_type": "markdown",
   "metadata": {},
   "source": [
    "**Вывод**\n",
    "\n",
    "Из анализа признаков можно сделать следующие выводы\n",
    "\n",
    "- Между признаками **total_time** и **cool_time** Имеется сильная корреляци,для модели будем использовать тольок один из этих признаков\n",
    "\n",
    "- Время нагрева входит в формулу расчёта энергии,по этому его использование в модели не входило в планы\n",
    "\n",
    "-  Между признаками **energy_per_second** и **scaller_time** меется сильная корреляци,для модели будем использовать тольок один из этих признаков **scaller_time**\n",
    "\n",
    "- Так же можно отметить что **bulk_9** коррелирует с **wire_8**\n",
    "\n",
    "- Матрица корелляции показывает,что **wire_5** не имеет прямой линейной взаимосвязи с другими признаками"
   ]
  },
  {
   "cell_type": "markdown",
   "metadata": {},
   "source": [
    "### Формирование выборок"
   ]
  },
  {
   "cell_type": "code",
   "execution_count": 35,
   "metadata": {},
   "outputs": [
    {
     "data": {
      "text/html": [
       "<div>\n",
       "<style scoped>\n",
       "    .dataframe tbody tr th:only-of-type {\n",
       "        vertical-align: middle;\n",
       "    }\n",
       "\n",
       "    .dataframe tbody tr th {\n",
       "        vertical-align: top;\n",
       "    }\n",
       "\n",
       "    .dataframe thead th {\n",
       "        text-align: right;\n",
       "    }\n",
       "</style>\n",
       "<table border=\"1\" class=\"dataframe\">\n",
       "  <thead>\n",
       "    <tr style=\"text-align: right;\">\n",
       "      <th></th>\n",
       "      <th>Размер выборки</th>\n",
       "    </tr>\n",
       "  </thead>\n",
       "  <tbody>\n",
       "    <tr>\n",
       "      <th>features_train</th>\n",
       "      <td>1743</td>\n",
       "    </tr>\n",
       "    <tr>\n",
       "      <th>target_train</th>\n",
       "      <td>1743</td>\n",
       "    </tr>\n",
       "    <tr>\n",
       "      <th>features_test</th>\n",
       "      <td>581</td>\n",
       "    </tr>\n",
       "    <tr>\n",
       "      <th>target_test</th>\n",
       "      <td>581</td>\n",
       "    </tr>\n",
       "  </tbody>\n",
       "</table>\n",
       "</div>"
      ],
      "text/plain": [
       "                Размер выборки\n",
       "features_train            1743\n",
       "target_train              1743\n",
       "features_test              581\n",
       "target_test                581"
      ]
     },
     "execution_count": 35,
     "metadata": {},
     "output_type": "execute_result"
    }
   ],
   "source": [
    "# Признаки\n",
    "features = df.drop(['key', 'fin_temp', 'heating_time', 'total_time', 'energy_per_second'], axis=1)\n",
    "# Целевой признак\n",
    "target  = df['fin_temp']\n",
    "# Разделение на выборки\n",
    "features_train, features_test, target_train, target_test = train_test_split(features, \n",
    "                                                                            target, \n",
    "                                                                            test_size=0.25, \n",
    "                                                                            random_state=40823)\n",
    "\n",
    "# Проверка\n",
    "pd.DataFrame(data=[features_train.shape[0], target_train.shape[0],\n",
    "                   features_test.shape[0],  target_test.shape[0]],\n",
    "             index=['features_train', 'target_train', \n",
    "                    'features_test',  'target_test'],\n",
    "             columns=['Размер выборки']\n",
    "            )"
   ]
  },
  {
   "cell_type": "markdown",
   "metadata": {},
   "source": [
    "### Общий вывод по разделу  Подготовка данных\n",
    "\n",
    "В данном разделе успешно произвели\n",
    "\n",
    "- Очистку данных и обработку пропусков\n",
    "\n",
    "- Успешно сформировали итоговую таблицу\n",
    "\n",
    "- Успешно сформировали выборки\n",
    "\n"
   ]
  },
  {
   "cell_type": "markdown",
   "metadata": {},
   "source": [
    "## Обучение ML  модели"
   ]
  },
  {
   "cell_type": "markdown",
   "metadata": {},
   "source": [
    "Рассмотрим 3 классических варианта ML\n",
    "\n",
    "- Линейная регрессия\n",
    "\n",
    "- Дерево решений\n",
    "\n",
    "- Случайны лес\n",
    "\n",
    "Так как в других проектах CatBoost зарекомендовал себя хорошо,рассмотрим его тоже\n",
    "\n",
    "- CatBoost"
   ]
  },
  {
   "cell_type": "markdown",
   "metadata": {},
   "source": [
    "### Линейная регрессия"
   ]
  },
  {
   "cell_type": "markdown",
   "metadata": {},
   "source": [
    "Применим масштабирование,так как данные модель чувствительная к масштабу признаков"
   ]
  },
  {
   "cell_type": "code",
   "execution_count": 36,
   "metadata": {},
   "outputs": [],
   "source": [
    "sc = StandardScaler()\n",
    "features_train_sc = sc.fit_transform(features_train)"
   ]
  },
  {
   "cell_type": "code",
   "execution_count": 37,
   "metadata": {},
   "outputs": [
    {
     "data": {
      "text/plain": [
       "-6.365230626354955"
      ]
     },
     "execution_count": 37,
     "metadata": {},
     "output_type": "execute_result"
    }
   ],
   "source": [
    "lr_model = LinearRegression()\n",
    "cross_val_score(lr_model, features_train_sc, target_train, n_jobs=-1, scoring='neg_mean_absolute_error').mean()"
   ]
  },
  {
   "cell_type": "markdown",
   "metadata": {},
   "source": [
    "**Вывод**\n",
    "\n",
    "Линейная модель,покащывает неплохую метрику"
   ]
  },
  {
   "cell_type": "markdown",
   "metadata": {},
   "source": [
    "### Дерево решений"
   ]
  },
  {
   "cell_type": "markdown",
   "metadata": {},
   "source": [
    "- С гипперпараметрами по умолчанию\n",
    "\n",
    "- С автоподбором"
   ]
  },
  {
   "cell_type": "markdown",
   "metadata": {},
   "source": [
    "**По умолчанию**\n"
   ]
  },
  {
   "cell_type": "code",
   "execution_count": 38,
   "metadata": {},
   "outputs": [
    {
     "data": {
      "text/plain": [
       "-8.619755952969074"
      ]
     },
     "execution_count": 38,
     "metadata": {},
     "output_type": "execute_result"
    }
   ],
   "source": [
    "tree_model = DecisionTreeRegressor(random_state=40823)\n",
    "cross_val_score(tree_model, features_train, target_train, n_jobs=-1,scoring='neg_mean_absolute_error').mean()"
   ]
  },
  {
   "cell_type": "markdown",
   "metadata": {},
   "source": [
    "**С автоподбором**"
   ]
  },
  {
   "cell_type": "code",
   "execution_count": 39,
   "metadata": {},
   "outputs": [
    {
     "name": "stdout",
     "output_type": "stream",
     "text": [
      "Параметры модели: {'max_depth': 7}\n",
      "Лучший MAE модели: -7.306223496496767\n",
      "CPU times: user 3.92 s, sys: 12.9 ms, total: 3.93 s\n",
      "Wall time: 3.93 s\n"
     ]
    }
   ],
   "source": [
    "%%time\n",
    "parametrs = { 'max_depth':range(3,50)}\n",
    "\n",
    "treeCV = GridSearchCV(tree_model, parametrs, scoring='neg_mean_absolute_error', cv=5, )\n",
    "treeCV.fit(features_train, target_train)\n",
    "print('Параметры модели:', treeCV.best_params_)\n",
    "print('Лучший MAE модели:', treeCV.best_score_)"
   ]
  },
  {
   "cell_type": "markdown",
   "metadata": {},
   "source": [
    "**Вывод**\n",
    "\n",
    "Дерево решений дает резудьтат хуже чем линейная регрессия"
   ]
  },
  {
   "cell_type": "markdown",
   "metadata": {},
   "source": [
    "### Случайный лес"
   ]
  },
  {
   "cell_type": "markdown",
   "metadata": {},
   "source": [
    "- С гипперпараметрами по умолчанию\n",
    "\n",
    "- С автоподбором"
   ]
  },
  {
   "cell_type": "markdown",
   "metadata": {},
   "source": [
    "**По умолчанию**"
   ]
  },
  {
   "cell_type": "code",
   "execution_count": 40,
   "metadata": {},
   "outputs": [
    {
     "data": {
      "text/plain": [
       "-6.164566198992197"
      ]
     },
     "execution_count": 40,
     "metadata": {},
     "output_type": "execute_result"
    }
   ],
   "source": [
    "rf_model = RandomForestRegressor(random_state=40823)\n",
    "cross_val_score(rf_model, features_train, target_train, n_jobs=-1,scoring='neg_mean_absolute_error').mean()"
   ]
  },
  {
   "cell_type": "markdown",
   "metadata": {},
   "source": [
    "**С автоподбором**"
   ]
  },
  {
   "cell_type": "code",
   "execution_count": 41,
   "metadata": {},
   "outputs": [
    {
     "name": "stdout",
     "output_type": "stream",
     "text": [
      "Параметры модели: {'max_depth': 16, 'n_estimators': 140}\n",
      "Лучший MAE модели: -6.15137644136707\n",
      "CPU times: user 7min 45s, sys: 1.25 s, total: 7min 46s\n",
      "Wall time: 7min 50s\n"
     ]
    }
   ],
   "source": [
    "%%time\n",
    "parametrs = { 'n_estimators': range (120, 201, 10),\n",
    "              'max_depth': range (12, 25, 2)}\n",
    "\n",
    "rfCV = GridSearchCV(rf_model, parametrs, scoring='neg_mean_absolute_error', cv=5)\n",
    "rfCV.fit(features_train, target_train)\n",
    "print('Параметры модели:', rfCV.best_params_)\n",
    "print('Лучший MAE модели:', rfCV.best_score_)"
   ]
  },
  {
   "cell_type": "markdown",
   "metadata": {},
   "source": [
    "**Вывод**\n",
    "\n",
    "Модель случайного леса показывает лучший результат по метрике MAE ,но занимает много времени\n"
   ]
  },
  {
   "cell_type": "markdown",
   "metadata": {},
   "source": [
    "### CatBoost"
   ]
  },
  {
   "cell_type": "markdown",
   "metadata": {},
   "source": [
    "**По умолчанию**"
   ]
  },
  {
   "cell_type": "code",
   "execution_count": 42,
   "metadata": {},
   "outputs": [
    {
     "data": {
      "text/plain": [
       "-5.82949540171571"
      ]
     },
     "execution_count": 42,
     "metadata": {},
     "output_type": "execute_result"
    }
   ],
   "source": [
    "cat_model = CatBoostRegressor(silent=True, random_state=40823)\n",
    "\n",
    "cross_val_score(cat_model, features_train, target_train, n_jobs=-1, scoring='neg_mean_absolute_error').mean()"
   ]
  },
  {
   "cell_type": "markdown",
   "metadata": {},
   "source": [
    "**Вывод**\n",
    "\n",
    "CatBoost показывает лучший результат,выберем ее как основную модель"
   ]
  },
  {
   "cell_type": "markdown",
   "metadata": {},
   "source": [
    "### Общий вывод по разделу  Обучение ML модели\n",
    "\n",
    "В разделе были расммотрены  несколько вариантов моделей машинного обучения с такими  показателями\n",
    "\n",
    "- Линейная регрессия 6.3\n",
    "\n",
    "- Дерево решений(автоподбор) 7.3\n",
    "\n",
    "- Случайный лес 6.1\n",
    "\n",
    "- CatBoost 5.8\n",
    "\n",
    "Так как  **Catboost** показал лучшую метрику,в дальнейшем будем использовать его"
   ]
  },
  {
   "cell_type": "markdown",
   "metadata": {},
   "source": [
    "## Тестирование модели и проверка на адекватность\n",
    "\n",
    "- Тестированная модели на тестовом наборе данных\n",
    "\n",
    "- Сравнение полученной модели с константной\n",
    "\n",
    "- Оценка важности признаков"
   ]
  },
  {
   "cell_type": "markdown",
   "metadata": {},
   "source": [
    "### Тестирование модели "
   ]
  },
  {
   "cell_type": "code",
   "execution_count": 43,
   "metadata": {},
   "outputs": [
    {
     "data": {
      "text/plain": [
       "6.1100760139805725"
      ]
     },
     "execution_count": 43,
     "metadata": {},
     "output_type": "execute_result"
    }
   ],
   "source": [
    "best_model = CatBoostRegressor(silent=True, random_state=40823)\n",
    "best_model.fit(features_train, target_train)\n",
    "prdictions = best_model.predict(features_test)\n",
    "mean_absolute_error(target_test, prdictions)"
   ]
  },
  {
   "cell_type": "markdown",
   "metadata": {},
   "source": [
    "На тестовом наборе данных результат оказался несколько хуже,и это нормально."
   ]
  },
  {
   "cell_type": "markdown",
   "metadata": {},
   "source": [
    "### Проверка модели на адекватность"
   ]
  },
  {
   "cell_type": "code",
   "execution_count": 44,
   "metadata": {},
   "outputs": [
    {
     "data": {
      "text/plain": [
       "8.408635278759489"
      ]
     },
     "execution_count": 44,
     "metadata": {},
     "output_type": "execute_result"
    }
   ],
   "source": [
    "dr = DummyRegressor()\n",
    "dr.fit(features_train, target_train)\n",
    "prdictions = dr.predict(features_test)\n",
    "mean_absolute_error(target_test, prdictions)"
   ]
  },
  {
   "cell_type": "markdown",
   "metadata": {},
   "source": [
    "**Вывод**\n",
    "\n",
    "- CatBoost 6.1\n",
    "\n",
    "- Константная модель 8.4\n",
    "\n",
    "Наша модель показывает результат гораздо лучше чем констатная"
   ]
  },
  {
   "cell_type": "markdown",
   "metadata": {},
   "source": [
    "### Важность признаков"
   ]
  },
  {
   "cell_type": "code",
   "execution_count": 45,
   "metadata": {},
   "outputs": [
    {
     "data": {
      "image/png": "[encoded data removed]",
      "text/plain": [
       "<Figure size 1080x864 with 1 Axes>"
      ]
     },
     "metadata": {
      "needs_background": "light"
     },
     "output_type": "display_data"
    }
   ],
   "source": [
    "# Выделение признаков\n",
    "efectiv_score = pd.DataFrame(data={'score': best_model.feature_importances_}, \n",
    "                            index=features_train.columns).sort_values(by='score')\n",
    "# Демонстрация\n",
    "ax = efectiv_score.plot(kind='barh', grid=True, figsize=(15,12),legend=False);\n",
    "ax.set_title('Важность признаков', fontsize=16)\n",
    "ax.set_ylabel('признаки')\n",
    "ax.set_xlabel('score')\n",
    "plt.show;"
   ]
  },
  {
   "cell_type": "markdown",
   "metadata": {},
   "source": [
    "### Общий вывод по разделу Тестирование модели\n",
    "\n",
    "- Лучшая модель была проверена на тестовом наборе данных где показала метрику 6.1\n",
    "\n",
    "- Так же наша модель прошла проверку на адекватность в сравнее с констаной,которая показывала 8.4 - наша оказаль лучшей\n",
    "\n",
    "- Так же проведена оценка важности признаков где\n",
    "    \n",
    "    Самым важным оказался признак начальной температуры\n",
    "    \n",
    "    Вторым признак отнощения времение к общему нагреву\n",
    "    \n",
    "    Сумарная энергия нагрева заняла третье место\n",
    "    \n",
    "    Проволочные и сыпучие добавки оказались не атк важны"
   ]
  },
  {
   "cell_type": "markdown",
   "metadata": {},
   "source": [
    "## Общий вывод о проделанной работе"
   ]
  },
  {
   "cell_type": "markdown",
   "metadata": {},
   "source": [
    "Задача по оптимизации производственных рассходов на металлургическом заводе была успешно выполнена,путем построения модели машинного обучения\n",
    "\n",
    "На этапе анализа данны были выполненые следущие действия\n",
    "\n",
    "- Загрузка данных\n",
    "\n",
    "- Изучение данных\n",
    "\n",
    "- Построение графиков\n",
    "\n",
    "- Определение вбросов,дубликатов\n",
    "\n",
    "После выполнения шага 1,был исполнен шаг 2, а именно\n",
    "\n",
    "- Очистка данных\n",
    "\n",
    "- Формирование итоговой таблицы\n",
    "\n",
    "- Формирование выборок для обучения модели(тренировачную и тестовую)\n",
    "\n",
    "В шаге номер 3 мы рассмотрели несколько вариантов машинного обучения\n",
    "\n",
    "- Линейная регрессия 6.3\n",
    "\n",
    "- Дерево решений(автоподбор) 7.3\n",
    "\n",
    "- Случайный лес 6.1\n",
    "\n",
    "- CatBoost 5.8\n",
    "\n",
    "Шаг номер 4\n",
    "\n",
    "Так как **СatBoost** оказался моделью с лучшей метрикой с ним были выполнены следующие действия\n",
    "\n",
    "- Тестирование модели на тестовом наборе где он показал MAE 6.1\n",
    "\n",
    "- Сравнение с констаной моделью у которой метрика 8.4(что гораздо хуже нашей)\n",
    "\n",
    "- А так же определена важность признаков,которые повлияли на обучение модели"
   ]
  },
  {
   "cell_type": "markdown",
   "metadata": {},
   "source": [
    "## Отчёт по решению"
   ]
  },
  {
   "cell_type": "markdown",
   "metadata": {},
   "source": [
    "### Cравнение решения и плана, если есть отклонение - объясняем почему"
   ]
  },
  {
   "cell_type": "markdown",
   "metadata": {},
   "source": [
    "Все пункты а именно\n",
    "\n",
    "- Первичный анализ данных(Выполнено 6/6)\n",
    "\n",
    "- Подготовка данных (Выполнено 5/5)\n",
    "\n",
    "- Обучение модели (Выполнено 5/5)\n",
    "\n",
    "- Тестирование модели (Выполнено 4/4)\n",
    "\n",
    "- Общий вывод (Выполнено)\n",
    "\n",
    "Выполнены успешно,отклонений не выявлено"
   ]
  },
  {
   "cell_type": "markdown",
   "metadata": {},
   "source": [
    "### Описание трудностей проекта (и как они были решены)"
   ]
  },
  {
   "cell_type": "markdown",
   "metadata": {},
   "source": [
    "**Проблема 1**\n",
    "\n",
    "На этапе номер 2 **Подготовка данных** в задании 1,возникла проблема в очистке данных о температуре,никак не мог понять правильный алгоритм действий для выполнения данного задания корректно.Первый вариант получился так скажем \"через костыли\",что могло в дальнейшем повлиять на решение подобных задач мной крайне негативно.\n",
    "\n",
    "**Решение**\n",
    "\n",
    "Помогли ревью моего тим-лида Дмитрия,а так же консультации с сокурсниками,за что благодарен им!\n",
    "\n",
    "**Проблема 2**\n",
    "\n",
    "На этапе номер 2 **Подготовка данных** в задании 4.Возникла незначительная проблема в отображении матрицы корреляции признаков.\n",
    "Данные отображались не читаемо\n",
    "\n",
    "**Решение**\n",
    "\n",
    "Помогло ревью моего тим-лида Дмитрия.Для исправления неточностей воспользовался документацией к библиотеке seaborn,что заняло не более 5 минут моего времени!"
   ]
  },
  {
   "cell_type": "markdown",
   "metadata": {},
   "source": [
    "### Описание ключевых шагов решения"
   ]
  },
  {
   "cell_type": "markdown",
   "metadata": {},
   "source": [
    "**Шаг 1** Первичный анализ данных\n",
    "\n",
    "- Импорт библиотек,чтение файлов\n",
    "\n",
    "- Написание функции(анализа датафреймов) для избежания дублирования кода\n",
    "\n",
    "- Примение данной функции к данным\n",
    "\n",
    "- Анализ данных\n",
    "\n",
    "    О нагреве сплава эктродами\n",
    "    \n",
    "    О подаче сыпучих материалов\n",
    "    \n",
    "    О продувке сплава газом\n",
    "    \n",
    "    О измерении температуры\n",
    "    \n",
    "    О подаче проволочных материалов\n",
    "\n",
    "\n",
    "- Вывод по разделу\n",
    "\n",
    "**Шаг 2** Подготовка данных\n",
    "\n",
    "- Заполнение 0 пропусков в таблицах о сыпучих и проволочных материалов\n",
    "\n",
    "- Удаление данных по ключу в таблице о температуре\n",
    "\n",
    "- Формирование таблицы признаков\n",
    "\n",
    "    Таблица о замере температуры(общее время сплава в ковше)\n",
    "    \n",
    "    Таблица о нагреве сплава(сумарная энергия для партии)\n",
    "    \n",
    "    Таблица о подаче материалов и газе\n",
    "    \n",
    "- Генерация дполнительных признаков и добавление их  в финальную таблицу\n",
    "\n",
    "- Формирование выборок для обучения модели\n",
    "\n",
    "\n",
    "**Шаг 3** Обучение модели\n",
    "\n",
    "- Обучение моделей\n",
    "\n",
    "    Линейная регрессия\n",
    "    \n",
    "    Дерево решений\n",
    "    \n",
    "    Случайный лес\n",
    "    \n",
    "    CatBoost\n",
    "    \n",
    "    \n",
    "- Выбор лучшей модели на основе метрики  МАЕ,лучшей оказалась  CatBoost\n",
    "\n",
    "**Шаг 4** Тестирование\n",
    "\n",
    "- Тестирование модели на тестовом наборе данных \n",
    "\n",
    "- Сравнение модели  с конкстаной\n",
    "\n",
    "- Оценка важности признаков\n",
    "\n",
    "**Шаг 5**\n",
    "\n",
    "- Написание общего вывода о проделанной работе"
   ]
  },
  {
   "cell_type": "markdown",
   "metadata": {},
   "source": [
    "### Признаки, которые использовали для обучения и их предобработка"
   ]
  },
  {
   "cell_type": "markdown",
   "metadata": {},
   "source": [
    "Признаки которые использовались для обучения модели\n",
    "\n",
    "- start_temp был агрегирован путем нахождения min в данных о  температуре,которые был предварительно очищены от пропусков\n",
    "\n",
    "- total_energy был сгенерирован путем умножения **полной мощности** на **время нагрева**\n",
    "\n",
    "- gas исходный признак был добавлен в таблицу по ключу\n",
    "\n",
    "- cool_time был сгенерирован путем  вычетание из **время приготовления партии**  - **времени нагрева**\n",
    "\n",
    "- scaller_time был сгенерирова путём деления **времени нагрева** на **время приготовления**\n",
    "\n",
    "- Данные о сыпучех материалах **Bulk 1** - **Bulk 15**\n",
    "\n",
    "- Данные о проволочных метриалах **Wire 1** - **Wire 9**\n",
    "\n",
    "Целевой признак\n",
    "\n",
    "- fin_temp был агрегирован путем нахождения max в данных о  температуре,которые был предварительно очищены от пропусков"
   ]
  },
  {
   "cell_type": "markdown",
   "metadata": {},
   "source": [
    "### Полное описание модели (с гиперпараметрами, включая random_state, если использовался)"
   ]
  },
  {
   "cell_type": "markdown",
   "metadata": {},
   "source": [
    "**Модель**\n",
    "\n",
    "CatBoostRegressor(silent=True, random_state=40823) -стандарнтные параметры"
   ]
  },
  {
   "cell_type": "markdown",
   "metadata": {},
   "source": [
    "### Итоговая метрика"
   ]
  },
  {
   "cell_type": "markdown",
   "metadata": {},
   "source": [
    "Была поставлена задача что бы итоговая метрика на тестовом наборе данных не превышала 6.8\n",
    "\n",
    "Итоговая метрика модели CatBoost 6.1"
   ]
  },
  {
   "cell_type": "markdown",
   "metadata": {},
   "source": [
    "### Рекомендации по улучшению решения"
   ]
  },
  {
   "cell_type": "markdown",
   "metadata": {},
   "source": [
    "В целом я порекомендовал,что бы исходных данных было больше и не пришлось вырезать большую часть из них\n",
    "\n",
    "Следовательно на более коректных данных можно строить более лучшую модель,а так же я бы проконсультировался с человеком ,который  работает в металлургической сфере,возможно можно было бы сгененировать новые признаки которые повлияли бы на модель\n",
    "\n",
    "Так же рекомендовал бы рассмотреть другие библиотеки,возможно есть другие методы МЛ для улучшения качества метрики"
   ]
  },
  {
   "cell_type": "code",
   "execution_count": null,
   "metadata": {},
   "outputs": [],
   "source": []
  }
 ],
 "metadata": {
  "ExecuteTimeLog": [
   {
    "duration": 1437,
    "start_time": "2023-08-08T09:30:12.617Z"
   },
   {
    "duration": 583,
    "start_time": "2023-08-08T09:30:38.008Z"
   },
   {
    "duration": 5,
    "start_time": "2023-08-08T09:31:07.862Z"
   },
   {
    "duration": 439,
    "start_time": "2023-08-08T09:31:30.727Z"
   },
   {
    "duration": 126,
    "start_time": "2023-08-08T09:31:35.900Z"
   },
   {
    "duration": 376,
    "start_time": "2023-08-08T09:32:33.630Z"
   },
   {
    "duration": 9,
    "start_time": "2023-08-08T09:32:59.602Z"
   },
   {
    "duration": 453,
    "start_time": "2023-08-08T09:33:09.713Z"
   },
   {
    "duration": 165,
    "start_time": "2023-08-08T09:33:22.208Z"
   },
   {
    "duration": 1280,
    "start_time": "2023-08-08T09:35:33.872Z"
   },
   {
    "duration": 7,
    "start_time": "2023-08-08T09:36:29.046Z"
   },
   {
    "duration": 40,
    "start_time": "2023-08-08T09:36:36.344Z"
   },
   {
    "duration": 248,
    "start_time": "2023-08-08T09:37:31.827Z"
   },
   {
    "duration": 336,
    "start_time": "2023-08-08T09:38:20.453Z"
   },
   {
    "duration": 143,
    "start_time": "2023-08-08T09:38:38.862Z"
   },
   {
    "duration": 677,
    "start_time": "2023-08-08T09:41:00.956Z"
   },
   {
    "duration": 7,
    "start_time": "2023-08-08T09:41:15.600Z"
   },
   {
    "duration": 53,
    "start_time": "2023-08-08T09:42:07.617Z"
   },
   {
    "duration": 6,
    "start_time": "2023-08-08T09:44:50.676Z"
   },
   {
    "duration": 6,
    "start_time": "2023-08-08T09:44:59.590Z"
   },
   {
    "duration": 10,
    "start_time": "2023-08-08T09:45:07.065Z"
   },
   {
    "duration": 19,
    "start_time": "2023-08-08T09:45:16.344Z"
   },
   {
    "duration": 10,
    "start_time": "2023-08-08T09:45:26.514Z"
   },
   {
    "duration": 6,
    "start_time": "2023-08-08T09:45:36.556Z"
   },
   {
    "duration": 178,
    "start_time": "2023-08-08T09:45:49.900Z"
   },
   {
    "duration": 22,
    "start_time": "2023-08-08T09:46:51.591Z"
   },
   {
    "duration": 18,
    "start_time": "2023-08-08T09:47:09.739Z"
   },
   {
    "duration": 23,
    "start_time": "2023-08-08T09:47:18.112Z"
   },
   {
    "duration": 12,
    "start_time": "2023-08-08T09:47:28.164Z"
   },
   {
    "duration": 25,
    "start_time": "2023-08-08T09:48:13.722Z"
   },
   {
    "duration": 20,
    "start_time": "2023-08-08T09:48:54.893Z"
   },
   {
    "duration": 38,
    "start_time": "2023-08-08T09:49:12.415Z"
   },
   {
    "duration": 30,
    "start_time": "2023-08-08T09:49:46.969Z"
   },
   {
    "duration": 6,
    "start_time": "2023-08-08T09:50:26.738Z"
   },
   {
    "duration": 773,
    "start_time": "2023-08-08T09:51:48.429Z"
   },
   {
    "duration": 13,
    "start_time": "2023-08-08T09:52:14.387Z"
   },
   {
    "duration": 110,
    "start_time": "2023-08-08T09:53:22.899Z"
   },
   {
    "duration": 295,
    "start_time": "2023-08-08T09:54:36.056Z"
   },
   {
    "duration": 14,
    "start_time": "2023-08-08T09:54:45.311Z"
   },
   {
    "duration": 190,
    "start_time": "2023-08-08T10:10:27.862Z"
   },
   {
    "duration": 18,
    "start_time": "2023-08-08T10:11:06.147Z"
   },
   {
    "duration": 3,
    "start_time": "2023-08-08T10:11:35.687Z"
   },
   {
    "duration": 23,
    "start_time": "2023-08-08T10:11:48.033Z"
   },
   {
    "duration": 109,
    "start_time": "2023-08-08T10:12:21.675Z"
   },
   {
    "duration": 8,
    "start_time": "2023-08-08T10:12:29.652Z"
   },
   {
    "duration": 135,
    "start_time": "2023-08-08T10:13:10.220Z"
   },
   {
    "duration": 111,
    "start_time": "2023-08-08T10:15:48.213Z"
   },
   {
    "duration": 4420,
    "start_time": "2023-08-08T10:17:01.373Z"
   },
   {
    "duration": 4274,
    "start_time": "2023-08-08T10:17:28.415Z"
   },
   {
    "duration": 3352,
    "start_time": "2023-08-08T10:17:38.559Z"
   },
   {
    "duration": 3281,
    "start_time": "2023-08-08T10:17:46.905Z"
   },
   {
    "duration": 4332,
    "start_time": "2023-08-08T10:17:59.802Z"
   },
   {
    "duration": 4180,
    "start_time": "2023-08-08T10:20:28.045Z"
   },
   {
    "duration": 5119,
    "start_time": "2023-08-08T10:20:35.557Z"
   },
   {
    "duration": 491939,
    "start_time": "2023-08-08T10:21:17.155Z"
   },
   {
    "duration": 27,
    "start_time": "2023-08-08T10:37:13.343Z"
   },
   {
    "duration": 38,
    "start_time": "2023-08-08T10:37:50.720Z"
   },
   {
    "duration": 36391,
    "start_time": "2023-08-08T10:38:02.851Z"
   },
   {
    "duration": 71680,
    "start_time": "2023-08-08T10:41:14.501Z"
   },
   {
    "duration": 15454,
    "start_time": "2023-08-08T10:44:18.792Z"
   },
   {
    "duration": 77623,
    "start_time": "2023-08-08T10:47:34.220Z"
   },
   {
    "duration": 68042,
    "start_time": "2023-08-08T10:50:41.840Z"
   },
   {
    "duration": 24268,
    "start_time": "2023-08-08T10:52:41.611Z"
   },
   {
    "duration": 17115,
    "start_time": "2023-08-08T10:53:27.865Z"
   },
   {
    "duration": 20642,
    "start_time": "2023-08-08T10:54:35.353Z"
   },
   {
    "duration": 34170,
    "start_time": "2023-08-08T11:01:59.414Z"
   },
   {
    "duration": 7110,
    "start_time": "2023-08-08T11:03:00.552Z"
   },
   {
    "duration": 16,
    "start_time": "2023-08-08T11:03:50.902Z"
   },
   {
    "duration": 5232,
    "start_time": "2023-08-08T11:04:03.112Z"
   },
   {
    "duration": 6609,
    "start_time": "2023-08-08T11:04:34.940Z"
   },
   {
    "duration": 11,
    "start_time": "2023-08-08T11:29:26.467Z"
   },
   {
    "duration": 7,
    "start_time": "2023-08-08T11:29:59.534Z"
   },
   {
    "duration": 6,
    "start_time": "2023-08-08T11:30:11.113Z"
   },
   {
    "duration": 305,
    "start_time": "2023-08-08T11:33:24.904Z"
   },
   {
    "duration": 194,
    "start_time": "2023-08-08T11:33:42.390Z"
   },
   {
    "duration": 368,
    "start_time": "2023-08-08T11:33:51.036Z"
   },
   {
    "duration": 388,
    "start_time": "2023-08-08T11:34:16.284Z"
   },
   {
    "duration": 8006,
    "start_time": "2023-08-08T19:56:16.756Z"
   },
   {
    "duration": 1404,
    "start_time": "2023-08-08T19:56:24.769Z"
   },
   {
    "duration": 82,
    "start_time": "2023-08-08T19:56:26.181Z"
   },
   {
    "duration": 1389,
    "start_time": "2023-08-08T19:56:26.266Z"
   },
   {
    "duration": 14,
    "start_time": "2023-08-08T19:56:27.662Z"
   },
   {
    "duration": 1791,
    "start_time": "2023-08-08T19:56:27.678Z"
   },
   {
    "duration": 816,
    "start_time": "2023-08-08T19:56:29.472Z"
   },
   {
    "duration": 6013,
    "start_time": "2023-08-08T19:56:30.364Z"
   },
   {
    "duration": 94,
    "start_time": "2023-08-08T19:56:36.384Z"
   },
   {
    "duration": 214,
    "start_time": "2023-08-08T19:56:36.562Z"
   },
   {
    "duration": 793,
    "start_time": "2023-08-08T19:56:36.782Z"
   },
   {
    "duration": 810,
    "start_time": "2023-08-08T19:56:37.577Z"
   },
   {
    "duration": 708,
    "start_time": "2023-08-08T19:56:38.470Z"
   },
   {
    "duration": 2476,
    "start_time": "2023-08-08T19:56:39.181Z"
   },
   {
    "duration": 15,
    "start_time": "2023-08-08T19:56:41.660Z"
   },
   {
    "duration": 288,
    "start_time": "2023-08-08T19:56:41.679Z"
   },
   {
    "duration": 86,
    "start_time": "2023-08-08T19:56:41.973Z"
   },
   {
    "duration": 101,
    "start_time": "2023-08-08T19:56:42.066Z"
   },
   {
    "duration": 15,
    "start_time": "2023-08-08T19:56:42.172Z"
   },
   {
    "duration": 169,
    "start_time": "2023-08-08T19:56:42.190Z"
   },
   {
    "duration": 14,
    "start_time": "2023-08-08T19:56:42.361Z"
   },
   {
    "duration": 84,
    "start_time": "2023-08-08T19:56:42.384Z"
   },
   {
    "duration": 101,
    "start_time": "2023-08-08T19:56:42.470Z"
   },
   {
    "duration": 106,
    "start_time": "2023-08-08T19:56:42.579Z"
   },
   {
    "duration": 29,
    "start_time": "2023-08-08T19:56:42.758Z"
   },
   {
    "duration": 101,
    "start_time": "2023-08-08T19:56:42.866Z"
   },
   {
    "duration": 105,
    "start_time": "2023-08-08T19:56:42.977Z"
   },
   {
    "duration": 84,
    "start_time": "2023-08-08T19:56:43.092Z"
   },
   {
    "duration": 276,
    "start_time": "2023-08-08T19:56:43.181Z"
   },
   {
    "duration": 129,
    "start_time": "2023-08-08T19:56:43.459Z"
   },
   {
    "duration": 98,
    "start_time": "2023-08-08T19:56:43.668Z"
   },
   {
    "duration": 3693,
    "start_time": "2023-08-08T19:56:43.772Z"
   },
   {
    "duration": 92,
    "start_time": "2023-08-08T19:56:47.469Z"
   },
   {
    "duration": 97,
    "start_time": "2023-08-08T19:56:47.574Z"
   },
   {
    "duration": 104,
    "start_time": "2023-08-08T19:56:47.673Z"
   },
   {
    "duration": 1387,
    "start_time": "2023-08-08T19:56:47.782Z"
   },
   {
    "duration": 421,
    "start_time": "2023-08-08T19:56:49.255Z"
   },
   {
    "duration": 20103,
    "start_time": "2023-08-08T19:56:49.679Z"
   },
   {
    "duration": 24991,
    "start_time": "2023-08-08T19:57:09.787Z"
   },
   {
    "duration": 2039993,
    "start_time": "2023-08-08T19:57:34.786Z"
   },
   {
    "duration": 141175,
    "start_time": "2023-08-08T20:31:34.788Z"
   },
   {
    "duration": 30125,
    "start_time": "2023-08-08T20:33:55.970Z"
   },
   {
    "duration": 71,
    "start_time": "2023-08-08T20:34:26.100Z"
   },
   {
    "duration": 1462,
    "start_time": "2023-08-08T20:34:26.193Z"
   },
   {
    "duration": 1637,
    "start_time": "2023-08-09T06:09:27.760Z"
   },
   {
    "duration": 958,
    "start_time": "2023-08-09T06:09:30.961Z"
   },
   {
    "duration": 4,
    "start_time": "2023-08-09T06:09:31.921Z"
   },
   {
    "duration": 373,
    "start_time": "2023-08-09T06:09:32.903Z"
   },
   {
    "duration": 9,
    "start_time": "2023-08-09T06:09:33.365Z"
   },
   {
    "duration": 431,
    "start_time": "2023-08-09T06:09:33.618Z"
   },
   {
    "duration": 152,
    "start_time": "2023-08-09T06:09:34.051Z"
   },
   {
    "duration": 1209,
    "start_time": "2023-08-09T06:09:36.078Z"
   },
   {
    "duration": 6,
    "start_time": "2023-08-09T06:09:37.289Z"
   },
   {
    "duration": 51,
    "start_time": "2023-08-09T06:09:37.297Z"
   },
   {
    "duration": 217,
    "start_time": "2023-08-09T06:09:37.704Z"
   },
   {
    "duration": 228,
    "start_time": "2023-08-09T06:09:38.576Z"
   },
   {
    "duration": 152,
    "start_time": "2023-08-09T06:09:38.805Z"
   },
   {
    "duration": 621,
    "start_time": "2023-08-09T06:09:42.308Z"
   },
   {
    "duration": 9,
    "start_time": "2023-08-09T06:09:43.529Z"
   },
   {
    "duration": 36,
    "start_time": "2023-08-09T06:09:46.348Z"
   },
   {
    "duration": 13,
    "start_time": "2023-08-09T06:28:58.697Z"
   },
   {
    "duration": 9,
    "start_time": "2023-08-09T06:29:15.710Z"
   },
   {
    "duration": 11,
    "start_time": "2023-08-09T06:29:24.811Z"
   },
   {
    "duration": 18,
    "start_time": "2023-08-09T06:29:39.113Z"
   },
   {
    "duration": 12,
    "start_time": "2023-08-09T06:29:43.787Z"
   },
   {
    "duration": 4,
    "start_time": "2023-08-09T07:15:07.583Z"
   },
   {
    "duration": 217,
    "start_time": "2023-08-09T07:15:08.337Z"
   },
   {
    "duration": 5,
    "start_time": "2023-08-09T07:15:09.203Z"
   },
   {
    "duration": 334,
    "start_time": "2023-08-09T07:15:10.303Z"
   },
   {
    "duration": 6,
    "start_time": "2023-08-09T07:15:10.639Z"
   },
   {
    "duration": 494,
    "start_time": "2023-08-09T07:15:11.161Z"
   },
   {
    "duration": 144,
    "start_time": "2023-08-09T07:15:11.657Z"
   },
   {
    "duration": 1141,
    "start_time": "2023-08-09T07:15:12.206Z"
   },
   {
    "duration": 6,
    "start_time": "2023-08-09T07:15:13.349Z"
   },
   {
    "duration": 51,
    "start_time": "2023-08-09T07:15:13.357Z"
   },
   {
    "duration": 269,
    "start_time": "2023-08-09T07:15:13.409Z"
   },
   {
    "duration": 241,
    "start_time": "2023-08-09T07:15:13.681Z"
   },
   {
    "duration": 183,
    "start_time": "2023-08-09T07:15:13.924Z"
   },
   {
    "duration": 598,
    "start_time": "2023-08-09T07:15:14.109Z"
   },
   {
    "duration": 7,
    "start_time": "2023-08-09T07:15:14.709Z"
   },
   {
    "duration": 52,
    "start_time": "2023-08-09T07:15:14.717Z"
   },
   {
    "duration": 6,
    "start_time": "2023-08-09T07:15:25.585Z"
   },
   {
    "duration": 6,
    "start_time": "2023-08-09T07:15:26.674Z"
   },
   {
    "duration": 16,
    "start_time": "2023-08-09T07:15:50.627Z"
   },
   {
    "duration": 21,
    "start_time": "2023-08-09T07:16:17.743Z"
   },
   {
    "duration": 9,
    "start_time": "2023-08-09T07:23:42.779Z"
   },
   {
    "duration": 16,
    "start_time": "2023-08-09T07:23:44.609Z"
   },
   {
    "duration": 34,
    "start_time": "2023-08-09T07:23:51.444Z"
   },
   {
    "duration": 4,
    "start_time": "2023-08-09T07:25:52.736Z"
   },
   {
    "duration": 230,
    "start_time": "2023-08-09T07:25:53.284Z"
   },
   {
    "duration": 5,
    "start_time": "2023-08-09T07:25:53.517Z"
   },
   {
    "duration": 411,
    "start_time": "2023-08-09T07:25:53.542Z"
   },
   {
    "duration": 20,
    "start_time": "2023-08-09T07:25:53.955Z"
   },
   {
    "duration": 469,
    "start_time": "2023-08-09T07:25:53.977Z"
   },
   {
    "duration": 144,
    "start_time": "2023-08-09T07:25:54.448Z"
   },
   {
    "duration": 1125,
    "start_time": "2023-08-09T07:25:54.593Z"
   },
   {
    "duration": 7,
    "start_time": "2023-08-09T07:25:55.720Z"
   },
   {
    "duration": 57,
    "start_time": "2023-08-09T07:25:55.728Z"
   },
   {
    "duration": 214,
    "start_time": "2023-08-09T07:25:55.786Z"
   },
   {
    "duration": 283,
    "start_time": "2023-08-09T07:25:56.001Z"
   },
   {
    "duration": 157,
    "start_time": "2023-08-09T07:25:56.287Z"
   },
   {
    "duration": 651,
    "start_time": "2023-08-09T07:25:56.446Z"
   },
   {
    "duration": 7,
    "start_time": "2023-08-09T07:25:57.098Z"
   },
   {
    "duration": 48,
    "start_time": "2023-08-09T07:25:57.106Z"
   },
   {
    "duration": 7,
    "start_time": "2023-08-09T07:26:06.214Z"
   },
   {
    "duration": 6,
    "start_time": "2023-08-09T07:26:08.270Z"
   },
   {
    "duration": 9,
    "start_time": "2023-08-09T07:26:14.343Z"
   },
   {
    "duration": 25,
    "start_time": "2023-08-09T07:26:16.444Z"
   },
   {
    "duration": 104,
    "start_time": "2023-08-09T07:27:18.122Z"
   },
   {
    "duration": 7,
    "start_time": "2023-08-09T07:27:29.038Z"
   },
   {
    "duration": 7,
    "start_time": "2023-08-09T07:27:29.791Z"
   },
   {
    "duration": 20,
    "start_time": "2023-08-09T07:27:31.231Z"
   },
   {
    "duration": 16,
    "start_time": "2023-08-09T07:27:31.410Z"
   },
   {
    "duration": 19,
    "start_time": "2023-08-09T07:27:31.608Z"
   },
   {
    "duration": 14,
    "start_time": "2023-08-09T07:27:31.814Z"
   },
   {
    "duration": 19,
    "start_time": "2023-08-09T07:27:33.701Z"
   },
   {
    "duration": 17,
    "start_time": "2023-08-09T07:27:35.398Z"
   },
   {
    "duration": 28,
    "start_time": "2023-08-09T07:27:36.430Z"
   },
   {
    "duration": 29,
    "start_time": "2023-08-09T07:27:36.898Z"
   },
   {
    "duration": 2157,
    "start_time": "2023-08-09T07:27:37.464Z"
   },
   {
    "duration": 2207,
    "start_time": "2023-08-09T07:27:55.525Z"
   },
   {
    "duration": 4,
    "start_time": "2023-08-09T07:57:22.016Z"
   },
   {
    "duration": 240,
    "start_time": "2023-08-09T07:57:22.022Z"
   },
   {
    "duration": 5,
    "start_time": "2023-08-09T07:57:22.264Z"
   },
   {
    "duration": 342,
    "start_time": "2023-08-09T07:57:22.271Z"
   },
   {
    "duration": 7,
    "start_time": "2023-08-09T07:57:22.615Z"
   },
   {
    "duration": 450,
    "start_time": "2023-08-09T07:57:22.624Z"
   },
   {
    "duration": 145,
    "start_time": "2023-08-09T07:57:23.076Z"
   },
   {
    "duration": 1286,
    "start_time": "2023-08-09T07:57:23.223Z"
   },
   {
    "duration": 6,
    "start_time": "2023-08-09T07:57:24.511Z"
   },
   {
    "duration": 64,
    "start_time": "2023-08-09T07:57:24.518Z"
   },
   {
    "duration": 226,
    "start_time": "2023-08-09T07:57:24.584Z"
   },
   {
    "duration": 267,
    "start_time": "2023-08-09T07:57:24.812Z"
   },
   {
    "duration": 147,
    "start_time": "2023-08-09T07:57:25.081Z"
   },
   {
    "duration": 585,
    "start_time": "2023-08-09T07:57:25.229Z"
   },
   {
    "duration": 6,
    "start_time": "2023-08-09T07:57:25.816Z"
   },
   {
    "duration": 61,
    "start_time": "2023-08-09T07:57:25.823Z"
   },
   {
    "duration": 7,
    "start_time": "2023-08-09T07:57:31.287Z"
   },
   {
    "duration": 7,
    "start_time": "2023-08-09T07:57:32.588Z"
   },
   {
    "duration": 9,
    "start_time": "2023-08-09T07:57:51.264Z"
   },
   {
    "duration": 13,
    "start_time": "2023-08-09T07:58:17.183Z"
   },
   {
    "duration": 15,
    "start_time": "2023-08-09T07:58:23.712Z"
   },
   {
    "duration": 14,
    "start_time": "2023-08-09T08:02:35.414Z"
   },
   {
    "duration": 4,
    "start_time": "2023-08-09T08:02:40.860Z"
   },
   {
    "duration": 219,
    "start_time": "2023-08-09T08:02:40.923Z"
   },
   {
    "duration": 5,
    "start_time": "2023-08-09T08:02:41.144Z"
   },
   {
    "duration": 251,
    "start_time": "2023-08-09T08:02:41.184Z"
   },
   {
    "duration": 37,
    "start_time": "2023-08-09T08:02:41.437Z"
   },
   {
    "duration": 448,
    "start_time": "2023-08-09T08:02:41.476Z"
   },
   {
    "duration": 158,
    "start_time": "2023-08-09T08:02:41.927Z"
   },
   {
    "duration": 1076,
    "start_time": "2023-08-09T08:02:42.522Z"
   },
   {
    "duration": 8,
    "start_time": "2023-08-09T08:02:43.600Z"
   },
   {
    "duration": 64,
    "start_time": "2023-08-09T08:02:43.610Z"
   },
   {
    "duration": 225,
    "start_time": "2023-08-09T08:02:43.676Z"
   },
   {
    "duration": 292,
    "start_time": "2023-08-09T08:02:43.903Z"
   },
   {
    "duration": 161,
    "start_time": "2023-08-09T08:02:44.196Z"
   },
   {
    "duration": 704,
    "start_time": "2023-08-09T08:02:44.853Z"
   },
   {
    "duration": 7,
    "start_time": "2023-08-09T08:02:45.558Z"
   },
   {
    "duration": 33,
    "start_time": "2023-08-09T08:02:45.824Z"
   },
   {
    "duration": 6,
    "start_time": "2023-08-09T08:02:53.488Z"
   },
   {
    "duration": 7,
    "start_time": "2023-08-09T08:02:54.530Z"
   },
   {
    "duration": 13,
    "start_time": "2023-08-09T08:03:09.214Z"
   },
   {
    "duration": 15,
    "start_time": "2023-08-09T08:04:14.687Z"
   },
   {
    "duration": 2762,
    "start_time": "2023-08-09T08:05:25.058Z"
   },
   {
    "duration": 7,
    "start_time": "2023-08-09T08:06:16.063Z"
   },
   {
    "duration": 8,
    "start_time": "2023-08-09T08:11:08.592Z"
   },
   {
    "duration": 8,
    "start_time": "2023-08-09T08:12:02.333Z"
   },
   {
    "duration": 6099,
    "start_time": "2023-08-09T08:12:27.585Z"
   },
   {
    "duration": 138,
    "start_time": "2023-08-09T08:12:56.137Z"
   },
   {
    "duration": 5689,
    "start_time": "2023-08-09T08:14:03.192Z"
   },
   {
    "duration": 6206,
    "start_time": "2023-08-09T08:14:11.249Z"
   },
   {
    "duration": 6048,
    "start_time": "2023-08-09T08:14:23.897Z"
   },
   {
    "duration": 44,
    "start_time": "2023-08-09T08:18:46.892Z"
   },
   {
    "duration": 43,
    "start_time": "2023-08-09T08:19:09.180Z"
   },
   {
    "duration": 35,
    "start_time": "2023-08-09T08:19:54.921Z"
   },
   {
    "duration": 30,
    "start_time": "2023-08-09T08:20:22.294Z"
   },
   {
    "duration": 8,
    "start_time": "2023-08-09T08:20:40.043Z"
   },
   {
    "duration": 23284,
    "start_time": "2023-08-09T08:24:17.734Z"
   },
   {
    "duration": 22855,
    "start_time": "2023-08-09T08:25:13.648Z"
   },
   {
    "duration": 8,
    "start_time": "2023-08-09T08:26:00.379Z"
   },
   {
    "duration": 12,
    "start_time": "2023-08-09T08:26:44.887Z"
   },
   {
    "duration": 19,
    "start_time": "2023-08-09T08:26:54.077Z"
   },
   {
    "duration": 32,
    "start_time": "2023-08-09T08:26:59.656Z"
   },
   {
    "duration": 19123,
    "start_time": "2023-08-09T08:28:08.422Z"
   },
   {
    "duration": 20627,
    "start_time": "2023-08-09T08:28:40.310Z"
   },
   {
    "duration": 4,
    "start_time": "2023-08-09T08:29:34.234Z"
   },
   {
    "duration": 218,
    "start_time": "2023-08-09T08:29:34.797Z"
   },
   {
    "duration": 6,
    "start_time": "2023-08-09T08:29:35.017Z"
   },
   {
    "duration": 309,
    "start_time": "2023-08-09T08:29:35.047Z"
   },
   {
    "duration": 16,
    "start_time": "2023-08-09T08:29:35.358Z"
   },
   {
    "duration": 512,
    "start_time": "2023-08-09T08:29:35.376Z"
   },
   {
    "duration": 164,
    "start_time": "2023-08-09T08:29:35.891Z"
   },
   {
    "duration": 1226,
    "start_time": "2023-08-09T08:29:36.057Z"
   },
   {
    "duration": 7,
    "start_time": "2023-08-09T08:29:37.285Z"
   },
   {
    "duration": 45,
    "start_time": "2023-08-09T08:29:37.294Z"
   },
   {
    "duration": 254,
    "start_time": "2023-08-09T08:29:37.341Z"
   },
   {
    "duration": 294,
    "start_time": "2023-08-09T08:29:37.596Z"
   },
   {
    "duration": 158,
    "start_time": "2023-08-09T08:29:37.892Z"
   },
   {
    "duration": 628,
    "start_time": "2023-08-09T08:29:38.052Z"
   },
   {
    "duration": 7,
    "start_time": "2023-08-09T08:29:38.682Z"
   },
   {
    "duration": 40,
    "start_time": "2023-08-09T08:29:38.691Z"
   },
   {
    "duration": 7,
    "start_time": "2023-08-09T08:29:41.456Z"
   },
   {
    "duration": 7,
    "start_time": "2023-08-09T08:29:43.302Z"
   },
   {
    "duration": 3,
    "start_time": "2023-08-09T08:29:45.282Z"
   },
   {
    "duration": 16,
    "start_time": "2023-08-09T08:29:48.933Z"
   },
   {
    "duration": 2,
    "start_time": "2023-08-09T08:29:51.778Z"
   },
   {
    "duration": 7,
    "start_time": "2023-08-09T08:29:54.489Z"
   },
   {
    "duration": 5,
    "start_time": "2023-08-09T08:29:54.934Z"
   },
   {
    "duration": 19,
    "start_time": "2023-08-09T08:29:56.893Z"
   },
   {
    "duration": 15,
    "start_time": "2023-08-09T08:29:57.564Z"
   },
   {
    "duration": 16,
    "start_time": "2023-08-09T08:29:57.769Z"
   },
   {
    "duration": 14,
    "start_time": "2023-08-09T08:29:57.992Z"
   },
   {
    "duration": 16,
    "start_time": "2023-08-09T08:29:59.765Z"
   },
   {
    "duration": 15,
    "start_time": "2023-08-09T08:30:01.258Z"
   },
   {
    "duration": 30,
    "start_time": "2023-08-09T08:30:02.356Z"
   },
   {
    "duration": 32,
    "start_time": "2023-08-09T08:30:03.311Z"
   },
   {
    "duration": 3108,
    "start_time": "2023-08-09T08:30:04.564Z"
   },
   {
    "duration": 8,
    "start_time": "2023-08-09T08:30:16.337Z"
   },
   {
    "duration": 6158,
    "start_time": "2023-08-09T08:30:20.036Z"
   },
   {
    "duration": 33,
    "start_time": "2023-08-09T08:37:40.469Z"
   },
   {
    "duration": 30,
    "start_time": "2023-08-09T08:39:06.042Z"
   },
   {
    "duration": 6,
    "start_time": "2023-08-09T08:39:43.174Z"
   },
   {
    "duration": 28,
    "start_time": "2023-08-09T08:39:48.150Z"
   },
   {
    "duration": 4045,
    "start_time": "2023-08-09T08:40:52.849Z"
   },
   {
    "duration": 3961,
    "start_time": "2023-08-09T08:40:57.349Z"
   },
   {
    "duration": 1460,
    "start_time": "2023-08-09T08:46:20.450Z"
   },
   {
    "duration": 234,
    "start_time": "2023-08-09T08:46:21.913Z"
   },
   {
    "duration": 5,
    "start_time": "2023-08-09T08:46:22.148Z"
   },
   {
    "duration": 346,
    "start_time": "2023-08-09T08:46:22.155Z"
   },
   {
    "duration": 9,
    "start_time": "2023-08-09T08:46:22.503Z"
   },
   {
    "duration": 456,
    "start_time": "2023-08-09T08:46:22.514Z"
   },
   {
    "duration": 165,
    "start_time": "2023-08-09T08:46:22.975Z"
   },
   {
    "duration": 1286,
    "start_time": "2023-08-09T08:46:23.141Z"
   },
   {
    "duration": 8,
    "start_time": "2023-08-09T08:46:24.429Z"
   },
   {
    "duration": 59,
    "start_time": "2023-08-09T08:46:24.439Z"
   },
   {
    "duration": 311,
    "start_time": "2023-08-09T08:46:24.500Z"
   },
   {
    "duration": 286,
    "start_time": "2023-08-09T08:46:24.813Z"
   },
   {
    "duration": 152,
    "start_time": "2023-08-09T08:46:25.101Z"
   },
   {
    "duration": 591,
    "start_time": "2023-08-09T08:46:25.254Z"
   },
   {
    "duration": 7,
    "start_time": "2023-08-09T08:46:25.846Z"
   },
   {
    "duration": 47,
    "start_time": "2023-08-09T08:46:25.854Z"
   },
   {
    "duration": 7,
    "start_time": "2023-08-09T08:46:25.903Z"
   },
   {
    "duration": 9,
    "start_time": "2023-08-09T08:46:25.911Z"
   },
   {
    "duration": 3,
    "start_time": "2023-08-09T08:46:25.921Z"
   },
   {
    "duration": 29,
    "start_time": "2023-08-09T08:46:25.925Z"
   },
   {
    "duration": 21,
    "start_time": "2023-08-09T08:46:25.955Z"
   },
   {
    "duration": 13,
    "start_time": "2023-08-09T08:46:25.978Z"
   },
   {
    "duration": 5,
    "start_time": "2023-08-09T08:46:25.993Z"
   },
   {
    "duration": 22,
    "start_time": "2023-08-09T08:46:25.999Z"
   },
   {
    "duration": 14,
    "start_time": "2023-08-09T08:46:26.022Z"
   },
   {
    "duration": 47,
    "start_time": "2023-08-09T08:46:26.038Z"
   },
   {
    "duration": 16,
    "start_time": "2023-08-09T08:46:26.087Z"
   },
   {
    "duration": 21,
    "start_time": "2023-08-09T08:46:26.107Z"
   },
   {
    "duration": 41,
    "start_time": "2023-08-09T08:46:26.130Z"
   },
   {
    "duration": 85,
    "start_time": "2023-08-09T08:46:26.173Z"
   },
   {
    "duration": 33,
    "start_time": "2023-08-09T08:46:26.259Z"
   },
   {
    "duration": 7,
    "start_time": "2023-08-09T08:46:26.294Z"
   },
   {
    "duration": 6237,
    "start_time": "2023-08-09T08:46:26.302Z"
   },
   {
    "duration": 3062,
    "start_time": "2023-08-09T08:46:32.541Z"
   },
   {
    "duration": 11,
    "start_time": "2023-08-09T08:46:35.605Z"
   },
   {
    "duration": 12,
    "start_time": "2023-08-09T08:46:35.617Z"
   },
   {
    "duration": 11,
    "start_time": "2023-08-09T08:46:35.630Z"
   },
   {
    "duration": 537,
    "start_time": "2023-08-09T08:46:35.643Z"
   },
   {
    "duration": 277,
    "start_time": "2023-08-09T08:46:36.184Z"
   },
   {
    "duration": 3830,
    "start_time": "2023-08-09T08:46:36.462Z"
   },
   {
    "duration": 4681,
    "start_time": "2023-08-09T08:46:40.294Z"
   },
   {
    "duration": 448594,
    "start_time": "2023-08-09T08:46:44.977Z"
   },
   {
    "duration": 20396,
    "start_time": "2023-08-09T08:54:13.573Z"
   },
   {
    "duration": 4507,
    "start_time": "2023-08-09T08:54:33.971Z"
   },
   {
    "duration": 6,
    "start_time": "2023-08-09T08:54:38.479Z"
   },
   {
    "duration": 332,
    "start_time": "2023-08-09T08:54:38.487Z"
   },
   {
    "duration": 1770,
    "start_time": "2023-08-09T19:24:56.894Z"
   },
   {
    "duration": 833,
    "start_time": "2023-08-09T19:24:58.667Z"
   },
   {
    "duration": 5,
    "start_time": "2023-08-09T19:24:59.502Z"
   },
   {
    "duration": 379,
    "start_time": "2023-08-09T19:24:59.511Z"
   },
   {
    "duration": 17,
    "start_time": "2023-08-09T19:24:59.892Z"
   },
   {
    "duration": 532,
    "start_time": "2023-08-09T19:24:59.910Z"
   },
   {
    "duration": 271,
    "start_time": "2023-08-09T19:25:00.444Z"
   },
   {
    "duration": 1422,
    "start_time": "2023-08-09T19:25:00.717Z"
   },
   {
    "duration": 8,
    "start_time": "2023-08-09T19:25:02.141Z"
   },
   {
    "duration": 148,
    "start_time": "2023-08-09T19:25:02.152Z"
   },
   {
    "duration": 292,
    "start_time": "2023-08-09T19:25:02.302Z"
   },
   {
    "duration": 297,
    "start_time": "2023-08-09T19:25:02.595Z"
   },
   {
    "duration": 169,
    "start_time": "2023-08-09T19:25:02.894Z"
   },
   {
    "duration": 696,
    "start_time": "2023-08-09T19:25:03.065Z"
   },
   {
    "duration": 20,
    "start_time": "2023-08-09T19:25:03.763Z"
   },
   {
    "duration": 49,
    "start_time": "2023-08-09T19:25:03.787Z"
   },
   {
    "duration": 6,
    "start_time": "2023-08-09T19:25:07.206Z"
   },
   {
    "duration": 6,
    "start_time": "2023-08-09T19:25:07.936Z"
   },
   {
    "duration": 128,
    "start_time": "2023-08-09T19:25:50.141Z"
   },
   {
    "duration": 6,
    "start_time": "2023-08-09T19:26:02.897Z"
   },
   {
    "duration": 9,
    "start_time": "2023-08-09T19:26:27.219Z"
   },
   {
    "duration": 5,
    "start_time": "2023-08-09T19:26:46.994Z"
   },
   {
    "duration": 11,
    "start_time": "2023-08-09T19:26:55.197Z"
   },
   {
    "duration": 10,
    "start_time": "2023-08-09T19:34:32.317Z"
   },
   {
    "duration": 15,
    "start_time": "2023-08-09T19:51:28.887Z"
   },
   {
    "duration": 15,
    "start_time": "2023-08-09T19:51:38.557Z"
   },
   {
    "duration": 9,
    "start_time": "2023-08-09T19:51:39.613Z"
   },
   {
    "duration": 9,
    "start_time": "2023-08-09T19:51:40.733Z"
   },
   {
    "duration": 6,
    "start_time": "2023-08-09T19:51:41.167Z"
   },
   {
    "duration": 23,
    "start_time": "2023-08-09T19:51:42.840Z"
   },
   {
    "duration": 16,
    "start_time": "2023-08-09T19:51:43.513Z"
   },
   {
    "duration": 20,
    "start_time": "2023-08-09T19:51:43.921Z"
   },
   {
    "duration": 17,
    "start_time": "2023-08-09T19:51:44.250Z"
   },
   {
    "duration": 28,
    "start_time": "2023-08-09T19:51:45.797Z"
   },
   {
    "duration": 25,
    "start_time": "2023-08-09T19:51:46.934Z"
   },
   {
    "duration": 33,
    "start_time": "2023-08-09T19:51:47.534Z"
   },
   {
    "duration": 33,
    "start_time": "2023-08-09T19:51:47.950Z"
   },
   {
    "duration": 10,
    "start_time": "2023-08-09T19:51:50.362Z"
   },
   {
    "duration": 36,
    "start_time": "2023-08-09T19:51:52.405Z"
   },
   {
    "duration": 6945,
    "start_time": "2023-08-09T19:52:06.239Z"
   },
   {
    "duration": 3485,
    "start_time": "2023-08-09T20:00:18.955Z"
   },
   {
    "duration": 3111,
    "start_time": "2023-08-09T20:00:55.895Z"
   },
   {
    "duration": 6392,
    "start_time": "2023-08-09T20:02:28.021Z"
   },
   {
    "duration": 3472,
    "start_time": "2023-08-09T20:10:24.308Z"
   },
   {
    "duration": 3626,
    "start_time": "2023-08-09T20:11:00.133Z"
   },
   {
    "duration": 3216,
    "start_time": "2023-08-09T20:11:13.007Z"
   },
   {
    "duration": 3621,
    "start_time": "2023-08-09T20:11:29.039Z"
   },
   {
    "duration": 3292,
    "start_time": "2023-08-09T20:11:41.628Z"
   },
   {
    "duration": 1451,
    "start_time": "2023-08-09T20:31:37.266Z"
   },
   {
    "duration": 229,
    "start_time": "2023-08-09T20:31:38.719Z"
   },
   {
    "duration": 4,
    "start_time": "2023-08-09T20:31:38.950Z"
   },
   {
    "duration": 295,
    "start_time": "2023-08-09T20:31:38.956Z"
   },
   {
    "duration": 8,
    "start_time": "2023-08-09T20:31:39.252Z"
   },
   {
    "duration": 473,
    "start_time": "2023-08-09T20:31:39.277Z"
   },
   {
    "duration": 170,
    "start_time": "2023-08-09T20:31:39.752Z"
   },
   {
    "duration": 1331,
    "start_time": "2023-08-09T20:31:39.924Z"
   },
   {
    "duration": 6,
    "start_time": "2023-08-09T20:31:41.256Z"
   },
   {
    "duration": 58,
    "start_time": "2023-08-09T20:31:41.265Z"
   },
   {
    "duration": 265,
    "start_time": "2023-08-09T20:31:41.324Z"
   },
   {
    "duration": 211,
    "start_time": "2023-08-09T20:31:41.591Z"
   },
   {
    "duration": 158,
    "start_time": "2023-08-09T20:31:41.804Z"
   },
   {
    "duration": 596,
    "start_time": "2023-08-09T20:31:41.964Z"
   },
   {
    "duration": 18,
    "start_time": "2023-08-09T20:31:42.562Z"
   },
   {
    "duration": 33,
    "start_time": "2023-08-09T20:31:42.582Z"
   },
   {
    "duration": 5,
    "start_time": "2023-08-09T20:31:42.617Z"
   },
   {
    "duration": 20,
    "start_time": "2023-08-09T20:31:42.623Z"
   },
   {
    "duration": 15,
    "start_time": "2023-08-09T20:31:42.644Z"
   },
   {
    "duration": 6,
    "start_time": "2023-08-09T20:31:42.675Z"
   },
   {
    "duration": 15,
    "start_time": "2023-08-09T20:31:42.682Z"
   },
   {
    "duration": 26,
    "start_time": "2023-08-09T20:31:42.699Z"
   },
   {
    "duration": 24,
    "start_time": "2023-08-09T20:31:42.726Z"
   },
   {
    "duration": 13,
    "start_time": "2023-08-09T20:31:42.751Z"
   },
   {
    "duration": 29,
    "start_time": "2023-08-09T20:31:42.765Z"
   },
   {
    "duration": 12,
    "start_time": "2023-08-09T20:31:42.797Z"
   },
   {
    "duration": 17,
    "start_time": "2023-08-09T20:31:42.810Z"
   },
   {
    "duration": 20,
    "start_time": "2023-08-09T20:31:42.829Z"
   },
   {
    "duration": 44,
    "start_time": "2023-08-09T20:31:42.850Z"
   },
   {
    "duration": 30,
    "start_time": "2023-08-09T20:31:42.896Z"
   },
   {
    "duration": 7,
    "start_time": "2023-08-09T20:31:42.928Z"
   },
   {
    "duration": 3315,
    "start_time": "2023-08-09T20:31:42.937Z"
   },
   {
    "duration": 2911,
    "start_time": "2023-08-09T20:31:46.253Z"
   },
   {
    "duration": 24,
    "start_time": "2023-08-09T20:31:49.166Z"
   },
   {
    "duration": 12,
    "start_time": "2023-08-09T20:31:49.192Z"
   },
   {
    "duration": 26,
    "start_time": "2023-08-09T20:31:49.205Z"
   },
   {
    "duration": 757,
    "start_time": "2023-08-09T20:31:49.232Z"
   },
   {
    "duration": 194,
    "start_time": "2023-08-09T20:31:49.997Z"
   },
   {
    "duration": 3933,
    "start_time": "2023-08-09T20:31:50.193Z"
   },
   {
    "duration": 4535,
    "start_time": "2023-08-09T20:31:54.127Z"
   },
   {
    "duration": 470120,
    "start_time": "2023-08-09T20:31:58.664Z"
   },
   {
    "duration": 22125,
    "start_time": "2023-08-09T20:39:48.790Z"
   },
   {
    "duration": 4590,
    "start_time": "2023-08-09T20:40:10.917Z"
   },
   {
    "duration": 6,
    "start_time": "2023-08-09T20:40:15.509Z"
   },
   {
    "duration": 325,
    "start_time": "2023-08-09T20:40:15.517Z"
   }
  ],
  "kernelspec": {
   "display_name": "Python 3 (ipykernel)",
   "language": "python",
   "name": "python3"
  },
  "language_info": {
   "codemirror_mode": {
    "name": "ipython",
    "version": 3
   },
   "file_extension": ".py",
   "mimetype": "text/x-python",
   "name": "python",
   "nbconvert_exporter": "python",
   "pygments_lexer": "ipython3",
   "version": "3.9.16"
  },
  "toc": {
   "base_numbering": 1,
   "nav_menu": {},
   "number_sections": true,
   "sideBar": true,
   "skip_h1_title": true,
   "title_cell": "Table of Contents",
   "title_sidebar": "Contents",
   "toc_cell": false,
   "toc_position": {
    "height": "calc(100% - 180px)",
    "left": "10px",
    "top": "150px",
    "width": "371px"
   },
   "toc_section_display": true,
   "toc_window_display": true
  }
 },
 "nbformat": 4,
 "nbformat_minor": 2
}
