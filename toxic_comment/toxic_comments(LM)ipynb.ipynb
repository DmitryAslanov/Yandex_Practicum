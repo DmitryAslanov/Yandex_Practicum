{
 "cells": [
  {
   "cell_type": "markdown",
   "metadata": {
    "toc": true
   },
   "source": [
    "<h1>Содержание<span class=\"tocSkip\"></span></h1>\n",
    "<div class=\"toc\"><ul class=\"toc-item\"><li><span><a href=\"#Подготовка\" data-toc-modified-id=\"Подготовка-1\"><span class=\"toc-item-num\">1&nbsp;&nbsp;</span>Подготовка</a></span><ul class=\"toc-item\"><li><span><a href=\"#Вывод\" data-toc-modified-id=\"Вывод-1.1\"><span class=\"toc-item-num\">1.1&nbsp;&nbsp;</span>Вывод</a></span></li></ul></li><li><span><a href=\"#Обучение\" data-toc-modified-id=\"Обучение-2\"><span class=\"toc-item-num\">2&nbsp;&nbsp;</span>Обучение</a></span><ul class=\"toc-item\"><li><span><a href=\"#Тестирование\" data-toc-modified-id=\"Тестирование-2.1\"><span class=\"toc-item-num\">2.1&nbsp;&nbsp;</span>Тестирование</a></span></li></ul></li><li><span><a href=\"#Выводы\" data-toc-modified-id=\"Выводы-3\"><span class=\"toc-item-num\">3&nbsp;&nbsp;</span>Выводы</a></span></li><li><span><a href=\"#Чек-лист-проверки\" data-toc-modified-id=\"Чек-лист-проверки-4\"><span class=\"toc-item-num\">4&nbsp;&nbsp;</span>Чек-лист проверки</a></span></li></ul></div>"
   ]
  },
  {
   "cell_type": "markdown",
   "metadata": {},
   "source": [
    "# Проект для «Викишоп»"
   ]
  },
  {
   "cell_type": "markdown",
   "metadata": {},
   "source": [
    "Интернет-магазин «Викишоп» запускает новый сервис. Теперь пользователи могут редактировать и дополнять описания товаров, как в вики-сообществах. То есть клиенты предлагают свои правки и комментируют изменения других. Магазину нужен инструмент, который будет искать токсичные комментарии и отправлять их на модерацию. \n",
    "\n",
    "Обучите модель классифицировать комментарии на позитивные и негативные. В вашем распоряжении набор данных с разметкой о токсичности правок.\n",
    "\n",
    "Постройте модель со значением метрики качества *F1* не меньше 0.75. \n",
    "\n",
    "**Инструкция по выполнению проекта**\n",
    "\n",
    "1. Загрузите и подготовьте данные.\n",
    "2. Обучите разные модели. \n",
    "3. Сделайте выводы.\n",
    "\n",
    "Для выполнения проекта применять *BERT* необязательно, но вы можете попробовать.\n",
    "\n",
    "**Описание данных**\n",
    "\n",
    "Данные находятся в файле `toxic_comments.csv`. Столбец *text* в нём содержит текст комментария, а *toxic* — целевой признак."
   ]
  },
  {
   "cell_type": "markdown",
   "metadata": {},
   "source": [
    "## Подготовка"
   ]
  },
  {
   "cell_type": "code",
   "execution_count": 1,
   "metadata": {},
   "outputs": [
    {
     "name": "stdout",
     "output_type": "stream",
     "text": [
      "Collecting pywsd\n",
      "  Downloading pywsd-1.2.5-py3-none-any.whl (26.9 MB)\n",
      "\u001b[K     |████████████████████████████████| 26.9 MB 116 kB/s eta 0:00:01          | 12.2 MB 1.1 MB/s eta 0:00:14\n",
      "\u001b[?25hRequirement already satisfied: six in /opt/conda/lib/python3.9/site-packages (from pywsd) (1.16.0)\n",
      "Requirement already satisfied: nltk in /opt/conda/lib/python3.9/site-packages (from pywsd) (3.6.1)\n",
      "Requirement already satisfied: numpy in /opt/conda/lib/python3.9/site-packages (from pywsd) (1.21.1)\n",
      "Collecting wn==0.0.23\n",
      "  Downloading wn-0.0.23.tar.gz (31.6 MB)\n",
      "\u001b[K     |████████████████████████████████| 31.6 MB 93 kB/s  eta 0:00:01     |████████████████████▊           | 20.5 MB 1.1 MB/s eta 0:00:11\n",
      "\u001b[?25hRequirement already satisfied: pandas in /opt/conda/lib/python3.9/site-packages (from pywsd) (1.2.4)\n",
      "Requirement already satisfied: joblib in /opt/conda/lib/python3.9/site-packages (from nltk->pywsd) (1.1.0)\n",
      "Requirement already satisfied: tqdm in /opt/conda/lib/python3.9/site-packages (from nltk->pywsd) (4.61.2)\n",
      "Requirement already satisfied: regex in /opt/conda/lib/python3.9/site-packages (from nltk->pywsd) (2022.8.17)\n",
      "Requirement already satisfied: click in /opt/conda/lib/python3.9/site-packages (from nltk->pywsd) (8.1.3)\n",
      "Requirement already satisfied: python-dateutil>=2.7.3 in /opt/conda/lib/python3.9/site-packages (from pandas->pywsd) (2.8.1)\n",
      "Requirement already satisfied: pytz>=2017.3 in /opt/conda/lib/python3.9/site-packages (from pandas->pywsd) (2021.1)\n",
      "Building wheels for collected packages: wn\n",
      "  Building wheel for wn (setup.py) ... \u001b[?25ldone\n",
      "\u001b[?25h  Created wheel for wn: filename=wn-0.0.23-py3-none-any.whl size=31792943 sha256=d97c235913005b025fcdf8b59f9050396b40330fc1b20389bb8d436196f95906\n",
      "  Stored in directory: /home/jovyan/.cache/pip/wheels/cd/8b/7d/c44f094ca392bd08edcd90adf241a3484b75e2b8e205fab50a\n",
      "Successfully built wn\n",
      "Installing collected packages: wn, pywsd\n",
      "Successfully installed pywsd-1.2.5 wn-0.0.23\n"
     ]
    }
   ],
   "source": [
    "!pip install -U pywsd"
   ]
  },
  {
   "cell_type": "code",
   "execution_count": 1,
   "metadata": {},
   "outputs": [],
   "source": [
    "import pandas as pd\n",
    "import numpy as np\n",
    "import re\n",
    "import matplotlib.pyplot as plt\n",
    "import nltk\n",
    "from nltk.tokenize import word_tokenize\n",
    "from nltk.stem.wordnet import WordNetLemmatizer\n",
    "from nltk.corpus import wordnet\n",
    "lemmatizer = nltk.stem.WordNetLemmatizer()\n",
    "wordnet_lemmatizer = WordNetLemmatizer()\n",
    "from sklearn.feature_extraction.text import TfidfVectorizer\n",
    "from sklearn.model_selection import train_test_split, RandomizedSearchCV, PredefinedSplit\n",
    "from sklearn.metrics import f1_score\n",
    "from sklearn.linear_model import LogisticRegression\n",
    "from sklearn.tree import DecisionTreeClassifier\n",
    "from sklearn.dummy import DummyClassifier\n",
    "from sklearn.svm import SVC\n",
    "from scipy.sparse import vstack"
   ]
  },
  {
   "cell_type": "code",
   "execution_count": 5,
   "metadata": {},
   "outputs": [
    {
     "name": "stderr",
     "output_type": "stream",
     "text": [
      "[nltk_data] Downloading package wordnet to /home/jovyan/nltk_data...\n",
      "[nltk_data]   Package wordnet is already up-to-date!\n",
      "[nltk_data] Downloading package omw-1.4 to /home/jovyan/nltk_data...\n",
      "[nltk_data] Downloading package stopwords to /home/jovyan/nltk_data...\n",
      "[nltk_data]   Package stopwords is already up-to-date!\n"
     ]
    },
    {
     "data": {
      "text/plain": [
       "True"
      ]
     },
     "execution_count": 5,
     "metadata": {},
     "output_type": "execute_result"
    }
   ],
   "source": [
    "nltk.download('wordnet')\n",
    "nltk.download('omw-1.4')\n",
    "nltk.download('stopwords')"
   ]
  },
  {
   "cell_type": "code",
   "execution_count": 6,
   "metadata": {},
   "outputs": [],
   "source": [
    "try:\n",
    "    df = pd.read_csv('/datasets/toxic_comments.csv')\n",
    "except:\n",
    "    df = pd.read_csv('C://Users//web//Desktop//Новая папка (6)//toxic_comments.csv')"
   ]
  },
  {
   "cell_type": "code",
   "execution_count": 7,
   "metadata": {},
   "outputs": [
    {
     "data": {
      "text/html": [
       "<div>\n",
       "<style scoped>\n",
       "    .dataframe tbody tr th:only-of-type {\n",
       "        vertical-align: middle;\n",
       "    }\n",
       "\n",
       "    .dataframe tbody tr th {\n",
       "        vertical-align: top;\n",
       "    }\n",
       "\n",
       "    .dataframe thead th {\n",
       "        text-align: right;\n",
       "    }\n",
       "</style>\n",
       "<table border=\"1\" class=\"dataframe\">\n",
       "  <thead>\n",
       "    <tr style=\"text-align: right;\">\n",
       "      <th></th>\n",
       "      <th>Unnamed: 0</th>\n",
       "      <th>text</th>\n",
       "      <th>toxic</th>\n",
       "    </tr>\n",
       "  </thead>\n",
       "  <tbody>\n",
       "    <tr>\n",
       "      <th>97474</th>\n",
       "      <td>97568</td>\n",
       "      <td>\"\\n That would be, for me, like debating a cre...</td>\n",
       "      <td>0</td>\n",
       "    </tr>\n",
       "    <tr>\n",
       "      <th>119064</th>\n",
       "      <td>119169</td>\n",
       "      <td>wikipedia admins clearly abuse their power by ...</td>\n",
       "      <td>0</td>\n",
       "    </tr>\n",
       "    <tr>\n",
       "      <th>86668</th>\n",
       "      <td>86749</td>\n",
       "      <td>\"\\n\\n Kommilitonen! \\n\\nHi.  How about \"\"fello...</td>\n",
       "      <td>0</td>\n",
       "    </tr>\n",
       "    <tr>\n",
       "      <th>152534</th>\n",
       "      <td>152691</td>\n",
       "      <td>That helps! Oh, trust me, i'm never vandalizin...</td>\n",
       "      <td>0</td>\n",
       "    </tr>\n",
       "    <tr>\n",
       "      <th>117322</th>\n",
       "      <td>117421</td>\n",
       "      <td>\"\\n\\nThe number one rule of Wikipedia, as show...</td>\n",
       "      <td>0</td>\n",
       "    </tr>\n",
       "    <tr>\n",
       "      <th>138353</th>\n",
       "      <td>138504</td>\n",
       "      <td>I did NOT attack you personally.  I did NOT vi...</td>\n",
       "      <td>0</td>\n",
       "    </tr>\n",
       "    <tr>\n",
       "      <th>104256</th>\n",
       "      <td>104353</td>\n",
       "      <td>Your edit to Mikoyan MiG-31\\nWikipedia is not ...</td>\n",
       "      <td>0</td>\n",
       "    </tr>\n",
       "    <tr>\n",
       "      <th>96969</th>\n",
       "      <td>97062</td>\n",
       "      <td>Don \\n\\nNews to me.  I'll file it for future u...</td>\n",
       "      <td>0</td>\n",
       "    </tr>\n",
       "    <tr>\n",
       "      <th>124889</th>\n",
       "      <td>125018</td>\n",
       "      <td>Reporting you\\nI now reporting you. Despite be...</td>\n",
       "      <td>0</td>\n",
       "    </tr>\n",
       "    <tr>\n",
       "      <th>49870</th>\n",
       "      <td>49925</td>\n",
       "      <td>\"\\nFWIW, I think all the \"\"References\"\" in the...</td>\n",
       "      <td>0</td>\n",
       "    </tr>\n",
       "  </tbody>\n",
       "</table>\n",
       "</div>"
      ],
      "text/plain": [
       "        Unnamed: 0                                               text  toxic\n",
       "97474        97568  \"\\n That would be, for me, like debating a cre...      0\n",
       "119064      119169  wikipedia admins clearly abuse their power by ...      0\n",
       "86668        86749  \"\\n\\n Kommilitonen! \\n\\nHi.  How about \"\"fello...      0\n",
       "152534      152691  That helps! Oh, trust me, i'm never vandalizin...      0\n",
       "117322      117421  \"\\n\\nThe number one rule of Wikipedia, as show...      0\n",
       "138353      138504  I did NOT attack you personally.  I did NOT vi...      0\n",
       "104256      104353  Your edit to Mikoyan MiG-31\\nWikipedia is not ...      0\n",
       "96969        97062  Don \\n\\nNews to me.  I'll file it for future u...      0\n",
       "124889      125018  Reporting you\\nI now reporting you. Despite be...      0\n",
       "49870        49925  \"\\nFWIW, I think all the \"\"References\"\" in the...      0"
      ]
     },
     "execution_count": 7,
     "metadata": {},
     "output_type": "execute_result"
    }
   ],
   "source": [
    "df.sample(10)"
   ]
  },
  {
   "cell_type": "code",
   "execution_count": 8,
   "metadata": {
    "scrolled": true
   },
   "outputs": [
    {
     "name": "stdout",
     "output_type": "stream",
     "text": [
      "<class 'pandas.core.frame.DataFrame'>\n",
      "RangeIndex: 159292 entries, 0 to 159291\n",
      "Data columns (total 3 columns):\n",
      " #   Column      Non-Null Count   Dtype \n",
      "---  ------      --------------   ----- \n",
      " 0   Unnamed: 0  159292 non-null  int64 \n",
      " 1   text        159292 non-null  object\n",
      " 2   toxic       159292 non-null  int64 \n",
      "dtypes: int64(2), object(1)\n",
      "memory usage: 3.6+ MB\n"
     ]
    }
   ],
   "source": [
    "df.info()"
   ]
  },
  {
   "cell_type": "code",
   "execution_count": 9,
   "metadata": {
    "scrolled": true
   },
   "outputs": [
    {
     "data": {
      "text/plain": [
       "0"
      ]
     },
     "execution_count": 9,
     "metadata": {},
     "output_type": "execute_result"
    }
   ],
   "source": [
    "df.duplicated().sum()"
   ]
  },
  {
   "cell_type": "markdown",
   "metadata": {},
   "source": [
    "**Балланс классов**"
   ]
  },
  {
   "cell_type": "code",
   "execution_count": 10,
   "metadata": {},
   "outputs": [
    {
     "data": {
      "image/png": "[encoded data removed]",
      "text/plain": [
       "<Figure size 432x288 with 1 Axes>"
      ]
     },
     "metadata": {
      "needs_background": "light"
     },
     "output_type": "display_data"
    }
   ],
   "source": [
    "df['toxic'].hist(bins=2)\n",
    "plt.title('Соотношение токсичных/нейтральных коментариев')\n",
    "plt.xlabel('Коментарии')\n",
    "plt.ylabel('Количество')\n",
    "plt.show()"
   ]
  },
  {
   "cell_type": "code",
   "execution_count": 11,
   "metadata": {},
   "outputs": [
    {
     "name": "stderr",
     "output_type": "stream",
     "text": [
      "[nltk_data] Downloading package averaged_perceptron_tagger to\n",
      "[nltk_data]     /home/jovyan/nltk_data...\n",
      "[nltk_data]   Package averaged_perceptron_tagger is already up-to-\n",
      "[nltk_data]       date!\n"
     ]
    },
    {
     "data": {
      "text/plain": [
       "True"
      ]
     },
     "execution_count": 11,
     "metadata": {},
     "output_type": "execute_result"
    }
   ],
   "source": [
    "nltk.download('averaged_perceptron_tagger')"
   ]
  },
  {
   "cell_type": "code",
   "execution_count": 12,
   "metadata": {},
   "outputs": [
    {
     "data": {
      "text/plain": [
       "0.11310497114027364"
      ]
     },
     "execution_count": 12,
     "metadata": {},
     "output_type": "execute_result"
    }
   ],
   "source": [
    "df[df['toxic'] == 1]['toxic'].count() / df[df['toxic'] == 0]['toxic'].count()"
   ]
  },
  {
   "cell_type": "markdown",
   "metadata": {},
   "source": [
    "**Длина коментария**"
   ]
  },
  {
   "cell_type": "code",
   "execution_count": 13,
   "metadata": {},
   "outputs": [
    {
     "data": {
      "text/html": [
       "<div>\n",
       "<style scoped>\n",
       "    .dataframe tbody tr th:only-of-type {\n",
       "        vertical-align: middle;\n",
       "    }\n",
       "\n",
       "    .dataframe tbody tr th {\n",
       "        vertical-align: top;\n",
       "    }\n",
       "\n",
       "    .dataframe thead th {\n",
       "        text-align: right;\n",
       "    }\n",
       "</style>\n",
       "<table border=\"1\" class=\"dataframe\">\n",
       "  <thead>\n",
       "    <tr style=\"text-align: right;\">\n",
       "      <th></th>\n",
       "      <th>Токсичный</th>\n",
       "      <th>Не токсичный</th>\n",
       "    </tr>\n",
       "  </thead>\n",
       "  <tbody>\n",
       "    <tr>\n",
       "      <th>средняя длинна</th>\n",
       "      <td>302.932411</td>\n",
       "      <td>403.956585</td>\n",
       "    </tr>\n",
       "    <tr>\n",
       "      <th>медианная длинна</th>\n",
       "      <td>128.000000</td>\n",
       "      <td>216.000000</td>\n",
       "    </tr>\n",
       "  </tbody>\n",
       "</table>\n",
       "</div>"
      ],
      "text/plain": [
       "                   Токсичный  Не токсичный\n",
       "средняя длинна    302.932411    403.956585\n",
       "медианная длинна  128.000000    216.000000"
      ]
     },
     "execution_count": 13,
     "metadata": {},
     "output_type": "execute_result"
    }
   ],
   "source": [
    "pd.DataFrame(data=[[df[df['toxic'] == 1]['text'].apply(len).mean(), df[df['toxic'] == 0]['text'].apply(len).mean()],\n",
    "                   [df[df['toxic'] == 1]['text'].apply(len).median(), df[df['toxic'] == 0]['text'].apply(len).median()]],\n",
    "             index=['средняя длинна','медианная длинна'],\n",
    "             columns=['Токсичный','Не токсичный']\n",
    "            )"
   ]
  },
  {
   "cell_type": "markdown",
   "metadata": {},
   "source": [
    "Посмотрим какие слова чаще всего встречаются в коментариях"
   ]
  },
  {
   "cell_type": "code",
   "execution_count": 14,
   "metadata": {},
   "outputs": [
    {
     "data": {
      "text/plain": [
       "0         Explanation Why the edits make under my userna...\n",
       "1         D'aww ! He match this background colour I 'm s...\n",
       "2         Hey man , I 'm really not try to edit war . It...\n",
       "3         `` More I ca n't make any real suggestion on i...\n",
       "4         You , sir , be my hero . Any chance you rememb...\n",
       "                                ...                        \n",
       "159287    `` : : : : : And for the second time of ask , ...\n",
       "159288    You should be ashamed of yourself That be a ho...\n",
       "159289    Spitzer Umm , theres no actual article for pro...\n",
       "159290    And it look like it be actually you who put on...\n",
       "159291    `` And ... I really do n't think you understan...\n",
       "Name: text, Length: 159292, dtype: object"
      ]
     },
     "execution_count": 14,
     "metadata": {},
     "output_type": "execute_result"
    }
   ],
   "source": [
    "def nltk_tag_to_wordnet_tag(nltk_tag):\n",
    "    if nltk_tag.startswith('J'):\n",
    "        return wordnet.ADJ\n",
    "    elif nltk_tag.startswith('V'):\n",
    "        return wordnet.VERB\n",
    "    elif nltk_tag.startswith('N'):\n",
    "        return wordnet.NOUN\n",
    "    elif nltk_tag.startswith('R'):\n",
    "        return wordnet.ADV\n",
    "    else:\n",
    "        return None\n",
    "\n",
    "def lemmatize_sentence(sentence):\n",
    "    #tokenize the sentence and find the POS tag for each token\n",
    "    nltk_tagged = nltk.pos_tag(nltk.word_tokenize(sentence))\n",
    "    #tuple of (token, wordnet_tag)\n",
    "    wordnet_tagged = map(lambda x: (x[0], nltk_tag_to_wordnet_tag(x[1])), nltk_tagged)\n",
    "    lemmatized_sentence = []\n",
    "    for word, tag in wordnet_tagged:\n",
    "        if tag is None:\n",
    "            #if there is no available tag, append the token as is\n",
    "            lemmatized_sentence.append(word)\n",
    "        else:\n",
    "            #else use the tag to lemmatize the token\n",
    "            lemmatized_sentence.append(lemmatizer.lemmatize(word, tag))\n",
    "    return \" \".join(lemmatized_sentence)\n",
    "# Lemmatizing\n",
    "features = df['text'].apply(lambda x: lemmatize_sentence(x))\n",
    "features"
   ]
  },
  {
   "cell_type": "markdown",
   "metadata": {},
   "source": [
    "Разделим набор данных на выборки\n",
    "\n",
    "- Тренировачную\n",
    "\n",
    "- Валидационную\n",
    "\n",
    "- Тестовую"
   ]
  },
  {
   "cell_type": "code",
   "execution_count": 16,
   "metadata": {},
   "outputs": [
    {
     "name": "stdout",
     "output_type": "stream",
     "text": [
      "CPU times: user 40.2 s, sys: 1.03 s, total: 41.2 s\n",
      "Wall time: 41.4 s\n"
     ]
    }
   ],
   "source": [
    "%%time\n",
    "# Создаём выборки\n",
    "\n",
    "features_train, features_valid, target_train, target_valid = train_test_split(features, \n",
    "                                                                              df['toxic'], \n",
    "                                                                              test_size=0.2, \n",
    "                                                                              random_state=123)\n",
    "features_valid, features_test, target_valid, target_test = train_test_split(features_valid, \n",
    "                                                                            target_valid, \n",
    "                                                                            test_size=0.5, \n",
    "                                                                            random_state=123)\n",
    "# Векторизация текста\n",
    "vectorizer = TfidfVectorizer(ngram_range=(1,2), max_features=50000)\n",
    "\n",
    "features_train_vect = vectorizer.fit_transform(features_train)\n",
    "features_valid_vect = vectorizer.transform(features_valid)\n",
    "features_test_vect = vectorizer.transform(features_test)"
   ]
  },
  {
   "cell_type": "markdown",
   "metadata": {},
   "source": [
    "### Вывод\n",
    "\n",
    "- Данные загружены и изучены\n",
    "\n",
    "- В столбце **text** указан сам коментарий,а в столбце **toxic** обозначено токсичный он или нет\n",
    "\n",
    "- Токсичных коментариев в 10 раз больше чем нетоксичных\n",
    "\n",
    "- Длина токсичного комента на 1/3 меньше чем не ткосичного\n",
    "\n",
    "- Составлены облака слов токсичных и нейтралтных коментариев\n",
    "\n",
    "- Выборки подготовлены"
   ]
  },
  {
   "cell_type": "markdown",
   "metadata": {},
   "source": [
    "## Обучение"
   ]
  },
  {
   "cell_type": "markdown",
   "metadata": {},
   "source": [
    "Рассмотрим 2 варианта решений\n",
    "\n",
    "- Логистическая регрессия\n",
    "\n",
    "- Дерево решений\n",
    "\n",
    "(Пробовал обучить на  BERT но эмбендинги показали мне 13 часов- отказался от этого варианта)\n",
    "\n",
    "Так же чт обы не дублировать код напишем 2 функции для подсчета ф1 метркии"
   ]
  },
  {
   "cell_type": "code",
   "execution_count": 17,
   "metadata": {},
   "outputs": [],
   "source": [
    "def get_f1_valid(model, X, y, X_test, y_test):\n",
    "    model.fit(X, y)\n",
    "    predictions = model.predict(X_test)\n",
    "     \n",
    "    return round(f1_score(y_test, predictions), 3)"
   ]
  },
  {
   "cell_type": "code",
   "execution_count": 18,
   "metadata": {},
   "outputs": [],
   "source": [
    "def get_f1_cv(model, \n",
    "              parametrs, \n",
    "              X=vstack((features_train_vect, features_valid_vect)), \n",
    "              y=pd.concat([target_train, target_valid])):\n",
    "    validation_set_indexes = [-1]*features_train_vect.shape[0] + [0]*features_valid_vect.shape[0]\n",
    "    ps = PredefinedSplit(test_fold=validation_set_indexes)\n",
    "    \n",
    "    rs = RandomizedSearchCV(model, \n",
    "                            parametrs, \n",
    "                            scoring='f1', \n",
    "                            cv=ps,\n",
    "                            random_state = 123,\n",
    "                            n_jobs=-1\n",
    "                           )\n",
    "    rs.fit(X, y)\n",
    "    \n",
    "    return round(rs.best_score_, 3), rs.best_params_"
   ]
  },
  {
   "cell_type": "markdown",
   "metadata": {},
   "source": [
    "**Логистическая регрессия**"
   ]
  },
  {
   "cell_type": "code",
   "execution_count": 19,
   "metadata": {},
   "outputs": [
    {
     "name": "stdout",
     "output_type": "stream",
     "text": [
      "CPU times: user 26.9 s, sys: 45.8 s, total: 1min 12s\n",
      "Wall time: 1min 17s\n"
     ]
    },
    {
     "data": {
      "text/plain": [
       "0.735"
      ]
     },
     "execution_count": 19,
     "metadata": {},
     "output_type": "execute_result"
    }
   ],
   "source": [
    "%%time\n",
    "get_f1_valid(LogisticRegression(max_iter=2000, random_state=123), \n",
    "             X=features_train_vect, \n",
    "             y=target_train, \n",
    "             X_test=features_valid_vect, \n",
    "             y_test=target_valid\n",
    "            )"
   ]
  },
  {
   "cell_type": "code",
   "execution_count": 20,
   "metadata": {},
   "outputs": [
    {
     "name": "stdout",
     "output_type": "stream",
     "text": [
      "CPU times: user 9min 14s, sys: 14min 56s, total: 24min 10s\n",
      "Wall time: 31min 51s\n"
     ]
    },
    {
     "data": {
      "text/plain": [
       "(0.78, {'C': 15})"
      ]
     },
     "execution_count": 20,
     "metadata": {},
     "output_type": "execute_result"
    }
   ],
   "source": [
    "%%time\n",
    "# Кэф регурялизации\n",
    "get_f1_cv(LogisticRegression(max_iter=2000, random_state=123),\n",
    "          {'C':[2,3,4,5,7,10,15,20,40,50]}\n",
    "         )"
   ]
  },
  {
   "cell_type": "code",
   "execution_count": 18,
   "metadata": {},
   "outputs": [
    {
     "name": "stdout",
     "output_type": "stream",
     "text": [
      "CPU times: user 1min 5s, sys: 1min 10s, total: 2min 15s\n",
      "Wall time: 2min 16s\n"
     ]
    },
    {
     "data": {
      "text/plain": [
       "0.779"
      ]
     },
     "execution_count": 18,
     "metadata": {},
     "output_type": "execute_result"
    }
   ],
   "source": [
    "%%time\n",
    "# С гипппер параметрами\n",
    "get_f1_valid(LogisticRegression(max_iter=2000, C=10, random_state=123), \n",
    "             X=features_train_vect, \n",
    "             y=target_train, \n",
    "             X_test=features_valid_vect, \n",
    "             y_test=target_valid\n",
    "            )"
   ]
  },
  {
   "cell_type": "markdown",
   "metadata": {},
   "source": [
    "Логистическая регрессия с регурялизацией решает задачу"
   ]
  },
  {
   "cell_type": "markdown",
   "metadata": {},
   "source": [
    "**Дерево решений**"
   ]
  },
  {
   "cell_type": "code",
   "execution_count": 19,
   "metadata": {},
   "outputs": [
    {
     "name": "stdout",
     "output_type": "stream",
     "text": [
      "CPU times: user 41.2 s, sys: 49 ms, total: 41.3 s\n",
      "Wall time: 41.3 s\n"
     ]
    },
    {
     "data": {
      "text/plain": [
       "0.666"
      ]
     },
     "execution_count": 19,
     "metadata": {},
     "output_type": "execute_result"
    }
   ],
   "source": [
    "%%time\n",
    "get_f1_valid(DecisionTreeClassifier(max_depth=30, random_state=123), \n",
    "             X=features_train_vect, \n",
    "             y=target_train, \n",
    "             X_test=features_valid_vect, \n",
    "             y_test=target_valid\n",
    "            )"
   ]
  },
  {
   "cell_type": "code",
   "execution_count": null,
   "metadata": {},
   "outputs": [],
   "source": [
    "%%time\n",
    "# Подбор глубина \n",
    "get_f1_cv(DecisionTreeClassifier(random_state=123),\n",
    "          {'max_depth': range(2,50)}\n",
    "         )"
   ]
  },
  {
   "cell_type": "code",
   "execution_count": null,
   "metadata": {},
   "outputs": [],
   "source": [
    "%%time\n",
    "# Модель с подобранными гиперпараметрами\n",
    "get_f1_valid(DecisionTreeClassifier(max_depth=42, random_state=123), \n",
    "             X=features_train_vect, \n",
    "             y=target_train, \n",
    "             X_test=features_valid_vect, \n",
    "             y_test=target_valid\n",
    "            )"
   ]
  },
  {
   "cell_type": "markdown",
   "metadata": {},
   "source": [
    "Решающее дерево не решает нашу задачу"
   ]
  },
  {
   "cell_type": "markdown",
   "metadata": {},
   "source": [
    "### Тестирование"
   ]
  },
  {
   "cell_type": "code",
   "execution_count": null,
   "metadata": {},
   "outputs": [],
   "source": [
    "%%time\n",
    "get_f1_valid(LogisticRegression(max_iter=2000, C=10, random_state=123),\n",
    "             X=vstack((features_train_vect, features_valid_vect)), \n",
    "             y=pd.concat([target_train, target_valid]),\n",
    "             X_test=features_test_vect,\n",
    "             y_test=target_test\n",
    "            )"
   ]
  },
  {
   "cell_type": "markdown",
   "metadata": {},
   "source": [
    "Проверка работаспособностьв  сравнении с консстантной моделью"
   ]
  },
  {
   "cell_type": "code",
   "execution_count": null,
   "metadata": {},
   "outputs": [],
   "source": [
    "%%time\n",
    "get_f1_valid(DummyClassifier(strategy='most_frequent'),\n",
    "             X=vstack((features_train_vect, features_valid_vect)), \n",
    "             y=pd.concat([target_train, target_valid]),\n",
    "             X_test=features_test_vect,\n",
    "             y_test=target_test\n",
    "            )"
   ]
  },
  {
   "cell_type": "markdown",
   "metadata": {},
   "source": [
    "## Выводы"
   ]
  },
  {
   "cell_type": "markdown",
   "metadata": {},
   "source": [
    "И так  исходя из проекта можно сделать выводы\n",
    "\n",
    "В пункте подготовки данных было выполнено \n",
    "\n",
    "- Данные загружены и изучены\n",
    "\n",
    "- В столбце **text** указан сам коментарий,а в столбце **toxic** обозначено токсичный он или нет\n",
    "\n",
    "- Токсичных коментариев в 10 раз больше чем нетоксичных\n",
    "\n",
    "- Длина токсичного комента на 1/3 меньше чем не ткосичного\n",
    "\n",
    "- Составлены облака слов токсичных и нейтралтных коментариев\n",
    "\n",
    "- Выборки подготовлены\n",
    "\n",
    "В Пункте обучение было выполенено и иследовано\n",
    "\n",
    " Рассмотрены 2 варианта\n",
    " \n",
    " - Логистическа регрессия \n",
    " \n",
    " - Дерево решений\n",
    " \n",
    " Логистическая регрессия показала такое же качество модели как и на тренировачной выборки,констаная модель не стоит и близко к нашей. На качество работы нашей модели повлияли не только подобраннные гиперпараметры самой модели, но и подготовка данных.\n",
    " \n",
    " Векторизация TF-IDF (Логистическая регрессия с кэф с=10) успешно справилась с нашим заданием\n",
    " \n",
    " "
   ]
  },
  {
   "cell_type": "markdown",
   "metadata": {},
   "source": [
    "## Чек-лист проверки"
   ]
  },
  {
   "cell_type": "markdown",
   "metadata": {},
   "source": [
    "- [x]  Jupyter Notebook открыт\n",
    "- [x]  Весь код выполняется без ошибок\n",
    "- [x]  Ячейки с кодом расположены в порядке исполнения\n",
    "- [x]  Данные загружены и подготовлены\n",
    "- [x]  Модели обучены\n",
    "- [x]  Значение метрики *F1* не меньше 0.75\n",
    "- [x]  Выводы написаны"
   ]
  }
 ],
 "metadata": {
  "ExecuteTimeLog": [
   {
    "duration": 4266,
    "start_time": "2023-07-07T11:43:56.985Z"
   },
   {
    "duration": 6802,
    "start_time": "2023-07-07T11:44:31.242Z"
   },
   {
    "duration": 6299,
    "start_time": "2023-07-07T11:44:48.033Z"
   },
   {
    "duration": 201,
    "start_time": "2023-07-07T11:44:54.335Z"
   },
   {
    "duration": 394,
    "start_time": "2023-07-07T11:44:54.538Z"
   },
   {
    "duration": 2506,
    "start_time": "2023-07-07T11:44:54.935Z"
   },
   {
    "duration": 1296,
    "start_time": "2023-07-07T11:44:57.443Z"
   },
   {
    "duration": 206,
    "start_time": "2023-07-07T11:45:01.134Z"
   },
   {
    "duration": 2007,
    "start_time": "2023-07-07T11:45:04.834Z"
   },
   {
    "duration": 2002,
    "start_time": "2023-07-07T11:45:06.933Z"
   },
   {
    "duration": 2201,
    "start_time": "2023-07-07T11:45:08.937Z"
   },
   {
    "duration": 55977,
    "start_time": "2023-07-07T11:45:19.433Z"
   },
   {
    "duration": 23944,
    "start_time": "2023-07-07T11:46:15.412Z"
   },
   {
    "duration": 3,
    "start_time": "2023-07-07T11:46:39.358Z"
   },
   {
    "duration": 45,
    "start_time": "2023-07-07T11:46:39.362Z"
   },
   {
    "duration": 3096,
    "start_time": "2023-07-07T14:25:37.188Z"
   },
   {
    "duration": 3509,
    "start_time": "2023-07-07T14:26:13.095Z"
   },
   {
    "duration": 5820,
    "start_time": "2023-07-07T14:26:21.219Z"
   },
   {
    "duration": 6,
    "start_time": "2023-07-07T14:28:34.407Z"
   },
   {
    "duration": 2445,
    "start_time": "2023-07-07T14:28:58.064Z"
   },
   {
    "duration": 315,
    "start_time": "2023-07-07T15:31:41.315Z"
   },
   {
    "duration": 5,
    "start_time": "2023-07-07T15:31:45.744Z"
   },
   {
    "duration": 25,
    "start_time": "2023-07-07T15:31:50.038Z"
   },
   {
    "duration": 103285,
    "start_time": "2023-07-07T15:36:27.091Z"
   },
   {
    "duration": 0,
    "start_time": "2023-07-07T15:38:10.381Z"
   },
   {
    "duration": 8,
    "start_time": "2023-07-07T15:38:33.106Z"
   },
   {
    "duration": 40,
    "start_time": "2023-07-07T15:38:37.040Z"
   },
   {
    "duration": 7,
    "start_time": "2023-07-07T15:38:56.158Z"
   },
   {
    "duration": 27,
    "start_time": "2023-07-07T15:38:58.257Z"
   },
   {
    "duration": 1072,
    "start_time": "2023-07-07T15:39:05.574Z"
   },
   {
    "duration": 24,
    "start_time": "2023-07-07T15:39:07.653Z"
   },
   {
    "duration": 6033,
    "start_time": "2023-07-07T15:39:08.060Z"
   },
   {
    "duration": 275,
    "start_time": "2023-07-07T15:39:14.095Z"
   },
   {
    "duration": 2744,
    "start_time": "2023-07-07T15:43:44.443Z"
   },
   {
    "duration": 11207,
    "start_time": "2023-07-07T15:43:48.967Z"
   },
   {
    "duration": 413,
    "start_time": "2023-07-07T15:44:03.943Z"
   },
   {
    "duration": 3291,
    "start_time": "2023-07-07T15:44:07.965Z"
   },
   {
    "duration": 20,
    "start_time": "2023-07-07T15:44:11.259Z"
   },
   {
    "duration": 53,
    "start_time": "2023-07-07T15:44:12.992Z"
   },
   {
    "duration": 317,
    "start_time": "2023-07-07T15:44:13.683Z"
   },
   {
    "duration": 2692,
    "start_time": "2023-07-07T15:56:48.998Z"
   },
   {
    "duration": 11001,
    "start_time": "2023-07-07T15:56:51.693Z"
   },
   {
    "duration": 392,
    "start_time": "2023-07-07T15:57:02.696Z"
   },
   {
    "duration": 5,
    "start_time": "2023-07-07T15:57:11.441Z"
   },
   {
    "duration": 2703,
    "start_time": "2023-07-07T15:57:15.753Z"
   },
   {
    "duration": 42,
    "start_time": "2023-07-07T15:57:43.107Z"
   },
   {
    "duration": 3517,
    "start_time": "2023-07-07T15:57:45.677Z"
   },
   {
    "duration": 21,
    "start_time": "2023-07-07T15:57:53.964Z"
   },
   {
    "duration": 38,
    "start_time": "2023-07-07T15:57:54.941Z"
   },
   {
    "duration": 280,
    "start_time": "2023-07-07T15:57:57.235Z"
   },
   {
    "duration": 393,
    "start_time": "2023-07-07T15:58:07.197Z"
   },
   {
    "duration": 256,
    "start_time": "2023-07-07T15:58:29.271Z"
   },
   {
    "duration": 200,
    "start_time": "2023-07-07T15:59:27.803Z"
   },
   {
    "duration": 187,
    "start_time": "2023-07-07T15:59:45.153Z"
   },
   {
    "duration": 20360,
    "start_time": "2023-07-07T16:25:51.744Z"
   },
   {
    "duration": 10688,
    "start_time": "2023-07-07T16:27:20.372Z"
   },
   {
    "duration": 9,
    "start_time": "2023-07-07T16:27:54.663Z"
   },
   {
    "duration": 69,
    "start_time": "2023-07-07T16:27:58.875Z"
   },
   {
    "duration": 1073,
    "start_time": "2023-07-07T16:27:59.267Z"
   },
   {
    "duration": 16,
    "start_time": "2023-07-07T16:28:00.344Z"
   },
   {
    "duration": 49,
    "start_time": "2023-07-07T16:28:00.517Z"
   },
   {
    "duration": 301,
    "start_time": "2023-07-07T16:28:00.930Z"
   },
   {
    "duration": 230,
    "start_time": "2023-07-07T16:28:02.006Z"
   },
   {
    "duration": 31,
    "start_time": "2023-07-07T16:28:06.561Z"
   },
   {
    "duration": 225,
    "start_time": "2023-07-07T16:28:07.534Z"
   },
   {
    "duration": 151,
    "start_time": "2023-07-07T16:28:41.335Z"
   },
   {
    "duration": 107,
    "start_time": "2023-07-07T16:30:55.579Z"
   },
   {
    "duration": 53698,
    "start_time": "2023-07-07T16:31:00.164Z"
   },
   {
    "duration": 12501,
    "start_time": "2023-07-07T16:36:06.987Z"
   },
   {
    "duration": 128,
    "start_time": "2023-07-07T16:36:55.973Z"
   },
   {
    "duration": 89,
    "start_time": "2023-07-07T16:37:07.425Z"
   },
   {
    "duration": 120,
    "start_time": "2023-07-07T16:37:11.583Z"
   },
   {
    "duration": 541,
    "start_time": "2023-07-07T16:39:51.985Z"
   },
   {
    "duration": 125,
    "start_time": "2023-07-07T16:40:01.230Z"
   },
   {
    "duration": 3059,
    "start_time": "2023-07-07T16:40:05.429Z"
   },
   {
    "duration": 82,
    "start_time": "2023-07-07T16:40:27.829Z"
   },
   {
    "duration": 942,
    "start_time": "2023-07-07T16:41:58.034Z"
   },
   {
    "duration": 3619,
    "start_time": "2023-07-07T16:42:36.318Z"
   },
   {
    "duration": 122,
    "start_time": "2023-07-07T16:42:42.909Z"
   },
   {
    "duration": 909,
    "start_time": "2023-07-07T16:42:49.729Z"
   },
   {
    "duration": 95,
    "start_time": "2023-07-07T16:44:13.860Z"
   },
   {
    "duration": 79,
    "start_time": "2023-07-07T16:44:25.246Z"
   },
   {
    "duration": 3437,
    "start_time": "2023-07-07T16:44:28.179Z"
   },
   {
    "duration": 21333,
    "start_time": "2023-07-07T16:44:37.940Z"
   },
   {
    "duration": 534,
    "start_time": "2023-07-07T16:45:43.129Z"
   },
   {
    "duration": 222,
    "start_time": "2023-07-07T16:46:24.077Z"
   },
   {
    "duration": 1805,
    "start_time": "2023-07-07T16:47:13.697Z"
   },
   {
    "duration": 562,
    "start_time": "2023-07-07T16:50:06.390Z"
   },
   {
    "duration": 515,
    "start_time": "2023-07-07T16:50:26.400Z"
   },
   {
    "duration": 581,
    "start_time": "2023-07-07T16:50:47.180Z"
   },
   {
    "duration": 517,
    "start_time": "2023-07-07T16:52:53.661Z"
   },
   {
    "duration": 53853,
    "start_time": "2023-07-07T16:57:16.335Z"
   },
   {
    "duration": 6,
    "start_time": "2023-07-07T16:58:24.793Z"
   },
   {
    "duration": 823,
    "start_time": "2023-07-07T16:58:25.727Z"
   },
   {
    "duration": 0,
    "start_time": "2023-07-07T16:58:26.552Z"
   },
   {
    "duration": 5,
    "start_time": "2023-07-07T16:58:32.586Z"
   },
   {
    "duration": 360,
    "start_time": "2023-07-07T16:58:35.061Z"
   },
   {
    "duration": 1155,
    "start_time": "2023-07-07T16:58:36.089Z"
   },
   {
    "duration": 19,
    "start_time": "2023-07-07T16:58:38.180Z"
   },
   {
    "duration": 53,
    "start_time": "2023-07-07T16:58:38.563Z"
   },
   {
    "duration": 280,
    "start_time": "2023-07-07T16:58:38.967Z"
   },
   {
    "duration": 298,
    "start_time": "2023-07-07T16:58:40.602Z"
   },
   {
    "duration": 37,
    "start_time": "2023-07-07T16:58:42.458Z"
   },
   {
    "duration": 264,
    "start_time": "2023-07-07T16:58:43.480Z"
   },
   {
    "duration": 68324,
    "start_time": "2023-07-07T16:59:15.779Z"
   },
   {
    "duration": 28,
    "start_time": "2023-07-07T17:00:36.339Z"
   },
   {
    "duration": 912,
    "start_time": "2023-07-07T17:00:37.777Z"
   },
   {
    "duration": 112,
    "start_time": "2023-07-07T17:02:56.365Z"
   },
   {
    "duration": 12886,
    "start_time": "2023-07-07T17:03:01.004Z"
   },
   {
    "duration": 690,
    "start_time": "2023-07-07T17:03:18.404Z"
   },
   {
    "duration": 171,
    "start_time": "2023-07-07T17:05:07.875Z"
   },
   {
    "duration": 154,
    "start_time": "2023-07-07T17:05:35.990Z"
   },
   {
    "duration": 3581,
    "start_time": "2023-07-07T17:05:39.153Z"
   },
   {
    "duration": 3474,
    "start_time": "2023-07-07T17:05:51.384Z"
   },
   {
    "duration": 4340,
    "start_time": "2023-07-07T17:06:54.429Z"
   },
   {
    "duration": 19,
    "start_time": "2023-07-07T17:07:21.809Z"
   },
   {
    "duration": 12,
    "start_time": "2023-07-07T17:07:22.837Z"
   },
   {
    "duration": 2016,
    "start_time": "2023-07-07T17:07:23.236Z"
   },
   {
    "duration": 29,
    "start_time": "2023-07-07T17:07:25.257Z"
   },
   {
    "duration": 101,
    "start_time": "2023-07-07T17:07:25.289Z"
   },
   {
    "duration": 379,
    "start_time": "2023-07-07T17:07:25.394Z"
   },
   {
    "duration": 445,
    "start_time": "2023-07-07T17:07:25.784Z"
   },
   {
    "duration": 42,
    "start_time": "2023-07-07T17:07:30.154Z"
   },
   {
    "duration": 278,
    "start_time": "2023-07-07T17:07:31.045Z"
   },
   {
    "duration": 731,
    "start_time": "2023-07-07T17:07:38.522Z"
   },
   {
    "duration": 558,
    "start_time": "2023-07-07T17:07:41.969Z"
   },
   {
    "duration": 63654,
    "start_time": "2023-07-07T17:07:46.264Z"
   },
   {
    "duration": 9,
    "start_time": "2023-07-07T17:08:55.439Z"
   },
   {
    "duration": 3467,
    "start_time": "2023-07-07T17:08:56.461Z"
   },
   {
    "duration": 751,
    "start_time": "2023-07-07T17:09:05.473Z"
   },
   {
    "duration": 8,
    "start_time": "2023-07-07T17:10:04.098Z"
   },
   {
    "duration": 6243,
    "start_time": "2023-07-07T17:10:25.815Z"
   },
   {
    "duration": 37886,
    "start_time": "2023-07-07T17:10:40.072Z"
   },
   {
    "duration": 6,
    "start_time": "2023-07-07T17:11:51.638Z"
   },
   {
    "duration": 75,
    "start_time": "2023-07-07T17:11:52.900Z"
   },
   {
    "duration": 56177,
    "start_time": "2023-07-07T17:11:56.371Z"
   },
   {
    "duration": 138660,
    "start_time": "2023-07-07T17:13:16.954Z"
   },
   {
    "duration": 574,
    "start_time": "2023-07-07T17:25:22.791Z"
   },
   {
    "duration": 473,
    "start_time": "2023-07-07T17:25:24.796Z"
   },
   {
    "duration": 3223,
    "start_time": "2023-07-07T19:14:39.944Z"
   },
   {
    "duration": 1956,
    "start_time": "2023-07-08T05:32:08.556Z"
   },
   {
    "duration": 628,
    "start_time": "2023-07-08T05:32:58.026Z"
   },
   {
    "duration": 90,
    "start_time": "2023-07-08T05:33:07.194Z"
   },
   {
    "duration": 3768,
    "start_time": "2023-07-08T05:33:16.078Z"
   },
   {
    "duration": 14761,
    "start_time": "2023-07-08T05:33:21.974Z"
   },
   {
    "duration": 27,
    "start_time": "2023-07-08T05:34:50.330Z"
   },
   {
    "duration": 15088,
    "start_time": "2023-07-08T05:35:38.005Z"
   },
   {
    "duration": 8911,
    "start_time": "2023-07-08T05:35:54.212Z"
   },
   {
    "duration": 1120,
    "start_time": "2023-07-08T05:36:08.164Z"
   },
   {
    "duration": 4,
    "start_time": "2023-07-08T05:36:14.670Z"
   },
   {
    "duration": 1212,
    "start_time": "2023-07-08T05:36:21.510Z"
   },
   {
    "duration": 3250,
    "start_time": "2023-07-08T05:36:22.724Z"
   },
   {
    "duration": 19,
    "start_time": "2023-07-08T05:36:25.976Z"
   },
   {
    "duration": 42,
    "start_time": "2023-07-08T05:36:25.998Z"
   },
   {
    "duration": 264,
    "start_time": "2023-07-08T05:36:26.042Z"
   },
   {
    "duration": 184,
    "start_time": "2023-07-08T05:36:26.308Z"
   },
   {
    "duration": 22,
    "start_time": "2023-07-08T05:36:28.515Z"
   },
   {
    "duration": 150,
    "start_time": "2023-07-08T05:36:29.682Z"
   },
   {
    "duration": 661,
    "start_time": "2023-07-08T05:36:33.366Z"
   },
   {
    "duration": 400,
    "start_time": "2023-07-08T05:36:35.157Z"
   },
   {
    "duration": 103,
    "start_time": "2023-07-08T05:37:22.867Z"
   },
   {
    "duration": 58,
    "start_time": "2023-07-08T05:37:46.084Z"
   },
   {
    "duration": 4,
    "start_time": "2023-07-08T05:37:53.850Z"
   },
   {
    "duration": 67,
    "start_time": "2023-07-08T05:38:25.988Z"
   },
   {
    "duration": 4,
    "start_time": "2023-07-08T05:38:30.613Z"
   },
   {
    "duration": 334,
    "start_time": "2023-07-08T05:39:01.688Z"
   },
   {
    "duration": 80,
    "start_time": "2023-07-08T05:39:50.027Z"
   },
   {
    "duration": 396,
    "start_time": "2023-07-08T05:39:53.123Z"
   },
   {
    "duration": 21,
    "start_time": "2023-07-08T05:40:58.909Z"
   },
   {
    "duration": 30,
    "start_time": "2023-07-08T05:41:04.095Z"
   },
   {
    "duration": 39,
    "start_time": "2023-07-08T05:41:12.716Z"
   },
   {
    "duration": 134,
    "start_time": "2023-07-08T05:47:38.685Z"
   },
   {
    "duration": 1007,
    "start_time": "2023-07-08T05:48:24.349Z"
   },
   {
    "duration": 900,
    "start_time": "2023-07-08T05:48:30.852Z"
   },
   {
    "duration": 34934,
    "start_time": "2023-07-08T05:48:47.386Z"
   },
   {
    "duration": 127,
    "start_time": "2023-07-08T05:51:29.182Z"
   },
   {
    "duration": 10669,
    "start_time": "2023-07-08T05:51:49.186Z"
   },
   {
    "duration": 7997,
    "start_time": "2023-07-08T05:56:50.008Z"
   },
   {
    "duration": 78,
    "start_time": "2023-07-08T05:57:06.227Z"
   },
   {
    "duration": 2043,
    "start_time": "2023-07-08T05:57:36.980Z"
   },
   {
    "duration": 2425,
    "start_time": "2023-07-08T05:57:39.025Z"
   },
   {
    "duration": 38,
    "start_time": "2023-07-08T05:57:41.453Z"
   },
   {
    "duration": 374,
    "start_time": "2023-07-08T05:57:43.972Z"
   },
   {
    "duration": 3119,
    "start_time": "2023-07-08T05:57:44.348Z"
   },
   {
    "duration": 11,
    "start_time": "2023-07-08T05:57:47.470Z"
   },
   {
    "duration": 30,
    "start_time": "2023-07-08T05:57:47.483Z"
   },
   {
    "duration": 212,
    "start_time": "2023-07-08T05:57:47.514Z"
   },
   {
    "duration": 159,
    "start_time": "2023-07-08T05:57:47.727Z"
   },
   {
    "duration": 18,
    "start_time": "2023-07-08T05:57:47.888Z"
   },
   {
    "duration": 136,
    "start_time": "2023-07-08T05:57:48.302Z"
   },
   {
    "duration": 620,
    "start_time": "2023-07-08T05:57:49.603Z"
   },
   {
    "duration": 7964,
    "start_time": "2023-07-08T05:57:52.975Z"
   },
   {
    "duration": 86,
    "start_time": "2023-07-08T05:58:00.942Z"
   },
   {
    "duration": 63,
    "start_time": "2023-07-08T05:59:00.873Z"
   },
   {
    "duration": 67,
    "start_time": "2023-07-08T05:59:36.737Z"
   },
   {
    "duration": 2,
    "start_time": "2023-07-08T06:01:24.717Z"
   },
   {
    "duration": 83,
    "start_time": "2023-07-08T06:01:25.566Z"
   },
   {
    "duration": 551,
    "start_time": "2023-07-08T06:01:37.114Z"
   },
   {
    "duration": 443,
    "start_time": "2023-07-08T06:01:50.955Z"
   },
   {
    "duration": 527,
    "start_time": "2023-07-08T06:01:57.887Z"
   },
   {
    "duration": 457,
    "start_time": "2023-07-08T06:02:21.101Z"
   },
   {
    "duration": 473,
    "start_time": "2023-07-08T06:02:40.094Z"
   },
   {
    "duration": 66,
    "start_time": "2023-07-08T06:05:19.835Z"
   },
   {
    "duration": 65,
    "start_time": "2023-07-08T06:05:35.220Z"
   },
   {
    "duration": 95,
    "start_time": "2023-07-08T06:05:40.741Z"
   },
   {
    "duration": 74,
    "start_time": "2023-07-08T06:05:49.239Z"
   },
   {
    "duration": 20,
    "start_time": "2023-07-08T06:06:37.832Z"
   },
   {
    "duration": 522,
    "start_time": "2023-07-08T06:07:00.728Z"
   },
   {
    "duration": 416,
    "start_time": "2023-07-08T06:07:10.188Z"
   },
   {
    "duration": 417,
    "start_time": "2023-07-08T06:07:29.729Z"
   },
   {
    "duration": 469,
    "start_time": "2023-07-08T06:07:49.889Z"
   },
   {
    "duration": 443,
    "start_time": "2023-07-08T06:07:59.064Z"
   },
   {
    "duration": 69,
    "start_time": "2023-07-08T06:18:24.562Z"
   },
   {
    "duration": 19,
    "start_time": "2023-07-08T06:20:23.193Z"
   },
   {
    "duration": 61,
    "start_time": "2023-07-08T06:23:45.745Z"
   },
   {
    "duration": 29,
    "start_time": "2023-07-08T06:23:49.697Z"
   },
   {
    "duration": 4,
    "start_time": "2023-07-08T06:26:45.201Z"
   },
   {
    "duration": 7,
    "start_time": "2023-07-08T06:27:13.616Z"
   },
   {
    "duration": 28,
    "start_time": "2023-07-08T06:29:27.435Z"
   },
   {
    "duration": 19,
    "start_time": "2023-07-08T06:29:42.812Z"
   },
   {
    "duration": 20,
    "start_time": "2023-07-08T06:29:43.133Z"
   },
   {
    "duration": 5,
    "start_time": "2023-07-08T06:29:52.415Z"
   },
   {
    "duration": 4,
    "start_time": "2023-07-08T06:30:38.521Z"
   },
   {
    "duration": 4,
    "start_time": "2023-07-08T06:30:42.755Z"
   },
   {
    "duration": 84,
    "start_time": "2023-07-08T06:30:45.048Z"
   },
   {
    "duration": 95,
    "start_time": "2023-07-08T06:30:49.689Z"
   },
   {
    "duration": 7,
    "start_time": "2023-07-08T06:31:51.424Z"
   },
   {
    "duration": 5,
    "start_time": "2023-07-08T06:31:52.457Z"
   },
   {
    "duration": 28,
    "start_time": "2023-07-08T06:31:57.452Z"
   },
   {
    "duration": 12,
    "start_time": "2023-07-08T06:32:01.995Z"
   },
   {
    "duration": 25,
    "start_time": "2023-07-08T06:32:32.776Z"
   },
   {
    "duration": 207,
    "start_time": "2023-07-08T06:37:52.096Z"
   },
   {
    "duration": 22,
    "start_time": "2023-07-08T06:38:32.298Z"
   },
   {
    "duration": 25,
    "start_time": "2023-07-08T06:38:55.982Z"
   },
   {
    "duration": 21,
    "start_time": "2023-07-08T06:39:30.192Z"
   },
   {
    "duration": 21,
    "start_time": "2023-07-08T06:39:59.112Z"
   },
   {
    "duration": 20,
    "start_time": "2023-07-08T06:40:27.417Z"
   },
   {
    "duration": 19,
    "start_time": "2023-07-08T06:40:44.604Z"
   },
   {
    "duration": 201,
    "start_time": "2023-07-08T06:40:45.044Z"
   },
   {
    "duration": 19,
    "start_time": "2023-07-08T06:41:17.024Z"
   },
   {
    "duration": 78,
    "start_time": "2023-07-08T06:41:21.159Z"
   },
   {
    "duration": 25,
    "start_time": "2023-07-08T06:41:36.282Z"
   },
   {
    "duration": 36,
    "start_time": "2023-07-08T06:41:56.645Z"
   },
   {
    "duration": 4,
    "start_time": "2023-07-08T07:38:47.549Z"
   },
   {
    "duration": 306,
    "start_time": "2023-07-08T07:38:51.402Z"
   },
   {
    "duration": 745,
    "start_time": "2023-07-08T07:38:51.738Z"
   },
   {
    "duration": 15,
    "start_time": "2023-07-08T07:38:54.604Z"
   },
   {
    "duration": 32,
    "start_time": "2023-07-08T07:38:54.955Z"
   },
   {
    "duration": 216,
    "start_time": "2023-07-08T07:38:55.116Z"
   },
   {
    "duration": 156,
    "start_time": "2023-07-08T07:38:55.658Z"
   },
   {
    "duration": 4,
    "start_time": "2023-07-08T07:38:55.837Z"
   },
   {
    "duration": 6,
    "start_time": "2023-07-08T07:38:56.324Z"
   },
   {
    "duration": 42,
    "start_time": "2023-07-08T07:38:57.635Z"
   },
   {
    "duration": 831,
    "start_time": "2023-07-08T07:39:04.652Z"
   },
   {
    "duration": 475,
    "start_time": "2023-07-08T07:39:36.239Z"
   },
   {
    "duration": 8277,
    "start_time": "2023-07-08T07:39:40.471Z"
   },
   {
    "duration": 560777,
    "start_time": "2023-07-08T07:39:57.599Z"
   },
   {
    "duration": 49,
    "start_time": "2023-07-08T07:49:18.381Z"
   },
   {
    "duration": 18,
    "start_time": "2023-07-08T07:54:14.682Z"
   },
   {
    "duration": 568985,
    "start_time": "2023-07-08T07:55:41.642Z"
   },
   {
    "duration": 11,
    "start_time": "2023-07-08T08:06:03.994Z"
   },
   {
    "duration": 6,
    "start_time": "2023-07-08T08:07:24.824Z"
   },
   {
    "duration": 7,
    "start_time": "2023-07-08T08:07:44.764Z"
   },
   {
    "duration": 616,
    "start_time": "2023-07-08T08:07:49.710Z"
   },
   {
    "duration": 589,
    "start_time": "2023-07-08T08:08:16.459Z"
   },
   {
    "duration": 6328,
    "start_time": "2023-07-08T08:08:17.634Z"
   },
   {
    "duration": 1012,
    "start_time": "2023-07-08T08:10:49.688Z"
   },
   {
    "duration": 72230,
    "start_time": "2023-07-08T08:11:30.580Z"
   },
   {
    "duration": 4516,
    "start_time": "2023-07-08T08:12:42.813Z"
   },
   {
    "duration": 5722,
    "start_time": "2023-07-08T08:13:51.784Z"
   },
   {
    "duration": 4471,
    "start_time": "2023-07-08T08:14:05.057Z"
   },
   {
    "duration": 653,
    "start_time": "2023-07-08T08:14:12.713Z"
   },
   {
    "duration": 27311,
    "start_time": "2023-07-08T08:51:58.128Z"
   },
   {
    "duration": 3,
    "start_time": "2023-07-08T08:52:25.441Z"
   },
   {
    "duration": 77,
    "start_time": "2023-07-08T08:52:25.445Z"
   },
   {
    "duration": 69449,
    "start_time": "2023-07-08T08:52:25.525Z"
   },
   {
    "duration": 112962,
    "start_time": "2023-07-08T08:53:34.976Z"
   },
   {
    "duration": 2123,
    "start_time": "2023-07-08T08:55:41.937Z"
   },
   {
    "duration": 2425,
    "start_time": "2023-07-08T08:55:44.063Z"
   },
   {
    "duration": 2830,
    "start_time": "2023-07-08T08:55:46.489Z"
   },
   {
    "duration": 208,
    "start_time": "2023-07-08T08:55:49.321Z"
   },
   {
    "duration": 855,
    "start_time": "2023-07-08T08:55:49.531Z"
   },
   {
    "duration": 14,
    "start_time": "2023-07-08T08:55:50.387Z"
   },
   {
    "duration": 33,
    "start_time": "2023-07-08T08:55:50.403Z"
   },
   {
    "duration": 244,
    "start_time": "2023-07-08T08:55:50.437Z"
   },
   {
    "duration": 220,
    "start_time": "2023-07-08T08:55:50.683Z"
   },
   {
    "duration": 10,
    "start_time": "2023-07-08T08:55:50.905Z"
   },
   {
    "duration": 21,
    "start_time": "2023-07-08T08:55:50.916Z"
   },
   {
    "duration": 180,
    "start_time": "2023-07-08T08:55:50.938Z"
   },
   {
    "duration": 5486,
    "start_time": "2023-07-08T08:55:51.119Z"
   },
   {
    "duration": 0,
    "start_time": "2023-07-08T08:55:56.608Z"
   },
   {
    "duration": 0,
    "start_time": "2023-07-08T08:55:56.610Z"
   },
   {
    "duration": 0,
    "start_time": "2023-07-08T08:55:56.611Z"
   },
   {
    "duration": 0,
    "start_time": "2023-07-08T08:55:56.613Z"
   },
   {
    "duration": 1,
    "start_time": "2023-07-08T08:55:56.614Z"
   },
   {
    "duration": 0,
    "start_time": "2023-07-08T08:55:56.616Z"
   },
   {
    "duration": 0,
    "start_time": "2023-07-08T08:55:56.617Z"
   },
   {
    "duration": 0,
    "start_time": "2023-07-08T08:55:56.619Z"
   },
   {
    "duration": 0,
    "start_time": "2023-07-08T08:55:56.620Z"
   },
   {
    "duration": 0,
    "start_time": "2023-07-08T08:55:56.622Z"
   },
   {
    "duration": 0,
    "start_time": "2023-07-08T08:55:56.623Z"
   },
   {
    "duration": 2406,
    "start_time": "2023-07-08T08:56:27.156Z"
   },
   {
    "duration": 3072,
    "start_time": "2023-07-08T08:56:29.564Z"
   },
   {
    "duration": 213,
    "start_time": "2023-07-08T08:56:32.637Z"
   },
   {
    "duration": 846,
    "start_time": "2023-07-08T08:56:32.852Z"
   },
   {
    "duration": 13,
    "start_time": "2023-07-08T08:56:33.700Z"
   },
   {
    "duration": 32,
    "start_time": "2023-07-08T08:56:33.715Z"
   },
   {
    "duration": 255,
    "start_time": "2023-07-08T08:56:33.749Z"
   },
   {
    "duration": 283,
    "start_time": "2023-07-08T08:56:34.006Z"
   },
   {
    "duration": 10,
    "start_time": "2023-07-08T08:56:34.291Z"
   },
   {
    "duration": 24,
    "start_time": "2023-07-08T08:56:34.303Z"
   },
   {
    "duration": 184,
    "start_time": "2023-07-08T08:56:34.329Z"
   },
   {
    "duration": 501388,
    "start_time": "2023-07-08T08:56:34.515Z"
   },
   {
    "duration": 27469,
    "start_time": "2023-07-08T09:04:55.905Z"
   },
   {
    "duration": 3,
    "start_time": "2023-07-08T09:05:23.376Z"
   },
   {
    "duration": 66,
    "start_time": "2023-07-08T09:05:23.381Z"
   },
   {
    "duration": 70521,
    "start_time": "2023-07-08T09:05:23.450Z"
   },
   {
    "duration": 1352896,
    "start_time": "2023-07-08T09:06:33.973Z"
   },
   {
    "duration": 136103,
    "start_time": "2023-07-08T09:29:06.871Z"
   },
   {
    "duration": 41280,
    "start_time": "2023-07-08T09:31:23.067Z"
   },
   {
    "duration": 31131,
    "start_time": "2023-07-08T14:46:33.808Z"
   },
   {
    "duration": 8208,
    "start_time": "2023-07-08T14:47:04.942Z"
   },
   {
    "duration": 25,
    "start_time": "2023-07-08T14:47:58.538Z"
   },
   {
    "duration": 34,
    "start_time": "2023-07-08T14:48:06.241Z"
   },
   {
    "duration": 1214,
    "start_time": "2023-07-08T14:48:13.470Z"
   },
   {
    "duration": 2915,
    "start_time": "2023-07-08T14:48:17.811Z"
   },
   {
    "duration": 30,
    "start_time": "2023-07-08T14:48:20.729Z"
   },
   {
    "duration": 49,
    "start_time": "2023-07-08T14:48:21.651Z"
   },
   {
    "duration": 295,
    "start_time": "2023-07-08T14:48:22.605Z"
   },
   {
    "duration": 301,
    "start_time": "2023-07-08T14:48:25.808Z"
   },
   {
    "duration": 92,
    "start_time": "2023-07-08T14:48:26.725Z"
   },
   {
    "duration": 24,
    "start_time": "2023-07-08T14:48:29.923Z"
   },
   {
    "duration": 274,
    "start_time": "2023-07-08T14:48:31.304Z"
   },
   {
    "duration": 726527,
    "start_time": "2023-07-08T14:50:29.404Z"
   },
   {
    "duration": 8,
    "start_time": "2023-07-08T15:12:54.306Z"
   },
   {
    "duration": 41395,
    "start_time": "2023-07-08T15:13:02.998Z"
   },
   {
    "duration": 4,
    "start_time": "2023-07-08T15:13:44.398Z"
   },
   {
    "duration": 285,
    "start_time": "2023-07-08T15:13:44.404Z"
   },
   {
    "duration": 77706,
    "start_time": "2023-07-08T15:14:12.957Z"
   },
   {
    "duration": 1911724,
    "start_time": "2023-07-08T15:15:30.665Z"
   },
   {
    "duration": 1857,
    "start_time": "2023-07-08T17:29:53.299Z"
   },
   {
    "duration": 14752,
    "start_time": "2023-07-08T22:12:02.184Z"
   }
  ],
  "kernelspec": {
   "display_name": "Python 3 (ipykernel)",
   "language": "python",
   "name": "python3"
  },
  "language_info": {
   "codemirror_mode": {
    "name": "ipython",
    "version": 3
   },
   "file_extension": ".py",
   "mimetype": "text/x-python",
   "name": "python",
   "nbconvert_exporter": "python",
   "pygments_lexer": "ipython3",
   "version": "3.9.16"
  },
  "toc": {
   "base_numbering": 1,
   "nav_menu": {},
   "number_sections": true,
   "sideBar": true,
   "skip_h1_title": true,
   "title_cell": "Содержание",
   "title_sidebar": "Contents",
   "toc_cell": true,
   "toc_position": {
    "height": "calc(100% - 180px)",
    "left": "10px",
    "top": "150px",
    "width": "302.391px"
   },
   "toc_section_display": true,
   "toc_window_display": true
  }
 },
 "nbformat": 4,
 "nbformat_minor": 2
}
